{
 "cells": [
  {
   "cell_type": "markdown",
   "id": "a6b80f1b",
   "metadata": {
    "id": "a6b80f1b"
   },
   "source": [
    "Variable:\n",
    "- Qualitative (categorical, no arithmetic operations)\n",
    "    - Nominal\n",
    "    - Ordinal\n",
    "- Quantitative\n",
    "    - Discrete\n",
    "    - Continuous"
   ]
  },
  {
   "attachments": {
    "image-2.png": {
     "image/png": "[encoded data removed]"
    },
    "image.png": {
     "image/png": "[encoded data removed]"
    }
   },
   "cell_type": "markdown",
   "id": "8561db50",
   "metadata": {
    "id": "8561db50"
   },
   "source": [
    "Descriptive dta measures\n",
    "- Measure of Central Tendency\n",
    "    - Mean\n",
    "    - Median\n",
    "    - Mode\n",
    "- Measure of Dispersion\n",
    "    - Variance: average of squared differences fromt he mean\n",
    "    - Standard Deviation: Quantity expressing by how much each datapoint differs from the mean\n",
    "        - sqrt of variance\n",
    "    - Range: Max(X)- Min(X)\n",
    "        - X is a numeric variable\n",
    "    - Quartiles\n",
    "        - First Quartile (Q1): smallest 25% values of the whole dataset\n",
    "        - Second Quartile (Q2): (Median): divides 50% of values <= median\n",
    "        - Third Quartile (Q3): divides the smallest 75% of the values\n",
    "    - IQR (Inter Quartile Range)\n",
    "        - IQR = Q3 - Q1\n",
    "    - Coefficient of variation:\n",
    "        - irrespective of scale, compare distributions w.r.t their stddevs\n",
    "        - CV = (stddev/samplemean) * 100\n",
    "        - CV larger => variablity of distribution is large\n",
    "    - Z-score\n",
    "        - z = (x-samplemean)/stddev\n",
    "        - z = 0 => datapoint is mean\n",
    "        - +ve or -ve z score => tells if values are above or below the mean\n",
    "        - magnitude of z-score => tells how many stddevs is the value, away from the mean\n",
    "- Five poit summary\n",
    "    - Minimum, Q1, Q2, Q3, Maximum\n",
    "    - Boxplot            \n",
    "    - Outliers:\n",
    "        - points beyond whiskers/fences may or maynot be outliers\n",
    "        - The rule that box plot follows to decide what should be an outlier is that \"any point greater than Q3 + 1.5IQR or lesser than Q1 - 1.5IQR is an outlier \"\n",
    "- Shape of distribution\n",
    "    - Skewness\n",
    "        - left skewed: -ve skewed: mean < median\n",
    "        - zero skewed: symmetric distribution: mean = median\n",
    "        - right skewed: +ve skewed: mean > median\n",
    "- Covariance\n",
    "    - how two variables change together\n",
    "    - cov(x,y)\n",
    "      ![image.png](attachment:image.png)\n",
    "    - +ve (x increase, y increase) or -ve (x increase, y decrease) is determined\n",
    "    - strength of relation is not determined\n",
    "    - dependent of scale\n",
    "- Coefficient of Correlation\n",
    "    - determine direction and strength of relationship (linear)\n",
    "      ![image-2.png](attachment:image-2.png)\n",
    "    - range: -1 to +1\n",
    "        - -1, +1 => strong -ve and +ve correlation\n",
    "            - 0 => no linear relation\n",
    "    - NOTE: Correlation doesnot imply Causation    "
   ]
  },
  {
   "cell_type": "markdown",
   "id": "b2b9e0cb",
   "metadata": {
    "id": "b2b9e0cb"
   },
   "source": [
    "### Handy functions for EDA"
   ]
  },
  {
   "cell_type": "markdown",
   "id": "02e3dc3b",
   "metadata": {
    "id": "02e3dc3b"
   },
   "source": [
    "Libraries:\n",
    "- import numpy as np\n",
    "- import pandas as pd\n",
    "- import matplotlib.pyplot as plt\n",
    "- import seaborn as sns\n",
    "- import warnings\n",
    "- warnings.filterwarnings(\"ignore\")\n",
    "- from PIL import Image\n",
    "- from scipy import stats\n",
    "\n",
    "\n",
    "Importing Data:\n",
    "- pd.read_csv(file_name): Read from a CSV file\n",
    "- pd.read_excel(file_name): Read from an Excel file\n",
    "- pd.read_sql(sql_query, connection_object): Read from a database\n",
    "- pd.read_json(\"string, url or file\"): Read from a JSON string, URL, or file\n",
    "- pd.read_html(URL): Read from a URL or a file\n",
    "\n",
    "Data Exploration:\n",
    "- df.info(): Provides information about datatype, shape, and memory usage\n",
    "- df.describe(): Provides statistical summary (count, mean, min, max, std, quantiles)\n",
    "- df.shape: Returns the shape of the dataset (rows, columns)\n",
    "- df.head(): Prints the top 5 rows of the dataset\n",
    "- df.tail(): Prints the last 5 rows of the dataset\n",
    "- df.col.value_counts(): Returns count of unique classes in a column\n",
    "- df.count(): Returns total number of observations in each column\n",
    "- df.col.unique(): Returns unique classes in the column\n",
    "- df.col.nunique(): number of unique classes\n",
    "- concatenated_df = pd.concat([df1, df2], axis=1): column wise\n",
    "- merged_df = df1.merge(df2, on='common_column', how='inner')  # 'inner','outer','left','right'\n",
    "- result_df = df1.join(df2, on='common_column', how='inner')  # prefer when join on indices\n",
    "- cross_tab = pd.crosstab(df['catcol1'], df['catcol2'])\n",
    "- pivot_table = df.pivot(index='index_column', columns='columns_to_pivot',values='values_column')\n",
    "- melted_df = pd.melt(df, id_vars=['id_columns'], value_vars=['value_columns'])\n",
    "\n",
    "Filter Data:\n",
    "- df.loc[condition]: Returns rows based on one condition\n",
    "- df[(condition) & (condition)]: Returns rows based on two conditions (AND)\n",
    "- df[(condition) | (condition)]: Returns rows based on two conditions (OR)\n",
    "- df.loc[(condition) & (condition)]: Returns rows based on two conditions using loc\n",
    "- df.loc[(condition) | (condition)]: Returns rows based on two conditions using loc\n",
    "\n",
    "Renaming Columns and Indices:\n",
    "- df.columns = ['Column 1', 'Column 2', ...]: Rename columns using a list\n",
    "- df.rename(columns={'old_name': 'new_name'}): Rename columns using rename function\n",
    "- df.rename(index={'old_name': 'new_name'}): Rename indices using rename function\n",
    "- df.set_index(\"col\"): Set a column as indices\n",
    "\n",
    "Statistical Functions:\n",
    "- df.mean(): Find the mean of every column\n",
    "- df.median(): Find the median of every column\n",
    "- df.column_name.mode(): Find the mode of a column\n",
    "- df.max(): Find the max value from a column\n",
    "- df.min(): Find the min value from a column\n",
    "- df.std(): Find the standard deviation of each column\n",
    "- df.var(): Find the variance of each column\n",
    "- df.cov(): Create a covariance matrix (how two variables change together)\n",
    "- df.corr(): Create a correlation table\n",
    "- df.quantile(q=0.25): find the value below which 25% of the data lies\n",
    "- df.quantile(q=0.50): find the value below which 50% of the data lies\n",
    "- df.quantile(q=0.75): find the value below which 75% of the data lies\n",
    "- if two modes: first mode is determined by indexing\n",
    "- IQR: df.col1.quantile(q=0.75) - df.col1.quantile(q=0.25)\n",
    "- Range: df.max() - df.min()\n",
    "- Skewness: df.skew()\n",
    "\n",
    "Sort and Group By:\n",
    "- df.sort_values(col, ascending): Sort the dataframe based on a column\n",
    "- df.groupby(column_name): Group a dataframe by a column name\n",
    "- df.groupby([column_1, column_2, ...]): Group a dataframe by multiple column names\n",
    "- df.groupby(column_1)[column_2].mean(): Find the mean of a column from the group\n",
    "- df.groupby(column_1).agg(np.mean()): Find the mean of all columns from the group\n",
    "\n",
    "Null Value Analysis and Data Cleaning:\n",
    "- df.isnull(): Returns True where the value is null (only NaN)\n",
    "- df.isnull().sum(): Returns count of null values in each column\n",
    "- df.isnull().sum().sum(): Returns total count of null values in all columns\n",
    "- df.count(): Returns count of null and not null values in each column\n",
    "- df.isnull().any(): Returns True if col has atleast 1 null\n",
    "- df.isnull().all(): Returns True if all the values in the column ar enull\n",
    "- df.notnull(): Returns True where the value is not null\n",
    "- df.dropna(axis, thresh, inplace=True): Drops columns/rows with null values based on threshold\n",
    "- df.fillna(value): Fill null values with the passed value\n",
    "- df.col1.fillna(df.col1.mean(), inplace=True): Fill null values with the passed value\n",
    "- df.replace('old_value', 'new_value'): Replace a value with a new value\n",
    "- df.replace([old_1, old_2], [new_1, new_2]): Replace multiple values with new values\n",
    "- df.column_name.astype('data_type'): Change the data type of a column\n",
    "- df.drop(col, axis=1,inplace=True)\n",
    "\n",
    "Selecting Rows and Columns:\n",
    "- df.column_name: Select a column\n",
    "- df[\"column_name\"]: Select a column\n",
    "- df[[\"column_name_1\", \"column_name_2\", ...]]: Select multiple columns\n",
    "- df.iloc[ : , : ]: Extract selected rows and columns using indices\n",
    "- df.iloc[index_position]: Extract rows using index position\n",
    "- df.loc[index_value]: Extract rows using index value\n",
    "\n",
    "Write Data:\n",
    "- df.to_csv(file_name): Write data to a CSV file\n",
    "- df.to_excel(file_name): Write data to an Excel file\n",
    "- df.to_html(file_name): Write data to an HTML file\n",
    "- df.to_sql(table_name, connection_object): Write data to a table in a database\n",
    "- df.to_json(file_name): Write data to a JSON file\n",
    "\n",
    "Duplicates:\n",
    "- dup = df.duplicated(keep='first'): Find first occurring duplicates\n",
    "- sum(dup) => 0\n",
    "- df.drop_duplicates(keep, inplace): Drop duplicate rows\n",
    "\n",
    "Outliers:\n",
    "- Z-Score:\n",
    "    - z = np.abs(stats.zscore(df))\n",
    "    - outlier_indices = np.where(z > threshold) => outliers indices # threshold = 3\n",
    "    - outliers = df.iloc[outlier_indices]\n",
    "    - df.drop(df.index[outliers_indices])\n",
    "- IQR\n",
    "    - Q1 = df.quantile(0.25)\n",
    "    - Q3 = df.quantile(0.75)\n",
    "    - IQR = Q3 - Q1\n",
    "    - outlier_indices = np.where(((df < (Q1-1.5*IQR)) | (df > (Q3+1.5*IQR)).any(axis=1))\n",
    "    - outliers = df.iloc[outlier_indices]\n",
    "    - df.drop(df.index[outliers_indices])\n",
    "        \n",
    "Handling categorical data:\n",
    "- One hot encoding: (Nominal)\n",
    "    - encoded_df = pd.get_dummies(df, prefix='eg_park', columns=['catcol'])\n",
    "    - Or,\n",
    "    - from sklearn.preprocessing import OneHotEncoder\n",
    "    - hotencoder = OneHotEncoder()\n",
    "    - encoded = hotencoder.fit_transform(df[['catcol']].toarray()\n",
    "'\n",
    "- Label encoding: (Ordinal)\n",
    "    - from sklearn.preprocessing import LabelEncoder  \n",
    "    - labelencoder = LabelEncoder()\n",
    "    - df['catcol'] = labelencoder.fit_transform(df['catcol'])\n",
    "\n",
    "Normalization and Scaling:\n",
    "- from sklearn.preprocessing import StandardScaler\n",
    "- std_scale = StandardScaler()\n",
    "- df['col'] = std_scale.fit_transform(df[['col']]) # returns z-scores of the values of the attribute\n",
    "- And,\n",
    "- from sklearn.preprocessing import MinMaxScaler\n",
    "- minmax_scale = MinMaxScaler()\n",
    "- df['col'] = minmax_scale.fit_transform(df[['col']])\n",
    "\n",
    "Transformation:\n",
    "- from sklearn.preprocessing import FunctionTransformer   \n",
    "- log_transformer = FunctionTransformer(np.log) # Natural logarithm (logarithm with base e)\n",
    "- df['col'] = log_transformer.fit_transform(df[['col']])\n",
    "- And,\n",
    "- exp_transformer = FunctionTransformer(np.exp) # Exponential transform\n",
    "- df['col'] = exp_transformer.fit_transform(df[['col']])\n",
    "\n",
    "Plots:\n",
    "- Univariate:\n",
    "    - sns.distplot(df, hist=False)\n",
    "    - plt.hist(df, bins=50)\n",
    "    - sns.violinplot(df)\n",
    "    - Cummulative distribution:\n",
    "        - sns.distplot(data, hist_kws=dict(cumulative=True),kde_kws=dict(cumulative=True))\n",
    "- Multivariate:\n",
    "    - sns.pairplot(data=df, kind='reg')\n",
    "    - sns.scatterplot(df.col1, df.col2,  hue=df.col3)\n",
    "    - sns.heatmap(df.corr(), annot=True)\n",
    "- Bivariate:\n",
    "    - Num vs Num:\n",
    "        - scatter plot: plt.scatter(df['col1'], df['col2'])\n",
    "        - Line plot: plt.plot(df['col1'], df['col2'])\n",
    "        - Heat map for correlation: sns.heatmap(df.corr(), annot=True)\n",
    "        - Joint plot: sns.jointplot(x='col1', y='col2', data=df)\n",
    "    - Cat vs Num:\n",
    "        - Bar plot: sns.barplot(x='catcol', y='numcol', data=df)\n",
    "        - Violin plot: sns.violinplot(x='catcol', y='numcol', data=df)\n",
    "        - Categorical box plot: sns.boxplot(x='catcol', y='numcol', data=df)\n",
    "        - Swarm plot: sns.swarmplot(x='catcol', y='numcol', data=df)\n",
    "    - Cat vs Cat:\n",
    "        - Bar plot: sns.countplot(x='catcol1', hue='catcol2', data=df)\n",
    "        - Grouped bar plot: sns.barplot(x='catcol1', y='catcol2', data=df, hue='group_col')\n",
    "        - Point plot: sns.pointplot(x='catcol1', y='catcol2', data=df, hue='group_col')"
   ]
  },
  {
   "cell_type": "markdown",
   "id": "7aef4a1e",
   "metadata": {
    "id": "7aef4a1e"
   },
   "source": [
    "### Data Preparation"
   ]
  },
  {
   "cell_type": "markdown",
   "id": "80098d92",
   "metadata": {
    "id": "80098d92"
   },
   "source": [
    "- **Data Cleaning:**\n",
    "    - Identifying and correcting mistakes or errors in the data.\n",
    "- **Feature Selection:**\n",
    "    - Identifying those input variables that are most relevant to the task.\n",
    "- **Data Transforms:**\n",
    "    - Changing the scale or distribution of variables.\n",
    "- **Feature Engineering:**\n",
    "    - Deriving new variables from available data.\n",
    "- **Dimensionality Reduction:**\n",
    "    - Creating compact projections of the data."
   ]
  },
  {
   "cell_type": "markdown",
   "id": "63243b5b",
   "metadata": {
    "id": "63243b5b"
   },
   "source": [
    "Forms of input data:\n",
    "- image\n",
    "- time series\n",
    "- text\n",
    "- video, ...\n",
    "- **tabular data**\n",
    "  - most common format\n",
    "  - structured data\n",
    "  - in Excel or DB or in the CSV files (our focus)\n",
    "  - matrix form of data\n",
    "  - have **rows** (an example or an instance or a case or an observation)\n",
    "    - **train set** - used for training model\n",
    "    - **test set** - involves to evaluate model\n",
    "  - have **columns** (properties or variables or features or attributes)\n",
    "    - have **input variables** - used for training model\n",
    "    - have **output variables** - to be predicted by the model"
   ]
  },
  {
   "cell_type": "markdown",
   "id": "48f136cc",
   "metadata": {
    "id": "48f136cc"
   },
   "source": [
    "ML algos have requirements:\n",
    "- linear regression: Gaussian distribution\n",
    "- SVM, kNN, Random forests: require large training instances for better performance\n",
    "- Garbage in garbage out\n",
    "- Focus on data\n",
    "- Focus on model\n",
    "- 80% of Predictive modelling is data preparation"
   ]
  },
  {
   "cell_type": "markdown",
   "id": "6c23472f",
   "metadata": {
    "id": "6c23472f"
   },
   "source": [
    "Prevent data leakage\n",
    "- split dataset -> train, test\n",
    "- fit data preparation on train set\n",
    "    - data transforms\n",
    "    - feature selection\n",
    "    - dimensionality reduction\n",
    "    - feature engineering\n",
    "- apply data preparation on train and test set\n",
    "- evaluate models"
   ]
  },
  {
   "cell_type": "code",
   "execution_count": null,
   "id": "d04916b8",
   "metadata": {
    "id": "d04916b8"
   },
   "outputs": [],
   "source": [
    "from sklearn.datasets import make_classification\n",
    "from sklearn.model_selection import train_test_split\n",
    "from sklearn.preprocessing import MinMaxScaler\n",
    "from sklearn.linear_model import LogisticRegression\n",
    "from sklearn.metrics import accuracy_score\n",
    "\n",
    "# define dataset\n",
    "X, y = make_classification(n_samples=1000, n_features=20, n_informative=15, n_redundant=5,\n",
    "random_state=7)"
   ]
  },
  {
   "cell_type": "code",
   "execution_count": null,
   "id": "dd11df24",
   "metadata": {
    "id": "dd11df24",
    "outputId": "f1a05a3a-b761-4fe1-96ac-871975b3a399"
   },
   "outputs": [
    {
     "name": "stdout",
     "output_type": "stream",
     "text": [
      "Accuracy: 84.848\n"
     ]
    }
   ],
   "source": [
    "# normalizing the data before splitting the data and evaluating the model\n",
    "\n",
    "# standardize the dataset\n",
    "scaler = MinMaxScaler()\n",
    "X = scaler.fit_transform(X)\n",
    "\n",
    "# split into train and test sets\n",
    "X_train, X_test, y_train, y_test = train_test_split(X, y, test_size=0.33, random_state=1)\n",
    "\n",
    "# fit the model\n",
    "model = LogisticRegression()\n",
    "model.fit(X_train, y_train)\n",
    "\n",
    "# evaluate the model\n",
    "yhat = model.predict(X_test)\n",
    "\n",
    "# evaluate predictions\n",
    "accuracy = accuracy_score(y_test, yhat)\n",
    "print('Accuracy: %.3f' % (accuracy*100))"
   ]
  },
  {
   "cell_type": "code",
   "execution_count": null,
   "id": "e7785b7b",
   "metadata": {
    "id": "e7785b7b",
    "outputId": "9e112021-8092-4d47-f8f5-1cae561c770e"
   },
   "outputs": [
    {
     "name": "stdout",
     "output_type": "stream",
     "text": [
      "Accuracy: 85.455\n"
     ]
    }
   ],
   "source": [
    "# split into train and test sets\n",
    "X_train, X_test, y_train, y_test = train_test_split(X, y, test_size=0.33, random_state=1)\n",
    "\n",
    "# define the scaler\n",
    "scaler = MinMaxScaler()\n",
    "\n",
    "# fit on the training dataset\n",
    "scaler.fit(X_train)\n",
    "\n",
    "# scale the training dataset\n",
    "X_train = scaler.transform(X_train)\n",
    "\n",
    "# scale the test dataset\n",
    "X_test = scaler.transform(X_test)\n",
    "\n",
    "# fit the model\n",
    "model = LogisticRegression()\n",
    "model.fit(X_train, y_train)\n",
    "\n",
    "# evaluate the model\n",
    "yhat = model.predict(X_test)\n",
    "# evaluate predictions\n",
    "accuracy = accuracy_score(y_test, yhat)\n",
    "print('Accuracy: %.3f' % (accuracy*100))"
   ]
  },
  {
   "cell_type": "markdown",
   "id": "eacce46b",
   "metadata": {
    "id": "eacce46b"
   },
   "source": [
    "Avoid data leakage:\n",
    "1. Split into train and test sets\n",
    "2. Standardize\n",
    "    - fit scaler on train set\n",
    "    - transform train and test sets\n",
    "3. fit the model on trian set\n",
    "4. evaluate model on test set"
   ]
  },
  {
   "cell_type": "code",
   "execution_count": null,
   "id": "8420f185",
   "metadata": {
    "id": "8420f185"
   },
   "outputs": [],
   "source": [
    "# naive data preparation for model evaluation with k-fold cross-validation\n",
    "from numpy import mean\n",
    "from numpy import std\n",
    "from sklearn.datasets import make_classification\n",
    "from sklearn.model_selection import cross_val_score\n",
    "from sklearn.model_selection import RepeatedStratifiedKFold\n",
    "from sklearn.preprocessing import MinMaxScaler\n",
    "from sklearn.linear_model import LogisticRegression\n",
    "\n",
    "# define dataset\n",
    "X, y = make_classification(n_samples=1000,\n",
    "                           n_features=20,\n",
    "                           n_informative=15,\n",
    "                           n_redundant=5,\n",
    "                           random_state=7)"
   ]
  },
  {
   "cell_type": "code",
   "execution_count": null,
   "id": "e4f6907b",
   "metadata": {
    "id": "e4f6907b",
    "outputId": "f3c04ce7-51f0-4a0c-ae2d-eb4ee794f60d"
   },
   "outputs": [
    {
     "name": "stdout",
     "output_type": "stream",
     "text": [
      "Accuracy: 85.300 (3.607)\n"
     ]
    }
   ],
   "source": [
    "# standardize the dataset\n",
    "scaler = MinMaxScaler()\n",
    "X = scaler.fit_transform(X)\n",
    "\n",
    "# define the model\n",
    "model = LogisticRegression()\n",
    "\n",
    "# define the evaluation procedure\n",
    "cv = RepeatedStratifiedKFold(n_splits=10, n_repeats=3, random_state=1)\n",
    "\n",
    "# evaluate the model using cross-validation\n",
    "scores = cross_val_score(model, X, y, scoring='accuracy', cv=cv, n_jobs=-1)\n",
    "\n",
    "# report performance\n",
    "print('Accuracy: %.3f (%.3f)' % (mean(scores)*100, std(scores)*100))"
   ]
  },
  {
   "cell_type": "code",
   "execution_count": null,
   "id": "a933bdc1",
   "metadata": {
    "id": "a933bdc1",
    "outputId": "9c112b9c-d577-4d18-9151-fbb8c46f5152"
   },
   "outputs": [
    {
     "name": "stdout",
     "output_type": "stream",
     "text": [
      "Accuracy: 85.433 (3.471)\n"
     ]
    }
   ],
   "source": [
    "from sklearn.pipeline import Pipeline\n",
    "\n",
    "# define the pipeline\n",
    "steps = list()\n",
    "steps.append(('scaler', MinMaxScaler()))\n",
    "steps.append(('model', LogisticRegression()))\n",
    "\n",
    "pipeline = Pipeline(steps=steps)\n",
    "\n",
    "# define the evaluation procedure\n",
    "cv = RepeatedStratifiedKFold(n_splits=10, n_repeats=3, random_state=1)\n",
    "\n",
    "# evaluate the model using cross-validation\n",
    "scores = cross_val_score(pipeline, X, y, scoring='accuracy', cv=cv, n_jobs=-1)\n",
    "# report performance\n",
    "print('Accuracy: %.3f (%.3f)' % (mean(scores)*100, std(scores)*100))"
   ]
  },
  {
   "cell_type": "markdown",
   "id": "2a08f228",
   "metadata": {
    "id": "2a08f228"
   },
   "source": [
    "- In general, k-fold cross-validation is better than train-test split"
   ]
  },
  {
   "cell_type": "markdown",
   "id": "68ff942b",
   "metadata": {
    "id": "68ff942b"
   },
   "source": [
    "Data Cleaning:\n",
    "- delete column with single value\n",
    "    - to_del = [i for i,v in enumerate(df.nunique()) if v == 1]\n",
    "    - df.drop(to_del, axis=1, inplace=True)\n",
    "- delete duplicate rows\n",
    "    - to_del = df.duplicated()\n",
    "    - df.drop_duplicates(inplace=True)\n",
    "- outlier removal\n",
    "    - Standard deviation method: z-score\n",
    "        - lower = mean(data)-(std(data)*3)\n",
    "        - upper = mean(data)+(std(data)*3)\n",
    "        - outliers = [x for x in data if x < lower or x > upper]\n",
    "        - afterremovingoutliers = [x for x in data if x >= lower and x <= upper]\n",
    "    - IQR method:\n",
    "        - q25 = np.percentile(data,25)\n",
    "        - q75 = np.percentile(data,75)\n",
    "        - iqr = q75 - q25\n",
    "        - lower = q25 - 1.5*iqr\n",
    "        - upper = q75 + 1.5*iqr\n",
    "        - outliers = [x for x in data if x < lower or x > upper]\n",
    "        - afterremovingoutliers = [x for x in data if x >= lower and x <= upper]\n",
    "    - multi dim space outliers: LocalOPutlierFactor: based on distance from local neighbours\n",
    "        - marking\n",
    "            - normal : 1\n",
    "            - outlier : -1\n",
    "        - lof = LocalOutlierFactor() # sklearn.nighbors\n",
    "        - marking = lof.fit_predict(X_train)\n",
    "        - notoutliers = marking != -1\n",
    "        - train set without outliers\n",
    "            - X_train, y_train = X_train[notoutliers, :], y_train[notoutliers]\n",
    "- remove missing data\n",
    "    - garbage_values = ['garbage', 'unknown', 'NA', 'missing', '?', '-1', '0']\n",
    "    - df.replace(garbage_values,np.nan, inplace=True)\n",
    "    - df.isnull().sum()\n",
    "    - df.dropna(inplace=True)\n",
    "- imputing missing values\n",
    "    - SimpleImputer\n",
    "        - from sklearn.impute import SimpleImputer\n",
    "        - imputer = SimpleImputer(strategy='mean')\n",
    "        - imputer.fit(X)\n",
    "        - Xtrans = imputer.transform(X)\n",
    "    - KNN imputation\n",
    "        - from sklearn.impute import KNNImputer\n",
    "        - imputer = KNNImputer(n_neighbors=5, weights='uniform', metric='nan_euclidean) # default neighbors = 5\n",
    "        - imputer.fit(X)\n",
    "        - Xtrans = imputer.transform(X)\n",
    "    - IterativeImputer\n",
    "        - from sklearn.impute import IterativeImputer\n",
    "        - imputer = IterativeImputer() # repalce nan with iteratively estimated values\n",
    "        - imputer.fit(X)\n",
    "        - Xtrans = imputer.transform(X)"
   ]
  },
  {
   "cell_type": "markdown",
   "id": "5ccb94aa",
   "metadata": {
    "id": "5ccb94aa"
   },
   "source": [
    "Data transforms\n",
    "- Scale numeric data\n",
    "    - Normalization with MinMaxScaler()\n",
    "        - from sklearn.preprocessing import MinMaxScaler\n",
    "        - scaler = MinMaxScaler()\n",
    "        - scaler.fit(data)\n",
    "        - scaler.transform(data)\n",
    "        - Avoid data leakage:\n",
    "            - fit on train data\n",
    "            - transform on other data when required in the further process\n",
    "        - range: 0 to 1\n",
    "    - Standardization using StandardScaler()\n",
    "        - from sklearn.preprocessing import StandardScaler\n",
    "        - scaler = StandardScaler()\n",
    "        - scaled = scaler.fit_transform(data)\n",
    "        - range: -3 to +3 (approx)\n",
    "            - preferred for models using GD algos\n",
    "            - donot prefer if the data has too large outliers\n",
    "    - Scale data with outliers\n",
    "        - RobustScaler class\n",
    "        - (x - median)/(p75 - p25)\n",
    "        - trans = RobustScaler()\n",
    "        - data = trans.fit_transform(data)\n",
    "            - median => 0, stddev => ~1\n",
    "- Encode Categorical data\n",
    "    - Ordinal Encoding\n",
    "        - from sklearn.preprocessing import OrdinalEncoder\n",
    "        - ordinal = OrdinalEncoder()\n",
    "        - ordinal.fit(X_train)\n",
    "        - X_train = ordinal.transform(X_train)\n",
    "        - X_test = ordinal.transform(X_test)\n",
    "        - expects data in matrix form\n",
    "        - ordinal data\n",
    "            - user defined or context-specific order-to-value mapping\n",
    "    - Label Encoder\n",
    "        - from sklearn.preprocessing import LabelEncoder\n",
    "        - expects data in 1-d format\n",
    "        - label_encoder = LabelEncoder()\n",
    "        - label_encoder.fit(y_train.astype('str'))\n",
    "        - y_train = label_encoder.transform(y_train)\n",
    "        - y_test = label_encoder.transform(y_test)\n",
    "        - ordinal data\n",
    "            - universally consistent order\n",
    "    - One Hot Encoding\n",
    "        - from sklearn.preprocessing import OneHotEncoder\n",
    "        - encoder = OneHotEncoder(drop='first', sparse=False)\n",
    "        - encoder.fit(X_train)\n",
    "        - X_train = encoder.transform(X_train)\n",
    "        - X_test = encoder.transform(X_test)\n",
    "        - nominal data\n",
    "    - Dummy vairable encoding\n",
    "        - encoded_df = pd.get_dummies(df, columns=['catcol'], prefix=['Cat'])\n",
    "- Numerical tranformations\n",
    "    - PowerTransformer\n",
    "        - make distribution more Gaussian\n",
    "        - for numerical variables\n",
    "        - remove skewness\n",
    "        - log, sqrt, inverse transforms\n",
    "        - box-cox transform\n",
    "        - yeo-johnson tranform\n",
    "            - from sklearn.preprocessing import PowerTransformer\n",
    "            - power = PowerTransformer(method='yeo-johnson', standardize=False)\n",
    "            - data_trans = power.fit_transform(data)\n",
    "    - QuantileTransformer\n",
    "        - any distribution -> normal or uniform\n",
    "        - from sklearn.preprocessing import QuantileTransformer\n",
    "        - quantile = QuantileTransformer(n_quantiles=100, output_distribution='normal')\n",
    "        - data_trans = quantile.fit_transform(data)\n",
    "        - And,\n",
    "        - quantile = QuantileTransformer() # uniform distribution by default\n",
    "        - data_trans = quantile.fit_transform(data)\n",
    "            - n_quantiles -> range(1,100), performance increases drastically until certain n_quantiles (ex: 10), later no much change is observed.\n",
    "            - choose that n_quantiles value for better performance of model\n",
    "- Numerical to categorical\n",
    "    - DiscretizationTranforms\n",
    "        - Uniform: each bin has same width\n",
    "        - Quantile: each bin has equal number of samples\n",
    "        - Clustered: clusters are identified and labelled respective groups\n",
    "        - KBinsDiscretizer\n",
    "            - strategy: uniform, quantile, kmeans\n",
    "            - n_bins: [flexible],[< all samples],[number of reasonable clusters]\n",
    "            - encode: ordinal or onehot (kmeans uses onehot)\n",
    "        - from sklearn.preprocessing import KBinsDiscretizer\n",
    "        - kbins = KBinsDiscretizer(n_bins=10, encode='ordinal', strategy='uniform') # bins = categories\n",
    "        - data_trans = kbins.fit_transform(data)\n",
    "        - And,\n",
    "        - trans = KBinsDiscretizer(n_bins=10, encode='ordinal', strategy='quantile')\n",
    "        - data = trans.fit_transform(data)\n",
    "- Polynomial Feature Transform\n",
    "    - from sklearn.preprocessing import PolynomialFeatures\n",
    "    - trans = PolynomialFeatures(degree=2) # const,a,b,a^2,ab,b^2\n",
    "    - data = trans.fit_transform(data)\n",
    "    - degree=1 => has no effect on number of features"
   ]
  },
  {
   "cell_type": "markdown",
   "id": "5417cd3b",
   "metadata": {
    "id": "5417cd3b"
   },
   "source": [
    "Advanced Transforms\n",
    "- ColumnTransformer\n",
    "    - ColumnTransformer is utilized to perform specific preprocessing operations on distinct groups of features (columns) within a dataset, streamlining the application of diverse transformations and enhancements to different types of data within a unified pipeline.\n"
   ]
  },
  {
   "cell_type": "markdown",
   "id": "a3f01831",
   "metadata": {
    "id": "a3f01831"
   },
   "source": [
    "**Example of applying a single data transform.**"
   ]
  },
  {
   "cell_type": "raw",
   "id": "de19daf5",
   "metadata": {
    "id": "de19daf5"
   },
   "source": [
    "# prepare transform\n",
    "scaler = MinMaxScaler()\n",
    "# fit transform on training data\n",
    "scaler.fit(train_X)\n",
    "# transform training data\n",
    "train_X = scaler.transform(train_X)"
   ]
  },
  {
   "cell_type": "markdown",
   "id": "2f2185bc",
   "metadata": {
    "id": "2f2185bc"
   },
   "source": [
    "**Example of applying a sequence of data transforms.**"
   ]
  },
  {
   "cell_type": "raw",
   "id": "01077ccf",
   "metadata": {
    "id": "01077ccf"
   },
   "source": [
    "# define pipeline\n",
    "pipeline = Pipeline(steps=[('i', SimpleImputer(strategy='median')), ('s', MinMaxScaler())])\n",
    "# transform training data\n",
    "train_X = scaler.fit_transform(train_X)"
   ]
  },
  {
   "cell_type": "markdown",
   "id": "04b665aa",
   "metadata": {
    "id": "04b665aa"
   },
   "source": [
    "**As a single Task on Full dataset: Use ColumnTransformer**\n",
    "1. impute numerical column missing values with median\n",
    "2. scale the numerical columns\n",
    "3. impute categorical column missing values with mode\n",
    "4. one hot encode the categories"
   ]
  },
  {
   "cell_type": "markdown",
   "id": "5a317999",
   "metadata": {
    "id": "5a317999"
   },
   "source": [
    "### How to use the ColumnTransformer"
   ]
  },
  {
   "cell_type": "markdown",
   "id": "4511a760",
   "metadata": {
    "id": "4511a760"
   },
   "source": [
    "- (Name, Object, Columns)"
   ]
  },
  {
   "cell_type": "markdown",
   "id": "d2052885",
   "metadata": {
    "id": "d2052885"
   },
   "source": [
    "**Example of applying ColumnTransformer to encode categorical variables.**"
   ]
  },
  {
   "cell_type": "raw",
   "id": "6e664f06",
   "metadata": {
    "id": "6e664f06"
   },
   "source": [
    "transformer = ColumnTransformer(transformers=[('cat', OneHotEncoder(), [0, 1])])"
   ]
  },
  {
   "cell_type": "markdown",
   "id": "c01faa05",
   "metadata": {
    "id": "c01faa05"
   },
   "source": [
    "**Example of applying ColumnTransformer - impute different columns in different ways**"
   ]
  },
  {
   "cell_type": "raw",
   "id": "b985da33",
   "metadata": {
    "id": "b985da33"
   },
   "source": [
    "t = [('num', SimpleImputer(strategy='median'), [0, 1]),\n",
    "     ('cat', SimpleImputer(strategy='most_frequent'), [2, 3])]\n",
    "\n",
    "transformer = ColumnTransformer(transformers=t)"
   ]
  },
  {
   "cell_type": "markdown",
   "id": "7ae0862a",
   "metadata": {
    "id": "7ae0862a"
   },
   "source": [
    "**Example of using the ColumnTransformer to only encode categorical variables and pass through the rest without dropping**"
   ]
  },
  {
   "cell_type": "raw",
   "id": "b7a8dad0",
   "metadata": {
    "id": "b7a8dad0"
   },
   "source": [
    "transformer = ColumnTransformer(transformers=[  ('cat', OneHotEncoder(), [2, 3])  ],\n",
    "                                remainder='passthrough') # columns 0 and 1 are not dropped"
   ]
  },
  {
   "cell_type": "markdown",
   "id": "dafcd96b",
   "metadata": {
    "id": "dafcd96b"
   },
   "source": [
    "**Example of configuring and using the ColumnTransformer for data transformation.**"
   ]
  },
  {
   "cell_type": "raw",
   "id": "182cc084",
   "metadata": {
    "id": "182cc084"
   },
   "source": [
    "transformer = ColumnTransformer(transformers=[('cat', OneHotEncoder(), [0, 1])])\n",
    "\n",
    "# transform training data\n",
    "train_X = transformer.fit_transform(train_X)"
   ]
  },
  {
   "cell_type": "markdown",
   "id": "51a7af7f",
   "metadata": {
    "id": "51a7af7f"
   },
   "source": [
    "**Example of configuring and using the ColumnTransformer during model evaluation.**"
   ]
  },
  {
   "cell_type": "raw",
   "id": "56e8dc2c",
   "metadata": {
    "id": "56e8dc2c"
   },
   "source": [
    "# define model\n",
    "model = LogisticRegression()\n",
    "\n",
    "# define transform\n",
    "transformer = ColumnTransformer(transformers=[('cat', OneHotEncoder(), [0, 1])])\n",
    "\n",
    "# define pipeline\n",
    "pipeline = Pipeline(steps=[('t', transformer), ('m',model)])\n",
    "\n",
    "# fit the model on the transformed data\n",
    "model.fit(train_X, train_y)\n",
    "\n",
    "# make predictions\n",
    "yhat = model.predict(test_X)"
   ]
  },
  {
   "cell_type": "markdown",
   "id": "b8064199",
   "metadata": {
    "id": "b8064199"
   },
   "source": [
    "### Feature Selection"
   ]
  },
  {
   "attachments": {
    "image.png": {
     "image/png": "[encoded data removed]"
    }
   },
   "cell_type": "markdown",
   "id": "b02c5346",
   "metadata": {
    "id": "b02c5346"
   },
   "source": [
    "![image.png](attachment:image.png)"
   ]
  },
  {
   "cell_type": "markdown",
   "id": "f71b8d93",
   "metadata": {
    "id": "f71b8d93"
   },
   "source": [
    "Chi-squared test for feature selection when you have categorical input features and a categorical output (target) feature:"
   ]
  },
  {
   "cell_type": "raw",
   "id": "e77b015b",
   "metadata": {
    "id": "e77b015b"
   },
   "source": [
    "# feature selection\n",
    "def select_features(X_train, y_train, X_test):\n",
    "    fs = SelectKBest(score_func=chi2, k=4) # k: number of top features to select\n",
    "    fs.fit(X_train, y_train)\n",
    "    X_train_fs = fs.transform(X_train)\n",
    "    X_test_fs = fs.transform(X_test)\n",
    "    return X_train_fs, X_test_fs, fs\n",
    "\n",
    "X_train.shape, X_test.shape => n columns\n",
    "X_train_enc.shape, X_test_enc.shape => n columns\n",
    "X_train_fs, X_test_fs, fs = select_features(X_train_enc, y_train_enc, X_test_enc)\n",
    "X_train_fs.shape, X_test_fs.shape => top 4 features associated strongly with target are selected"
   ]
  },
  {
   "cell_type": "markdown",
   "id": "e2c6db57",
   "metadata": {
    "id": "e2c6db57"
   },
   "source": [
    "ANOVA F-test for feature selection when you have numerical input features and a categorical output (target) feature:"
   ]
  },
  {
   "cell_type": "raw",
   "id": "bb467700",
   "metadata": {
    "id": "bb467700"
   },
   "source": [
    "from sklearn.feature_selection import SelectKBest, f_classif\n",
    "\n",
    "def select_features_anova(X_train, y_train, X_test, k=4):\n",
    "    fs = SelectKBest(score_func=f_classif, k=k)  # k: number of top features to select\n",
    "    fs.fit(X_train, y_train)\n",
    "    X_train_fs = fs.transform(X_train)\n",
    "    X_test_fs = fs.transform(X_test)\n",
    "    return X_train_fs, X_test_fs, fs\n",
    "\n",
    "X_train_num.shape, X_test_num.shape => (n_samples, n_features)\n",
    "X_train_fs, X_test_fs, fs = select_features_anova(X_train_num, y_train_cat, X_test_num, k=4)\n",
    "X_train_fs.shape, X_test_fs.shape => (n_samples, 4)"
   ]
  },
  {
   "cell_type": "markdown",
   "id": "102b63b2",
   "metadata": {
    "id": "102b63b2"
   },
   "source": [
    "ANOVA F-test for feature selection when you have categorical input features and a numerical output (target) feature:"
   ]
  },
  {
   "cell_type": "raw",
   "id": "8d95bb18",
   "metadata": {
    "id": "8d95bb18"
   },
   "source": [
    "from sklearn.feature_selection import SelectKBest, f_regression\n",
    "\n",
    "def select_features_anova_categorical(X_train, y_train, X_test, k=4):\n",
    "    fs = SelectKBest(score_func=f_regression, k=k)  # k: number of top features to select\n",
    "    fs.fit(X_train, y_train)\n",
    "    X_train_fs = fs.transform(X_train)\n",
    "    X_test_fs = fs.transform(X_test)\n",
    "    return X_train_fs, X_test_fs, fs\n",
    "\n",
    "X_train_cat.shape, X_test_cat.shape => (n_samples, n_features)\n",
    "X_train_fs, X_test_fs, fs = select_features_anova_categorical(X_train_cat, y_train_num, X_test_cat, k=4)\n",
    "X_train_fs.shape, X_test_fs.shape => (n_samples, 4)"
   ]
  }
 ],
 "metadata": {
  "colab": {
   "provenance": []
  },
  "kernelspec": {
   "display_name": "Python 3 (ipykernel)",
   "language": "python",
   "name": "python3"
  },
  "language_info": {
   "codemirror_mode": {
    "name": "ipython",
    "version": 3
   },
   "file_extension": ".py",
   "mimetype": "text/x-python",
   "name": "python",
   "nbconvert_exporter": "python",
   "pygments_lexer": "ipython3",
   "version": "3.9.16"
  }
 },
 "nbformat": 4,
 "nbformat_minor": 5
}
