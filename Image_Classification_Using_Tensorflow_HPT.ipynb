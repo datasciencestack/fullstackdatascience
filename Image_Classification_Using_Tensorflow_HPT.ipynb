{
  "cells": [
    {
      "cell_type": "code",
      "execution_count": 2,
      "id": "9a53b040",
      "metadata": {
        "id": "9a53b040",
        "colab": {
          "base_uri": "https://localhost:8080/"
        },
        "outputId": "2485cdf2-ef98-47bc-8529-964058757428"
      },
      "outputs": [
        {
          "output_type": "stream",
          "name": "stdout",
          "text": [
            "\u001b[?25l     \u001b[90m━━━━━━━━━━━━━━━━━━━━━━━━━━━━━━━━━━━━━━━━\u001b[0m \u001b[32m0.0/176.1 kB\u001b[0m \u001b[31m?\u001b[0m eta \u001b[36m-:--:--\u001b[0m\r\u001b[2K     \u001b[91m━━\u001b[0m\u001b[90m╺\u001b[0m\u001b[90m━━━━━━━━━━━━━━━━━━━━━━━━━━━━━━━━━━━━━\u001b[0m \u001b[32m10.2/176.1 kB\u001b[0m \u001b[31m?\u001b[0m eta \u001b[36m-:--:--\u001b[0m\r\u001b[2K     \u001b[91m━━\u001b[0m\u001b[90m╺\u001b[0m\u001b[90m━━━━━━━━━━━━━━━━━━━━━━━━━━━━━━━━━━━━━\u001b[0m \u001b[32m10.2/176.1 kB\u001b[0m \u001b[31m?\u001b[0m eta \u001b[36m-:--:--\u001b[0m\r\u001b[2K     \u001b[91m━━━━━━━━\u001b[0m\u001b[91m╸\u001b[0m\u001b[90m━━━━━━━━━━━━━━━━━━━━━━━━━━━━━\u001b[0m \u001b[32m41.0/176.1 kB\u001b[0m \u001b[31m352.4 kB/s\u001b[0m eta \u001b[36m0:00:01\u001b[0m\r\u001b[2K     \u001b[91m━━━━━━━━━━━━━━━━━━━━━━━━━━━━━━━━━━━━━━\u001b[0m\u001b[91m╸\u001b[0m \u001b[32m174.1/176.1 kB\u001b[0m \u001b[31m1.2 MB/s\u001b[0m eta \u001b[36m0:00:01\u001b[0m\r\u001b[2K     \u001b[90m━━━━━━━━━━━━━━━━━━━━━━━━━━━━━━━━━━━━━━━\u001b[0m \u001b[32m176.1/176.1 kB\u001b[0m \u001b[31m1.1 MB/s\u001b[0m eta \u001b[36m0:00:00\u001b[0m\n",
            "\u001b[?25h"
          ]
        }
      ],
      "source": [
        "! pip install -q -U keras-tuner"
      ]
    },
    {
      "cell_type": "code",
      "execution_count": 3,
      "id": "7db98977",
      "metadata": {
        "id": "7db98977"
      },
      "outputs": [],
      "source": [
        "import tensorflow as tf\n",
        "from tensorflow import keras\n",
        "import keras_tuner as kt"
      ]
    },
    {
      "cell_type": "code",
      "execution_count": 26,
      "id": "b6ecba0e",
      "metadata": {
        "id": "b6ecba0e"
      },
      "outputs": [],
      "source": [
        "import numpy as np\n",
        "import pandas as pd\n",
        "import matplotlib.pyplot as plt"
      ]
    },
    {
      "cell_type": "code",
      "execution_count": 5,
      "id": "6bcbe2c4",
      "metadata": {
        "id": "6bcbe2c4"
      },
      "outputs": [],
      "source": [
        "fashion_mnist = keras.datasets.fashion_mnist"
      ]
    },
    {
      "cell_type": "code",
      "execution_count": 6,
      "id": "ab438ff7",
      "metadata": {
        "id": "ab438ff7",
        "colab": {
          "base_uri": "https://localhost:8080/"
        },
        "outputId": "af3c1c1c-000f-4d23-84c4-26f20527182d"
      },
      "outputs": [
        {
          "output_type": "stream",
          "name": "stdout",
          "text": [
            "Downloading data from https://storage.googleapis.com/tensorflow/tf-keras-datasets/train-labels-idx1-ubyte.gz\n",
            "29515/29515 [==============================] - 0s 0us/step\n",
            "Downloading data from https://storage.googleapis.com/tensorflow/tf-keras-datasets/train-images-idx3-ubyte.gz\n",
            "26421880/26421880 [==============================] - 0s 0us/step\n",
            "Downloading data from https://storage.googleapis.com/tensorflow/tf-keras-datasets/t10k-labels-idx1-ubyte.gz\n",
            "5148/5148 [==============================] - 0s 0us/step\n",
            "Downloading data from https://storage.googleapis.com/tensorflow/tf-keras-datasets/t10k-images-idx3-ubyte.gz\n",
            "4422102/4422102 [==============================] - 0s 0us/step\n"
          ]
        }
      ],
      "source": [
        "(train_im, train_la),(test_im,test_la) = fashion_mnist.load_data()"
      ]
    },
    {
      "cell_type": "code",
      "execution_count": 7,
      "id": "66697448",
      "metadata": {
        "colab": {
          "base_uri": "https://localhost:8080/"
        },
        "id": "66697448",
        "outputId": "a23db77b-b98d-413d-f408-540c6e804ceb"
      },
      "outputs": [
        {
          "output_type": "execute_result",
          "data": {
            "text/plain": [
              "(60000, 28, 28)"
            ]
          },
          "metadata": {},
          "execution_count": 7
        }
      ],
      "source": [
        "train_im.shape"
      ]
    },
    {
      "cell_type": "code",
      "execution_count": 8,
      "id": "1339b075",
      "metadata": {
        "colab": {
          "base_uri": "https://localhost:8080/"
        },
        "id": "1339b075",
        "outputId": "d2e3244d-a8ba-4899-83b5-ec1417687e43"
      },
      "outputs": [
        {
          "output_type": "execute_result",
          "data": {
            "text/plain": [
              "(10000, 28, 28)"
            ]
          },
          "metadata": {},
          "execution_count": 8
        }
      ],
      "source": [
        "test_im.shape"
      ]
    },
    {
      "cell_type": "code",
      "execution_count": 9,
      "id": "e496fc5d",
      "metadata": {
        "id": "e496fc5d"
      },
      "outputs": [],
      "source": [
        "class_names = ['T-shirt','Trouser','Pullover','Dress','Coat','Sandal','Shirt','Sneaker','Bag','Ankle Boat']"
      ]
    },
    {
      "cell_type": "code",
      "execution_count": 10,
      "id": "a5562c3a",
      "metadata": {
        "colab": {
          "base_uri": "https://localhost:8080/",
          "height": 447
        },
        "id": "a5562c3a",
        "outputId": "2b92b305-23d2-47ec-b791-bb83b0e10aea"
      },
      "outputs": [
        {
          "output_type": "execute_result",
          "data": {
            "text/plain": [
              "<matplotlib.colorbar.Colorbar at 0x7b046468f8e0>"
            ]
          },
          "metadata": {},
          "execution_count": 10
        },
        {
          "output_type": "display_data",
          "data": {
            "text/plain": [
              "<Figure size 640x480 with 2 Axes>"
            ],
            "image/png": "[encoded data removed]"
          },
          "metadata": {}
        }
      ],
      "source": [
        "plt.figure()\n",
        "plt.imshow(train_im[0])\n",
        "plt.colorbar()"
      ]
    },
    {
      "cell_type": "code",
      "execution_count": 11,
      "id": "0baad32a",
      "metadata": {
        "colab": {
          "base_uri": "https://localhost:8080/",
          "height": 826
        },
        "id": "0baad32a",
        "outputId": "1a1a5f62-50f0-4137-e1e4-12a3c278b2c2"
      },
      "outputs": [
        {
          "output_type": "display_data",
          "data": {
            "text/plain": [
              "<Figure size 1000x1000 with 25 Axes>"
            ],
            "image/png": "[encoded data removed]"
          },
          "metadata": {}
        }
      ],
      "source": [
        "plt.figure(figsize=(10,10))\n",
        "for i in range(25):\n",
        "    plt.subplot(5,5,i+1)\n",
        "    plt.xticks([])\n",
        "    plt.yticks([])\n",
        "    plt.grid(False)\n",
        "    plt.imshow(train_im[i],cmap=plt.cm.binary)\n",
        "    plt.xlabel(class_names[train_la[i]])"
      ]
    },
    {
      "cell_type": "code",
      "execution_count": 12,
      "id": "7e8b6da3",
      "metadata": {
        "id": "7e8b6da3"
      },
      "outputs": [],
      "source": [
        "model =keras.Sequential([\n",
        "    keras.layers.Flatten(input_shape = (28,28)),\n",
        "    keras.layers.Dense(512,activation = tf.nn.relu),\n",
        "    keras.layers.Dense(512,activation = tf.nn.relu),\n",
        "    keras.layers.Dropout(0.2),\n",
        "    keras.layers.Dense(10,activation = tf.nn.softmax)\n",
        "])"
      ]
    },
    {
      "cell_type": "code",
      "execution_count": 13,
      "id": "133052ab",
      "metadata": {
        "id": "133052ab"
      },
      "outputs": [],
      "source": [
        "model.compile(optimizer = 'adam',\n",
        "             loss = 'sparse_categorical_crossentropy',\n",
        "             metrics=['accuracy'])"
      ]
    },
    {
      "cell_type": "code",
      "execution_count": 16,
      "id": "572bb34d",
      "metadata": {
        "colab": {
          "base_uri": "https://localhost:8080/"
        },
        "id": "572bb34d",
        "outputId": "8d3ce97c-fe11-4fcf-b7a7-bee145d503ff"
      },
      "outputs": [
        {
          "output_type": "stream",
          "name": "stdout",
          "text": [
            "1875/1875 [==============================] - 35s 19ms/step - loss: 0.5609 - accuracy: 0.8054 - val_loss: 0.5998 - val_accuracy: 0.7888\n"
          ]
        },
        {
          "output_type": "execute_result",
          "data": {
            "text/plain": [
              "<keras.callbacks.History at 0x7b044e8a18d0>"
            ]
          },
          "metadata": {},
          "execution_count": 16
        }
      ],
      "source": [
        "model.fit(train_im,train_la, epochs = 1, validation_data=[test_im,test_la])"
      ]
    },
    {
      "cell_type": "code",
      "execution_count": 17,
      "id": "62fef6b0",
      "metadata": {
        "colab": {
          "base_uri": "https://localhost:8080/"
        },
        "id": "62fef6b0",
        "outputId": "13be5643-b522-4a1e-ed4c-36af988867ed"
      },
      "outputs": [
        {
          "output_type": "stream",
          "name": "stdout",
          "text": [
            "313/313 [==============================] - 1s 4ms/step - loss: 0.5998 - accuracy: 0.7888\n",
            "Test accuracy 0.7888000011444092\n"
          ]
        }
      ],
      "source": [
        "test_loss,test_acc = model.evaluate(test_im,test_la)\n",
        "print('Test accuracy', test_acc)"
      ]
    },
    {
      "cell_type": "code",
      "execution_count": 18,
      "id": "cf0d87ce",
      "metadata": {
        "colab": {
          "base_uri": "https://localhost:8080/"
        },
        "id": "cf0d87ce",
        "outputId": "11c75513-3eae-4d82-de92-caeb0953b5e5"
      },
      "outputs": [
        {
          "output_type": "stream",
          "name": "stdout",
          "text": [
            "313/313 [==============================] - 1s 4ms/step\n"
          ]
        }
      ],
      "source": [
        "predictions= model.predict(test_im)"
      ]
    },
    {
      "cell_type": "code",
      "execution_count": 19,
      "id": "6ae0d3f7",
      "metadata": {
        "colab": {
          "base_uri": "https://localhost:8080/"
        },
        "id": "6ae0d3f7",
        "outputId": "9a87f1cc-db18-4c2c-ae8b-a9e51f951e99"
      },
      "outputs": [
        {
          "output_type": "execute_result",
          "data": {
            "text/plain": [
              "array([2.8640442e-04, 2.0751204e-05, 2.3064227e-05, 3.2990501e-05,\n",
              "       1.1611505e-04, 1.4187159e-01, 3.7959417e-05, 1.1444862e-01,\n",
              "       6.0637663e-03, 7.3709869e-01], dtype=float32)"
            ]
          },
          "metadata": {},
          "execution_count": 19
        }
      ],
      "source": [
        "predictions[0]"
      ]
    },
    {
      "cell_type": "code",
      "execution_count": 20,
      "id": "2856cb4e",
      "metadata": {
        "colab": {
          "base_uri": "https://localhost:8080/"
        },
        "id": "2856cb4e",
        "outputId": "cc8822bd-f553-4682-8664-441e0350a0ba"
      },
      "outputs": [
        {
          "output_type": "execute_result",
          "data": {
            "text/plain": [
              "21"
            ]
          },
          "metadata": {},
          "execution_count": 20
        }
      ],
      "source": [
        "np.argmax(predictions)"
      ]
    },
    {
      "cell_type": "code",
      "execution_count": 21,
      "id": "56e5a23c",
      "metadata": {
        "colab": {
          "base_uri": "https://localhost:8080/",
          "height": 35
        },
        "id": "56e5a23c",
        "outputId": "177b0c68-cf5d-4861-d592-fc15ccfd0250"
      },
      "outputs": [
        {
          "output_type": "execute_result",
          "data": {
            "text/plain": [
              "'Ankle Boat'"
            ],
            "application/vnd.google.colaboratory.intrinsic+json": {
              "type": "string"
            }
          },
          "metadata": {},
          "execution_count": 21
        }
      ],
      "source": [
        "class_names[np.argmax(predictions[0])]"
      ]
    },
    {
      "cell_type": "code",
      "execution_count": 22,
      "id": "af37d8a5",
      "metadata": {
        "colab": {
          "base_uri": "https://localhost:8080/"
        },
        "id": "af37d8a5",
        "outputId": "e317332e-c9f6-4d5e-c7da-30846030beab"
      },
      "outputs": [
        {
          "output_type": "execute_result",
          "data": {
            "text/plain": [
              "['Ankle Boat',\n",
              " 'Sandal',\n",
              " 'Sneaker',\n",
              " 'Bag',\n",
              " 'T-shirt',\n",
              " 'Coat',\n",
              " 'Shirt',\n",
              " 'Dress',\n",
              " 'Pullover',\n",
              " 'Trouser']"
            ]
          },
          "metadata": {},
          "execution_count": 22
        }
      ],
      "source": [
        "[class_names[i] for i in np.argsort(predictions[0])][::-1]"
      ]
    },
    {
      "cell_type": "code",
      "execution_count": 23,
      "id": "535d5007",
      "metadata": {
        "colab": {
          "base_uri": "https://localhost:8080/"
        },
        "id": "535d5007",
        "outputId": "47608c8d-edca-4deb-8491-389fb7d34bfd"
      },
      "outputs": [
        {
          "output_type": "execute_result",
          "data": {
            "text/plain": [
              "[0.7370987,\n",
              " 0.14187159,\n",
              " 0.11444862,\n",
              " 0.0060637663,\n",
              " 0.00028640442,\n",
              " 0.00011611505,\n",
              " 3.7959417e-05,\n",
              " 3.29905e-05,\n",
              " 2.3064227e-05,\n",
              " 2.0751204e-05]"
            ]
          },
          "metadata": {},
          "execution_count": 23
        }
      ],
      "source": [
        "[predictions[0][i] for i in np.argsort(predictions[0])][::-1]"
      ]
    },
    {
      "cell_type": "code",
      "execution_count": 24,
      "id": "fa2ece4c",
      "metadata": {
        "colab": {
          "base_uri": "https://localhost:8080/",
          "height": 447
        },
        "id": "fa2ece4c",
        "outputId": "02243c53-d2e1-4228-9257-e4eb7890587e"
      },
      "outputs": [
        {
          "output_type": "execute_result",
          "data": {
            "text/plain": [
              "<matplotlib.colorbar.Colorbar at 0x7b044e8c6860>"
            ]
          },
          "metadata": {},
          "execution_count": 24
        },
        {
          "output_type": "display_data",
          "data": {
            "text/plain": [
              "<Figure size 640x480 with 2 Axes>"
            ],
            "image/png": "[encoded data removed]"
          },
          "metadata": {}
        }
      ],
      "source": [
        "plt.figure()\n",
        "plt.imshow(test_im[0])\n",
        "plt.colorbar()"
      ]
    },
    {
      "cell_type": "code",
      "execution_count": 25,
      "id": "34013666",
      "metadata": {
        "id": "34013666"
      },
      "outputs": [],
      "source": [
        "def model_builder(hp):\n",
        "    model = keras.Sequential()\n",
        "    model.add(keras.layers.Flatten(input_shape=(28, 28)))\n",
        "\n",
        "    # Tune the number of units in the first Dense layer\n",
        "    # Choose an optimal value between 32-512\n",
        "    hp_units = hp.Int('units', min_value=32, max_value=512, step=32)\n",
        "    model.add(keras.layers.Dense(units=hp_units, activation='relu'))\n",
        "    model.add(keras.layers.Dense(10))\n",
        "    model.add(keras.layers.Dense(10,activation = tf.nn.softmax))\n",
        "\n",
        "    # Tune the learning rate for the optimizer\n",
        "    # Choose an optimal value from 0.01, 0.001, or 0.0001\n",
        "    hp_learning_rate = hp.Choice('learning_rate', values=[1e-2, 1e-3, 1e-4])\n",
        "\n",
        "    model.compile(optimizer=keras.optimizers.legacy.Adam(learning_rate=hp_learning_rate),\n",
        "                loss=keras.losses.SparseCategoricalCrossentropy(),\n",
        "                metrics=['accuracy'])\n",
        "\n",
        "    return model"
      ]
    },
    {
      "cell_type": "code",
      "execution_count": null,
      "id": "98f9c993",
      "metadata": {
        "id": "98f9c993"
      },
      "outputs": [],
      "source": [
        "stop_early = tf.keras.callbacks.EarlyStopping(monitor='val_loss', patience=5)"
      ]
    },
    {
      "cell_type": "code",
      "execution_count": null,
      "id": "26f3c4ee",
      "metadata": {
        "id": "26f3c4ee"
      },
      "outputs": [],
      "source": [
        "tuner = kt.GridSearch(model_builder,\n",
        "                     objective='val_accuracy',\n",
        "                     directory='my_dir',\n",
        "                     project_name='intro_to_kt')"
      ]
    },
    {
      "cell_type": "code",
      "execution_count": null,
      "id": "a37578f3",
      "metadata": {
        "id": "a37578f3"
      },
      "outputs": [],
      "source": [
        "tuner.search(train_im, train_la, epochs=50, validation_split=0.2, callbacks=[stop_early])\n",
        "\n",
        "# Get the optimal hyperparameters\n",
        "best_hps=tuner.get_best_hyperparameters(num_trials=1)[0]\n",
        "\n",
        "print(f\"\"\"\n",
        "The hyperparameter search is complete. The optimal number of units in the first densely-connected\n",
        "layer is {best_hps.get('units')} and the optimal learning rate for the optimizer\n",
        "is {best_hps.get('learning_rate')}.\n",
        "\"\"\")"
      ]
    },
    {
      "cell_type": "code",
      "execution_count": null,
      "id": "1228017e",
      "metadata": {
        "id": "1228017e"
      },
      "outputs": [],
      "source": [
        "best_model = tuner.get_best_models()[0]"
      ]
    },
    {
      "cell_type": "code",
      "execution_count": null,
      "id": "d13a7f53",
      "metadata": {
        "id": "d13a7f53"
      },
      "outputs": [],
      "source": [
        "best_model.summary()"
      ]
    },
    {
      "cell_type": "code",
      "execution_count": null,
      "id": "2203a68e",
      "metadata": {
        "id": "2203a68e"
      },
      "outputs": [],
      "source": [
        "best_model.evaluate(test_im,test_la)"
      ]
    },
    {
      "cell_type": "code",
      "execution_count": null,
      "id": "46da2980",
      "metadata": {
        "id": "46da2980"
      },
      "outputs": [],
      "source": [
        "predections = best_model.predict(test_im)"
      ]
    },
    {
      "cell_type": "code",
      "execution_count": null,
      "id": "c5a5695a",
      "metadata": {
        "id": "c5a5695a"
      },
      "outputs": [],
      "source": [
        "[ class_names[np.argmax(i)] for i in predictions]"
      ]
    },
    {
      "cell_type": "code",
      "execution_count": null,
      "id": "642cdd1e",
      "metadata": {
        "colab": {
          "background_save": true
        },
        "id": "642cdd1e"
      },
      "outputs": [],
      "source": []
    }
  ],
  "metadata": {
    "colab": {
      "provenance": []
    },
    "kernelspec": {
      "display_name": "Python 3 (ipykernel)",
      "language": "python",
      "name": "python3"
    },
    "language_info": {
      "codemirror_mode": {
        "name": "ipython",
        "version": 3
      },
      "file_extension": ".py",
      "mimetype": "text/x-python",
      "name": "python",
      "nbconvert_exporter": "python",
      "pygments_lexer": "ipython3",
      "version": "3.9.16"
    }
  },
  "nbformat": 4,
  "nbformat_minor": 5
}