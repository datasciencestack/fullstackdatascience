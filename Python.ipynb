{
 "cells": [
  {
   "cell_type": "markdown",
   "id": "a3c44d32",
   "metadata": {
    "id": "a3c44d32"
   },
   "source": [
    "## Introduction"
   ]
  },
  {
   "cell_type": "markdown",
   "id": "e25fc3ad",
   "metadata": {
    "id": "e25fc3ad"
   },
   "source": [
    "#### What is Python?\n",
    "\n",
    "- popular programming language\n",
    "- created by Guido van Rossum\n",
    "- released in 1991\n",
    "\n",
    "(He named it after the BBC comedy troupe Monty Python, of whom he is a huge fan)\n"
   ]
  },
  {
   "cell_type": "markdown",
   "id": "727684dd",
   "metadata": {
    "id": "727684dd"
   },
   "source": [
    "#### Where is python used?\n",
    "\n",
    "- Netflix’s recommendation algorithm\n",
    "- software that controls self-driving cars\n",
    "\n",
    "general-purpose language\n",
    " - data science\n",
    " - software and web development\n",
    " - automation\n",
    " - calculator"
   ]
  },
  {
   "cell_type": "markdown",
   "id": "db527488",
   "metadata": {
    "id": "db527488"
   },
   "source": [
    "#### appllications of python\n",
    "\n",
    "1. Web Development\n",
    "    - frameworks: Django, Flask, Pyramid\n",
    "    - Achieve Security, scalability, convenience\n",
    "2. Game Development (interactive games)\n",
    "    - Civilization-IV, Disney’s Toontown Online, Vega Strike\n",
    "    - PySoy, a 3d game engine, PyGame library\n",
    "3. Machine Learning and Artificial Intelligence\n",
    "    - libraries: Pandas, Scikit-Learn, NumPy, Seaborn, MatplotLib\n",
    "4. Data Science and Data Visualization\n",
    "    - Data is money if you know how to extract relevant information which can help you take calculated risks and increase profits.\n",
    "    - You study the data you have, perform operations and extract the information required.\n",
    "    - Libraries such as Pandas, NumPy help you in extracting information\n",
    "5. Desktop GUI\n",
    "    - library Tinker for UI\n",
    "6. Web Scraping Applications\n",
    "    - website data for price comparision (https://www.91mobiles.com/), job listings, research and dev\n",
    "    - Lib BeautifulSoup\n",
    "7. Business Applications\n",
    "    - different from normal applications. e-commerce,ERP (enterprise resouce planning), healthcare\n",
    "    - Tryton platform\n",
    "8. Audio and Video Applications\n",
    "    - TimPlayer, CPlay applications are dev using python.\n",
    "    - better stability and perf in comparision with other media players\n",
    "9. CAD Applications\n",
    "    - mech engineering. Computer aided designing.\n",
    "10. Embedded Applications\n",
    "    - Py is based on C so used to create Embedded C software"
   ]
  },
  {
   "cell_type": "markdown",
   "id": "0f82405b",
   "metadata": {
    "id": "0f82405b"
   },
   "source": [
    "#### why python?\n",
    "-  Software quality,\n",
    "-  developer productivity,\n",
    "-  program portability,\n",
    "-  support libraries,\n",
    "-  component integration,\n",
    "-  simple enjoyment"
   ]
  },
  {
   "cell_type": "markdown",
   "id": "a74a1f51",
   "metadata": {
    "id": "a74a1f51"
   },
   "source": [
    "#### features: why only python?\n",
    "\n",
    "1. Free and open source\n",
    "2. Easy to code and easy to read\n",
    "3. OOP\n",
    "4. Easy to debug\n",
    "5. High level language (No need to manage memory)\n",
    "6. Portable or Platform independent\n",
    "7. Interpreted language (exec line by line.\n",
    " no compilation phase (hidden from user to avoid complexity)\n",
    " .pyc file contains compiled byte code\n",
    "Interpreter reads instructions line by line and generates output till the point the code is correct, the ease of debugging increases as it is easier to get information about the source point of error.)\n",
    "8. Large standard library\n",
    "9. Dynamically typed language (Dynamic mem alloc)\n",
    "10. Automatic memory management"
   ]
  },
  {
   "cell_type": "markdown",
   "id": "7db6c2fe",
   "metadata": {
    "id": "7db6c2fe"
   },
   "source": [
    "#### python versions\n",
    "\n",
    "Find current version:\n",
    "\n",
    ">python --version\n",
    "\n",
    ">Python 3.10.8 (Oct. 11, 2022.)\n",
    "\n",
    "Python 3.x Version Release Date\n",
    "- 3.10 2021-10-04\n",
    "- 3.9 2020-10-05\n",
    "- 3.8 2019-10-14\n",
    "- 3.7 2018-06-27\n",
    "- 3.6 2016-12-23\n",
    "- 3.5 2015-09-13\n",
    "- 3.4 2014-03-17\n",
    "- 3.3 2012-09-29\n",
    "- 3.2 2011-02-20\n",
    "- 3.1 2009-06-26\n",
    "- 3.0 2008-12-03\n",
    "\n",
    "Python 2.x Version Release Date (Deprecated)\n",
    "- 2.7 2010-07-03\n",
    "- 2.6 2008-10-02\n",
    "- 2.5 2006-09-19\n",
    "- 2.4 2004-11-30\n",
    "- 2.3 2003-07-29\n",
    "- 2.2 2001-12-21\n",
    "- 2.1 2001-04-15\n",
    "- 2.0 2000-10-16"
   ]
  },
  {
   "cell_type": "markdown",
   "id": "b27ee26b",
   "metadata": {
    "id": "b27ee26b"
   },
   "source": [
    "#### output"
   ]
  },
  {
   "cell_type": "code",
   "execution_count": 1,
   "id": "a40d086b",
   "metadata": {
    "colab": {
     "base_uri": "https://localhost:8080/"
    },
    "executionInfo": {
     "elapsed": 25,
     "status": "ok",
     "timestamp": 1690551237618,
     "user": {
      "displayName": "DSS DSS",
      "userId": "17636620013329168760"
     },
     "user_tz": -330
    },
    "id": "a40d086b",
    "outputId": "2962ae4e-d771-436d-b8fa-d65768aa2ba1"
   },
   "outputs": [
    {
     "name": "stdout",
     "output_type": "stream",
     "text": [
      "Hello, World!\n"
     ]
    }
   ],
   "source": [
    "print(\"Hello, World!\") # Run: ctrl+Enter or shft+Enter"
   ]
  },
  {
   "cell_type": "markdown",
   "id": "bb621d66",
   "metadata": {
    "id": "bb621d66"
   },
   "source": [
    "- shortcuts: a b x c v m y"
   ]
  },
  {
   "cell_type": "markdown",
   "id": "b5e10b71",
   "metadata": {
    "id": "b5e10b71"
   },
   "source": [
    "#### python shell\n",
    "```\n",
    "C:\\Users\\Vishnupriya>python\n",
    "Python 3.10.8 (tags/v3.10.8:aaaf517, Oct 11 2022, 16:50:30) [MSC v.1933 64 bit (AMD64)] on win32\n",
    "Type \"help\", \"copyright\", \"credits\" or \"license\" for more information.\n",
    "\n",
    ">>> print('hello')\n",
    "hello\n",
    ">>> quit()\n",
    "```"
   ]
  },
  {
   "cell_type": "markdown",
   "id": "fb2e37ab",
   "metadata": {
    "id": "fb2e37ab"
   },
   "source": [
    "#### interpreted and compiled language\n",
    "\n",
    "- Compilation phase is hidden.\n",
    "- Python execution:\n",
    "  1. python script.py file is compiled using the command: (python -m py_compile script.py)\n",
    "  2. script.cpython-310.pyc file is generated (bytecode => platform independent representation)\n",
    "  3. script.cpython-310.pyc is saved in \\__pycache__ sub directory (depends on source changes and python versions)\n",
    "  4. bytecode of interactive mode code is never saved\n",
    "  5. bytecode is run by PVM - run time engine of python (python sample.cpython-310.pyc)\n",
    "  6. PVM execution is last step (even in interpreter mode)"
   ]
  },
  {
   "cell_type": "markdown",
   "id": "7c474f1e",
   "metadata": {
    "id": "7c474f1e"
   },
   "source": [
    "#### python implementation alternatives\n",
    "\n",
    "- CPython (standard implementation - CPython Virtual Machine)\n",
    "- Jython (Written in Java, and uses JVM to run programs)\n",
    "- IronPython (Written in C#, and runs programs on .NET platform)\n",
    "- PyPy (written in python and has Just-in-time (JIT) compilation making execution faster)\n",
    "- Cython (Compile python programs in C and also transform into C. mainly for writing C extensions)\n",
    "- Stackless (to simplify thread-based programming. Cstack is not used. its own stack is cleared between function calls)"
   ]
  },
  {
   "cell_type": "markdown",
   "id": "e93d9a27",
   "metadata": {
    "id": "e93d9a27"
   },
   "source": [
    "#### companies that use python:\n",
    "\n",
    "- Google\n",
    "- Youtube\n",
    "- Pinterest\n",
    "- Instagram\n",
    "- Facebook\n",
    "- Netflix\n",
    "- Spotify\n",
    "- NASA\n",
    "- JP Morgan Chase\n",
    "- Intel\n",
    "- IBM\n"
   ]
  },
  {
   "cell_type": "markdown",
   "id": "cf7c5901",
   "metadata": {
    "id": "cf7c5901"
   },
   "source": [
    "## Indentation"
   ]
  },
  {
   "cell_type": "markdown",
   "id": "f07f4e61",
   "metadata": {
    "id": "f07f4e61"
   },
   "source": [
    "- space before the line of code starts (2 or 4)\n",
    "- to identify the block of code"
   ]
  },
  {
   "cell_type": "code",
   "execution_count": 2,
   "id": "d77c2ba9",
   "metadata": {
    "colab": {
     "base_uri": "https://localhost:8080/"
    },
    "executionInfo": {
     "elapsed": 5,
     "status": "ok",
     "timestamp": 1690551237619,
     "user": {
      "displayName": "DSS DSS",
      "userId": "17636620013329168760"
     },
     "user_tz": -330
    },
    "id": "d77c2ba9",
    "outputId": "ab59e5f4-96d7-41b2-dad9-601e2dcc94eb"
   },
   "outputs": [
    {
     "name": "stdout",
     "output_type": "stream",
     "text": [
      "Five is greater than two!\n"
     ]
    }
   ],
   "source": [
    "if 5 > 2: # 0 spaces\n",
    "    print(\"Five is greater than two!\") # 4 spaces"
   ]
  },
  {
   "cell_type": "code",
   "execution_count": 3,
   "id": "c7cde813",
   "metadata": {
    "executionInfo": {
     "elapsed": 4,
     "status": "ok",
     "timestamp": 1690551237619,
     "user": {
      "displayName": "DSS DSS",
      "userId": "17636620013329168760"
     },
     "user_tz": -330
    },
    "id": "c7cde813"
   },
   "outputs": [],
   "source": [
    "# if 5 > 2:\n",
    "# print(\"Five is greater than two!\") # IndentationError: expected an indented block"
   ]
  },
  {
   "cell_type": "code",
   "execution_count": 4,
   "id": "96c0b03b",
   "metadata": {
    "executionInfo": {
     "elapsed": 4,
     "status": "ok",
     "timestamp": 1690551237619,
     "user": {
      "displayName": "DSS DSS",
      "userId": "17636620013329168760"
     },
     "user_tz": -330
    },
    "id": "96c0b03b"
   },
   "outputs": [],
   "source": [
    "# if 5 > 2:\n",
    "#  print(\"Five is greater than two!\")\n",
    "#         print(\"Five is greater than two!\") # IndentationError: unexpected indent"
   ]
  },
  {
   "cell_type": "code",
   "execution_count": 5,
   "id": "af4f90f7",
   "metadata": {
    "executionInfo": {
     "elapsed": 4,
     "status": "ok",
     "timestamp": 1690551237619,
     "user": {
      "displayName": "DSS DSS",
      "userId": "17636620013329168760"
     },
     "user_tz": -330
    },
    "id": "af4f90f7"
   },
   "outputs": [],
   "source": [
    "# print('hello')\n",
    "#     print('hello') # IndentationError: unexpected indent"
   ]
  },
  {
   "cell_type": "code",
   "execution_count": 6,
   "id": "c66a3360",
   "metadata": {
    "colab": {
     "base_uri": "https://localhost:8080/"
    },
    "executionInfo": {
     "elapsed": 743,
     "status": "ok",
     "timestamp": 1690551238359,
     "user": {
      "displayName": "DSS DSS",
      "userId": "17636620013329168760"
     },
     "user_tz": -330
    },
    "id": "c66a3360",
    "outputId": "2b94bdc4-a2fd-4d9c-9528-7738033c0e03"
   },
   "outputs": [
    {
     "name": "stdout",
     "output_type": "stream",
     "text": [
      "outside one\n",
      "in one\n",
      "also in one\n"
     ]
    }
   ],
   "source": [
    "def one():\n",
    "  print('in one')\n",
    "  print('also in one')\n",
    "print('outside one')\n",
    "one()"
   ]
  },
  {
   "cell_type": "code",
   "execution_count": 7,
   "id": "118f30c7",
   "metadata": {
    "colab": {
     "base_uri": "https://localhost:8080/"
    },
    "executionInfo": {
     "elapsed": 38,
     "status": "ok",
     "timestamp": 1690551238359,
     "user": {
      "displayName": "DSS DSS",
      "userId": "17636620013329168760"
     },
     "user_tz": -330
    },
    "id": "118f30c7",
    "outputId": "8d518d2b-59f8-405f-fcad-6aa9029b4d9f"
   },
   "outputs": [
    {
     "name": "stdout",
     "output_type": "stream",
     "text": [
      "outside one\n",
      "in one\n",
      "5>2\n",
      "inside if\n",
      "also in one\n"
     ]
    }
   ],
   "source": [
    "# Nested blocks indentation\n",
    "def one():\n",
    "  print('in one')\n",
    "  if 5>2:\n",
    "        print(\"5>2\")\n",
    "        print(\"inside if\")\n",
    "  print('also in one')\n",
    "print('outside one')\n",
    "one()"
   ]
  },
  {
   "cell_type": "markdown",
   "id": "b5c4c54f",
   "metadata": {
    "id": "b5c4c54f"
   },
   "source": [
    "## Comments"
   ]
  },
  {
   "cell_type": "markdown",
   "id": "51e601cb",
   "metadata": {
    "id": "51e601cb"
   },
   "source": [
    "- Not compiled\n",
    "- For better readability of program\n",
    "- full line comment\n",
    "- comment at the end of the line"
   ]
  },
  {
   "cell_type": "code",
   "execution_count": 8,
   "id": "454aec04",
   "metadata": {
    "colab": {
     "base_uri": "https://localhost:8080/"
    },
    "executionInfo": {
     "elapsed": 35,
     "status": "ok",
     "timestamp": 1690551238359,
     "user": {
      "displayName": "DSS DSS",
      "userId": "17636620013329168760"
     },
     "user_tz": -330
    },
    "id": "454aec04",
    "outputId": "d00a03e0-1acf-4f3d-841c-b32384c5f4c7"
   },
   "outputs": [
    {
     "name": "stdout",
     "output_type": "stream",
     "text": [
      "Only this line is compiled\n"
     ]
    }
   ],
   "source": [
    "# single line comment\n",
    "\n",
    "# multi\n",
    "# line comment\n",
    "\n",
    "'''multi line\n",
    "comment'''\n",
    "\n",
    "\"\"\"multi line\n",
    "comment\"\"\"\n",
    "\n",
    "\"\"\"Documentation comment\n",
    "if this triple single or double quote multi line comment is written as\n",
    "the first line in a function or class\"\"\"\n",
    "\n",
    "# use function_name.__doc__ paramter to read this comment\n",
    "\n",
    "# print('hello') # inerting code while testing\n",
    "print('Only this line is compiled')"
   ]
  },
  {
   "cell_type": "code",
   "execution_count": 9,
   "id": "f5f1b8e0",
   "metadata": {
    "colab": {
     "base_uri": "https://localhost:8080/"
    },
    "executionInfo": {
     "elapsed": 34,
     "status": "ok",
     "timestamp": 1690551238360,
     "user": {
      "displayName": "DSS DSS",
      "userId": "17636620013329168760"
     },
     "user_tz": -330
    },
    "id": "f5f1b8e0",
    "outputId": "cb1e3954-210f-449b-8b3e-bc3607cd3d0e"
   },
   "outputs": [
    {
     "name": "stdout",
     "output_type": "stream",
     "text": [
      "welcome!!!\n",
      "this function prints welcome\n"
     ]
    }
   ],
   "source": [
    "def welcome():\n",
    "    '''this function prints welcome'''\n",
    "    print('welcome!!!')\n",
    "\n",
    "welcome()\n",
    "print(welcome.__doc__) # prints documentation comment inside welcome function"
   ]
  },
  {
   "cell_type": "code",
   "execution_count": 10,
   "id": "9bac4eab",
   "metadata": {
    "colab": {
     "base_uri": "https://localhost:8080/"
    },
    "executionInfo": {
     "elapsed": 32,
     "status": "ok",
     "timestamp": 1690551238360,
     "user": {
      "displayName": "DSS DSS",
      "userId": "17636620013329168760"
     },
     "user_tz": -330
    },
    "id": "9bac4eab",
    "outputId": "bb51819e-d640-4d8d-b126-8dcbe5d89591"
   },
   "outputs": [
    {
     "name": "stdout",
     "output_type": "stream",
     "text": [
      "welcome!!!\n",
      "None\n"
     ]
    }
   ],
   "source": [
    "def welcome():\n",
    "    # this function prints welcome\n",
    "    print('welcome!!!')\n",
    "\n",
    "welcome()\n",
    "print(welcome.__doc__)\n",
    "# given comment is not documentation comment. It is just a single line comment given for readability purpose."
   ]
  },
  {
   "cell_type": "markdown",
   "id": "ab0685a2",
   "metadata": {
    "id": "ab0685a2"
   },
   "source": [
    "## Variables"
   ]
  },
  {
   "cell_type": "markdown",
   "id": "abdabbf2",
   "metadata": {
    "id": "abdabbf2"
   },
   "source": [
    "#### creating variables\n",
    "- variable is created the moment you first assign a value to it\n",
    "- no datatype declaration\n",
    "- later can reassign a new value according to the scenario\n",
    "- case sensitive"
   ]
  },
  {
   "cell_type": "code",
   "execution_count": 11,
   "id": "6f2b4bcf",
   "metadata": {
    "colab": {
     "base_uri": "https://localhost:8080/"
    },
    "executionInfo": {
     "elapsed": 31,
     "status": "ok",
     "timestamp": 1690551238360,
     "user": {
      "displayName": "DSS DSS",
      "userId": "17636620013329168760"
     },
     "user_tz": -330
    },
    "id": "6f2b4bcf",
    "outputId": "07f554c8-88a4-4d01-bde6-db22e77e23ae"
   },
   "outputs": [
    {
     "name": "stdout",
     "output_type": "stream",
     "text": [
      "5 Tony Joe\n"
     ]
    }
   ],
   "source": [
    "number = 5 # numbers without quotations\n",
    "name = \"Allen\" # str with quotations '' or \"\" or '''''' or \"\"\"\"\"\"\n",
    "name = \"Tony\"\n",
    "Name = 'Joe'\n",
    "print(number, name, Name)"
   ]
  },
  {
   "cell_type": "code",
   "execution_count": 12,
   "id": "eb218fa8",
   "metadata": {
    "executionInfo": {
     "elapsed": 30,
     "status": "ok",
     "timestamp": 1690551238360,
     "user": {
      "displayName": "DSS DSS",
      "userId": "17636620013329168760"
     },
     "user_tz": -330
    },
    "id": "eb218fa8"
   },
   "outputs": [],
   "source": [
    "x = y = z = 10 # one Value to multiple variables\n",
    "x, y = 1,2 # different values to multiple variables\n",
    "x, y, z = [1,2,3] # unpacking a collection\n",
    "x, *y, z = [1,2,3,4,5]"
   ]
  },
  {
   "cell_type": "code",
   "execution_count": 13,
   "id": "e43570df",
   "metadata": {
    "executionInfo": {
     "elapsed": 29,
     "status": "ok",
     "timestamp": 1690551238360,
     "user": {
      "displayName": "DSS DSS",
      "userId": "17636620013329168760"
     },
     "user_tz": -330
    },
    "id": "e43570df"
   },
   "outputs": [],
   "source": [
    "# print(age) # NameError: name 'age' is not defined"
   ]
  },
  {
   "cell_type": "markdown",
   "id": "3dbb8e74",
   "metadata": {
    "id": "3dbb8e74"
   },
   "source": [
    "#### variable naming rules"
   ]
  },
  {
   "cell_type": "markdown",
   "id": "7d42cf60",
   "metadata": {
    "id": "7d42cf60"
   },
   "source": [
    "- A variable name must start with a letter or the underscore character\n",
    "- A variable name cannot start with a number\n",
    "- A variable name can only contain alpha-numeric characters and underscores (A-z, 0-9, and _ )\n",
    "- Variable names are case-sensitive (age, Age and AGE are three different variables)\n",
    "- **recomended: donot starting variable names with underscore(s)**"
   ]
  },
  {
   "cell_type": "code",
   "execution_count": 14,
   "id": "4f21ed51",
   "metadata": {
    "executionInfo": {
     "elapsed": 29,
     "status": "ok",
     "timestamp": 1690551238360,
     "user": {
      "displayName": "DSS DSS",
      "userId": "17636620013329168760"
     },
     "user_tz": -330
    },
    "id": "4f21ed51"
   },
   "outputs": [],
   "source": [
    "# Valid variables\n",
    "myvar = \"John\"\n",
    "my_var = \"John\"\n",
    "_my_var = \"John\" # not recomended but valid\n",
    "myVar = \"John\"\n",
    "MYVAR = \"John\"\n",
    "myvar2 = \"John\""
   ]
  },
  {
   "cell_type": "code",
   "execution_count": 15,
   "id": "4e38d72c",
   "metadata": {
    "executionInfo": {
     "elapsed": 29,
     "status": "ok",
     "timestamp": 1690551238360,
     "user": {
      "displayName": "DSS DSS",
      "userId": "17636620013329168760"
     },
     "user_tz": -330
    },
    "id": "4e38d72c"
   },
   "outputs": [],
   "source": [
    "# invalid variables\n",
    "\n",
    "# 2myvar = \"John\" # SyntaxError: invalid syntax\n",
    "# my-var = \"John\"\n",
    "# my var = \"John\""
   ]
  },
  {
   "cell_type": "markdown",
   "id": "08886f7c",
   "metadata": {
    "id": "08886f7c"
   },
   "source": [
    "#### descriptive variable names"
   ]
  },
  {
   "cell_type": "code",
   "execution_count": 16,
   "id": "19b9c77b",
   "metadata": {
    "executionInfo": {
     "elapsed": 29,
     "status": "ok",
     "timestamp": 1690551238360,
     "user": {
      "displayName": "DSS DSS",
      "userId": "17636620013329168760"
     },
     "user_tz": -330
    },
    "id": "19b9c77b"
   },
   "outputs": [],
   "source": [
    "myVariableName = \"John\" #camelCase\n",
    "MyVariableName = \"John\" # PascalCase\n",
    "my_variable_name = \"John\" # snake_case"
   ]
  },
  {
   "cell_type": "markdown",
   "id": "9baa32ee",
   "metadata": {
    "id": "9baa32ee"
   },
   "source": [
    "#### output variables"
   ]
  },
  {
   "cell_type": "code",
   "execution_count": 17,
   "id": "e557a56e",
   "metadata": {
    "colab": {
     "base_uri": "https://localhost:8080/"
    },
    "executionInfo": {
     "elapsed": 29,
     "status": "ok",
     "timestamp": 1690551238360,
     "user": {
      "displayName": "DSS DSS",
      "userId": "17636620013329168760"
     },
     "user_tz": -330
    },
    "id": "e557a56e",
    "outputId": "9aa05106-a0df-4d94-d0b3-4fa2aa91c15b"
   },
   "outputs": [
    {
     "name": "stdout",
     "output_type": "stream",
     "text": [
      "hello\thi.\b\n",
      "data \n"
     ]
    }
   ],
   "source": [
    "# o/p single str variable with escape sequence characters\n",
    "x = \"hello\\thi.\\b\\nhelloscience\\rdata \"\n",
    "print(x)"
   ]
  },
  {
   "cell_type": "code",
   "execution_count": 18,
   "id": "4324c941",
   "metadata": {
    "colab": {
     "base_uri": "https://localhost:8080/"
    },
    "executionInfo": {
     "elapsed": 28,
     "status": "ok",
     "timestamp": 1690551238361,
     "user": {
      "displayName": "DSS DSS",
      "userId": "17636620013329168760"
     },
     "user_tz": -330
    },
    "id": "4324c941",
    "outputId": "d675f824-88a4-4d98-c024-0ed992ccac09"
   },
   "outputs": [
    {
     "name": "stdout",
     "output_type": "stream",
     "text": [
      "1 Python is awesome\n"
     ]
    }
   ],
   "source": [
    "# o/p multiple variables using , (space is included between variables by default)\n",
    "x = \"Python\"\n",
    "y = \"is\"\n",
    "z = \"awesome\"\n",
    "a = 1\n",
    "print(a, x, y, z) # diff types can also be printed using ,"
   ]
  },
  {
   "cell_type": "markdown",
   "id": "9f2de5a9",
   "metadata": {
    "id": "9f2de5a9"
   },
   "source": [
    "#### _ variable"
   ]
  },
  {
   "cell_type": "code",
   "execution_count": 19,
   "id": "556860c0",
   "metadata": {
    "colab": {
     "base_uri": "https://localhost:8080/"
    },
    "executionInfo": {
     "elapsed": 27,
     "status": "ok",
     "timestamp": 1690551238361,
     "user": {
      "displayName": "DSS DSS",
      "userId": "17636620013329168760"
     },
     "user_tz": -330
    },
    "id": "556860c0",
    "outputId": "4d82f2a9-434f-4f8b-c355-ca1979933e23"
   },
   "outputs": [
    {
     "data": {
      "text/plain": [
       "3"
      ]
     },
     "execution_count": 19,
     "metadata": {},
     "output_type": "execute_result"
    }
   ],
   "source": [
    "a = 3\n",
    "a"
   ]
  },
  {
   "cell_type": "code",
   "execution_count": 20,
   "id": "1c24b3f2",
   "metadata": {
    "colab": {
     "base_uri": "https://localhost:8080/"
    },
    "executionInfo": {
     "elapsed": 26,
     "status": "ok",
     "timestamp": 1690551238361,
     "user": {
      "displayName": "DSS DSS",
      "userId": "17636620013329168760"
     },
     "user_tz": -330
    },
    "id": "1c24b3f2",
    "outputId": "a27d47a9-edd2-4a67-c548-4276ccdab7f9"
   },
   "outputs": [
    {
     "data": {
      "text/plain": [
       "3"
      ]
     },
     "execution_count": 20,
     "metadata": {},
     "output_type": "execute_result"
    }
   ],
   "source": [
    "_"
   ]
  },
  {
   "cell_type": "code",
   "execution_count": 21,
   "id": "4e200261",
   "metadata": {
    "colab": {
     "base_uri": "https://localhost:8080/",
     "height": 36
    },
    "executionInfo": {
     "elapsed": 24,
     "status": "ok",
     "timestamp": 1690551238361,
     "user": {
      "displayName": "DSS DSS",
      "userId": "17636620013329168760"
     },
     "user_tz": -330
    },
    "id": "4e200261",
    "outputId": "b9ef5288-746d-47d6-c1e5-6821b386b82f"
   },
   "outputs": [
    {
     "data": {
      "application/vnd.google.colaboratory.intrinsic+json": {
       "type": "string"
      },
      "text/plain": [
       "'hello'"
      ]
     },
     "execution_count": 21,
     "metadata": {},
     "output_type": "execute_result"
    }
   ],
   "source": [
    "a = 'hello'\n",
    "a"
   ]
  },
  {
   "cell_type": "code",
   "execution_count": 22,
   "id": "595b212b",
   "metadata": {
    "colab": {
     "base_uri": "https://localhost:8080/",
     "height": 36
    },
    "executionInfo": {
     "elapsed": 24,
     "status": "ok",
     "timestamp": 1690551238361,
     "user": {
      "displayName": "DSS DSS",
      "userId": "17636620013329168760"
     },
     "user_tz": -330
    },
    "id": "595b212b",
    "outputId": "144d620d-88dc-42ca-b146-5c6fb189a302"
   },
   "outputs": [
    {
     "data": {
      "application/vnd.google.colaboratory.intrinsic+json": {
       "type": "string"
      },
      "text/plain": [
       "'hello'"
      ]
     },
     "execution_count": 22,
     "metadata": {},
     "output_type": "execute_result"
    }
   ],
   "source": [
    "_"
   ]
  },
  {
   "cell_type": "code",
   "execution_count": 23,
   "id": "23823547",
   "metadata": {
    "executionInfo": {
     "elapsed": 23,
     "status": "ok",
     "timestamp": 1690551238361,
     "user": {
      "displayName": "DSS DSS",
      "userId": "17636620013329168760"
     },
     "user_tz": -330
    },
    "id": "23823547"
   },
   "outputs": [],
   "source": [
    "# _ = [1,2,3]\n",
    "# _"
   ]
  },
  {
   "cell_type": "code",
   "execution_count": 24,
   "id": "ca7570f6",
   "metadata": {
    "colab": {
     "base_uri": "https://localhost:8080/",
     "height": 36
    },
    "executionInfo": {
     "elapsed": 23,
     "status": "ok",
     "timestamp": 1690551238361,
     "user": {
      "displayName": "DSS DSS",
      "userId": "17636620013329168760"
     },
     "user_tz": -330
    },
    "id": "ca7570f6",
    "outputId": "27b8eb45-1639-49c3-b95c-8374ab87f6f6"
   },
   "outputs": [
    {
     "data": {
      "application/vnd.google.colaboratory.intrinsic+json": {
       "type": "string"
      },
      "text/plain": [
       "'hello'"
      ]
     },
     "execution_count": 24,
     "metadata": {},
     "output_type": "execute_result"
    }
   ],
   "source": [
    "a = 'hello'\n",
    "a"
   ]
  },
  {
   "cell_type": "code",
   "execution_count": 25,
   "id": "d4a25fd1",
   "metadata": {
    "colab": {
     "base_uri": "https://localhost:8080/",
     "height": 36
    },
    "executionInfo": {
     "elapsed": 23,
     "status": "ok",
     "timestamp": 1690551238361,
     "user": {
      "displayName": "DSS DSS",
      "userId": "17636620013329168760"
     },
     "user_tz": -330
    },
    "id": "d4a25fd1",
    "outputId": "c9263077-3a2f-40bc-e615-92df639fadbe"
   },
   "outputs": [
    {
     "data": {
      "application/vnd.google.colaboratory.intrinsic+json": {
       "type": "string"
      },
      "text/plain": [
       "'hello'"
      ]
     },
     "execution_count": 25,
     "metadata": {},
     "output_type": "execute_result"
    }
   ],
   "source": [
    "_"
   ]
  },
  {
   "cell_type": "markdown",
   "id": "2bcd773f",
   "metadata": {
    "id": "2bcd773f"
   },
   "source": [
    "#### structuring python program"
   ]
  },
  {
   "cell_type": "code",
   "execution_count": 26,
   "id": "c6b82c6d",
   "metadata": {
    "colab": {
     "base_uri": "https://localhost:8080/"
    },
    "executionInfo": {
     "elapsed": 22,
     "status": "ok",
     "timestamp": 1690551238361,
     "user": {
      "displayName": "DSS DSS",
      "userId": "17636620013329168760"
     },
     "user_tz": -330
    },
    "id": "c6b82c6d",
    "outputId": "0d15829d-05d9-40b2-c3fb-41aaf446fdae"
   },
   "outputs": [
    {
     "name": "stdout",
     "output_type": "stream",
     "text": [
      "1\n",
      "2\n"
     ]
    }
   ],
   "source": [
    "# multiple statements in single line\n",
    "a=1; b=2; print(a); print(b)"
   ]
  },
  {
   "cell_type": "code",
   "execution_count": 27,
   "id": "0acd884e",
   "metadata": {
    "colab": {
     "base_uri": "https://localhost:8080/"
    },
    "executionInfo": {
     "elapsed": 22,
     "status": "ok",
     "timestamp": 1690551238362,
     "user": {
      "displayName": "DSS DSS",
      "userId": "17636620013329168760"
     },
     "user_tz": -330
    },
    "id": "0acd884e",
    "outputId": "be840b10-a10d-4f31-eeff-dd59571d073b"
   },
   "outputs": [
    {
     "name": "stdout",
     "output_type": "stream",
     "text": [
      "person is eligible to vote\n"
     ]
    }
   ],
   "source": [
    "# implicit line continuation\n",
    "age = 20\n",
    "citizen = \"indian\"\n",
    "if (age >= 18\n",
    "    and\n",
    "    citizen == \"indian\"):\n",
    "    print('person is eligible to vote')"
   ]
  },
  {
   "cell_type": "code",
   "execution_count": 28,
   "id": "df72081d",
   "metadata": {
    "colab": {
     "base_uri": "https://localhost:8080/"
    },
    "executionInfo": {
     "elapsed": 20,
     "status": "ok",
     "timestamp": 1690551238362,
     "user": {
      "displayName": "DSS DSS",
      "userId": "17636620013329168760"
     },
     "user_tz": -330
    },
    "id": "df72081d",
    "outputId": "58df51bf-ba04-4aa5-b611-526b842c5c9c"
   },
   "outputs": [
    {
     "name": "stdout",
     "output_type": "stream",
     "text": [
      "55\n"
     ]
    }
   ],
   "source": [
    "# explicit line continuation\n",
    "# using \\ at the end of the line\n",
    "a = \\\n",
    "    10 + 20 + \\\n",
    "    15 + 5 \\\n",
    "    + 5\n",
    "\n",
    "print(a)"
   ]
  },
  {
   "cell_type": "markdown",
   "id": "6ee8975a",
   "metadata": {
    "id": "6ee8975a"
   },
   "source": [
    "## Datatypes"
   ]
  },
  {
   "cell_type": "markdown",
   "id": "001455d2",
   "metadata": {
    "id": "001455d2"
   },
   "source": [
    "### Built-in Data types:\n",
    "- Text Type:\tstr\n",
    "- Numeric Types:\tint, float, complex\n",
    "- Sequence Types:\tlist, tuple, range\n",
    "- Mapping Type:\tdict\n",
    "- Set Types:\tset, frozenset\n",
    "- Boolean Type:\tbool\n",
    "- Binary Types: bytes(immutable), bytearray(mutable), memoryview(works using ref, not data directly, needs bytes like object)\n",
    "    - (binary data: 0 to 255: images)\n",
    "- None Type:\tNoneType"
   ]
  },
  {
   "cell_type": "code",
   "execution_count": 29,
   "id": "324a48b2",
   "metadata": {
    "colab": {
     "base_uri": "https://localhost:8080/"
    },
    "executionInfo": {
     "elapsed": 19,
     "status": "ok",
     "timestamp": 1690551238362,
     "user": {
      "displayName": "DSS DSS",
      "userId": "17636620013329168760"
     },
     "user_tz": -330
    },
    "id": "324a48b2",
    "outputId": "90b576a7-5ec1-41f0-d545-7b04e5221044"
   },
   "outputs": [
    {
     "name": "stdout",
     "output_type": "stream",
     "text": [
      "<class 'int'> <class 'str'> <class 'list'>\n"
     ]
    }
   ],
   "source": [
    "print(type(5),\n",
    "      type(\"5\"),\n",
    "      type([1,2,3])) # get type"
   ]
  },
  {
   "cell_type": "markdown",
   "id": "f5c84a4e",
   "metadata": {
    "id": "f5c84a4e"
   },
   "source": [
    "- str: 'a', 'A', '1', 'abc', \"abc\", \"3.0\", '''$4''', str(1)\n",
    "- int: 1, 4213243214343214353, -324, int(1.5)\n",
    "- float: 1.10,r1.0, -35.4, 10e2, 10E2, -2e2, 10e-2, float(3)\n",
    "- complex: 1+2j, 5j, -5j, 1+0j, 1j (not only j), complex(5) => 5+0j\n",
    "- bool: True, False\n",
    "  - False: False, None, 0, \"\", [], (), {}\n",
    "  - True: bool(10), bool(\"hello\"), bool([1,2])\n",
    "- list: [1], [1,2,3], [1,[2,2,2],3, 'a'], list((1,2))\n",
    "- tuple: (1,), (1,2,3), (1,(2,2,2.5),3,[4,5], 'a'), tuple((1,2))\n",
    "- dict: {\"name\" : \"tony\", \"age\" : 25}, dict(name='tony', age=25)\n",
    "- set: {1,2,3,1,'a'}, set((1,2,3,1))\n",
    "- frozenset: frozenset((1,2,3))\n",
    "- bytes: b'hello'\n",
    "- bytearray: bytearray(5)\n",
    "- memoryview: memoryview(bytes(5))\n",
    "- NoneType: None\n",
    "- range: range(5), range(0,5)"
   ]
  },
  {
   "cell_type": "code",
   "execution_count": 30,
   "id": "3898cab7",
   "metadata": {
    "colab": {
     "base_uri": "https://localhost:8080/"
    },
    "executionInfo": {
     "elapsed": 17,
     "status": "ok",
     "timestamp": 1690551238362,
     "user": {
      "displayName": "DSS DSS",
      "userId": "17636620013329168760"
     },
     "user_tz": -330
    },
    "id": "3898cab7",
    "outputId": "061c8439-00cd-4603-dab7-652ee0d0ebe0"
   },
   "outputs": [
    {
     "name": "stdout",
     "output_type": "stream",
     "text": [
      "['1', 1] <class 'list'>\n"
     ]
    }
   ],
   "source": [
    "l = list(('1',1))\n",
    "print(l, type(l))"
   ]
  },
  {
   "cell_type": "markdown",
   "id": "eadd9aab",
   "metadata": {
    "id": "eadd9aab"
   },
   "source": [
    "### type casting"
   ]
  },
  {
   "cell_type": "code",
   "execution_count": 31,
   "id": "3bf8c65c",
   "metadata": {
    "colab": {
     "base_uri": "https://localhost:8080/"
    },
    "executionInfo": {
     "elapsed": 16,
     "status": "ok",
     "timestamp": 1690551238362,
     "user": {
      "displayName": "DSS DSS",
      "userId": "17636620013329168760"
     },
     "user_tz": -330
    },
    "id": "3bf8c65c",
    "outputId": "594f93c7-2642-4fee-b2b9-6cdda6408d5a"
   },
   "outputs": [
    {
     "name": "stdout",
     "output_type": "stream",
     "text": [
      "1 2 1.0 (1+0j)\n",
      "1 a 3.0\n",
      "['1'] ['1'] [1]\n",
      "{1, 2}\n"
     ]
    }
   ],
   "source": [
    "print(int('1'), int(2.8), float(1), complex(1))\n",
    "print(str('1'), str('a'), str(3.0))\n",
    "print(list(\"1\"), list(('1',)), list((1,)))\n",
    "print(set([1,2,1,2]))\n",
    "# print(int('a')) # ValueError: invalid literal for int() with base 10: 'a'\n",
    "# print(list(1)) # TypeError: 'int' object is not iterable\n",
    "# print(int(3+5j)) # TypeError: can't convert complex to int"
   ]
  },
  {
   "cell_type": "code",
   "execution_count": 32,
   "id": "d0493fe0",
   "metadata": {
    "colab": {
     "base_uri": "https://localhost:8080/"
    },
    "executionInfo": {
     "elapsed": 14,
     "status": "ok",
     "timestamp": 1690551238362,
     "user": {
      "displayName": "DSS DSS",
      "userId": "17636620013329168760"
     },
     "user_tz": -330
    },
    "id": "d0493fe0",
    "outputId": "d2167af6-0b8f-4646-937f-18af1502a3eb"
   },
   "outputs": [
    {
     "name": "stdout",
     "output_type": "stream",
     "text": [
      "2 8.364456438327164 50.07586012356349\n"
     ]
    }
   ],
   "source": [
    "import random\n",
    "a = random.randrange(1,10) # discrete value\n",
    "b = random.uniform(1,10) # continuous value\n",
    "c = random.normalvariate(50,1) # normal distribution with mean and standard deviation\n",
    "print(a,b,c)"
   ]
  },
  {
   "cell_type": "code",
   "execution_count": 33,
   "id": "528d8111",
   "metadata": {
    "colab": {
     "base_uri": "https://localhost:8080/"
    },
    "executionInfo": {
     "elapsed": 12,
     "status": "ok",
     "timestamp": 1690551238362,
     "user": {
      "displayName": "DSS DSS",
      "userId": "17636620013329168760"
     },
     "user_tz": -330
    },
    "id": "528d8111",
    "outputId": "6b36f475-1f45-4fb5-e5df-15bb5f4fd82a"
   },
   "outputs": [
    {
     "name": "stdout",
     "output_type": "stream",
     "text": [
      "False\n",
      "True False\n",
      "hello is True value\n",
      "else\n",
      "True False\n"
     ]
    }
   ],
   "source": [
    "# booleans - majorly used in if conditions\n",
    "print(2>3) # output of comparision operators\n",
    "print(bool('hello'), bool(0)) # True and False values\n",
    "if \"hello\":\n",
    "    print(\"hello is True value\")\n",
    "if \"\":\n",
    "    print(\"if\")\n",
    "else:\n",
    "    print(\"else\")\n",
    "print(isinstance(5, int), isinstance([1,2,3], tuple))"
   ]
  },
  {
   "cell_type": "markdown",
   "id": "921c78c0",
   "metadata": {
    "id": "921c78c0"
   },
   "source": [
    "## User input and output"
   ]
  },
  {
   "cell_type": "code",
   "execution_count": 34,
   "id": "791eb577",
   "metadata": {
    "colab": {
     "base_uri": "https://localhost:8080/"
    },
    "executionInfo": {
     "elapsed": 10540,
     "status": "ok",
     "timestamp": 1690551248891,
     "user": {
      "displayName": "DSS DSS",
      "userId": "17636620013329168760"
     },
     "user_tz": -330
    },
    "id": "791eb577",
    "outputId": "0625e342-d3a7-46ca-bacc-cf14a412d30b"
   },
   "outputs": [
    {
     "name": "stdout",
     "output_type": "stream",
     "text": [
      "Enter username: tony\n",
      "tony <class 'str'>\n",
      "Enter number: 25\n",
      "25 <class 'str'>\n",
      "25\n",
      "25 <class 'str'>\n",
      "enter a number:27\n",
      "27 <class 'int'>\n"
     ]
    }
   ],
   "source": [
    "username = input(\"Enter username: \") # tony\n",
    "print(username, type(username))\n",
    "\n",
    "usernumber = input(\"Enter number: \") # 25 -> by default str type\n",
    "print(usernumber, type(usernumber))\n",
    "\n",
    "userinput = input(\"\") # 25\n",
    "print(userinput, type(userinput))\n",
    "\n",
    "number = int(input(\"enter a number:\")) # 27\n",
    "print(number, type(number))"
   ]
  },
  {
   "cell_type": "code",
   "execution_count": 35,
   "id": "a1f6a4a2",
   "metadata": {
    "colab": {
     "base_uri": "https://localhost:8080/"
    },
    "executionInfo": {
     "elapsed": 3619,
     "status": "ok",
     "timestamp": 1690551252490,
     "user": {
      "displayName": "DSS DSS",
      "userId": "17636620013329168760"
     },
     "user_tz": -330
    },
    "id": "a1f6a4a2",
    "outputId": "15501bbe-28a4-4c47-e49f-8f6ecb9b26ff"
   },
   "outputs": [
    {
     "name": "stdout",
     "output_type": "stream",
     "text": [
      "25\n",
      "2 5 <class 'str'> <class 'str'>\n"
     ]
    }
   ],
   "source": [
    "# splits by each character\n",
    "a,b = input() # 25\n",
    "print(a, b, type(a), type(b))"
   ]
  },
  {
   "cell_type": "code",
   "execution_count": 36,
   "id": "16a8e930",
   "metadata": {
    "colab": {
     "base_uri": "https://localhost:8080/"
    },
    "executionInfo": {
     "elapsed": 6486,
     "status": "ok",
     "timestamp": 1690551258956,
     "user": {
      "displayName": "DSS DSS",
      "userId": "17636620013329168760"
     },
     "user_tz": -330
    },
    "id": "16a8e930",
    "outputId": "7c4d6523-1243-4b23-e0c9-40b73ce8f49e"
   },
   "outputs": [
    {
     "name": "stdout",
     "output_type": "stream",
     "text": [
      "25 24\n",
      "25 24 <class 'str'> <class 'str'>\n"
     ]
    }
   ],
   "source": [
    "# splits by space\n",
    "a,b = input().split(' ') # 25 24\n",
    "print(a, b, type(a), type(b))"
   ]
  },
  {
   "cell_type": "code",
   "execution_count": 37,
   "id": "38d89184",
   "metadata": {
    "colab": {
     "base_uri": "https://localhost:8080/"
    },
    "executionInfo": {
     "elapsed": 43,
     "status": "ok",
     "timestamp": 1690551258956,
     "user": {
      "displayName": "DSS DSS",
      "userId": "17636620013329168760"
     },
     "user_tz": -330
    },
    "id": "38d89184",
    "outputId": "aed9efa3-6498-4440-e94a-a98f112c55a1"
   },
   "outputs": [
    {
     "name": "stdout",
     "output_type": "stream",
     "text": [
      "1-2-3*1-2-3*1 2 3\n",
      "hello world\n",
      "end\n",
      "Hello\n",
      "None\n"
     ]
    }
   ],
   "source": [
    "print(1,2,3, sep = \"-\", end = \"*\")\n",
    "print(1,2,3, sep = \"-\", end = \"*\")\n",
    "print(1,2,3, sep = \" \", end = \"\\n\") # default\n",
    "print('hello','world')\n",
    "print('end')\n",
    "print(print('Hello'))"
   ]
  },
  {
   "cell_type": "code",
   "execution_count": 38,
   "id": "dafe180c",
   "metadata": {
    "colab": {
     "base_uri": "https://localhost:8080/"
    },
    "executionInfo": {
     "elapsed": 37,
     "status": "ok",
     "timestamp": 1690551258957,
     "user": {
      "displayName": "DSS DSS",
      "userId": "17636620013329168760"
     },
     "user_tz": -330
    },
    "id": "dafe180c",
    "outputId": "dea3eba3-2156-45b5-f537-f62a156814c3"
   },
   "outputs": [
    {
     "name": "stdout",
     "output_type": "stream",
     "text": [
      "Hello None\n"
     ]
    }
   ],
   "source": [
    "import sys\n",
    "print(sys.stdout.write(\"Hello \"))\n",
    "# sys.stdout.write(1) # TypeError: write() argument must be str, not <class 'int'>\n",
    "# sys.stdout.write([1,2,3]) # TypeError: write() argument must be str, not <class 'list'>"
   ]
  },
  {
   "cell_type": "code",
   "execution_count": 39,
   "id": "f7cd0cd8",
   "metadata": {
    "colab": {
     "base_uri": "https://localhost:8080/"
    },
    "executionInfo": {
     "elapsed": 34,
     "status": "ok",
     "timestamp": 1690551258957,
     "user": {
      "displayName": "DSS DSS",
      "userId": "17636620013329168760"
     },
     "user_tz": -330
    },
    "id": "f7cd0cd8",
    "outputId": "27ad90e0-1e50-4c03-f85d-668ee563e9a1"
   },
   "outputs": [
    {
     "name": "stdout",
     "output_type": "stream",
     "text": [
      "8 pens cost $1.50\n",
      "hello\n",
      " 42, 42, 42\n",
      "-42, -42, -42\n",
      "123 123. 1e+02 1.e+02\n",
      "00016.00\n",
      "123.30  \n",
      "   +3\n",
      "008 pens     cost $1.50\n"
     ]
    }
   ],
   "source": [
    "# format_str % values\n",
    "print(\"%d %s cost $%.2f\" % (8, \"pens\", 1.5))\n",
    "print(\"%s\" % \"hello\")\n",
    "\n",
    "#  %[flags][minwidth][.precision]type\n",
    "print(\"% d, %i, %u\" % (42, 42, 42))\n",
    "print(\"% d, %i, %u\" % (-42, -42, -42))\n",
    "\n",
    "# flag # forces to have a decimal point always\n",
    "print(\"%.0f %#.0f %.0e %#.0e\" % (123, 123, 123, 123))\n",
    "\n",
    "# flag 0 causes padding with 0 to the left, if needed\n",
    "print(\"%08.2f\" % 16)\n",
    "\n",
    "# flag - causes the value to be left-justified\n",
    "print(\"%-8.2f\" % 123.3)\n",
    "\n",
    "# flag + adds + to the left of numeric output\n",
    "print(\"%+5d\" % 3)\n",
    "\n",
    "data = {\"quantity\": 8, \"item\": \"pens\", \"price\": 1.5}\n",
    "template = \"%(quantity)03d %(item)-8s cost $%(price).2f\"\n",
    "print(template % data)"
   ]
  },
  {
   "cell_type": "code",
   "execution_count": 40,
   "id": "36912f4a",
   "metadata": {
    "colab": {
     "base_uri": "https://localhost:8080/"
    },
    "executionInfo": {
     "elapsed": 32,
     "status": "ok",
     "timestamp": 1690551258957,
     "user": {
      "displayName": "DSS DSS",
      "userId": "17636620013329168760"
     },
     "user_tz": -330
    },
    "id": "36912f4a",
    "outputId": "e25ecdbc-2bc9-4dae-b7d6-512fcaa3530f"
   },
   "outputs": [
    {
     "name": "stdout",
     "output_type": "stream",
     "text": [
      "['False', 'None', 'True', 'and', 'as', 'assert', 'async', 'await', 'break', 'class', 'continue', 'def', 'del', 'elif', 'else', 'except', 'finally', 'for', 'from', 'global', 'if', 'import', 'in', 'is', 'lambda', 'nonlocal', 'not', 'or', 'pass', 'raise', 'return', 'try', 'while', 'with', 'yield']\n"
     ]
    }
   ],
   "source": [
    "import keyword\n",
    "print(keyword.kwlist)"
   ]
  },
  {
   "cell_type": "markdown",
   "id": "5a02396e",
   "metadata": {
    "id": "5a02396e"
   },
   "source": [
    "## Operators"
   ]
  },
  {
   "cell_type": "code",
   "execution_count": 41,
   "id": "3cfd9f08",
   "metadata": {
    "colab": {
     "base_uri": "https://localhost:8080/"
    },
    "executionInfo": {
     "elapsed": 30,
     "status": "ok",
     "timestamp": 1690551258957,
     "user": {
      "displayName": "DSS DSS",
      "userId": "17636620013329168760"
     },
     "user_tz": -330
    },
    "id": "3cfd9f08",
    "outputId": "3f7feac5-329e-4f19-9b28-3ce11e19053b"
   },
   "outputs": [
    {
     "data": {
      "text/plain": [
       "4"
      ]
     },
     "execution_count": 41,
     "metadata": {},
     "output_type": "execute_result"
    }
   ],
   "source": [
    "1 + 3 # + is operator, 1 and 3 are operands"
   ]
  },
  {
   "cell_type": "markdown",
   "id": "5ef4e39b",
   "metadata": {
    "id": "5ef4e39b"
   },
   "source": [
    "#### arithmetic operators"
   ]
  },
  {
   "cell_type": "code",
   "execution_count": 42,
   "id": "f079f390",
   "metadata": {
    "colab": {
     "base_uri": "https://localhost:8080/"
    },
    "executionInfo": {
     "elapsed": 29,
     "status": "ok",
     "timestamp": 1690551258957,
     "user": {
      "displayName": "DSS DSS",
      "userId": "17636620013329168760"
     },
     "user_tz": -330
    },
    "id": "f079f390",
    "outputId": "19a239be-c67b-43d8-b9f8-634c673883b5"
   },
   "outputs": [
    {
     "name": "stdout",
     "output_type": "stream",
     "text": [
      "2\t0\t4\t5.333333333333333\t0.0\t-0.2\t5\t5.0\t6\t8\n"
     ]
    }
   ],
   "source": [
    "print(1+1,\n",
    "      1-1,\n",
    "      1*4,\n",
    "      16/3, False/True, int(True)/-5.0,\n",
    "      16//3, 17//3.0,\n",
    "      13%7,\n",
    "      2**3, sep = '\\t')"
   ]
  },
  {
   "cell_type": "markdown",
   "id": "2e884b95",
   "metadata": {
    "id": "2e884b95"
   },
   "source": [
    "#### assignment operators"
   ]
  },
  {
   "cell_type": "code",
   "execution_count": 43,
   "id": "620c9fbb",
   "metadata": {
    "colab": {
     "base_uri": "https://localhost:8080/"
    },
    "executionInfo": {
     "elapsed": 27,
     "status": "ok",
     "timestamp": 1690551258957,
     "user": {
      "displayName": "DSS DSS",
      "userId": "17636620013329168760"
     },
     "user_tz": -330
    },
    "id": "620c9fbb",
    "outputId": "ba59594b-dfda-439e-d7f2-29d362b4ea20"
   },
   "outputs": [
    {
     "name": "stdout",
     "output_type": "stream",
     "text": [
      "5\n",
      "8\n",
      "6\n",
      "12\n",
      "6.0\n",
      "1\n",
      "3\n",
      "9\n",
      "2\n",
      "7\n",
      "5\n",
      "14\n",
      "3\n"
     ]
    }
   ],
   "source": [
    "a = 5; print(a) # 5\n",
    "a += 3; print(a) # 8\n",
    "a -= 2; print(a) # 6\n",
    "a *= 2; print(a) # 12\n",
    "a /= 2; print(a) # 6.0\n",
    "a = 7\n",
    "a %= 2; print(a) # 1\n",
    "a = 7\n",
    "a //= 2; print(a) # 3\n",
    "a **= 2; print(a) # 9\n",
    "a = 7\n",
    "a &= 2; print(a) # 2\n",
    "a = 7\n",
    "a |= 2; print(a) # 7\n",
    "a = 7\n",
    "a ^= 2; print(a) # 5\n",
    "a = 7\n",
    "a <<= 1; print(a) # 14\n",
    "a = 7\n",
    "a >>= 1; print(a) # 3"
   ]
  },
  {
   "cell_type": "markdown",
   "id": "2b96027a",
   "metadata": {
    "id": "2b96027a"
   },
   "source": [
    "#### comparision operators"
   ]
  },
  {
   "cell_type": "code",
   "execution_count": 44,
   "id": "9fc43f38",
   "metadata": {
    "colab": {
     "base_uri": "https://localhost:8080/"
    },
    "executionInfo": {
     "elapsed": 25,
     "status": "ok",
     "timestamp": 1690551258957,
     "user": {
      "displayName": "DSS DSS",
      "userId": "17636620013329168760"
     },
     "user_tz": -330
    },
    "id": "9fc43f38",
    "outputId": "6302273a-5b31-4220-ad5e-ece9c4463620"
   },
   "outputs": [
    {
     "name": "stdout",
     "output_type": "stream",
     "text": [
      "False True False True True True\n",
      "True True False True\n",
      "True\n"
     ]
    }
   ],
   "source": [
    "print(5==3, 5!=3, 5>10, True>=False, False<1, 5.6<=6.5)\n",
    "print(1<5<10, 10>5<20, 10<10<10*2<100, 5==5>4)\n",
    "print((10+5) > (10-6))"
   ]
  },
  {
   "cell_type": "markdown",
   "id": "a334363b",
   "metadata": {
    "id": "a334363b"
   },
   "source": [
    "#### logical operators"
   ]
  },
  {
   "cell_type": "code",
   "execution_count": 45,
   "id": "da55bca1",
   "metadata": {
    "colab": {
     "base_uri": "https://localhost:8080/"
    },
    "executionInfo": {
     "elapsed": 25,
     "status": "ok",
     "timestamp": 1690551258958,
     "user": {
      "displayName": "DSS DSS",
      "userId": "17636620013329168760"
     },
     "user_tz": -330
    },
    "id": "da55bca1",
    "outputId": "d5b66253-ad37-4450-8249-eee1d23a4182"
   },
   "outputs": [
    {
     "name": "stdout",
     "output_type": "stream",
     "text": [
      "False\n",
      "True False False False\n",
      "True True True False\n",
      "False\n",
      "True\n"
     ]
    }
   ],
   "source": [
    "print(not(5<6))\n",
    "print(True and True, True and False, False and True, False and False)\n",
    "print(True or True, True or False, False or True, False or False)\n",
    "print(5>6 and print('hello'))\n",
    "# print(5<6 and print('python'))\n",
    "print(5<6 or print('hello'))\n",
    "# print(5>6 or print('datascience'))"
   ]
  },
  {
   "cell_type": "markdown",
   "id": "b4ec49af",
   "metadata": {
    "id": "b4ec49af"
   },
   "source": [
    "#### identity operators"
   ]
  },
  {
   "cell_type": "code",
   "execution_count": 46,
   "id": "7f1b6a65",
   "metadata": {
    "colab": {
     "base_uri": "https://localhost:8080/"
    },
    "executionInfo": {
     "elapsed": 23,
     "status": "ok",
     "timestamp": 1690551258958,
     "user": {
      "displayName": "DSS DSS",
      "userId": "17636620013329168760"
     },
     "user_tz": -330
    },
    "id": "7f1b6a65",
    "outputId": "f3e7bd6f-919c-4af6-987e-a00c4427b6c2"
   },
   "outputs": [
    {
     "name": "stdout",
     "output_type": "stream",
     "text": [
      "False False True\n",
      "True True False\n"
     ]
    }
   ],
   "source": [
    "# check for same object with same reference\n",
    "a = [\"python\",'datascience']\n",
    "b = [\"python\",'datascience']\n",
    "c = a\n",
    "# print(a==b, b==c, c==a)\n",
    "# print(a!=b, b!=c, c!=a)\n",
    "print(a is b, b is c, c is a)\n",
    "print(a is not b, b is not c, c is not a)"
   ]
  },
  {
   "cell_type": "markdown",
   "id": "25714e0b",
   "metadata": {
    "id": "25714e0b"
   },
   "source": [
    "#### membership operators"
   ]
  },
  {
   "cell_type": "code",
   "execution_count": 47,
   "id": "bd200471",
   "metadata": {
    "colab": {
     "base_uri": "https://localhost:8080/"
    },
    "executionInfo": {
     "elapsed": 22,
     "status": "ok",
     "timestamp": 1690551258958,
     "user": {
      "displayName": "DSS DSS",
      "userId": "17636620013329168760"
     },
     "user_tz": -330
    },
    "id": "bd200471",
    "outputId": "e55975e2-77b0-4a3c-c067-9ce31d60c45d"
   },
   "outputs": [
    {
     "name": "stdout",
     "output_type": "stream",
     "text": [
      "True False True\n"
     ]
    }
   ],
   "source": [
    "a = [\"python\",'datascience']\n",
    "print('python' in a, 'py' in a, 'PYTHON' not in a)"
   ]
  },
  {
   "cell_type": "code",
   "execution_count": 48,
   "id": "4ad2bb4b",
   "metadata": {
    "colab": {
     "base_uri": "https://localhost:8080/"
    },
    "executionInfo": {
     "elapsed": 20,
     "status": "ok",
     "timestamp": 1690551258958,
     "user": {
      "displayName": "DSS DSS",
      "userId": "17636620013329168760"
     },
     "user_tz": -330
    },
    "id": "4ad2bb4b",
    "outputId": "910424de-51df-49bf-9d6a-a71fa9818bc4"
   },
   "outputs": [
    {
     "name": "stdout",
     "output_type": "stream",
     "text": [
      "2 7 5 -4 12 3\n"
     ]
    }
   ],
   "source": [
    "# bitwise operators\n",
    "print(6&3, 6|3, 6^3, ~3, 3<<2, 6>>1)\n",
    "# 6 =  0000000000000110\n",
    "# 3 =  0000000000000011\n",
    "# -4 = 1111111111111100\n",
    "#  4 = 0000000000000100"
   ]
  },
  {
   "attachments": {
    "image.png": {
     "image/png": "[encoded data removed]"
    }
   },
   "cell_type": "markdown",
   "id": "e76c889c",
   "metadata": {
    "id": "e76c889c"
   },
   "source": [
    "#### precedence of operators\n",
    "![image.png](attachment:image.png)"
   ]
  },
  {
   "cell_type": "code",
   "execution_count": 49,
   "id": "b2379952",
   "metadata": {
    "colab": {
     "base_uri": "https://localhost:8080/"
    },
    "executionInfo": {
     "elapsed": 18,
     "status": "ok",
     "timestamp": 1690551258958,
     "user": {
      "displayName": "DSS DSS",
      "userId": "17636620013329168760"
     },
     "user_tz": -330
    },
    "id": "b2379952",
    "outputId": "71b55292-4eee-45f8-bb2a-b8fdcc757ca3"
   },
   "outputs": [
    {
     "name": "stdout",
     "output_type": "stream",
     "text": [
      "40\n",
      "False\n",
      "4.0\n",
      "9.0\n",
      "512 512\n",
      "-18\n"
     ]
    }
   ],
   "source": [
    "print(40 or 5 + 10 or 8) # 40 or 15 or 8\n",
    "print(not 14 == 4 + 10) # not 14 == 14 # not True\n",
    "print(6 * 2 / 3) # left to right\n",
    "print(6 / 2 * 3) # left to right\n",
    "print(2 ** 3 ** 2, 2 ** (3 ** 2)) # right to left\n",
    "print(2 - 4 * 5)"
   ]
  },
  {
   "cell_type": "code",
   "execution_count": 50,
   "id": "15154f1a",
   "metadata": {
    "colab": {
     "base_uri": "https://localhost:8080/"
    },
    "executionInfo": {
     "elapsed": 16,
     "status": "ok",
     "timestamp": 1690551258958,
     "user": {
      "displayName": "DSS DSS",
      "userId": "17636620013329168760"
     },
     "user_tz": -330
    },
    "id": "15154f1a",
    "outputId": "5e224dc8-1729-4d52-bc2c-0142df9962d0"
   },
   "outputs": [
    {
     "name": "stdout",
     "output_type": "stream",
     "text": [
      "Maximum: 20\n",
      "Minimum: 10\n",
      "a<=b\n",
      "a<b\n",
      "Minimum: 10\n"
     ]
    }
   ],
   "source": [
    "# ternary operator # (on_false, on_true) [expression]\n",
    "a,b = 10,20\n",
    "print('Maximum:',(b,a)[a > b])\n",
    "print('Minimum:',{True: a, False: b}[a < b])\n",
    "print(\"a>b\" if a>b else \"a<=b\")\n",
    "print(\"equal\" if a==b else \"a>b\" if a>b else \"a<b\")\n",
    "print('Minimum:',(lambda: b, lambda: a)[a < b]())"
   ]
  },
  {
   "cell_type": "markdown",
   "id": "39bf83ed",
   "metadata": {
    "id": "39bf83ed"
   },
   "source": [
    "## Conditional statements"
   ]
  },
  {
   "cell_type": "markdown",
   "id": "cc0c19b5",
   "metadata": {
    "id": "cc0c19b5"
   },
   "source": [
    "#### if else"
   ]
  },
  {
   "cell_type": "code",
   "execution_count": 51,
   "id": "7f86889d",
   "metadata": {
    "colab": {
     "base_uri": "https://localhost:8080/"
    },
    "executionInfo": {
     "elapsed": 14,
     "status": "ok",
     "timestamp": 1690551258958,
     "user": {
      "displayName": "DSS DSS",
      "userId": "17636620013329168760"
     },
     "user_tz": -330
    },
    "id": "7f86889d",
    "outputId": "b50b188d-874e-44f2-bc9c-b5eb0af1c758"
   },
   "outputs": [
    {
     "name": "stdout",
     "output_type": "stream",
     "text": [
      "a<=b\n",
      "else block end\n",
      "program continues\n"
     ]
    }
   ],
   "source": [
    "a,b = 10,20\n",
    "if a>b:\n",
    "    print(\"a>b\")\n",
    "    print(\"if block end\")\n",
    "else:\n",
    "    print(\"a<=b\")\n",
    "    print(\"else block end\")\n",
    "print(\"program continues\")\n",
    "# else block is always optional"
   ]
  },
  {
   "cell_type": "markdown",
   "id": "4394ab41",
   "metadata": {
    "id": "4394ab41"
   },
   "source": [
    "#### elif"
   ]
  },
  {
   "cell_type": "code",
   "execution_count": 52,
   "id": "7032c09a",
   "metadata": {
    "colab": {
     "base_uri": "https://localhost:8080/"
    },
    "executionInfo": {
     "elapsed": 12,
     "status": "ok",
     "timestamp": 1690551258958,
     "user": {
      "displayName": "DSS DSS",
      "userId": "17636620013329168760"
     },
     "user_tz": -330
    },
    "id": "7032c09a",
    "outputId": "694d4986-30ec-411c-cb7a-8a813c6efe79"
   },
   "outputs": [
    {
     "name": "stdout",
     "output_type": "stream",
     "text": [
      "a<b\n",
      "elif block end\n",
      "program continues\n"
     ]
    }
   ],
   "source": [
    "a,b = 10,20\n",
    "if a>b:\n",
    "    print(\"a>b\")\n",
    "    print(\"if block end\")\n",
    "elif a<b:\n",
    "    print(\"a<b\")\n",
    "    print(\"elif block end\")\n",
    "else:\n",
    "    print(\"a==b\")\n",
    "    print(\"else block end\")\n",
    "print(\"program continues\")"
   ]
  },
  {
   "cell_type": "markdown",
   "id": "0321240b",
   "metadata": {
    "id": "0321240b"
   },
   "source": [
    "#### shorthand if elif if-else"
   ]
  },
  {
   "cell_type": "code",
   "execution_count": 53,
   "id": "1ee4dca8",
   "metadata": {
    "colab": {
     "base_uri": "https://localhost:8080/"
    },
    "executionInfo": {
     "elapsed": 10,
     "status": "ok",
     "timestamp": 1690551258958,
     "user": {
      "displayName": "DSS DSS",
      "userId": "17636620013329168760"
     },
     "user_tz": -330
    },
    "id": "1ee4dca8",
    "outputId": "02c1c619-884b-420b-98c0-6ac65b47cc10"
   },
   "outputs": [
    {
     "name": "stdout",
     "output_type": "stream",
     "text": [
      "if value\n",
      "else value\n",
      "elif value\n",
      "10\n",
      "equal\n",
      "equal\n"
     ]
    }
   ],
   "source": [
    "a,b = 10,5\n",
    "if a>b:print('if value')\n",
    "print(\"if value\" if a<b else \"else value\")\n",
    "print(\"if value\" if a<b else \"elif value\" if a>b else \"else value\")\n",
    "\n",
    "maximum = a if a>b else b\n",
    "print(maximum)\n",
    "\n",
    "a,b=20,20\n",
    "result = a if a>b else b if b>a else 'equal'\n",
    "print(result)\n",
    "\n",
    "print(a) if a>b else print(b) if b>a else print('equal')"
   ]
  },
  {
   "cell_type": "markdown",
   "id": "53b5c66e",
   "metadata": {
    "id": "53b5c66e"
   },
   "source": [
    "#### nested if"
   ]
  },
  {
   "cell_type": "code",
   "execution_count": 54,
   "id": "f457c05e",
   "metadata": {
    "colab": {
     "base_uri": "https://localhost:8080/"
    },
    "executionInfo": {
     "elapsed": 8,
     "status": "ok",
     "timestamp": 1690551258958,
     "user": {
      "displayName": "DSS DSS",
      "userId": "17636620013329168760"
     },
     "user_tz": -330
    },
    "id": "f457c05e",
    "outputId": "dcb6716a-0f97-4ab8-d9ed-29f5a3070aeb"
   },
   "outputs": [
    {
     "name": "stdout",
     "output_type": "stream",
     "text": [
      "both conditions are true\n",
      "atleast one of the conditions is true\n",
      "a>10 and a<15\n"
     ]
    }
   ],
   "source": [
    "a,b = 20,10\n",
    "if a>10 and b>5:\n",
    "    print('both conditions are true')\n",
    "if a>50 or b>5:\n",
    "    print('atleast one of the conditions is true')\n",
    "\n",
    "a = 12\n",
    "if a>10:\n",
    "    if a>15:\n",
    "        print(\"a>15\")\n",
    "    else:\n",
    "        print('a>10 and a<15')\n",
    "else:\n",
    "    print('a<=10')\n",
    "\n",
    "if True:\n",
    "    pass\n",
    "else:\n",
    "    pass"
   ]
  },
  {
   "cell_type": "markdown",
   "id": "87ab2cef",
   "metadata": {
    "id": "87ab2cef"
   },
   "source": [
    "## Loops"
   ]
  },
  {
   "cell_type": "markdown",
   "id": "955da2e9",
   "metadata": {
    "id": "955da2e9"
   },
   "source": [
    "#### while with else"
   ]
  },
  {
   "cell_type": "code",
   "execution_count": 55,
   "id": "f164198a",
   "metadata": {
    "colab": {
     "base_uri": "https://localhost:8080/"
    },
    "executionInfo": {
     "elapsed": 6,
     "status": "ok",
     "timestamp": 1690551258958,
     "user": {
      "displayName": "DSS DSS",
      "userId": "17636620013329168760"
     },
     "user_tz": -330
    },
    "id": "f164198a",
    "outputId": "e65c277e-6b8c-4543-d017-89127b9f0b90"
   },
   "outputs": [
    {
     "name": "stdout",
     "output_type": "stream",
     "text": [
      "2\n",
      "4\n",
      "6\n",
      "8\n",
      "else\n",
      "program continues\n"
     ]
    }
   ],
   "source": [
    "i = 2\n",
    "while i<10:\n",
    "    print(i)\n",
    "    i += 2 # without increment, it is infinite loop\n",
    "else:  # esle is optional\n",
    "    print('else')\n",
    "print(\"program continues\")"
   ]
  },
  {
   "cell_type": "code",
   "execution_count": 56,
   "id": "62fe5c01",
   "metadata": {
    "colab": {
     "base_uri": "https://localhost:8080/"
    },
    "executionInfo": {
     "elapsed": 138,
     "status": "ok",
     "timestamp": 1690551260010,
     "user": {
      "displayName": "DSS DSS",
      "userId": "17636620013329168760"
     },
     "user_tz": -330
    },
    "id": "62fe5c01",
    "outputId": "cfe53dea-1120-45a7-a357-21015da0b60d"
   },
   "outputs": [
    {
     "name": "stdout",
     "output_type": "stream",
     "text": [
      "else\n",
      "program continues\n"
     ]
    }
   ],
   "source": [
    "i = 2\n",
    "while i>10: # condition false in the first iteration\n",
    "    print(i)\n",
    "    i += 2\n",
    "else:\n",
    "    print('else')\n",
    "print(\"program continues\")"
   ]
  },
  {
   "cell_type": "markdown",
   "id": "0f0237ed",
   "metadata": {
    "id": "0f0237ed"
   },
   "source": [
    "#### while with break"
   ]
  },
  {
   "cell_type": "code",
   "execution_count": 57,
   "id": "75f5717f",
   "metadata": {
    "colab": {
     "base_uri": "https://localhost:8080/"
    },
    "executionInfo": {
     "elapsed": 132,
     "status": "ok",
     "timestamp": 1690551260010,
     "user": {
      "displayName": "DSS DSS",
      "userId": "17636620013329168760"
     },
     "user_tz": -330
    },
    "id": "75f5717f",
    "outputId": "58b30768-2e55-4d21-cd2d-817118aa0136"
   },
   "outputs": [
    {
     "name": "stdout",
     "output_type": "stream",
     "text": [
      "2\n",
      "4\n",
      "program continues\n"
     ]
    }
   ],
   "source": [
    "i = 2\n",
    "while i<10:\n",
    "    if i==6:\n",
    "        break\n",
    "    print(i)\n",
    "    i += 2\n",
    "else: # else is not executed as cond is not False but loop breaks\n",
    "    print('else')\n",
    "print(\"program continues\")"
   ]
  },
  {
   "cell_type": "markdown",
   "id": "f8e73c62",
   "metadata": {
    "id": "f8e73c62"
   },
   "source": [
    "#### while with continue"
   ]
  },
  {
   "cell_type": "code",
   "execution_count": 58,
   "id": "7973f83c",
   "metadata": {
    "colab": {
     "base_uri": "https://localhost:8080/"
    },
    "executionInfo": {
     "elapsed": 131,
     "status": "ok",
     "timestamp": 1690551260011,
     "user": {
      "displayName": "DSS DSS",
      "userId": "17636620013329168760"
     },
     "user_tz": -330
    },
    "id": "7973f83c",
    "outputId": "1df102a5-5c12-48b7-8ca9-8ca818f0857d"
   },
   "outputs": [
    {
     "name": "stdout",
     "output_type": "stream",
     "text": [
      "4\n",
      "8\n",
      "10\n",
      "else\n",
      "program continues\n"
     ]
    }
   ],
   "source": [
    "i = 2\n",
    "while i<10:\n",
    "    i += 2\n",
    "    if i==6:\n",
    "        continue\n",
    "    print(i)\n",
    "else:\n",
    "    print('else')\n",
    "print(\"program continues\")"
   ]
  },
  {
   "cell_type": "markdown",
   "id": "907b0a24",
   "metadata": {
    "id": "907b0a24"
   },
   "source": [
    "#### infinite while"
   ]
  },
  {
   "cell_type": "code",
   "execution_count": 59,
   "id": "3ff5d248",
   "metadata": {
    "executionInfo": {
     "elapsed": 130,
     "status": "ok",
     "timestamp": 1690551260012,
     "user": {
      "displayName": "DSS DSS",
      "userId": "17636620013329168760"
     },
     "user_tz": -330
    },
    "id": "3ff5d248"
   },
   "outputs": [],
   "source": [
    "# #infinite loop as always i<10 is True for i==6\n",
    "# i = 2\n",
    "# while i<10:\n",
    "#     if i==6:\n",
    "#         continue\n",
    "#     print(i)\n",
    "#     i += 2\n",
    "# else:\n",
    "#     print('else')\n",
    "# print(\"program continues\")"
   ]
  },
  {
   "cell_type": "markdown",
   "id": "d7f5e508",
   "metadata": {
    "id": "d7f5e508"
   },
   "source": [
    "#### nested while"
   ]
  },
  {
   "cell_type": "code",
   "execution_count": 60,
   "id": "9118d63f",
   "metadata": {
    "colab": {
     "base_uri": "https://localhost:8080/"
    },
    "executionInfo": {
     "elapsed": 130,
     "status": "ok",
     "timestamp": 1690551260012,
     "user": {
      "displayName": "DSS DSS",
      "userId": "17636620013329168760"
     },
     "user_tz": -330
    },
    "id": "9118d63f",
    "outputId": "76205547-59a4-4ac7-9620-987dda77fa5c"
   },
   "outputs": [
    {
     "name": "stdout",
     "output_type": "stream",
     "text": [
      "grey  :  shirt\n",
      "grey  :  shoe\n",
      "grey  :  mobile\n",
      "black  :  shirt\n",
      "black  :  shoe\n",
      "black  :  mobile\n",
      "white  :  shirt\n",
      "white  :  shoe\n",
      "white  :  mobile\n"
     ]
    }
   ],
   "source": [
    "color = [\"grey\", \"black\", \"white\"]\n",
    "item = [\"shirt\", \"shoe\", \"mobile\"]\n",
    "\n",
    "i=0\n",
    "while i < 3:\n",
    "    j=0\n",
    "    while j < 3:\n",
    "        print(color[i],\" : \",item[j])\n",
    "        j = j+1\n",
    "    i = i+1"
   ]
  },
  {
   "cell_type": "markdown",
   "id": "90e254d6",
   "metadata": {
    "id": "90e254d6"
   },
   "source": [
    "#### pass in while"
   ]
  },
  {
   "cell_type": "code",
   "execution_count": 61,
   "id": "07724d0c",
   "metadata": {
    "colab": {
     "base_uri": "https://localhost:8080/"
    },
    "executionInfo": {
     "elapsed": 128,
     "status": "ok",
     "timestamp": 1690551260012,
     "user": {
      "displayName": "DSS DSS",
      "userId": "17636620013329168760"
     },
     "user_tz": -330
    },
    "id": "07724d0c",
    "outputId": "71856ce0-991c-4fdd-831f-8edefe997813"
   },
   "outputs": [
    {
     "name": "stdout",
     "output_type": "stream",
     "text": [
      "else\n",
      "end\n"
     ]
    }
   ],
   "source": [
    "i = 1\n",
    "while i>6: # i<6 results in infinite loop\n",
    "    pass\n",
    "else:\n",
    "    print('else')\n",
    "print('end')"
   ]
  },
  {
   "cell_type": "markdown",
   "id": "e715486c",
   "metadata": {
    "id": "e715486c"
   },
   "source": [
    "#### for"
   ]
  },
  {
   "cell_type": "code",
   "execution_count": 62,
   "id": "019742dc",
   "metadata": {
    "colab": {
     "base_uri": "https://localhost:8080/"
    },
    "executionInfo": {
     "elapsed": 127,
     "status": "ok",
     "timestamp": 1690551260012,
     "user": {
      "displayName": "DSS DSS",
      "userId": "17636620013329168760"
     },
     "user_tz": -330
    },
    "id": "019742dc",
    "outputId": "7a01e033-69c7-449b-fbe3-4c8c9c2c1b53"
   },
   "outputs": [
    {
     "name": "stdout",
     "output_type": "stream",
     "text": [
      "range(0, 3) [1, 2, 3, 4]\n",
      "1-2-3-4-5-l a p t o p 0:10 1:20 2:30 111:a 112:b (111, 'a') (112, 'b') "
     ]
    }
   ],
   "source": [
    "print(range(3), list(range(1,5)))\n",
    "for i in range(1,6):\n",
    "    print(i, end='-')\n",
    "for i in \"laptop\":\n",
    "    print(i,end=\" \")\n",
    "for index,element in enumerate([10,20,30]):\n",
    "    print(index,element,sep=':',end=' ')\n",
    "for index,element in enumerate(['a','b'], start=111):\n",
    "    print(index,element,sep=':',end=' ')\n",
    "for i in enumerate(['a','b'], start=111):\n",
    "    print(i,sep=':',end=' ')"
   ]
  },
  {
   "cell_type": "markdown",
   "id": "35eb9776",
   "metadata": {
    "id": "35eb9776"
   },
   "source": [
    "#### for with continue"
   ]
  },
  {
   "cell_type": "code",
   "execution_count": 63,
   "id": "ab9885b3",
   "metadata": {
    "colab": {
     "base_uri": "https://localhost:8080/"
    },
    "executionInfo": {
     "elapsed": 126,
     "status": "ok",
     "timestamp": 1690551260013,
     "user": {
      "displayName": "DSS DSS",
      "userId": "17636620013329168760"
     },
     "user_tz": -330
    },
    "id": "ab9885b3",
    "outputId": "621eee4c-225c-40cc-916b-bd4c12c82e8c"
   },
   "outputs": [
    {
     "name": "stdout",
     "output_type": "stream",
     "text": [
      "1 3 5 7 9 else\n",
      "program continues\n"
     ]
    }
   ],
   "source": [
    "for i in range(1,11): # [1,2,3,4,5,6,7,8,9,10]\n",
    "    if i%2 == 0:\n",
    "        continue\n",
    "    print(i,end=' ')\n",
    "else:\n",
    "    print('else')\n",
    "print('program continues')"
   ]
  },
  {
   "cell_type": "markdown",
   "id": "7f8974f8",
   "metadata": {
    "id": "7f8974f8"
   },
   "source": [
    "#### for with break"
   ]
  },
  {
   "cell_type": "code",
   "execution_count": 64,
   "id": "7a7d1431",
   "metadata": {
    "colab": {
     "base_uri": "https://localhost:8080/"
    },
    "executionInfo": {
     "elapsed": 124,
     "status": "ok",
     "timestamp": 1690551260013,
     "user": {
      "displayName": "DSS DSS",
      "userId": "17636620013329168760"
     },
     "user_tz": -330
    },
    "id": "7a7d1431",
    "outputId": "0f4d3c78-1a73-467a-8ff6-e48539ca9b29"
   },
   "outputs": [
    {
     "name": "stdout",
     "output_type": "stream",
     "text": [
      "1 2 3 4 program continues\n"
     ]
    }
   ],
   "source": [
    "for i in range(1,11): # [1,2,3,4,5,6,7,8,9,10]\n",
    "    if i%5 == 0:\n",
    "        break\n",
    "    print(i,end=' ')\n",
    "else:\n",
    "    print('else')\n",
    "print('program continues')"
   ]
  },
  {
   "cell_type": "markdown",
   "id": "d8888797",
   "metadata": {
    "id": "d8888797"
   },
   "source": [
    "#### nested for"
   ]
  },
  {
   "cell_type": "code",
   "execution_count": 65,
   "id": "583cffd7",
   "metadata": {
    "colab": {
     "base_uri": "https://localhost:8080/"
    },
    "executionInfo": {
     "elapsed": 122,
     "status": "ok",
     "timestamp": 1690551260013,
     "user": {
      "displayName": "DSS DSS",
      "userId": "17636620013329168760"
     },
     "user_tz": -330
    },
    "id": "583cffd7",
    "outputId": "1f155373-6324-4f5f-9a0e-264fc3901d58"
   },
   "outputs": [
    {
     "name": "stdout",
     "output_type": "stream",
     "text": [
      "grey : shirt\n",
      "grey : shoe\n",
      "grey : mobile\n",
      "black : shirt\n",
      "black : shoe\n",
      "black : mobile\n",
      "white : shirt\n",
      "white : shoe\n",
      "white : mobile\n"
     ]
    }
   ],
   "source": [
    "color = [\"grey\", \"black\", \"white\"]\n",
    "item = [\"shirt\", \"shoe\", \"mobile\"]\n",
    "for c in color:\n",
    "    for i in item:\n",
    "        print(c,\":\",i)"
   ]
  },
  {
   "cell_type": "markdown",
   "id": "9be7e8fc",
   "metadata": {
    "id": "9be7e8fc"
   },
   "source": [
    "#### pass in for"
   ]
  },
  {
   "cell_type": "code",
   "execution_count": 66,
   "id": "1f855a93",
   "metadata": {
    "colab": {
     "base_uri": "https://localhost:8080/"
    },
    "executionInfo": {
     "elapsed": 121,
     "status": "ok",
     "timestamp": 1690551260013,
     "user": {
      "displayName": "DSS DSS",
      "userId": "17636620013329168760"
     },
     "user_tz": -330
    },
    "id": "1f855a93",
    "outputId": "b845223b-0911-4739-dbca-0cbfc768c230"
   },
   "outputs": [
    {
     "name": "stdout",
     "output_type": "stream",
     "text": [
      "else\n",
      "program continues\n"
     ]
    }
   ],
   "source": [
    "for i in \"abcd\":\n",
    "    pass\n",
    "else:\n",
    "    print('else')\n",
    "print('program continues')"
   ]
  },
  {
   "cell_type": "markdown",
   "id": "266b4be3",
   "metadata": {
    "id": "266b4be3"
   },
   "source": [
    "### match"
   ]
  },
  {
   "cell_type": "code",
   "execution_count": 67,
   "id": "2a24a18d",
   "metadata": {
    "colab": {
     "base_uri": "https://localhost:8080/"
    },
    "executionInfo": {
     "elapsed": 119,
     "status": "ok",
     "timestamp": 1690551260013,
     "user": {
      "displayName": "DSS DSS",
      "userId": "17636620013329168760"
     },
     "user_tz": -330
    },
    "id": "2a24a18d",
    "outputId": "c64aa5e9-8976-403f-8dad-d6c2388446c2"
   },
   "outputs": [
    {
     "name": "stdout",
     "output_type": "stream",
     "text": [
      "case 400: bad request\n"
     ]
    }
   ],
   "source": [
    "# run in colab\n",
    "status = 400\n",
    "match status:\n",
    "    case 200:\n",
    "        print('case 400: success')\n",
    "    case 400:\n",
    "        print('case 400: bad request')\n",
    "    case 500:\n",
    "        print('case 500: server error')\n",
    "    case _:\n",
    "        print(\"Something's wrong with the internet\")"
   ]
  },
  {
   "cell_type": "markdown",
   "id": "4e2d9c17",
   "metadata": {
    "id": "4e2d9c17"
   },
   "source": [
    "## Data Structures"
   ]
  },
  {
   "cell_type": "markdown",
   "id": "f38da71d",
   "metadata": {
    "id": "f38da71d"
   },
   "source": [
    "### str"
   ]
  },
  {
   "cell_type": "code",
   "execution_count": 68,
   "id": "775f9499",
   "metadata": {
    "colab": {
     "base_uri": "https://localhost:8080/"
    },
    "executionInfo": {
     "elapsed": 119,
     "status": "ok",
     "timestamp": 1690551260014,
     "user": {
      "displayName": "DSS DSS",
      "userId": "17636620013329168760"
     },
     "user_tz": -330
    },
    "id": "775f9499",
    "outputId": "7dab2bd2-bc6b-4727-86c6-5368598d6a46"
   },
   "outputs": [
    {
     "name": "stdout",
     "output_type": "stream",
     "text": [
      "hello hello hello\n",
      "    world\n",
      "\"Python\" \"Python\" Don't use \\ Hello\n"
     ]
    }
   ],
   "source": [
    "print('hello',\"hello\",'''hello\n",
    "    world''')\n",
    "print('\"Python\"', \"\\\"Python\\\"\", 'Don\\'t use \\\\', \"\\x48\\x65\\x6c\\x6c\\x6f\")"
   ]
  },
  {
   "cell_type": "code",
   "execution_count": 69,
   "id": "dc5eeba9",
   "metadata": {
    "colab": {
     "base_uri": "https://localhost:8080/"
    },
    "executionInfo": {
     "elapsed": 117,
     "status": "ok",
     "timestamp": 1690551260014,
     "user": {
      "displayName": "DSS DSS",
      "userId": "17636620013329168760"
     },
     "user_tz": -330
    },
    "id": "dc5eeba9",
    "outputId": "581ae3dd-0875-4578-bc86-b27a50096076"
   },
   "outputs": [
    {
     "name": "stdout",
     "output_type": "stream",
     "text": [
      "0123456789\n",
      "987654321"
     ]
    }
   ],
   "source": [
    "a = '0123456789'\n",
    "b = '987654321'\n",
    "print(a)\n",
    "\n",
    "for i in b:\n",
    "    print(i,end='')"
   ]
  },
  {
   "cell_type": "code",
   "execution_count": 70,
   "id": "a4836565",
   "metadata": {
    "colab": {
     "base_uri": "https://localhost:8080/"
    },
    "executionInfo": {
     "elapsed": 114,
     "status": "ok",
     "timestamp": 1690551260014,
     "user": {
      "displayName": "DSS DSS",
      "userId": "17636620013329168760"
     },
     "user_tz": -330
    },
    "id": "a4836565",
    "outputId": "f835ef45-f354-4286-a333-045cd4d9eb22"
   },
   "outputs": [
    {
     "name": "stdout",
     "output_type": "stream",
     "text": [
      "<class 'str'>\n",
      "10 9\n"
     ]
    }
   ],
   "source": [
    "# type, len\n",
    "print(type(a))\n",
    "print(len(a),len(b))"
   ]
  },
  {
   "cell_type": "code",
   "execution_count": 71,
   "id": "3bf289b1",
   "metadata": {
    "colab": {
     "base_uri": "https://localhost:8080/"
    },
    "executionInfo": {
     "elapsed": 113,
     "status": "ok",
     "timestamp": 1690551260015,
     "user": {
      "displayName": "DSS DSS",
      "userId": "17636620013329168760"
     },
     "user_tz": -330
    },
    "id": "3bf289b1",
    "outputId": "62d5b05e-10fb-4b38-b23a-0dec30559f8c"
   },
   "outputs": [
    {
     "name": "stdout",
     "output_type": "stream",
     "text": [
      "0 9 1 9\n"
     ]
    }
   ],
   "source": [
    "# indexing\n",
    "print(a[0],a[len(a)-1],\n",
    "      b[-1],b[-len(b)])\n",
    "# last_index  = len(a) - 1"
   ]
  },
  {
   "cell_type": "code",
   "execution_count": 72,
   "id": "311a0edb",
   "metadata": {
    "colab": {
     "base_uri": "https://localhost:8080/"
    },
    "executionInfo": {
     "elapsed": 111,
     "status": "ok",
     "timestamp": 1690551260015,
     "user": {
      "displayName": "DSS DSS",
      "userId": "17636620013329168760"
     },
     "user_tz": -330
    },
    "id": "311a0edb",
    "outputId": "b1ffca20-68ba-4672-c099-49dfa47aa6ab"
   },
   "outputs": [
    {
     "name": "stdout",
     "output_type": "stream",
     "text": [
      "True False True\n"
     ]
    }
   ],
   "source": [
    "# membership (in, not in) - check substring\n",
    "print('0' in a, '99' in a, 'abc' not in b)"
   ]
  },
  {
   "cell_type": "code",
   "execution_count": 73,
   "id": "29cac821",
   "metadata": {
    "colab": {
     "base_uri": "https://localhost:8080/"
    },
    "executionInfo": {
     "elapsed": 107,
     "status": "ok",
     "timestamp": 1690551260015,
     "user": {
      "displayName": "DSS DSS",
      "userId": "17636620013329168760"
     },
     "user_tz": -330
    },
    "id": "29cac821",
    "outputId": "67469a8b-93da-401b-dc6b-6b7a113643bd"
   },
   "outputs": [
    {
     "name": "stdout",
     "output_type": "stream",
     "text": [
      "0123456789 0123456789\n",
      "01234 23456789\n",
      "01234567 135\n",
      "9876543210 987654321\n",
      "321 3456789\n"
     ]
    },
    {
     "data": {
      "text/plain": [
       "('', '', '')"
      ]
     },
     "execution_count": 73,
     "metadata": {},
     "output_type": "execute_result"
    }
   ],
   "source": [
    "# slicing\n",
    "print(a[:],a[::]) # 0123456789 0123456789\n",
    "print(a[:5], a[2:]) # 01234 23456789\n",
    "print(a[0:8], a[1:7:2]) # 01234567 135\n",
    "print(a[::-1], a[9:0:-1]) # 9876543210 987654321\n",
    "print(b[-3::], b[-3::-1]) # 321 3456789\n",
    "a[2:9:-1], a[-6:9:-1], b[-2:-9:1],  # empty strings"
   ]
  },
  {
   "cell_type": "code",
   "execution_count": 74,
   "id": "7f10ef2d",
   "metadata": {
    "colab": {
     "base_uri": "https://localhost:8080/"
    },
    "executionInfo": {
     "elapsed": 105,
     "status": "ok",
     "timestamp": 1690551260015,
     "user": {
      "displayName": "DSS DSS",
      "userId": "17636620013329168760"
     },
     "user_tz": -330
    },
    "id": "7f10ef2d",
    "outputId": "2549ca9e-33ca-44dc-a7d4-5d61f0e10d32"
   },
   "outputs": [
    {
     "name": "stdout",
     "output_type": "stream",
     "text": [
      "0123456789987654321 0123456789 987654321 01234567890123456789\n",
      "the number is 5\n",
      "the number is 5\n",
      "the number is 5\n",
      "the number is 5\n"
     ]
    }
   ],
   "source": [
    "print(a+b, a+\" \"+b, a*2)\n",
    "print(\"the number is \" + str(5))\n",
    "print(\"the number is %s\" % str(5))\n",
    "print(\"the number is %d\" % 5)\n",
    "print(\"the number is {}\".format(5))"
   ]
  },
  {
   "cell_type": "code",
   "execution_count": 75,
   "id": "7785da6c",
   "metadata": {
    "colab": {
     "base_uri": "https://localhost:8080/"
    },
    "executionInfo": {
     "elapsed": 103,
     "status": "ok",
     "timestamp": 1690551260015,
     "user": {
      "displayName": "DSS DSS",
      "userId": "17636620013329168760"
     },
     "user_tz": -330
    },
    "id": "7785da6c",
    "outputId": "15b66a8e-7a06-46ed-b98b-409a72ef8acc"
   },
   "outputs": [
    {
     "name": "stdout",
     "output_type": "stream",
     "text": [
      "Hello tony, 25th street is crowded. 1a2a3a-a. groß.\n",
      "Hello Tony, 25Th Street Is Crowded. 1A2A3A-A. Groß.\n",
      "hello tony, 25th street is crowded. 1a2a3a-a. groß.\n",
      "hello tony, 25th street is crowded. 1a2a3a-a. gross.\n",
      "HELLO TONY, 25TH STREET IS CROWDED. 1A2A3A-A. GROSS.\n",
      "HELLO tONY, 25TH STREET IS CROWDED. 1A2A3A-A. gROSS.\n"
     ]
    }
   ],
   "source": [
    "# string methods\n",
    "a = 'hello Tony, 25th street is crowded. 1a2a3a-a. Groß.'\n",
    "print(a.capitalize()) # 1st UC, rest LC\n",
    "print(a.title()) # 1st ch of each word UC\n",
    "print(a.lower()) # all ascii to LC\n",
    "print(a.casefold()) # all strictly LC\n",
    "print(a.upper()) # all strictly UC\n",
    "print(a.swapcase()) # strictly, UC to LC and LC to UC"
   ]
  },
  {
   "cell_type": "code",
   "execution_count": 76,
   "id": "47511421",
   "metadata": {
    "colab": {
     "base_uri": "https://localhost:8080/"
    },
    "executionInfo": {
     "elapsed": 103,
     "status": "ok",
     "timestamp": 1690551260016,
     "user": {
      "displayName": "DSS DSS",
      "userId": "17636620013329168760"
     },
     "user_tz": -330
    },
    "id": "47511421",
    "outputId": "dc761f01-e85d-4455-cf91-a15b6d2a3ccd"
   },
   "outputs": [
    {
     "name": "stdout",
     "output_type": "stream",
     "text": [
      "True False\n",
      "True False False\n",
      "True True False\n",
      "True True True\n",
      "True False\n",
      "True\n",
      "True\n",
      "True\n",
      "True False False\n",
      "False\n",
      "True False\n"
     ]
    }
   ],
   "source": [
    "print('a1'.isalnum(), ' '.isalnum()) # True False\n",
    "print('0'.isdecimal(),'2²'.isdecimal(), 'ↁ'.isdecimal()) # True False False\n",
    "print('0'.isdigit(),'2²'.isdigit(), 'ↁ'.isdigit()) # True True False\n",
    "print('0'.isnumeric(),'2²'.isnumeric(), 'ↁ'.isnumeric()) # True True True\n",
    "print('aA'.isalpha(), '1'.isalpha()) # True False\n",
    "print(' groß'.islower()) # True\n",
    "print(' GROSS'.isupper()) # True\n",
    "print('22Nd, Groß'.istitle()) # True\n",
    "print(\"  \".isspace(), \" s  \".isspace(), \"\".isspace()) # True False False\n",
    "print('2age'.isidentifier()) # False\n",
    "print('hello'.isprintable(), 'hello\\n'.isprintable()) # True False"
   ]
  },
  {
   "cell_type": "code",
   "execution_count": 77,
   "id": "405e6f4e",
   "metadata": {
    "colab": {
     "base_uri": "https://localhost:8080/"
    },
    "executionInfo": {
     "elapsed": 101,
     "status": "ok",
     "timestamp": 1690551260016,
     "user": {
      "displayName": "DSS DSS",
      "userId": "17636620013329168760"
     },
     "user_tz": -330
    },
    "id": "405e6f4e",
    "outputId": "175e19b9-4698-4464-bc66-b318fdd698e6"
   },
   "outputs": [
    {
     "name": "stdout",
     "output_type": "stream",
     "text": [
      "True\n",
      "False\n",
      "True\n",
      "True\n",
      "False\n",
      "True\n"
     ]
    }
   ],
   "source": [
    "print(\"hello welcome to python\".startswith('hello welcome')) # True\n",
    "print(\"hello welcome to python\".startswith('Hello')) # False\n",
    "print(\"hello welcome to python\".startswith('welcome',6,20)) # True (checks in 6th to 10th index in main string)\n",
    "print(\"hello welcome to python\".endswith('python')) # True\n",
    "print(\"hello welcome to python\".endswith('the python')) # False\n",
    "print(\"hello welcome to python\".endswith('come',5,13)) # True (checks in 5th to 13th index in main string)"
   ]
  },
  {
   "cell_type": "code",
   "execution_count": 78,
   "id": "9f2e4358",
   "metadata": {
    "colab": {
     "base_uri": "https://localhost:8080/"
    },
    "executionInfo": {
     "elapsed": 99,
     "status": "ok",
     "timestamp": 1690551260016,
     "user": {
      "displayName": "DSS DSS",
      "userId": "17636620013329168760"
     },
     "user_tz": -330
    },
    "id": "9f2e4358",
    "outputId": "10d5855e-286b-475e-af16-38a4192e3d02"
   },
   "outputs": [
    {
     "name": "stdout",
     "output_type": "stream",
     "text": [
      "2\n",
      "2\n",
      "0\n",
      "2\n"
     ]
    }
   ],
   "source": [
    "print('apple'.count('p')) # 2\n",
    "print('The python, The data science'.count('The')) # 2\n",
    "print('apple'.count('zzz')) # 0\n",
    "print(\"hello welcome to python\".count('o',3,15)) # 2"
   ]
  },
  {
   "cell_type": "code",
   "execution_count": 79,
   "id": "f7a2154b",
   "metadata": {
    "colab": {
     "base_uri": "https://localhost:8080/"
    },
    "executionInfo": {
     "elapsed": 98,
     "status": "ok",
     "timestamp": 1690551260016,
     "user": {
      "displayName": "DSS DSS",
      "userId": "17636620013329168760"
     },
     "user_tz": -330
    },
    "id": "f7a2154b",
    "outputId": "5b0c60ac-25db-47e1-83e2-c9b20a44a116"
   },
   "outputs": [
    {
     "name": "stdout",
     "output_type": "stream",
     "text": [
      "6\n",
      "4\n",
      "-1\n",
      "6\n",
      "4\n",
      "6\n",
      "15\n",
      "-1\n",
      "6\n",
      "15\n"
     ]
    }
   ],
   "source": [
    "print('hello welcome to python'.find('welcome')) # 6\n",
    "print('hello welcome to python'.find('o',2,20)) # 4\n",
    "print('hello welcome to python'.find('z',2,20)) # -1 (NO ERROR)\n",
    "print('hello welcome to python'.index('welcome')) # 6\n",
    "print('hello welcome to python'.index('o',2,20)) # 4\n",
    "# print('hello welcome to python'.index('z',2,20)) # ValueError: substring not found\n",
    "\n",
    "print('hello welcome to python'.rfind('welcome')) # 6\n",
    "print('hello welcome to python'.rfind('o',2,20)) # 15\n",
    "print('hello welcome to python'.rfind('z',2,20)) # -1 (NO ERROR)\n",
    "print('hello welcome to python'.rindex('welcome')) # 6\n",
    "print('hello welcome to python'.rindex('o',2,20)) # 15\n",
    "# print('hello welcome to python'.rindex('z',2,20)) # ValueError: substring not found"
   ]
  },
  {
   "cell_type": "code",
   "execution_count": 80,
   "id": "52316d43",
   "metadata": {
    "colab": {
     "base_uri": "https://localhost:8080/"
    },
    "executionInfo": {
     "elapsed": 96,
     "status": "ok",
     "timestamp": 1690551260016,
     "user": {
      "displayName": "DSS DSS",
      "userId": "17636620013329168760"
     },
     "user_tz": -330
    },
    "id": "52316d43",
    "outputId": "e6e654c7-cde2-4510-d1d5-b1569143926f"
   },
   "outputs": [
    {
     "name": "stdout",
     "output_type": "stream",
     "text": [
      "b'I am Stle. Gro'\n",
      "b'I am St?le. Gro?'\n",
      "b'I am St\\\\xe5le. Gro\\\\xdf'\n",
      "b'I am St\\\\N{LATIN SMALL LETTER A WITH RING ABOVE}le. Gro\\\\N{LATIN SMALL LETTER SHARP S}'\n"
     ]
    }
   ],
   "source": [
    "txt = \"I am Ståle. Groß\"\n",
    "print(txt.encode(encoding=\"ascii\",errors=\"ignore\"))\n",
    "print(txt.encode(encoding=\"ascii\",errors=\"replace\"))\n",
    "print(txt.encode(encoding=\"ascii\",errors=\"backslashreplace\"))\n",
    "print(txt.encode(encoding=\"ascii\",errors=\"namereplace\"))\n",
    "# print(txt.encode(encoding=\"ascii\",errors=\"strict\")) # UnicodeEncodeError: 'ascii' codec can't encode character '\\xe5' in position 7: ordinal not in range(128)"
   ]
  },
  {
   "cell_type": "code",
   "execution_count": 81,
   "id": "d24c375d",
   "metadata": {
    "colab": {
     "base_uri": "https://localhost:8080/"
    },
    "executionInfo": {
     "elapsed": 95,
     "status": "ok",
     "timestamp": 1690551260017,
     "user": {
      "displayName": "DSS DSS",
      "userId": "17636620013329168760"
     },
     "user_tz": -330
    },
    "id": "d24c375d",
    "outputId": "b0df5e40-ceab-4150-e417-2e8a7c439b9a"
   },
   "outputs": [
    {
     "name": "stdout",
     "output_type": "stream",
     "text": [
      "h\te\tl\tl\to\n",
      "h       e       l       l       o\n",
      "h       e       l       l       o\n",
      "h e l l o\n",
      "h   e   l   l   o\n",
      "h         e         l         l         o\n",
      "h\te\tl\tl\to\n"
     ]
    }
   ],
   "source": [
    "txt = 'h\\te\\tl\\tl\\to'\n",
    "print(txt)\n",
    "print(txt.expandtabs())\n",
    "print(txt.expandtabs(8)) # default\n",
    "print(txt.expandtabs(2))\n",
    "print(txt.expandtabs(4))\n",
    "print(txt.expandtabs(10))\n",
    "print(txt)"
   ]
  },
  {
   "cell_type": "code",
   "execution_count": 82,
   "id": "b93c3971",
   "metadata": {
    "colab": {
     "base_uri": "https://localhost:8080/"
    },
    "executionInfo": {
     "elapsed": 93,
     "status": "ok",
     "timestamp": 1690551260017,
     "user": {
      "displayName": "DSS DSS",
      "userId": "17636620013329168760"
     },
     "user_tz": -330
    },
    "id": "b93c3971",
    "outputId": "ea606d6f-de72-4e3c-ba3d-02a72a5bf4d4"
   },
   "outputs": [
    {
     "name": "stdout",
     "output_type": "stream",
     "text": [
      "6 pens cost $55.456\n",
      "6 pens cost $55.46\n",
      "My name is John, I'm 60\n",
      "I'm 25. My name is Tony\n",
      "My name is Allen, I'm 40\n"
     ]
    }
   ],
   "source": [
    "print('6 pens cost ${}'.format(55.456))\n",
    "print('6 pens cost ${price:.2f}'.format(price=55.456))\n",
    "#named indexes:\n",
    "print(\"My name is {fname}, I'm {age}\".format(age = 60, fname = \"John\")) # oder of parameters is not imp\n",
    "#numbered indexes:\n",
    "print(\"I'm {1}. My name is {0}\".format(\"Tony\",25)) # oder is imp\n",
    "#empty placeholders:\n",
    "print(\"My name is {}, I'm {}\".format(\"Allen\",40)) # oder is imp"
   ]
  },
  {
   "cell_type": "code",
   "execution_count": 83,
   "id": "635d53c9",
   "metadata": {
    "colab": {
     "base_uri": "https://localhost:8080/"
    },
    "executionInfo": {
     "elapsed": 91,
     "status": "ok",
     "timestamp": 1690551260017,
     "user": {
      "displayName": "DSS DSS",
      "userId": "17636620013329168760"
     },
     "user_tz": -330
    },
    "id": "635d53c9",
    "outputId": "7b6f3050-1ca2-443a-e01d-626dd467c346"
   },
   "outputs": [
    {
     "name": "stdout",
     "output_type": "stream",
     "text": [
      "pqc pqcd pqcde\n",
      "pqc pqcd abcde\n",
      "abc abcd abcde\n",
      "john-tony-allen\n",
      "['he', 'is', 'kind']\n",
      "['he is kind', 'strong', 'intelligent']\n",
      "['he is kind', 'strong, intelligent']\n",
      "['he', 'is', 'kind']\n",
      "['he is kind', 'strong', 'intelligent']\n",
      "['he is kind, strong', 'intelligent']\n",
      "['hello', 'world', 'welcome\\tto\\tpython']\n",
      "['hello\\n', 'world\\n', 'welcome\\tto\\tpython']\n"
     ]
    }
   ],
   "source": [
    "print('abc abcd abcde'.replace('ab','pq')) # pqc pqcd pqcde\n",
    "print('abc abcd abcde'.replace('ab','pq',2)) # pqc pqcd abcde\n",
    "print('abc abcd abcde'.replace('ij','pq')) # abc abcd abcde => NO ERROR\n",
    "\n",
    "names = ['john','tony','allen']\n",
    "print('-'.join(names)) # joins collection elements and returns a string\n",
    "\n",
    "print('he is kind'.split()) # ['he', 'is', 'kind'], splits str into list\n",
    "print('he is kind, strong, intelligent'.split(', ')) # ['he is kind', 'strong', 'intelligent']\n",
    "print('he is kind, strong, intelligent'.split(sep=', ', maxsplit=1)) # ['he is kind', 'strong, intelligent'], maxsplit = 1\n",
    "\n",
    "print('he is kind'.rsplit()) # ['he', 'is', 'kind']\n",
    "print('he is kind, strong, intelligent'.rsplit(', ')) # ['he is kind', 'strong', 'intelligent']\n",
    "print('he is kind, strong, intelligent'.rsplit(sep=', ', maxsplit=1)) # ['he is kind, strong', 'intelligent'], maxsplit = 1\n",
    "\n",
    "print('hello\\nworld\\nwelcome\\tto\\tpython'.splitlines()) # ['hello', 'world', 'welcome\\tto\\tpython']\n",
    "print('hello\\nworld\\nwelcome\\tto\\tpython'.splitlines(keepends=True)) # ['hello\\n', 'world\\n', 'welcome\\tto\\tpython']"
   ]
  },
  {
   "cell_type": "code",
   "execution_count": 84,
   "id": "ecf3fb5b",
   "metadata": {
    "colab": {
     "base_uri": "https://localhost:8080/"
    },
    "executionInfo": {
     "elapsed": 89,
     "status": "ok",
     "timestamp": 1690551260017,
     "user": {
      "displayName": "DSS DSS",
      "userId": "17636620013329168760"
     },
     "user_tz": -330
    },
    "id": "ecf3fb5b",
    "outputId": "04b2d010-9cb6-42ad-e62b-3fce40881a3b"
   },
   "outputs": [
    {
     "name": "stdout",
     "output_type": "stream",
     "text": [
      "('I like ', 'apples', ', she likes apples and mangoes')\n",
      "('I like apples, she likes apples and mangoes', '', '')\n",
      "('I like apples, she likes ', 'apples', ' and mangoes')\n",
      "('', '', 'I like apples, she likes apples and mangoes')\n"
     ]
    }
   ],
   "source": [
    "txt = 'I like apples, she likes apples and mangoes'\n",
    "print(txt.partition('apples')) # ('I like ', 'apples', ', she likes apples and mangoes')\n",
    "print(txt.partition('kiwi')) # ('I like apples, she likes apples and mangoes', '', '')\n",
    "print(txt.rpartition('apples')) # ('I like apples, she likes ', 'apples', ' and mangoes')\n",
    "print(txt.rpartition('kiwi')) # ('', '', 'I like apples, she likes apples and mangoes')"
   ]
  },
  {
   "cell_type": "code",
   "execution_count": 85,
   "id": "4922ce0c",
   "metadata": {
    "colab": {
     "base_uri": "https://localhost:8080/"
    },
    "executionInfo": {
     "elapsed": 88,
     "status": "ok",
     "timestamp": 1690551260017,
     "user": {
      "displayName": "DSS DSS",
      "userId": "17636620013329168760"
     },
     "user_tz": -330
    },
    "id": "4922ce0c",
    "outputId": "d783cf2b-d42a-4c92-d807-c697df68d00b"
   },
   "outputs": [
    {
     "name": "stdout",
     "output_type": "stream",
     "text": [
      "Hello John {110: 121, 111: 111, 74: 84, 104: 110} Hello Tony\n",
      "Hello John {110: 121, 111: 111, 74: 84, 104: 110, 101: None, 108: None, 72: None} o Tony\n"
     ]
    }
   ],
   "source": [
    "txt = 'Hello John'\n",
    "trans_table = txt.maketrans('noJh','yoTn')\n",
    "new_txt = txt.translate(trans_table)\n",
    "print(txt, trans_table, new_txt)\n",
    "\n",
    "trans_table = txt.maketrans('noJh','yoTn','elH')\n",
    "new_txt = txt.translate(trans_table)\n",
    "print(txt, trans_table, new_txt)"
   ]
  },
  {
   "cell_type": "code",
   "execution_count": 86,
   "id": "1ff088b1",
   "metadata": {
    "colab": {
     "base_uri": "https://localhost:8080/"
    },
    "executionInfo": {
     "elapsed": 86,
     "status": "ok",
     "timestamp": 1690551260017,
     "user": {
      "displayName": "DSS DSS",
      "userId": "17636620013329168760"
     },
     "user_tz": -330
    },
    "id": "1ff088b1",
    "outputId": "2f77031d-3bf8-44d4-9eca-7d01672c0be9"
   },
   "outputs": [
    {
     "name": "stdout",
     "output_type": "stream",
     "text": [
      "abcdBanana, applesabcd\n",
      "abcdBanana, applesabcd    \n",
      "    abcdBanana, applesabcd\n",
      "Banana, apples\n",
      "Banana, applesabcd    \n",
      "    abcdBanana, apples\n"
     ]
    }
   ],
   "source": [
    "txt = \"    abcdBanana, applesabcd    \"\n",
    "print(txt.strip())\n",
    "print(txt.lstrip())\n",
    "print(txt.rstrip())\n",
    "print(txt.strip('da bc'))\n",
    "print(txt.lstrip('da bc'))\n",
    "print(txt.rstrip('da bc'))"
   ]
  },
  {
   "cell_type": "code",
   "execution_count": 87,
   "id": "576284fb",
   "metadata": {
    "colab": {
     "base_uri": "https://localhost:8080/"
    },
    "executionInfo": {
     "elapsed": 85,
     "status": "ok",
     "timestamp": 1690551260018,
     "user": {
      "displayName": "DSS DSS",
      "userId": "17636620013329168760"
     },
     "user_tz": -330
    },
    "id": "576284fb",
    "outputId": "90099bcf-3093-49d7-cf4f-8cad3bb57a6f"
   },
   "outputs": [
    {
     "name": "stdout",
     "output_type": "stream",
     "text": [
      "         DSS         \n",
      "*********DSS*********\n",
      "DSS         \n",
      "DSS*********\n",
      "         DSS\n",
      "*********DSS\n",
      "25\n",
      "0025\n",
      "00DSS\n"
     ]
    }
   ],
   "source": [
    "txt = 'DSS'\n",
    "print(txt.center(21))\n",
    "print(txt.center(21, '*'))\n",
    "print(txt.ljust(12))\n",
    "print(txt.ljust(12, '*'))\n",
    "print(txt.rjust(12))\n",
    "print(txt.rjust(12, '*'))\n",
    "\n",
    "number = '25'\n",
    "print(number.zfill(1))\n",
    "print(number.zfill(4))\n",
    "print(txt.zfill(5))"
   ]
  },
  {
   "cell_type": "markdown",
   "id": "66947745",
   "metadata": {
    "id": "66947745"
   },
   "source": [
    "### list"
   ]
  },
  {
   "cell_type": "markdown",
   "id": "a91858ad",
   "metadata": {
    "id": "a91858ad"
   },
   "source": [
    "- heterogeneous, ordered (indexed), mutable, allow duplicates"
   ]
  },
  {
   "cell_type": "code",
   "execution_count": 88,
   "id": "c441a1d2",
   "metadata": {
    "colab": {
     "base_uri": "https://localhost:8080/"
    },
    "executionInfo": {
     "elapsed": 84,
     "status": "ok",
     "timestamp": 1690551260018,
     "user": {
      "displayName": "DSS DSS",
      "userId": "17636620013329168760"
     },
     "user_tz": -330
    },
    "id": "c441a1d2",
    "outputId": "a88c60dc-f482-4ac2-937b-5ee0fa194a8b"
   },
   "outputs": [
    {
     "name": "stdout",
     "output_type": "stream",
     "text": [
      "[1, 1, 2.5, 'a', True, [10, 20]] <class 'list'> 6\n",
      "1 [10, 20] 10 [1, 1, 2.5] [10]\n",
      "['p', 'q', 'a', True, [10, 20]]\n",
      "['a', 'b']\n",
      "['a', 'b', 'a', 'b'] ['a', 'b', 'a', 'b', 'a', 'b']\n",
      "[1, 2]\n",
      "True False False False\n"
     ]
    }
   ],
   "source": [
    "l1 = [1, 1, 2.5, \"a\", True, [10,20]]\n",
    "print(l1, type(l1), len(l1))\n",
    "print(l1[0],l1[-1],l1[-1][0], l1[:3], l1[-1][-2:-1:1])\n",
    "# print(l1[100]) # IndexError: list index out of range\n",
    "\n",
    "l1[0] = 'p'\n",
    "l1[1:3] = 'q'\n",
    "print(l1)\n",
    "\n",
    "l2 = list(\"ab\")\n",
    "print(l2)\n",
    "print(l2 + l2, l2 * 3)\n",
    "\n",
    "l3 = list((1,2,3))\n",
    "del l3[-1]\n",
    "print(l3)\n",
    "\n",
    "print(1 in l3, 'n' in l2, 10 in l1, [10,20] not in l1)\n",
    "del l3\n",
    "# print(l3) # NameError: name 'l3' is not defined"
   ]
  },
  {
   "cell_type": "code",
   "execution_count": 89,
   "id": "24500920",
   "metadata": {
    "colab": {
     "base_uri": "https://localhost:8080/"
    },
    "executionInfo": {
     "elapsed": 81,
     "status": "ok",
     "timestamp": 1690551260018,
     "user": {
      "displayName": "DSS DSS",
      "userId": "17636620013329168760"
     },
     "user_tz": -330
    },
    "id": "24500920",
    "outputId": "d07b672a-e80c-4297-83ec-0be8ae299eef"
   },
   "outputs": [
    {
     "name": "stdout",
     "output_type": "stream",
     "text": [
      "[] [] [] [] [] []\n"
     ]
    }
   ],
   "source": [
    "# empty list\n",
    "l1 = []\n",
    "l2 = list()\n",
    "l3 = [].copy()\n",
    "\n",
    "l4 = [1,2,3]\n",
    "l4.clear()\n",
    "\n",
    "l5 = [][:]\n",
    "l6 = [value for value in []]\n",
    "print(l1,l2,l3,l4,l5,l6)"
   ]
  },
  {
   "cell_type": "code",
   "execution_count": 90,
   "id": "47b4dcfb",
   "metadata": {
    "colab": {
     "base_uri": "https://localhost:8080/"
    },
    "executionInfo": {
     "elapsed": 79,
     "status": "ok",
     "timestamp": 1690551260018,
     "user": {
      "displayName": "DSS DSS",
      "userId": "17636620013329168760"
     },
     "user_tz": -330
    },
    "id": "47b4dcfb",
    "outputId": "9eb51dbf-b24e-4e43-d13a-251d60d2a105"
   },
   "outputs": [
    {
     "name": "stdout",
     "output_type": "stream",
     "text": [
      "1\n",
      "2\n",
      "3\n",
      "[4, 5, 6]\n",
      "1\n",
      "2\n",
      "3\n",
      "[4, 5, 6]\n",
      "1\n",
      "2\n",
      "3\n",
      "[4, 5, 6]\n"
     ]
    }
   ],
   "source": [
    "l1 = [1,2,3, [4,5,6]]\n",
    "for i in l1:\n",
    "    print(i)\n",
    "\n",
    "for i in range(len(l1)):\n",
    "    print(l1[i])\n",
    "\n",
    "i = 0\n",
    "while i < len(l1):\n",
    "    print(l1[i])\n",
    "    i+=1"
   ]
  },
  {
   "cell_type": "code",
   "execution_count": 91,
   "id": "7b8c57e6",
   "metadata": {
    "colab": {
     "base_uri": "https://localhost:8080/"
    },
    "executionInfo": {
     "elapsed": 77,
     "status": "ok",
     "timestamp": 1690551260018,
     "user": {
      "displayName": "DSS DSS",
      "userId": "17636620013329168760"
     },
     "user_tz": -330
    },
    "id": "7b8c57e6",
    "outputId": "f33d7498-e30e-44b6-dd55-9c4667f5fd35"
   },
   "outputs": [
    {
     "name": "stdout",
     "output_type": "stream",
     "text": [
      "[1, 2, 3, 1, [1, 5]]\n",
      "[1, 2, 3, 1, [1, 5], 6, 7]\n",
      "[1, '10', 2, 3, 1, [1, 5], 6, ['a', 'b'], 7]\n",
      "True False\n",
      "True True\n",
      "2 0\n",
      "0\n",
      "7 3 b [1, '10', 2, 1, [1, 5], 6, ['a']]\n",
      "None [1, '10', 2, 1, [1, 5], 6]\n",
      "[2, 3, 1] [1, 3, 2]\n",
      "None [2, 3, 1]\n",
      "None ['Banana', 'an', 'apple', 'the']\n",
      "None ['the', 'apple', 'an', 'Banana']\n",
      "None ['an', 'the', 'apple', 'Banana']\n",
      "None ['the', 'Banana', 'apple', 'an']\n"
     ]
    }
   ],
   "source": [
    "# list methods\n",
    "l1 = [1,2,3]\n",
    "l1.append(1)\n",
    "l1.append([1,5]); print(l1)\n",
    "l1.extend([6,7]); print(l1)\n",
    "# l1.extend(8) # TypeError: 'int' object is not iterable\n",
    "l1.insert(1,'10')\n",
    "l1.insert(-1,['a','b']); print(l1)\n",
    "\n",
    "l2 = l1.copy()\n",
    "l3 = l1\n",
    "print(l2==l1, l1 is l2)\n",
    "print(l3==l1, l1 is l3)\n",
    "\n",
    "print(l1.count(1), l1.count(100))\n",
    "print(l1.index(1)) # 1st occurence\n",
    "# print(l1.index(100)) # ValueError: 100 is not in list\n",
    "print(l1.pop(), l1.pop(3), l1[-1].pop(), l1)\n",
    "print(l1.remove(['a']), l1) # remove doesnot return anything so, None\n",
    "\n",
    "l1 = [1,3,2]\n",
    "print(l1[::-1], l1) # original list is not affected\n",
    "print(l1.reverse(), l1) # original list is affected\n",
    "\n",
    "l1 = ['an','apple','the', 'Banana']\n",
    "print(l1.sort(), l1) # original list is affected\n",
    "print(l1.sort(reverse = True), l1) # original list is affected\n",
    "\n",
    "def length(s):\n",
    "    return len(s)\n",
    "\n",
    "print(l1.sort(key = length), l1)\n",
    "print(l1.sort(key = str.lower, reverse = True), l1)"
   ]
  },
  {
   "cell_type": "code",
   "execution_count": 92,
   "id": "56f36190",
   "metadata": {
    "executionInfo": {
     "elapsed": 75,
     "status": "ok",
     "timestamp": 1690551260018,
     "user": {
      "displayName": "DSS DSS",
      "userId": "17636620013329168760"
     },
     "user_tz": -330
    },
    "id": "56f36190"
   },
   "outputs": [],
   "source": [
    "def function(d):\n",
    "    return d['age']\n",
    "\n",
    "student = [{'name':'tony','age':26},\n",
    "           {'name':'harry','age':22},\n",
    "           {'name':'iris','age':25},\n",
    "           {'name':'john','age':23}]\n",
    "student.sort(key=function)"
   ]
  },
  {
   "cell_type": "markdown",
   "id": "e564ba6c",
   "metadata": {
    "id": "18746824"
   },
   "source": [
    "1. print all elements in different lines in l1 = [1,2,3, [4,5,6]]\n",
    "2. Print sum of all elements in  l1 = [1,2,3, [4,5,6]]"
   ]
  },
  {
   "cell_type": "markdown",
   "id": "7e07c8dc",
   "metadata": {
    "id": "7e07c8dc"
   },
   "source": [
    "### tuple"
   ]
  },
  {
   "cell_type": "markdown",
   "id": "7a8cb893",
   "metadata": {
    "id": "7a8cb893"
   },
   "source": [
    "- heterogeneous, ordered (indexed), immutable, allow duplicates"
   ]
  },
  {
   "cell_type": "code",
   "execution_count": 93,
   "id": "ef9d1f99",
   "metadata": {
    "colab": {
     "base_uri": "https://localhost:8080/"
    },
    "executionInfo": {
     "elapsed": 76,
     "status": "ok",
     "timestamp": 1690551260019,
     "user": {
      "displayName": "DSS DSS",
      "userId": "17636620013329168760"
     },
     "user_tz": -330
    },
    "id": "ef9d1f99",
    "outputId": "baf95eca-db45-4f2e-df57-8b1f33594e0c",
    "scrolled": false
   },
   "outputs": [
    {
     "name": "stdout",
     "output_type": "stream",
     "text": [
      "1 (1,) (1, 2, (3, 4), [5, 6]) <class 'int'> <class 'tuple'> 1 4\n",
      "() () () ()\n",
      "136118692102256 136118692102256 136118692102256 136118692102256 136118267246192 136118267005824 0\n",
      "(1, True, False, 'abc', 1, True, False, 'abc') (1, True, False, 'abc', 1, True, False, 'abc')\n"
     ]
    }
   ],
   "source": [
    "i = (1)\n",
    "tuple1 = (1,)\n",
    "tuple2 = (1,2,(3,4),[5,6])\n",
    "print(i,tuple1,tuple2, type(i), type(tuple1), len(tuple1), len(tuple2))\n",
    "t1 = ()\n",
    "t2 = tuple(())\n",
    "t3 = ()[:]\n",
    "t4 = t1\n",
    "print(t1,t2,t3,t4)\n",
    "print(id(t1),id(t2),id(t3),id(t4),id(tuple1), id(tuple2), len(t1))\n",
    "\n",
    "t = (1,True, bool(0),\"abc\")\n",
    "print(t+t, t*2)\n",
    "# print(t+[1,2]) # TypeError: can only concatenate tuple (not \"list\") to tuple"
   ]
  },
  {
   "cell_type": "markdown",
   "id": "7c90d23e",
   "metadata": {
    "id": "7c90d23e"
   },
   "source": [
    "#### tuple vs lists\n",
    "\n",
    "- immutable | mutable\n",
    "- Less memory | More memory [obj.\\__sizeof__()]\n",
    "- **Static** [single block of memory] | Dynamic [two blocks]\n",
    "- Good for accessing elements | Good for insertion and deletion operations\n",
    "- implementation  of iterations is faster | time consuming\n",
    "- limited inbuilt methods | Several inbuilt methods\n",
    "- **historical, db data** | temp data\n",
    "- to store a row data | temp row data\n",
    "- use when we are confident on data | use to contain similar type elements\n",
    "- to read elements | to update elements"
   ]
  },
  {
   "cell_type": "code",
   "execution_count": 94,
   "id": "cd5fffef",
   "metadata": {
    "colab": {
     "base_uri": "https://localhost:8080/"
    },
    "executionInfo": {
     "elapsed": 74,
     "status": "ok",
     "timestamp": 1690551260019,
     "user": {
      "displayName": "DSS DSS",
      "userId": "17636620013329168760"
     },
     "user_tz": -330
    },
    "id": "cd5fffef",
    "outputId": "9e4550bd-d266-448d-ad9e-db7f366059b2"
   },
   "outputs": [
    {
     "name": "stdout",
     "output_type": "stream",
     "text": [
      "48 72\n"
     ]
    }
   ],
   "source": [
    "t1 = (1,2,3)\n",
    "l1 = [1,2,3]\n",
    "print(t1.__sizeof__(), l1.__sizeof__())"
   ]
  },
  {
   "cell_type": "code",
   "execution_count": 95,
   "id": "22bcbb27",
   "metadata": {
    "colab": {
     "base_uri": "https://localhost:8080/"
    },
    "executionInfo": {
     "elapsed": 72,
     "status": "ok",
     "timestamp": 1690551260019,
     "user": {
      "displayName": "DSS DSS",
      "userId": "17636620013329168760"
     },
     "user_tz": -330
    },
    "id": "22bcbb27",
    "outputId": "29d15e05-28a2-4463-f7b9-b747ef996e1c"
   },
   "outputs": [
    {
     "name": "stdout",
     "output_type": "stream",
     "text": [
      "1 c (1, 2, 3) ((4, 'abcd'), 3, 2, 1) (2, 3) ()\n",
      "True True True\n",
      "1\n",
      "2\n",
      "3\n",
      "(4, 'abcd')\n",
      "1\n",
      "2\n",
      "3\n",
      "(4, 'abcd')\n",
      "2\n",
      "(4, 'abcd')\n",
      "1 [2, 3] (4, 'abcd')\n"
     ]
    }
   ],
   "source": [
    "t1 = (1,2,3, (4,\"abcd\"))\n",
    "print(t1[0], t1[-1][1][2], t1[:-1], t1[::-1], t1[-3:-1:1], t1[-3:-1:-1])\n",
    "print(1 in t1, \"abcd\" in t1[-1], 4 not in t1)\n",
    "\n",
    "for i in t1:\n",
    "    print(i)\n",
    "\n",
    "for i in range(len(t1)):\n",
    "    print(t1[i])\n",
    "\n",
    "i = 1\n",
    "while i < len(t1): # loop through alternate elements\n",
    "    print(t1[i])\n",
    "    i+=2\n",
    "\n",
    "p,*_,r = t1\n",
    "print(p,_,r)"
   ]
  },
  {
   "cell_type": "code",
   "execution_count": 96,
   "id": "2ffb5500",
   "metadata": {
    "colab": {
     "base_uri": "https://localhost:8080/"
    },
    "executionInfo": {
     "elapsed": 71,
     "status": "ok",
     "timestamp": 1690551260019,
     "user": {
      "displayName": "DSS DSS",
      "userId": "17636620013329168760"
     },
     "user_tz": -330
    },
    "id": "2ffb5500",
    "outputId": "351156f9-5c87-4e86-a448-b74892c7a76d"
   },
   "outputs": [
    {
     "name": "stdout",
     "output_type": "stream",
     "text": [
      "136118254243888\n",
      "(1, 2, 3, (4, 'abcd'), 5) 136118266669200\n"
     ]
    }
   ],
   "source": [
    "t1 = (1,2,3, (4,\"abcd\"))\n",
    "\n",
    "print(id(t1))\n",
    "# t1[0] = 10 # TypeError: 'tuple' object does not support item assignment\n",
    "# t1.append(5) # AttributeError: 'tuple' object has no attribute 'append'\n",
    "t1 = t1 + (5,)\n",
    "print(t1, id(t1)) # new tuple\n",
    "# t1 = t1 + [1,2,3] # TypeError: can only concatenate tuple (not \"list\") to tuple\n",
    "\n",
    "# del t1[0] # TypeError: 'tuple' object doesn't support item deletion\n",
    "del t1\n",
    "# print(t1) # NameError: name 't1' is not defined"
   ]
  },
  {
   "cell_type": "code",
   "execution_count": 97,
   "id": "6a6e38a5",
   "metadata": {
    "colab": {
     "base_uri": "https://localhost:8080/"
    },
    "executionInfo": {
     "elapsed": 69,
     "status": "ok",
     "timestamp": 1690551260019,
     "user": {
      "displayName": "DSS DSS",
      "userId": "17636620013329168760"
     },
     "user_tz": -330
    },
    "id": "6a6e38a5",
    "outputId": "be137f0e-4f92-43b8-859e-96d629351943"
   },
   "outputs": [
    {
     "name": "stdout",
     "output_type": "stream",
     "text": [
      "3 0 0\n"
     ]
    }
   ],
   "source": [
    "# tuple methods\n",
    "t1 = (1,2,\"abcd\", True, 1,2)\n",
    "print(t1.count(1), # counts True as 1\n",
    "      t1.count(100), # 0\n",
    "      t1.index(1), # 1st occurence index\n",
    "#       t1.index(100) # ValueError: tuple.index(x): x not in tuple\n",
    "     )"
   ]
  },
  {
   "cell_type": "markdown",
   "id": "7271cbc2",
   "metadata": {
    "id": "7271cbc2"
   },
   "source": [
    "#### named tuple\n",
    "- ordered, access from both key-value and iteration"
   ]
  },
  {
   "cell_type": "code",
   "execution_count": 98,
   "id": "4fbd6559",
   "metadata": {
    "colab": {
     "base_uri": "https://localhost:8080/"
    },
    "executionInfo": {
     "elapsed": 68,
     "status": "ok",
     "timestamp": 1690551260019,
     "user": {
      "displayName": "DSS DSS",
      "userId": "17636620013329168760"
     },
     "user_tz": -330
    },
    "id": "4fbd6559",
    "outputId": "a1c4a3b6-94a9-44dc-f15f-43d32bce48b0"
   },
   "outputs": [
    {
     "name": "stdout",
     "output_type": "stream",
     "text": [
      "Student age: 19\n",
      "Student name: Nandini\n",
      "Student DOB: 25-4-1997\n",
      "Student(name='Nandini', age='19', DOB='25-4-1997') <class '__main__.Student'> ('name', 'age', 'DOB')\n"
     ]
    }
   ],
   "source": [
    "from collections import namedtuple\n",
    "\n",
    "# Declaring namedtuple()\n",
    "Student = namedtuple('Student', ['name', 'age', 'DOB']) # Student is tuple name. 'name', 'age', 'DOB' are keys of that tuple\n",
    "\n",
    "# Adding values\n",
    "S = Student('Nandini', '19', '25-4-1997')\n",
    "\n",
    "# Access using index\n",
    "print('Student age:',S[1])\n",
    "\n",
    "# Access using name\n",
    "print('Student name:',S.name)\n",
    "\n",
    "# Access using getattr()\n",
    "print('Student DOB:',getattr(S, 'DOB'))\n",
    "\n",
    "print(S, type(S), S._fields)"
   ]
  },
  {
   "cell_type": "markdown",
   "id": "34862af7",
   "metadata": {
    "id": "34862af7"
   },
   "source": [
    "### dict"
   ]
  },
  {
   "cell_type": "markdown",
   "id": "7c723d4f",
   "metadata": {
    "id": "7c723d4f"
   },
   "source": [
    "- key-value pairs, ordered, keys are immutable types (hashable), items are mutable, no duplicates for key, values can be duplicates and mutable or immutable\n",
    "- constant time lookup O(1) regardless of dict size"
   ]
  },
  {
   "cell_type": "code",
   "execution_count": 99,
   "id": "72917a13",
   "metadata": {
    "colab": {
     "base_uri": "https://localhost:8080/"
    },
    "executionInfo": {
     "elapsed": 67,
     "status": "ok",
     "timestamp": 1690551260020,
     "user": {
      "displayName": "DSS DSS",
      "userId": "17636620013329168760"
     },
     "user_tz": -330
    },
    "id": "72917a13",
    "outputId": "4c8c2e46-a07e-4b16-f579-8e6d2b89d059"
   },
   "outputs": [
    {
     "name": "stdout",
     "output_type": "stream",
     "text": [
      "{1: 'a', 2: 'b', None: 'c', 'd': 5} <class 'dict'> 4\n",
      "40 {1: 'a', 2: 'b', None: 'c', 'd': 40, 'e': 50}\n",
      "True False\n"
     ]
    }
   ],
   "source": [
    "d = {1:'a',2:\"b\",None:\"c\", \"d\":4, \"d\":5} # no duplicates in key\n",
    "print(d, type(d), len(d))\n",
    "d['d'] = 40 # modify item\n",
    "d['e'] = 50 # add new item\n",
    "print(d['d'],d)\n",
    "# print(d['p']) # KeyError: 'p'\n",
    "print('d' in d, 40 in d) # checks in keys"
   ]
  },
  {
   "cell_type": "code",
   "execution_count": 100,
   "id": "1f2617a8",
   "metadata": {
    "colab": {
     "base_uri": "https://localhost:8080/"
    },
    "executionInfo": {
     "elapsed": 65,
     "status": "ok",
     "timestamp": 1690551260020,
     "user": {
      "displayName": "DSS DSS",
      "userId": "17636620013329168760"
     },
     "user_tz": -330
    },
    "id": "1f2617a8",
    "outputId": "fa986282-90f7-4d63-c570-3fa343ce4615"
   },
   "outputs": [
    {
     "name": "stdout",
     "output_type": "stream",
     "text": [
      "dict_items([(1, 'a'), (2, 'b'), (None, 'c'), ('d', 40), ('e', 50), ('f', 60)])\n",
      "dict_keys([1, 2, None, 'd', 'e', 'f'])\n",
      "dict_values(['a', 'b', 'c', 40, 50, 60])\n",
      "1\n",
      "2\n",
      "None\n",
      "d\n",
      "e\n",
      "f\n",
      "1 a\n",
      "2 b\n",
      "None c\n",
      "d 40\n",
      "e 50\n",
      "f 60\n",
      "1 a\n",
      "2 b\n",
      "None c\n",
      "d 40\n",
      "e 50\n",
      "f 60\n",
      "(1, 'a')\n",
      "(2, 'b')\n",
      "(None, 'c')\n",
      "('d', 40)\n",
      "('e', 50)\n",
      "('f', 60)\n"
     ]
    }
   ],
   "source": [
    "i = d.items()\n",
    "k = d.keys()\n",
    "v = d.values()\n",
    "\n",
    "d['f'] = 60\n",
    "print(i,k,v,sep='\\n')\n",
    "\n",
    "for key in d:\n",
    "    print(key)\n",
    "for key in k:\n",
    "    print(key,d[key])\n",
    "for key,value in i:\n",
    "    print(key,value)\n",
    "for item in i:\n",
    "    print(item)"
   ]
  },
  {
   "cell_type": "code",
   "execution_count": 101,
   "id": "9ecb2027",
   "metadata": {
    "colab": {
     "base_uri": "https://localhost:8080/"
    },
    "executionInfo": {
     "elapsed": 63,
     "status": "ok",
     "timestamp": 1690551260020,
     "user": {
      "displayName": "DSS DSS",
      "userId": "17636620013329168760"
     },
     "user_tz": -330
    },
    "id": "9ecb2027",
    "outputId": "7f7314d1-21b0-4b3f-b7f1-efafe4855256"
   },
   "outputs": [
    {
     "name": "stdout",
     "output_type": "stream",
     "text": [
      "{} {} {} {} {} <class 'dict'> <class 'dict'> <class 'dict'> <class 'dict'> <class 'dict'>\n",
      "{1: None, 2: None, 3: None} <class 'dict'> {1: 0, 2: 0, 3: 0} <class 'dict'>\n"
     ]
    }
   ],
   "source": [
    "d1 = {}\n",
    "d2 = dict()\n",
    "d3 = {key:value for key,value in []}\n",
    "k = v = {}\n",
    "d4 = dict(zip(k,v)) # # k,v are dict\n",
    "d5 = dict.fromkeys(k)\n",
    "print(d1,d2,d3,d4,d5, type(d1),type(d2),type(d3),type(d4),type(d5))\n",
    "\n",
    "keys = [1,2,3]\n",
    "d6 = dict.fromkeys(keys)\n",
    "d7 = dict.fromkeys(keys,0)\n",
    "print(d6,type(d6), d7, type(d7))"
   ]
  },
  {
   "cell_type": "code",
   "execution_count": 102,
   "id": "110e560d",
   "metadata": {
    "colab": {
     "base_uri": "https://localhost:8080/"
    },
    "executionInfo": {
     "elapsed": 61,
     "status": "ok",
     "timestamp": 1690551260020,
     "user": {
      "displayName": "DSS DSS",
      "userId": "17636620013329168760"
     },
     "user_tz": -330
    },
    "id": "110e560d",
    "outputId": "7e4286a7-2201-47a0-c967-bfc337f56684"
   },
   "outputs": [
    {
     "name": "stdout",
     "output_type": "stream",
     "text": [
      "<class 'dict'> <class 'dict'> tony\n",
      "{'student1': {'name': 'tony', 'age': 20}, 'student2': {'age': 22}}\n"
     ]
    }
   ],
   "source": [
    "d = {'student1': {'name':\"tony\",'age':20},\n",
    "     'student2': {'name':\"john\",'age':22}}\n",
    "print(type(d), type(d['student1']), d['student1']['name'])\n",
    "del d['student2']['name']\n",
    "print(d)\n",
    "del d\n",
    "# print(d) # NameError: name 'd' is not defined"
   ]
  },
  {
   "cell_type": "code",
   "execution_count": 103,
   "id": "1a01c068",
   "metadata": {
    "colab": {
     "base_uri": "https://localhost:8080/"
    },
    "executionInfo": {
     "elapsed": 60,
     "status": "ok",
     "timestamp": 1690551260020,
     "user": {
      "displayName": "DSS DSS",
      "userId": "17636620013329168760"
     },
     "user_tz": -330
    },
    "id": "1a01c068",
    "outputId": "b5ef507e-cd7b-4d1d-fdfe-df6be3b3297c"
   },
   "outputs": [
    {
     "name": "stdout",
     "output_type": "stream",
     "text": [
      "{'name': 'tony', 'age': 20} None\n",
      "dict_keys(['student1', 'student2'])\n",
      "dict_values([{'name': 'tony', 'age': 20}, {'name': 'john', 'age': 22}])\n",
      "dict_items([('student1', {'name': 'tony', 'age': 20}), ('student2', {'name': 'john', 'age': 22})])\n",
      "('student3', {'name': 'bob'})\n",
      "('student4', {'name': 'harry', 'age': 20})\n",
      "('student5', {'name': 'henry', 'age': 25})\n",
      "('student6', {'name': 'allen', 'age': 23})\n",
      "False\n",
      "{'student3': {'name': 'bob'}, 'student4': {'name': 'harry', 'age': 20}, 'student5': {'name': 'henry', 'age': 25}, 'student6': {'name': 'allen', 'age': 23}, 'company': 'data science stack'}\n"
     ]
    }
   ],
   "source": [
    "# dict methods\n",
    "d = {'student1': {'name':\"tony\",'age':20},\n",
    "     'student2': {'name':\"john\",'age':22}}\n",
    "\n",
    "# print(d['student3']) # KeyError: 'student3'\n",
    "print(d.get('student1'), d.get('student3')) # NO ERROR\n",
    "print(d.keys(), d.values(), d.items(), sep='\\n')\n",
    "\n",
    "d.update({'student3':{\"name\":\"bob\",'age':21}})\n",
    "d.update({'student4':{\"name\":\"harry\",'age':20},\n",
    "          'student5':{\"name\":\"henry\",'age':25}})\n",
    "d.update([('student6',{\"name\":\"allen\",'age':23}),\n",
    "          ('student7',{\"name\":\"joe\",'age':24})])\n",
    "\n",
    "d.pop('student1')\n",
    "d.popitem() # last item\n",
    "del d['student2']\n",
    "del d['student3']['age']\n",
    "\n",
    "for i in d.items():\n",
    "    print(i)\n",
    "\n",
    "d1 = d.copy()\n",
    "print(d1 is d)\n",
    "\n",
    "d.setdefault(\"company\", \"data science stack\")\n",
    "d.setdefault(\"student4\", None)\n",
    "print(d)\n",
    "\n",
    "del d\n",
    "# print(d) # NameError: name 'd' is not defined"
   ]
  },
  {
   "cell_type": "markdown",
   "id": "94e26c8b",
   "metadata": {
    "id": "94e26c8b"
   },
   "source": [
    "#### ordered dict"
   ]
  },
  {
   "cell_type": "code",
   "execution_count": 104,
   "id": "353ccfd4",
   "metadata": {
    "colab": {
     "base_uri": "https://localhost:8080/"
    },
    "executionInfo": {
     "elapsed": 58,
     "status": "ok",
     "timestamp": 1690551260020,
     "user": {
      "displayName": "DSS DSS",
      "userId": "17636620013329168760"
     },
     "user_tz": -330
    },
    "id": "353ccfd4",
    "outputId": "0daba80c-b5f8-49e1-9829-0a24f45faa70"
   },
   "outputs": [
    {
     "name": "stdout",
     "output_type": "stream",
     "text": [
      "<class 'collections.OrderedDict'>\n",
      "OrderedDict([('a', 1), ('b', 2), ('c', 5), ('d', 4)])\n",
      "OrderedDict([('a', 1), ('c', 5), ('d', 4), ('b', 9)])\n",
      "OrderedDict([('a', 1), ('c', 5), ('d', 4), ('b', 9), ('e', 5), ('f', 6), ('g', 7)])\n",
      "OrderedDict([('e', 5), ('a', 1), ('c', 5), ('d', 4), ('b', 9), ('f', 6), ('g', 7)])\n",
      "OrderedDict([('e', 5), ('a', 1), ('c', 5), ('d', 4), ('b', 9), ('f', 6), ('h', 8)])\n"
     ]
    }
   ],
   "source": [
    "# ordered dict: LIFO\n",
    "from collections import OrderedDict\n",
    "\n",
    "od = OrderedDict()\n",
    "print(type(od))\n",
    "\n",
    "# add item to the end of dict\n",
    "od['a'] = 1\n",
    "od['b'] = 2\n",
    "od['c'] = 3\n",
    "od['d'] = 4\n",
    "\n",
    "od['c'] = 5\n",
    "print(od)\n",
    "\n",
    "od.pop('b')\n",
    "od['b'] = 9\n",
    "print(od)\n",
    "\n",
    "od.update({'e':5})\n",
    "od.update((('f', 6),('g',7)))\n",
    "print(od)\n",
    "\n",
    "od.move_to_end('e', last=False)\n",
    "print(od)\n",
    "\n",
    "# LIFO (Stack)\n",
    "od.popitem()\n",
    "od.update({'h':8})\n",
    "print(od)"
   ]
  },
  {
   "cell_type": "markdown",
   "id": "c6a99cbe",
   "metadata": {
    "id": "c6a99cbe"
   },
   "source": [
    "#### default dict"
   ]
  },
  {
   "cell_type": "code",
   "execution_count": 105,
   "id": "1ff02790",
   "metadata": {
    "colab": {
     "base_uri": "https://localhost:8080/"
    },
    "executionInfo": {
     "elapsed": 56,
     "status": "ok",
     "timestamp": 1690551260020,
     "user": {
      "displayName": "DSS DSS",
      "userId": "17636620013329168760"
     },
     "user_tz": -330
    },
    "id": "1ff02790",
    "outputId": "919c131f-31cf-4311-aeb3-268ab7ef12e7"
   },
   "outputs": [
    {
     "name": "stdout",
     "output_type": "stream",
     "text": [
      "1 1\n",
      "2 2\n",
      "Unknown\n",
      "defaultdict(None, {'a': 1, 'b': 2}) defaultdict(<function <lambda> at 0x7bcc80304ee0>, {'a': 1, 'b': 2, 'c': 'Unknown'}) <class 'collections.defaultdict'>\n",
      "Unknown defaultdict(<function <lambda> at 0x7bcc80304ee0>, {'a': 1, 'b': 2, 'c': 'Unknown', 'z': 'Unknown'})\n"
     ]
    }
   ],
   "source": [
    "# defaultdict never raises a KeyError.\n",
    "# It provides a default value for the key that does not exists.\n",
    "\n",
    "import collections\n",
    "# d = collections.defaultdict(\"Unknown\") # TypeError: first argument must be callable or None\n",
    "dd1 = collections.defaultdict(None)\n",
    "dd2 = collections.defaultdict(lambda: 'Unknown')\n",
    "\n",
    "\n",
    "dd1[\"a\"] = dd2[\"a\"] = 1\n",
    "dd1[\"b\"] = dd2[\"b\"] = 2\n",
    "\n",
    "print(dd1[\"a\"], dd2['a'])\n",
    "print(dd1[\"b\"], dd2['b'])\n",
    "print(\n",
    "#     dd1[\"c\"], # KeyError: 'c'\n",
    "      dd2['c'])\n",
    "print(dd1,dd2, type(dd1))\n",
    "\n",
    "dd2.__missing__('z')\n",
    "print(dd2.__missing__('z'), dd2)"
   ]
  },
  {
   "cell_type": "code",
   "execution_count": 106,
   "id": "c2b152e5",
   "metadata": {
    "colab": {
     "base_uri": "https://localhost:8080/"
    },
    "executionInfo": {
     "elapsed": 56,
     "status": "ok",
     "timestamp": 1690551260021,
     "user": {
      "displayName": "DSS DSS",
      "userId": "17636620013329168760"
     },
     "user_tz": -330
    },
    "id": "c2b152e5",
    "outputId": "81c6c738-7a55-4140-ae13-1cc85e4005b5"
   },
   "outputs": [
    {
     "name": "stdout",
     "output_type": "stream",
     "text": [
      "Dictionary with values as list:\n",
      "0 [(0, 0)]\n",
      "1 [(1, 1)]\n",
      "2 [(4, 8)]\n",
      "3 [(9, 27)]\n",
      "4 [(16, 64)]\n",
      "5 [(25, 125)]\n",
      "6 [(36, 216)]\n",
      "7 [(49, 343)]\n",
      "8 [(64, 512)]\n",
      "9 [(81, 729)]\n"
     ]
    }
   ],
   "source": [
    "d = collections.defaultdict(list)\n",
    "\n",
    "for i in range(10):\n",
    "    d[i].append((i**2,i**3)) # sqaure and cube\n",
    "\n",
    "print(\"Dictionary with values as list:\")\n",
    "for k,v in d.items():\n",
    "    print(k,v)"
   ]
  },
  {
   "cell_type": "markdown",
   "id": "2beedf96",
   "metadata": {
    "id": "2beedf96"
   },
   "source": [
    "#### ChainMap"
   ]
  },
  {
   "cell_type": "code",
   "execution_count": 107,
   "id": "fc3a9349",
   "metadata": {
    "colab": {
     "base_uri": "https://localhost:8080/"
    },
    "executionInfo": {
     "elapsed": 54,
     "status": "ok",
     "timestamp": 1690551260021,
     "user": {
      "displayName": "DSS DSS",
      "userId": "17636620013329168760"
     },
     "user_tz": -330
    },
    "id": "fc3a9349",
    "outputId": "c7b7471e-42ef-442f-fe89-68012e4912ec"
   },
   "outputs": [
    {
     "name": "stdout",
     "output_type": "stream",
     "text": [
      "<class 'collections.ChainMap'>\n",
      "ChainMap({'a': 1, 'b': 2}, {'b': 3, 'd': 4}, {'e': 5, 'f': 6})\n",
      "['e', 'f', 'b', 'd', 'a'] [5, 6, 2, 4, 1]\n",
      "[{'g': 7}, {'a': 1, 'b': 2}, {'b': 3, 'd': 4}, {'e': 5, 'f': 6}]\n",
      "[{'e': 5, 'f': 6}, {'b': 3, 'd': 4}, {'a': 1, 'b': 2}, {'g': 7}]\n"
     ]
    }
   ],
   "source": [
    "# chainmap: ordering is done\n",
    "from collections import ChainMap\n",
    "\n",
    "d1 = {'a': 1, 'b': 2}\n",
    "d2 = {'b': 3, 'd': 4}\n",
    "d3 = {'e': 5, 'f': 6}\n",
    "\n",
    "# Defining the chainmap\n",
    "c = ChainMap(d1, d2, d3)\n",
    "\n",
    "print(type(c))\n",
    "print(c)\n",
    "print(list(c.keys()), list(c.values()))\n",
    "\n",
    "c1 = c.new_child({'g':7}) # at the beginning of chainmap\n",
    "print(c1.maps)\n",
    "\n",
    "r = reversed(c1.maps) # <list_reverseiterator object at 0x000002628AF23AF0>\n",
    "print(list(r))"
   ]
  },
  {
   "cell_type": "markdown",
   "id": "ff3ba7ae",
   "metadata": {
    "id": "ff3ba7ae"
   },
   "source": [
    "### set"
   ]
  },
  {
   "cell_type": "markdown",
   "id": "823e4e47",
   "metadata": {
    "id": "823e4e47"
   },
   "source": [
    "- unordered (unindexed), stores all unique values (True and 1 are same for set), mutable (add and remove items), heterogeneous"
   ]
  },
  {
   "cell_type": "code",
   "execution_count": 108,
   "id": "5b0d21ae",
   "metadata": {
    "colab": {
     "base_uri": "https://localhost:8080/"
    },
    "executionInfo": {
     "elapsed": 52,
     "status": "ok",
     "timestamp": 1690551260021,
     "user": {
      "displayName": "DSS DSS",
      "userId": "17636620013329168760"
     },
     "user_tz": -330
    },
    "id": "5b0d21ae",
    "outputId": "e190a811-7434-4314-aa46-329204d0cf56"
   },
   "outputs": [
    {
     "name": "stdout",
     "output_type": "stream",
     "text": [
      "{True, 2, 'c', 'b', 'a'} {1, 2, 3, 'a'} <class 'set'> <class 'set'> 5 4\n",
      "True False\n",
      "True 2 c b a "
     ]
    }
   ],
   "source": [
    "s1 = set(['a','b','c',2, True, 1]) # True is choosen but not 1\n",
    "s2 = {1,2,3,'a', True} # 1 is choosen but not True\n",
    "\n",
    "print(s1,s2, type(s1), type(s2), len(s1), len(s2))\n",
    "\n",
    "print('c' in s1, 'c' not in s1)\n",
    "for i in s1:\n",
    "    print(i, end=\" \")\n",
    "del s1,s2\n",
    "# print(s1) # NameError: name 's1' is not defined"
   ]
  },
  {
   "cell_type": "code",
   "execution_count": 109,
   "id": "949d94a2",
   "metadata": {
    "colab": {
     "base_uri": "https://localhost:8080/"
    },
    "executionInfo": {
     "elapsed": 51,
     "status": "ok",
     "timestamp": 1690551260021,
     "user": {
      "displayName": "DSS DSS",
      "userId": "17636620013329168760"
     },
     "user_tz": -330
    },
    "id": "949d94a2",
    "outputId": "1d9c0740-7550-45a4-dab1-c98de50da55b"
   },
   "outputs": [
    {
     "name": "stdout",
     "output_type": "stream",
     "text": [
      "{'b', 'a', 'c'} False\n"
     ]
    }
   ],
   "source": [
    "s1 =set()\n",
    "s1.add(\"a\")\n",
    "s1.update({\"b\",'c', 'a'})\n",
    "s2 = s1.copy()\n",
    "print(s2, s2 is s1)"
   ]
  },
  {
   "cell_type": "code",
   "execution_count": 110,
   "id": "c2612ed6",
   "metadata": {
    "colab": {
     "base_uri": "https://localhost:8080/"
    },
    "executionInfo": {
     "elapsed": 49,
     "status": "ok",
     "timestamp": 1690551260021,
     "user": {
      "displayName": "DSS DSS",
      "userId": "17636620013329168760"
     },
     "user_tz": -330
    },
    "id": "c2612ed6",
    "outputId": "c6d6c2a8-322a-4581-a5d1-c3e637745b71"
   },
   "outputs": [
    {
     "name": "stdout",
     "output_type": "stream",
     "text": [
      "{'c'} {'b'} {'f', 'e', 'b', 'a'} {'f', 'e', 'c', 'b', 'g', 'a', 'd'} True False True True None None b set() None set()\n",
      "{1}\n",
      "{2, 3}\n",
      "{2, 3, 4}\n"
     ]
    }
   ],
   "source": [
    "s1 = {'a','b','c','d'}\n",
    "s2 = {'c','d','e','f'}\n",
    "s3 = {'c','a','e','g'}\n",
    "print(s1.intersection(s2,s3), # c\n",
    "     s1.difference(s2,s3), # b\n",
    "     s1.symmetric_difference(s2), # abfe (other than intersection)\n",
    "     s1.union(s2,s3), # abcdefg\n",
    "     s1.isdisjoint({}), # True\n",
    "     s1.isdisjoint(s2), # False\n",
    "     {'a'}.issubset(s1), # True\n",
    "     s1.issuperset({'a'}), # True\n",
    "     s1.remove('a'), # None. raise error if element is not found\n",
    "     s1.discard('z'), # None. No Error\n",
    "     s1.pop(), # returns randomly removed item\n",
    "     s1, # if b is popped, then cd will be remaining\n",
    "     s1.clear(), # returns None. s1 elements are deleted\n",
    "     s1 # {}\n",
    "     )\n",
    "\n",
    "\n",
    "s1 = {1,2,3}\n",
    "s1.intersection_update({1,4}) # 1\n",
    "print(s1)\n",
    "\n",
    "s1 = {1,2,3}\n",
    "s1.difference_update({1,4}) # 23\n",
    "print(s1)\n",
    "\n",
    "s1 = {1,2,3}\n",
    "s1.symmetric_difference_update({1,4}) # 234\n",
    "print(s1)"
   ]
  },
  {
   "cell_type": "markdown",
   "id": "92934f0e",
   "metadata": {
    "id": "92934f0e"
   },
   "source": [
    "### array"
   ]
  },
  {
   "cell_type": "markdown",
   "id": "591826b7",
   "metadata": {
    "id": "591826b7"
   },
   "source": [
    "- homogeneous\n",
    "- element wise operations are possible\n",
    "- optimized for arithmetic operations"
   ]
  },
  {
   "cell_type": "code",
   "execution_count": 111,
   "id": "e468c3e5",
   "metadata": {
    "colab": {
     "base_uri": "https://localhost:8080/"
    },
    "executionInfo": {
     "elapsed": 47,
     "status": "ok",
     "timestamp": 1690551260021,
     "user": {
      "displayName": "DSS DSS",
      "userId": "17636620013329168760"
     },
     "user_tz": -330
    },
    "id": "e468c3e5",
    "outputId": "71f75e86-7c05-4334-e866-183a2e0b995f"
   },
   "outputs": [
    {
     "name": "stdout",
     "output_type": "stream",
     "text": [
      "[1, 2, 3, 'a', 1, 2, 3, 'a']\n",
      "array('i', [1, 2, 3]) <class 'array.array'> array('i', [1, 2, 3, 1, 2, 3])\n",
      "['1' '2' '3' 'a'] <class 'numpy.ndarray'>\n",
      "[1 2 3] <class 'numpy.ndarray'> [2 4 6] [3 6 9]\n",
      "0 3 5\n"
     ]
    }
   ],
   "source": [
    "l1 = [1,2,3,'a']\n",
    "print(l1+l1,\n",
    "#       l1.max() # AttributeError: 'list' object has no attribute 'max'\n",
    "     )\n",
    "\n",
    "import array as arr # not recommeded\n",
    "a1 = arr.array('i',[1,2,3]) # homogeneous\n",
    "print(a1, type(a1), a1+a1)\n",
    "\n",
    "import numpy as np\n",
    "a2 = np.array(l1) # heterogeous but not recommended\n",
    "print(a2, type(a2))\n",
    "\n",
    "a3 = np.array([1,2,3]) # homogeneous\n",
    "print(a3, type(a3), a3+a3, a3*3) # elementwise operation\n",
    "a3[0] = 0\n",
    "# a3[3] = 40 # IndexError: index 3 is out of bounds for axis 0 with size 3\n",
    "print(a3[0], a3.max(), a3.sum())"
   ]
  },
  {
   "cell_type": "markdown",
   "id": "c78eb8cc",
   "metadata": {
    "id": "c78eb8cc"
   },
   "source": [
    "### shallow and deep copy"
   ]
  },
  {
   "cell_type": "code",
   "execution_count": 112,
   "id": "5c3b7c82",
   "metadata": {
    "colab": {
     "base_uri": "https://localhost:8080/"
    },
    "executionInfo": {
     "elapsed": 46,
     "status": "ok",
     "timestamp": 1690551260022,
     "user": {
      "displayName": "DSS DSS",
      "userId": "17636620013329168760"
     },
     "user_tz": -330
    },
    "id": "5c3b7c82",
    "outputId": "3ff7c12b-54cf-49e7-d0b6-f9f651ab43a9"
   },
   "outputs": [
    {
     "name": "stdout",
     "output_type": "stream",
     "text": [
      "a: [1, 2, 3, [4, 5, 6]]\n",
      "b: [1, 2, 3, [4, 5, 6]]\n",
      "False True True\n",
      "\n",
      "Updating b[0] and b[3][0]\n",
      "\n",
      "a: [1, 2, 3, [40, 5, 6]]\n",
      "b: [10, 2, 3, [40, 5, 6]]\n",
      "False False True\n"
     ]
    }
   ],
   "source": [
    "a = [1,2,3,[4,5,6]]\n",
    "# b = a # no copy\n",
    "\n",
    "b = a[:] # shallow copy\n",
    "# b = list(a) # shallow copy\n",
    "# b = a.copy() # shallow copy\n",
    "\n",
    "import copy\n",
    "# b = copy.copy(a) # shallow copy\n",
    "# b = copy.deepcopy(a) # deep copy\n",
    "\n",
    "print('a:',a)\n",
    "print('b:',b)\n",
    "print(a is b, a[0] is b[0], a[3][0] is b[3][0])\n",
    "\n",
    "print(\"\\nUpdating b[0] and b[3][0]\\n\")\n",
    "b[0] = 10\n",
    "b[3][0] = 40\n",
    "\n",
    "print('a:',a)\n",
    "print('b:',b)\n",
    "print(a is b, a[0] is b[0], a[3][0] is b[3][0])"
   ]
  },
  {
   "cell_type": "markdown",
   "id": "0ae2ec27",
   "metadata": {
    "id": "0ae2ec27"
   },
   "source": [
    "### List comprehension"
   ]
  },
  {
   "cell_type": "markdown",
   "id": "b2d5a73a",
   "metadata": {
    "id": "b2d5a73a"
   },
   "source": [
    "- to generate a new list\n",
    "- enclosed in []"
   ]
  },
  {
   "cell_type": "code",
   "execution_count": 113,
   "id": "1ab36f71",
   "metadata": {
    "colab": {
     "base_uri": "https://localhost:8080/"
    },
    "executionInfo": {
     "elapsed": 44,
     "status": "ok",
     "timestamp": 1690551260022,
     "user": {
      "displayName": "DSS DSS",
      "userId": "17636620013329168760"
     },
     "user_tz": -330
    },
    "id": "1ab36f71",
    "outputId": "da31ff2c-f09f-4bc2-cddc-c1d850a2db63"
   },
   "outputs": [
    {
     "name": "stdout",
     "output_type": "stream",
     "text": [
      "[0, 1, 2, 3, 4]\n",
      "[0, 2, 4, 6, 8]\n",
      "[0, 2, 4]\n",
      "['even', 'odd', 'even', 'odd', 'even']\n",
      "[-5, -4, -3, -2, -1, 'even', 'odd', 'even']\n",
      "['1a', '1b', '1c', '2a', '2b', '2c', '3a', '3b', '3c']\n",
      "[(0, 1), (1, 2), (2, 3)]\n",
      "[2, 2, 4, 1, 2, 3, 4, 1, 2, 3]\n",
      "[[3, 4, 5], [6, 7, 8], [9, 10, 11]]\n"
     ]
    }
   ],
   "source": [
    "print([i for i in range(5)]) # [0, 1, 2, 3, 4]\n",
    "print([i for i in range(10) if i%2==0]) # [0, 2, 4, 6, 8]\n",
    "print([i for i in range(10) if i%2==0 if i<5]) # [0, 2, 4]\n",
    "print(['even' if i%2==0 else \"odd\" for i in range(5)]) # ['even', 'odd', 'even', 'odd', 'even']\n",
    "print([i if i<0 else \"odd\" if i%2!=0 else 'even' for i in range(-5,3)]) # [-5, -4, -3, -2, -1, 'even', 'odd', 'even']\n",
    "print([i+j for i in ['1','2','3'] for j in ['a','b','c']]) # ['1a', '1b', '1c', '2a', '2b', '2c', '3a', '3b', '3c']\n",
    "print([(i,x) for i,x in enumerate(range(1,4))]) # [(0, 1), (1, 2), (2, 3)]\n",
    "\n",
    "# flattening\n",
    "outerlist = [[2, 2], [4], [1, 2, 3, 4], [1, 2, 3]]\n",
    "print([x for innerlist in outerlist for x in innerlist]) # [2, 2, 4, 1, 2, 3, 4, 1, 2, 3]\n",
    "\n",
    "# comprehension to add 2 to each item in the list\n",
    "outerlist = [[1, 2, 3], [4, 5, 6], [7, 8, 9]]\n",
    "print([[x+2 for x in innerlist] for innerlist in outerlist]) # [[3, 4, 5], [6, 7, 8], [9, 10, 11]]"
   ]
  },
  {
   "cell_type": "markdown",
   "id": "700befad",
   "metadata": {
    "id": "700befad"
   },
   "source": [
    "### dictionary comprehension"
   ]
  },
  {
   "cell_type": "markdown",
   "id": "3089f7ba",
   "metadata": {
    "id": "3089f7ba"
   },
   "source": [
    "- to generate new dictionary\n",
    "- enclosed in {}"
   ]
  },
  {
   "cell_type": "code",
   "execution_count": 114,
   "id": "5748030c",
   "metadata": {
    "colab": {
     "base_uri": "https://localhost:8080/"
    },
    "executionInfo": {
     "elapsed": 42,
     "status": "ok",
     "timestamp": 1690551260022,
     "user": {
      "displayName": "DSS DSS",
      "userId": "17636620013329168760"
     },
     "user_tz": -330
    },
    "id": "5748030c",
    "outputId": "ec900252-ee72-4496-dc8e-62a40730dae1"
   },
   "outputs": [
    {
     "name": "stdout",
     "output_type": "stream",
     "text": [
      "{1: 1, 2: 4, 3: 27}\n",
      "{'milk': 83.6298, 'coffee': 204.975}\n",
      "{'milk': 1.02}\n",
      "{'milk': 1.02}\n",
      "{'milk': 'less price', 'coffee': 'high price'}\n"
     ]
    },
    {
     "data": {
      "text/plain": [
       "{11: {1: 11, 2: 22, 3: 33, 4: 44, 5: 55},\n",
       " 12: {1: 12, 2: 24, 3: 36, 4: 48, 5: 60},\n",
       " 13: {1: 13, 2: 26, 3: 39, 4: 52, 5: 65},\n",
       " 14: {1: 14, 2: 28, 3: 42, 4: 56, 5: 70},\n",
       " 15: {1: 15, 2: 30, 3: 45, 4: 60, 5: 75}}"
      ]
     },
     "execution_count": 114,
     "metadata": {},
     "output_type": "execute_result"
    }
   ],
   "source": [
    "print({n: n**n for n in range(1,4)}) # {1: 1, 2: 4, 3: 27}\n",
    "\n",
    "p = {'milk':1.02, 'coffee':2.5}\n",
    "print({k:v*81.99 for k,v in p.items()})\n",
    "print({k:v for k,v in p.items() if v<2})\n",
    "print({k:v for k,v in p.items() if v<2 if len(k)<5})\n",
    "print({k:('less price' if v<2 else 'high price') for k,v in p.items()})\n",
    "{ k1: {k2: k1 * k2 for k2 in range(1, 6)} for k1 in range(11, 16) }"
   ]
  },
  {
   "cell_type": "markdown",
   "id": "95444957",
   "metadata": {
    "id": "95444957"
   },
   "source": [
    "**Advantages of using dictionary comprehension**"
   ]
  },
  {
   "cell_type": "markdown",
   "id": "44732b42",
   "metadata": {
    "id": "44732b42"
   },
   "source": [
    "- makes code more elegant\n",
    "- easy to read code\n",
    "- shortens the process of initialising dictionaries\n",
    "- cut short to few lines of code keeping logic intact"
   ]
  },
  {
   "cell_type": "markdown",
   "id": "59b25b17",
   "metadata": {
    "id": "59b25b17"
   },
   "source": [
    "**Disadvantages of using dictionary comprehension**"
   ]
  },
  {
   "cell_type": "markdown",
   "id": "5f3f0c22",
   "metadata": {
    "id": "5f3f0c22"
   },
   "source": [
    "- can make code run slower\n",
    "- consume more memory\n",
    "- complex comprehensions reduces readability of code\n",
    "- not preferred in case of large dictionaries or difficult logic"
   ]
  },
  {
   "cell_type": "markdown",
   "id": "9a7bc546",
   "metadata": {
    "id": "9a7bc546"
   },
   "source": [
    "## Functions"
   ]
  },
  {
   "cell_type": "code",
   "execution_count": 115,
   "id": "3f7aa42f",
   "metadata": {
    "colab": {
     "base_uri": "https://localhost:8080/"
    },
    "executionInfo": {
     "elapsed": 40,
     "status": "ok",
     "timestamp": 1690551260022,
     "user": {
      "displayName": "DSS DSS",
      "userId": "17636620013329168760"
     },
     "user_tz": -330
    },
    "id": "3f7aa42f",
    "outputId": "1e635ba9-0598-4604-e2bb-d2b7c8c06cce"
   },
   "outputs": [
    {
     "name": "stdout",
     "output_type": "stream",
     "text": [
      "Good morning\n"
     ]
    }
   ],
   "source": [
    "# function creation\n",
    "def greetings():\n",
    "    print(\"Good morning\")\n",
    "\n",
    "# call function\n",
    "greetings() # no parameters no return"
   ]
  },
  {
   "cell_type": "code",
   "execution_count": 116,
   "id": "ac40530d",
   "metadata": {
    "colab": {
     "base_uri": "https://localhost:8080/"
    },
    "executionInfo": {
     "elapsed": 39,
     "status": "ok",
     "timestamp": 1690551260022,
     "user": {
      "displayName": "DSS DSS",
      "userId": "17636620013329168760"
     },
     "user_tz": -330
    },
    "id": "ac40530d",
    "outputId": "613ebb97-72dc-45b1-e34c-d193365a404e"
   },
   "outputs": [
    {
     "name": "stdout",
     "output_type": "stream",
     "text": [
      "('GOOD', 'morning') GOOD morning\n"
     ]
    }
   ],
   "source": [
    "# function creation\n",
    "def greetings(a,b):\n",
    "    return a.upper(),b # returned as tuple\n",
    "\n",
    "# call function\n",
    "s = greetings(\"Good\",\"morning\") # with multiple parameters with multiple return values\n",
    "a,b = s # unpack tuple\n",
    "print(s, a, b)"
   ]
  },
  {
   "cell_type": "code",
   "execution_count": 117,
   "id": "76ba0622",
   "metadata": {
    "executionInfo": {
     "elapsed": 33,
     "status": "ok",
     "timestamp": 1690551260023,
     "user": {
      "displayName": "DSS DSS",
      "userId": "17636620013329168760"
     },
     "user_tz": -330
    },
    "id": "76ba0622"
   },
   "outputs": [],
   "source": [
    "# abc() # NameError: name 'abc' is not defined"
   ]
  },
  {
   "cell_type": "markdown",
   "id": "df07c3f6",
   "metadata": {
    "id": "df07c3f6"
   },
   "source": [
    "#### types of arguments"
   ]
  },
  {
   "cell_type": "code",
   "execution_count": 118,
   "id": "283862f6",
   "metadata": {
    "executionInfo": {
     "elapsed": 32,
     "status": "ok",
     "timestamp": 1690551260023,
     "user": {
      "displayName": "DSS DSS",
      "userId": "17636620013329168760"
     },
     "user_tz": -330
    },
    "id": "283862f6"
   },
   "outputs": [],
   "source": [
    "def positional(a,b):\n",
    "    print(a,b)\n",
    "\n",
    "def arbitrarypositional(a,*b):\n",
    "    print(a,b)\n",
    "\n",
    "def default(c=\"India\"):\n",
    "    print(c)\n",
    "\n",
    "def keyword(a,b):\n",
    "    print(a,b)\n",
    "\n",
    "def arbitrarykeyword(*a,**b):\n",
    "    print(a,b)\n",
    "    print(type(a),type(b))"
   ]
  },
  {
   "cell_type": "code",
   "execution_count": 119,
   "id": "265d615e",
   "metadata": {
    "colab": {
     "base_uri": "https://localhost:8080/"
    },
    "executionInfo": {
     "elapsed": 31,
     "status": "ok",
     "timestamp": 1690551260023,
     "user": {
      "displayName": "DSS DSS",
      "userId": "17636620013329168760"
     },
     "user_tz": -330
    },
    "id": "265d615e",
    "outputId": "d6115cc3-6f04-4954-ad2e-93786c80ba19",
    "scrolled": true
   },
   "outputs": [
    {
     "name": "stdout",
     "output_type": "stream",
     "text": [
      "1 2\n",
      "10 (20, 'a', 'b')\n",
      "India\n",
      "Norway\n",
      "10 30\n",
      "(10, 20, 30) {'a': 'Product1', 'b': 'Product2'}\n",
      "<class 'tuple'> <class 'dict'>\n"
     ]
    }
   ],
   "source": [
    "positional(1, 2)\n",
    "arbitrarypositional(10, 20, 'a', 'b')\n",
    "default()\n",
    "default(\"Norway\")\n",
    "keyword(10, b = 30)\n",
    "arbitrarykeyword(10,20,30,a='Product1',b='Product2')"
   ]
  },
  {
   "cell_type": "markdown",
   "id": "27452afb",
   "metadata": {
    "id": "27452afb"
   },
   "source": [
    "#### order of arguments"
   ]
  },
  {
   "cell_type": "markdown",
   "id": "e1c7bc10",
   "metadata": {
    "id": "e1c7bc10"
   },
   "source": [
    "1. positional arguments\n",
    "2. arbitrary positional arguments\n",
    "3. default arguments\n",
    "4. keyword arguments\n",
    "5. arbitrary keyword arguments"
   ]
  },
  {
   "cell_type": "code",
   "execution_count": 120,
   "id": "ffe2f3ac",
   "metadata": {
    "colab": {
     "base_uri": "https://localhost:8080/"
    },
    "executionInfo": {
     "elapsed": 692,
     "status": "ok",
     "timestamp": 1690551260691,
     "user": {
      "displayName": "DSS DSS",
      "userId": "17636620013329168760"
     },
     "user_tz": -330
    },
    "id": "ffe2f3ac",
    "outputId": "5ca7dfe1-90f3-42bb-9872-fd5303f012d0"
   },
   "outputs": [
    {
     "name": "stdout",
     "output_type": "stream",
     "text": [
      "20\n",
      "10\n",
      "20\n",
      "(400, 401, 402, 403)\n",
      "{'d': [0, 1, 2, 3], 'p': 100, 'q': 200}\n",
      "\n",
      "400\n",
      "10\n",
      "20\n",
      "(401, 402, 403, 20)\n",
      "{'d': [0, 1, 2, 3], 'p': 100, 'q': 200}\n",
      "\n"
     ]
    }
   ],
   "source": [
    " def fun(a, *d, b=10, c=21, **e): # b is default argument, c is keyword\n",
    "    print(a,b,c,d,e, sep=\"\\n\", end='\\n\\n')\n",
    "\n",
    "\n",
    "fun(20,              # positional\n",
    "400, 401, 402, 403,  # arbitrary positional\n",
    "c=20,                # keyword (has default value)\n",
    "d=[0,1,2,3],         # aribitrary keyword\n",
    "p=100,               # aribitrary keyword\n",
    "q=200                # aribitrary keyword\n",
    ")\n",
    "\n",
    "fun(400,401,402,403,20,\n",
    "    c=20,\n",
    "    d=[0,1,2,3], p=100, q=200)"
   ]
  },
  {
   "cell_type": "code",
   "execution_count": 121,
   "id": "1d386919",
   "metadata": {
    "colab": {
     "base_uri": "https://localhost:8080/"
    },
    "executionInfo": {
     "elapsed": 87,
     "status": "ok",
     "timestamp": 1690551260691,
     "user": {
      "displayName": "DSS DSS",
      "userId": "17636620013329168760"
     },
     "user_tz": -330
    },
    "id": "1d386919",
    "outputId": "8637f932-8805-435a-a612-ad05b847ffae"
   },
   "outputs": [
    {
     "name": "stdout",
     "output_type": "stream",
     "text": [
      "a\n",
      "b\n",
      "c\n"
     ]
    }
   ],
   "source": [
    "def my_function(alpha):\n",
    "    for x in alpha:\n",
    "        print(x)\n",
    "\n",
    "alphabets = ['a','b','c']\n",
    "my_function(alphabets)"
   ]
  },
  {
   "cell_type": "code",
   "execution_count": 122,
   "id": "f6d93739",
   "metadata": {
    "executionInfo": {
     "elapsed": 84,
     "status": "ok",
     "timestamp": 1690551260691,
     "user": {
      "displayName": "DSS DSS",
      "userId": "17636620013329168760"
     },
     "user_tz": -330
    },
    "id": "f6d93739"
   },
   "outputs": [],
   "source": [
    "def function():\n",
    "    pass"
   ]
  },
  {
   "cell_type": "markdown",
   "id": "10010cf8",
   "metadata": {
    "id": "10010cf8"
   },
   "source": [
    "#### recursive function"
   ]
  },
  {
   "cell_type": "code",
   "execution_count": 123,
   "id": "e5dd6058",
   "metadata": {
    "colab": {
     "base_uri": "https://localhost:8080/"
    },
    "executionInfo": {
     "elapsed": 84,
     "status": "ok",
     "timestamp": 1690551260691,
     "user": {
      "displayName": "DSS DSS",
      "userId": "17636620013329168760"
     },
     "user_tz": -330
    },
    "id": "e5dd6058",
    "outputId": "44e1f358-8030-40bf-babd-fa790d30b1fa"
   },
   "outputs": [
    {
     "name": "stdout",
     "output_type": "stream",
     "text": [
      "The factorial of 7 is 5040\n"
     ]
    }
   ],
   "source": [
    "# factotial of a number using recursion\n",
    "def recur_factorial(n):\n",
    "     if n == 1:\n",
    "        return n\n",
    "     else:\n",
    "        return n*recur_factorial(n-1) # multiply\n",
    "\n",
    "num = 7\n",
    "\n",
    "# check if the number is negative\n",
    "if num < 0:\n",
    "    print(\"Sorry, factorial does not exist for negative numbers\")\n",
    "elif num == 0:\n",
    "    print(\"The factorial of 0 is 1\")\n",
    "else:\n",
    "    print(\"The factorial of\", num, \"is\", recur_factorial(num)) # 1*2*3*4*5*6*7"
   ]
  },
  {
   "cell_type": "code",
   "execution_count": 124,
   "id": "3e8e4d7d",
   "metadata": {
    "colab": {
     "base_uri": "https://localhost:8080/"
    },
    "executionInfo": {
     "elapsed": 82,
     "status": "ok",
     "timestamp": 1690551260691,
     "user": {
      "displayName": "DSS DSS",
      "userId": "17636620013329168760"
     },
     "user_tz": -330
    },
    "id": "3e8e4d7d",
    "outputId": "fc50051f-c394-455e-894a-051daa6cc27b"
   },
   "outputs": [
    {
     "name": "stdout",
     "output_type": "stream",
     "text": [
      "Recursion Example Results\n",
      "1\n",
      "3\n",
      "6\n",
      "10\n",
      "15\n",
      "21\n",
      "result : 21\n"
     ]
    }
   ],
   "source": [
    "# Sum of frist n natural numbers using recursion\n",
    "def try_recursion(k):\n",
    "    if(k > 0):\n",
    "        result = k + try_recursion(k - 1)\n",
    "        print(result)\n",
    "    else:\n",
    "        result = 0\n",
    "    return result\n",
    "\n",
    "print(\"Recursion Example Results\")\n",
    "result = try_recursion(6) # 1+2+3+4+5+6\n",
    "print(\"result :\",result)"
   ]
  },
  {
   "cell_type": "markdown",
   "id": "bcd3fb22",
   "metadata": {
    "id": "bcd3fb22"
   },
   "source": [
    "### pass by object reference"
   ]
  },
  {
   "cell_type": "code",
   "execution_count": 125,
   "id": "b58ddd11",
   "metadata": {
    "colab": {
     "base_uri": "https://localhost:8080/"
    },
    "executionInfo": {
     "elapsed": 80,
     "status": "ok",
     "timestamp": 1690551260691,
     "user": {
      "displayName": "DSS DSS",
      "userId": "17636620013329168760"
     },
     "user_tz": -330
    },
    "id": "b58ddd11",
    "outputId": "de6fa0d1-c319-459f-e68b-0a01e16f4ba5"
   },
   "outputs": [
    {
     "name": "stdout",
     "output_type": "stream",
     "text": [
      "True datascience datascience\n"
     ]
    }
   ],
   "source": [
    "def function(m):\n",
    "    m = 'datascience'\n",
    "    return m\n",
    "\n",
    "a = 'datascience'\n",
    "b = function(a)\n",
    "print(a is b, a, b)"
   ]
  },
  {
   "cell_type": "code",
   "execution_count": 126,
   "id": "b1c953b0",
   "metadata": {
    "colab": {
     "base_uri": "https://localhost:8080/"
    },
    "executionInfo": {
     "elapsed": 79,
     "status": "ok",
     "timestamp": 1690551260691,
     "user": {
      "displayName": "DSS DSS",
      "userId": "17636620013329168760"
     },
     "user_tz": -330
    },
    "id": "b1c953b0",
    "outputId": "10060047-0e20-4f9c-9b68-1b154d9b0e97"
   },
   "outputs": [
    {
     "name": "stdout",
     "output_type": "stream",
     "text": [
      "False datascience python\n"
     ]
    }
   ],
   "source": [
    "def function(m):\n",
    "    m = 'python'\n",
    "    return m\n",
    "\n",
    "a = 'datascience'\n",
    "b = function(a)\n",
    "print(a is b, a, b)"
   ]
  },
  {
   "cell_type": "code",
   "execution_count": 127,
   "id": "c6294b16",
   "metadata": {
    "colab": {
     "base_uri": "https://localhost:8080/"
    },
    "executionInfo": {
     "elapsed": 78,
     "status": "ok",
     "timestamp": 1690551260692,
     "user": {
      "displayName": "DSS DSS",
      "userId": "17636620013329168760"
     },
     "user_tz": -330
    },
    "id": "c6294b16",
    "outputId": "e7f58ff0-e57d-4037-c9a9-d259936d33d4"
   },
   "outputs": [
    {
     "name": "stdout",
     "output_type": "stream",
     "text": [
      "True [1, 2, 3, [4, 5, 6], 4] [1, 2, 3, [4, 5, 6], 4]\n"
     ]
    }
   ],
   "source": [
    "def function(m):\n",
    "    m.append(4)\n",
    "    return m\n",
    "\n",
    "a = [1,2,3,[4,5,6]]\n",
    "b = function(a)\n",
    "print(a is b, a, b)"
   ]
  },
  {
   "cell_type": "code",
   "execution_count": 128,
   "id": "bcfcc289",
   "metadata": {
    "colab": {
     "base_uri": "https://localhost:8080/"
    },
    "executionInfo": {
     "elapsed": 76,
     "status": "ok",
     "timestamp": 1690551260692,
     "user": {
      "displayName": "DSS DSS",
      "userId": "17636620013329168760"
     },
     "user_tz": -330
    },
    "id": "bcfcc289",
    "outputId": "b8ce8ff8-cac6-43d9-e913-e6f5bb0e8fb9"
   },
   "outputs": [
    {
     "name": "stdout",
     "output_type": "stream",
     "text": [
      "True [10, 2, 3, [40, 5, 6]] [10, 2, 3, [40, 5, 6]]\n"
     ]
    }
   ],
   "source": [
    "def function(m):\n",
    "    m[0] = 10\n",
    "    m[3][0] = 40\n",
    "    return m\n",
    "\n",
    "a = [1,2,3,[4,5,6]]\n",
    "b = function(a)\n",
    "print(a is b, a, b)"
   ]
  },
  {
   "cell_type": "code",
   "execution_count": 129,
   "id": "23a340f1",
   "metadata": {
    "colab": {
     "base_uri": "https://localhost:8080/"
    },
    "executionInfo": {
     "elapsed": 74,
     "status": "ok",
     "timestamp": 1690551260692,
     "user": {
      "displayName": "DSS DSS",
      "userId": "17636620013329168760"
     },
     "user_tz": -330
    },
    "id": "23a340f1",
    "outputId": "1a6390e7-32d1-423d-bddc-29e387ad04b6"
   },
   "outputs": [
    {
     "name": "stdout",
     "output_type": "stream",
     "text": [
      "False [1, 2, 3, [4, 5, 6]] [1, 2, 3]\n"
     ]
    }
   ],
   "source": [
    "def function(m):\n",
    "    m = [1,2,3]\n",
    "    return m\n",
    "\n",
    "a = [1,2,3,[4,5,6]]\n",
    "b = function(a)\n",
    "print(a is b, a, b)"
   ]
  },
  {
   "cell_type": "code",
   "execution_count": 130,
   "id": "1cdfbef5",
   "metadata": {
    "colab": {
     "base_uri": "https://localhost:8080/"
    },
    "executionInfo": {
     "elapsed": 72,
     "status": "ok",
     "timestamp": 1690551260692,
     "user": {
      "displayName": "DSS DSS",
      "userId": "17636620013329168760"
     },
     "user_tz": -330
    },
    "id": "1cdfbef5",
    "outputId": "15a95fdd-bad1-4bcd-93f9-8410118e4f6b"
   },
   "outputs": [
    {
     "name": "stdout",
     "output_type": "stream",
     "text": [
      "False [1, 2, 3, [4, 5, 6]] [1, 2, 3, [4, 5, 6]]\n"
     ]
    }
   ],
   "source": [
    "def function(m):\n",
    "    return m\n",
    "\n",
    "a = [1,2,3,[4,5,6]]\n",
    "b = function(a[:])\n",
    "print(a is b, a, b)"
   ]
  },
  {
   "cell_type": "code",
   "execution_count": 131,
   "id": "ba11df4b",
   "metadata": {
    "colab": {
     "base_uri": "https://localhost:8080/"
    },
    "executionInfo": {
     "elapsed": 70,
     "status": "ok",
     "timestamp": 1690551260692,
     "user": {
      "displayName": "DSS DSS",
      "userId": "17636620013329168760"
     },
     "user_tz": -330
    },
    "id": "ba11df4b",
    "outputId": "e87a7d7a-d9ad-4ecc-a830-9f6b383b8d9e"
   },
   "outputs": [
    {
     "name": "stdout",
     "output_type": "stream",
     "text": [
      "False [1, 2, 3, [40, 5, 6]] [10, 2, 3, [40, 5, 6]]\n"
     ]
    }
   ],
   "source": [
    "def function(m):\n",
    "    m[0] = 10\n",
    "    m[3][0] = 40\n",
    "    return m\n",
    "\n",
    "a = [1,2,3,[4,5,6]]\n",
    "b = function(a[:])\n",
    "print(a is b, a, b)"
   ]
  },
  {
   "cell_type": "code",
   "execution_count": 132,
   "id": "a18b75d6",
   "metadata": {
    "colab": {
     "base_uri": "https://localhost:8080/"
    },
    "executionInfo": {
     "elapsed": 68,
     "status": "ok",
     "timestamp": 1690551260692,
     "user": {
      "displayName": "DSS DSS",
      "userId": "17636620013329168760"
     },
     "user_tz": -330
    },
    "id": "a18b75d6",
    "outputId": "5cc099d7-e7b4-46f7-8f30-c36bf4c926ec"
   },
   "outputs": [
    {
     "name": "stdout",
     "output_type": "stream",
     "text": [
      "False [1, 2, 3, [4, 5, 6]] [10, 2, 3, [40, 5, 6]]\n"
     ]
    }
   ],
   "source": [
    "def function(m):\n",
    "    m = [1,2,3,[4,5,6]]\n",
    "    m[0] = 10\n",
    "    m[3][0] = 40\n",
    "    return m\n",
    "\n",
    "a = [1,2,3,[4,5,6]]\n",
    "b = function(a[:])\n",
    "print(a is b, a, b)"
   ]
  },
  {
   "cell_type": "markdown",
   "id": "f6f57c37",
   "metadata": {
    "id": "f6f57c37"
   },
   "source": [
    "### lambda functions"
   ]
  },
  {
   "cell_type": "markdown",
   "id": "61348c08",
   "metadata": {
    "id": "61348c08"
   },
   "source": [
    "- one line functions\n",
    "- anonymous functions\n",
    "- used only once functions"
   ]
  },
  {
   "cell_type": "code",
   "execution_count": 133,
   "id": "7a453622",
   "metadata": {
    "colab": {
     "base_uri": "https://localhost:8080/"
    },
    "executionInfo": {
     "elapsed": 66,
     "status": "ok",
     "timestamp": 1690551260692,
     "user": {
      "displayName": "DSS DSS",
      "userId": "17636620013329168760"
     },
     "user_tz": -330
    },
    "id": "7a453622",
    "outputId": "4d636f02-3f40-45f1-cfe4-f8e4122f00e8"
   },
   "outputs": [
    {
     "name": "stdout",
     "output_type": "stream",
     "text": [
      "30\n"
     ]
    }
   ],
   "source": [
    "def multiplication_with_five(x):\n",
    "    return 5 * x\n",
    "\n",
    "a = multiplication_with_five(6)\n",
    "print(a)"
   ]
  },
  {
   "cell_type": "code",
   "execution_count": 134,
   "id": "1783dabf",
   "metadata": {
    "colab": {
     "base_uri": "https://localhost:8080/"
    },
    "executionInfo": {
     "elapsed": 64,
     "status": "ok",
     "timestamp": 1690551260692,
     "user": {
      "displayName": "DSS DSS",
      "userId": "17636620013329168760"
     },
     "user_tz": -330
    },
    "id": "1783dabf",
    "outputId": "0bf62f9c-1d3b-4b0c-d9ad-31cd1017d39b"
   },
   "outputs": [
    {
     "name": "stdout",
     "output_type": "stream",
     "text": [
      "<function <lambda> at 0x7bcc80f69e10> 30\n"
     ]
    }
   ],
   "source": [
    "# 1 parameter\n",
    "a = lambda x: 5 * x\n",
    "print(a, a(6))"
   ]
  },
  {
   "cell_type": "code",
   "execution_count": 135,
   "id": "aa309d3b",
   "metadata": {
    "colab": {
     "base_uri": "https://localhost:8080/"
    },
    "executionInfo": {
     "elapsed": 62,
     "status": "ok",
     "timestamp": 1690551260692,
     "user": {
      "displayName": "DSS DSS",
      "userId": "17636620013329168760"
     },
     "user_tz": -330
    },
    "id": "aa309d3b",
    "outputId": "3cf51b51-bb9f-4c18-bdaa-d70946c678da"
   },
   "outputs": [
    {
     "name": "stdout",
     "output_type": "stream",
     "text": [
      "<function <lambda> at 0x7bcc80f68b80> 30\n"
     ]
    }
   ],
   "source": [
    "# 2 parameters\n",
    "x = lambda a, b: a * b\n",
    "print(x, x(5, 6))"
   ]
  },
  {
   "cell_type": "code",
   "execution_count": 136,
   "id": "2ac7d5c6",
   "metadata": {
    "colab": {
     "base_uri": "https://localhost:8080/"
    },
    "executionInfo": {
     "elapsed": 61,
     "status": "ok",
     "timestamp": 1690551260692,
     "user": {
      "displayName": "DSS DSS",
      "userId": "17636620013329168760"
     },
     "user_tz": -330
    },
    "id": "2ac7d5c6",
    "outputId": "110846d9-27fb-4894-d290-653b03b41093"
   },
   "outputs": [
    {
     "name": "stdout",
     "output_type": "stream",
     "text": [
      "13\n",
      "130\n"
     ]
    }
   ],
   "source": [
    "# 3 parameters\n",
    "x = lambda a, b, c: a + b + c\n",
    "print(x(5, 6, 2))\n",
    "print(x(50, 60, 20))"
   ]
  },
  {
   "cell_type": "markdown",
   "id": "6891be91",
   "metadata": {
    "id": "6891be91"
   },
   "source": [
    "#### lambda function inside another function"
   ]
  },
  {
   "cell_type": "code",
   "execution_count": 137,
   "id": "2a069d51",
   "metadata": {
    "executionInfo": {
     "elapsed": 59,
     "status": "ok",
     "timestamp": 1690551260692,
     "user": {
      "displayName": "DSS DSS",
      "userId": "17636620013329168760"
     },
     "user_tz": -330
    },
    "id": "2a069d51"
   },
   "outputs": [],
   "source": [
    "def myfunc(n):\n",
    "    return lambda  a: a ** n"
   ]
  },
  {
   "cell_type": "code",
   "execution_count": 138,
   "id": "6ef9fad7",
   "metadata": {
    "colab": {
     "base_uri": "https://localhost:8080/"
    },
    "executionInfo": {
     "elapsed": 59,
     "status": "ok",
     "timestamp": 1690551260692,
     "user": {
      "displayName": "DSS DSS",
      "userId": "17636620013329168760"
     },
     "user_tz": -330
    },
    "id": "6ef9fad7",
    "outputId": "9ecff4c8-806a-4884-acbd-0d1edc8ee7e1"
   },
   "outputs": [
    {
     "name": "stdout",
     "output_type": "stream",
     "text": [
      "121\n"
     ]
    }
   ],
   "source": [
    "# square = lambda  a: a * 2\n",
    "\n",
    "square = myfunc(2) # n\n",
    "print(square(11)) # a"
   ]
  },
  {
   "cell_type": "code",
   "execution_count": 139,
   "id": "0948c54e",
   "metadata": {
    "colab": {
     "base_uri": "https://localhost:8080/"
    },
    "executionInfo": {
     "elapsed": 57,
     "status": "ok",
     "timestamp": 1690551260692,
     "user": {
      "displayName": "DSS DSS",
      "userId": "17636620013329168760"
     },
     "user_tz": -330
    },
    "id": "0948c54e",
    "outputId": "94a05e43-718d-48f3-dfa8-4e4186eece4d"
   },
   "outputs": [
    {
     "name": "stdout",
     "output_type": "stream",
     "text": [
      "1331\n"
     ]
    }
   ],
   "source": [
    "cube = myfunc(3)\n",
    "print(cube(11))"
   ]
  },
  {
   "cell_type": "code",
   "execution_count": 140,
   "id": "c4429880",
   "metadata": {
    "colab": {
     "base_uri": "https://localhost:8080/"
    },
    "executionInfo": {
     "elapsed": 57,
     "status": "ok",
     "timestamp": 1690551260693,
     "user": {
      "displayName": "DSS DSS",
      "userId": "17636620013329168760"
     },
     "user_tz": -330
    },
    "id": "c4429880",
    "outputId": "91f057dd-26b2-435a-f67a-29ab8abd5fc6"
   },
   "outputs": [
    {
     "name": "stdout",
     "output_type": "stream",
     "text": [
      "25\n",
      "125\n"
     ]
    }
   ],
   "source": [
    "print(square(5))\n",
    "print(cube(5))"
   ]
  },
  {
   "cell_type": "markdown",
   "id": "bc0a5ed4",
   "metadata": {
    "id": "bc0a5ed4"
   },
   "source": [
    "#### nested lambda functions"
   ]
  },
  {
   "cell_type": "code",
   "execution_count": 141,
   "id": "e815b49e",
   "metadata": {
    "colab": {
     "base_uri": "https://localhost:8080/"
    },
    "executionInfo": {
     "elapsed": 55,
     "status": "ok",
     "timestamp": 1690551260693,
     "user": {
      "displayName": "DSS DSS",
      "userId": "17636620013329168760"
     },
     "user_tz": -330
    },
    "id": "e815b49e",
    "outputId": "69ddbc91-7d8c-4c26-ce22-f823150f41f2"
   },
   "outputs": [
    {
     "name": "stdout",
     "output_type": "stream",
     "text": [
      "5\n"
     ]
    }
   ],
   "source": [
    "z = lambda a,b : a+b\n",
    "print(z(2,3))"
   ]
  },
  {
   "cell_type": "code",
   "execution_count": 142,
   "id": "a450f515",
   "metadata": {
    "colab": {
     "base_uri": "https://localhost:8080/"
    },
    "executionInfo": {
     "elapsed": 53,
     "status": "ok",
     "timestamp": 1690551260693,
     "user": {
      "displayName": "DSS DSS",
      "userId": "17636620013329168760"
     },
     "user_tz": -330
    },
    "id": "a450f515",
    "outputId": "446779ec-52a6-4c07-d4bc-e431389a5d36"
   },
   "outputs": [
    {
     "data": {
      "text/plain": [
       "14"
      ]
     },
     "execution_count": 142,
     "metadata": {},
     "output_type": "execute_result"
    }
   ],
   "source": [
    "f = lambda a = 2, b = 3: (lambda c: a+b+c)\n",
    "f(5) # a = 5, but not c = 5\n",
    "a = f(5)\n",
    "a(6) # c = 5"
   ]
  },
  {
   "cell_type": "code",
   "execution_count": 143,
   "id": "154329ab",
   "metadata": {
    "colab": {
     "base_uri": "https://localhost:8080/"
    },
    "executionInfo": {
     "elapsed": 52,
     "status": "ok",
     "timestamp": 1690551260693,
     "user": {
      "displayName": "DSS DSS",
      "userId": "17636620013329168760"
     },
     "user_tz": -330
    },
    "id": "154329ab",
    "outputId": "5164b36a-031d-4619-9def-d3fd41a134be"
   },
   "outputs": [
    {
     "data": {
      "text/plain": [
       "16"
      ]
     },
     "execution_count": 143,
     "metadata": {},
     "output_type": "execute_result"
    }
   ],
   "source": [
    "z = lambda a=2,b=3 : (lambda c : lambda g : a+b+c+g)\n",
    "y = z(4) # a = 4\n",
    "e = y(4)\n",
    "e(5)"
   ]
  },
  {
   "cell_type": "markdown",
   "id": "c7f70d82",
   "metadata": {
    "id": "c7f70d82"
   },
   "source": [
    "### scope of variables"
   ]
  },
  {
   "cell_type": "code",
   "execution_count": 144,
   "id": "36426089",
   "metadata": {
    "colab": {
     "base_uri": "https://localhost:8080/"
    },
    "executionInfo": {
     "elapsed": 50,
     "status": "ok",
     "timestamp": 1690551260693,
     "user": {
      "displayName": "DSS DSS",
      "userId": "17636620013329168760"
     },
     "user_tz": -330
    },
    "id": "36426089",
    "outputId": "06c42754-d3ce-4e30-da08-8b63a2247c5e"
   },
   "outputs": [
    {
     "name": "stdout",
     "output_type": "stream",
     "text": [
      "50\n",
      "10\n"
     ]
    }
   ],
   "source": [
    "g = 10 # global scope\n",
    "\n",
    "def function():\n",
    "    l = 50 # local scope\n",
    "    print(l)\n",
    "\n",
    "function()\n",
    "print(g)"
   ]
  },
  {
   "cell_type": "code",
   "execution_count": 145,
   "id": "cdff2646",
   "metadata": {
    "colab": {
     "base_uri": "https://localhost:8080/"
    },
    "executionInfo": {
     "elapsed": 48,
     "status": "ok",
     "timestamp": 1690551260693,
     "user": {
      "displayName": "DSS DSS",
      "userId": "17636620013329168760"
     },
     "user_tz": -330
    },
    "id": "cdff2646",
    "outputId": "76197f30-6a68-4015-9cbc-febc06af4a0d"
   },
   "outputs": [
    {
     "name": "stdout",
     "output_type": "stream",
     "text": [
      "10\n",
      "10\n"
     ]
    }
   ],
   "source": [
    "g = 10\n",
    "\n",
    "def function():\n",
    "    print(g) # global scope\n",
    "\n",
    "function()\n",
    "print(g)"
   ]
  },
  {
   "cell_type": "code",
   "execution_count": 146,
   "id": "d5cc074a",
   "metadata": {
    "colab": {
     "base_uri": "https://localhost:8080/"
    },
    "executionInfo": {
     "elapsed": 47,
     "status": "ok",
     "timestamp": 1690551260693,
     "user": {
      "displayName": "DSS DSS",
      "userId": "17636620013329168760"
     },
     "user_tz": -330
    },
    "id": "d5cc074a",
    "outputId": "94eb22da-cf9f-4179-d35d-3aaca75d1004"
   },
   "outputs": [
    {
     "name": "stdout",
     "output_type": "stream",
     "text": [
      "50\n",
      "10\n"
     ]
    }
   ],
   "source": [
    "g = 10 # global scope\n",
    "\n",
    "def function():\n",
    "    g = 50 # variable shadowing - local scope\n",
    "    print(g)\n",
    "\n",
    "function()\n",
    "print(g)"
   ]
  },
  {
   "cell_type": "code",
   "execution_count": 147,
   "id": "f6cd9516",
   "metadata": {
    "colab": {
     "base_uri": "https://localhost:8080/"
    },
    "executionInfo": {
     "elapsed": 45,
     "status": "ok",
     "timestamp": 1690551260693,
     "user": {
      "displayName": "DSS DSS",
      "userId": "17636620013329168760"
     },
     "user_tz": -330
    },
    "id": "f6cd9516",
    "outputId": "bea52642-4495-4f26-ddfd-e7ad34eaaf9c"
   },
   "outputs": [
    {
     "name": "stdout",
     "output_type": "stream",
     "text": [
      "50\n",
      "50\n"
     ]
    }
   ],
   "source": [
    "def function():\n",
    "    global g1\n",
    "    g1 = 50 # global scope\n",
    "    print(g1)\n",
    "\n",
    "function()\n",
    "print(g1)"
   ]
  },
  {
   "cell_type": "code",
   "execution_count": 148,
   "id": "02dc4038",
   "metadata": {
    "colab": {
     "base_uri": "https://localhost:8080/"
    },
    "executionInfo": {
     "elapsed": 44,
     "status": "ok",
     "timestamp": 1690551260693,
     "user": {
      "displayName": "DSS DSS",
      "userId": "17636620013329168760"
     },
     "user_tz": -330
    },
    "id": "02dc4038",
    "outputId": "f426cade-011e-4b99-aed2-c964a7d6658d"
   },
   "outputs": [
    {
     "name": "stdout",
     "output_type": "stream",
     "text": [
      "g\n",
      "50\n",
      "50\n"
     ]
    }
   ],
   "source": [
    "def function():\n",
    "    global g2\n",
    "    print('g')\n",
    "    a = 3\n",
    "    g2 = 50 # global scope\n",
    "    print(g2)\n",
    "\n",
    "function()\n",
    "print(g2)"
   ]
  },
  {
   "cell_type": "code",
   "execution_count": 149,
   "id": "d8d1c3d9",
   "metadata": {
    "colab": {
     "base_uri": "https://localhost:8080/"
    },
    "executionInfo": {
     "elapsed": 42,
     "status": "ok",
     "timestamp": 1690551260693,
     "user": {
      "displayName": "DSS DSS",
      "userId": "17636620013329168760"
     },
     "user_tz": -330
    },
    "id": "d8d1c3d9",
    "outputId": "1d3e983e-4a37-4091-9597-ca60fba19c55"
   },
   "outputs": [
    {
     "name": "stdout",
     "output_type": "stream",
     "text": [
      "hello\n"
     ]
    }
   ],
   "source": [
    "def function():\n",
    "    global g3\n",
    "    print('hello')\n",
    "#     print(g3) # NameError: name 'g3' is not defined\n",
    "\n",
    "function()"
   ]
  },
  {
   "cell_type": "code",
   "execution_count": 150,
   "id": "bb123dcf",
   "metadata": {
    "colab": {
     "base_uri": "https://localhost:8080/"
    },
    "executionInfo": {
     "elapsed": 41,
     "status": "ok",
     "timestamp": 1690551260693,
     "user": {
      "displayName": "DSS DSS",
      "userId": "17636620013329168760"
     },
     "user_tz": -330
    },
    "id": "bb123dcf",
    "outputId": "bf2a1320-d065-4378-f066-3ee726940e87"
   },
   "outputs": [
    {
     "name": "stdout",
     "output_type": "stream",
     "text": [
      "50\n",
      "50\n"
     ]
    }
   ],
   "source": [
    "g4 = 10\n",
    "def function():\n",
    "    global g4\n",
    "    g4 = 50 # global scope\n",
    "    print(g4)\n",
    "\n",
    "function()\n",
    "print(g4)"
   ]
  },
  {
   "cell_type": "markdown",
   "id": "2efad29c",
   "metadata": {
    "id": "2efad29c"
   },
   "source": [
    "### built functions"
   ]
  },
  {
   "cell_type": "code",
   "execution_count": 151,
   "id": "a3ffeff6",
   "metadata": {
    "colab": {
     "base_uri": "https://localhost:8080/"
    },
    "executionInfo": {
     "elapsed": 39,
     "status": "ok",
     "timestamp": 1690551260693,
     "user": {
      "displayName": "DSS DSS",
      "userId": "17636620013329168760"
     },
     "user_tz": -330
    },
    "id": "a3ffeff6",
    "outputId": "5dc301de-d3e6-4113-f0e7-60d54cee1f63"
   },
   "outputs": [
    {
     "name": "stdout",
     "output_type": "stream",
     "text": [
      "60\n",
      "True\n",
      "Tony\n",
      "my message\n",
      "<object object at 0x7bcc8253bbd0> <object object at 0x7bcc8253bcd0>\n",
      "Male\n"
     ]
    }
   ],
   "source": [
    "class Person:\n",
    "    \"This is a Person class\"\n",
    "    name = \"Tony\"\n",
    "    age = 60\n",
    "\n",
    "p = Person()\n",
    "print(p.age)\n",
    "\n",
    "delattr(Person, 'age')\n",
    "setattr(Person, 'gender', 'Male')\n",
    "print(hasattr(Person, 'gender'))\n",
    "# print(p.age) #  AttributeError: 'Person' object has no attribute 'age'\n",
    "\n",
    "print(getattr(Person, 'name', 'my message'))\n",
    "print(getattr(Person, 'page', 'my message'))\n",
    "\n",
    "print(object(), # new object\n",
    "      object())\n",
    "\n",
    "print(vars(Person)['gender'])"
   ]
  },
  {
   "cell_type": "code",
   "execution_count": 152,
   "id": "92986f46",
   "metadata": {
    "executionInfo": {
     "elapsed": 37,
     "status": "ok",
     "timestamp": 1690551260693,
     "user": {
      "displayName": "DSS DSS",
      "userId": "17636620013329168760"
     },
     "user_tz": -330
    },
    "id": "92986f46"
   },
   "outputs": [],
   "source": [
    "class Student(Person):\n",
    "    pass\n",
    "\n",
    "stu = Student()"
   ]
  },
  {
   "cell_type": "code",
   "execution_count": 153,
   "id": "d87d3091",
   "metadata": {
    "colab": {
     "base_uri": "https://localhost:8080/"
    },
    "executionInfo": {
     "elapsed": 38,
     "status": "ok",
     "timestamp": 1690551260694,
     "user": {
      "displayName": "DSS DSS",
      "userId": "17636620013329168760"
     },
     "user_tz": -330
    },
    "id": "d87d3091",
    "outputId": "169ea36f-33db-4033-847c-2c982573badd"
   },
   "outputs": [
    {
     "name": "stdout",
     "output_type": "stream",
     "text": [
      "5.7 5.0 False True 0b1010 True False True a {'name': 'tony', 'age': '60'} name (3, 4) [(0, 'a'), (1, 'b')] 75.000000% 11111111 ff 1713578045245444163 -4363729961677198915\n"
     ]
    }
   ],
   "source": [
    "t1 = (1,3,2)\n",
    "t2 = (1,2,4)\n",
    "print(abs(-5.7), # 5.7\n",
    "      abs(3+4j), # 5.0 sqrt(a*a + b*b)\n",
    "      all([True,0]), # False\n",
    "      any([True,False]), # True\n",
    "      bin(10), # 0b1010 binary version of number\n",
    "      bool(10), # True\n",
    "      callable(5), # False\n",
    "      callable(bool), # True\n",
    "      chr(97), # a\n",
    "      dict(name=\"tony\",age='60'),\n",
    "      dir(Person)[-1],\n",
    "      divmod(19,5), # quotient and remainder\n",
    "      list(enumerate([\"a\",\"b\"])),\n",
    "      format(0.75, '%'),\n",
    "      format(255,'b'),\n",
    "      format(255,'x'),\n",
    "      str(hash(t1)),\n",
    "      str(hash(t2)),\n",
    "#       str(hash(list(t1))), # TypeError: unhashable type: 'list'\n",
    "     )"
   ]
  },
  {
   "cell_type": "code",
   "execution_count": 154,
   "id": "1f219167",
   "metadata": {
    "colab": {
     "base_uri": "https://localhost:8080/"
    },
    "executionInfo": {
     "elapsed": 36,
     "status": "ok",
     "timestamp": 1690551260694,
     "user": {
      "displayName": "DSS DSS",
      "userId": "17636620013329168760"
     },
     "user_tz": -330
    },
    "id": "1f219167",
    "outputId": "e4ba204f-e009-499e-ec4a-8126233a49e7"
   },
   "outputs": [
    {
     "name": "stdout",
     "output_type": "stream",
     "text": [
      "0xff 136118254682560 True False True True 0o14 97 20 a 30 64 4 5.74 5.736 6 slice(0, 3, 2) (1, 2) [3, 2, 1] (1, 3, 2)\n"
     ]
    }
   ],
   "source": [
    "print(hex(255),\n",
    "      id(t1),\n",
    "      isinstance(5,int),\n",
    "      isinstance(5,(float,str)),\n",
    "      isinstance(p, Person),\n",
    "      issubclass(Person, object),\n",
    "      oct(12),\n",
    "      ord('a'), # unicode representation of specififed character\n",
    "      max(10,20),\n",
    "      min(\"ab\"), # a\n",
    "      sum([10,20]),\n",
    "      pow(4,3), # 4**3\n",
    "      pow(4,3,5), # (4**3)%5\n",
    "      round(5.73636, 2),\n",
    "      round(5.73636, 3),\n",
    "      round(5.73636),\n",
    "      slice(0,3,2),\n",
    "      t1[slice(0,3,2)],\n",
    "      sorted(t1, reverse=True), # original is not affected\n",
    "      t1\n",
    "     )"
   ]
  },
  {
   "cell_type": "code",
   "execution_count": 155,
   "id": "39958a4d",
   "metadata": {
    "colab": {
     "base_uri": "https://localhost:8080/"
    },
    "executionInfo": {
     "elapsed": 34,
     "status": "ok",
     "timestamp": 1690551260694,
     "user": {
      "displayName": "DSS DSS",
      "userId": "17636620013329168760"
     },
     "user_tz": -330
    },
    "id": "39958a4d",
    "outputId": "e7f6208f-cbe4-4965-bde6-13d267dc5e7e"
   },
   "outputs": [
    {
     "name": "stdout",
     "output_type": "stream",
     "text": [
      "4\n"
     ]
    },
    {
     "data": {
      "text/plain": [
       "(None,)"
      ]
     },
     "execution_count": 155,
     "metadata": {},
     "output_type": "execute_result"
    }
   ],
   "source": [
    "eval(compile('print(1+3)', mode='eval', filename='test')),"
   ]
  },
  {
   "cell_type": "code",
   "execution_count": 156,
   "id": "d52b7b63",
   "metadata": {
    "colab": {
     "base_uri": "https://localhost:8080/"
    },
    "executionInfo": {
     "elapsed": 32,
     "status": "ok",
     "timestamp": 1690551260694,
     "user": {
      "displayName": "DSS DSS",
      "userId": "17636620013329168760"
     },
     "user_tz": -330
    },
    "id": "d52b7b63",
    "outputId": "8f0e8143-3ae2-46da-9492-e35dbf6cc5ba"
   },
   "outputs": [
    {
     "data": {
      "text/plain": [
       "10"
      ]
     },
     "execution_count": 156,
     "metadata": {},
     "output_type": "execute_result"
    }
   ],
   "source": [
    "eval(compile('5+5', mode='eval', filename='test'))"
   ]
  },
  {
   "cell_type": "code",
   "execution_count": 157,
   "id": "25ae0d10",
   "metadata": {
    "colab": {
     "base_uri": "https://localhost:8080/"
    },
    "executionInfo": {
     "elapsed": 30,
     "status": "ok",
     "timestamp": 1690551260694,
     "user": {
      "displayName": "DSS DSS",
      "userId": "17636620013329168760"
     },
     "user_tz": -330
    },
    "id": "25ae0d10",
    "outputId": "2cbdb94a-e669-41c4-d6b2-2c0e03e497ab"
   },
   "outputs": [
    {
     "name": "stdout",
     "output_type": "stream",
     "text": [
      "22\n",
      "24\n"
     ]
    }
   ],
   "source": [
    "exec(compile('print(22)\\nprint(24)', mode='exec', filename='test'))"
   ]
  },
  {
   "cell_type": "code",
   "execution_count": 158,
   "id": "bcbab0a0",
   "metadata": {
    "executionInfo": {
     "elapsed": 28,
     "status": "ok",
     "timestamp": 1690551260694,
     "user": {
      "displayName": "DSS DSS",
      "userId": "17636620013329168760"
     },
     "user_tz": -330
    },
    "id": "bcbab0a0"
   },
   "outputs": [],
   "source": [
    "# globals() # dictionary representation of current global symbol table"
   ]
  },
  {
   "cell_type": "code",
   "execution_count": 159,
   "id": "b4015f03",
   "metadata": {
    "executionInfo": {
     "elapsed": 27,
     "status": "ok",
     "timestamp": 1690551260694,
     "user": {
      "displayName": "DSS DSS",
      "userId": "17636620013329168760"
     },
     "user_tz": -330
    },
    "id": "b4015f03"
   },
   "outputs": [],
   "source": [
    "# locals() # dictionary of the current local symbol table"
   ]
  },
  {
   "cell_type": "code",
   "execution_count": 160,
   "id": "c1254cf7",
   "metadata": {
    "colab": {
     "base_uri": "https://localhost:8080/"
    },
    "executionInfo": {
     "elapsed": 27,
     "status": "ok",
     "timestamp": 1690551260694,
     "user": {
      "displayName": "DSS DSS",
      "userId": "17636620013329168760"
     },
     "user_tz": -330
    },
    "id": "c1254cf7",
    "outputId": "2101bae4-0d98-48ee-aa25-4b112e95cb58",
    "scrolled": true
   },
   "outputs": [
    {
     "name": "stdout",
     "output_type": "stream",
     "text": [
      "Help on built-in function sorted in module builtins:\n",
      "\n",
      "sorted(iterable, /, *, key=None, reverse=False)\n",
      "    Return a new list containing all items from the iterable in ascending order.\n",
      "    \n",
      "    A custom key function can be supplied to customize the sort order, and the\n",
      "    reverse flag can be set to request the result in descending order.\n",
      "\n"
     ]
    }
   ],
   "source": [
    "help(sorted)"
   ]
  },
  {
   "cell_type": "code",
   "execution_count": 161,
   "id": "e660544c",
   "metadata": {
    "colab": {
     "base_uri": "https://localhost:8080/"
    },
    "executionInfo": {
     "elapsed": 26,
     "status": "ok",
     "timestamp": 1690551260694,
     "user": {
      "displayName": "DSS DSS",
      "userId": "17636620013329168760"
     },
     "user_tz": -330
    },
    "id": "e660544c",
    "outputId": "072e3c2d-d73a-4114-f7d8-9dcb0c8b08a5"
   },
   "outputs": [
    {
     "name": "stdout",
     "output_type": "stream",
     "text": [
      "1 2 3\n",
      "1 11 2 [1, 3, 5, 7, 9] 4\n",
      "[9, 7, 5, 3, 1]\n"
     ]
    }
   ],
   "source": [
    "# iterable\n",
    "l1 = [1,2,3]\n",
    "# next(l1) # TypeError: 'list' object is not an iterator\n",
    "\n",
    "# iterator\n",
    "iterator1 = iter(l1)\n",
    "print(next(iterator1),\n",
    "      next(iterator1),\n",
    "      next(iterator1),\n",
    "#       next(iterator1) # StopIteration:\n",
    "     )\n",
    "\n",
    "a = range(1,11,2)\n",
    "# next(a) # TypeError: 'range' object is not an iterator\n",
    "print(a.start, a.stop, a.step,\n",
    "      list(a), a.index(9),\n",
    "#      a.index(2) # ValueError: 2 is not in range\n",
    "     )\n",
    "\n",
    "print(list(reversed(a)))"
   ]
  },
  {
   "cell_type": "code",
   "execution_count": 162,
   "id": "714799e5",
   "metadata": {
    "colab": {
     "base_uri": "https://localhost:8080/"
    },
    "executionInfo": {
     "elapsed": 24,
     "status": "ok",
     "timestamp": 1690551260694,
     "user": {
      "displayName": "DSS DSS",
      "userId": "17636620013329168760"
     },
     "user_tz": -330
    },
    "id": "714799e5",
    "outputId": "b792cde3-e7c5-4ebd-ca32-69d6a06e1a3e"
   },
   "outputs": [
    {
     "name": "stdout",
     "output_type": "stream",
     "text": [
      "(1, 'a')\n",
      "(2, 'b')\n",
      "(3, 'c')\n"
     ]
    }
   ],
   "source": [
    "left = [1,2,3,4,5]\n",
    "right = ['a','b','c']\n",
    "for x in zip(left,right):\n",
    "    print(x)"
   ]
  },
  {
   "cell_type": "markdown",
   "id": "f4ae318b",
   "metadata": {
    "id": "f4ae318b"
   },
   "source": [
    "### map filter reduce"
   ]
  },
  {
   "cell_type": "code",
   "execution_count": 163,
   "id": "80a00068",
   "metadata": {
    "colab": {
     "base_uri": "https://localhost:8080/"
    },
    "executionInfo": {
     "elapsed": 22,
     "status": "ok",
     "timestamp": 1690551260694,
     "user": {
      "displayName": "DSS DSS",
      "userId": "17636620013329168760"
     },
     "user_tz": -330
    },
    "id": "80a00068",
    "outputId": "c9ff60ed-b009-4c8a-d6ae-7732b1e81d7a"
   },
   "outputs": [
    {
     "name": "stdout",
     "output_type": "stream",
     "text": [
      "<map object at 0x7bcc80f768c0> [1, 4] set()\n",
      "{'A', 'B'} ('A', 'B')\n",
      "<map object at 0x7bcc8031fac0>\n",
      "1 4 9 16\n",
      "<map object at 0x7bcc8031fac0>\n"
     ]
    }
   ],
   "source": [
    "def square(n):\n",
    "    return n*n\n",
    "\n",
    "m = map(square, [1,2])\n",
    "print(m, list(m), set(m))\n",
    "\n",
    "s = list(map(lambda a: a.upper(), ['a','b']))\n",
    "print(set(s), tuple(s))\n",
    "\n",
    "x = map(lambda x:x*x, (1,2,3,4))  # x is the map object => Generator\n",
    "print(x)\n",
    "print(next(x), # 1\n",
    "      next(x), # 4\n",
    "      next(x), # 9\n",
    "      next(x)) # 16\n",
    "print(x,  # empty object exists\n",
    "#       next(x) # StopIteration:\n",
    "     )"
   ]
  },
  {
   "cell_type": "code",
   "execution_count": 164,
   "id": "83b1cdc1",
   "metadata": {
    "colab": {
     "base_uri": "https://localhost:8080/"
    },
    "executionInfo": {
     "elapsed": 20,
     "status": "ok",
     "timestamp": 1690551260694,
     "user": {
      "displayName": "DSS DSS",
      "userId": "17636620013329168760"
     },
     "user_tz": -330
    },
    "id": "83b1cdc1",
    "outputId": "2e9a738c-6a3e-450f-a6a9-f6edccf1ebf9"
   },
   "outputs": [
    {
     "name": "stdout",
     "output_type": "stream",
     "text": [
      "[4, 6, 4, 56, 9, 32]\n",
      "[3.57]\n",
      "[3.6, 5.58, 4.009, 56.2424, 9.01344, 32.00013]\n"
     ]
    }
   ],
   "source": [
    "# round takes 2 args so here we pass 2 iterables\n",
    "\n",
    "circle_areas = [3.56773, 5.57668, 4.00914, 56.24241, 9.01344, 32.00013]\n",
    "\n",
    "result = list(map(round, circle_areas))\n",
    "print(result)\n",
    "\n",
    "result = list(map(round, circle_areas, [2]))\n",
    "print(result)\n",
    "\n",
    "result = list(map(round, circle_areas, range(1, 7)))\n",
    "print(result)"
   ]
  },
  {
   "cell_type": "code",
   "execution_count": 165,
   "id": "de31cc0d",
   "metadata": {
    "colab": {
     "base_uri": "https://localhost:8080/"
    },
    "executionInfo": {
     "elapsed": 18,
     "status": "ok",
     "timestamp": 1690551260694,
     "user": {
      "displayName": "DSS DSS",
      "userId": "17636620013329168760"
     },
     "user_tz": -330
    },
    "id": "de31cc0d",
    "outputId": "6395762b-8923-4e83-8a18-a8eca5ccac80"
   },
   "outputs": [
    {
     "name": "stdout",
     "output_type": "stream",
     "text": [
      "<filter object at 0x7bcc80f76560> [-2, -1, 1, 2, 3, 4]\n"
     ]
    }
   ],
   "source": [
    "# incorrect return\n",
    "\n",
    "def func(x):\n",
    "    if x >= -2:\n",
    "        return x # returning value for filter function : incorrect (as filter considers true or false)\n",
    "\n",
    "num = (-4,-3,-2,-1,0,1,2,3,4)\n",
    "\n",
    "x = filter(func, num)\n",
    "print(x, list(x)) # 0 is not returned as 0 is considered False"
   ]
  },
  {
   "cell_type": "code",
   "execution_count": 166,
   "id": "6727a739",
   "metadata": {
    "colab": {
     "base_uri": "https://localhost:8080/"
    },
    "executionInfo": {
     "elapsed": 17,
     "status": "ok",
     "timestamp": 1690551260694,
     "user": {
      "displayName": "DSS DSS",
      "userId": "17636620013329168760"
     },
     "user_tz": -330
    },
    "id": "6727a739",
    "outputId": "cc139c93-3fb7-455c-b27b-e6bee2b52147"
   },
   "outputs": [
    {
     "name": "stdout",
     "output_type": "stream",
     "text": [
      "[-2, -1, 0, 1, 2, 3, 4]\n",
      "[-2, -1, 0, 1, 2, 3, 4]\n"
     ]
    }
   ],
   "source": [
    "# return elements > -2\n",
    "\n",
    "def compare(x):\n",
    "    return x >= -2 # return boolean for filter functionL: correct\n",
    "\n",
    "num = (-4,-3,-2,-1,0,1,2,3,4)\n",
    "\n",
    "y = list(filter(compare, num)) # F, F, T, T, T, T, T, T, T\n",
    "print(y) # 0 is also returned : correct\n",
    "\n",
    "y = list(filter(lambda x: (x>=-2), num))\n",
    "print(y)"
   ]
  },
  {
   "cell_type": "code",
   "execution_count": 167,
   "id": "f27a8b7f",
   "metadata": {
    "colab": {
     "base_uri": "https://localhost:8080/"
    },
    "executionInfo": {
     "elapsed": 16,
     "status": "ok",
     "timestamp": 1690551260695,
     "user": {
      "displayName": "DSS DSS",
      "userId": "17636620013329168760"
     },
     "user_tz": -330
    },
    "id": "f27a8b7f",
    "outputId": "4180341c-08f8-4b27-b7b9-af20328b7c59"
   },
   "outputs": [
    {
     "name": "stdout",
     "output_type": "stream",
     "text": [
      "['madam', 'anutforajaroftuna']\n"
     ]
    }
   ],
   "source": [
    "dromes = (\"demigod\", \"rewire\", \"madam\", \"freer\", \"anutforajaroftuna\", \"kiosk\")\n",
    "\n",
    "palindromes = list(filter(lambda word: word == word[::-1], dromes))\n",
    "\n",
    "print(palindromes)"
   ]
  },
  {
   "cell_type": "code",
   "execution_count": 168,
   "id": "bc9a89b1",
   "metadata": {
    "colab": {
     "base_uri": "https://localhost:8080/"
    },
    "executionInfo": {
     "elapsed": 14,
     "status": "ok",
     "timestamp": 1690551260695,
     "user": {
      "displayName": "DSS DSS",
      "userId": "17636620013329168760"
     },
     "user_tz": -330
    },
    "id": "bc9a89b1",
    "outputId": "400470d3-d441-4072-e636-59b434062031"
   },
   "outputs": [
    {
     "data": {
      "text/plain": [
       "187"
      ]
     },
     "execution_count": 168,
     "metadata": {},
     "output_type": "execute_result"
    }
   ],
   "source": [
    "from functools import reduce\n",
    "\n",
    "reduce(lambda a,b: a+b,[23,21,45,98])"
   ]
  },
  {
   "cell_type": "markdown",
   "id": "11352135",
   "metadata": {
    "id": "11352135"
   },
   "source": [
    "**practice map filter reduce**"
   ]
  },
  {
   "cell_type": "code",
   "execution_count": 169,
   "id": "b006a5eb",
   "metadata": {
    "colab": {
     "base_uri": "https://localhost:8080/"
    },
    "executionInfo": {
     "elapsed": 14,
     "status": "ok",
     "timestamp": 1690551260696,
     "user": {
      "displayName": "DSS DSS",
      "userId": "17636620013329168760"
     },
     "user_tz": -330
    },
    "id": "b006a5eb",
    "outputId": "ae14c587-8ea0-4032-b80c-c6ae04b00254"
   },
   "outputs": [
    {
     "name": "stdout",
     "output_type": "stream",
     "text": [
      "[4.35, 6.09, 3.25, 9.77, 2.16, 8.88, 4.59]\n",
      "['ML', 'sql', 'python', 'datascience']\n",
      "0\n"
     ]
    }
   ],
   "source": [
    "# Question :Correct the below code as per the given criteria\n",
    "\n",
    "from functools import reduce\n",
    "\n",
    "# Use map to print the square of each numbers rounded\n",
    "# to three decimal places\n",
    "my_floats = [4.35, 6.09, 3.25, 9.77, 2.16, 8.88, 4.59]\n",
    "\n",
    "# Use filter to print only the names that are less than\n",
    "# or equal to seven letters\n",
    "my_names = [\"ML\", \"sql\", \"python\",'datascience']\n",
    "\n",
    "# Use reduce to print the product of these numbers\n",
    "my_numbers = [4, 6, 9, 23, 5]\n",
    "\n",
    "# Fix all three respectively.\n",
    "map_result = list(map(lambda x: x, my_floats))\n",
    "filter_result = list(filter(lambda name: name, my_names))\n",
    "reduce_result = reduce(lambda num1, num2: num1 * num2, my_numbers, 0)\n",
    "\n",
    "print(map_result)\n",
    "print(filter_result)\n",
    "print(reduce_result)"
   ]
  },
  {
   "cell_type": "code",
   "execution_count": 170,
   "id": "77bf8267",
   "metadata": {
    "colab": {
     "base_uri": "https://localhost:8080/"
    },
    "executionInfo": {
     "elapsed": 12,
     "status": "ok",
     "timestamp": 1690551260696,
     "user": {
      "displayName": "DSS DSS",
      "userId": "17636620013329168760"
     },
     "user_tz": -330
    },
    "id": "77bf8267",
    "outputId": "8daf0ad2-35bd-4c93-82f2-eda20217ec92"
   },
   "outputs": [
    {
     "name": "stdout",
     "output_type": "stream",
     "text": [
      "[18.922, 37.088, 10.562, 95.453, 4.666, 78.854, 21.068]\n",
      "['ML', 'sql', 'python']\n",
      "24840\n"
     ]
    }
   ],
   "source": [
    "# Solution\n",
    "\n",
    "from functools import reduce\n",
    "\n",
    "my_floats = [4.35, 6.09, 3.25, 9.77, 2.16, 8.88, 4.59]\n",
    "my_names = [\"ML\", \"sql\", \"python\",'datascience']\n",
    "my_numbers = [4, 6, 9, 23, 5]\n",
    "\n",
    "map_result = list(map(lambda x: round(x ** 2, 3), my_floats))\n",
    "filter_result = list(filter(lambda name: len(name) <= 7, my_names))\n",
    "reduce_result = reduce(lambda num1, num2: num1 * num2, my_numbers)\n",
    "\n",
    "print(map_result)\n",
    "print(filter_result)\n",
    "print(reduce_result)"
   ]
  },
  {
   "cell_type": "code",
   "execution_count": 171,
   "id": "643a158e",
   "metadata": {
    "colab": {
     "base_uri": "https://localhost:8080/"
    },
    "executionInfo": {
     "elapsed": 11,
     "status": "ok",
     "timestamp": 1690551260696,
     "user": {
      "displayName": "DSS DSS",
      "userId": "17636620013329168760"
     },
     "user_tz": -330
    },
    "id": "643a158e",
    "outputId": "8fb3ad1e-6b51-452d-fc72-90872f35179b"
   },
   "outputs": [
    {
     "name": "stdout",
     "output_type": "stream",
     "text": [
      "Basketball Players: ['Bharath', 'Dev']\n"
     ]
    }
   ],
   "source": [
    "#Printing the name of students who play basketball using filter and map method simultaneously.\n",
    "\n",
    "# Taking an array of Student object\n",
    "students = [\n",
    "    { 'id': \"001\", 'name': \"Adarsh\", 'sports': \"Cricket\" },\n",
    "    { 'id': \"002\", 'name': \"Bharath\", 'sports': \"Basketball\" },\n",
    "    { 'id': \"003\", 'name': \"Chetan\", 'sports': \"Cricket\" },\n",
    "    { 'id': \"004\", 'name': \"Dev\", 'sports': \"Basketball\" },\n",
    "    { 'id': \"005\", 'name': \"Eswar\", 'sports': \"Hockey\" }\n",
    "]\n",
    "\n",
    "# Applying filter function on students array to retrieve those students Objects who play basketball and then\n",
    "# the new array returned by filter method is mapped in order to get the name of basketball players instead of whole object\n",
    "\n",
    "basketballPlayers = list(map(lambda x: x['name'],\n",
    "                             filter(lambda student: student['sports'] == \"Basketball\",\n",
    "                                    [student for student in students])))\n",
    "\n",
    "print(\"Basketball Players:\", basketballPlayers)"
   ]
  },
  {
   "cell_type": "code",
   "execution_count": 172,
   "id": "bfab38cd",
   "metadata": {
    "colab": {
     "base_uri": "https://localhost:8080/"
    },
    "executionInfo": {
     "elapsed": 635,
     "status": "ok",
     "timestamp": 1690551261322,
     "user": {
      "displayName": "DSS DSS",
      "userId": "17636620013329168760"
     },
     "user_tz": -330
    },
    "id": "bfab38cd",
    "outputId": "bd4ac65e-4be8-49de-8d3d-2a8c73697722"
   },
   "outputs": [
    {
     "name": "stdout",
     "output_type": "stream",
     "text": [
      "product names: ['P1', 'P3', 'P4']\n",
      "net price: 900\n"
     ]
    }
   ],
   "source": [
    "# Purchase all the products whose price is < 500.\n",
    "# List product names and net price\n",
    "\n",
    "products = [\n",
    "    { 'id': \"001\", 'name': \"P1\", 'price': 450 },\n",
    "    { 'id': \"002\", 'name': \"P2\", 'price': 700 },\n",
    "    { 'id': \"003\", 'name': \"P3\", 'price': 350 },\n",
    "    { 'id': \"004\", 'name': \"P4\", 'price': 100 },\n",
    "    { 'id': \"005\", 'name': \"P5\", 'price': 850 }\n",
    "]\n",
    "\n",
    "product_names = list(map(lambda x: x['name'],\n",
    "                    filter(lambda product: product['price'] < 500,\n",
    "                           [product for product in products])))\n",
    "print(\"product names:\",product_names)\n",
    "\n",
    "net_price = reduce(lambda a,b: a+b, map(lambda x: x['price'],\n",
    "                    filter(lambda product: product['price'] < 500,\n",
    "                           [product for product in products])))\n",
    "print(\"net price:\",net_price)\n"
   ]
  },
  {
   "cell_type": "markdown",
   "id": "10e7edc9",
   "metadata": {
    "id": "10e7edc9"
   },
   "source": [
    "## File handling"
   ]
  },
  {
   "cell_type": "markdown",
   "id": "4aeb0abe",
   "metadata": {
    "id": "4aeb0abe"
   },
   "source": [
    "Python has several functions for creating, reading, updating, and deleting files.\n",
    "\n"
   ]
  },
  {
   "cell_type": "markdown",
   "id": "2fb2bf6d",
   "metadata": {
    "id": "2fb2bf6d"
   },
   "source": [
    "The key function for working with files in Python is the open() function.\n",
    "\n",
    "The open() function takes two parameters; filename, and mode.\n",
    "\n",
    "There are four different methods (modes) for opening a file:\n",
    "\n",
    "\"r\" - Read - Default value. Opens a file for reading, error if the file does not exist\n",
    "\n",
    "\"a\" - Append - Opens a file for appending, creates the file if it does not exist\n",
    "\n",
    "\"w\" - Write - Opens a file for writing, creates the file if it does not exist\n",
    "\n",
    "\"x\" - Create - Creates the specified file, returns an error if the file exists\n",
    "\n",
    "In addition you can specify if the file should be handled as binary or text mode\n",
    "\n",
    "\"t\" - Text - Default value. Text mode\n",
    "\n",
    "\"b\" - Binary - Binary mode (e.g. images)"
   ]
  },
  {
   "cell_type": "markdown",
   "id": "351f1b63",
   "metadata": {
    "id": "351f1b63"
   },
   "source": [
    "**create a new file**\n",
    "\n",
    "To create a new file in Python, use the open() method, with one of the following parameters:\n",
    "\n",
    "\"x\" - Create - will create a file, returns an error if the file exist\n",
    "\n",
    "\"a\" - Append - will create a file if the specified file does not exist\n",
    "\n",
    "\"w\" - Write - will create a file if the specified file does not exist"
   ]
  },
  {
   "cell_type": "code",
   "execution_count": 173,
   "id": "7b4bb245",
   "metadata": {
    "executionInfo": {
     "elapsed": 50,
     "status": "ok",
     "timestamp": 1690551261322,
     "user": {
      "displayName": "DSS DSS",
      "userId": "17636620013329168760"
     },
     "user_tz": -330
    },
    "id": "7b4bb245"
   },
   "outputs": [],
   "source": [
    "# f1 = open(\"demo.txt\", 'r') # FileNotFoundError: [Errno 2] No such file or directory: 'demo.txt'"
   ]
  },
  {
   "cell_type": "code",
   "execution_count": 174,
   "id": "6860d95a",
   "metadata": {
    "executionInfo": {
     "elapsed": 50,
     "status": "ok",
     "timestamp": 1690551261323,
     "user": {
      "displayName": "DSS DSS",
      "userId": "17636620013329168760"
     },
     "user_tz": -330
    },
    "id": "6860d95a"
   },
   "outputs": [],
   "source": [
    "f1 = open(\"demo.txt\", 'w')\n",
    "# f2 = open(\"demo.txt\", 'x') # FileExistsError: [Errno 17] File exists: 'demo.txt'\n",
    "f1.write('Hi\\n welcome to the demo file')\n",
    "f1.write('Hi\\n welcome again to the demo file')\n",
    "# f1.read() # UnsupportedOperation: not readable\n",
    "f1.close()"
   ]
  },
  {
   "cell_type": "code",
   "execution_count": 175,
   "id": "bb77ed07",
   "metadata": {
    "executionInfo": {
     "elapsed": 50,
     "status": "ok",
     "timestamp": 1690551261323,
     "user": {
      "displayName": "DSS DSS",
      "userId": "17636620013329168760"
     },
     "user_tz": -330
    },
    "id": "bb77ed07"
   },
   "outputs": [],
   "source": [
    "f1 = open(\"demo.txt\", 'w') # overwrite same file\n",
    "f1.write('Hello\\n welcome to the demo file')\n",
    "f1.write('Hello2\\n welcome again to the demo file')\n",
    "f1.close()"
   ]
  },
  {
   "cell_type": "code",
   "execution_count": 176,
   "id": "34f37b93",
   "metadata": {
    "executionInfo": {
     "elapsed": 50,
     "status": "ok",
     "timestamp": 1690551261323,
     "user": {
      "displayName": "DSS DSS",
      "userId": "17636620013329168760"
     },
     "user_tz": -330
    },
    "id": "34f37b93"
   },
   "outputs": [],
   "source": [
    "f1 = open(\"demo.txt\", 'a') # append to the same file\n",
    "f1.write('Appended line at the end of the file')\n",
    "f1.close()"
   ]
  },
  {
   "cell_type": "code",
   "execution_count": 177,
   "id": "a3257179",
   "metadata": {
    "colab": {
     "base_uri": "https://localhost:8080/"
    },
    "executionInfo": {
     "elapsed": 49,
     "status": "ok",
     "timestamp": 1690551261323,
     "user": {
      "displayName": "DSS DSS",
      "userId": "17636620013329168760"
     },
     "user_tz": -330
    },
    "id": "a3257179",
    "outputId": "d2a818f5-fb5c-4cff-f4b3-ec28e5d9966e"
   },
   "outputs": [
    {
     "name": "stdout",
     "output_type": "stream",
     "text": [
      "1. Hello\n",
      " wel\n",
      "2. come to the demo fileHello2\n",
      " welcome again to the demo fileAppended line at the end of the file\n"
     ]
    }
   ],
   "source": [
    "f1 = open(\"demo.txt\", 'r')\n",
    "# f1.write('Hello') # UnsupportedOperation: not writable\n",
    "txt = f1.read(10)\n",
    "print(\"1.\",txt)\n",
    "txt = f1.read()\n",
    "print(\"2.\",txt)\n",
    "f1.close()"
   ]
  },
  {
   "cell_type": "code",
   "execution_count": 178,
   "id": "cfc5908f",
   "metadata": {
    "colab": {
     "base_uri": "https://localhost:8080/"
    },
    "executionInfo": {
     "elapsed": 46,
     "status": "ok",
     "timestamp": 1690551261323,
     "user": {
      "displayName": "DSS DSS",
      "userId": "17636620013329168760"
     },
     "user_tz": -330
    },
    "id": "cfc5908f",
    "outputId": "808eab96-321e-46e0-e521-6b84724c572c"
   },
   "outputs": [
    {
     "name": "stdout",
     "output_type": "stream",
     "text": [
      "Hello\n",
      "  welcome to the demo fileHello2\n",
      "\n"
     ]
    }
   ],
   "source": [
    "f1 = open(\"demo.txt\", 'r')\n",
    "line1 = f1.readline()\n",
    "line2 = f1.readline()\n",
    "print(line1, line2)\n",
    "f1.close()"
   ]
  },
  {
   "cell_type": "code",
   "execution_count": 179,
   "id": "7c092c99",
   "metadata": {
    "colab": {
     "base_uri": "https://localhost:8080/"
    },
    "executionInfo": {
     "elapsed": 45,
     "status": "ok",
     "timestamp": 1690551261323,
     "user": {
      "displayName": "DSS DSS",
      "userId": "17636620013329168760"
     },
     "user_tz": -330
    },
    "id": "7c092c99",
    "outputId": "26653345-162c-41f6-f039-74a6287f265f"
   },
   "outputs": [
    {
     "name": "stdout",
     "output_type": "stream",
     "text": [
      "Hello\n",
      "\n",
      " welcome to the demo fileHello2\n",
      "\n",
      " welcome again to the demo fileAppended line at the end of the file\n"
     ]
    }
   ],
   "source": [
    "f1 = open(\"demo.txt\", 'r')\n",
    "for line in f1:\n",
    "    print(line) # f1.readline()\n",
    "f1.close()"
   ]
  },
  {
   "cell_type": "code",
   "execution_count": 180,
   "id": "af8ef68a",
   "metadata": {
    "colab": {
     "base_uri": "https://localhost:8080/"
    },
    "executionInfo": {
     "elapsed": 42,
     "status": "ok",
     "timestamp": 1690551261323,
     "user": {
      "displayName": "DSS DSS",
      "userId": "17636620013329168760"
     },
     "user_tz": -330
    },
    "id": "af8ef68a",
    "outputId": "8bd3a8a2-bcc1-4877-af90-37e4c7a71a85"
   },
   "outputs": [
    {
     "name": "stdout",
     "output_type": "stream",
     "text": [
      "['Hello\\n', ' welcome to the demo fileHello2\\n', ' welcome again to the demo fileAppended line at the end of the file']\n"
     ]
    }
   ],
   "source": [
    "f1 = open(\"demo.txt\", 'r')\n",
    "lines = f1.readlines()\n",
    "print(lines)"
   ]
  },
  {
   "cell_type": "code",
   "execution_count": 181,
   "id": "4c8ec053",
   "metadata": {
    "executionInfo": {
     "elapsed": 40,
     "status": "ok",
     "timestamp": 1690551261323,
     "user": {
      "displayName": "DSS DSS",
      "userId": "17636620013329168760"
     },
     "user_tz": -330
    },
    "id": "4c8ec053"
   },
   "outputs": [],
   "source": [
    "# f = open(\"D:\\\\myfiles\\welcome.txt\", \"r\")"
   ]
  },
  {
   "cell_type": "code",
   "execution_count": 182,
   "id": "efa56c41",
   "metadata": {
    "executionInfo": {
     "elapsed": 40,
     "status": "ok",
     "timestamp": 1690551261323,
     "user": {
      "displayName": "DSS DSS",
      "userId": "17636620013329168760"
     },
     "user_tz": -330
    },
    "id": "efa56c41"
   },
   "outputs": [],
   "source": [
    "import os\n",
    "# os.remove(\"demo.txt\") # PermissionError: [WinError 32] The process cannot access the file because it is being used by another process: 'demo.txt'"
   ]
  },
  {
   "cell_type": "code",
   "execution_count": 183,
   "id": "58d5e7e0",
   "metadata": {
    "executionInfo": {
     "elapsed": 40,
     "status": "ok",
     "timestamp": 1690551261323,
     "user": {
      "displayName": "DSS DSS",
      "userId": "17636620013329168760"
     },
     "user_tz": -330
    },
    "id": "58d5e7e0"
   },
   "outputs": [],
   "source": [
    "f1.close()\n",
    "os.remove(\"demo.txt\")"
   ]
  },
  {
   "cell_type": "code",
   "execution_count": 184,
   "id": "0cdef0dd",
   "metadata": {
    "executionInfo": {
     "elapsed": 40,
     "status": "ok",
     "timestamp": 1690551261323,
     "user": {
      "displayName": "DSS DSS",
      "userId": "17636620013329168760"
     },
     "user_tz": -330
    },
    "id": "0cdef0dd"
   },
   "outputs": [],
   "source": [
    "# os.remove(\"demo.txt\") # FileNotFoundError: [WinError 2] The system cannot find the file specified: 'demo.txt'"
   ]
  },
  {
   "cell_type": "code",
   "execution_count": 185,
   "id": "9b023b44",
   "metadata": {
    "executionInfo": {
     "elapsed": 40,
     "status": "ok",
     "timestamp": 1690551261323,
     "user": {
      "displayName": "DSS DSS",
      "userId": "17636620013329168760"
     },
     "user_tz": -330
    },
    "id": "9b023b44"
   },
   "outputs": [],
   "source": [
    "# f1 = open(\"demo.txt\", 'r') # FileNotFoundError: [Errno 2] No such file or directory: 'demo.txt'"
   ]
  },
  {
   "cell_type": "code",
   "execution_count": 186,
   "id": "90738f4c",
   "metadata": {
    "colab": {
     "base_uri": "https://localhost:8080/"
    },
    "executionInfo": {
     "elapsed": 40,
     "status": "ok",
     "timestamp": 1690551261324,
     "user": {
      "displayName": "DSS DSS",
      "userId": "17636620013329168760"
     },
     "user_tz": -330
    },
    "id": "90738f4c",
    "outputId": "1328f655-260f-4e67-a8fd-9797b980db8a"
   },
   "outputs": [
    {
     "name": "stdout",
     "output_type": "stream",
     "text": [
      "The file does not exist\n"
     ]
    }
   ],
   "source": [
    "if os.path.exists(\"demofile.txt\"):\n",
    "    os.remove(\"demofile.txt\")\n",
    "else:\n",
    "    print(\"The file does not exist\")"
   ]
  },
  {
   "cell_type": "code",
   "execution_count": 187,
   "id": "b09fe306",
   "metadata": {
    "executionInfo": {
     "elapsed": 38,
     "status": "ok",
     "timestamp": 1690551261324,
     "user": {
      "displayName": "DSS DSS",
      "userId": "17636620013329168760"
     },
     "user_tz": -330
    },
    "id": "b09fe306"
   },
   "outputs": [],
   "source": [
    "# os.rmdir(\"myfolder\") # removes if this is existing empty directory"
   ]
  },
  {
   "cell_type": "markdown",
   "id": "c827b1bb",
   "metadata": {
    "id": "c827b1bb"
   },
   "source": [
    "## Generators"
   ]
  },
  {
   "cell_type": "code",
   "execution_count": 188,
   "id": "0da1ef83",
   "metadata": {
    "colab": {
     "base_uri": "https://localhost:8080/"
    },
    "executionInfo": {
     "elapsed": 38,
     "status": "ok",
     "timestamp": 1690551261324,
     "user": {
      "displayName": "DSS DSS",
      "userId": "17636620013329168760"
     },
     "user_tz": -330
    },
    "id": "0da1ef83",
    "outputId": "995bbb18-0605-4725-a505-e5d06f0a1b9b"
   },
   "outputs": [
    {
     "name": "stdout",
     "output_type": "stream",
     "text": [
      "1\n",
      "2\n",
      "3\n"
     ]
    }
   ],
   "source": [
    "def simpleGeneratorFun():\n",
    "    yield 1\n",
    "    yield 2\n",
    "    yield 3\n",
    "\n",
    "for value in simpleGeneratorFun():\n",
    "    print(value)"
   ]
  },
  {
   "cell_type": "code",
   "execution_count": 189,
   "id": "fdddf2e1",
   "metadata": {
    "colab": {
     "base_uri": "https://localhost:8080/"
    },
    "executionInfo": {
     "elapsed": 35,
     "status": "ok",
     "timestamp": 1690551261324,
     "user": {
      "displayName": "DSS DSS",
      "userId": "17636620013329168760"
     },
     "user_tz": -330
    },
    "id": "fdddf2e1",
    "outputId": "6b6248cf-37c1-438a-f8bf-32017b217ccb"
   },
   "outputs": [
    {
     "name": "stdout",
     "output_type": "stream",
     "text": [
      "<generator object simpleGeneratorFun at 0x7bcc80326f80>\n",
      "1\n",
      "2\n",
      "3\n"
     ]
    }
   ],
   "source": [
    "def simpleGeneratorFun():\n",
    "    yield 1\n",
    "    yield 2\n",
    "    yield 3\n",
    "\n",
    "x = simpleGeneratorFun() # x is generator object\n",
    "print(x) # <generator object simpleGeneratorFun at 0x000001F74BB36C80>\n",
    "\n",
    "# Iterating over the generator object using next\n",
    "print(next(x))\n",
    "print(next(x))\n",
    "print(next(x))\n",
    "# print(next(x)) # StopIteration:"
   ]
  },
  {
   "cell_type": "code",
   "execution_count": 190,
   "id": "36007315",
   "metadata": {
    "colab": {
     "base_uri": "https://localhost:8080/"
    },
    "executionInfo": {
     "elapsed": 33,
     "status": "ok",
     "timestamp": 1690551261324,
     "user": {
      "displayName": "DSS DSS",
      "userId": "17636620013329168760"
     },
     "user_tz": -330
    },
    "id": "36007315",
    "outputId": "03666a43-4015-4413-dbe6-2843b74f5127"
   },
   "outputs": [
    {
     "name": "stdout",
     "output_type": "stream",
     "text": [
      "First result is  1\n",
      "Second result is  2\n",
      "Third result is  3\n",
      "1 2 3\n"
     ]
    }
   ],
   "source": [
    "def generator():\n",
    "    t = 1\n",
    "    print ('First result is ',t)\n",
    "    yield t\n",
    "\n",
    "    t += 1\n",
    "    print ('Second result is ',t)\n",
    "    yield t\n",
    "\n",
    "    t += 1\n",
    "    print('Third result is ',t)\n",
    "    yield t\n",
    "\n",
    "x = generator() # x is generator object\n",
    "print(next(x), next(x), next(x))"
   ]
  },
  {
   "cell_type": "markdown",
   "id": "8de79c60",
   "metadata": {
    "id": "8de79c60"
   },
   "source": [
    "### generator comprehension"
   ]
  },
  {
   "cell_type": "code",
   "execution_count": 191,
   "id": "0492ec15",
   "metadata": {
    "colab": {
     "base_uri": "https://localhost:8080/"
    },
    "executionInfo": {
     "elapsed": 31,
     "status": "ok",
     "timestamp": 1690551261324,
     "user": {
      "displayName": "DSS DSS",
      "userId": "17636620013329168760"
     },
     "user_tz": -330
    },
    "id": "0492ec15",
    "outputId": "ba070268-848c-4ca7-db18-4077816a28b5"
   },
   "outputs": [
    {
     "name": "stdout",
     "output_type": "stream",
     "text": [
      "0 1 [2, 3, 4] ()\n"
     ]
    }
   ],
   "source": [
    "g1 = (i for i in range(5))\n",
    "g2 = (i for i in range(10) if i%2==0)\n",
    "g3 = (i for i in range(10) if i%2==0 if i<5)\n",
    "g4 = ('even' if i%2==0 else \"odd\" for i in range(5))\n",
    "\n",
    "print(next(g1), next(g1), list(g1), tuple(g1))"
   ]
  },
  {
   "cell_type": "code",
   "execution_count": 192,
   "id": "c17ae282",
   "metadata": {
    "colab": {
     "base_uri": "https://localhost:8080/"
    },
    "executionInfo": {
     "elapsed": 29,
     "status": "ok",
     "timestamp": 1690551261324,
     "user": {
      "displayName": "DSS DSS",
      "userId": "17636620013329168760"
     },
     "user_tz": -330
    },
    "id": "c17ae282",
    "outputId": "18934f78-f415-4299-fd8e-4c8f60cccd68"
   },
   "outputs": [
    {
     "name": "stdout",
     "output_type": "stream",
     "text": [
      "15 ()\n"
     ]
    }
   ],
   "source": [
    "# consuming generator\n",
    "gen = (i for i in range(1,6))\n",
    "\n",
    "print(sum(gen), # 1+2+3+4+5\n",
    "      tuple(gen))"
   ]
  },
  {
   "cell_type": "code",
   "execution_count": 193,
   "id": "8aee22b6",
   "metadata": {
    "colab": {
     "base_uri": "https://localhost:8080/"
    },
    "executionInfo": {
     "elapsed": 27,
     "status": "ok",
     "timestamp": 1690551261324,
     "user": {
      "displayName": "DSS DSS",
      "userId": "17636620013329168760"
     },
     "user_tz": -330
    },
    "id": "8aee22b6",
    "outputId": "43cfb4bd-b7e1-4964-b575-e8f8b39c154f"
   },
   "outputs": [
    {
     "name": "stdout",
     "output_type": "stream",
     "text": [
      "True\n",
      "False\n",
      "False\n",
      "<generator object <genexpr> at 0x7bcc80327a70> ()\n"
     ]
    }
   ],
   "source": [
    "# membership in generator\n",
    "gen = (i for i in range(1, 11)) # 1,2,3,4,5,6,7,8,9,10\n",
    "print(5 in gen) # first 5 elements are consumed\n",
    "print(5 in gen) # rest gen is consumed\n",
    "print(9 in gen) # empty gen\n",
    "print(gen, tuple(gen))"
   ]
  },
  {
   "cell_type": "code",
   "execution_count": 194,
   "id": "9bc089a1",
   "metadata": {
    "colab": {
     "base_uri": "https://localhost:8080/"
    },
    "executionInfo": {
     "elapsed": 25,
     "status": "ok",
     "timestamp": 1690551261324,
     "user": {
      "displayName": "DSS DSS",
      "userId": "17636620013329168760"
     },
     "user_tz": -330
    },
    "id": "9bc089a1",
    "outputId": "785125cf-79c7-4d07-c696-9fd3cb613237"
   },
   "outputs": [
    {
     "name": "stdout",
     "output_type": "stream",
     "text": [
      "[25, 16, 9, 4, 1, 0, 1, 4, 9, 16, 25]\n"
     ]
    }
   ],
   "source": [
    "# chaining comprehension\n",
    "\n",
    "print([i**2 for i in [-5,-4,-3,-2, -1, 0, 1, 2,3,4,5]])"
   ]
  },
  {
   "cell_type": "code",
   "execution_count": 195,
   "id": "a82873fa",
   "metadata": {
    "colab": {
     "base_uri": "https://localhost:8080/"
    },
    "executionInfo": {
     "elapsed": 25,
     "status": "ok",
     "timestamp": 1690551261325,
     "user": {
      "displayName": "DSS DSS",
      "userId": "17636620013329168760"
     },
     "user_tz": -330
    },
    "id": "a82873fa",
    "outputId": "54b3e344-0002-466d-b79b-df65eb8a6223"
   },
   "outputs": [
    {
     "name": "stdout",
     "output_type": "stream",
     "text": [
      "10 ()\n"
     ]
    }
   ],
   "source": [
    "gen_1 = (i**2 for i in [-5,-4,-3,-2, -1, 0, 1, 2,3,4,5])\n",
    "\n",
    "# iterates through gen_1, excluding any numbers > 5\n",
    "gen_2 = (j for j in gen_1 if 0 < j <= 5) # 4,1,0,1,4\n",
    "\n",
    "# computing 4+1+0+1+4\n",
    "print(sum(gen_2), tuple(gen))"
   ]
  },
  {
   "cell_type": "markdown",
   "id": "4f68d934",
   "metadata": {
    "id": "4f68d934"
   },
   "source": [
    "## Iterator vs Iterable"
   ]
  },
  {
   "cell_type": "code",
   "execution_count": 196,
   "id": "7b1bc793",
   "metadata": {
    "executionInfo": {
     "elapsed": 23,
     "status": "ok",
     "timestamp": 1690551261325,
     "user": {
      "displayName": "DSS DSS",
      "userId": "17636620013329168760"
     },
     "user_tz": -330
    },
    "id": "7b1bc793"
   },
   "outputs": [],
   "source": [
    "# iterator : object reference: map, filter, range\n",
    "#     next() : one by one and only 1 iteration\n",
    "#     next()\n",
    "\n",
    "# iterable: collection: list, tuple, set\n",
    "#     print whole collection: possible\n",
    "#     iter(iterable)\n",
    "#       next()\n",
    "#       next()\n",
    "\n",
    "# for x in iterator/iterable:\n",
    "#     pass\n",
    "\n",
    "# x => next(iterator)"
   ]
  },
  {
   "cell_type": "code",
   "execution_count": 197,
   "id": "460f8a00",
   "metadata": {
    "colab": {
     "base_uri": "https://localhost:8080/"
    },
    "executionInfo": {
     "elapsed": 23,
     "status": "ok",
     "timestamp": 1690551261325,
     "user": {
      "displayName": "DSS DSS",
      "userId": "17636620013329168760"
     },
     "user_tz": -330
    },
    "id": "460f8a00",
    "outputId": "5dd3f11e-34b2-47d8-c7a8-2fbe2d1e810d"
   },
   "outputs": [
    {
     "name": "stdout",
     "output_type": "stream",
     "text": [
      "apple\n",
      "banana\n",
      "cherry\n"
     ]
    }
   ],
   "source": [
    "mytuple = (\"apple\", \"banana\", \"cherry\")\n",
    "for x in mytuple:\n",
    "    print(x)\n",
    "\n",
    "\n",
    "# working of for loop\n",
    "\n",
    "# a = iter(mytuple)\n",
    "# print(next(a))\n",
    "# print(next(a))\n",
    "# until stopiteration"
   ]
  },
  {
   "cell_type": "code",
   "execution_count": 198,
   "id": "13baa151",
   "metadata": {
    "colab": {
     "base_uri": "https://localhost:8080/"
    },
    "executionInfo": {
     "elapsed": 21,
     "status": "ok",
     "timestamp": 1690551261325,
     "user": {
      "displayName": "DSS DSS",
      "userId": "17636620013329168760"
     },
     "user_tz": -330
    },
    "id": "13baa151",
    "outputId": "e717ee15-3d71-4e0b-c474-51a234ff5748"
   },
   "outputs": [
    {
     "name": "stdout",
     "output_type": "stream",
     "text": [
      "1 2 3 4 5 6 "
     ]
    }
   ],
   "source": [
    "# create an iterator\n",
    "class MyNumbers:\n",
    "    def __iter__(self):\n",
    "        self.a = 1\n",
    "        return self\n",
    "\n",
    "    def __next__(self):\n",
    "        x = self.a\n",
    "        self.a += 1\n",
    "        return x\n",
    "\n",
    "myclass = MyNumbers() # myclass is iterator as it implements __iter__() and __next__() methods\n",
    "myiter = iter(myclass)\n",
    "\n",
    "for a in range(6):\n",
    "    print(next(myiter),end=' ')"
   ]
  },
  {
   "cell_type": "code",
   "execution_count": 199,
   "id": "073fd908",
   "metadata": {
    "colab": {
     "base_uri": "https://localhost:8080/"
    },
    "executionInfo": {
     "elapsed": 19,
     "status": "ok",
     "timestamp": 1690551261325,
     "user": {
      "displayName": "DSS DSS",
      "userId": "17636620013329168760"
     },
     "user_tz": -330
    },
    "id": "073fd908",
    "outputId": "6690f256-3e28-4a7c-e226-3bfc10f4d9fc"
   },
   "outputs": [
    {
     "name": "stdout",
     "output_type": "stream",
     "text": [
      "0\n",
      "3\n",
      "6\n",
      "9\n"
     ]
    }
   ],
   "source": [
    "class MyRange:\n",
    "    def __init__(self,start,stop,step):\n",
    "        self.start = start\n",
    "        self.stop = stop\n",
    "        self.step = step\n",
    "\n",
    "    def __iter__(self):\n",
    "        self.a = self.start\n",
    "        return self\n",
    "\n",
    "    def __next__(self):\n",
    "        if self.a <= self.stop:\n",
    "            x = self.a\n",
    "            self.a += self.step\n",
    "            return x\n",
    "        else:\n",
    "            raise StopIteration # add a terminating condition to raise an error if the iteration is done a specified number of times : imp while using loop on iterator\n",
    "\n",
    "myclass = MyRange(0,10,3)\n",
    "myrange = iter(myclass)\n",
    "\n",
    "for x in myrange:\n",
    "    print(x)"
   ]
  },
  {
   "cell_type": "markdown",
   "id": "10706ce1",
   "metadata": {
    "id": "10706ce1"
   },
   "source": [
    "## Decorators"
   ]
  },
  {
   "cell_type": "markdown",
   "id": "69758f14",
   "metadata": {
    "id": "69758f14"
   },
   "source": [
    "- takes function as parameter\n",
    "- returns function\n",
    "- Decorators allow us to wrap another function in order to extend the behaviour of the wrapped function, without permanently modifying it."
   ]
  },
  {
   "cell_type": "markdown",
   "id": "25703c05",
   "metadata": {
    "id": "25703c05"
   },
   "source": [
    "#### without decorator"
   ]
  },
  {
   "cell_type": "code",
   "execution_count": 200,
   "id": "324f4eb0",
   "metadata": {
    "colab": {
     "base_uri": "https://localhost:8080/"
    },
    "executionInfo": {
     "elapsed": 17,
     "status": "ok",
     "timestamp": 1690551261325,
     "user": {
      "displayName": "DSS DSS",
      "userId": "17636620013329168760"
     },
     "user_tz": -330
    },
    "id": "324f4eb0",
    "outputId": "c701c026-25d3-47f2-f2dd-d2e4e509a55d"
   },
   "outputs": [
    {
     "name": "stdout",
     "output_type": "stream",
     "text": [
      "Welcome to DATA SCIENCE STACK\n",
      "Welcome to data science stack\n"
     ]
    }
   ],
   "source": [
    "# without decorator\n",
    "def decorate_message(arg):\n",
    "\n",
    "    def addWelcome():\n",
    "        return \"Welcome to \" + arg\n",
    "\n",
    "    return addWelcome()\n",
    "\n",
    "def message1(txt):\n",
    "    return txt.upper();\n",
    "\n",
    "def message2(txt):\n",
    "    return txt.lower();\n",
    "\n",
    "x = decorate_message(message1(\"Data Science Stack\"))\n",
    "print(x)\n",
    "y = decorate_message(message2(\"Data Science Stack\"))\n",
    "print(y)"
   ]
  },
  {
   "cell_type": "markdown",
   "id": "088996c5",
   "metadata": {
    "id": "088996c5"
   },
   "source": [
    "#### with decorator"
   ]
  },
  {
   "cell_type": "code",
   "execution_count": 201,
   "id": "8797205b",
   "metadata": {
    "executionInfo": {
     "elapsed": 16,
     "status": "ok",
     "timestamp": 1690551261325,
     "user": {
      "displayName": "DSS DSS",
      "userId": "17636620013329168760"
     },
     "user_tz": -330
    },
    "id": "8797205b"
   },
   "outputs": [],
   "source": [
    "def decorate_message(fun): # takes function as parameter:\n",
    "\n",
    "    print('fun:',fun)\n",
    "\n",
    "    def addWelcome(name):\n",
    "        print('name:', name)\n",
    "        return \"Welcome to \" + fun(name)\n",
    "\n",
    "    return addWelcome # returns a function: addWelcome()"
   ]
  },
  {
   "cell_type": "code",
   "execution_count": 202,
   "id": "65142d3c",
   "metadata": {
    "colab": {
     "base_uri": "https://localhost:8080/"
    },
    "executionInfo": {
     "elapsed": 16,
     "status": "ok",
     "timestamp": 1690551261326,
     "user": {
      "displayName": "DSS DSS",
      "userId": "17636620013329168760"
     },
     "user_tz": -330
    },
    "id": "65142d3c",
    "outputId": "dc7e0b23-d6e2-47ef-c845-eef1c7d7b6ad"
   },
   "outputs": [
    {
     "name": "stdout",
     "output_type": "stream",
     "text": [
      "fun: <function message1 at 0x7bcc803ba320>\n"
     ]
    }
   ],
   "source": [
    "@decorate_message\n",
    "def message1(txt):\n",
    "    print('message1 txt:',txt)\n",
    "    return txt.upper();"
   ]
  },
  {
   "cell_type": "code",
   "execution_count": 203,
   "id": "769ba5a5",
   "metadata": {
    "colab": {
     "base_uri": "https://localhost:8080/"
    },
    "executionInfo": {
     "elapsed": 14,
     "status": "ok",
     "timestamp": 1690551261326,
     "user": {
      "displayName": "DSS DSS",
      "userId": "17636620013329168760"
     },
     "user_tz": -330
    },
    "id": "769ba5a5",
    "outputId": "15f47609-8f5f-46c5-d818-03341976094f"
   },
   "outputs": [
    {
     "name": "stdout",
     "output_type": "stream",
     "text": [
      "fun: <function message2 at 0x7bcc803ba830>\n"
     ]
    }
   ],
   "source": [
    "@decorate_message\n",
    "def message2(txt):\n",
    "    print('message2 txt:',txt)\n",
    "    return txt.lower();"
   ]
  },
  {
   "cell_type": "code",
   "execution_count": 204,
   "id": "b436e2ab",
   "metadata": {
    "colab": {
     "base_uri": "https://localhost:8080/"
    },
    "executionInfo": {
     "elapsed": 12,
     "status": "ok",
     "timestamp": 1690551261326,
     "user": {
      "displayName": "DSS DSS",
      "userId": "17636620013329168760"
     },
     "user_tz": -330
    },
    "id": "b436e2ab",
    "outputId": "48223aa0-775a-42a7-b635-6b69c04c25fa"
   },
   "outputs": [
    {
     "name": "stdout",
     "output_type": "stream",
     "text": [
      "name: Data Science Stack\n",
      "message1 txt: Data Science Stack\n",
      "Welcome to DATA SCIENCE STACK\n"
     ]
    }
   ],
   "source": [
    "x = message1(\"Data Science Stack\")\n",
    "print(x)"
   ]
  },
  {
   "cell_type": "code",
   "execution_count": 205,
   "id": "1a285dc0",
   "metadata": {
    "colab": {
     "base_uri": "https://localhost:8080/"
    },
    "executionInfo": {
     "elapsed": 10,
     "status": "ok",
     "timestamp": 1690551261326,
     "user": {
      "displayName": "DSS DSS",
      "userId": "17636620013329168760"
     },
     "user_tz": -330
    },
    "id": "1a285dc0",
    "outputId": "c4b353d0-141e-46cd-e1d5-1e1a17e70b44"
   },
   "outputs": [
    {
     "name": "stdout",
     "output_type": "stream",
     "text": [
      "name: Data Science Stack\n",
      "message2 txt: Data Science Stack\n",
      "Welcome to data science stack\n"
     ]
    }
   ],
   "source": [
    "y = message2(\"Data Science Stack\")\n",
    "print(y)"
   ]
  },
  {
   "cell_type": "markdown",
   "id": "816a51ae",
   "metadata": {
    "id": "816a51ae"
   },
   "source": [
    "#### decorator usage"
   ]
  },
  {
   "cell_type": "code",
   "execution_count": 206,
   "id": "b8cf5593",
   "metadata": {
    "colab": {
     "base_uri": "https://localhost:8080/"
    },
    "executionInfo": {
     "elapsed": 3776,
     "status": "ok",
     "timestamp": 1690551265093,
     "user": {
      "displayName": "DSS DSS",
      "userId": "17636620013329168760"
     },
     "user_tz": -330
    },
    "id": "b8cf5593",
    "outputId": "11ccb68a-89bb-46c8-b451-26403acecddb"
   },
   "outputs": [
    {
     "name": "stdout",
     "output_type": "stream",
     "text": [
      "<function factorial_of_number at 0x7bcc803badd0>\n",
      "<function square at 0x7bcc803ba290>\n",
      "120\n",
      "Total time taken in :  factorial_of_number function is: 0.0014624595642089844\n",
      "Square 25\n",
      "Total time taken in :  square function is: 0.003110647201538086\n"
     ]
    }
   ],
   "source": [
    "# importing libraries\n",
    "import time\n",
    "import math\n",
    "\n",
    "# decorator to calculate duration taken by any function.\n",
    "def calculate_time(func):\n",
    "\n",
    "    print(func)\n",
    "\n",
    "    # added arguments inside the inner1,\n",
    "    # if function takes any arguments,\n",
    "    # can be added like this.\n",
    "    def inner1(*args, **kwargs):\n",
    "\n",
    "        # storing time before function execution\n",
    "        begin = time.time()\n",
    "\n",
    "        func(*args, **kwargs)\n",
    "\n",
    "        # storing time after function execution\n",
    "        end = time.time()\n",
    "        print(\"Total time taken in : \", func.__name__,'function is:', end - begin - 2)\n",
    "\n",
    "    return inner1\n",
    "\n",
    "\n",
    "\n",
    "# this can be added to any function present, in this case to calculate a factorial\n",
    "@calculate_time\n",
    "def factorial_of_number(num):\n",
    "\n",
    "    # sleep 2 seconds because it takes very less time\n",
    "    # so that you can see the actual difference\n",
    "    time.sleep(2)\n",
    "    print(math.factorial(num))\n",
    "\n",
    "@calculate_time\n",
    "def square(num):\n",
    "    time.sleep(2)\n",
    "    print(\"Square\", num*num)\n",
    "\n",
    "# calling the function.\n",
    "factorial_of_number(5) # 1*2*3*4*5 : 0.0003 sec\n",
    "square(5) # 5*5 : 0.0078 sec"
   ]
  },
  {
   "cell_type": "markdown",
   "id": "4a1788d5",
   "metadata": {
    "id": "4a1788d5"
   },
   "source": [
    "#### chaining decorators"
   ]
  },
  {
   "cell_type": "code",
   "execution_count": 207,
   "id": "355320ba",
   "metadata": {
    "colab": {
     "base_uri": "https://localhost:8080/"
    },
    "executionInfo": {
     "elapsed": 46,
     "status": "ok",
     "timestamp": 1690551265093,
     "user": {
      "displayName": "DSS DSS",
      "userId": "17636620013329168760"
     },
     "user_tz": -330
    },
    "id": "355320ba",
    "outputId": "f5f51cbc-a9ed-46fd-9b73-04b90e49c985"
   },
   "outputs": [
    {
     "name": "stdout",
     "output_type": "stream",
     "text": [
      "decor func <function num at 0x7bcc803bb2e0>\n",
      "decor1 func <function decor.<locals>.inner at 0x7bcc803bba30>\n",
      "decor1 func <function num2 at 0x7bcc803bbd90>\n",
      "decor func <function decor1.<locals>.inner at 0x7bcc80f180d0>\n",
      "decor x : 5\n",
      "decor1 x : 10\n",
      "40\n",
      "decor1 x : 3\n",
      "decor x : 12\n",
      "24\n"
     ]
    }
   ],
   "source": [
    "def decor1(func):\n",
    "    print('decor1 func',func)\n",
    "    def inner():\n",
    "        x = func()\n",
    "        print('decor1 x :',x)\n",
    "        return 4 * x\n",
    "    return inner\n",
    "\n",
    "def decor(func):\n",
    "    print('decor func',func)\n",
    "    def inner():\n",
    "        x = func()\n",
    "        print('decor x :',x)\n",
    "        return 2 * x\n",
    "    return inner\n",
    "\n",
    "@decor1 # 2\n",
    "@decor # 1\n",
    "def num():\n",
    "    return 5\n",
    "\n",
    "@decor # 2\n",
    "@decor1 # 1\n",
    "def num2():\n",
    "    return 3\n",
    "\n",
    "print(num())\n",
    "print(num2())"
   ]
  },
  {
   "cell_type": "markdown",
   "id": "883c9a21",
   "metadata": {
    "id": "883c9a21"
   },
   "source": [
    "## Object Oriented Programming Concepts"
   ]
  },
  {
   "cell_type": "markdown",
   "id": "f7687198",
   "metadata": {
    "id": "f7687198"
   },
   "source": [
    "### Class and Object"
   ]
  },
  {
   "cell_type": "code",
   "execution_count": 208,
   "id": "030cab0d",
   "metadata": {
    "colab": {
     "base_uri": "https://localhost:8080/"
    },
    "executionInfo": {
     "elapsed": 42,
     "status": "ok",
     "timestamp": 1690551265093,
     "user": {
      "displayName": "DSS DSS",
      "userId": "17636620013329168760"
     },
     "user_tz": -330
    },
    "id": "030cab0d",
    "outputId": "da4a7904-e7be-4782-e3ee-814b3e5da6e0"
   },
   "outputs": [
    {
     "name": "stdout",
     "output_type": "stream",
     "text": [
      "<class '__main__.Car'>\n",
      "<__main__.Car object at 0x7bcc803d1330> <__main__.Car object at 0x7bcc803d1180>\n",
      "White Black\n"
     ]
    }
   ],
   "source": [
    "class Car:\n",
    "    color = 'White'\n",
    "\n",
    "c1 = Car()\n",
    "c2 = Car()\n",
    "print(Car)\n",
    "print(c1, c2)\n",
    "c2.color = \"Black\"\n",
    "print(c1.color, c2.color)"
   ]
  },
  {
   "cell_type": "markdown",
   "id": "1071aabb",
   "metadata": {
    "id": "1071aabb"
   },
   "source": [
    "### Constructor"
   ]
  },
  {
   "cell_type": "code",
   "execution_count": 209,
   "id": "439226c2",
   "metadata": {
    "executionInfo": {
     "elapsed": 39,
     "status": "ok",
     "timestamp": 1690551265093,
     "user": {
      "displayName": "DSS DSS",
      "userId": "17636620013329168760"
     },
     "user_tz": -330
    },
    "id": "439226c2"
   },
   "outputs": [],
   "source": [
    "class Person:\n",
    "    name = 'tony'\n",
    "    age = 23"
   ]
  },
  {
   "cell_type": "code",
   "execution_count": 210,
   "id": "4739f65d",
   "metadata": {
    "colab": {
     "base_uri": "https://localhost:8080/"
    },
    "executionInfo": {
     "elapsed": 39,
     "status": "ok",
     "timestamp": 1690551265094,
     "user": {
      "displayName": "DSS DSS",
      "userId": "17636620013329168760"
     },
     "user_tz": -330
    },
    "id": "4739f65d",
    "outputId": "f2cb896f-edc0-42a9-ef1e-aab319b8244b"
   },
   "outputs": [
    {
     "name": "stdout",
     "output_type": "stream",
     "text": [
      "tony 23\n",
      "john 25\n"
     ]
    }
   ],
   "source": [
    "p1 = Person() # object creation using default constructor\n",
    "print(p1.name, p1.age) # default values\n",
    "\n",
    "p2 = Person()\n",
    "p2.name = 'john' # changing the default values\n",
    "p2.age = 25\n",
    "print(p2.name, p2.age)"
   ]
  },
  {
   "cell_type": "code",
   "execution_count": 211,
   "id": "0a7fd7a1",
   "metadata": {
    "executionInfo": {
     "elapsed": 37,
     "status": "ok",
     "timestamp": 1690551265094,
     "user": {
      "displayName": "DSS DSS",
      "userId": "17636620013329168760"
     },
     "user_tz": -330
    },
    "id": "0a7fd7a1"
   },
   "outputs": [],
   "source": [
    "class Person:\n",
    "    name = 'tony'\n",
    "\n",
    "    def __init__(self): # default constructor\n",
    "        print(\"default constructor\")"
   ]
  },
  {
   "cell_type": "code",
   "execution_count": 212,
   "id": "b5b937d0",
   "metadata": {
    "colab": {
     "base_uri": "https://localhost:8080/"
    },
    "executionInfo": {
     "elapsed": 37,
     "status": "ok",
     "timestamp": 1690551265094,
     "user": {
      "displayName": "DSS DSS",
      "userId": "17636620013329168760"
     },
     "user_tz": -330
    },
    "id": "b5b937d0",
    "outputId": "d56a9d8e-8a9e-4d0b-c58b-012e5da89bec"
   },
   "outputs": [
    {
     "name": "stdout",
     "output_type": "stream",
     "text": [
      "default constructor\n",
      "tony\n"
     ]
    }
   ],
   "source": [
    "p1 = Person() # object creation using default constructor\n",
    "print(p1.name)"
   ]
  },
  {
   "cell_type": "code",
   "execution_count": 213,
   "id": "c748a237",
   "metadata": {
    "executionInfo": {
     "elapsed": 35,
     "status": "ok",
     "timestamp": 1690551265094,
     "user": {
      "displayName": "DSS DSS",
      "userId": "17636620013329168760"
     },
     "user_tz": -330
    },
    "id": "c748a237"
   },
   "outputs": [],
   "source": [
    "class Person:\n",
    "    name = 'tony'\n",
    "\n",
    "    def __init__(self,name): # parameterized constructor\n",
    "        self.name = name"
   ]
  },
  {
   "cell_type": "code",
   "execution_count": 214,
   "id": "4573bd85",
   "metadata": {
    "colab": {
     "base_uri": "https://localhost:8080/"
    },
    "executionInfo": {
     "elapsed": 35,
     "status": "ok",
     "timestamp": 1690551265094,
     "user": {
      "displayName": "DSS DSS",
      "userId": "17636620013329168760"
     },
     "user_tz": -330
    },
    "id": "4573bd85",
    "outputId": "aeb72437-8d3d-4320-d6e3-b1af31dee279"
   },
   "outputs": [
    {
     "name": "stdout",
     "output_type": "stream",
     "text": [
      "john\n"
     ]
    }
   ],
   "source": [
    "p1 = Person('john') # object creation using parameterized constructor\n",
    "print(p1.name)"
   ]
  },
  {
   "cell_type": "code",
   "execution_count": 215,
   "id": "f202e586",
   "metadata": {
    "executionInfo": {
     "elapsed": 34,
     "status": "ok",
     "timestamp": 1690551265094,
     "user": {
      "displayName": "DSS DSS",
      "userId": "17636620013329168760"
     },
     "user_tz": -330
    },
    "id": "f202e586"
   },
   "outputs": [],
   "source": [
    "class Person:\n",
    "    name = 'tony'\n",
    "\n",
    "    def __init__(self): # constructor1\n",
    "        print(\"default constructor\")\n",
    "\n",
    "    def __init__(abc,name,a): # constructor overridding\n",
    "        abc.name = name\n",
    "        abc.age = a"
   ]
  },
  {
   "cell_type": "code",
   "execution_count": 216,
   "id": "fc2d8b4a",
   "metadata": {
    "colab": {
     "base_uri": "https://localhost:8080/"
    },
    "executionInfo": {
     "elapsed": 33,
     "status": "ok",
     "timestamp": 1690551265094,
     "user": {
      "displayName": "DSS DSS",
      "userId": "17636620013329168760"
     },
     "user_tz": -330
    },
    "id": "fc2d8b4a",
    "outputId": "4ed955b8-667d-4428-8fa0-b1642d242c55"
   },
   "outputs": [
    {
     "name": "stdout",
     "output_type": "stream",
     "text": [
      "John 24\n"
     ]
    }
   ],
   "source": [
    "# p1 = Person() # TypeError: __init__() missing 1 required positional argument: 'name'\n",
    "p2 = Person('John', 24)\n",
    "print(p2.name, p2.age)"
   ]
  },
  {
   "cell_type": "code",
   "execution_count": 217,
   "id": "5896e925",
   "metadata": {
    "executionInfo": {
     "elapsed": 32,
     "status": "ok",
     "timestamp": 1690551265094,
     "user": {
      "displayName": "DSS DSS",
      "userId": "17636620013329168760"
     },
     "user_tz": -330
    },
    "id": "5896e925"
   },
   "outputs": [],
   "source": [
    "class Person:\n",
    "    def __init__(self): # default constructor\n",
    "        print('default constructor')\n",
    "\n",
    "    def __init__(self, n, age): # overidden - parameterized constructor overrides existing default constructor\n",
    "        print('parameterized constructor')\n",
    "        self.name = n\n",
    "        self.age = age\n",
    "\n",
    "    def getAge(self): # method\n",
    "        print(\"get age method\")\n",
    "        print(self.age)\n",
    "\n",
    "    def Person(self): # avoid, not recommended\n",
    "        print('Person method')\n",
    "        print(self.name)"
   ]
  },
  {
   "cell_type": "code",
   "execution_count": 218,
   "id": "6ed7abd1",
   "metadata": {
    "colab": {
     "base_uri": "https://localhost:8080/"
    },
    "executionInfo": {
     "elapsed": 32,
     "status": "ok",
     "timestamp": 1690551265094,
     "user": {
      "displayName": "DSS DSS",
      "userId": "17636620013329168760"
     },
     "user_tz": -330
    },
    "id": "6ed7abd1",
    "outputId": "fe9878e6-38ef-425a-da59-bc8955e17d2a"
   },
   "outputs": [
    {
     "name": "stdout",
     "output_type": "stream",
     "text": [
      "parameterized constructor\n",
      "parameterized constructor\n",
      "get age method\n",
      "36\n",
      "get age method\n",
      "25\n",
      "Person method\n",
      "John\n",
      "Person method\n",
      "Tony\n"
     ]
    }
   ],
   "source": [
    "p1 = Person(\"John\", 36) #  object creation using parameterized constructor\n",
    "p2 = Person(\"Tony\",25)\n",
    "\n",
    "p1.getAge()\n",
    "p2.getAge()\n",
    "\n",
    "p1.Person()\n",
    "p2.Person()\n",
    "\n",
    "# p3 = Person() # TypeError: __init__() missing 2 required positional arguments: 'n' and 'age'"
   ]
  },
  {
   "cell_type": "code",
   "execution_count": 219,
   "id": "e379e8e2",
   "metadata": {
    "executionInfo": {
     "elapsed": 31,
     "status": "ok",
     "timestamp": 1690551265095,
     "user": {
      "displayName": "DSS DSS",
      "userId": "17636620013329168760"
     },
     "user_tz": -330
    },
    "id": "e379e8e2"
   },
   "outputs": [],
   "source": [
    "class Person:\n",
    "\n",
    "    def __init__(self, n, age): # parameterized constructor overrides existing default constructor\n",
    "        print('parameterized constructor')\n",
    "        self.name = n\n",
    "        self.age = age\n",
    "\n",
    "    def __init__(self): # overidden - default constructor\n",
    "        print('default constructor')\n",
    "\n",
    "    def get(self): # method\n",
    "        print(\"get method\")\n",
    "\n",
    "    def Person(self): # avoid, not recommended\n",
    "        print('Person method')"
   ]
  },
  {
   "cell_type": "code",
   "execution_count": 220,
   "id": "47a4fccc",
   "metadata": {
    "colab": {
     "base_uri": "https://localhost:8080/"
    },
    "executionInfo": {
     "elapsed": 31,
     "status": "ok",
     "timestamp": 1690551265095,
     "user": {
      "displayName": "DSS DSS",
      "userId": "17636620013329168760"
     },
     "user_tz": -330
    },
    "id": "47a4fccc",
    "outputId": "c94a9948-790c-48e1-8996-2d245b8de02b"
   },
   "outputs": [
    {
     "name": "stdout",
     "output_type": "stream",
     "text": [
      "default constructor\n"
     ]
    }
   ],
   "source": [
    "p3 = Person()\n",
    "# p1 = Person(\"John\", 36) # TypeError: __init__() takes 1 positional argument but 3 were given"
   ]
  },
  {
   "cell_type": "markdown",
   "id": "f286e971",
   "metadata": {
    "id": "f286e971"
   },
   "source": [
    "**Advantages of using constructors:**\n",
    "- Initialiazation of objects with default or custom values is easy\n",
    "- Easy to implement using \\__init__() method\n",
    "- Better readability of where and how the attributes are initialised\n",
    "- Encapsulation is ensured by controlled initialisation of object attributes"
   ]
  },
  {
   "cell_type": "markdown",
   "id": "70c02228",
   "metadata": {
    "id": "70c02228"
   },
   "source": [
    "**Disdvantages of using constructors:**\n",
    "- Method or Constructor Overloading is not supported in python\n",
    "- Limited functionality (no public, private, protected access modifiers)\n",
    "- Constructors may be unnecessary (When attributes are needed to be initialised with default values)"
   ]
  },
  {
   "cell_type": "code",
   "execution_count": 221,
   "id": "d77d904d",
   "metadata": {
    "colab": {
     "base_uri": "https://localhost:8080/"
    },
    "executionInfo": {
     "elapsed": 29,
     "status": "ok",
     "timestamp": 1690551265095,
     "user": {
      "displayName": "DSS DSS",
      "userId": "17636620013329168760"
     },
     "user_tz": -330
    },
    "id": "d77d904d",
    "outputId": "e63bcb85-03f1-4a4d-a45e-9ee7a06c206c"
   },
   "outputs": [
    {
     "name": "stdout",
     "output_type": "stream",
     "text": [
      "Name is John and age is 36\n",
      "Name is Tony and age is 25\n",
      "False\n",
      "True False\n"
     ]
    }
   ],
   "source": [
    "class Person:\n",
    "    def __init__(self, name, age):\n",
    "        self.name = name\n",
    "        self.age = age\n",
    "\n",
    "    def __str__(self): # should return string type\n",
    "         return f\"Name is {self.name} and age is {self.age}\"\n",
    "\n",
    "p1 = Person(\"John\", 36)\n",
    "p2 = Person(\"Tony\", 25)\n",
    "\n",
    "print(p1) # p1.__str__()\n",
    "print(p2)\n",
    "del p1.age\n",
    "print(hasattr(p1,'age'))\n",
    "del p2\n",
    "print('p1' in globals(), 'p2' in globals())"
   ]
  },
  {
   "cell_type": "code",
   "execution_count": 222,
   "id": "a998bbb8",
   "metadata": {
    "executionInfo": {
     "elapsed": 28,
     "status": "ok",
     "timestamp": 1690551265095,
     "user": {
      "displayName": "DSS DSS",
      "userId": "17636620013329168760"
     },
     "user_tz": -330
    },
    "id": "a998bbb8"
   },
   "outputs": [],
   "source": [
    "class Person:\n",
    "    pass"
   ]
  },
  {
   "cell_type": "markdown",
   "id": "0e83ba54",
   "metadata": {
    "id": "0e83ba54"
   },
   "source": [
    "### static variable"
   ]
  },
  {
   "cell_type": "markdown",
   "id": "96d6301b",
   "metadata": {
    "id": "96d6301b"
   },
   "source": [
    "- Static variables are allocated memory once when the object for the class is created for the first time.\n",
    "- Static variables are created outside of methods but inside a class\n",
    "- Static variables can be accessed through a class\n",
    "- Static variables behavior doesn’t change for every object."
   ]
  },
  {
   "cell_type": "code",
   "execution_count": 223,
   "id": "9b824df2",
   "metadata": {
    "colab": {
     "base_uri": "https://localhost:8080/"
    },
    "executionInfo": {
     "elapsed": 28,
     "status": "ok",
     "timestamp": 1690551265095,
     "user": {
      "displayName": "DSS DSS",
      "userId": "17636620013329168760"
     },
     "user_tz": -330
    },
    "id": "9b824df2",
    "outputId": "484f9666-9bb4-4ba6-eaf2-6a63ba16c3e8"
   },
   "outputs": [
    {
     "name": "stdout",
     "output_type": "stream",
     "text": [
      "1\n",
      "2\n"
     ]
    }
   ],
   "source": [
    "class MyClass:\n",
    "    static_counter = 0 # static\n",
    "\n",
    "    def __init__(self):\n",
    "        MyClass.static_counter += 1\n",
    "        self.instance_var = MyClass.static_counter # instance_var non-static\n",
    "\n",
    "obj1 = MyClass()\n",
    "print(obj1.instance_var)  # Output: 1\n",
    "\n",
    "obj2 = MyClass()\n",
    "print(obj2.instance_var)  # 2"
   ]
  },
  {
   "cell_type": "code",
   "execution_count": 224,
   "id": "2690a5db",
   "metadata": {
    "colab": {
     "base_uri": "https://localhost:8080/"
    },
    "executionInfo": {
     "elapsed": 25,
     "status": "ok",
     "timestamp": 1690551265095,
     "user": {
      "displayName": "DSS DSS",
      "userId": "17636620013329168760"
     },
     "user_tz": -330
    },
    "id": "2690a5db",
    "outputId": "dccd288c-3681-4514-b674-617427da0023"
   },
   "outputs": [
    {
     "name": "stdout",
     "output_type": "stream",
     "text": [
      "1 2 3\n",
      "1 1 1\n",
      "99 99 99\n",
      "99 100 99\n",
      "3 5 3\n",
      "200 100 200\n"
     ]
    }
   ],
   "source": [
    "class MyClass:\n",
    "    static_counter = 0 # static\n",
    "    static_var = 99 # static\n",
    "\n",
    "    def __init__(self):\n",
    "        MyClass.static_counter += 1\n",
    "        self.instance_var = MyClass.static_counter # instance_var non-static\n",
    "        self.a = 1\n",
    "\n",
    "obj1 = MyClass()\n",
    "obj2 = MyClass()\n",
    "obj3 = MyClass()\n",
    "\n",
    "print(obj1.instance_var, obj2.instance_var, obj3.instance_var)\n",
    "print(obj1.a, obj3.a, obj3.a)\n",
    "\n",
    "print(MyClass.static_var, obj1.static_var, obj2.static_var)\n",
    "\n",
    "obj1.static_var = 100 # shawdow instance var is created\n",
    "print(MyClass.static_var, obj1.static_var, obj2.static_var)\n",
    "\n",
    "obj1.static_counter = 5\n",
    "print(MyClass.static_counter, obj1.static_counter, obj2.static_counter) # 2\n",
    "\n",
    "MyClass.static_var = 200\n",
    "\n",
    "print(MyClass.static_var, obj1.static_var, obj2.static_var) # shawdow variable is accessed"
   ]
  },
  {
   "cell_type": "markdown",
   "id": "dc84758c",
   "metadata": {
    "id": "dc84758c"
   },
   "source": [
    "**Advantages:**\n",
    "- Memory efficiency\n",
    "- Shared state\n",
    "- Easy to access (reading is easy)\n",
    "- Initialization (assures valid starting value)\n",
    "- Readability\n",
    "\n",
    "**Disadvantages:**\n",
    "- Inflexibility (difficult to have different values for different instances)\n",
    "- Hidden dependencies (difficult to understand and modify the code)\n",
    "- Thread safety (not properly synchronized)\n",
    "- Namespace pollution\n",
    "- Difficult to do unit testing (as change in static var affects the behavior of the class and its methods)"
   ]
  },
  {
   "cell_type": "markdown",
   "id": "a64197c2",
   "metadata": {
    "id": "a64197c2"
   },
   "source": [
    "### destructor"
   ]
  },
  {
   "cell_type": "code",
   "execution_count": 225,
   "id": "b2adffc1",
   "metadata": {
    "colab": {
     "base_uri": "https://localhost:8080/"
    },
    "executionInfo": {
     "elapsed": 23,
     "status": "ok",
     "timestamp": 1690551265095,
     "user": {
      "displayName": "DSS DSS",
      "userId": "17636620013329168760"
     },
     "user_tz": -330
    },
    "id": "b2adffc1",
    "outputId": "93f895dc-f498-4409-9e13-90b356b41ac2"
   },
   "outputs": [
    {
     "name": "stdout",
     "output_type": "stream",
     "text": [
      "Constructor called, Employee created.\n",
      "Destructor called, Employee deleted.\n"
     ]
    }
   ],
   "source": [
    "class Employee:\n",
    "\n",
    "    # Initializing\n",
    "    def __init__(self):\n",
    "        print('Constructor called, Employee created.')\n",
    "\n",
    "    # Deleting (Calling destructor)\n",
    "    def __del__(self):\n",
    "        print('Destructor called, Employee deleted.')\n",
    "\n",
    "obj = Employee()\n",
    "del obj"
   ]
  },
  {
   "cell_type": "markdown",
   "id": "1183ab58",
   "metadata": {
    "id": "1183ab58"
   },
   "source": [
    "**Advantages of destructors**\n",
    "- Automatic clean up\n",
    "- Consistent behavior\n",
    "- Easy to use\n",
    "- Supports oops\n",
    "- Helps with debugging (trace life cycle of object)"
   ]
  },
  {
   "cell_type": "markdown",
   "id": "282d1676",
   "metadata": {
    "id": "282d1676"
   },
   "source": [
    "### Inheritance"
   ]
  },
  {
   "cell_type": "code",
   "execution_count": 226,
   "id": "e99f8269",
   "metadata": {
    "executionInfo": {
     "elapsed": 21,
     "status": "ok",
     "timestamp": 1690551265095,
     "user": {
      "displayName": "DSS DSS",
      "userId": "17636620013329168760"
     },
     "user_tz": -330
    },
    "id": "e99f8269"
   },
   "outputs": [],
   "source": [
    "class Person(object):  # parent class / base class / super class\n",
    "    def __init__(self, fname, lname):\n",
    "        self.firstname = fname\n",
    "        self.lastname = lname\n",
    "        print(\"Person class constructor\")\n",
    "\n",
    "    def printname(self): # method\n",
    "        return (self.firstname, self.lastname)"
   ]
  },
  {
   "cell_type": "code",
   "execution_count": 227,
   "id": "135a8908",
   "metadata": {
    "executionInfo": {
     "elapsed": 21,
     "status": "ok",
     "timestamp": 1690551265095,
     "user": {
      "displayName": "DSS DSS",
      "userId": "17636620013329168760"
     },
     "user_tz": -330
    },
    "id": "135a8908"
   },
   "outputs": [],
   "source": [
    "# Student IS-A Person\n",
    "class Student(Person): # child class / derived class / sub class\n",
    "    pass"
   ]
  },
  {
   "cell_type": "code",
   "execution_count": 228,
   "id": "164015e2",
   "metadata": {
    "colab": {
     "base_uri": "https://localhost:8080/"
    },
    "executionInfo": {
     "elapsed": 21,
     "status": "ok",
     "timestamp": 1690551265095,
     "user": {
      "displayName": "DSS DSS",
      "userId": "17636620013329168760"
     },
     "user_tz": -330
    },
    "id": "164015e2",
    "outputId": "50b898ae-aefd-40b5-c8d4-747fdbe34578"
   },
   "outputs": [
    {
     "name": "stdout",
     "output_type": "stream",
     "text": [
      "Person class constructor\n",
      "Person class constructor\n",
      "barry ('barry', 'allen')\n"
     ]
    }
   ],
   "source": [
    "p = Person('tony', 'robbins')\n",
    "s = Student('barry', 'allen')\n",
    "# s = Student() # TypeError: __init__() missing 2 required positional arguments: 'fname' and 'lname'\n",
    "print(s.firstname, s.printname())"
   ]
  },
  {
   "cell_type": "code",
   "execution_count": 229,
   "id": "bba4d1e3",
   "metadata": {
    "executionInfo": {
     "elapsed": 19,
     "status": "ok",
     "timestamp": 1690551265095,
     "user": {
      "displayName": "DSS DSS",
      "userId": "17636620013329168760"
     },
     "user_tz": -330
    },
    "id": "bba4d1e3"
   },
   "outputs": [],
   "source": [
    "class Student2(Person):\n",
    "    def __init__(self):\n",
    "        pass # no parent class construtor call"
   ]
  },
  {
   "cell_type": "code",
   "execution_count": 230,
   "id": "89689aae",
   "metadata": {
    "executionInfo": {
     "elapsed": 19,
     "status": "ok",
     "timestamp": 1690551265095,
     "user": {
      "displayName": "DSS DSS",
      "userId": "17636620013329168760"
     },
     "user_tz": -330
    },
    "id": "89689aae"
   },
   "outputs": [],
   "source": [
    "# s2 = Student2('barry', 'allen') # TypeError: __init__() takes 1 positional argument but 3 were given\n",
    "s2 = Student2()\n",
    "# s2.firstname # AttributeError: 'Student2' object has no attribute 'firstname'\n",
    "# s2.printname() # AttributeError: 'Student2' object has no attribute 'firstname'"
   ]
  },
  {
   "cell_type": "code",
   "execution_count": 231,
   "id": "89c39102",
   "metadata": {
    "executionInfo": {
     "elapsed": 20,
     "status": "ok",
     "timestamp": 1690551265096,
     "user": {
      "displayName": "DSS DSS",
      "userId": "17636620013329168760"
     },
     "user_tz": -330
    },
    "id": "89c39102"
   },
   "outputs": [],
   "source": [
    "class Student3(Person):\n",
    "    def __init__(self,a,b):\n",
    "        Person.__init__(self,a,b) # self is required"
   ]
  },
  {
   "cell_type": "code",
   "execution_count": 232,
   "id": "bf060987",
   "metadata": {
    "colab": {
     "base_uri": "https://localhost:8080/"
    },
    "executionInfo": {
     "elapsed": 20,
     "status": "ok",
     "timestamp": 1690551265096,
     "user": {
      "displayName": "DSS DSS",
      "userId": "17636620013329168760"
     },
     "user_tz": -330
    },
    "id": "bf060987",
    "outputId": "3a35f554-ee4b-482e-ef2a-8b0ed01d6b2c"
   },
   "outputs": [
    {
     "name": "stdout",
     "output_type": "stream",
     "text": [
      "Person class constructor\n",
      "john ('john', 'harry')\n"
     ]
    }
   ],
   "source": [
    "s3 = Student3('john', 'harry')\n",
    "print(s3.firstname, s3.printname())"
   ]
  },
  {
   "cell_type": "code",
   "execution_count": 233,
   "id": "ddd0c872",
   "metadata": {
    "executionInfo": {
     "elapsed": 18,
     "status": "ok",
     "timestamp": 1690551265096,
     "user": {
      "displayName": "DSS DSS",
      "userId": "17636620013329168760"
     },
     "user_tz": -330
    },
    "id": "ddd0c872"
   },
   "outputs": [],
   "source": [
    "class Student4(Person):\n",
    "    def __init__(self,a,b):\n",
    "        super().__init__(a,b) # access immediate parent class (self is not required)\n",
    "        self.graduationyear = 2023"
   ]
  },
  {
   "cell_type": "code",
   "execution_count": 234,
   "id": "4c853e84",
   "metadata": {
    "colab": {
     "base_uri": "https://localhost:8080/"
    },
    "executionInfo": {
     "elapsed": 18,
     "status": "ok",
     "timestamp": 1690551265096,
     "user": {
      "displayName": "DSS DSS",
      "userId": "17636620013329168760"
     },
     "user_tz": -330
    },
    "id": "4c853e84",
    "outputId": "2061cca4-9b38-481c-859d-26407ee96e92"
   },
   "outputs": [
    {
     "name": "stdout",
     "output_type": "stream",
     "text": [
      "Person class constructor\n",
      "john 2023 ('john', 'harry')\n"
     ]
    }
   ],
   "source": [
    "s4 = Student4('john','harry')\n",
    "print(s4.firstname, s4.graduationyear, s4.printname())"
   ]
  },
  {
   "cell_type": "code",
   "execution_count": 235,
   "id": "7bf95486",
   "metadata": {
    "colab": {
     "base_uri": "https://localhost:8080/"
    },
    "executionInfo": {
     "elapsed": 16,
     "status": "ok",
     "timestamp": 1690551265096,
     "user": {
      "displayName": "DSS DSS",
      "userId": "17636620013329168760"
     },
     "user_tz": -330
    },
    "id": "7bf95486",
    "outputId": "3bd272b1-ca83-454b-d6e5-16f6de4ad109"
   },
   "outputs": [
    {
     "name": "stdout",
     "output_type": "stream",
     "text": [
      "True\n",
      "True\n",
      "True\n",
      "False\n"
     ]
    }
   ],
   "source": [
    "print(issubclass(Student, Person))\n",
    "print(issubclass(Student, object))\n",
    "print(issubclass(Person, object))\n",
    "print(issubclass(Person, Student))"
   ]
  },
  {
   "cell_type": "code",
   "execution_count": 236,
   "id": "852d9caf",
   "metadata": {
    "colab": {
     "base_uri": "https://localhost:8080/"
    },
    "executionInfo": {
     "elapsed": 14,
     "status": "ok",
     "timestamp": 1690551265096,
     "user": {
      "displayName": "DSS DSS",
      "userId": "17636620013329168760"
     },
     "user_tz": -330
    },
    "id": "852d9caf",
    "outputId": "3b250448-f87e-4fe3-d04d-e9c4d2004863"
   },
   "outputs": [
    {
     "name": "stdout",
     "output_type": "stream",
     "text": [
      "True\n",
      "True\n",
      "True\n",
      "False\n"
     ]
    }
   ],
   "source": [
    "print(isinstance(s4, Person)) # True\n",
    "print(isinstance(s4, Student4)) # True\n",
    "print(isinstance(p, Person)) # True\n",
    "print(isinstance(p, Student4)) # False"
   ]
  },
  {
   "cell_type": "markdown",
   "id": "c5120dda",
   "metadata": {
    "id": "c5120dda"
   },
   "source": [
    "### Types of inheritance"
   ]
  },
  {
   "cell_type": "markdown",
   "id": "fcedebf2",
   "metadata": {
    "id": "fcedebf2"
   },
   "source": [
    "#### single inheritance"
   ]
  },
  {
   "cell_type": "code",
   "execution_count": 237,
   "id": "c77bdde2",
   "metadata": {
    "colab": {
     "base_uri": "https://localhost:8080/"
    },
    "executionInfo": {
     "elapsed": 12,
     "status": "ok",
     "timestamp": 1690551265096,
     "user": {
      "displayName": "DSS DSS",
      "userId": "17636620013329168760"
     },
     "user_tz": -330
    },
    "id": "c77bdde2",
    "outputId": "3b931b47-aa18-4c11-fc61-e8d5f0ebef98"
   },
   "outputs": [
    {
     "name": "stdout",
     "output_type": "stream",
     "text": [
      "This function is in parent class.\n",
      "This function is in child class.\n"
     ]
    }
   ],
   "source": [
    "# Base class\n",
    "class Parent:\n",
    "    def pm(self):\n",
    "        print(\"This function is in parent class.\")\n",
    "\n",
    "# Derived class\n",
    "class Child(Parent):\n",
    "    def cm(self):\n",
    "        print(\"This function is in child class.\")\n",
    "\n",
    "# Driver's code\n",
    "childobject = Child()\n",
    "childobject.pm()\n",
    "childobject.cm()"
   ]
  },
  {
   "cell_type": "markdown",
   "id": "1af1ee11",
   "metadata": {
    "id": "1af1ee11"
   },
   "source": [
    "#### method overidding in single inheritance"
   ]
  },
  {
   "cell_type": "code",
   "execution_count": 238,
   "id": "de74cdb0",
   "metadata": {
    "colab": {
     "base_uri": "https://localhost:8080/"
    },
    "executionInfo": {
     "elapsed": 10,
     "status": "ok",
     "timestamp": 1690551265096,
     "user": {
      "displayName": "DSS DSS",
      "userId": "17636620013329168760"
     },
     "user_tz": -330
    },
    "id": "de74cdb0",
    "outputId": "1608ac0e-38c5-40c7-cd7b-305431779117"
   },
   "outputs": [
    {
     "name": "stdout",
     "output_type": "stream",
     "text": [
      "This function is in child class.\n"
     ]
    }
   ],
   "source": [
    "# Base class\n",
    "class Parent:\n",
    "    def pm(self):\n",
    "        print(\"This function is in parent class.\")\n",
    "\n",
    "# Derived class\n",
    "class Child(Parent):\n",
    "    def pm(self): # method overriding\n",
    "        print(\"This function is in child class.\")\n",
    "\n",
    "# Driver's code\n",
    "childobject = Child()\n",
    "childobject.pm()"
   ]
  },
  {
   "cell_type": "code",
   "execution_count": 239,
   "id": "4036813c",
   "metadata": {
    "colab": {
     "base_uri": "https://localhost:8080/"
    },
    "executionInfo": {
     "elapsed": 754,
     "status": "ok",
     "timestamp": 1690551265842,
     "user": {
      "displayName": "DSS DSS",
      "userId": "17636620013329168760"
     },
     "user_tz": -330
    },
    "id": "4036813c",
    "outputId": "a07c31ee-2acd-4a20-fae7-423543c13860"
   },
   "outputs": [
    {
     "name": "stdout",
     "output_type": "stream",
     "text": [
      "This function is in parent class.\n"
     ]
    }
   ],
   "source": [
    "parentobject = Parent()\n",
    "parentobject.pm()"
   ]
  },
  {
   "cell_type": "markdown",
   "id": "992ac944",
   "metadata": {
    "id": "992ac944"
   },
   "source": [
    "#### multilevel inheritance"
   ]
  },
  {
   "cell_type": "code",
   "execution_count": 240,
   "id": "67bcdd17",
   "metadata": {
    "colab": {
     "base_uri": "https://localhost:8080/"
    },
    "executionInfo": {
     "elapsed": 49,
     "status": "ok",
     "timestamp": 1690551265842,
     "user": {
      "displayName": "DSS DSS",
      "userId": "17636620013329168760"
     },
     "user_tz": -330
    },
    "id": "67bcdd17",
    "outputId": "89b0e220-3df6-4d70-ddf1-374af4280ea3"
   },
   "outputs": [
    {
     "name": "stdout",
     "output_type": "stream",
     "text": [
      "GF\n",
      "Grandfather name : GF\n",
      "Father name : F\n",
      "Son name : S\n",
      "FN\n",
      "GFN\n"
     ]
    }
   ],
   "source": [
    "# Base class\n",
    "class Grandfather:\n",
    "    def __init__(self, grandfathername):\n",
    "        self.grandfathername = grandfathername\n",
    "\n",
    "# Intermediate class\n",
    "class Father(Grandfather):\n",
    "    def __init__(self, fathername, grandfathername):\n",
    "        self.fathername = fathername\n",
    "        # invoking constructor of Grandfather class\n",
    "        Grandfather.__init__(self, grandfathername)\n",
    "\n",
    "# Derived class\n",
    "class Son(Father):\n",
    "    def __init__(self, sonname, fathername, grandfathername):\n",
    "        self.sonname = sonname\n",
    "        # invoking constructor of Father class\n",
    "        Father.__init__(self, fathername, grandfathername)\n",
    "\n",
    "    def print_name(self):\n",
    "        print('Grandfather name :', self.grandfathername)\n",
    "        print(\"Father name :\", self.fathername)\n",
    "        print(\"Son name :\", self.sonname)\n",
    "\n",
    "\n",
    "# Driver code\n",
    "s1 = Son('S', 'F', 'GF')\n",
    "print(s1.grandfathername)\n",
    "s1.print_name()\n",
    "\n",
    "f1 = Father(\"FN\", 'GFN')\n",
    "print(f1.fathername)\n",
    "print(f1.grandfathername)\n",
    "# print(f1.sonname) # AttributeError: 'Father' object has no attribute 'sonname'"
   ]
  },
  {
   "cell_type": "markdown",
   "id": "b9ce49fe",
   "metadata": {
    "id": "b9ce49fe"
   },
   "source": [
    "#### hierarchical inheritance"
   ]
  },
  {
   "cell_type": "code",
   "execution_count": 241,
   "id": "5ad80620",
   "metadata": {
    "colab": {
     "base_uri": "https://localhost:8080/"
    },
    "executionInfo": {
     "elapsed": 46,
     "status": "ok",
     "timestamp": 1690551265842,
     "user": {
      "displayName": "DSS DSS",
      "userId": "17636620013329168760"
     },
     "user_tz": -330
    },
    "id": "5ad80620",
    "outputId": "8453065a-592e-4883-ed31-4cf1f01644b8"
   },
   "outputs": [
    {
     "name": "stdout",
     "output_type": "stream",
     "text": [
      "This function is in parent class.\n",
      "This function is in child 1.\n",
      "This function is in parent class.\n",
      "This function is in child 2.\n",
      "This function is in parent class.\n"
     ]
    }
   ],
   "source": [
    "# Base class\n",
    "class Parent:\n",
    "    def pm(self):\n",
    "        print(\"This function is in parent class.\")\n",
    "\n",
    "# Derived class1\n",
    "class Child1(Parent): # pm, c1m\n",
    "    def c1m(self):\n",
    "        print(\"This function is in child 1.\")\n",
    "\n",
    "# Derivied class2\n",
    "class Child2(Parent): # pm, c2m\n",
    "    def c2m(self):\n",
    "        print(\"This function is in child 2.\")\n",
    "\n",
    "\n",
    "# Driver's code\n",
    "object1 = Child1()\n",
    "object1.pm()\n",
    "object1.c1m()\n",
    "# object1.c2m() # AttributeError: 'Child1' object has no attribute 'c2m'\n",
    "\n",
    "object2 = Child2()\n",
    "object2.pm()\n",
    "object2.c2m()\n",
    "# object2.c1m() # AttributeError: 'Child2' object has no attribute 'c1m'\n",
    "\n",
    "parent = Parent()\n",
    "parent.pm()\n",
    "# parent.c1m() # AttributeError: 'Parent' object has no attribute 'c1m'\n",
    "# parent.c2m() # AttributeError: 'Parent' object has no attribute 'c2m'"
   ]
  },
  {
   "cell_type": "markdown",
   "id": "3cff4255",
   "metadata": {
    "id": "3cff4255"
   },
   "source": [
    "#### multiple inheritance"
   ]
  },
  {
   "cell_type": "code",
   "execution_count": 242,
   "id": "4034170f",
   "metadata": {
    "colab": {
     "base_uri": "https://localhost:8080/"
    },
    "executionInfo": {
     "elapsed": 44,
     "status": "ok",
     "timestamp": 1690551265842,
     "user": {
      "displayName": "DSS DSS",
      "userId": "17636620013329168760"
     },
     "user_tz": -330
    },
    "id": "4034170f",
    "outputId": "2cb22b6b-c55f-4f4b-8fb0-398b6ba3a403"
   },
   "outputs": [
    {
     "name": "stdout",
     "output_type": "stream",
     "text": [
      "father method \n",
      "mother method \n",
      "Father : RAM\n",
      "Mother : SITA\n"
     ]
    }
   ],
   "source": [
    "# Base class1\n",
    "class Mother:\n",
    "    mothername = \"\"\n",
    "\n",
    "    def mother(self):\n",
    "        print('mother method',self.mothername)\n",
    "\n",
    "# Base class2\n",
    "class Father:\n",
    "    fathername = \"\"\n",
    "\n",
    "    def father(self):\n",
    "        print('father method',self.fathername)\n",
    "\n",
    "# Derived class\n",
    "class Son(Mother, Father):\n",
    "    def parents(self):\n",
    "        print(\"Father :\", self.fathername)\n",
    "        print(\"Mother :\", self.mothername)\n",
    "\n",
    "# Driver's code\n",
    "s1 = Son()\n",
    "s1.father()\n",
    "s1.mother()\n",
    "s1.fathername = \"RAM\"\n",
    "s1.mothername = \"SITA\"\n",
    "s1.parents()"
   ]
  },
  {
   "cell_type": "code",
   "execution_count": 243,
   "id": "990c1907",
   "metadata": {
    "colab": {
     "base_uri": "https://localhost:8080/"
    },
    "executionInfo": {
     "elapsed": 42,
     "status": "ok",
     "timestamp": 1690551265842,
     "user": {
      "displayName": "DSS DSS",
      "userId": "17636620013329168760"
     },
     "user_tz": -330
    },
    "id": "990c1907",
    "outputId": "fc79e53b-48cb-48db-e97d-fc87a7f6c8c0"
   },
   "outputs": [
    {
     "name": "stdout",
     "output_type": "stream",
     "text": [
      "Child1 method\n",
      "Parent1 method\n",
      "Parent2 method\n"
     ]
    }
   ],
   "source": [
    "# multiple inheritance with same method in both parent classes\n",
    "\n",
    "class Parent1:\n",
    "    def m(self):\n",
    "        print(\"Parent1 method\")\n",
    "\n",
    "class Parent2:\n",
    "    def m(self):\n",
    "        print(\"Parent2 method\")\n",
    "\n",
    "class Child1(Parent1, Parent2):\n",
    "    def m(self):\n",
    "        print(\"Child1 method\")\n",
    "\n",
    "class Child2(Parent1, Parent2):\n",
    "    pass\n",
    "\n",
    "class Child3(Parent2, Parent1):\n",
    "    pass\n",
    "\n",
    "c1 = Child1()\n",
    "c2 = Child2()\n",
    "c3 = Child3()\n",
    "\n",
    "c1.m()\n",
    "c2.m()\n",
    "c3.m()"
   ]
  },
  {
   "cell_type": "code",
   "execution_count": 244,
   "id": "081688d0",
   "metadata": {
    "colab": {
     "base_uri": "https://localhost:8080/"
    },
    "executionInfo": {
     "elapsed": 41,
     "status": "ok",
     "timestamp": 1690551265843,
     "user": {
      "displayName": "DSS DSS",
      "userId": "17636620013329168760"
     },
     "user_tz": -330
    },
    "id": "081688d0",
    "outputId": "6f444840-1a3b-4dea-b53a-fbf1069821c7"
   },
   "outputs": [
    {
     "name": "stdout",
     "output_type": "stream",
     "text": [
      "Child1 method\n",
      "Parent1 method\n",
      "Parent2 method\n",
      "Child1 method\n",
      "Parent1 method\n",
      "Child1 method\n"
     ]
    }
   ],
   "source": [
    "# multiple inheritance with same method in both parent classes\n",
    "\n",
    "class Parent1(object):\n",
    "    def m(self):\n",
    "        print(\"Parent1 method\")\n",
    "\n",
    "class Parent2:\n",
    "    def m(self):\n",
    "        print(\"Parent2 method\")\n",
    "\n",
    "class Child1(Parent1, Parent2): # c1\n",
    "    def m(self):\n",
    "        print(\"Child1 method\")\n",
    "\n",
    "class Child2(Parent1, Parent2): # p1\n",
    "    pass\n",
    "\n",
    "class Child3(Parent2, Parent1): # p2\n",
    "    pass\n",
    "\n",
    "class Parent3:\n",
    "    pass\n",
    "\n",
    "class Child4(Parent3, Child1): # c1\n",
    "    pass\n",
    "\n",
    "class Child5(Parent3, Parent1, Parent2): # p1\n",
    "    pass\n",
    "\n",
    "class Child6(Child2, Child1): # c1 (MRO: c6-c2-c1-p1-p2)\n",
    "    pass\n",
    "\n",
    "c1 = Child1()\n",
    "c2 = Child2()\n",
    "c3 = Child3()\n",
    "c4 = Child4()\n",
    "c5 = Child5()\n",
    "c6 = Child6()\n",
    "\n",
    "c1.m()\n",
    "c2.m()\n",
    "c3.m()\n",
    "c4.m()\n",
    "c5.m()\n",
    "c6.m()"
   ]
  },
  {
   "cell_type": "markdown",
   "id": "ea98fed7",
   "metadata": {
    "id": "ea98fed7"
   },
   "source": [
    "#### Method Resolution Order"
   ]
  },
  {
   "cell_type": "code",
   "execution_count": 245,
   "id": "aba4b42c",
   "metadata": {
    "colab": {
     "base_uri": "https://localhost:8080/"
    },
    "executionInfo": {
     "elapsed": 39,
     "status": "ok",
     "timestamp": 1690551265843,
     "user": {
      "displayName": "DSS DSS",
      "userId": "17636620013329168760"
     },
     "user_tz": -330
    },
    "id": "aba4b42c",
    "outputId": "f883c55f-8644-4243-ed7e-9c9b4a20265e"
   },
   "outputs": [
    {
     "name": "stdout",
     "output_type": "stream",
     "text": [
      "[<class '__main__.Child1'>, <class '__main__.Parent1'>, <class '__main__.Parent2'>, <class 'object'>]\n",
      "\n",
      "[<class '__main__.Child2'>, <class '__main__.Parent1'>, <class '__main__.Parent2'>, <class 'object'>]\n",
      "\n",
      "[<class '__main__.Child3'>, <class '__main__.Parent2'>, <class '__main__.Parent1'>, <class 'object'>]\n",
      "\n",
      "[<class '__main__.Child4'>, <class '__main__.Parent3'>, <class '__main__.Child1'>, <class '__main__.Parent1'>, <class '__main__.Parent2'>, <class 'object'>]\n",
      "\n",
      "[<class '__main__.Child5'>, <class '__main__.Parent3'>, <class '__main__.Parent1'>, <class '__main__.Parent2'>, <class 'object'>]\n",
      "\n",
      "[<class '__main__.Child6'>, <class '__main__.Child2'>, <class '__main__.Child1'>, <class '__main__.Parent1'>, <class '__main__.Parent2'>, <class 'object'>]\n"
     ]
    }
   ],
   "source": [
    "# Method Resolution Order\n",
    "print(Child1.mro(),\n",
    "      Child2.mro(),\n",
    "      Child3.mro(),\n",
    "      Child4.mro(),\n",
    "      Child5.mro(),\n",
    "      Child6.mro(),\n",
    "      sep='\\n\\n')"
   ]
  },
  {
   "cell_type": "code",
   "execution_count": 246,
   "id": "46f0dfd9",
   "metadata": {
    "executionInfo": {
     "elapsed": 37,
     "status": "ok",
     "timestamp": 1690551265843,
     "user": {
      "displayName": "DSS DSS",
      "userId": "17636620013329168760"
     },
     "user_tz": -330
    },
    "id": "46f0dfd9"
   },
   "outputs": [],
   "source": [
    "# TypeError: Cannot create a consistent method resolution order (MRO) for bases Parent2, Child1, Child2\n",
    "# class Child7(Parent2, Child1): # MRO confusion: c7->p2->c1->p1->p2 # Mixin class\n",
    "#     pass"
   ]
  },
  {
   "cell_type": "markdown",
   "id": "08b8aaf8",
   "metadata": {
    "id": "08b8aaf8"
   },
   "source": [
    "**MRO is based on C3 linearization algorithm**\n",
    "\n",
    "- calculates the order in which the classes should be searched for methods\n",
    "- The goal is to maintain the **depth-first, left-to-right** ordering, which helps resolve conflicts when the same method is present in multiple parent classes.\n",
    "\n",
    "**Steps:**\n",
    "1. Children get checked before their parents.\n",
    "2. Parents are listed in the order they appear in the inheritance tuple.\n",
    "3. When merging the parents, the parents of the parents are inserted before the parents themselves.\n",
    "    "
   ]
  },
  {
   "cell_type": "markdown",
   "id": "d11ec88d",
   "metadata": {
    "id": "d11ec88d"
   },
   "source": [
    "#### super()\n",
    "- to refer parent class"
   ]
  },
  {
   "cell_type": "code",
   "execution_count": 247,
   "id": "bb29bcdc",
   "metadata": {
    "colab": {
     "base_uri": "https://localhost:8080/"
    },
    "executionInfo": {
     "elapsed": 37,
     "status": "ok",
     "timestamp": 1690551265843,
     "user": {
      "displayName": "DSS DSS",
      "userId": "17636620013329168760"
     },
     "user_tz": -330
    },
    "id": "bb29bcdc",
    "outputId": "7d494480-995d-459a-c3c9-586df94a8682"
   },
   "outputs": [
    {
     "name": "stdout",
     "output_type": "stream",
     "text": [
      "In Class4\n",
      "In Class2\n",
      "In Class3\n",
      "In Class1\n",
      "[<class '__main__.Class3'>, <class '__main__.Class1'>, <class 'object'>]\n",
      "[<class '__main__.Class4'>, <class '__main__.Class2'>, <class '__main__.Class3'>, <class '__main__.Class1'>, <class 'object'>]\n"
     ]
    }
   ],
   "source": [
    "class Class1:\n",
    "    def m(self):\n",
    "        print(\"In Class1\")\n",
    "\n",
    "class Class2(Class1):\n",
    "    def m(self):\n",
    "        print(\"In Class2\")\n",
    "        super().m()  # comment and check\n",
    "\n",
    "class Class3(Class1):\n",
    "    def m(self):\n",
    "        print(\"In Class3\")\n",
    "        super().m()\n",
    "\n",
    "class Class4(Class2, Class3):\n",
    "    def m(self):\n",
    "        print(\"In Class4\")\n",
    "        super().m() # c2.m , c3.m\n",
    "\n",
    "o4 = Class4()\n",
    "o4.m()\n",
    "\n",
    "print(Class3.mro())\n",
    "print(Class4.mro()) # Method resolution order"
   ]
  },
  {
   "cell_type": "code",
   "execution_count": 248,
   "id": "d32eef92",
   "metadata": {
    "colab": {
     "base_uri": "https://localhost:8080/"
    },
    "executionInfo": {
     "elapsed": 35,
     "status": "ok",
     "timestamp": 1690551265843,
     "user": {
      "displayName": "DSS DSS",
      "userId": "17636620013329168760"
     },
     "user_tz": -330
    },
    "id": "d32eef92",
    "outputId": "e51c535d-57ea-4b85-cccc-861f843be546"
   },
   "outputs": [
    {
     "name": "stdout",
     "output_type": "stream",
     "text": [
      "In Class4\n",
      "In Class2\n",
      "In Class1\n",
      "In Class3\n",
      "In Class1\n",
      "In Class5\n"
     ]
    },
    {
     "data": {
      "text/plain": [
       "[__main__.Class4, __main__.Class2, __main__.Class3, __main__.Class1, object]"
      ]
     },
     "execution_count": 248,
     "metadata": {},
     "output_type": "execute_result"
    }
   ],
   "source": [
    "# when we try to call m of Class1 from both\n",
    "# m of Class2 and m of Class3\n",
    "\n",
    "class Class1:\n",
    "    def m(self):\n",
    "        print(\"In Class1\")\n",
    "\n",
    "class Class2(Class1):\n",
    "    def m(self):\n",
    "        print(\"In Class2\")\n",
    "        Class1.m(self)\n",
    "\n",
    "class Class3(Class1):\n",
    "    def m(self):\n",
    "        print(\"In Class3\")\n",
    "        Class1.m(self)\n",
    "\n",
    "class Class4(Class2, Class3):\n",
    "    def m(self):\n",
    "        print(\"In Class4\")\n",
    "        Class2.m(self)\n",
    "        Class3.m(self)\n",
    "        Class5.m(self)\n",
    "\n",
    "class Class5: # same folder\n",
    "    def m(self):\n",
    "        print(\"In Class5\")\n",
    "\n",
    "o4 = Class4()\n",
    "o4.m()\n",
    "Class4.mro()"
   ]
  },
  {
   "cell_type": "markdown",
   "id": "55fecc4f",
   "metadata": {
    "id": "55fecc4f"
   },
   "source": [
    "#### hybrid inheritance"
   ]
  },
  {
   "cell_type": "code",
   "execution_count": 249,
   "id": "19b045ef",
   "metadata": {
    "colab": {
     "base_uri": "https://localhost:8080/"
    },
    "executionInfo": {
     "elapsed": 33,
     "status": "ok",
     "timestamp": 1690551265843,
     "user": {
      "displayName": "DSS DSS",
      "userId": "17636620013329168760"
     },
     "user_tz": -330
    },
    "id": "19b045ef",
    "outputId": "5bf45c54-8f6d-4f92-eca9-cbcecf8ad3f0"
   },
   "outputs": [
    {
     "name": "stdout",
     "output_type": "stream",
     "text": [
      "This function is in school.\n",
      "This function is in student 1. \n"
     ]
    },
    {
     "data": {
      "text/plain": [
       "[__main__.Student3, __main__.Student1, __main__.School, object]"
      ]
     },
     "execution_count": 249,
     "metadata": {},
     "output_type": "execute_result"
    }
   ],
   "source": [
    "class School:\n",
    "    def func1(self):\n",
    "        print(\"This function is in school.\")\n",
    "\n",
    "# single\n",
    "class Student1(School):\n",
    "    def func2(self):\n",
    "        print(\"This function is in student 1. \")\n",
    "\n",
    "# hierarchical\n",
    "class Student2(School):\n",
    "    def func3(self):\n",
    "        print(\"This function is in student 2.\")\n",
    "\n",
    "# multiple\n",
    "class Student3(Student1, School):\n",
    "    def func4(self):\n",
    "        print(\"This function is in student 3.\")\n",
    "\n",
    "# Driver's code\n",
    "object = Student3()\n",
    "object.func1()\n",
    "object.func2()\n",
    "Student3.mro()"
   ]
  },
  {
   "cell_type": "markdown",
   "id": "17aadef1",
   "metadata": {
    "id": "17aadef1"
   },
   "source": [
    "### Encapsulation"
   ]
  },
  {
   "cell_type": "markdown",
   "id": "6a1c8335",
   "metadata": {
    "id": "6a1c8335"
   },
   "source": [
    "- idea of wrapping data and the methods that work on data within one unit\n",
    "- It restricts accessing variables directly, instead use methods\n",
    "    - such variables are declared as private variables\n",
    "- class is example of encapsulation\n",
    "- also hides data"
   ]
  },
  {
   "cell_type": "code",
   "execution_count": 250,
   "id": "ade7bbef",
   "metadata": {
    "executionInfo": {
     "elapsed": 31,
     "status": "ok",
     "timestamp": 1690551265843,
     "user": {
      "displayName": "DSS DSS",
      "userId": "17636620013329168760"
     },
     "user_tz": -330
    },
    "id": "ade7bbef"
   },
   "outputs": [],
   "source": [
    "class Base:\n",
    "    def __init__(self):\n",
    "        print('base init',self)\n",
    "        self.__private_var = \"private\"\n",
    "        self._protected_var = \"protected\""
   ]
  },
  {
   "cell_type": "code",
   "execution_count": 251,
   "id": "7e3e79bc",
   "metadata": {
    "executionInfo": {
     "elapsed": 31,
     "status": "ok",
     "timestamp": 1690551265843,
     "user": {
      "displayName": "DSS DSS",
      "userId": "17636620013329168760"
     },
     "user_tz": -330
    },
    "id": "7e3e79bc"
   },
   "outputs": [],
   "source": [
    "class Derived(Base):\n",
    "    def __init__(self):\n",
    "        print('derived init',self)\n",
    "        super().__init__()"
   ]
  },
  {
   "cell_type": "code",
   "execution_count": 252,
   "id": "4f60bb1b",
   "metadata": {
    "executionInfo": {
     "elapsed": 31,
     "status": "ok",
     "timestamp": 1690551265843,
     "user": {
      "displayName": "DSS DSS",
      "userId": "17636620013329168760"
     },
     "user_tz": -330
    },
    "id": "4f60bb1b"
   },
   "outputs": [],
   "source": [
    "class Derived2(Base):\n",
    "    def __init__(self):\n",
    "        print('derived2 init',self)\n",
    "        super().__init__()\n",
    "        self.__private_var = \"private2\"\n",
    "        self._protected_var = \"protected2\""
   ]
  },
  {
   "cell_type": "code",
   "execution_count": 253,
   "id": "ec938703",
   "metadata": {
    "colab": {
     "base_uri": "https://localhost:8080/"
    },
    "executionInfo": {
     "elapsed": 31,
     "status": "ok",
     "timestamp": 1690551265843,
     "user": {
      "displayName": "DSS DSS",
      "userId": "17636620013329168760"
     },
     "user_tz": -330
    },
    "id": "ec938703",
    "outputId": "b712ff29-8ed1-4bba-b5b8-5f8a76eb2cbc"
   },
   "outputs": [
    {
     "name": "stdout",
     "output_type": "stream",
     "text": [
      "base init <__main__.Base object at 0x7bcc802142b0>\n",
      "derived init <__main__.Derived object at 0x7bcc80214ee0>\n",
      "base init <__main__.Derived object at 0x7bcc80214ee0>\n",
      "derived2 init <__main__.Derived2 object at 0x7bcc80215360>\n",
      "base init <__main__.Derived2 object at 0x7bcc80215360>\n"
     ]
    }
   ],
   "source": [
    "b = Base()\n",
    "d = Derived()\n",
    "d2 = Derived2()"
   ]
  },
  {
   "cell_type": "code",
   "execution_count": 254,
   "id": "aa603dcb",
   "metadata": {
    "executionInfo": {
     "elapsed": 30,
     "status": "ok",
     "timestamp": 1690551265844,
     "user": {
      "displayName": "DSS DSS",
      "userId": "17636620013329168760"
     },
     "user_tz": -330
    },
    "id": "aa603dcb"
   },
   "outputs": [],
   "source": [
    "# b.__private_var # AttributeError: 'Base' object has no attribute '__private_var'\n",
    "# d.__private_var # AttributeError: 'Derived' object has no attribute '__private_var'\n",
    "# d2.__private_var # AttributeError: 'Derived2' object has no attribute '__private_var'"
   ]
  },
  {
   "cell_type": "code",
   "execution_count": 255,
   "id": "8f5c8449",
   "metadata": {
    "colab": {
     "base_uri": "https://localhost:8080/"
    },
    "executionInfo": {
     "elapsed": 30,
     "status": "ok",
     "timestamp": 1690551265844,
     "user": {
      "displayName": "DSS DSS",
      "userId": "17636620013329168760"
     },
     "user_tz": -330
    },
    "id": "8f5c8449",
    "outputId": "88e971ea-6a88-4827-ba02-d235cf64f2db"
   },
   "outputs": [
    {
     "data": {
      "text/plain": [
       "('protected', 'protected', 'protected2')"
      ]
     },
     "execution_count": 255,
     "metadata": {},
     "output_type": "execute_result"
    }
   ],
   "source": [
    "b._protected_var, d._protected_var, d2._protected_var"
   ]
  },
  {
   "cell_type": "markdown",
   "id": "4f130101",
   "metadata": {
    "id": "4f130101"
   },
   "source": [
    "#### data hiding"
   ]
  },
  {
   "cell_type": "code",
   "execution_count": 256,
   "id": "fdfa77d3",
   "metadata": {
    "executionInfo": {
     "elapsed": 28,
     "status": "ok",
     "timestamp": 1690551265844,
     "user": {
      "displayName": "DSS DSS",
      "userId": "17636620013329168760"
     },
     "user_tz": -330
    },
    "id": "fdfa77d3"
   },
   "outputs": [],
   "source": [
    "class Emp:\n",
    "    __salary = 50000 # private\n",
    "    __password = 'abc@123' # private\n",
    "\n",
    "    # write access (setter method)\n",
    "    def setSalary(self, salary):\n",
    "        self.__salary = salary\n",
    "\n",
    "    # read access (getter method)\n",
    "    def getSalary(self):\n",
    "        return self.__salary\n",
    "\n",
    "    # write access, no read access\n",
    "    def setPassword(self, pwd):\n",
    "        self.__password = pwd"
   ]
  },
  {
   "cell_type": "code",
   "execution_count": 257,
   "id": "d6de6426",
   "metadata": {
    "colab": {
     "base_uri": "https://localhost:8080/"
    },
    "executionInfo": {
     "elapsed": 28,
     "status": "ok",
     "timestamp": 1690551265844,
     "user": {
      "displayName": "DSS DSS",
      "userId": "17636620013329168760"
     },
     "user_tz": -330
    },
    "id": "d6de6426",
    "outputId": "d511d592-f52b-45bf-8cfc-970316a14aa9"
   },
   "outputs": [
    {
     "name": "stdout",
     "output_type": "stream",
     "text": [
      "60000\n"
     ]
    }
   ],
   "source": [
    "e1 = Emp()\n",
    "e1.setSalary(60000)\n",
    "print(e1.getSalary())\n",
    "e1.setPassword('emp@123')\n",
    "# e1.getPassword() # AttributeError: 'Emp' object has no attribute 'getPassword'"
   ]
  },
  {
   "cell_type": "markdown",
   "id": "9ee6a510",
   "metadata": {
    "id": "9ee6a510"
   },
   "source": [
    "### polymorphism"
   ]
  },
  {
   "cell_type": "code",
   "execution_count": 258,
   "id": "1cfda5a0",
   "metadata": {
    "colab": {
     "base_uri": "https://localhost:8080/"
    },
    "executionInfo": {
     "elapsed": 27,
     "status": "ok",
     "timestamp": 1690551265844,
     "user": {
      "displayName": "DSS DSS",
      "userId": "17636620013329168760"
     },
     "user_tz": -330
    },
    "id": "1cfda5a0",
    "outputId": "b423d71f-caef-4c74-aa6b-1cb208b3d782"
   },
   "outputs": [
    {
     "data": {
      "text/plain": [
       "(4, '22')"
      ]
     },
     "execution_count": 258,
     "metadata": {},
     "output_type": "execute_result"
    }
   ],
   "source": [
    "2+2, '2'+'2' # opeator overloading"
   ]
  },
  {
   "cell_type": "code",
   "execution_count": 259,
   "id": "9887c183",
   "metadata": {
    "colab": {
     "base_uri": "https://localhost:8080/"
    },
    "executionInfo": {
     "elapsed": 25,
     "status": "ok",
     "timestamp": 1690551265844,
     "user": {
      "displayName": "DSS DSS",
      "userId": "17636620013329168760"
     },
     "user_tz": -330
    },
    "id": "9887c183",
    "outputId": "780cc7f1-2685-439d-f390-687bc3f4a097"
   },
   "outputs": [
    {
     "data": {
      "text/plain": [
       "(4, 3)"
      ]
     },
     "execution_count": 259,
     "metadata": {},
     "output_type": "execute_result"
    }
   ],
   "source": [
    "len(\"abcd\"), len([1,2,'Python'])"
   ]
  },
  {
   "cell_type": "code",
   "execution_count": 260,
   "id": "ef1601a8",
   "metadata": {
    "colab": {
     "base_uri": "https://localhost:8080/"
    },
    "executionInfo": {
     "elapsed": 23,
     "status": "ok",
     "timestamp": 1690551265844,
     "user": {
      "displayName": "DSS DSS",
      "userId": "17636620013329168760"
     },
     "user_tz": -330
    },
    "id": "ef1601a8",
    "outputId": "8a21f9d6-55a6-411f-9de0-6834e4bbcd56"
   },
   "outputs": [
    {
     "data": {
      "text/plain": [
       "9"
      ]
     },
     "execution_count": 260,
     "metadata": {},
     "output_type": "execute_result"
    }
   ],
   "source": [
    "# no polymorphism\n",
    "\n",
    "def add(a,b): # not available anymore\n",
    "    return a+b\n",
    "\n",
    "def add(a,b,c): # not function overloading. but function overriding\n",
    "    return a+b+c\n",
    "\n",
    "# add(2,3) # TypeError: add() missing 1 required positional argument: 'c'\n",
    "add(2,3,4)"
   ]
  },
  {
   "cell_type": "code",
   "execution_count": 261,
   "id": "742f691e",
   "metadata": {
    "colab": {
     "base_uri": "https://localhost:8080/"
    },
    "executionInfo": {
     "elapsed": 21,
     "status": "ok",
     "timestamp": 1690551265844,
     "user": {
      "displayName": "DSS DSS",
      "userId": "17636620013329168760"
     },
     "user_tz": -330
    },
    "id": "742f691e",
    "outputId": "4ff48471-bfa0-4828-94c2-b7cfcb763516"
   },
   "outputs": [
    {
     "name": "stdout",
     "output_type": "stream",
     "text": [
      "m in A\n",
      "m in B\n"
     ]
    }
   ],
   "source": [
    "# polymorphism without inheritance\n",
    "\n",
    "class A:\n",
    "    def m(self):\n",
    "        print('m in A')\n",
    "\n",
    "class B:\n",
    "    def m(self): # m has diff implementation => polymorphism\n",
    "        print('m in B')\n",
    "\n",
    "a = A()\n",
    "b = B()\n",
    "for obj in (a,b):\n",
    "    obj.m()"
   ]
  },
  {
   "cell_type": "code",
   "execution_count": 262,
   "id": "8558e44a",
   "metadata": {
    "colab": {
     "base_uri": "https://localhost:8080/"
    },
    "executionInfo": {
     "elapsed": 19,
     "status": "ok",
     "timestamp": 1690551265844,
     "user": {
      "displayName": "DSS DSS",
      "userId": "17636620013329168760"
     },
     "user_tz": -330
    },
    "id": "8558e44a",
    "outputId": "d86e396e-dc16-4fa1-b224-37c917f70d0d"
   },
   "outputs": [
    {
     "name": "stdout",
     "output_type": "stream",
     "text": [
      "m in A\n",
      "m in B\n"
     ]
    }
   ],
   "source": [
    "# polymorphism with inheritance\n",
    "\n",
    "class A:\n",
    "    def m(self):\n",
    "        print('m in A')\n",
    "\n",
    "class B(A):\n",
    "    def m(self): # method overriding; m has diff implementation => polymorphism\n",
    "        print('m in B')\n",
    "\n",
    "a = A()\n",
    "b = B()\n",
    "for obj in (a,b):\n",
    "    obj.m()"
   ]
  },
  {
   "cell_type": "markdown",
   "id": "94c1f841",
   "metadata": {
    "id": "94c1f841"
   },
   "source": [
    "#### Runtime polymorphism\n",
    "- Method overriding is a way to achieve runtime polymorphism"
   ]
  },
  {
   "cell_type": "code",
   "execution_count": 263,
   "id": "d738a6e0",
   "metadata": {
    "colab": {
     "base_uri": "https://localhost:8080/"
    },
    "executionInfo": {
     "elapsed": 19,
     "status": "ok",
     "timestamp": 1690551265845,
     "user": {
      "displayName": "DSS DSS",
      "userId": "17636620013329168760"
     },
     "user_tz": -330
    },
    "id": "d738a6e0",
    "outputId": "dcb2af79-ef0e-4d94-8a57-8cc36a2cb493"
   },
   "outputs": [
    {
     "name": "stdout",
     "output_type": "stream",
     "text": [
      "Animal speaks\n",
      "Dog barks\n"
     ]
    }
   ],
   "source": [
    "class Animal:\n",
    "    def speak(self):\n",
    "        print(\"Animal speaks\")\n",
    "\n",
    "class Dog(Animal):\n",
    "    def speak(self): # method overriding\n",
    "        print(\"Dog barks\")\n",
    "\n",
    "animal = Animal()\n",
    "dog = Dog()\n",
    "\n",
    "# speak() works different in runtime w.r.t object used to call it => run time polymorphism\n",
    "animal.speak()\n",
    "dog.speak()"
   ]
  },
  {
   "cell_type": "markdown",
   "id": "98ca4588",
   "metadata": {
    "id": "98ca4588"
   },
   "source": [
    "### abstraction"
   ]
  },
  {
   "cell_type": "markdown",
   "id": "3d3b2d8a",
   "metadata": {
    "id": "3d3b2d8a"
   },
   "source": [
    "- knowing start_engine() is enough to start car.\n",
    "- internal implementation is not needed => Abstraction"
   ]
  },
  {
   "cell_type": "code",
   "execution_count": 264,
   "id": "63e51cda",
   "metadata": {
    "executionInfo": {
     "elapsed": 17,
     "status": "ok",
     "timestamp": 1690551265845,
     "user": {
      "displayName": "DSS DSS",
      "userId": "17636620013329168760"
     },
     "user_tz": -330
    },
    "id": "63e51cda"
   },
   "outputs": [],
   "source": [
    "class Car:\n",
    "    def __init__(self, make, model):\n",
    "        self.make = make\n",
    "        self.model = model\n",
    "\n",
    "    def start_engine(self):\n",
    "        print(f\"{self.make} {self.model} engine started.\")\n",
    "\n",
    "    def drive(self):\n",
    "        print(f\"{self.make} {self.model} is driving.\")\n"
   ]
  },
  {
   "cell_type": "markdown",
   "id": "52ce6206",
   "metadata": {
    "id": "52ce6206"
   },
   "source": [
    "- abstract classes and interfaces to create a blueprint for classes without providing complete implementations.\n",
    "- Abstract classes cannot be instantiated directly but serve as a foundation for other classes that inherit from them.\n",
    "- Abstract methods defined in abstract classes act as placeholders and must be implemented in the subclasses.\n",
    "- Python provides a module named abc (Abstract Base Classes) to work with abstract classes and interfaces."
   ]
  },
  {
   "cell_type": "code",
   "execution_count": 265,
   "id": "9f28707d",
   "metadata": {
    "executionInfo": {
     "elapsed": 17,
     "status": "ok",
     "timestamp": 1690551265845,
     "user": {
      "displayName": "DSS DSS",
      "userId": "17636620013329168760"
     },
     "user_tz": -330
    },
    "id": "9f28707d"
   },
   "outputs": [],
   "source": [
    "from abc import ABC, abstractmethod\n",
    "\n",
    "# abstractclass\n",
    "class Shape(ABC):\n",
    "    @abstractmethod\n",
    "    def area(self):\n",
    "        pass\n",
    "\n",
    "class Circle(Shape):\n",
    "    def __init__(self, radius):\n",
    "        self.radius = radius\n",
    "\n",
    "    def area(self):\n",
    "        return 3.14 * self.radius ** 2\n",
    "\n",
    "class Rectangle(Shape):\n",
    "    def __init__(self, length, width):\n",
    "        self.length = length\n",
    "        self.width = width\n",
    "\n",
    "    def area(self):\n",
    "        return self.length * self.width\n",
    "\n",
    "class Square(Shape):\n",
    "    pass"
   ]
  },
  {
   "cell_type": "code",
   "execution_count": 266,
   "id": "d8585b97",
   "metadata": {
    "colab": {
     "base_uri": "https://localhost:8080/"
    },
    "executionInfo": {
     "elapsed": 17,
     "status": "ok",
     "timestamp": 1690551265845,
     "user": {
      "displayName": "DSS DSS",
      "userId": "17636620013329168760"
     },
     "user_tz": -330
    },
    "id": "d8585b97",
    "outputId": "bb7fb4f5-a938-49af-a795-4e92cc9784a6"
   },
   "outputs": [
    {
     "name": "stdout",
     "output_type": "stream",
     "text": [
      "50.24 12\n"
     ]
    }
   ],
   "source": [
    "# s = Shape() # TypeError: Can't instantiate abstract class Shape with abstract method area\n",
    "c = Circle(4)\n",
    "r = Rectangle(4,3)\n",
    "print(c.area(), r.area())\n",
    "# sq = Square() # TypeError: Can't instantiate abstract class Square with abstract method area"
   ]
  },
  {
   "cell_type": "code",
   "execution_count": 267,
   "id": "e3b22880",
   "metadata": {
    "colab": {
     "base_uri": "https://localhost:8080/"
    },
    "executionInfo": {
     "elapsed": 9,
     "status": "ok",
     "timestamp": 1690551265845,
     "user": {
      "displayName": "DSS DSS",
      "userId": "17636620013329168760"
     },
     "user_tz": -330
    },
    "id": "e3b22880",
    "outputId": "686e8221-537a-435a-e0c6-dc21b8c22d96"
   },
   "outputs": [
    {
     "name": "stdout",
     "output_type": "stream",
     "text": [
      "Circle area: 78.5\n",
      "Rectangle area: 30\n",
      "Filled blue circle area: 28.26\n"
     ]
    }
   ],
   "source": [
    "# abstraction using design patterns like Factory and Strategy patterns with multiple inheritance\n",
    "\n",
    "from abc import ABC, abstractmethod\n",
    "\n",
    "# Factory Pattern\n",
    "class ShapeFactory:\n",
    "    @staticmethod\n",
    "    def create_shape(shape_type):\n",
    "        if shape_type == \"circle\":\n",
    "            return Circle()\n",
    "        elif shape_type == \"rectangle\":\n",
    "            return Rectangle()\n",
    "\n",
    "# Strategy Pattern\n",
    "class AreaCalculation(ABC):\n",
    "    @abstractmethod\n",
    "    def calculate_area(self):\n",
    "        pass\n",
    "\n",
    "class Circle(AreaCalculation):\n",
    "    def calculate_area(self):\n",
    "        return 3.14 * self.radius ** 2\n",
    "\n",
    "class Rectangle(AreaCalculation):\n",
    "    def calculate_area(self):\n",
    "        return self.length * self.width\n",
    "\n",
    "# Multiple Inheritance\n",
    "# It is not an ABC, so it can be mixed with any other class,\n",
    "# including concrete classes and ABCs.\n",
    "class ColorMixin:\n",
    "    def __init__(self, color):\n",
    "        self.color = color\n",
    "\n",
    "class FilledShape(Circle, ColorMixin):\n",
    "    def __init__(self, radius, color):\n",
    "        Circle.__init__(self)\n",
    "        ColorMixin.__init__(self, color)\n",
    "        self.radius = radius\n",
    "\n",
    "    def display(self):\n",
    "        print(f\"Filled {self.color} circle area: {self.calculate_area()}\")\n",
    "\n",
    "shape = ShapeFactory.create_shape(\"circle\")\n",
    "shape.radius = 5\n",
    "print(\"Circle area:\", shape.calculate_area())\n",
    "\n",
    "\n",
    "shape = ShapeFactory.create_shape(\"rectangle\")\n",
    "shape.length = 5\n",
    "shape.width = 6\n",
    "print(\"Rectangle area:\", shape.calculate_area())\n",
    "\n",
    "\n",
    "filled_circle = FilledShape(radius=3, color=\"blue\")\n",
    "filled_circle.display()"
   ]
  },
  {
   "cell_type": "markdown",
   "id": "5d05b064",
   "metadata": {
    "id": "5d05b064"
   },
   "source": [
    "- The Factory pattern abstracts the process of object creation\n",
    "- The Strategy pattern abstracts the algorithm for area calculation\n",
    "- Multiple inheritance with mixins abstracts the addition of color functionality to shapes"
   ]
  },
  {
   "cell_type": "markdown",
   "id": "6f87e3a8",
   "metadata": {
    "id": "6f87e3a8"
   },
   "source": [
    "### exception handling"
   ]
  },
  {
   "cell_type": "markdown",
   "id": "f385e2ba",
   "metadata": {
    "id": "f385e2ba"
   },
   "source": [
    "- The try block lets you test a block of code for errors.\n",
    "- The except block lets you handle the error.\n",
    "- The else block lets you execute code when there is no error.\n",
    "- The finally block lets you execute code, regardless of the result of the try- and except blocks."
   ]
  },
  {
   "cell_type": "code",
   "execution_count": 268,
   "id": "2c5bbb34",
   "metadata": {
    "executionInfo": {
     "elapsed": 6,
     "status": "ok",
     "timestamp": 1690551265845,
     "user": {
      "displayName": "DSS DSS",
      "userId": "17636620013329168760"
     },
     "user_tz": -330
    },
    "id": "2c5bbb34"
   },
   "outputs": [],
   "source": [
    "# print(bb) # NameError: name 'bb' is not defined\n",
    "# print(\"end\") # not executed because of above line error"
   ]
  },
  {
   "cell_type": "code",
   "execution_count": 269,
   "id": "dcbefabf",
   "metadata": {
    "colab": {
     "base_uri": "https://localhost:8080/"
    },
    "executionInfo": {
     "elapsed": 7968,
     "status": "ok",
     "timestamp": 1690551273807,
     "user": {
      "displayName": "DSS DSS",
      "userId": "17636620013329168760"
     },
     "user_tz": -330
    },
    "id": "dcbefabf",
    "outputId": "ced564d5-27ce-4bd8-b3a5-489f47210394"
   },
   "outputs": [
    {
     "name": "stdout",
     "output_type": "stream",
     "text": [
      "Enter a dividend: 5\n",
      "Enter a divisor: 1\n",
      "Result of division: 5.0\n",
      "Nested try block's finally executed.\n",
      "Finally block executed.\n"
     ]
    }
   ],
   "source": [
    "def division_example():\n",
    "    try:\n",
    "        x = int(input(\"Enter a dividend: \")) # 5\n",
    "        y = int(input(\"Enter a divisor: \")) # 1\n",
    "        result = x / y\n",
    "    except ValueError:\n",
    "        print(\"Invalid input. Please enter valid integer values.\")\n",
    "    except ZeroDivisionError:\n",
    "        print(\"Cannot divide by zero. Please enter a non-zero divisor.\")\n",
    "    else:\n",
    "        try:\n",
    "            if result > 10:\n",
    "                raise ValueError(\"Result is greater than 10.\")\n",
    "        except ValueError as ve:\n",
    "            print(f\"ValueError: {ve}\")\n",
    "        else:\n",
    "            print(f\"Result of division: {result}\")\n",
    "        finally:\n",
    "            print(\"Nested try block's finally executed.\")\n",
    "    finally:\n",
    "        print(\"Finally block executed.\")\n",
    "\n",
    "\n",
    "division_example()"
   ]
  },
  {
   "cell_type": "code",
   "execution_count": 270,
   "id": "f351dd82",
   "metadata": {
    "colab": {
     "base_uri": "https://localhost:8080/"
    },
    "executionInfo": {
     "elapsed": 5704,
     "status": "ok",
     "timestamp": 1690551279492,
     "user": {
      "displayName": "DSS DSS",
      "userId": "17636620013329168760"
     },
     "user_tz": -330
    },
    "id": "f351dd82",
    "outputId": "c86284e6-b2d3-45a3-b4a1-b3b7d36ea14a"
   },
   "outputs": [
    {
     "name": "stdout",
     "output_type": "stream",
     "text": [
      "Enter a dividend: 5\n",
      "Enter a divisor: 0\n",
      "Cannot divide by zero. Please enter a non-zero divisor.\n",
      "Finally block executed.\n"
     ]
    }
   ],
   "source": [
    "def division_example():\n",
    "    try:\n",
    "        x = int(input(\"Enter a dividend: \")) # 5\n",
    "        y = int(input(\"Enter a divisor: \")) # 0\n",
    "        result = x / y\n",
    "    except ValueError:\n",
    "        print(\"Invalid input. Please enter valid integer values.\")\n",
    "    except ZeroDivisionError:\n",
    "        print(\"Cannot divide by zero. Please enter a non-zero divisor.\")\n",
    "    else:\n",
    "        try:\n",
    "            if result > 10:\n",
    "                raise ValueError(\"Result is greater than 10.\")\n",
    "        except ValueError as ve:\n",
    "            print(f\"ValueError: {ve}\")\n",
    "        else:\n",
    "            print(f\"Result of division: {result}\")\n",
    "        finally:\n",
    "            print(\"Nested try block's finally executed.\")\n",
    "    finally:\n",
    "        print(\"Finally block executed.\")\n",
    "\n",
    "\n",
    "division_example()"
   ]
  },
  {
   "cell_type": "code",
   "execution_count": 271,
   "id": "b514d334",
   "metadata": {
    "colab": {
     "base_uri": "https://localhost:8080/"
    },
    "executionInfo": {
     "elapsed": 5665,
     "status": "ok",
     "timestamp": 1690551285137,
     "user": {
      "displayName": "DSS DSS",
      "userId": "17636620013329168760"
     },
     "user_tz": -330
    },
    "id": "b514d334",
    "outputId": "a3fabda2-efdc-4c20-d151-ef8e046bb1d7"
   },
   "outputs": [
    {
     "name": "stdout",
     "output_type": "stream",
     "text": [
      "Enter a dividend: 20\n",
      "Enter a divisor: 1\n",
      "ValueError: Result is greater than 10.\n",
      "Nested try block's finally executed.\n",
      "Finally block executed.\n"
     ]
    }
   ],
   "source": [
    "def division_example():\n",
    "    try:\n",
    "        x = int(input(\"Enter a dividend: \")) # 20\n",
    "        y = int(input(\"Enter a divisor: \")) # 1\n",
    "        result = x / y\n",
    "    except ValueError:\n",
    "        print(\"Invalid input. Please enter valid integer values.\")\n",
    "    except ZeroDivisionError:\n",
    "        print(\"Cannot divide by zero. Please enter a non-zero divisor.\")\n",
    "    else:\n",
    "        try:\n",
    "            if result > 10:\n",
    "                raise ValueError(\"Result is greater than 10.\")\n",
    "        except ValueError as ve:\n",
    "            print(f\"ValueError: {ve}\")\n",
    "        else:\n",
    "            print(f\"Result of division: {result}\")\n",
    "        finally:\n",
    "            print(\"Nested try block's finally executed.\")\n",
    "    finally:\n",
    "        print(\"Finally block executed.\")\n",
    "\n",
    "\n",
    "division_example()"
   ]
  },
  {
   "cell_type": "markdown",
   "id": "baaf7977",
   "metadata": {
    "id": "baaf7977"
   },
   "source": [
    "#### application of exception handling"
   ]
  },
  {
   "cell_type": "markdown",
   "id": "44b1e8c3",
   "metadata": {
    "id": "44b1e8c3"
   },
   "source": [
    "**1. data inpiut validation**"
   ]
  },
  {
   "cell_type": "code",
   "execution_count": 272,
   "id": "6f40da94",
   "metadata": {
    "colab": {
     "base_uri": "https://localhost:8080/"
    },
    "executionInfo": {
     "elapsed": 4022,
     "status": "ok",
     "timestamp": 1690551289147,
     "user": {
      "displayName": "DSS DSS",
      "userId": "17636620013329168760"
     },
     "user_tz": -330
    },
    "id": "6f40da94",
    "outputId": "da8f578d-f23a-4291-d877-32f7e902ff53"
   },
   "outputs": [
    {
     "name": "stdout",
     "output_type": "stream",
     "text": [
      "Enter your age: -2\n",
      "Invalid input: Age cannot be negative.\n"
     ]
    }
   ],
   "source": [
    "try:\n",
    "    age = int(input(\"Enter your age: \")) # -2\n",
    "    if age < 0:\n",
    "        raise ValueError(\"Age cannot be negative.\")\n",
    "except ValueError as ve:\n",
    "    print(f\"Invalid input: {ve}\")\n",
    "else:\n",
    "    print(\"Age entered:\", age)\n"
   ]
  },
  {
   "cell_type": "code",
   "execution_count": 273,
   "id": "a513ae49",
   "metadata": {
    "colab": {
     "base_uri": "https://localhost:8080/"
    },
    "executionInfo": {
     "elapsed": 5520,
     "status": "ok",
     "timestamp": 1690551294647,
     "user": {
      "displayName": "DSS DSS",
      "userId": "17636620013329168760"
     },
     "user_tz": -330
    },
    "id": "a513ae49",
    "outputId": "bffe0f10-2faf-4a96-a716-454b28bd5f14"
   },
   "outputs": [
    {
     "name": "stdout",
     "output_type": "stream",
     "text": [
      "Enter your age: 25\n",
      "Age entered: 25\n"
     ]
    }
   ],
   "source": [
    "try:\n",
    "    age = int(input(\"Enter your age: \")) # 25\n",
    "    if age < 0:\n",
    "        raise ValueError(\"Age cannot be negative.\")\n",
    "except ValueError as ve:\n",
    "    print(f\"Invalid input: {ve}\")\n",
    "else:\n",
    "    print(\"Age entered:\", age)\n"
   ]
  },
  {
   "cell_type": "markdown",
   "id": "56a8e911",
   "metadata": {
    "id": "56a8e911"
   },
   "source": [
    "**2. DB connection with cleanup**"
   ]
  },
  {
   "cell_type": "code",
   "execution_count": 1,
   "id": "2b34b1a5",
   "metadata": {
    "colab": {
     "base_uri": "https://localhost:8080/",
     "height": 373
    },
    "executionInfo": {
     "elapsed": 19,
     "status": "error",
     "timestamp": 1690551294648,
     "user": {
      "displayName": "DSS DSS",
      "userId": "17636620013329168760"
     },
     "user_tz": -330
    },
    "id": "2b34b1a5",
    "outputId": "af7a3cae-9f39-4f0a-bf11-5a3a47c69183"
   },
   "outputs": [
    {
     "name": "stdout",
     "output_type": "stream",
     "text": [
      "Employee Data:\n",
      "(1, 'John Doe', 'HR', Decimal('50000.00'))\n",
      "(2, 'Jane Smith', 'Finance', Decimal('60000.50'))\n",
      "(3, 'Michael Johnson', 'IT', Decimal('75000.75'))\n",
      "All database operations were successful.\n"
     ]
    }
   ],
   "source": [
    "import mysql.connector\n",
    "\n",
    "# Replace these with your actual database credentials\n",
    "HOST = '127.0.0.1'\n",
    "USERNAME = 'root'\n",
    "PASSWORD = 'root'\n",
    "DATABASE = 'pythontestdb'\n",
    "\n",
    "try:\n",
    "    # Establishing the connection\n",
    "    conn = mysql.connector.connect(\n",
    "        host=HOST,\n",
    "        user=USERNAME,\n",
    "        password=PASSWORD,\n",
    "        database=DATABASE\n",
    "    )\n",
    "\n",
    "    # Creating a cursor to execute SQL queries\n",
    "    cursor = conn.cursor()\n",
    "\n",
    "    # SQL query to drop the \"employee\" table if it exists\n",
    "    drop_table_query = \"\"\"\n",
    "    DROP TABLE IF EXISTS employee;\n",
    "    \"\"\"\n",
    "\n",
    "    # Executing the query to drop the table if it exists\n",
    "    cursor.execute(drop_table_query)\n",
    "\n",
    "    # SQL query to create the \"employee\" table\n",
    "    create_table_query = \"\"\"\n",
    "    CREATE TABLE employee (\n",
    "        emp_id INT PRIMARY KEY,\n",
    "        emp_name VARCHAR(100),\n",
    "        emp_department VARCHAR(100),\n",
    "        emp_salary DECIMAL(10, 2)\n",
    "    );\n",
    "    \"\"\"\n",
    "\n",
    "    # Executing the query to create the table\n",
    "    cursor.execute(create_table_query)\n",
    "\n",
    "    # SQL query to insert data into the \"employee\" table\n",
    "    insert_data_query = \"\"\"\n",
    "    INSERT INTO employee (emp_id, emp_name, emp_department, emp_salary)\n",
    "    VALUES (%s, %s, %s, %s)\n",
    "    \"\"\"\n",
    "\n",
    "    # Sample data to insert into the table\n",
    "    employee_data = [\n",
    "        (1, 'John Doe', 'HR', 50000.00),\n",
    "        (2, 'Jane Smith', 'Finance', 60000.50),\n",
    "        (3, 'Michael Johnson', 'IT', 75000.75),\n",
    "    ]\n",
    "\n",
    "    # Executing the query to insert data into the table\n",
    "    cursor.executemany(insert_data_query, employee_data)\n",
    "\n",
    "    # Committing the changes to the database\n",
    "    conn.commit()\n",
    "\n",
    "    # SQL query to retrieve data from the \"employee\" table\n",
    "    select_data_query = \"\"\"\n",
    "    SELECT * FROM employee;\n",
    "    \"\"\"\n",
    "\n",
    "    # Executing the query to retrieve data from the table\n",
    "    cursor.execute(select_data_query)\n",
    "\n",
    "    # Fetching all the data from the table\n",
    "    result = cursor.fetchall()\n",
    "\n",
    "    # Displaying the retrieved data\n",
    "    print(\"Employee Data:\")\n",
    "    for row in result:\n",
    "        print(row)\n",
    "\n",
    "except mysql.connector.Error as e:\n",
    "    print(\"Error:\", e)\n",
    "    # Additional error handling logic can be added here\n",
    "\n",
    "else:\n",
    "    print(\"All database operations were successful.\")\n",
    "\n",
    "finally:\n",
    "    # Closing the cursor and the connection\n",
    "    if 'cursor' in locals() and cursor:\n",
    "        cursor.close()\n",
    "    if 'conn' in locals() and conn.is_connected():\n",
    "        conn.close()\n"
   ]
  },
  {
   "cell_type": "code",
   "execution_count": 2,
   "id": "d9e583e7",
   "metadata": {
    "executionInfo": {
     "elapsed": 8,
     "status": "aborted",
     "timestamp": 1690551294649,
     "user": {
      "displayName": "DSS DSS",
      "userId": "17636620013329168760"
     },
     "user_tz": -330
    },
    "id": "d9e583e7"
   },
   "outputs": [
    {
     "name": "stdout",
     "output_type": "stream",
     "text": [
      "IntegrityError: 1062 (23000): Duplicate entry '1' for key 'employee.PRIMARY'\n",
      "Error: 1062 (23000): Duplicate entry '1' for key 'employee.PRIMARY'\n"
     ]
    }
   ],
   "source": [
    "import mysql.connector\n",
    "\n",
    "# Replace these with your actual database credentials\n",
    "HOST = '127.0.0.1'\n",
    "USERNAME = 'root'\n",
    "PASSWORD = 'root'\n",
    "DATABASE = 'pythontestdb'\n",
    "\n",
    "try:\n",
    "    # Establishing the connection\n",
    "    conn = mysql.connector.connect(\n",
    "        host=HOST,\n",
    "        user=USERNAME,\n",
    "        password=PASSWORD,\n",
    "        database=DATABASE\n",
    "    )\n",
    "\n",
    "    # Creating a cursor to execute SQL queries\n",
    "    cursor = conn.cursor()\n",
    "\n",
    "    # SQL query to drop the \"employee\" table if it exists\n",
    "    drop_table_query = \"\"\"\n",
    "    DROP TABLE IF EXISTS employee;\n",
    "    \"\"\"\n",
    "\n",
    "    # Executing the query to drop the table if it exists\n",
    "    cursor.execute(drop_table_query)\n",
    "\n",
    "    # SQL query to create the \"employee\" table\n",
    "    create_table_query = \"\"\"\n",
    "    CREATE TABLE employee (\n",
    "        emp_id INT PRIMARY KEY,\n",
    "        emp_name VARCHAR(100),\n",
    "        emp_department VARCHAR(100),\n",
    "        emp_salary DECIMAL(10, 2)\n",
    "    );\n",
    "    \"\"\"\n",
    "\n",
    "    # Executing the query to create the table\n",
    "    cursor.execute(create_table_query)\n",
    "\n",
    "    # SQL query to insert data into the \"employee\" table\n",
    "    insert_data_query = \"\"\"\n",
    "    INSERT INTO employee (emp_id, emp_name, emp_department, emp_salary)\n",
    "    VALUES (%s, %s, %s, %s)\n",
    "    \"\"\"\n",
    "\n",
    "    # Sample data to insert into the table\n",
    "    employee_data = [\n",
    "        (1, 'John Doe', 'HR', 50000.00),\n",
    "        (2, 'Jane Smith', 'Finance', 60000.50),\n",
    "        (3, 'Michael Johnson', 'IT', 75000.75),\n",
    "    ]\n",
    "\n",
    "    # Executing the query to insert data into the table\n",
    "    cursor.executemany(insert_data_query, employee_data)\n",
    "\n",
    "    # Trying to insert duplicate primary key (emp_id) to raise an IntegrityError\n",
    "    try:\n",
    "        cursor.execute(insert_data_query, (1, 'Duplicate Employee', 'Duplicate Dept', 100000.00))\n",
    "    except mysql.connector.errors.IntegrityError as e:\n",
    "        print(\"IntegrityError:\", e)\n",
    "        raise # re-raises exceptionpropagating it up the call stack to be handled by outer except\n",
    "\n",
    "    # Committing the changes to the database\n",
    "    conn.commit()\n",
    "\n",
    "    # SQL query to retrieve data from the \"employee\" table\n",
    "    select_data_query = \"\"\"\n",
    "    SELECT * FROM employee;\n",
    "    \"\"\"\n",
    "\n",
    "    # Executing the query to retrieve data from the table\n",
    "    cursor.execute(select_data_query)\n",
    "\n",
    "    # Fetching all the data from the table\n",
    "    result = cursor.fetchall()\n",
    "\n",
    "    # Displaying the retrieved data\n",
    "    print(\"Employee Data:\")\n",
    "    for row in result:\n",
    "        print(row)\n",
    "\n",
    "except mysql.connector.Error as e:\n",
    "    print(\"Error:\", e)\n",
    "    # Additional error handling logic can be added here\n",
    "\n",
    "else:\n",
    "    print(\"All database operations were successful.\")\n",
    "\n",
    "finally:\n",
    "    # Closing the cursor and the connection\n",
    "    if 'cursor' in locals() and cursor:\n",
    "        cursor.close()\n",
    "    if 'conn' in locals() and conn.is_connected():\n",
    "        conn.close()\n"
   ]
  },
  {
   "cell_type": "markdown",
   "id": "b4c603aa",
   "metadata": {
    "id": "b4c603aa"
   },
   "source": [
    "**3. Custom Exception for Business Logic**"
   ]
  },
  {
   "cell_type": "code",
   "execution_count": 3,
   "id": "51ed9fd8",
   "metadata": {
    "executionInfo": {
     "elapsed": 8,
     "status": "aborted",
     "timestamp": 1690551294649,
     "user": {
      "displayName": "DSS DSS",
      "userId": "17636620013329168760"
     },
     "user_tz": -330
    },
    "id": "51ed9fd8"
   },
   "outputs": [
    {
     "name": "stdout",
     "output_type": "stream",
     "text": [
      "Withdrawal successful.\n"
     ]
    }
   ],
   "source": [
    "class InsufficientFundsError(Exception):\n",
    "    pass\n",
    "\n",
    "def withdraw(amount, balance):\n",
    "    try:\n",
    "        if amount > balance:\n",
    "            raise InsufficientFundsError(\"Insufficient funds for withdrawal.\")\n",
    "    except InsufficientFundsError as e:\n",
    "        print(f\"Error: {e}\")\n",
    "        # Some additional handling logic here\n",
    "        raise\n",
    "    else:\n",
    "        print(\"Withdrawal successful.\")\n",
    "\n",
    "# withdraw(10000,5000) # InsufficientFundsError: Insufficient funds for withdrawal.\n",
    "withdraw(1000,5000)"
   ]
  },
  {
   "cell_type": "markdown",
   "id": "130b07d8",
   "metadata": {
    "id": "130b07d8"
   },
   "source": [
    "## Modules"
   ]
  },
  {
   "cell_type": "markdown",
   "id": "57cbc1c1",
   "metadata": {
    "id": "62c1ce79"
   },
   "source": [
    "**NOTE:** if error please restart the kernal and try again"
   ]
  },
  {
   "cell_type": "code",
   "execution_count": 4,
   "id": "877d5934",
   "metadata": {
    "id": "5170396a"
   },
   "outputs": [],
   "source": [
    "# create a file in the current directory\n",
    "# mymodule.py\n",
    "\n",
    "# def greeting(name):\n",
    "#     print(\"Hello, \" + name)"
   ]
  },
  {
   "cell_type": "code",
   "execution_count": 6,
   "id": "65ff3d3e",
   "metadata": {
    "executionInfo": {
     "elapsed": 8,
     "status": "aborted",
     "timestamp": 1690551294649,
     "user": {
      "displayName": "DSS DSS",
      "userId": "17636620013329168760"
     },
     "user_tz": -330
    },
    "id": "65ff3d3e"
   },
   "outputs": [],
   "source": [
    "with open('mymodule.py', 'w+') as file1:\n",
    "    file1.write('''def greetings(name):\n",
    "    print(\"Hello, \" + name)''')"
   ]
  },
  {
   "cell_type": "code",
   "execution_count": 7,
   "id": "9b45a4fd",
   "metadata": {
    "executionInfo": {
     "elapsed": 8,
     "status": "aborted",
     "timestamp": 1690551294649,
     "user": {
      "displayName": "DSS DSS",
      "userId": "17636620013329168760"
     },
     "user_tz": -330
    },
    "id": "9b45a4fd"
   },
   "outputs": [
    {
     "name": "stdout",
     "output_type": "stream",
     "text": [
      "Hello, tony\n"
     ]
    }
   ],
   "source": [
    "import mymodule\n",
    "mymodule.greetings(\"tony\")"
   ]
  },
  {
   "cell_type": "code",
   "execution_count": 8,
   "id": "1f410f72",
   "metadata": {
    "executionInfo": {
     "elapsed": 9,
     "status": "aborted",
     "timestamp": 1690551294650,
     "user": {
      "displayName": "DSS DSS",
      "userId": "17636620013329168760"
     },
     "user_tz": -330
    },
    "id": "1f410f72"
   },
   "outputs": [
    {
     "data": {
      "text/plain": [
       "25"
      ]
     },
     "execution_count": 8,
     "metadata": {},
     "output_type": "execute_result"
    }
   ],
   "source": [
    "# setting variables in module\n",
    "setattr(mymodule, 'person1', {'name': 'tony', 'age':25})\n",
    "mymodule.person1[\"age\"]"
   ]
  },
  {
   "cell_type": "code",
   "execution_count": 9,
   "id": "a63da650",
   "metadata": {
    "executionInfo": {
     "elapsed": 9,
     "status": "aborted",
     "timestamp": 1690551294650,
     "user": {
      "displayName": "DSS DSS",
      "userId": "17636620013329168760"
     },
     "user_tz": -330
    },
    "id": "a63da650"
   },
   "outputs": [
    {
     "name": "stdout",
     "output_type": "stream",
     "text": [
      "25\n"
     ]
    }
   ],
   "source": [
    "import mymodule as mx # alias\n",
    "\n",
    "a = mx.person1[\"age\"]\n",
    "print(a)"
   ]
  },
  {
   "cell_type": "code",
   "execution_count": 10,
   "id": "341938a2",
   "metadata": {
    "executionInfo": {
     "elapsed": 9,
     "status": "aborted",
     "timestamp": 1690551294650,
     "user": {
      "displayName": "DSS DSS",
      "userId": "17636620013329168760"
     },
     "user_tz": -330
    },
    "id": "341938a2"
   },
   "outputs": [
    {
     "name": "stdout",
     "output_type": "stream",
     "text": [
      "Hello, john\n"
     ]
    }
   ],
   "source": [
    "# directly import functions in the module\n",
    "from mymodule import greetings\n",
    "greetings('john')"
   ]
  },
  {
   "cell_type": "code",
   "execution_count": 11,
   "id": "2e3ff567",
   "metadata": {
    "executionInfo": {
     "elapsed": 8,
     "status": "aborted",
     "timestamp": 1690551294650,
     "user": {
      "displayName": "DSS DSS",
      "userId": "17636620013329168760"
     },
     "user_tz": -330
    },
    "id": "2e3ff567"
   },
   "outputs": [
    {
     "name": "stdout",
     "output_type": "stream",
     "text": [
      "Windows\n"
     ]
    }
   ],
   "source": [
    "# example of built-in module\n",
    "import platform\n",
    "\n",
    "x = platform.system()\n",
    "print(x)"
   ]
  },
  {
   "cell_type": "code",
   "execution_count": 12,
   "id": "76184194",
   "metadata": {
    "executionInfo": {
     "elapsed": 8,
     "status": "aborted",
     "timestamp": 1690551294650,
     "user": {
      "displayName": "DSS DSS",
      "userId": "17636620013329168760"
     },
     "user_tz": -330
    },
    "id": "76184194"
   },
   "outputs": [],
   "source": [
    "import os\n",
    "os.remove(\"mymodule.py\")"
   ]
  },
  {
   "cell_type": "code",
   "execution_count": 13,
   "id": "b3dcdd07",
   "metadata": {
    "executionInfo": {
     "elapsed": 8,
     "status": "aborted",
     "timestamp": 1690551294650,
     "user": {
      "displayName": "DSS DSS",
      "userId": "17636620013329168760"
     },
     "user_tz": -330
    },
    "id": "b3dcdd07"
   },
   "outputs": [
    {
     "name": "stdout",
     "output_type": "stream",
     "text": [
      "Hello, Adarsh\n"
     ]
    }
   ],
   "source": [
    "mymodule.greetings('Adarsh')"
   ]
  },
  {
   "cell_type": "markdown",
   "id": "0725cdaf",
   "metadata": {
    "id": "0725cdaf"
   },
   "source": [
    "## Packages"
   ]
  },
  {
   "cell_type": "markdown",
   "id": "b354a150",
   "metadata": {
    "id": "3cc0e544"
   },
   "source": [
    "**Note:** Restart kernel if error"
   ]
  },
  {
   "cell_type": "code",
   "execution_count": 14,
   "id": "f8b51e3b",
   "metadata": {
    "executionInfo": {
     "elapsed": 9,
     "status": "aborted",
     "timestamp": 1690551294651,
     "user": {
      "displayName": "DSS DSS",
      "userId": "17636620013329168760"
     },
     "user_tz": -330
    },
    "id": "f8b51e3b"
   },
   "outputs": [
    {
     "name": "stdout",
     "output_type": "stream",
     "text": [
      "G:\\my drive\\Repo\n"
     ]
    }
   ],
   "source": [
    "# creaitng package\n",
    "import os\n",
    "import sys\n",
    "\n",
    "# Define the package name and module names\n",
    "package_name = 'mypackage'\n",
    "module1_name = 'module1'\n",
    "module2_name = 'module2'\n",
    "\n",
    "# Create the package directory\n",
    "# Check if the package directory exists, if not, create it\n",
    "if not os.path.exists(package_name):\n",
    "    os.makedirs(package_name)\n",
    "\n",
    "# Add an __init__.py file to make it a Python package\n",
    "package_init_file = os.path.join(package_name, '__init__.py')\n",
    "if not os.path.exists(package_init_file):\n",
    "    open(package_init_file, 'a').close()\n",
    "\n",
    "# Add content to module1.py\n",
    "module1_content = '''def function_in_module1():\n",
    "    print(\"This is function_in_module1\")\n",
    "'''\n",
    "module1_file = os.path.join(package_name, f'{module1_name}.py')\n",
    "if not os.path.exists(module1_file):\n",
    "    with open(module1_file, 'w') as f:\n",
    "        f.write(module1_content)\n",
    "\n",
    "# Add content to module2.py\n",
    "module2_content = '''def function_in_module2():\n",
    "    print(\"This is function_in_module2\")\n",
    "'''\n",
    "module2_file = os.path.join(package_name, f'{module2_name}.py')\n",
    "if not os.path.exists(module2_file):\n",
    "    with open(module2_file, 'w') as f:\n",
    "        f.write(module2_content)\n",
    "\n",
    "# Add the package directory to the Python path\n",
    "current_directory = os.getcwd()\n",
    "print(current_directory)\n",
    "package_path = os.path.join(current_directory, package_name)\n",
    "sys.path.append(package_path)"
   ]
  },
  {
   "cell_type": "code",
   "execution_count": 15,
   "id": "7e5fd05e",
   "metadata": {
    "executionInfo": {
     "elapsed": 9,
     "status": "aborted",
     "timestamp": 1690551294651,
     "user": {
      "displayName": "DSS DSS",
      "userId": "17636620013329168760"
     },
     "user_tz": -330
    },
    "id": "7e5fd05e"
   },
   "outputs": [
    {
     "name": "stdout",
     "output_type": "stream",
     "text": [
      "This is function_in_module1\n"
     ]
    }
   ],
   "source": [
    "# Now you can import and use the modules\n",
    "from mypackage import module1\n",
    "\n",
    "module1.function_in_module1()"
   ]
  },
  {
   "cell_type": "code",
   "execution_count": 16,
   "id": "336cb033",
   "metadata": {
    "executionInfo": {
     "elapsed": 9,
     "status": "aborted",
     "timestamp": 1690551294651,
     "user": {
      "displayName": "DSS DSS",
      "userId": "17636620013329168760"
     },
     "user_tz": -330
    },
    "id": "336cb033"
   },
   "outputs": [
    {
     "name": "stdout",
     "output_type": "stream",
     "text": [
      "This is function_in_module2\n"
     ]
    }
   ],
   "source": [
    "# Now you can import and use the modules\n",
    "from mypackage.module2 import function_in_module2 as m2\n",
    "\n",
    "m2()"
   ]
  },
  {
   "cell_type": "code",
   "execution_count": 17,
   "id": "c314c2f6",
   "metadata": {
    "executionInfo": {
     "elapsed": 9,
     "status": "aborted",
     "timestamp": 1690551294651,
     "user": {
      "displayName": "DSS DSS",
      "userId": "17636620013329168760"
     },
     "user_tz": -330
    },
    "id": "c314c2f6"
   },
   "outputs": [],
   "source": [
    "# os.rmdir('mypackage') # OSError: [WinError 145] The directory is not empty: 'mypackage'"
   ]
  },
  {
   "cell_type": "code",
   "execution_count": 18,
   "id": "193dbe3f",
   "metadata": {
    "executionInfo": {
     "elapsed": 9,
     "status": "aborted",
     "timestamp": 1690551294651,
     "user": {
      "displayName": "DSS DSS",
      "userId": "17636620013329168760"
     },
     "user_tz": -330
    },
    "id": "193dbe3f"
   },
   "outputs": [],
   "source": [
    "import shutil\n",
    "\n",
    "shutil.rmtree('mypackage')"
   ]
  }
 ],
 "metadata": {
  "colab": {
   "provenance": [],
   "toc_visible": true
  },
  "kernelspec": {
   "display_name": "Python 3 (ipykernel)",
   "language": "python",
   "name": "python3"
  },
  "language_info": {
   "codemirror_mode": {
    "name": "ipython",
    "version": 3
   },
   "file_extension": ".py",
   "mimetype": "text/x-python",
   "name": "python",
   "nbconvert_exporter": "python",
   "pygments_lexer": "ipython3",
   "version": "3.9.16"
  }
 },
 "nbformat": 4,
 "nbformat_minor": 5
}
