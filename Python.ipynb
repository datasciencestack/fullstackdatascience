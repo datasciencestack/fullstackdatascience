{
 "cells": [
  {
   "cell_type": "markdown",
   "id": "a3c44d32",
   "metadata": {
    "id": "Bac8T4TJZhEl"
   },
   "source": [
    "## Introduction"
   ]
  },
  {
   "cell_type": "markdown",
   "id": "e25fc3ad",
   "metadata": {
    "id": "nEIhF4aZzmVk"
   },
   "source": [
    "#### What is Python?\n",
    "\n",
    "- popular programming language\n",
    "- created by Guido van Rossum\n",
    "- released in 1991\n",
    "\n",
    "(He named it after the BBC comedy troupe Monty Python, of whom he is a huge fan)\n"
   ]
  },
  {
   "cell_type": "markdown",
   "id": "727684dd",
   "metadata": {
    "id": "86pgHbD0z6xE"
   },
   "source": [
    "#### Where is python used?\n",
    "\n",
    "- Netflix’s recommendation algorithm \n",
    "- software that controls self-driving cars\n",
    "\n",
    "**general-purpose language**\n",
    " - data science\n",
    " - software and web development\n",
    " - automation\n",
    " - calculator"
   ]
  },
  {
   "cell_type": "markdown",
   "id": "db527488",
   "metadata": {
    "id": "wPXpdj5a13oG"
   },
   "source": [
    "#### appllications of python\n",
    "\n",
    "1. Web Development \n",
    "    - frameworks: Django, Flask, Pyramid\n",
    "    - Achieve Security, scalability, convenience\n",
    "2. Game Development (interactive games) \n",
    "    - Civilization-IV, Disney’s Toontown Online, Vega Strike\n",
    "    - PySoy, a 3d game engine, PyGame library\n",
    "3. Machine Learning and Artificial Intelligence \n",
    "    - libraries: Pandas, Scikit-Learn, NumPy, Seaborn, MatplotLib\n",
    "4. Data Science and Data Visualization \n",
    "    - Data is money if you know how to extract relevant information which can help you take calculated risks and increase profits. \n",
    "    - You study the data you have, perform operations and extract the information required. \n",
    "    - Libraries such as Pandas, NumPy help you in extracting information \n",
    "5. Desktop GUI \n",
    "    - library Tinker for UI\n",
    "6. Web Scraping Applications \n",
    "    - website data for price comparision (https://www.91mobiles.com/), job listings, research and dev\n",
    "    - Lib BeautifulSoup\n",
    "7. Business Applications \n",
    "    - different from normal applications. e-commerce,ERP (enterprise resouce planning), healthcare\n",
    "    - Tryton platform\n",
    "8. Audio and Video Applications \n",
    "    - TimPlayer, CPlay applications are dev using python. \n",
    "    - better stability and perf in comparision with other media players\n",
    "9. CAD Applications \n",
    "    - mech engineering. Computer aided designing.\n",
    "10. Embedded Applications \n",
    "    - Py is based on C so used to create Embedded C software"
   ]
  },
  {
   "cell_type": "markdown",
   "id": "0f82405b",
   "metadata": {
    "id": "lfEXldr2toPl"
   },
   "source": [
    "**why python?**\n",
    "-  Software quality, \n",
    "-  developer productivity, \n",
    "-  program portability, \n",
    "-  support libraries,\n",
    "-  component integration, \n",
    "-  simple enjoyment"
   ]
  },
  {
   "cell_type": "markdown",
   "id": "a74a1f51",
   "metadata": {
    "id": "Lt9o3_5i5P2K"
   },
   "source": [
    "#### features: why only python?\n",
    "\n",
    "1. Free and open source\n",
    "2. Easy to code and easy to read\n",
    "3. OOP\n",
    "4. Easy to debug\n",
    "5. High level language (No need to manage memory)\n",
    "6. Portable or Platform independent\n",
    "7. Interpreted language (exec line by line.\n",
    " no compilation phase (hidden from user to avoid complexity)\n",
    " .pyc file contains compiled byte code\n",
    "Interpreter reads instructions line by line and generates output till the point the code is correct, the ease of debugging increases as it is easier to get information about the source point of error.)\n",
    "8. Large standard library\n",
    "9. Dynamically typed language (Dynamic mem alloc)\n",
    "10. Automatic memory management"
   ]
  },
  {
   "cell_type": "markdown",
   "id": "7db6c2fe",
   "metadata": {
    "id": "p-GpwRYJ8vcQ"
   },
   "source": [
    "#### python versions\n",
    "\n",
    "Find current version:\n",
    "\n",
    ">python --version\n",
    "\n",
    ">Python 3.10.8 (Oct. 11, 2022.)\n",
    "\n",
    "Python 3.x Version Release Date\n",
    "- 3.10 2021-10-04\n",
    "- 3.9 2020-10-05\n",
    "- 3.8 2019-10-14\n",
    "- 3.7 2018-06-27\n",
    "- 3.6 2016-12-23\n",
    "- 3.5 2015-09-13\n",
    "- 3.4 2014-03-17\n",
    "- 3.3 2012-09-29\n",
    "- 3.2 2011-02-20\n",
    "- 3.1 2009-06-26\n",
    "- 3.0 2008-12-03\n",
    "\n",
    "Python 2.x Version Release Date (Deprecated)\n",
    "- 2.7 2010-07-03\n",
    "- 2.6 2008-10-02\n",
    "- 2.5 2006-09-19\n",
    "- 2.4 2004-11-30\n",
    "- 2.3 2003-07-29\n",
    "- 2.2 2001-12-21\n",
    "- 2.1 2001-04-15\n",
    "- 2.0 2000-10-16"
   ]
  },
  {
   "cell_type": "markdown",
   "id": "b27ee26b",
   "metadata": {
    "id": "0j7MCBlI9jNv"
   },
   "source": [
    "#### output"
   ]
  },
  {
   "cell_type": "code",
   "execution_count": 1,
   "id": "a40d086b",
   "metadata": {
    "colab": {
     "base_uri": "https://localhost:8080/"
    },
    "id": "Xdbfu6LtZ7w9",
    "outputId": "e60a939a-d363-4656-b875-1bfb7bff5595"
   },
   "outputs": [
    {
     "name": "stdout",
     "output_type": "stream",
     "text": [
      "Hello, World!\n"
     ]
    }
   ],
   "source": [
    "print(\"Hello, World!\") # Run: ctrl+Enter or shft+Enter"
   ]
  },
  {
   "cell_type": "markdown",
   "id": "bb621d66",
   "metadata": {},
   "source": [
    "- shortcuts: a b x c v m y "
   ]
  },
  {
   "cell_type": "raw",
   "id": "7c569b00",
   "metadata": {},
   "source": [
    "Raw Sample code:\n",
    "\n",
    "print(\"Hello, World!\") \n",
    "print(\"Hello, World!\") \n",
    "print(\"Hello, World!\") \n",
    "\n",
    "if statement:\n",
    "\n",
    "if 2<3:\n",
    "    print(\"2<3\")"
   ]
  },
  {
   "cell_type": "markdown",
   "id": "b5e10b71",
   "metadata": {
    "id": "h4lpp8ocZkcw"
   },
   "source": [
    "#### python shell \n",
    "```\n",
    "C:\\Users\\Vishnupriya>python\n",
    "Python 3.10.8 (tags/v3.10.8:aaaf517, Oct 11 2022, 16:50:30) [MSC v.1933 64 bit (AMD64)] on win32\n",
    "Type \"help\", \"copyright\", \"credits\" or \"license\" for more information.\n",
    "\n",
    ">>> print('hello')\n",
    "hello\n",
    ">>> quit()\n",
    "```"
   ]
  },
  {
   "cell_type": "markdown",
   "id": "fb2e37ab",
   "metadata": {
    "id": "x_10S1F3uq8r"
   },
   "source": [
    "#### python is interpreted and compiled language\n",
    "\n",
    "- Compilation phase is hidden. \n",
    "- Python execution:\n",
    "  1. python script.py file is compiled using the command: (python -m py_compile script.py)\n",
    "  2. script.cpython-310.pyc file is generated (bytecode => platform independent representation)\n",
    "  3. script.cpython-310.pyc is saved in \\__pycache__ sub directory (depends on source changes and python versions)\n",
    "  4. bytecode of interactive mode code is never saved\n",
    "  5. bytecode is run by PVM - run time engine of python (python sample.cpython-310.pyc)\n",
    "  6. PVM execution is last step (even in interpreter mode)"
   ]
  },
  {
   "cell_type": "markdown",
   "id": "7c474f1e",
   "metadata": {
    "id": "7yFzm9Jpw_Y0"
   },
   "source": [
    "### python implementation alternatives\n",
    "\n",
    "- CPython (standard implementation - CPython Virtual Machine)\n",
    "- Jython (Written in Java, and uses JVM to run programs)\n",
    "- IronPython (Written in C#, and runs programs on .NET platform)\n",
    "- PyPy (written in python and has Just-in-time (JIT) compilation making execution faster)\n",
    "- Cython (Compile python programs in C and also transform into C. mainly for writing C extensions)\n",
    "- Stackless (to simplify thread-based programming. Cstack is not used. its own stack is cleared between function calls)"
   ]
  },
  {
   "cell_type": "markdown",
   "id": "e93d9a27",
   "metadata": {
    "id": "I6KUuVmu0CwT"
   },
   "source": [
    "### companies that use python:\n",
    "\n",
    "- Google\n",
    "- Youtube\n",
    "- Pinterest\n",
    "- Instagram\n",
    "- Facebook\n",
    "- Netflix\n",
    "- Spotify\n",
    "- NASA\n",
    "- JP Morgan Chase\n",
    "- Intel\n",
    "- IBM\n"
   ]
  },
  {
   "cell_type": "markdown",
   "id": "cf7c5901",
   "metadata": {},
   "source": [
    "## Indentation"
   ]
  },
  {
   "cell_type": "markdown",
   "id": "f07f4e61",
   "metadata": {
    "id": "42dxjf7T1zD8"
   },
   "source": [
    "- space before the line of code starts (2 or 4)\n",
    "- to identify the block of code"
   ]
  },
  {
   "cell_type": "code",
   "execution_count": 2,
   "id": "d77c2ba9",
   "metadata": {
    "colab": {
     "base_uri": "https://localhost:8080/"
    },
    "executionInfo": {
     "elapsed": 6,
     "status": "ok",
     "timestamp": 1681711946081,
     "user": {
      "displayName": "vishnupriya karanam",
      "userId": "13289819926024070101"
     },
     "user_tz": -330
    },
    "id": "P79iQCj0aN2P",
    "outputId": "919a3e2c-80c8-4da7-9095-ef83915c1ba2"
   },
   "outputs": [
    {
     "name": "stdout",
     "output_type": "stream",
     "text": [
      "Five is greater than two!\n"
     ]
    }
   ],
   "source": [
    "if 5 > 2: # 0 spaces\n",
    "    print(\"Five is greater than two!\") # 4 spaces"
   ]
  },
  {
   "cell_type": "raw",
   "id": "ccc93c7c",
   "metadata": {
    "id": "jayaxgWVaP0Q"
   },
   "source": [
    "if 5 > 2:\n",
    "print(\"Five is greater than two!\") # IndentationError: expected an indented block"
   ]
  },
  {
   "cell_type": "raw",
   "id": "2560492f",
   "metadata": {
    "id": "NxKqDfFzaTLX"
   },
   "source": [
    "if 5 > 2:\n",
    " print(\"Five is greater than two!\") \n",
    "        print(\"Five is greater than two!\") # IndentationError: unexpected indent"
   ]
  },
  {
   "cell_type": "raw",
   "id": "ec2bc1a2",
   "metadata": {},
   "source": [
    "print('hello')\n",
    "    print('hello') # IndentationError: unexpected indent"
   ]
  },
  {
   "cell_type": "code",
   "execution_count": 3,
   "id": "c66a3360",
   "metadata": {
    "colab": {
     "base_uri": "https://localhost:8080/"
    },
    "executionInfo": {
     "elapsed": 327,
     "status": "ok",
     "timestamp": 1681712029872,
     "user": {
      "displayName": "vishnupriya karanam",
      "userId": "13289819926024070101"
     },
     "user_tz": -330
    },
    "id": "4s_-YhdI2Fch",
    "outputId": "efcf278d-59da-4077-ccad-6c5d855dfa2e"
   },
   "outputs": [
    {
     "name": "stdout",
     "output_type": "stream",
     "text": [
      "outside one\n",
      "in one\n",
      "also in one\n"
     ]
    }
   ],
   "source": [
    "def one():\n",
    "  print('in one')\n",
    "  print('also in one')\n",
    "print('outside one')\n",
    "one()"
   ]
  },
  {
   "cell_type": "code",
   "execution_count": 4,
   "id": "118f30c7",
   "metadata": {
    "id": "omHmq_uO2P0H"
   },
   "outputs": [
    {
     "name": "stdout",
     "output_type": "stream",
     "text": [
      "outside one\n",
      "in one\n",
      "5>2\n",
      "inside if\n",
      "also in one\n"
     ]
    }
   ],
   "source": [
    "# Nested blocks indentation\n",
    "def one():\n",
    "  print('in one')\n",
    "  if 5>2:\n",
    "        print(\"5>2\")\n",
    "        print(\"inside if\")\n",
    "  print('also in one')\n",
    "print('outside one')\n",
    "one()"
   ]
  },
  {
   "cell_type": "markdown",
   "id": "b5c4c54f",
   "metadata": {},
   "source": [
    "## Comments"
   ]
  },
  {
   "cell_type": "markdown",
   "id": "51e601cb",
   "metadata": {},
   "source": [
    "- Not compiled\n",
    "- For better readability of program\n",
    "- full line comment \n",
    "- comment at the end of the line"
   ]
  },
  {
   "cell_type": "raw",
   "id": "ab542f09",
   "metadata": {
    "id": "QDd1ySpj2P2c"
   },
   "source": [
    "# single line comment\n",
    "\n",
    "# multi\n",
    "# line comment\n",
    "\n",
    "'''multi line \n",
    "comment'''\n",
    "\n",
    "\"\"\"multi line \n",
    "comment\"\"\"\n",
    "\n",
    "\"\"\"Documentation comment\n",
    "if this triple single or double quote multi line comment is written as \n",
    "the first line in a function or class\"\"\"\n",
    "\n",
    "use function_name.__doc__ paramter to read this comment\n",
    "\n",
    "# print('hello') # inerting code while testing"
   ]
  },
  {
   "cell_type": "code",
   "execution_count": 5,
   "id": "f5f1b8e0",
   "metadata": {
    "colab": {
     "base_uri": "https://localhost:8080/"
    },
    "executionInfo": {
     "elapsed": 598,
     "status": "ok",
     "timestamp": 1681712426960,
     "user": {
      "displayName": "vishnupriya karanam",
      "userId": "13289819926024070101"
     },
     "user_tz": -330
    },
    "id": "MIOHPRoZ3G3M",
    "outputId": "caa43f4a-7074-47ea-f3a5-624b35df3d42"
   },
   "outputs": [
    {
     "name": "stdout",
     "output_type": "stream",
     "text": [
      "welcome!!!\n",
      "this function prints welcome\n"
     ]
    }
   ],
   "source": [
    "def welcome():\n",
    "    '''this function prints welcome'''\n",
    "    print('welcome!!!')\n",
    "\n",
    "welcome()\n",
    "print(welcome.__doc__) # prints documentation comment inside welcome function"
   ]
  },
  {
   "cell_type": "code",
   "execution_count": 6,
   "id": "9bac4eab",
   "metadata": {},
   "outputs": [
    {
     "name": "stdout",
     "output_type": "stream",
     "text": [
      "welcome!!!\n",
      "None\n"
     ]
    }
   ],
   "source": [
    "def welcome():\n",
    "    # this function prints welcome\n",
    "    print('welcome!!!')\n",
    "\n",
    "welcome()\n",
    "print(welcome.__doc__) \n",
    "# given comment is not documentation comment. It is just a single line comment given for readability purpose."
   ]
  },
  {
   "cell_type": "markdown",
   "id": "ab0685a2",
   "metadata": {},
   "source": [
    "## Variables"
   ]
  },
  {
   "cell_type": "markdown",
   "id": "abdabbf2",
   "metadata": {
    "id": "DQpuCIWJbMYY"
   },
   "source": [
    "#### creating variables\n",
    "- variable is created the moment you first assign a value to it\n",
    "- no datatype declaration\n",
    "- later can reassign a new value according to the scenario\n",
    "- case sensitive"
   ]
  },
  {
   "cell_type": "code",
   "execution_count": 7,
   "id": "6f2b4bcf",
   "metadata": {
    "colab": {
     "base_uri": "https://localhost:8080/"
    },
    "id": "Ofp7DF78bUcd",
    "outputId": "93e02896-a1b9-49a8-c043-21e4d30e6f81"
   },
   "outputs": [
    {
     "name": "stdout",
     "output_type": "stream",
     "text": [
      "5 Tony Joe\n"
     ]
    }
   ],
   "source": [
    "number = 5 # numbers without quotations\n",
    "name = \"Allen\" # str with quotations '' or \"\" or '''''' or \"\"\"\"\"\"\n",
    "name = \"Tony\"\n",
    "Name = 'Joe'\n",
    "print(number, name, Name)"
   ]
  },
  {
   "cell_type": "code",
   "execution_count": 8,
   "id": "eb218fa8",
   "metadata": {},
   "outputs": [],
   "source": [
    "x = y = z = 10 # one Value to multiple variables\n",
    "x, y = 1,2 # different values to multiple variables\n",
    "x, y, z = [1,2,3] # unpacking a collection\n",
    "x, *y, z = [1,2,3,4,5]"
   ]
  },
  {
   "cell_type": "raw",
   "id": "743ce11f",
   "metadata": {},
   "source": [
    "print(age) # NameError: name 'age' is not defined"
   ]
  },
  {
   "cell_type": "markdown",
   "id": "3dbb8e74",
   "metadata": {
    "id": "ru9f06EUbuPD"
   },
   "source": [
    "#### variable naming rules"
   ]
  },
  {
   "cell_type": "markdown",
   "id": "7d42cf60",
   "metadata": {
    "id": "p92nJokxKHYT"
   },
   "source": [
    "- A variable name must start with a letter or the underscore character\n",
    "- A variable name cannot start with a number\n",
    "- A variable name can only contain alpha-numeric characters and underscores (A-z, 0-9, and _ )\n",
    "- Variable names are case-sensitive (age, Age and AGE are three different variables)\n",
    "- **recomended: donot starting variable names with underscore(s)**"
   ]
  },
  {
   "cell_type": "raw",
   "id": "dea31003",
   "metadata": {
    "colab": {
     "base_uri": "https://localhost:8080/"
    },
    "id": "GlaOgP7KeZoF",
    "outputId": "12f7845e-1cbb-45a2-d3c1-e4d473819dca"
   },
   "source": [
    "# Valid variables\n",
    "myvar = \"John\"\n",
    "my_var = \"John\"\n",
    "_my_var = \"John\" # not recomended but valid\n",
    "myVar = \"John\"\n",
    "MYVAR = \"John\"\n",
    "myvar2 = \"John\""
   ]
  },
  {
   "cell_type": "raw",
   "id": "68d7bd37",
   "metadata": {
    "id": "PYo4x306ecQ4"
   },
   "source": [
    "invalid variables\n",
    "\n",
    "2myvar = \"John\" # SyntaxError: invalid syntax\n",
    "my-var = \"John\"\n",
    "my var = \"John\""
   ]
  },
  {
   "cell_type": "markdown",
   "id": "08886f7c",
   "metadata": {
    "id": "gSfDBuYMK2Ch"
   },
   "source": [
    "#### descriptive variable names"
   ]
  },
  {
   "cell_type": "code",
   "execution_count": 9,
   "id": "19b9c77b",
   "metadata": {
    "colab": {
     "base_uri": "https://localhost:8080/",
     "height": 36
    },
    "id": "Wl_v7Aflehrr",
    "outputId": "7ed548f4-a657-4887-c204-3ce83a48e2fd"
   },
   "outputs": [],
   "source": [
    "myVariableName = \"John\" #camelCase\n",
    "MyVariableName = \"John\" # PascalCase\n",
    "my_variable_name = \"John\" # snake_case"
   ]
  },
  {
   "cell_type": "markdown",
   "id": "9baa32ee",
   "metadata": {
    "id": "qthnMGn7gybq"
   },
   "source": [
    "#### output variables"
   ]
  },
  {
   "cell_type": "code",
   "execution_count": 10,
   "id": "e557a56e",
   "metadata": {
    "colab": {
     "base_uri": "https://localhost:8080/"
    },
    "id": "LslOe-Q2g3xk",
    "outputId": "3d1676d5-931e-47e2-c22b-d287d56a387a"
   },
   "outputs": [
    {
     "name": "stdout",
     "output_type": "stream",
     "text": [
      "hello\thi.\b\n",
      "data \n"
     ]
    }
   ],
   "source": [
    "# o/p single str variable with escape sequence characters\n",
    "x = \"hello\\thi.\\b\\nhelloscience\\rdata \"\n",
    "print(x) "
   ]
  },
  {
   "cell_type": "code",
   "execution_count": 11,
   "id": "4324c941",
   "metadata": {
    "colab": {
     "base_uri": "https://localhost:8080/"
    },
    "id": "wIu1MAwyg-f9",
    "outputId": "4eeb5bfc-f3bb-4a08-82c9-fd766f6ecc35"
   },
   "outputs": [
    {
     "name": "stdout",
     "output_type": "stream",
     "text": [
      "1 Python is awesome\n"
     ]
    }
   ],
   "source": [
    "# o/p multiple variables using , (space is included between variables by default)\n",
    "x = \"Python\"\n",
    "y = \"is\"\n",
    "z = \"awesome\"\n",
    "a = 1\n",
    "print(a, x, y, z) # diff types can also be printed using ,"
   ]
  },
  {
   "cell_type": "markdown",
   "id": "af2da2ec",
   "metadata": {},
   "source": [
    "**_ variable**"
   ]
  },
  {
   "cell_type": "code",
   "execution_count": 12,
   "id": "c6c4b686",
   "metadata": {},
   "outputs": [
    {
     "data": {
      "text/plain": [
       "3"
      ]
     },
     "execution_count": 12,
     "metadata": {},
     "output_type": "execute_result"
    }
   ],
   "source": [
    "a = 3\n",
    "a"
   ]
  },
  {
   "cell_type": "code",
   "execution_count": 13,
   "id": "aeade57c",
   "metadata": {},
   "outputs": [
    {
     "data": {
      "text/plain": [
       "3"
      ]
     },
     "execution_count": 13,
     "metadata": {},
     "output_type": "execute_result"
    }
   ],
   "source": [
    "_"
   ]
  },
  {
   "cell_type": "code",
   "execution_count": 14,
   "id": "dd1c16c3",
   "metadata": {},
   "outputs": [
    {
     "data": {
      "text/plain": [
       "'hello'"
      ]
     },
     "execution_count": 14,
     "metadata": {},
     "output_type": "execute_result"
    }
   ],
   "source": [
    "a = 'hello'\n",
    "a"
   ]
  },
  {
   "cell_type": "code",
   "execution_count": 15,
   "id": "0fb4e988",
   "metadata": {},
   "outputs": [
    {
     "data": {
      "text/plain": [
       "'hello'"
      ]
     },
     "execution_count": 15,
     "metadata": {},
     "output_type": "execute_result"
    }
   ],
   "source": [
    "_"
   ]
  },
  {
   "cell_type": "code",
   "execution_count": 16,
   "id": "22f00ae9",
   "metadata": {},
   "outputs": [],
   "source": [
    "# _ = [1,2,3]\n",
    "# _"
   ]
  },
  {
   "cell_type": "code",
   "execution_count": 17,
   "id": "e44396fc",
   "metadata": {},
   "outputs": [
    {
     "data": {
      "text/plain": [
       "'hello'"
      ]
     },
     "execution_count": 17,
     "metadata": {},
     "output_type": "execute_result"
    }
   ],
   "source": [
    "a = 'hello'\n",
    "a"
   ]
  },
  {
   "cell_type": "code",
   "execution_count": 18,
   "id": "50bc8537",
   "metadata": {},
   "outputs": [
    {
     "data": {
      "text/plain": [
       "'hello'"
      ]
     },
     "execution_count": 18,
     "metadata": {},
     "output_type": "execute_result"
    }
   ],
   "source": [
    "_"
   ]
  },
  {
   "cell_type": "markdown",
   "id": "2bcd773f",
   "metadata": {},
   "source": [
    "#### structuring python program"
   ]
  },
  {
   "cell_type": "code",
   "execution_count": 19,
   "id": "c6b82c6d",
   "metadata": {},
   "outputs": [
    {
     "name": "stdout",
     "output_type": "stream",
     "text": [
      "1\n",
      "2\n"
     ]
    }
   ],
   "source": [
    "# multiple statements in single line\n",
    "a=1; b=2; print(a); print(b)"
   ]
  },
  {
   "cell_type": "code",
   "execution_count": 20,
   "id": "0acd884e",
   "metadata": {},
   "outputs": [
    {
     "name": "stdout",
     "output_type": "stream",
     "text": [
      "person is eligible to vote\n"
     ]
    }
   ],
   "source": [
    "# implicit line continuation\n",
    "age = 20\n",
    "citizen = \"indian\"\n",
    "if (age >= 18 \n",
    "    and \n",
    "    citizen == \"indian\"):\n",
    "    print('person is eligible to vote')"
   ]
  },
  {
   "cell_type": "code",
   "execution_count": 21,
   "id": "df72081d",
   "metadata": {},
   "outputs": [
    {
     "name": "stdout",
     "output_type": "stream",
     "text": [
      "55\n"
     ]
    }
   ],
   "source": [
    "# explicit line continuation \n",
    "# using \\ at the end of the line\n",
    "a = \\\n",
    "    10 + 20 + \\\n",
    "    15 + 5 \\\n",
    "    + 5\n",
    "  \n",
    "print(a)"
   ]
  },
  {
   "cell_type": "markdown",
   "id": "5bdd5922",
   "metadata": {},
   "source": [
    "## Datatypes"
   ]
  },
  {
   "cell_type": "markdown",
   "id": "e398cad8",
   "metadata": {
    "id": "dPsJ6wrdSvj_"
   },
   "source": [
    "Built-in Data types:\n",
    "- Text Type:\tstr\n",
    "- Numeric Types:\tint, float, complex\n",
    "- Sequence Types:\tlist, tuple, range\n",
    "- Mapping Type:\tdict\n",
    "- Set Types:\tset, frozenset\n",
    "- Boolean Type:\tbool\n",
    "- Binary Types: bytes(immutable), bytearray(mutable), memoryview(works using ref, not data directly, needs bytes like object)\n",
    "    - (binary data: 0 to 255: images)\n",
    "- None Type:\tNoneType"
   ]
  },
  {
   "cell_type": "code",
   "execution_count": 22,
   "id": "cbf8e3d1",
   "metadata": {},
   "outputs": [
    {
     "name": "stdout",
     "output_type": "stream",
     "text": [
      "<class 'int'> <class 'str'> <class 'list'>\n"
     ]
    }
   ],
   "source": [
    "print(type(5), \n",
    "      type(\"5\"), \n",
    "      type([1,2,3])) # get type"
   ]
  },
  {
   "cell_type": "raw",
   "id": "1a5d907f",
   "metadata": {},
   "source": [
    "str: 'a', 'A', '1', 'abc', \"abc\", \"3.0\", '''$4''', str(1)\n",
    "int: 1, 4213243214343214353, -324, int(1.5)\n",
    "float: 1.10,r1.0, -35.4, 10e2, 10E2, -2e2, 10e-2, float(3)\n",
    "complex: 1+2j, 5j, -5j, 1+0j, 1j (not only j), complex(5) => 5+0j\n",
    "bool: True, False\n",
    "    False: False, None, 0, \"\", [], (), {}\n",
    "    True: bool(10), bool(\"hello\"), bool([1,2])\n",
    "list: [1], [1,2,3], [1,[2,2,2],3, 'a'], list((1,2))\n",
    "tuple: (1,), (1,2,3), (1,(2,2,2.5),3,[4,5], 'a'), tuple((1,2))\n",
    "dict: {\"name\" : \"tony\", \"age\" : 25}, dict(name='tony', age=25)\n",
    "set: {1,2,3,1,'a'}, set((1,2,3,1))\n",
    "frozenset: frozenset((1,2,3))\n",
    "bytes: b'hello'\n",
    "bytearray: bytearray(5)\n",
    "memoryview: memoryview(bytes(5))\n",
    "NoneType: None\n",
    "range: range(5), range(0,5)"
   ]
  },
  {
   "cell_type": "code",
   "execution_count": 23,
   "id": "a13e2790",
   "metadata": {},
   "outputs": [
    {
     "name": "stdout",
     "output_type": "stream",
     "text": [
      "['1', 1] <class 'list'>\n"
     ]
    }
   ],
   "source": [
    "l = list(('1',1))\n",
    "print(l, type(l))"
   ]
  },
  {
   "cell_type": "markdown",
   "id": "a743f99f",
   "metadata": {},
   "source": [
    "### type casting"
   ]
  },
  {
   "cell_type": "code",
   "execution_count": 24,
   "id": "e89d20a2",
   "metadata": {},
   "outputs": [
    {
     "name": "stdout",
     "output_type": "stream",
     "text": [
      "1 2 1.0 (1+0j)\n",
      "1 a 3.0\n",
      "['1'] ['1'] [1]\n",
      "{1, 2}\n"
     ]
    }
   ],
   "source": [
    "print(int('1'), int(2.8), float(1), complex(1))\n",
    "print(str('1'), str('a'), str(3.0))\n",
    "print(list(\"1\"), list(('1',)), list((1,)))\n",
    "print(set([1,2,1,2]))\n",
    "# print(int('a')) # ValueError: invalid literal for int() with base 10: 'a'\n",
    "# print(list(1)) # TypeError: 'int' object is not iterable\n",
    "# print(int(3+5j)) # TypeError: can't convert complex to int"
   ]
  },
  {
   "cell_type": "code",
   "execution_count": 25,
   "id": "77e66d34",
   "metadata": {},
   "outputs": [
    {
     "name": "stdout",
     "output_type": "stream",
     "text": [
      "9 7.167173877452024 50.91945113139828\n"
     ]
    }
   ],
   "source": [
    "import random\n",
    "a = random.randrange(1,10) # discrete value\n",
    "b = random.uniform(1,10) # continuous value\n",
    "c = random.normalvariate(50,1) # normal distribution with mean and standard deviation\n",
    "print(a,b,c)"
   ]
  },
  {
   "cell_type": "code",
   "execution_count": 26,
   "id": "d995d60b",
   "metadata": {},
   "outputs": [
    {
     "name": "stdout",
     "output_type": "stream",
     "text": [
      "False\n",
      "True False\n",
      "hello is True value\n",
      "else\n",
      "True False\n"
     ]
    }
   ],
   "source": [
    "# booleans - majorly used in if conditions\n",
    "print(2>3) # output of comparision operators\n",
    "print(bool('hello'), bool(0)) # True and False values\n",
    "if \"hello\":\n",
    "    print(\"hello is True value\")\n",
    "if \"\":\n",
    "    print(\"if\")\n",
    "else:\n",
    "    print(\"else\")\n",
    "print(isinstance(5, int), isinstance([1,2,3], tuple))    "
   ]
  },
  {
   "cell_type": "markdown",
   "id": "d6cfbcf2",
   "metadata": {},
   "source": [
    "## User input and output"
   ]
  },
  {
   "cell_type": "code",
   "execution_count": 27,
   "id": "65d38ba0",
   "metadata": {},
   "outputs": [],
   "source": [
    "# username = input(\"Enter username: \")\n",
    "# print(username, type(username))\n",
    "\n",
    "# usernumber = input(\"Enter number: \") # by default str type\n",
    "# print(usernumber, type(usernumber))\n",
    "\n",
    "# userinput = input(\"\") \n",
    "# print(userinput, type(userinput))\n",
    "\n",
    "# number = int(input(\"enter a number:\"))\n",
    "# print(number, type(number))"
   ]
  },
  {
   "cell_type": "code",
   "execution_count": 28,
   "id": "51267a9f",
   "metadata": {},
   "outputs": [],
   "source": [
    "# a,b = input() # splits by each character\n",
    "# print(a, b, type(a), type(b))"
   ]
  },
  {
   "cell_type": "code",
   "execution_count": 29,
   "id": "36353a16",
   "metadata": {},
   "outputs": [],
   "source": [
    "# a,b = input().split(' ') # splits by space\n",
    "# print(a, b, type(a), type(b))"
   ]
  },
  {
   "cell_type": "code",
   "execution_count": 30,
   "id": "3639f3e2",
   "metadata": {},
   "outputs": [
    {
     "name": "stdout",
     "output_type": "stream",
     "text": [
      "1-2-3*1-2-3*1 2 3\n",
      "hello world\n",
      "end\n",
      "Hello\n",
      "None\n"
     ]
    }
   ],
   "source": [
    "print(1,2,3, sep = \"-\", end = \"*\")\n",
    "print(1,2,3, sep = \"-\", end = \"*\")\n",
    "print(1,2,3, sep = \" \", end = \"\\n\") # default\n",
    "print('hello','world')\n",
    "print('end')\n",
    "print(print('Hello'))"
   ]
  },
  {
   "cell_type": "code",
   "execution_count": 31,
   "id": "452cf518",
   "metadata": {},
   "outputs": [
    {
     "name": "stdout",
     "output_type": "stream",
     "text": [
      "Hello 6\n"
     ]
    }
   ],
   "source": [
    "import sys\n",
    "print(sys.stdout.write(\"Hello \"))\n",
    "# sys.stdout.write(1) # TypeError: write() argument must be str, not <class 'int'>\n",
    "# sys.stdout.write([1,2,3]) # TypeError: write() argument must be str, not <class 'list'>"
   ]
  },
  {
   "cell_type": "code",
   "execution_count": 32,
   "id": "cdc450e9",
   "metadata": {},
   "outputs": [
    {
     "name": "stdout",
     "output_type": "stream",
     "text": [
      "8 pens cost $1.50\n",
      "hello\n",
      " 42, 42, 42\n",
      "-42, -42, -42\n",
      "123 123. 1e+02 1.e+02\n",
      "00016.00\n",
      "123.30  \n",
      "   +3\n",
      "008 pens     cost $1.50\n"
     ]
    }
   ],
   "source": [
    "# format_str % values\n",
    "print(\"%d %s cost $%.2f\" % (8, \"pens\", 1.5))\n",
    "print(\"%s\" % \"hello\")\n",
    "\n",
    "#  %[flags][minwidth][.precision]type \n",
    "print(\"% d, %i, %u\" % (42, 42, 42))\n",
    "print(\"% d, %i, %u\" % (-42, -42, -42))\n",
    "\n",
    "# flag # forces to have a decimal point always\n",
    "print(\"%.0f %#.0f %.0e %#.0e\" % (123, 123, 123, 123))\n",
    "\n",
    "# flag 0 causes padding with 0 to the left, if needed\n",
    "print(\"%08.2f\" % 16)\n",
    "\n",
    "# flag - causes the value to be left-justified\n",
    "print(\"%-8.2f\" % 123.3)\n",
    "\n",
    "# flag + adds + to the left of numeric output\n",
    "print(\"%+5d\" % 3)\n",
    "\n",
    "data = {\"quantity\": 8, \"item\": \"pens\", \"price\": 1.5}\n",
    "template = \"%(quantity)03d %(item)-8s cost $%(price).2f\"\n",
    "print(template % data)"
   ]
  },
  {
   "cell_type": "code",
   "execution_count": 33,
   "id": "a3468288",
   "metadata": {},
   "outputs": [
    {
     "name": "stdout",
     "output_type": "stream",
     "text": [
      "['False', 'None', 'True', '__peg_parser__', 'and', 'as', 'assert', 'async', 'await', 'break', 'class', 'continue', 'def', 'del', 'elif', 'else', 'except', 'finally', 'for', 'from', 'global', 'if', 'import', 'in', 'is', 'lambda', 'nonlocal', 'not', 'or', 'pass', 'raise', 'return', 'try', 'while', 'with', 'yield']\n"
     ]
    }
   ],
   "source": [
    "import keyword\n",
    "print(keyword.kwlist)"
   ]
  },
  {
   "cell_type": "markdown",
   "id": "df469194",
   "metadata": {},
   "source": [
    "## Operators"
   ]
  },
  {
   "cell_type": "code",
   "execution_count": 34,
   "id": "6094697e",
   "metadata": {},
   "outputs": [
    {
     "data": {
      "text/plain": [
       "4"
      ]
     },
     "execution_count": 34,
     "metadata": {},
     "output_type": "execute_result"
    }
   ],
   "source": [
    "1 + 3 # + is operator, 1 and 3 are operands"
   ]
  },
  {
   "cell_type": "code",
   "execution_count": 35,
   "id": "ca135216",
   "metadata": {},
   "outputs": [
    {
     "name": "stdout",
     "output_type": "stream",
     "text": [
      "2\t0\t4\t5.333333333333333\t0.0\t-0.2\t5\t5.0\t6\t8\n"
     ]
    }
   ],
   "source": [
    "# arithmetic operators\n",
    "print(1+1, \n",
    "      1-1, \n",
    "      1*4, \n",
    "      16/3, False/True, int(True)/-5.0, \n",
    "      16//3, 17//3.0, \n",
    "      13%7, \n",
    "      2**3, sep = '\\t')"
   ]
  },
  {
   "cell_type": "code",
   "execution_count": 36,
   "id": "96056a86",
   "metadata": {},
   "outputs": [
    {
     "name": "stdout",
     "output_type": "stream",
     "text": [
      "5\n",
      "8\n",
      "6\n",
      "12\n",
      "6.0\n",
      "1\n",
      "3\n",
      "9\n",
      "2\n",
      "7\n",
      "5\n",
      "14\n",
      "3\n"
     ]
    }
   ],
   "source": [
    "# assignment operator\n",
    "a = 5; print(a) # 5\n",
    "a += 3; print(a) # 8\n",
    "a -= 2; print(a) # 6\n",
    "a *= 2; print(a) # 12\n",
    "a /= 2; print(a) # 6.0\n",
    "a = 7\n",
    "a %= 2; print(a) # 1\n",
    "a = 7\n",
    "a //= 2; print(a) # 3\n",
    "a **= 2; print(a) # 9\n",
    "a = 7\n",
    "a &= 2; print(a) # 2\n",
    "a = 7\n",
    "a |= 2; print(a) # 7\n",
    "a = 7\n",
    "a ^= 2; print(a) # 5\n",
    "a = 7\n",
    "a <<= 1; print(a) # 14\n",
    "a = 7\n",
    "a >>= 1; print(a) # 3"
   ]
  },
  {
   "cell_type": "code",
   "execution_count": 37,
   "id": "4663f44d",
   "metadata": {},
   "outputs": [
    {
     "name": "stdout",
     "output_type": "stream",
     "text": [
      "False True False True True True\n",
      "True True False True\n",
      "True\n"
     ]
    }
   ],
   "source": [
    "# comparision operators\n",
    "print(5==3, 5!=3, 5>10, True>=False, False<1, 5.6<=6.5)\n",
    "print(1<5<10, 10>5<20, 10<10<10*2<100, 5==5>4)\n",
    "print((10+5) > (10-6))"
   ]
  },
  {
   "cell_type": "code",
   "execution_count": 38,
   "id": "9277c116",
   "metadata": {},
   "outputs": [
    {
     "name": "stdout",
     "output_type": "stream",
     "text": [
      "False\n",
      "True False False False\n",
      "True True True False\n",
      "False\n",
      "True\n"
     ]
    }
   ],
   "source": [
    "# logical operators\n",
    "print(not(5<6))\n",
    "print(True and True, True and False, False and True, False and False)\n",
    "print(True or True, True or False, False or True, False or False)\n",
    "print(5>6 and print('hello'))\n",
    "# print(5<6 and print('python'))\n",
    "print(5<6 or print('hello'))\n",
    "# print(5>6 or print('datascience'))"
   ]
  },
  {
   "cell_type": "code",
   "execution_count": 39,
   "id": "8c90af73",
   "metadata": {},
   "outputs": [
    {
     "name": "stdout",
     "output_type": "stream",
     "text": [
      "False False True\n",
      "True True False\n"
     ]
    }
   ],
   "source": [
    "# identity operators (check for same object with same reference)\n",
    "a = [\"python\",'datascience']\n",
    "b = [\"python\",'datascience']\n",
    "c = a\n",
    "# print(a==b, b==c, c==a)\n",
    "# print(a!=b, b!=c, c!=a)\n",
    "print(a is b, b is c, c is a)\n",
    "print(a is not b, b is not c, c is not a)"
   ]
  },
  {
   "cell_type": "code",
   "execution_count": 40,
   "id": "7c0997b1",
   "metadata": {},
   "outputs": [
    {
     "name": "stdout",
     "output_type": "stream",
     "text": [
      "True False True\n"
     ]
    }
   ],
   "source": [
    "# membership operators\n",
    "a = [\"python\",'datascience']\n",
    "print('python' in a, 'py' in a, 'PYTHON' not in a)"
   ]
  },
  {
   "cell_type": "code",
   "execution_count": 41,
   "id": "fcd79ac7",
   "metadata": {},
   "outputs": [
    {
     "name": "stdout",
     "output_type": "stream",
     "text": [
      "2 7 5 -4 12 3\n"
     ]
    }
   ],
   "source": [
    "# bitwise operators\n",
    "print(6&3, 6|3, 6^3, ~3, 3<<2, 6>>1)\n",
    "# 6 =  0000000000000110\n",
    "# 3 =  0000000000000011\n",
    "# -4 = 1111111111111100\n",
    "#  4 = 0000000000000100"
   ]
  },
  {
   "attachments": {
    "image-2.png": {
     "image/png": "[encoded data removed]"
    }
   },
   "cell_type": "markdown",
   "id": "265e2f6b",
   "metadata": {},
   "source": [
    "# precedence of operators\n",
    "![image-2.png](attachment:image-2.png)"
   ]
  },
  {
   "cell_type": "code",
   "execution_count": 42,
   "id": "45137c3b",
   "metadata": {},
   "outputs": [
    {
     "name": "stdout",
     "output_type": "stream",
     "text": [
      "40\n",
      "False\n",
      "4.0\n",
      "9.0\n",
      "512 512\n",
      "-18\n"
     ]
    }
   ],
   "source": [
    "print(40 or 5 + 10 or 8) # 40 or 15 or 8\n",
    "print(not 14 == 4 + 10) # not 14 == 14 # not True\n",
    "print(6 * 2 / 3) # left to right\n",
    "print(6 / 2 * 3) # left to right\n",
    "print(2 ** 3 ** 2, 2 ** (3 ** 2)) # right to left\n",
    "print(2 - 4 * 5)"
   ]
  },
  {
   "cell_type": "code",
   "execution_count": 43,
   "id": "6c7c0e8a",
   "metadata": {},
   "outputs": [
    {
     "name": "stdout",
     "output_type": "stream",
     "text": [
      "Maximum: 20\n",
      "Minimum: 10\n",
      "a<=b\n",
      "a<b\n",
      "Minimum: 10\n"
     ]
    }
   ],
   "source": [
    "# ternary operator # (on_false, on_true) [expression]\n",
    "a,b = 10,20\n",
    "print('Maximum:',(b,a)[a > b]) \n",
    "print('Minimum:',{True: a, False: b}[a < b])\n",
    "print(\"a>b\" if a>b else \"a<=b\")\n",
    "print(\"equal\" if a==b else \"a>b\" if a>b else \"a<b\")\n",
    "print('Minimum:',(lambda: b, lambda: a)[a < b]())"
   ]
  },
  {
   "cell_type": "markdown",
   "id": "9e85e170",
   "metadata": {},
   "source": [
    "## Conditional statements and loops"
   ]
  },
  {
   "cell_type": "code",
   "execution_count": 44,
   "id": "0ae0269e",
   "metadata": {},
   "outputs": [
    {
     "name": "stdout",
     "output_type": "stream",
     "text": [
      "a<=b\n",
      "else block end\n",
      "program continues\n"
     ]
    }
   ],
   "source": [
    "a,b = 10,20\n",
    "if a>b:\n",
    "    print(\"a>b\")\n",
    "    print(\"if block end\")     \n",
    "else: \n",
    "    print(\"a<=b\")\n",
    "    print(\"else block end\")\n",
    "print(\"program continues\")\n",
    "# else block is always optional"
   ]
  },
  {
   "cell_type": "code",
   "execution_count": 45,
   "id": "71651fdb",
   "metadata": {},
   "outputs": [
    {
     "name": "stdout",
     "output_type": "stream",
     "text": [
      "a<b\n",
      "elif block end\n",
      "program continues\n"
     ]
    }
   ],
   "source": [
    "a,b = 10,20\n",
    "if a>b:\n",
    "    print(\"a>b\")\n",
    "    print(\"if block end\")  \n",
    "elif a<b:\n",
    "    print(\"a<b\")\n",
    "    print(\"elif block end\")  \n",
    "else:\n",
    "    print(\"a==b\")\n",
    "    print(\"else block end\")\n",
    "print(\"program continues\")"
   ]
  },
  {
   "cell_type": "code",
   "execution_count": 46,
   "id": "d075e1b9",
   "metadata": {},
   "outputs": [
    {
     "name": "stdout",
     "output_type": "stream",
     "text": [
      "if value\n",
      "else value\n",
      "elif value\n",
      "10\n",
      "equal\n",
      "equal\n",
      "both conditions are true\n",
      "atleast one of the conditions is true\n",
      "a>10 and a<15\n"
     ]
    }
   ],
   "source": [
    "a,b = 10,5\n",
    "if a>b:print('if value')\n",
    "print(\"if value\" if a<b else \"else value\")\n",
    "print(\"if value\" if a<b else \"elif value\" if a>b else \"else value\")\n",
    "\n",
    "maximum = a if a>b else b\n",
    "print(maximum)    \n",
    "\n",
    "a,b=20,20\n",
    "result = a if a>b else b if b>a else 'equal'\n",
    "print(result)\n",
    "\n",
    "print(a) if a>b else print(b) if b>a else print('equal')\n",
    "\n",
    "a,b = 20,10\n",
    "if a>10 and b>5:\n",
    "    print('both conditions are true')\n",
    "if a>50 or b>5:\n",
    "    print('atleast one of the conditions is true')\n",
    "    \n",
    "a = 12\n",
    "if a>10:\n",
    "    if a>15:\n",
    "        print(\"a>15\")\n",
    "    else:\n",
    "        print('a>10 and a<15')\n",
    "else:\n",
    "    print('a<=10')\n",
    "    \n",
    "if True:\n",
    "    pass\n",
    "else:\n",
    "    pass"
   ]
  },
  {
   "cell_type": "markdown",
   "id": "d893465f",
   "metadata": {},
   "source": [
    "#### while"
   ]
  },
  {
   "cell_type": "code",
   "execution_count": 47,
   "id": "8f162597",
   "metadata": {},
   "outputs": [
    {
     "name": "stdout",
     "output_type": "stream",
     "text": [
      "2\n",
      "4\n",
      "6\n",
      "8\n",
      "else\n",
      "program continues\n"
     ]
    }
   ],
   "source": [
    "i = 2\n",
    "while i<10:\n",
    "    print(i)\n",
    "    i += 2 # without increment, it is infinite loop \n",
    "else:  # esle is optional\n",
    "    print('else')\n",
    "print(\"program continues\")    "
   ]
  },
  {
   "cell_type": "code",
   "execution_count": 48,
   "id": "b273cc13",
   "metadata": {},
   "outputs": [
    {
     "name": "stdout",
     "output_type": "stream",
     "text": [
      "else\n",
      "program continues\n"
     ]
    }
   ],
   "source": [
    "i = 2\n",
    "while i>10: # condition false in the first iteration\n",
    "    print(i)\n",
    "    i += 2 \n",
    "else:    \n",
    "    print('else')\n",
    "print(\"program continues\")    "
   ]
  },
  {
   "cell_type": "code",
   "execution_count": 49,
   "id": "f316281b",
   "metadata": {},
   "outputs": [
    {
     "name": "stdout",
     "output_type": "stream",
     "text": [
      "2\n",
      "4\n",
      "program continues\n"
     ]
    }
   ],
   "source": [
    "i = 2\n",
    "while i<10:\n",
    "    if i==6:\n",
    "        break\n",
    "    print(i)\n",
    "    i += 2 \n",
    "else: # else is not executed as cond is not False but loop breaks\n",
    "    print('else')\n",
    "print(\"program continues\")    "
   ]
  },
  {
   "cell_type": "code",
   "execution_count": 50,
   "id": "d68e05a9",
   "metadata": {},
   "outputs": [
    {
     "name": "stdout",
     "output_type": "stream",
     "text": [
      "4\n",
      "8\n",
      "10\n",
      "else\n",
      "program continues\n"
     ]
    }
   ],
   "source": [
    "i = 2\n",
    "while i<10:\n",
    "    i += 2 \n",
    "    if i==6:\n",
    "        continue\n",
    "    print(i)\n",
    "else:\n",
    "    print('else')\n",
    "print(\"program continues\")    "
   ]
  },
  {
   "cell_type": "code",
   "execution_count": 51,
   "id": "e256bb3d",
   "metadata": {},
   "outputs": [],
   "source": [
    "# #infinite loop as always i<10 is True for i==6\n",
    "# i = 2\n",
    "# while i<10:\n",
    "#     if i==6:\n",
    "#         continue\n",
    "#     print(i)\n",
    "#     i += 2 \n",
    "# else:\n",
    "#     print('else')\n",
    "# print(\"program continues\")    "
   ]
  },
  {
   "cell_type": "code",
   "execution_count": 52,
   "id": "fffa8fb8",
   "metadata": {},
   "outputs": [
    {
     "name": "stdout",
     "output_type": "stream",
     "text": [
      "grey  :  shirt\n",
      "grey  :  shoe\n",
      "grey  :  mobile\n",
      "black  :  shirt\n",
      "black  :  shoe\n",
      "black  :  mobile\n",
      "white  :  shirt\n",
      "white  :  shoe\n",
      "white  :  mobile\n"
     ]
    }
   ],
   "source": [
    "color = [\"grey\", \"black\", \"white\"]\n",
    "item = [\"shirt\", \"shoe\", \"mobile\"]\n",
    "\n",
    "i=0\n",
    "while i < 3:\n",
    "    j=0\n",
    "    while j < 3:\n",
    "        print(color[i],\" : \",item[j])\n",
    "        j = j+1\n",
    "    i = i+1"
   ]
  },
  {
   "cell_type": "code",
   "execution_count": 53,
   "id": "a3057c97",
   "metadata": {},
   "outputs": [
    {
     "name": "stdout",
     "output_type": "stream",
     "text": [
      "else\n",
      "end\n"
     ]
    }
   ],
   "source": [
    "i = 1\n",
    "while i>6: # i<6 results in infinite loop\n",
    "    pass\n",
    "else:\n",
    "    print('else')\n",
    "print('end')"
   ]
  },
  {
   "cell_type": "markdown",
   "id": "4ad41a4b",
   "metadata": {},
   "source": [
    "#### for"
   ]
  },
  {
   "cell_type": "code",
   "execution_count": 54,
   "id": "9a571856",
   "metadata": {},
   "outputs": [
    {
     "name": "stdout",
     "output_type": "stream",
     "text": [
      "range(0, 3) [1, 2, 3, 4]\n",
      "1-2-3-4-5-l a p t o p 0:10 1:20 2:30 111:a 112:b (111, 'a') (112, 'b') "
     ]
    }
   ],
   "source": [
    "print(range(3), list(range(1,5)))\n",
    "for i in range(1,6):\n",
    "    print(i, end='-')    \n",
    "for i in \"laptop\":\n",
    "    print(i,end=\" \")  \n",
    "for index,element in enumerate([10,20,30]):\n",
    "    print(index,element,sep=':',end=' ')\n",
    "for index,element in enumerate(['a','b'], start=111):\n",
    "    print(index,element,sep=':',end=' ')\n",
    "for i in enumerate(['a','b'], start=111):\n",
    "    print(i,sep=':',end=' ')    "
   ]
  },
  {
   "cell_type": "code",
   "execution_count": 55,
   "id": "ccaee135",
   "metadata": {},
   "outputs": [
    {
     "name": "stdout",
     "output_type": "stream",
     "text": [
      "1 3 5 7 9 else\n",
      "program continues\n"
     ]
    }
   ],
   "source": [
    "for i in range(1,11): # [1,2,3,4,5,6,7,8,9,10]\n",
    "    if i%2 == 0:\n",
    "        continue\n",
    "    print(i,end=' ')\n",
    "else:\n",
    "    print('else')\n",
    "print('program continues')"
   ]
  },
  {
   "cell_type": "code",
   "execution_count": 56,
   "id": "ba34aece",
   "metadata": {},
   "outputs": [
    {
     "name": "stdout",
     "output_type": "stream",
     "text": [
      "1 2 3 4 program continues\n"
     ]
    }
   ],
   "source": [
    "for i in range(1,11): # [1,2,3,4,5,6,7,8,9,10]\n",
    "    if i%5 == 0:\n",
    "        break\n",
    "    print(i,end=' ')\n",
    "else:\n",
    "    print('else')\n",
    "print('program continues')"
   ]
  },
  {
   "cell_type": "code",
   "execution_count": 57,
   "id": "e297bdc2",
   "metadata": {},
   "outputs": [
    {
     "name": "stdout",
     "output_type": "stream",
     "text": [
      "grey : shirt\n",
      "grey : shoe\n",
      "grey : mobile\n",
      "black : shirt\n",
      "black : shoe\n",
      "black : mobile\n",
      "white : shirt\n",
      "white : shoe\n",
      "white : mobile\n"
     ]
    }
   ],
   "source": [
    "color = [\"grey\", \"black\", \"white\"]\n",
    "item = [\"shirt\", \"shoe\", \"mobile\"]\n",
    "for c in color:\n",
    "    for i in item:\n",
    "        print(c,\":\",i)"
   ]
  },
  {
   "cell_type": "code",
   "execution_count": 58,
   "id": "11c84c87",
   "metadata": {},
   "outputs": [
    {
     "name": "stdout",
     "output_type": "stream",
     "text": [
      "else\n",
      "program continues\n"
     ]
    }
   ],
   "source": [
    "for i in \"abcd\":\n",
    "    pass\n",
    "else:\n",
    "    print('else')\n",
    "print('program continues')"
   ]
  },
  {
   "cell_type": "markdown",
   "id": "d1c8e31e",
   "metadata": {},
   "source": [
    "#### match"
   ]
  },
  {
   "cell_type": "code",
   "execution_count": 59,
   "id": "bf67438d",
   "metadata": {},
   "outputs": [],
   "source": [
    "# # run in colab\n",
    "# status = 400\n",
    "# match status:\n",
    "#     case 200:\n",
    "#         print('case 400: success')\n",
    "#     case 400:\n",
    "#         print('case 400: bad request')\n",
    "#     case 500:\n",
    "#         print('case 500: server error')\n",
    "#     case _:\n",
    "#         return \"Something's wrong with the internet\""
   ]
  },
  {
   "cell_type": "markdown",
   "id": "ba5f2ec8",
   "metadata": {},
   "source": [
    "## Data Structures"
   ]
  },
  {
   "cell_type": "markdown",
   "id": "3c640716",
   "metadata": {},
   "source": [
    "### str"
   ]
  },
  {
   "cell_type": "code",
   "execution_count": 60,
   "id": "20f088cd",
   "metadata": {},
   "outputs": [
    {
     "name": "stdout",
     "output_type": "stream",
     "text": [
      "hello hello hello\n",
      "    world\n",
      "\"Python\" \"Python\" Don't use \\ Hello\n"
     ]
    }
   ],
   "source": [
    "print('hello',\"hello\",'''hello\n",
    "    world''')\n",
    "print('\"Python\"', \"\\\"Python\\\"\", 'Don\\'t use \\\\', \"\\x48\\x65\\x6c\\x6c\\x6f\")"
   ]
  },
  {
   "cell_type": "code",
   "execution_count": 61,
   "id": "0f869ea8",
   "metadata": {},
   "outputs": [
    {
     "name": "stdout",
     "output_type": "stream",
     "text": [
      "0123456789\n",
      "987654321"
     ]
    }
   ],
   "source": [
    "a = '0123456789'\n",
    "b = '987654321'\n",
    "print(a)\n",
    "\n",
    "for i in b:\n",
    "    print(i,end='')"
   ]
  },
  {
   "cell_type": "code",
   "execution_count": 62,
   "id": "ab933915",
   "metadata": {},
   "outputs": [
    {
     "name": "stdout",
     "output_type": "stream",
     "text": [
      "<class 'str'>\n",
      "10 9\n"
     ]
    }
   ],
   "source": [
    "# type, len\n",
    "print(type(a))\n",
    "print(len(a),len(b))"
   ]
  },
  {
   "cell_type": "code",
   "execution_count": 63,
   "id": "9c9f25cd",
   "metadata": {},
   "outputs": [
    {
     "name": "stdout",
     "output_type": "stream",
     "text": [
      "0 9 1 9\n"
     ]
    }
   ],
   "source": [
    "# indexing\n",
    "print(a[0],a[len(a)-1],\n",
    "      b[-1],b[-len(b)]) \n",
    "# last_index  = len(a) - 1"
   ]
  },
  {
   "cell_type": "code",
   "execution_count": 64,
   "id": "7baf95bd",
   "metadata": {},
   "outputs": [
    {
     "name": "stdout",
     "output_type": "stream",
     "text": [
      "True False True\n"
     ]
    }
   ],
   "source": [
    "# membership (in, not in) - check substring\n",
    "print('0' in a, '99' in a, 'abc' not in b)"
   ]
  },
  {
   "cell_type": "code",
   "execution_count": 65,
   "id": "e2486ad5",
   "metadata": {},
   "outputs": [
    {
     "name": "stdout",
     "output_type": "stream",
     "text": [
      "0123456789 0123456789\n",
      "01234 23456789\n",
      "01234567 135\n",
      "9876543210 987654321\n",
      "321 3456789\n"
     ]
    },
    {
     "data": {
      "text/plain": [
       "('', '', '')"
      ]
     },
     "execution_count": 65,
     "metadata": {},
     "output_type": "execute_result"
    }
   ],
   "source": [
    "# slicing\n",
    "print(a[:],a[::]) # 0123456789 0123456789\n",
    "print(a[:5], a[2:]) # 01234 23456789\n",
    "print(a[0:8], a[1:7:2]) # 01234567 135\n",
    "print(a[::-1], a[9:0:-1]) # 9876543210 987654321\n",
    "print(b[-3::], b[-3::-1]) # 321 3456789\n",
    "a[2:9:-1], a[-6:9:-1], b[-2:-9:1],  # empty strings"
   ]
  },
  {
   "cell_type": "code",
   "execution_count": 66,
   "id": "c2eaf0f1",
   "metadata": {},
   "outputs": [
    {
     "name": "stdout",
     "output_type": "stream",
     "text": [
      "0123456789987654321 0123456789 987654321 01234567890123456789\n",
      "the number is 5\n",
      "the number is 5\n",
      "the number is 5\n",
      "the number is 5\n"
     ]
    }
   ],
   "source": [
    "print(a+b, a+\" \"+b, a*2)\n",
    "print(\"the number is \" + str(5))\n",
    "print(\"the number is %s\" % str(5))\n",
    "print(\"the number is %d\" % 5)\n",
    "print(\"the number is {}\".format(5))"
   ]
  },
  {
   "cell_type": "code",
   "execution_count": 67,
   "id": "ca2cd7f4",
   "metadata": {},
   "outputs": [
    {
     "name": "stdout",
     "output_type": "stream",
     "text": [
      "Hello tony, 25th street is crowded. 1a2a3a-a. groß.\n",
      "Hello Tony, 25Th Street Is Crowded. 1A2A3A-A. Groß.\n",
      "hello tony, 25th street is crowded. 1a2a3a-a. groß.\n",
      "hello tony, 25th street is crowded. 1a2a3a-a. gross.\n",
      "HELLO TONY, 25TH STREET IS CROWDED. 1A2A3A-A. GROSS.\n",
      "HELLO tONY, 25TH STREET IS CROWDED. 1A2A3A-A. gROSS.\n"
     ]
    }
   ],
   "source": [
    "# string methods\n",
    "a = 'hello Tony, 25th street is crowded. 1a2a3a-a. Groß.'\n",
    "print(a.capitalize()) # 1st UC, rest LC\n",
    "print(a.title()) # 1st ch of each word UC\n",
    "print(a.lower()) # all ascii to LC\n",
    "print(a.casefold()) # all strictly LC\n",
    "print(a.upper()) # all strictly UC\n",
    "print(a.swapcase()) # strictly, UC to LC and LC to UC"
   ]
  },
  {
   "cell_type": "code",
   "execution_count": 68,
   "id": "40a1a903",
   "metadata": {},
   "outputs": [
    {
     "name": "stdout",
     "output_type": "stream",
     "text": [
      "True False\n",
      "True False False\n",
      "True True False\n",
      "True True True\n",
      "True False\n",
      "True\n",
      "True\n",
      "True\n",
      "True False False\n",
      "False\n",
      "True False\n"
     ]
    }
   ],
   "source": [
    "print('a1'.isalnum(), ' '.isalnum()) # True False\n",
    "print('0'.isdecimal(),'2²'.isdecimal(), 'ↁ'.isdecimal()) # True False False\n",
    "print('0'.isdigit(),'2²'.isdigit(), 'ↁ'.isdigit()) # True True False\n",
    "print('0'.isnumeric(),'2²'.isnumeric(), 'ↁ'.isnumeric()) # True True True\n",
    "print('aA'.isalpha(), '1'.isalpha()) # True False\n",
    "print(' groß'.islower()) # True\n",
    "print(' GROSS'.isupper()) # True\n",
    "print('22Nd, Groß'.istitle()) # True\n",
    "print(\"  \".isspace(), \" s  \".isspace(), \"\".isspace()) # True False False\n",
    "print('2age'.isidentifier()) # False\n",
    "print('hello'.isprintable(), 'hello\\n'.isprintable()) # True False"
   ]
  },
  {
   "cell_type": "code",
   "execution_count": 69,
   "id": "53a1c071",
   "metadata": {},
   "outputs": [
    {
     "name": "stdout",
     "output_type": "stream",
     "text": [
      "True\n",
      "False\n",
      "True\n",
      "True\n",
      "False\n",
      "True\n"
     ]
    }
   ],
   "source": [
    "print(\"hello welcome to python\".startswith('hello welcome')) # True\n",
    "print(\"hello welcome to python\".startswith('Hello')) # False\n",
    "print(\"hello welcome to python\".startswith('welcome',6,20)) # True (checks in 6th to 10th index in main string)\n",
    "print(\"hello welcome to python\".endswith('python')) # True\n",
    "print(\"hello welcome to python\".endswith('the python')) # False\n",
    "print(\"hello welcome to python\".endswith('come',5,13)) # True (checks in 5th to 13th index in main string)"
   ]
  },
  {
   "cell_type": "code",
   "execution_count": 70,
   "id": "60d5878e",
   "metadata": {},
   "outputs": [
    {
     "name": "stdout",
     "output_type": "stream",
     "text": [
      "2\n",
      "2\n",
      "0\n",
      "2\n"
     ]
    }
   ],
   "source": [
    "print('apple'.count('p')) # 2\n",
    "print('The python, The data science'.count('The')) # 2\n",
    "print('apple'.count('zzz')) # 0\n",
    "print(\"hello welcome to python\".count('o',3,15)) # 2"
   ]
  },
  {
   "cell_type": "code",
   "execution_count": 71,
   "id": "99c19563",
   "metadata": {},
   "outputs": [
    {
     "name": "stdout",
     "output_type": "stream",
     "text": [
      "6\n",
      "4\n",
      "-1\n",
      "6\n",
      "4\n",
      "6\n",
      "15\n",
      "-1\n",
      "6\n",
      "15\n"
     ]
    }
   ],
   "source": [
    "print('hello welcome to python'.find('welcome')) # 6\n",
    "print('hello welcome to python'.find('o',2,20)) # 4\n",
    "print('hello welcome to python'.find('z',2,20)) # -1 (NO ERROR)\n",
    "print('hello welcome to python'.index('welcome')) # 6\n",
    "print('hello welcome to python'.index('o',2,20)) # 4\n",
    "# print('hello welcome to python'.index('z',2,20)) # ValueError: substring not found\n",
    "\n",
    "print('hello welcome to python'.rfind('welcome')) # 6\n",
    "print('hello welcome to python'.rfind('o',2,20)) # 15\n",
    "print('hello welcome to python'.rfind('z',2,20)) # -1 (NO ERROR)\n",
    "print('hello welcome to python'.rindex('welcome')) # 6\n",
    "print('hello welcome to python'.rindex('o',2,20)) # 15\n",
    "# print('hello welcome to python'.rindex('z',2,20)) # ValueError: substring not found"
   ]
  },
  {
   "cell_type": "code",
   "execution_count": 72,
   "id": "31402561",
   "metadata": {},
   "outputs": [
    {
     "name": "stdout",
     "output_type": "stream",
     "text": [
      "b'I am Stle. Gro'\n",
      "b'I am St?le. Gro?'\n",
      "b'I am St\\\\xe5le. Gro\\\\xdf'\n",
      "b'I am St\\\\N{LATIN SMALL LETTER A WITH RING ABOVE}le. Gro\\\\N{LATIN SMALL LETTER SHARP S}'\n"
     ]
    }
   ],
   "source": [
    "txt = \"I am Ståle. Groß\"\n",
    "print(txt.encode(encoding=\"ascii\",errors=\"ignore\"))\n",
    "print(txt.encode(encoding=\"ascii\",errors=\"replace\"))\n",
    "print(txt.encode(encoding=\"ascii\",errors=\"backslashreplace\"))\n",
    "print(txt.encode(encoding=\"ascii\",errors=\"namereplace\"))\n",
    "# print(txt.encode(encoding=\"ascii\",errors=\"strict\")) # UnicodeEncodeError: 'ascii' codec can't encode character '\\xe5' in position 7: ordinal not in range(128)"
   ]
  },
  {
   "cell_type": "code",
   "execution_count": 73,
   "id": "e4c660a1",
   "metadata": {},
   "outputs": [
    {
     "name": "stdout",
     "output_type": "stream",
     "text": [
      "h\te\tl\tl\to\n",
      "h       e       l       l       o\n",
      "h       e       l       l       o\n",
      "h e l l o\n",
      "h   e   l   l   o\n",
      "h         e         l         l         o\n",
      "h\te\tl\tl\to\n"
     ]
    }
   ],
   "source": [
    "txt = 'h\\te\\tl\\tl\\to'\n",
    "print(txt)\n",
    "print(txt.expandtabs())\n",
    "print(txt.expandtabs(8)) # default\n",
    "print(txt.expandtabs(2))\n",
    "print(txt.expandtabs(4))\n",
    "print(txt.expandtabs(10))\n",
    "print(txt)"
   ]
  },
  {
   "cell_type": "code",
   "execution_count": 74,
   "id": "4360f7bd",
   "metadata": {},
   "outputs": [
    {
     "name": "stdout",
     "output_type": "stream",
     "text": [
      "6 pens cost $55.456\n",
      "6 pens cost $55.46\n",
      "My name is John, I'm 60\n",
      "I'm 25. My name is Tony\n",
      "My name is Allen, I'm 40\n"
     ]
    }
   ],
   "source": [
    "print('6 pens cost ${}'.format(55.456))\n",
    "print('6 pens cost ${price:.2f}'.format(price=55.456))\n",
    "#named indexes:\n",
    "print(\"My name is {fname}, I'm {age}\".format(age = 60, fname = \"John\")) # oder of parameters is not imp\n",
    "#numbered indexes:\n",
    "print(\"I'm {1}. My name is {0}\".format(\"Tony\",25)) # oder is imp\n",
    "#empty placeholders:\n",
    "print(\"My name is {}, I'm {}\".format(\"Allen\",40)) # oder is imp"
   ]
  },
  {
   "cell_type": "code",
   "execution_count": 75,
   "id": "8e864824",
   "metadata": {},
   "outputs": [
    {
     "name": "stdout",
     "output_type": "stream",
     "text": [
      "pqc pqcd pqcde\n",
      "pqc pqcd abcde\n",
      "abc abcd abcde\n",
      "john-tony-allen\n",
      "['he', 'is', 'kind']\n",
      "['he is kind', 'strong', 'intelligent']\n",
      "['he is kind', 'strong, intelligent']\n",
      "['he', 'is', 'kind']\n",
      "['he is kind', 'strong', 'intelligent']\n",
      "['he is kind, strong', 'intelligent']\n",
      "['hello', 'world', 'welcome\\tto\\tpython']\n",
      "['hello\\n', 'world\\n', 'welcome\\tto\\tpython']\n"
     ]
    }
   ],
   "source": [
    "print('abc abcd abcde'.replace('ab','pq')) # pqc pqcd pqcde\n",
    "print('abc abcd abcde'.replace('ab','pq',2)) # pqc pqcd abcde\n",
    "print('abc abcd abcde'.replace('ij','pq')) # abc abcd abcde => NO ERROR\n",
    "\n",
    "names = ['john','tony','allen']\n",
    "print('-'.join(names)) # joins collection elements and returns a string\n",
    "\n",
    "print('he is kind'.split()) # ['he', 'is', 'kind'], splits str into list\n",
    "print('he is kind, strong, intelligent'.split(', ')) # ['he is kind', 'strong', 'intelligent']\n",
    "print('he is kind, strong, intelligent'.split(sep=', ', maxsplit=1)) # ['he is kind', 'strong, intelligent'], maxsplit = 1\n",
    "\n",
    "print('he is kind'.rsplit()) # ['he', 'is', 'kind']\n",
    "print('he is kind, strong, intelligent'.rsplit(', ')) # ['he is kind', 'strong', 'intelligent']\n",
    "print('he is kind, strong, intelligent'.rsplit(sep=', ', maxsplit=1)) # ['he is kind, strong', 'intelligent'], maxsplit = 1\n",
    "\n",
    "print('hello\\nworld\\nwelcome\\tto\\tpython'.splitlines()) # ['hello', 'world', 'welcome\\tto\\tpython']\n",
    "print('hello\\nworld\\nwelcome\\tto\\tpython'.splitlines(keepends=True)) # ['hello\\n', 'world\\n', 'welcome\\tto\\tpython']"
   ]
  },
  {
   "cell_type": "code",
   "execution_count": 76,
   "id": "c3c4917d",
   "metadata": {},
   "outputs": [
    {
     "name": "stdout",
     "output_type": "stream",
     "text": [
      "('I like ', 'apples', ', she likes apples and mangoes')\n",
      "('I like apples, she likes apples and mangoes', '', '')\n",
      "('I like apples, she likes ', 'apples', ' and mangoes')\n",
      "('', '', 'I like apples, she likes apples and mangoes')\n"
     ]
    }
   ],
   "source": [
    "txt = 'I like apples, she likes apples and mangoes'\n",
    "print(txt.partition('apples')) # ('I like ', 'apples', ', she likes apples and mangoes')\n",
    "print(txt.partition('kiwi')) # ('I like apples, she likes apples and mangoes', '', '')\n",
    "print(txt.rpartition('apples')) # ('I like apples, she likes ', 'apples', ' and mangoes')\n",
    "print(txt.rpartition('kiwi')) # ('', '', 'I like apples, she likes apples and mangoes')"
   ]
  },
  {
   "cell_type": "code",
   "execution_count": 77,
   "id": "b0db35ed",
   "metadata": {},
   "outputs": [
    {
     "name": "stdout",
     "output_type": "stream",
     "text": [
      "Hello John {110: 121, 111: 111, 74: 84, 104: 110} Hello Tony\n",
      "Hello John {110: 121, 111: 111, 74: 84, 104: 110, 101: None, 108: None, 72: None} o Tony\n"
     ]
    }
   ],
   "source": [
    "txt = 'Hello John'\n",
    "trans_table = txt.maketrans('noJh','yoTn')\n",
    "new_txt = txt.translate(trans_table)\n",
    "print(txt, trans_table, new_txt)\n",
    "\n",
    "trans_table = txt.maketrans('noJh','yoTn','elH')\n",
    "new_txt = txt.translate(trans_table)\n",
    "print(txt, trans_table, new_txt)"
   ]
  },
  {
   "cell_type": "code",
   "execution_count": 78,
   "id": "f416772c",
   "metadata": {},
   "outputs": [
    {
     "name": "stdout",
     "output_type": "stream",
     "text": [
      "abcdBanana, applesabcd\n",
      "abcdBanana, applesabcd    \n",
      "    abcdBanana, applesabcd\n",
      "Banana, apples\n",
      "Banana, applesabcd    \n",
      "    abcdBanana, apples\n"
     ]
    }
   ],
   "source": [
    "txt = \"    abcdBanana, applesabcd    \"\n",
    "print(txt.strip())\n",
    "print(txt.lstrip())\n",
    "print(txt.rstrip())\n",
    "print(txt.strip('da bc'))\n",
    "print(txt.lstrip('da bc'))\n",
    "print(txt.rstrip('da bc'))"
   ]
  },
  {
   "cell_type": "code",
   "execution_count": 79,
   "id": "838e0cbe",
   "metadata": {},
   "outputs": [
    {
     "name": "stdout",
     "output_type": "stream",
     "text": [
      "         DSS         \n",
      "*********DSS*********\n",
      "DSS         \n",
      "DSS*********\n",
      "         DSS\n",
      "*********DSS\n",
      "25\n",
      "0025\n",
      "00DSS\n"
     ]
    }
   ],
   "source": [
    "txt = 'DSS'\n",
    "print(txt.center(21))\n",
    "print(txt.center(21, '*'))\n",
    "print(txt.ljust(12))\n",
    "print(txt.ljust(12, '*'))\n",
    "print(txt.rjust(12))\n",
    "print(txt.rjust(12, '*'))\n",
    "\n",
    "number = '25'\n",
    "print(number.zfill(1))\n",
    "print(number.zfill(4))\n",
    "print(txt.zfill(5))"
   ]
  },
  {
   "cell_type": "markdown",
   "id": "7d488ea3",
   "metadata": {},
   "source": [
    "### list"
   ]
  },
  {
   "cell_type": "markdown",
   "id": "df523974",
   "metadata": {},
   "source": [
    "- heterogeneous, ordered (indexed), mutable, allow duplicates"
   ]
  },
  {
   "cell_type": "code",
   "execution_count": 80,
   "id": "89c742dc",
   "metadata": {},
   "outputs": [
    {
     "name": "stdout",
     "output_type": "stream",
     "text": [
      "[1, 1, 2.5, 'a', True, [10, 20]] <class 'list'> 6\n",
      "1 [10, 20] 10 [1, 1, 2.5] [10]\n",
      "['p', 'q', 'a', True, [10, 20]]\n",
      "['a', 'b']\n",
      "['a', 'b', 'a', 'b'] ['a', 'b', 'a', 'b', 'a', 'b']\n",
      "[1, 2]\n",
      "True False False False\n"
     ]
    }
   ],
   "source": [
    "l1 = [1, 1, 2.5, \"a\", True, [10,20]]\n",
    "print(l1, type(l1), len(l1))\n",
    "print(l1[0],l1[-1],l1[-1][0], l1[:3], l1[-1][-2:-1:1])\n",
    "# print(l1[100]) # IndexError: list index out of range\n",
    "\n",
    "l1[0] = 'p'\n",
    "l1[1:3] = 'q'\n",
    "print(l1)\n",
    "\n",
    "l2 = list(\"ab\")\n",
    "print(l2)\n",
    "print(l2 + l2, l2 * 3)\n",
    "\n",
    "l3 = list((1,2,3))\n",
    "del l3[-1]\n",
    "print(l3)\n",
    "\n",
    "print(1 in l3, 'n' in l2, 10 in l1, [10,20] not in l1)\n",
    "del l3\n",
    "# print(l3) # NameError: name 'l3' is not defined"
   ]
  },
  {
   "cell_type": "code",
   "execution_count": 81,
   "id": "7d241a6a",
   "metadata": {},
   "outputs": [
    {
     "name": "stdout",
     "output_type": "stream",
     "text": [
      "[] [] [] [] [] []\n"
     ]
    }
   ],
   "source": [
    "# empty list\n",
    "l1 = []\n",
    "l2 = list()\n",
    "l3 = [].copy()\n",
    "\n",
    "l4 = [1,2,3]\n",
    "l4.clear()\n",
    "\n",
    "l5 = [][:]\n",
    "l6 = [value for value in []]\n",
    "print(l1,l2,l3,l4,l5,l6)"
   ]
  },
  {
   "cell_type": "code",
   "execution_count": 82,
   "id": "ada46274",
   "metadata": {},
   "outputs": [
    {
     "name": "stdout",
     "output_type": "stream",
     "text": [
      "1\n",
      "2\n",
      "3\n",
      "[4, 5, 6]\n",
      "1\n",
      "2\n",
      "3\n",
      "[4, 5, 6]\n",
      "1\n",
      "2\n",
      "3\n",
      "[4, 5, 6]\n"
     ]
    }
   ],
   "source": [
    "l1 = [1,2,3, [4,5,6]]\n",
    "for i in l1:\n",
    "    print(i)\n",
    "\n",
    "for i in range(len(l1)):\n",
    "    print(l1[i])\n",
    "    \n",
    "i = 0\n",
    "while i < len(l1):\n",
    "    print(l1[i])\n",
    "    i+=1"
   ]
  },
  {
   "cell_type": "code",
   "execution_count": 83,
   "id": "86b68665",
   "metadata": {},
   "outputs": [
    {
     "name": "stdout",
     "output_type": "stream",
     "text": [
      "[1, 2, 3, 1, [1, 5]]\n",
      "[1, 2, 3, 1, [1, 5], 6, 7]\n",
      "[1, '10', 2, 3, 1, [1, 5], 6, ['a', 'b'], 7]\n",
      "True False\n",
      "True True\n",
      "2 0\n",
      "0\n",
      "7 3 b [1, '10', 2, 1, [1, 5], 6, ['a']]\n",
      "None [1, '10', 2, 1, [1, 5], 6]\n",
      "[2, 3, 1] [1, 3, 2]\n",
      "None [2, 3, 1]\n",
      "None ['Banana', 'an', 'apple', 'the']\n",
      "None ['the', 'apple', 'an', 'Banana']\n",
      "None ['an', 'the', 'apple', 'Banana']\n",
      "None ['the', 'Banana', 'apple', 'an']\n"
     ]
    }
   ],
   "source": [
    "# list methods\n",
    "l1 = [1,2,3]\n",
    "l1.append(1) \n",
    "l1.append([1,5]); print(l1)\n",
    "l1.extend([6,7]); print(l1)\n",
    "# l1.extend(8) # TypeError: 'int' object is not iterable\n",
    "l1.insert(1,'10')\n",
    "l1.insert(-1,['a','b']); print(l1)\n",
    "\n",
    "l2 = l1.copy()\n",
    "l3 = l1\n",
    "print(l2==l1, l1 is l2)\n",
    "print(l3==l1, l1 is l3)\n",
    "\n",
    "print(l1.count(1), l1.count(100))\n",
    "print(l1.index(1)) # 1st occurence\n",
    "# print(l1.index(100)) # ValueError: 100 is not in list\n",
    "print(l1.pop(), l1.pop(3), l1[-1].pop(), l1)\n",
    "print(l1.remove(['a']), l1) # remove doesnot return anything so, None\n",
    "\n",
    "l1 = [1,3,2]\n",
    "print(l1[::-1], l1) # original list is not affected\n",
    "print(l1.reverse(), l1) # original list is affected\n",
    "\n",
    "l1 = ['an','apple','the', 'Banana']\n",
    "print(l1.sort(), l1) # original list is affected\n",
    "print(l1.sort(reverse = True), l1) # original list is affected\n",
    "\n",
    "def length(s):\n",
    "    return len(s)\n",
    "    \n",
    "print(l1.sort(key = length), l1)\n",
    "print(l1.sort(key = str.lower, reverse = True), l1)"
   ]
  },
  {
   "cell_type": "code",
   "execution_count": 84,
   "id": "ace0492d",
   "metadata": {},
   "outputs": [],
   "source": [
    "def function(d):\n",
    "    return d['age']\n",
    "\n",
    "student = [{'name':'tony','age':26}, \n",
    "           {'name':'harry','age':22}, \n",
    "           {'name':'iris','age':25}, \n",
    "           {'name':'john','age':23}]\n",
    "student.sort(key=function)"
   ]
  },
  {
   "cell_type": "raw",
   "id": "e2af0e54",
   "metadata": {},
   "source": [
    "1. print all elements in different lines in l1 = [1,2,3, [4,5,6]]\n",
    "2. Print sum of all elements in  l1 = [1,2,3, [4,5,6]]"
   ]
  },
  {
   "cell_type": "markdown",
   "id": "e162589a",
   "metadata": {},
   "source": [
    "### tuple"
   ]
  },
  {
   "cell_type": "markdown",
   "id": "63ab8ac2",
   "metadata": {},
   "source": [
    "- heterogeneous, ordered (indexed), immutable, allow duplicates"
   ]
  },
  {
   "cell_type": "code",
   "execution_count": 85,
   "id": "d60ebd32",
   "metadata": {
    "scrolled": false
   },
   "outputs": [
    {
     "name": "stdout",
     "output_type": "stream",
     "text": [
      "1 (1,) (1, 2, (3, 4), [5, 6]) <class 'int'> <class 'tuple'> 1 4\n",
      "() () () ()\n",
      "2163018186816 2163018186816 2163018186816 2163018186816 2163120080448 2163102832976 0\n",
      "(1, True, False, 'abc', 1, True, False, 'abc') (1, True, False, 'abc', 1, True, False, 'abc')\n"
     ]
    }
   ],
   "source": [
    "i = (1)\n",
    "tuple1 = (1,)\n",
    "tuple2 = (1,2,(3,4),[5,6])\n",
    "print(i,tuple1,tuple2, type(i), type(tuple1), len(tuple1), len(tuple2))\n",
    "t1 = ()\n",
    "t2 = tuple(())\n",
    "t3 = ()[:]\n",
    "t4 = t1\n",
    "print(t1,t2,t3,t4)\n",
    "print(id(t1),id(t2),id(t3),id(t4),id(tuple1), id(tuple2), len(t1))\n",
    "\n",
    "t = (1,True, bool(0),\"abc\")\n",
    "print(t+t, t*2)\n",
    "# print(t+[1,2]) # TypeError: can only concatenate tuple (not \"list\") to tuple"
   ]
  },
  {
   "cell_type": "markdown",
   "id": "7c3fcf46",
   "metadata": {
    "id": "864RMyCbiGEX"
   },
   "source": [
    "#### tuple vs lists\n",
    "\n",
    "- immutable | mutable\n",
    "- Less memory | More memory [obj.\\__sizeof__()]\n",
    "- **Static** [single block of memory] | Dynamic [two blocks]\n",
    "- Good for accessing elements | Good for insertion and deletion operations\n",
    "- implementation  of iterations is faster | time consuming\n",
    "- limited inbuilt methods | Several inbuilt methods\n",
    "- **historical, db data** | temp data\n",
    "- to store a row data | temp row data\n",
    "- use when we are confident on data | use to contain similar type elements\n",
    "- to read elements | to update elements"
   ]
  },
  {
   "cell_type": "code",
   "execution_count": 86,
   "id": "137a8e48",
   "metadata": {},
   "outputs": [
    {
     "name": "stdout",
     "output_type": "stream",
     "text": [
      "48 104\n"
     ]
    }
   ],
   "source": [
    "t1 = (1,2,3)\n",
    "l1 = [1,2,3]\n",
    "print(t1.__sizeof__(), l1.__sizeof__())"
   ]
  },
  {
   "cell_type": "code",
   "execution_count": 87,
   "id": "27124b11",
   "metadata": {},
   "outputs": [
    {
     "name": "stdout",
     "output_type": "stream",
     "text": [
      "1 c (1, 2, 3) ((4, 'abcd'), 3, 2, 1) (2, 3) ()\n",
      "True True True\n",
      "1\n",
      "2\n",
      "3\n",
      "(4, 'abcd')\n",
      "1\n",
      "2\n",
      "3\n",
      "(4, 'abcd')\n",
      "2\n",
      "(4, 'abcd')\n",
      "1 [2, 3] (4, 'abcd')\n"
     ]
    }
   ],
   "source": [
    "t1 = (1,2,3, (4,\"abcd\"))\n",
    "print(t1[0], t1[-1][1][2], t1[:-1], t1[::-1], t1[-3:-1:1], t1[-3:-1:-1])\n",
    "print(1 in t1, \"abcd\" in t1[-1], 4 not in t1)\n",
    "\n",
    "for i in t1:\n",
    "    print(i)\n",
    "    \n",
    "for i in range(len(t1)):\n",
    "    print(t1[i])\n",
    "    \n",
    "i = 1    \n",
    "while i < len(t1): # loop through alternate elements\n",
    "    print(t1[i])\n",
    "    i+=2\n",
    "    \n",
    "p,*_,r = t1 \n",
    "print(p,_,r)"
   ]
  },
  {
   "cell_type": "code",
   "execution_count": 88,
   "id": "6064db77",
   "metadata": {},
   "outputs": [
    {
     "name": "stdout",
     "output_type": "stream",
     "text": [
      "2163120169904\n",
      "(1, 2, 3, (4, 'abcd'), 5) 2163101783840\n"
     ]
    }
   ],
   "source": [
    "t1 = (1,2,3, (4,\"abcd\"))\n",
    "\n",
    "print(id(t1))\n",
    "# t1[0] = 10 # TypeError: 'tuple' object does not support item assignment\n",
    "# t1.append(5) # AttributeError: 'tuple' object has no attribute 'append'\n",
    "t1 = t1 + (5,)\n",
    "print(t1, id(t1)) # new tuple\n",
    "# t1 = t1 + [1,2,3] # TypeError: can only concatenate tuple (not \"list\") to tuple\n",
    "\n",
    "# del t1[0] # TypeError: 'tuple' object doesn't support item deletion\n",
    "del t1\n",
    "# print(t1) # NameError: name 't1' is not defined"
   ]
  },
  {
   "cell_type": "code",
   "execution_count": 89,
   "id": "e1126215",
   "metadata": {},
   "outputs": [
    {
     "name": "stdout",
     "output_type": "stream",
     "text": [
      "3 0 0\n"
     ]
    }
   ],
   "source": [
    "# tuple methods\n",
    "t1 = (1,2,\"abcd\", True, 1,2)\n",
    "print(t1.count(1), # counts True as 1\n",
    "      t1.count(100), # 0\n",
    "      t1.index(1), # 1st occurence index\n",
    "#       t1.index(100) # ValueError: tuple.index(x): x not in tuple\n",
    "     ) "
   ]
  },
  {
   "cell_type": "markdown",
   "id": "7839de8b",
   "metadata": {},
   "source": [
    "#### named tuple\n",
    "- ordered, access from both key-value and iteration"
   ]
  },
  {
   "cell_type": "code",
   "execution_count": 90,
   "id": "6475a143",
   "metadata": {},
   "outputs": [
    {
     "name": "stdout",
     "output_type": "stream",
     "text": [
      "Student age: 19\n",
      "Student name: Nandini\n",
      "Student DOB: 25-4-1997\n",
      "Student(name='Nandini', age='19', DOB='25-4-1997') <class '__main__.Student'> ('name', 'age', 'DOB')\n"
     ]
    }
   ],
   "source": [
    "from collections import namedtuple\n",
    "\n",
    "# Declaring namedtuple()\n",
    "Student = namedtuple('Student', ['name', 'age', 'DOB']) # Student is tuple name. 'name', 'age', 'DOB' are keys of that tuple\n",
    "\n",
    "# Adding values\n",
    "S = Student('Nandini', '19', '25-4-1997')\n",
    "\n",
    "# Access using index\n",
    "print('Student age:',S[1])\n",
    "\n",
    "# Access using name\n",
    "print('Student name:',S.name)\n",
    "\n",
    "# Access using getattr()\n",
    "print('Student DOB:',getattr(S, 'DOB'))\n",
    "\n",
    "print(S, type(S), S._fields)"
   ]
  },
  {
   "cell_type": "markdown",
   "id": "cfaab184",
   "metadata": {},
   "source": [
    "### dict"
   ]
  },
  {
   "cell_type": "markdown",
   "id": "d6822386",
   "metadata": {},
   "source": [
    "- key-value pairs, ordered, keys are immutable types (hashable), items are mutable, no duplicates for key, values can be duplicates and mutable or immutable\n",
    "- constant time lookup O(1) regardless of dict size"
   ]
  },
  {
   "cell_type": "code",
   "execution_count": 91,
   "id": "7a62e490",
   "metadata": {},
   "outputs": [
    {
     "name": "stdout",
     "output_type": "stream",
     "text": [
      "{1: 'a', 2: 'b', None: 'c', 'd': 5} <class 'dict'> 4\n",
      "40 {1: 'a', 2: 'b', None: 'c', 'd': 40, 'e': 50}\n",
      "True False\n"
     ]
    }
   ],
   "source": [
    "d = {1:'a',2:\"b\",None:\"c\", \"d\":4, \"d\":5} # no duplicates in key\n",
    "print(d, type(d), len(d))\n",
    "d['d'] = 40 # modify item\n",
    "d['e'] = 50 # add new item\n",
    "print(d['d'],d)\n",
    "# print(d['p']) # KeyError: 'p'\n",
    "print('d' in d, 40 in d) # checks in keys"
   ]
  },
  {
   "cell_type": "code",
   "execution_count": 92,
   "id": "f67880e2",
   "metadata": {},
   "outputs": [
    {
     "name": "stdout",
     "output_type": "stream",
     "text": [
      "dict_items([(1, 'a'), (2, 'b'), (None, 'c'), ('d', 40), ('e', 50), ('f', 60)])\n",
      "dict_keys([1, 2, None, 'd', 'e', 'f'])\n",
      "dict_values(['a', 'b', 'c', 40, 50, 60])\n",
      "1\n",
      "2\n",
      "None\n",
      "d\n",
      "e\n",
      "f\n",
      "1 a\n",
      "2 b\n",
      "None c\n",
      "d 40\n",
      "e 50\n",
      "f 60\n",
      "1 a\n",
      "2 b\n",
      "None c\n",
      "d 40\n",
      "e 50\n",
      "f 60\n",
      "(1, 'a')\n",
      "(2, 'b')\n",
      "(None, 'c')\n",
      "('d', 40)\n",
      "('e', 50)\n",
      "('f', 60)\n"
     ]
    }
   ],
   "source": [
    "i = d.items()\n",
    "k = d.keys()\n",
    "v = d.values()\n",
    "\n",
    "d['f'] = 60\n",
    "print(i,k,v,sep='\\n')\n",
    "\n",
    "for key in d:\n",
    "    print(key)\n",
    "for key in k:\n",
    "    print(key,d[key])\n",
    "for key,value in i:\n",
    "    print(key,value)\n",
    "for item in i:\n",
    "    print(item)"
   ]
  },
  {
   "cell_type": "code",
   "execution_count": 93,
   "id": "c9f248bf",
   "metadata": {},
   "outputs": [
    {
     "name": "stdout",
     "output_type": "stream",
     "text": [
      "{} {} {} {} {} <class 'dict'> <class 'dict'> <class 'dict'> <class 'dict'> <class 'dict'>\n",
      "{1: None, 2: None, 3: None} <class 'dict'> {1: 0, 2: 0, 3: 0} <class 'dict'>\n"
     ]
    }
   ],
   "source": [
    "d1 = {}\n",
    "d2 = dict()\n",
    "d3 = {key:value for key,value in []}\n",
    "k = v = {} \n",
    "d4 = dict(zip(k,v)) # # k,v are dict\n",
    "d5 = dict.fromkeys(k)\n",
    "print(d1,d2,d3,d4,d5, type(d1),type(d2),type(d3),type(d4),type(d5))\n",
    "\n",
    "keys = [1,2,3]\n",
    "d6 = dict.fromkeys(keys)\n",
    "d7 = dict.fromkeys(keys,0)\n",
    "print(d6,type(d6), d7, type(d7))"
   ]
  },
  {
   "cell_type": "code",
   "execution_count": 94,
   "id": "09394993",
   "metadata": {},
   "outputs": [
    {
     "name": "stdout",
     "output_type": "stream",
     "text": [
      "<class 'dict'> <class 'dict'> tony\n",
      "{'student1': {'name': 'tony', 'age': 20}, 'student2': {'age': 22}}\n"
     ]
    }
   ],
   "source": [
    "d = {'student1': {'name':\"tony\",'age':20},\n",
    "     'student2': {'name':\"john\",'age':22}}\n",
    "print(type(d), type(d['student1']), d['student1']['name'])\n",
    "del d['student2']['name']\n",
    "print(d)\n",
    "del d\n",
    "# print(d) # NameError: name 'd' is not defined"
   ]
  },
  {
   "cell_type": "code",
   "execution_count": 95,
   "id": "f5de71ae",
   "metadata": {},
   "outputs": [
    {
     "name": "stdout",
     "output_type": "stream",
     "text": [
      "{'name': 'tony', 'age': 20} None\n",
      "dict_keys(['student1', 'student2'])\n",
      "dict_values([{'name': 'tony', 'age': 20}, {'name': 'john', 'age': 22}])\n",
      "dict_items([('student1', {'name': 'tony', 'age': 20}), ('student2', {'name': 'john', 'age': 22})])\n",
      "('student3', {'name': 'bob'})\n",
      "('student4', {'name': 'harry', 'age': 20})\n",
      "('student5', {'name': 'henry', 'age': 25})\n",
      "('student6', {'name': 'allen', 'age': 23})\n",
      "False\n",
      "{'student3': {'name': 'bob'}, 'student4': {'name': 'harry', 'age': 20}, 'student5': {'name': 'henry', 'age': 25}, 'student6': {'name': 'allen', 'age': 23}, 'company': 'data science stack'}\n"
     ]
    }
   ],
   "source": [
    "# dict methods\n",
    "d = {'student1': {'name':\"tony\",'age':20},\n",
    "     'student2': {'name':\"john\",'age':22}}\n",
    "\n",
    "# print(d['student3']) # KeyError: 'student3'\n",
    "print(d.get('student1'), d.get('student3')) # NO ERROR\n",
    "print(d.keys(), d.values(), d.items(), sep='\\n')\n",
    "\n",
    "d.update({'student3':{\"name\":\"bob\",'age':21}})\n",
    "d.update({'student4':{\"name\":\"harry\",'age':20}, \n",
    "          'student5':{\"name\":\"henry\",'age':25}})\n",
    "d.update([('student6',{\"name\":\"allen\",'age':23}), \n",
    "          ('student7',{\"name\":\"joe\",'age':24})])\n",
    "\n",
    "d.pop('student1')\n",
    "d.popitem() # last item\n",
    "del d['student2']    \n",
    "del d['student3']['age']\n",
    "\n",
    "for i in d.items():\n",
    "    print(i)\n",
    "\n",
    "d1 = d.copy()\n",
    "print(d1 is d)\n",
    "\n",
    "d.setdefault(\"company\", \"data science stack\")\n",
    "d.setdefault(\"student4\", None)\n",
    "print(d)\n",
    "\n",
    "del d\n",
    "# print(d) # NameError: name 'd' is not defined"
   ]
  },
  {
   "cell_type": "code",
   "execution_count": 96,
   "id": "e787f298",
   "metadata": {},
   "outputs": [
    {
     "name": "stdout",
     "output_type": "stream",
     "text": [
      "<class 'collections.OrderedDict'>\n",
      "OrderedDict([('a', 1), ('b', 2), ('c', 5), ('d', 4)])\n",
      "OrderedDict([('a', 1), ('c', 5), ('d', 4), ('b', 9)])\n",
      "OrderedDict([('a', 1), ('c', 5), ('d', 4), ('b', 9), ('e', 5), ('f', 6), ('g', 7)])\n",
      "OrderedDict([('e', 5), ('a', 1), ('c', 5), ('d', 4), ('b', 9), ('f', 6), ('g', 7)])\n",
      "OrderedDict([('e', 5), ('a', 1), ('c', 5), ('d', 4), ('b', 9), ('f', 6), ('h', 8)])\n"
     ]
    }
   ],
   "source": [
    "# ordered dict: LIFO\n",
    "from collections import OrderedDict\n",
    "\n",
    "od = OrderedDict()\n",
    "print(type(od))\n",
    "\n",
    "# add item to the end of dict\n",
    "od['a'] = 1\n",
    "od['b'] = 2\n",
    "od['c'] = 3\n",
    "od['d'] = 4\n",
    "\n",
    "od['c'] = 5\n",
    "print(od)\n",
    "\n",
    "od.pop('b')\n",
    "od['b'] = 9\n",
    "print(od)\n",
    "\n",
    "od.update({'e':5})\n",
    "od.update((('f', 6),('g',7)))\n",
    "print(od)\n",
    "\n",
    "od.move_to_end('e', last=False)\n",
    "print(od)\n",
    "\n",
    "# LIFO (Stack)\n",
    "od.popitem() \n",
    "od.update({'h':8})\n",
    "print(od)"
   ]
  },
  {
   "cell_type": "code",
   "execution_count": 97,
   "id": "eb466543",
   "metadata": {},
   "outputs": [
    {
     "name": "stdout",
     "output_type": "stream",
     "text": [
      "1 1\n",
      "2 2\n",
      "Unknown\n",
      "defaultdict(None, {'a': 1, 'b': 2}) defaultdict(<function <lambda> at 0x000001F7A402A160>, {'a': 1, 'b': 2, 'c': 'Unknown'}) <class 'collections.defaultdict'>\n",
      "Unknown defaultdict(<function <lambda> at 0x000001F7A402A160>, {'a': 1, 'b': 2, 'c': 'Unknown', 'z': 'Unknown'})\n"
     ]
    }
   ],
   "source": [
    "# defau;lt dict \n",
    "\n",
    "# defaultdict never raises a KeyError. \n",
    "# It provides a default value for the key that does not exists.\n",
    "\n",
    "import collections\n",
    "# d = collections.defaultdict(\"Unknown\") # TypeError: first argument must be callable or None\n",
    "dd1 = collections.defaultdict(None)\n",
    "dd2 = collections.defaultdict(lambda: 'Unknown')\n",
    "\n",
    "\n",
    "dd1[\"a\"] = dd2[\"a\"] = 1\n",
    "dd1[\"b\"] = dd2[\"b\"] = 2\n",
    "\n",
    "print(dd1[\"a\"], dd2['a'])\n",
    "print(dd1[\"b\"], dd2['b'])\n",
    "print(\n",
    "#     dd1[\"c\"], # KeyError: 'c'\n",
    "      dd2['c'])\n",
    "print(dd1,dd2, type(dd1))\n",
    "\n",
    "dd2.__missing__('z')\n",
    "print(dd2.__missing__('z'), dd2)"
   ]
  },
  {
   "cell_type": "code",
   "execution_count": 98,
   "id": "c334cae2",
   "metadata": {},
   "outputs": [
    {
     "name": "stdout",
     "output_type": "stream",
     "text": [
      "Dictionary with values as list:\n",
      "0 [(0, 0)]\n",
      "1 [(1, 1)]\n",
      "2 [(4, 8)]\n",
      "3 [(9, 27)]\n",
      "4 [(16, 64)]\n",
      "5 [(25, 125)]\n",
      "6 [(36, 216)]\n",
      "7 [(49, 343)]\n",
      "8 [(64, 512)]\n",
      "9 [(81, 729)]\n"
     ]
    }
   ],
   "source": [
    "d = collections.defaultdict(list)\n",
    "  \n",
    "for i in range(10):\n",
    "    d[i].append((i**2,i**3)) # sqaure and cube\n",
    "      \n",
    "print(\"Dictionary with values as list:\")\n",
    "for k,v in d.items():\n",
    "    print(k,v)"
   ]
  },
  {
   "cell_type": "code",
   "execution_count": 99,
   "id": "a756d53c",
   "metadata": {},
   "outputs": [
    {
     "name": "stdout",
     "output_type": "stream",
     "text": [
      "<class 'collections.ChainMap'>\n",
      "ChainMap({'a': 1, 'b': 2}, {'b': 3, 'd': 4}, {'e': 5, 'f': 6})\n",
      "['e', 'f', 'b', 'd', 'a'] [5, 6, 2, 4, 1]\n",
      "[{'g': 7}, {'a': 1, 'b': 2}, {'b': 3, 'd': 4}, {'e': 5, 'f': 6}]\n",
      "[{'e': 5, 'f': 6}, {'b': 3, 'd': 4}, {'a': 1, 'b': 2}, {'g': 7}]\n"
     ]
    }
   ],
   "source": [
    "# chainmap: ordering is done\n",
    "from collections import ChainMap  \n",
    "       \n",
    "d1 = {'a': 1, 'b': 2} \n",
    "d2 = {'b': 3, 'd': 4} \n",
    "d3 = {'e': 5, 'f': 6} \n",
    "    \n",
    "# Defining the chainmap  \n",
    "c = ChainMap(d1, d2, d3)  \n",
    "\n",
    "print(type(c))\n",
    "print(c)\n",
    "print(list(c.keys()), list(c.values()))\n",
    "\n",
    "c1 = c.new_child({'g':7}) # at the beginning of chainmap\n",
    "print(c1.maps)\n",
    "\n",
    "r = reversed(c1.maps) # <list_reverseiterator object at 0x000002628AF23AF0>\n",
    "print(list(r))"
   ]
  },
  {
   "cell_type": "markdown",
   "id": "a432aa6d",
   "metadata": {},
   "source": [
    "### set"
   ]
  },
  {
   "cell_type": "markdown",
   "id": "393f6577",
   "metadata": {},
   "source": [
    "- unordered (unindexed), stores all unique values (True and 1 are same for set), mutable (add and remove items), heterogeneous"
   ]
  },
  {
   "cell_type": "code",
   "execution_count": 100,
   "id": "193ee1f4",
   "metadata": {},
   "outputs": [
    {
     "name": "stdout",
     "output_type": "stream",
     "text": [
      "{True, 2, 'b', 'c', 'a'} {1, 2, 3, 'a'} <class 'set'> <class 'set'> 5 4\n",
      "True False\n",
      "True 2 b c a "
     ]
    }
   ],
   "source": [
    "s1 = set(['a','b','c',2, True, 1]) # True is choosen but not 1\n",
    "s2 = {1,2,3,'a', True} # 1 is choosen but not True\n",
    "\n",
    "print(s1,s2, type(s1), type(s2), len(s1), len(s2))\n",
    "\n",
    "print('c' in s1, 'c' not in s1)\n",
    "for i in s1:\n",
    "    print(i, end=\" \")\n",
    "del s1,s2\n",
    "# print(s1) # NameError: name 's1' is not defined"
   ]
  },
  {
   "cell_type": "code",
   "execution_count": 101,
   "id": "88352a2a",
   "metadata": {},
   "outputs": [
    {
     "name": "stdout",
     "output_type": "stream",
     "text": [
      "{'c', 'b', 'a'} False\n"
     ]
    }
   ],
   "source": [
    "s1 =set()\n",
    "s1.add(\"a\")\n",
    "s1.update({\"b\",'c', 'a'})\n",
    "s2 = s1.copy()\n",
    "print(s2, s2 is s1)"
   ]
  },
  {
   "cell_type": "code",
   "execution_count": 102,
   "id": "94a0b519",
   "metadata": {},
   "outputs": [
    {
     "name": "stdout",
     "output_type": "stream",
     "text": [
      "{'c'} {'b'} {'f', 'b', 'e', 'a'} {'f', 'g', 'b', 'e', 'c', 'd', 'a'} True False True True None None c set() None set()\n",
      "{1}\n",
      "{2, 3}\n",
      "{2, 3, 4}\n"
     ]
    }
   ],
   "source": [
    "s1 = {'a','b','c','d'}\n",
    "s2 = {'c','d','e','f'}\n",
    "s3 = {'c','a','e','g'}\n",
    "print(s1.intersection(s2,s3), # c\n",
    "     s1.difference(s2,s3), # b\n",
    "     s1.symmetric_difference(s2), # abfe (other than intersection)\n",
    "     s1.union(s2,s3), # abcdefg\n",
    "     s1.isdisjoint({}), # True\n",
    "     s1.isdisjoint(s2), # False\n",
    "     {'a'}.issubset(s1), # True\n",
    "     s1.issuperset({'a'}), # True\n",
    "     s1.remove('a'), # None. raise error if element is not found\n",
    "     s1.discard('z'), # None. No Error\n",
    "     s1.pop(), # returns randomly removed item\n",
    "     s1, # if b is popped, then cd will be remaining\n",
    "     s1.clear(), # returns None. s1 elements are deleted\n",
    "     s1 # {}\n",
    "     )\n",
    "\n",
    "\n",
    "s1 = {1,2,3}\n",
    "s1.intersection_update({1,4}) # 1\n",
    "print(s1)\n",
    "\n",
    "s1 = {1,2,3}\n",
    "s1.difference_update({1,4}) # 23\n",
    "print(s1)\n",
    "\n",
    "s1 = {1,2,3}\n",
    "s1.symmetric_difference_update({1,4}) # 234\n",
    "print(s1)"
   ]
  },
  {
   "cell_type": "markdown",
   "id": "a37d2a02",
   "metadata": {},
   "source": [
    "### array"
   ]
  },
  {
   "cell_type": "markdown",
   "id": "715c0414",
   "metadata": {},
   "source": [
    "- homogeneous\n",
    "- element wise operations are possible\n",
    "- optimized for arithmetic operations"
   ]
  },
  {
   "cell_type": "code",
   "execution_count": 103,
   "id": "8155007b",
   "metadata": {},
   "outputs": [
    {
     "name": "stdout",
     "output_type": "stream",
     "text": [
      "[1, 2, 3, 'a', 1, 2, 3, 'a']\n",
      "array('i', [1, 2, 3]) <class 'array.array'> array('i', [1, 2, 3, 1, 2, 3])\n",
      "['1' '2' '3' 'a'] <class 'numpy.ndarray'>\n",
      "[1 2 3] <class 'numpy.ndarray'> [2 4 6] [3 6 9]\n",
      "0 3 5\n"
     ]
    }
   ],
   "source": [
    "l1 = [1,2,3,'a']\n",
    "print(l1+l1, \n",
    "#       l1.max() # AttributeError: 'list' object has no attribute 'max'\n",
    "     )\n",
    "\n",
    "import array as arr # not recommeded\n",
    "a1 = arr.array('i',[1,2,3]) # homogeneous\n",
    "print(a1, type(a1), a1+a1)\n",
    "\n",
    "import numpy as np\n",
    "a2 = np.array(l1) # heterogeous but not recommended\n",
    "print(a2, type(a2))\n",
    "\n",
    "a3 = np.array([1,2,3]) # homogeneous\n",
    "print(a3, type(a3), a3+a3, a3*3) # elementwise operation\n",
    "a3[0] = 0\n",
    "# a3[3] = 40 # IndexError: index 3 is out of bounds for axis 0 with size 3\n",
    "print(a3[0], a3.max(), a3.sum())"
   ]
  },
  {
   "cell_type": "markdown",
   "id": "f1dee0d9",
   "metadata": {},
   "source": [
    "## shallow and deep copy"
   ]
  },
  {
   "cell_type": "code",
   "execution_count": 104,
   "id": "8000b2fe",
   "metadata": {},
   "outputs": [
    {
     "name": "stdout",
     "output_type": "stream",
     "text": [
      "a: [1, 2, 3, [4, 5, 6]]\n",
      "b: [1, 2, 3, [4, 5, 6]]\n",
      "False True True\n",
      "\n",
      "Updating b[0] and b[3][0]\n",
      "\n",
      "a: [1, 2, 3, [40, 5, 6]]\n",
      "b: [10, 2, 3, [40, 5, 6]]\n",
      "False False True\n"
     ]
    }
   ],
   "source": [
    "a = [1,2,3,[4,5,6]]\n",
    "# b = a # no copy \n",
    "\n",
    "b = a[:] # shallow copy\n",
    "# b = list(a) # shallow copy\n",
    "# b = a.copy() # shallow copy\n",
    "\n",
    "import copy\n",
    "# b = copy.copy(a) # shallow copy\n",
    "# b = copy.deepcopy(a) # deep copy\n",
    "\n",
    "print('a:',a)\n",
    "print('b:',b)\n",
    "print(a is b, a[0] is b[0], a[3][0] is b[3][0])\n",
    "\n",
    "print(\"\\nUpdating b[0] and b[3][0]\\n\")\n",
    "b[0] = 10\n",
    "b[3][0] = 40\n",
    "\n",
    "print('a:',a)\n",
    "print('b:',b)\n",
    "print(a is b, a[0] is b[0], a[3][0] is b[3][0])"
   ]
  },
  {
   "cell_type": "markdown",
   "id": "2081dc35",
   "metadata": {},
   "source": [
    "### List comprehension"
   ]
  },
  {
   "cell_type": "markdown",
   "id": "848b8cf5",
   "metadata": {},
   "source": [
    "- to generate a new list\n",
    "- enclosed in []"
   ]
  },
  {
   "cell_type": "code",
   "execution_count": 105,
   "id": "d924cde7",
   "metadata": {},
   "outputs": [
    {
     "name": "stdout",
     "output_type": "stream",
     "text": [
      "[0, 1, 2, 3, 4]\n",
      "[0, 2, 4, 6, 8]\n",
      "[0, 2, 4]\n",
      "['even', 'odd', 'even', 'odd', 'even']\n",
      "[-5, -4, -3, -2, -1, 'even', 'odd', 'even']\n",
      "['1a', '1b', '1c', '2a', '2b', '2c', '3a', '3b', '3c']\n",
      "[(0, 1), (1, 2), (2, 3)]\n",
      "[2, 2, 4, 1, 2, 3, 4, 1, 2, 3]\n",
      "[[3, 4, 5], [6, 7, 8], [9, 10, 11]]\n"
     ]
    }
   ],
   "source": [
    "print([i for i in range(5)]) # [0, 1, 2, 3, 4]\n",
    "print([i for i in range(10) if i%2==0]) # [0, 2, 4, 6, 8]\n",
    "print([i for i in range(10) if i%2==0 if i<5]) # [0, 2, 4]\n",
    "print(['even' if i%2==0 else \"odd\" for i in range(5)]) # ['even', 'odd', 'even', 'odd', 'even']\n",
    "print([i if i<0 else \"odd\" if i%2!=0 else 'even' for i in range(-5,3)]) # [-5, -4, -3, -2, -1, 'even', 'odd', 'even']\n",
    "print([i+j for i in ['1','2','3'] for j in ['a','b','c']]) # ['1a', '1b', '1c', '2a', '2b', '2c', '3a', '3b', '3c']\n",
    "print([(i,x) for i,x in enumerate(range(1,4))]) # [(0, 1), (1, 2), (2, 3)]\n",
    "\n",
    "# flattening\n",
    "outerlist = [[2, 2], [4], [1, 2, 3, 4], [1, 2, 3]]\n",
    "print([x for innerlist in outerlist for x in innerlist]) # [2, 2, 4, 1, 2, 3, 4, 1, 2, 3]\n",
    "\n",
    "# comprehension to add 2 to each item in the list\n",
    "outerlist = [[1, 2, 3], [4, 5, 6], [7, 8, 9]]\n",
    "print([[x+2 for x in innerlist] for innerlist in outerlist]) # [[3, 4, 5], [6, 7, 8], [9, 10, 11]]"
   ]
  },
  {
   "cell_type": "markdown",
   "id": "2677d86f",
   "metadata": {},
   "source": [
    "### dictionary comprehension"
   ]
  },
  {
   "cell_type": "markdown",
   "id": "eaa9e2f6",
   "metadata": {},
   "source": [
    "- to generate new dictionary\n",
    "- enclosed in {}"
   ]
  },
  {
   "cell_type": "code",
   "execution_count": 106,
   "id": "54c62c8c",
   "metadata": {},
   "outputs": [
    {
     "name": "stdout",
     "output_type": "stream",
     "text": [
      "{1: 1, 2: 4, 3: 27}\n",
      "{'milk': 83.6298, 'coffee': 204.975}\n",
      "{'milk': 1.02}\n",
      "{'milk': 1.02}\n",
      "{'milk': 'less price', 'coffee': 'high price'}\n"
     ]
    },
    {
     "data": {
      "text/plain": [
       "{11: {1: 11, 2: 22, 3: 33, 4: 44, 5: 55},\n",
       " 12: {1: 12, 2: 24, 3: 36, 4: 48, 5: 60},\n",
       " 13: {1: 13, 2: 26, 3: 39, 4: 52, 5: 65},\n",
       " 14: {1: 14, 2: 28, 3: 42, 4: 56, 5: 70},\n",
       " 15: {1: 15, 2: 30, 3: 45, 4: 60, 5: 75}}"
      ]
     },
     "execution_count": 106,
     "metadata": {},
     "output_type": "execute_result"
    }
   ],
   "source": [
    "print({n: n**n for n in range(1,4)}) # {1: 1, 2: 4, 3: 27}\n",
    "\n",
    "p = {'milk':1.02, 'coffee':2.5}\n",
    "print({k:v*81.99 for k,v in p.items()})\n",
    "print({k:v for k,v in p.items() if v<2})\n",
    "print({k:v for k,v in p.items() if v<2 if len(k)<5})\n",
    "print({k:('less price' if v<2 else 'high price') for k,v in p.items()})\n",
    "{ k1: {k2: k1 * k2 for k2 in range(1, 6)} for k1 in range(11, 16) }"
   ]
  },
  {
   "cell_type": "markdown",
   "id": "95444957",
   "metadata": {},
   "source": [
    "#### Advantages of using dictionary comprehension"
   ]
  },
  {
   "cell_type": "markdown",
   "id": "44732b42",
   "metadata": {},
   "source": [
    "- makes code more elegant\n",
    "- easy to read code\n",
    "- shortens the process of initialising dictionaries \n",
    "- cut short to few lines of code keeping logic intact "
   ]
  },
  {
   "cell_type": "markdown",
   "id": "59b25b17",
   "metadata": {},
   "source": [
    "#### Disadvantages of using dictionary comprehension"
   ]
  },
  {
   "cell_type": "markdown",
   "id": "5f3f0c22",
   "metadata": {},
   "source": [
    "- can make code run slower\n",
    "- consume more memory\n",
    "- complex comprehensions reduces readability of code\n",
    "- not preferred in case of large dictionaries or difficult logic"
   ]
  },
  {
   "cell_type": "markdown",
   "id": "111a371b",
   "metadata": {},
   "source": [
    "## Functions"
   ]
  },
  {
   "cell_type": "code",
   "execution_count": 107,
   "id": "31eba51d",
   "metadata": {},
   "outputs": [
    {
     "name": "stdout",
     "output_type": "stream",
     "text": [
      "Good morning\n"
     ]
    }
   ],
   "source": [
    "# function creation\n",
    "def greetings():\n",
    "    print(\"Good morning\")\n",
    "    \n",
    "# call function\n",
    "greetings() # no parameters no return"
   ]
  },
  {
   "cell_type": "code",
   "execution_count": 108,
   "id": "c46cfe1d",
   "metadata": {},
   "outputs": [
    {
     "name": "stdout",
     "output_type": "stream",
     "text": [
      "('GOOD', 'morning') GOOD morning\n"
     ]
    }
   ],
   "source": [
    "# function creation\n",
    "def greetings(a,b):\n",
    "    return a.upper(),b # returned as tuple\n",
    "    \n",
    "# call function\n",
    "s = greetings(\"Good\",\"morning\") # with multiple parameters with multiple return values\n",
    "a,b = s # unpack tuple\n",
    "print(s, a, b)"
   ]
  },
  {
   "cell_type": "code",
   "execution_count": 109,
   "id": "97103c04",
   "metadata": {},
   "outputs": [],
   "source": [
    "# abc() # NameError: name 'abc' is not defined"
   ]
  },
  {
   "cell_type": "code",
   "execution_count": 110,
   "id": "c52e440c",
   "metadata": {},
   "outputs": [],
   "source": [
    "def positional(a,b):\n",
    "    print(a,b)\n",
    "\n",
    "def arbitrarypositional(a,*b):\n",
    "    print(a,b)\n",
    "\n",
    "def default(c=\"India\"):\n",
    "    print(c)\n",
    "\n",
    "def keyword(a,b):\n",
    "    print(a,b)\n",
    "\n",
    "def arbitrarykeyword(*a,**b):\n",
    "    print(a,b)\n",
    "    print(type(a),type(b))"
   ]
  },
  {
   "cell_type": "code",
   "execution_count": 111,
   "id": "6cfbc13a",
   "metadata": {
    "scrolled": true
   },
   "outputs": [
    {
     "name": "stdout",
     "output_type": "stream",
     "text": [
      "1 2\n",
      "10 (20, 'a', 'b')\n",
      "India\n",
      "Norway\n",
      "10 30\n",
      "(10, 20, 30) {'a': 'Product1', 'b': 'Product2'}\n",
      "<class 'tuple'> <class 'dict'>\n"
     ]
    }
   ],
   "source": [
    "positional(1, 2)\n",
    "arbitrarypositional(10, 20, 'a', 'b')\n",
    "default()\n",
    "default(\"Norway\")\n",
    "keyword(10, b = 30)\n",
    "arbitrarykeyword(10,20,30,a='Product1',b='Product2')"
   ]
  },
  {
   "cell_type": "markdown",
   "id": "47d0fc09",
   "metadata": {
    "id": "j1D0y8C2XFY2"
   },
   "source": [
    "#### order of arguments"
   ]
  },
  {
   "cell_type": "markdown",
   "id": "cb08acdd",
   "metadata": {
    "id": "8bRhJ3DSXOx8"
   },
   "source": [
    "1. positional arguments\n",
    "2. arbitrary positional arguments\n",
    "3. default arguments\n",
    "4. keyword arguments\n",
    "5. arbitrary keyword arguments"
   ]
  },
  {
   "cell_type": "code",
   "execution_count": 112,
   "id": "9d82f7b8",
   "metadata": {},
   "outputs": [
    {
     "name": "stdout",
     "output_type": "stream",
     "text": [
      "20\n",
      "10\n",
      "20\n",
      "(400, 401, 402, 403)\n",
      "{'d': [0, 1, 2, 3], 'p': 100, 'q': 200}\n",
      "\n",
      "400\n",
      "10\n",
      "20\n",
      "(401, 402, 403, 20)\n",
      "{'d': [0, 1, 2, 3], 'p': 100, 'q': 200}\n",
      "\n"
     ]
    }
   ],
   "source": [
    " def fun(a, *d, b=10, c=21, **e): # b is default argument, c is keyword\n",
    "    print(a,b,c,d,e, sep=\"\\n\", end='\\n\\n')\n",
    "    \n",
    "    \n",
    "fun(20,              # positional\n",
    "400, 401, 402, 403,  # arbitrary positional\n",
    "c=20,                # keyword (has default value)\n",
    "d=[0,1,2,3],         # aribitrary keyword \n",
    "p=100,               # aribitrary keyword\n",
    "q=200                # aribitrary keyword\n",
    ")\n",
    "\n",
    "fun(400,401,402,403,20,\n",
    "    c=20, \n",
    "    d=[0,1,2,3], p=100, q=200)"
   ]
  },
  {
   "cell_type": "code",
   "execution_count": 113,
   "id": "b0fbd685",
   "metadata": {},
   "outputs": [
    {
     "name": "stdout",
     "output_type": "stream",
     "text": [
      "a\n",
      "b\n",
      "c\n"
     ]
    }
   ],
   "source": [
    "def my_function(alpha):\n",
    "    for x in alpha:\n",
    "        print(x)\n",
    "\n",
    "alphabets = ['a','b','c']\n",
    "my_function(alphabets)"
   ]
  },
  {
   "cell_type": "code",
   "execution_count": 114,
   "id": "f8f5a495",
   "metadata": {},
   "outputs": [],
   "source": [
    "def function():\n",
    "    pass"
   ]
  },
  {
   "cell_type": "code",
   "execution_count": 115,
   "id": "2ba50160",
   "metadata": {},
   "outputs": [
    {
     "name": "stdout",
     "output_type": "stream",
     "text": [
      "The factorial of 7 is 5040\n"
     ]
    }
   ],
   "source": [
    "# factotial of a number using recursion\n",
    "def recur_factorial(n):\n",
    "     if n == 1:\n",
    "        return n\n",
    "     else:\n",
    "        return n*recur_factorial(n-1) # multiply\n",
    "\n",
    "num = 7\n",
    "\n",
    "# check if the number is negative\n",
    "if num < 0:\n",
    "    print(\"Sorry, factorial does not exist for negative numbers\")\n",
    "elif num == 0:\n",
    "    print(\"The factorial of 0 is 1\")\n",
    "else:\n",
    "    print(\"The factorial of\", num, \"is\", recur_factorial(num)) # 1*2*3*4*5*6*7"
   ]
  },
  {
   "cell_type": "code",
   "execution_count": 116,
   "id": "98605d21",
   "metadata": {},
   "outputs": [
    {
     "name": "stdout",
     "output_type": "stream",
     "text": [
      "Recursion Example Results\n",
      "1\n",
      "3\n",
      "6\n",
      "10\n",
      "15\n",
      "21\n",
      "result : 21\n"
     ]
    }
   ],
   "source": [
    "# Sum of frist n natural numbers using recursion\n",
    "def try_recursion(k):\n",
    "    if(k > 0):\n",
    "        result = k + try_recursion(k - 1)\n",
    "        print(result)\n",
    "    else:\n",
    "        result = 0\n",
    "    return result\n",
    "\n",
    "print(\"Recursion Example Results\")\n",
    "result = try_recursion(6) # 1+2+3+4+5+6\n",
    "print(\"result :\",result)"
   ]
  },
  {
   "cell_type": "markdown",
   "id": "9a831e45",
   "metadata": {},
   "source": [
    "### Pass by Object Reference"
   ]
  },
  {
   "cell_type": "code",
   "execution_count": 117,
   "id": "e0780aa7",
   "metadata": {},
   "outputs": [
    {
     "name": "stdout",
     "output_type": "stream",
     "text": [
      "True datascience datascience\n"
     ]
    }
   ],
   "source": [
    "def function(m):    \n",
    "    m = 'datascience'        \n",
    "    return m\n",
    "\n",
    "a = 'datascience'\n",
    "b = function(a)\n",
    "print(a is b, a, b)"
   ]
  },
  {
   "cell_type": "code",
   "execution_count": 118,
   "id": "88f1cd5b",
   "metadata": {},
   "outputs": [
    {
     "name": "stdout",
     "output_type": "stream",
     "text": [
      "False datascience python\n"
     ]
    }
   ],
   "source": [
    "def function(m):    \n",
    "    m = 'python'        \n",
    "    return m\n",
    "\n",
    "a = 'datascience'\n",
    "b = function(a)\n",
    "print(a is b, a, b)"
   ]
  },
  {
   "cell_type": "code",
   "execution_count": 119,
   "id": "2ae8f6f3",
   "metadata": {},
   "outputs": [
    {
     "name": "stdout",
     "output_type": "stream",
     "text": [
      "True [1, 2, 3, [4, 5, 6], 4] [1, 2, 3, [4, 5, 6], 4]\n"
     ]
    }
   ],
   "source": [
    "def function(m):    \n",
    "    m.append(4)\n",
    "    return m\n",
    "\n",
    "a = [1,2,3,[4,5,6]]\n",
    "b = function(a)\n",
    "print(a is b, a, b)"
   ]
  },
  {
   "cell_type": "code",
   "execution_count": 120,
   "id": "de2cfe61",
   "metadata": {},
   "outputs": [
    {
     "name": "stdout",
     "output_type": "stream",
     "text": [
      "True [10, 2, 3, [40, 5, 6]] [10, 2, 3, [40, 5, 6]]\n"
     ]
    }
   ],
   "source": [
    "def function(m):    \n",
    "    m[0] = 10 \n",
    "    m[3][0] = 40\n",
    "    return m\n",
    "\n",
    "a = [1,2,3,[4,5,6]]\n",
    "b = function(a)\n",
    "print(a is b, a, b)"
   ]
  },
  {
   "cell_type": "code",
   "execution_count": 121,
   "id": "04fb60d9",
   "metadata": {},
   "outputs": [
    {
     "name": "stdout",
     "output_type": "stream",
     "text": [
      "False [1, 2, 3, [4, 5, 6]] [1, 2, 3]\n"
     ]
    }
   ],
   "source": [
    "def function(m):    \n",
    "    m = [1,2,3]       \n",
    "    return m\n",
    "\n",
    "a = [1,2,3,[4,5,6]]\n",
    "b = function(a)\n",
    "print(a is b, a, b)"
   ]
  },
  {
   "cell_type": "code",
   "execution_count": 122,
   "id": "9a782fb1",
   "metadata": {},
   "outputs": [
    {
     "name": "stdout",
     "output_type": "stream",
     "text": [
      "False [1, 2, 3, [4, 5, 6]] [1, 2, 3, [4, 5, 6]]\n"
     ]
    }
   ],
   "source": [
    "def function(m):          \n",
    "    return m\n",
    "\n",
    "a = [1,2,3,[4,5,6]]\n",
    "b = function(a[:])\n",
    "print(a is b, a, b)"
   ]
  },
  {
   "cell_type": "code",
   "execution_count": 123,
   "id": "73e0dc73",
   "metadata": {},
   "outputs": [
    {
     "name": "stdout",
     "output_type": "stream",
     "text": [
      "False [1, 2, 3, [40, 5, 6]] [10, 2, 3, [40, 5, 6]]\n"
     ]
    }
   ],
   "source": [
    "def function(m):    \n",
    "    m[0] = 10 \n",
    "    m[3][0] = 40\n",
    "    return m\n",
    "\n",
    "a = [1,2,3,[4,5,6]]\n",
    "b = function(a[:])\n",
    "print(a is b, a, b)"
   ]
  },
  {
   "cell_type": "code",
   "execution_count": 124,
   "id": "b21d7e0c",
   "metadata": {},
   "outputs": [
    {
     "name": "stdout",
     "output_type": "stream",
     "text": [
      "False [1, 2, 3, [4, 5, 6]] [10, 2, 3, [40, 5, 6]]\n"
     ]
    }
   ],
   "source": [
    "def function(m):   \n",
    "    m = [1,2,3,[4,5,6]]\n",
    "    m[0] = 10 \n",
    "    m[3][0] = 40\n",
    "    return m\n",
    "\n",
    "a = [1,2,3,[4,5,6]]\n",
    "b = function(a[:])\n",
    "print(a is b, a, b)"
   ]
  },
  {
   "cell_type": "markdown",
   "id": "c9983d8e",
   "metadata": {},
   "source": [
    "### lambda functions"
   ]
  },
  {
   "cell_type": "markdown",
   "id": "8e91c4ec",
   "metadata": {},
   "source": [
    "- one line functions\n",
    "- anonymous functions\n",
    "- used only once functions"
   ]
  },
  {
   "cell_type": "code",
   "execution_count": 125,
   "id": "9fcc02c5",
   "metadata": {},
   "outputs": [
    {
     "name": "stdout",
     "output_type": "stream",
     "text": [
      "30\n"
     ]
    }
   ],
   "source": [
    "def multiplication_with_five(x):\n",
    "    return 5 * x \n",
    "\n",
    "a = multiplication_with_five(6)\n",
    "print(a)"
   ]
  },
  {
   "cell_type": "code",
   "execution_count": 126,
   "id": "5763890b",
   "metadata": {
    "colab": {
     "base_uri": "https://localhost:8080/"
    },
    "executionInfo": {
     "elapsed": 3,
     "status": "ok",
     "timestamp": 1684900812761,
     "user": {
      "displayName": "DSS DSS",
      "userId": "17636620013329168760"
     },
     "user_tz": -330
    },
    "id": "7rSS9lpEXOpS",
    "outputId": "bb9a574d-d163-4a02-ed65-1520ce3e33ca"
   },
   "outputs": [
    {
     "name": "stdout",
     "output_type": "stream",
     "text": [
      "<function <lambda> at 0x000001F7C24910D0> 30\n"
     ]
    }
   ],
   "source": [
    "# 1 parameter\n",
    "a = lambda x: 5 * x\n",
    "print(a, a(6))"
   ]
  },
  {
   "cell_type": "code",
   "execution_count": 127,
   "id": "6136c0f1",
   "metadata": {
    "colab": {
     "base_uri": "https://localhost:8080/"
    },
    "executionInfo": {
     "elapsed": 435,
     "status": "ok",
     "timestamp": 1684900968438,
     "user": {
      "displayName": "DSS DSS",
      "userId": "17636620013329168760"
     },
     "user_tz": -330
    },
    "id": "YgGhjZgGXTBk",
    "outputId": "dc1a31ce-9dbc-4bf7-edf7-83bf264f0fd0"
   },
   "outputs": [
    {
     "name": "stdout",
     "output_type": "stream",
     "text": [
      "<function <lambda> at 0x000001F7C2491670> 30\n"
     ]
    }
   ],
   "source": [
    "# 2 parameters\n",
    "x = lambda a, b: a * b\n",
    "print(x, x(5, 6))"
   ]
  },
  {
   "cell_type": "code",
   "execution_count": 128,
   "id": "4c7306c2",
   "metadata": {
    "colab": {
     "base_uri": "https://localhost:8080/"
    },
    "executionInfo": {
     "elapsed": 2,
     "status": "ok",
     "timestamp": 1684901008812,
     "user": {
      "displayName": "DSS DSS",
      "userId": "17636620013329168760"
     },
     "user_tz": -330
    },
    "id": "Yd8yb02FXUDu",
    "outputId": "3d6fe3b9-3383-4512-ec8c-1b68bfa05678"
   },
   "outputs": [
    {
     "name": "stdout",
     "output_type": "stream",
     "text": [
      "13\n",
      "130\n"
     ]
    }
   ],
   "source": [
    "# 3 parameters\n",
    "x = lambda a, b, c: a + b + c\n",
    "print(x(5, 6, 2))\n",
    "print(x(50, 60, 20))"
   ]
  },
  {
   "cell_type": "markdown",
   "id": "f64a5c75",
   "metadata": {
    "id": "IlbxsosTXW92"
   },
   "source": [
    "#### lambda function inside another function"
   ]
  },
  {
   "cell_type": "code",
   "execution_count": 129,
   "id": "222b6cb2",
   "metadata": {
    "executionInfo": {
     "elapsed": 4,
     "status": "ok",
     "timestamp": 1684901170749,
     "user": {
      "displayName": "DSS DSS",
      "userId": "17636620013329168760"
     },
     "user_tz": -330
    },
    "id": "me2rjb2uXb9E"
   },
   "outputs": [],
   "source": [
    "def myfunc(n):\n",
    "    return lambda  a: a ** n"
   ]
  },
  {
   "cell_type": "code",
   "execution_count": 130,
   "id": "8d5ea09e",
   "metadata": {
    "colab": {
     "base_uri": "https://localhost:8080/"
    },
    "executionInfo": {
     "elapsed": 3,
     "status": "ok",
     "timestamp": 1684901170749,
     "user": {
      "displayName": "DSS DSS",
      "userId": "17636620013329168760"
     },
     "user_tz": -330
    },
    "id": "9lllNs1BOZCp",
    "outputId": "6d9c22a1-5468-4e39-cb0d-71901068b7b7"
   },
   "outputs": [
    {
     "name": "stdout",
     "output_type": "stream",
     "text": [
      "121\n"
     ]
    }
   ],
   "source": [
    "# square = lambda  a: a * 2\n",
    "\n",
    "square = myfunc(2) # n\n",
    "print(square(11)) # a"
   ]
  },
  {
   "cell_type": "code",
   "execution_count": 131,
   "id": "24e568c6",
   "metadata": {
    "colab": {
     "base_uri": "https://localhost:8080/"
    },
    "executionInfo": {
     "elapsed": 2,
     "status": "ok",
     "timestamp": 1684901233529,
     "user": {
      "displayName": "DSS DSS",
      "userId": "17636620013329168760"
     },
     "user_tz": -330
    },
    "id": "QinPLkDzXc_n",
    "outputId": "f37fd3f8-733c-4cd9-d670-a99db114edd7"
   },
   "outputs": [
    {
     "name": "stdout",
     "output_type": "stream",
     "text": [
      "1331\n"
     ]
    }
   ],
   "source": [
    "cube = myfunc(3)\n",
    "print(cube(11))"
   ]
  },
  {
   "cell_type": "code",
   "execution_count": 132,
   "id": "dd8d2348",
   "metadata": {
    "colab": {
     "base_uri": "https://localhost:8080/"
    },
    "executionInfo": {
     "elapsed": 2,
     "status": "ok",
     "timestamp": 1684901250653,
     "user": {
      "displayName": "DSS DSS",
      "userId": "17636620013329168760"
     },
     "user_tz": -330
    },
    "id": "WqOyVyLh8L09",
    "outputId": "5c789510-c994-446d-c624-a98bc0d415fd"
   },
   "outputs": [
    {
     "name": "stdout",
     "output_type": "stream",
     "text": [
      "25\n",
      "125\n"
     ]
    }
   ],
   "source": [
    "print(square(5))\n",
    "print(cube(5))"
   ]
  },
  {
   "cell_type": "markdown",
   "id": "e6e27fb5",
   "metadata": {
    "id": "5G3otNAqPeQp"
   },
   "source": [
    "#### nested lambda functions"
   ]
  },
  {
   "cell_type": "code",
   "execution_count": 133,
   "id": "47d65ea7",
   "metadata": {
    "colab": {
     "base_uri": "https://localhost:8080/"
    },
    "executionInfo": {
     "elapsed": 6,
     "status": "ok",
     "timestamp": 1684901775918,
     "user": {
      "displayName": "DSS DSS",
      "userId": "17636620013329168760"
     },
     "user_tz": -330
    },
    "id": "EOGdYKdC8ayj",
    "outputId": "6677b8a3-edd6-46f5-b5cd-061af5b96f42"
   },
   "outputs": [
    {
     "name": "stdout",
     "output_type": "stream",
     "text": [
      "5\n"
     ]
    }
   ],
   "source": [
    "z = lambda a,b : a+b\n",
    "print(z(2,3))"
   ]
  },
  {
   "cell_type": "code",
   "execution_count": 134,
   "id": "312f298d",
   "metadata": {
    "colab": {
     "base_uri": "https://localhost:8080/"
    },
    "executionInfo": {
     "elapsed": 4,
     "status": "ok",
     "timestamp": 1684901799308,
     "user": {
      "displayName": "DSS DSS",
      "userId": "17636620013329168760"
     },
     "user_tz": -330
    },
    "id": "wzHiQkc2Ohe5",
    "outputId": "8b2d62fc-a89e-418d-b739-8aef693414f7"
   },
   "outputs": [
    {
     "data": {
      "text/plain": [
       "14"
      ]
     },
     "execution_count": 134,
     "metadata": {},
     "output_type": "execute_result"
    }
   ],
   "source": [
    "f = lambda a = 2, b = 3: (lambda c: a+b+c)\n",
    "f(5) # a = 5, but not c = 5\n",
    "a = f(5)\n",
    "a(6) # c = 5"
   ]
  },
  {
   "cell_type": "code",
   "execution_count": 135,
   "id": "7a865386",
   "metadata": {
    "id": "pUju-LrJPULT"
   },
   "outputs": [
    {
     "data": {
      "text/plain": [
       "16"
      ]
     },
     "execution_count": 135,
     "metadata": {},
     "output_type": "execute_result"
    }
   ],
   "source": [
    "z = lambda a=2,b=3 : (lambda c : lambda g : a+b+c+g)\n",
    "y = z(4) # a = 4 \n",
    "e = y(4)\n",
    "e(5)"
   ]
  },
  {
   "cell_type": "markdown",
   "id": "dd0d37c0",
   "metadata": {},
   "source": [
    "### scope of variables"
   ]
  },
  {
   "cell_type": "code",
   "execution_count": 136,
   "id": "59906829",
   "metadata": {},
   "outputs": [
    {
     "name": "stdout",
     "output_type": "stream",
     "text": [
      "50\n",
      "10\n"
     ]
    }
   ],
   "source": [
    "g = 10 # global scope\n",
    "\n",
    "def function():\n",
    "    l = 50 # local scope\n",
    "    print(l)\n",
    "    \n",
    "function()\n",
    "print(g)"
   ]
  },
  {
   "cell_type": "code",
   "execution_count": 137,
   "id": "29144c47",
   "metadata": {},
   "outputs": [
    {
     "name": "stdout",
     "output_type": "stream",
     "text": [
      "10\n",
      "10\n"
     ]
    }
   ],
   "source": [
    "g = 10\n",
    "\n",
    "def function():\n",
    "    print(g) # global scope\n",
    "    \n",
    "function()\n",
    "print(g)"
   ]
  },
  {
   "cell_type": "code",
   "execution_count": 138,
   "id": "3cae1ad3",
   "metadata": {},
   "outputs": [
    {
     "name": "stdout",
     "output_type": "stream",
     "text": [
      "50\n",
      "10\n"
     ]
    }
   ],
   "source": [
    "g = 10 # global scope\n",
    "\n",
    "def function():\n",
    "    g = 50 # variable shadowing - local scope\n",
    "    print(g) \n",
    "    \n",
    "function()\n",
    "print(g)"
   ]
  },
  {
   "cell_type": "code",
   "execution_count": 139,
   "id": "6088d20d",
   "metadata": {},
   "outputs": [
    {
     "name": "stdout",
     "output_type": "stream",
     "text": [
      "50\n",
      "50\n"
     ]
    }
   ],
   "source": [
    "def function():\n",
    "    global g1  \n",
    "    g1 = 50 # global scope\n",
    "    print(g1) \n",
    "    \n",
    "function()\n",
    "print(g1)"
   ]
  },
  {
   "cell_type": "code",
   "execution_count": 140,
   "id": "b372fd3b",
   "metadata": {},
   "outputs": [
    {
     "name": "stdout",
     "output_type": "stream",
     "text": [
      "g\n",
      "50\n",
      "50\n"
     ]
    }
   ],
   "source": [
    "def function():\n",
    "    global g2  \n",
    "    print('g')\n",
    "    a = 3\n",
    "    g2 = 50 # global scope\n",
    "    print(g2) \n",
    "    \n",
    "function()\n",
    "print(g2)"
   ]
  },
  {
   "cell_type": "code",
   "execution_count": 141,
   "id": "8d16c040",
   "metadata": {},
   "outputs": [
    {
     "name": "stdout",
     "output_type": "stream",
     "text": [
      "hello\n"
     ]
    }
   ],
   "source": [
    "def function():\n",
    "    global g3  \n",
    "    print('hello')\n",
    "#     print(g3) # NameError: name 'g3' is not defined\n",
    "    \n",
    "function()"
   ]
  },
  {
   "cell_type": "code",
   "execution_count": 142,
   "id": "dea991e9",
   "metadata": {},
   "outputs": [
    {
     "name": "stdout",
     "output_type": "stream",
     "text": [
      "50\n",
      "50\n"
     ]
    }
   ],
   "source": [
    "g4 = 10\n",
    "def function():\n",
    "    global g4\n",
    "    g4 = 50 # global scope\n",
    "    print(g4) \n",
    "    \n",
    "function()\n",
    "print(g4)"
   ]
  },
  {
   "cell_type": "markdown",
   "id": "5e570a49",
   "metadata": {},
   "source": [
    "### built functions"
   ]
  },
  {
   "cell_type": "code",
   "execution_count": 143,
   "id": "f631142d",
   "metadata": {},
   "outputs": [
    {
     "name": "stdout",
     "output_type": "stream",
     "text": [
      "60\n",
      "True\n",
      "Tony\n",
      "my message\n",
      "<object object at 0x000001F7A2EA0410> <object object at 0x000001F7C21EC2F0>\n",
      "Male\n"
     ]
    }
   ],
   "source": [
    "class Person:\n",
    "    \"This is a Person class\"\n",
    "    name = \"Tony\"\n",
    "    age = 60\n",
    "    \n",
    "p = Person()\n",
    "print(p.age)\n",
    "\n",
    "delattr(Person, 'age')\n",
    "setattr(Person, 'gender', 'Male')\n",
    "print(hasattr(Person, 'gender'))\n",
    "# print(p.age) #  AttributeError: 'Person' object has no attribute 'age'\n",
    "\n",
    "print(getattr(Person, 'name', 'my message'))\n",
    "print(getattr(Person, 'page', 'my message'))\n",
    "\n",
    "print(object(), # new object\n",
    "      object())\n",
    "\n",
    "print(vars(Person)['gender'])"
   ]
  },
  {
   "cell_type": "code",
   "execution_count": 144,
   "id": "e53dcce0",
   "metadata": {},
   "outputs": [],
   "source": [
    "class Student(Person):\n",
    "    pass\n",
    "\n",
    "stu = Student()"
   ]
  },
  {
   "cell_type": "code",
   "execution_count": 145,
   "id": "39348bab",
   "metadata": {},
   "outputs": [
    {
     "name": "stdout",
     "output_type": "stream",
     "text": [
      "5.7 5.0 False True 0b1010 True False True a {'name': 'tony', 'age': '60'} name (3, 4) [(0, 'a'), (1, 'b')] 75.000000% 11111111 ff 1713578045245444163 -4363729961677198915\n"
     ]
    }
   ],
   "source": [
    "t1 = (1,3,2)\n",
    "t2 = (1,2,4)\n",
    "print(abs(-5.7), # 5.7\n",
    "      abs(3+4j), # 5.0 sqrt(a*a + b*b)\n",
    "      all([True,0]), # False\n",
    "      any([True,False]), # True\n",
    "      bin(10), # 0b1010 binary version of number\n",
    "      bool(10), # True\n",
    "      callable(5), # False\n",
    "      callable(bool), # True\n",
    "      chr(97), # a\n",
    "      dict(name=\"tony\",age='60'),\n",
    "      dir(Person)[-1],\n",
    "      divmod(19,5), # quotient and remainder\n",
    "      list(enumerate([\"a\",\"b\"])), \n",
    "      format(0.75, '%'),\n",
    "      format(255,'b'),\n",
    "      format(255,'x'),\n",
    "      str(hash(t1)),\n",
    "      str(hash(t2)),\n",
    "#       str(hash(list(t1))), # TypeError: unhashable type: 'list'\n",
    "     )"
   ]
  },
  {
   "cell_type": "code",
   "execution_count": 146,
   "id": "bd4e9367",
   "metadata": {},
   "outputs": [
    {
     "name": "stdout",
     "output_type": "stream",
     "text": [
      "0xff 2163102819072 True False True True 0o14 97 20 a 30 64 4 5.74 5.736 6 slice(0, 3, 2) (1, 2) [3, 2, 1] (1, 3, 2)\n"
     ]
    }
   ],
   "source": [
    "print(hex(255),\n",
    "      id(t1),\n",
    "      isinstance(5,int),\n",
    "      isinstance(5,(float,str)),\n",
    "      isinstance(p, Person),\n",
    "      issubclass(Person, object),\n",
    "      oct(12),\n",
    "      ord('a'), # unicode representation of specififed character\n",
    "      max(10,20),\n",
    "      min(\"ab\"), # a \n",
    "      sum([10,20]),\n",
    "      pow(4,3), # 4**3\n",
    "      pow(4,3,5), # (4**3)%5\n",
    "      round(5.73636, 2),\n",
    "      round(5.73636, 3),\n",
    "      round(5.73636),\n",
    "      slice(0,3,2),\n",
    "      t1[slice(0,3,2)],\n",
    "      sorted(t1, reverse=True), # original is not affected\n",
    "      t1\n",
    "     )"
   ]
  },
  {
   "cell_type": "code",
   "execution_count": 147,
   "id": "a70c7551",
   "metadata": {},
   "outputs": [
    {
     "name": "stdout",
     "output_type": "stream",
     "text": [
      "4\n"
     ]
    },
    {
     "data": {
      "text/plain": [
       "(None,)"
      ]
     },
     "execution_count": 147,
     "metadata": {},
     "output_type": "execute_result"
    }
   ],
   "source": [
    "eval(compile('print(1+3)', mode='eval', filename='test')),"
   ]
  },
  {
   "cell_type": "code",
   "execution_count": 148,
   "id": "954fdf8f",
   "metadata": {},
   "outputs": [
    {
     "data": {
      "text/plain": [
       "10"
      ]
     },
     "execution_count": 148,
     "metadata": {},
     "output_type": "execute_result"
    }
   ],
   "source": [
    "eval(compile('5+5', mode='eval', filename='test'))"
   ]
  },
  {
   "cell_type": "code",
   "execution_count": 149,
   "id": "99ca9ab7",
   "metadata": {},
   "outputs": [
    {
     "name": "stdout",
     "output_type": "stream",
     "text": [
      "22\n",
      "24\n"
     ]
    }
   ],
   "source": [
    "exec(compile('print(22)\\nprint(24)', mode='exec', filename='test'))"
   ]
  },
  {
   "cell_type": "code",
   "execution_count": 150,
   "id": "70d04eaa",
   "metadata": {},
   "outputs": [],
   "source": [
    "# globals() # dictionary representation of current global symbol table"
   ]
  },
  {
   "cell_type": "code",
   "execution_count": 151,
   "id": "133ffebd",
   "metadata": {},
   "outputs": [],
   "source": [
    "# locals() # dictionary of the current local symbol table"
   ]
  },
  {
   "cell_type": "code",
   "execution_count": 152,
   "id": "6be9b5f2",
   "metadata": {
    "scrolled": true
   },
   "outputs": [
    {
     "name": "stdout",
     "output_type": "stream",
     "text": [
      "Help on built-in function sorted in module builtins:\n",
      "\n",
      "sorted(iterable, /, *, key=None, reverse=False)\n",
      "    Return a new list containing all items from the iterable in ascending order.\n",
      "    \n",
      "    A custom key function can be supplied to customize the sort order, and the\n",
      "    reverse flag can be set to request the result in descending order.\n",
      "\n"
     ]
    }
   ],
   "source": [
    "help(sorted)"
   ]
  },
  {
   "cell_type": "code",
   "execution_count": 153,
   "id": "8c579d6b",
   "metadata": {},
   "outputs": [
    {
     "name": "stdout",
     "output_type": "stream",
     "text": [
      "1 2 3\n",
      "1 11 2 [1, 3, 5, 7, 9] 4\n",
      "[9, 7, 5, 3, 1]\n"
     ]
    }
   ],
   "source": [
    "# iterable\n",
    "l1 = [1,2,3]\n",
    "# next(l1) # TypeError: 'list' object is not an iterator\n",
    "\n",
    "# iterator\n",
    "iterator1 = iter(l1)\n",
    "print(next(iterator1), \n",
    "      next(iterator1),\n",
    "      next(iterator1), \n",
    "#       next(iterator1) # StopIteration: \n",
    "     )\n",
    "\n",
    "a = range(1,11,2)\n",
    "# next(a) # TypeError: 'range' object is not an iterator\n",
    "print(a.start, a.stop, a.step, \n",
    "      list(a), a.index(9),\n",
    "#      a.index(2) # ValueError: 2 is not in range\n",
    "     )\n",
    "\n",
    "print(list(reversed(a)))"
   ]
  },
  {
   "cell_type": "code",
   "execution_count": 154,
   "id": "ac1e8e2d",
   "metadata": {},
   "outputs": [
    {
     "name": "stdout",
     "output_type": "stream",
     "text": [
      "(1, 'a')\n",
      "(2, 'b')\n",
      "(3, 'c')\n"
     ]
    }
   ],
   "source": [
    "left = [1,2,3,4,5]\n",
    "right = ['a','b','c']\n",
    "for x in zip(left,right):\n",
    "    print(x)"
   ]
  },
  {
   "cell_type": "markdown",
   "id": "e2df15fb",
   "metadata": {},
   "source": [
    "### map filter reduce"
   ]
  },
  {
   "cell_type": "code",
   "execution_count": 155,
   "id": "f08fe314",
   "metadata": {},
   "outputs": [
    {
     "name": "stdout",
     "output_type": "stream",
     "text": [
      "<map object at 0x000001F7C24BC1F0> [1, 4] set()\n",
      "{'B', 'A'} ('A', 'B')\n",
      "<map object at 0x000001F7C24BC0A0>\n",
      "1 4 9 16\n",
      "<map object at 0x000001F7C24BC0A0>\n"
     ]
    }
   ],
   "source": [
    "def square(n):\n",
    "    return n*n\n",
    "\n",
    "m = map(square, [1,2])\n",
    "print(m, list(m), set(m))\n",
    "\n",
    "s = list(map(lambda a: a.upper(), ['a','b']))\n",
    "print(set(s), tuple(s))\n",
    "\n",
    "x = map(lambda x:x*x, (1,2,3,4))  # x is the map object => Generator\n",
    "print(x)\n",
    "print(next(x), # 1\n",
    "      next(x), # 4\n",
    "      next(x), # 9\n",
    "      next(x)) # 16\n",
    "print(x,  # empty object exists\n",
    "#       next(x) # StopIteration: \n",
    "     )"
   ]
  },
  {
   "cell_type": "code",
   "execution_count": 156,
   "id": "50f366d6",
   "metadata": {},
   "outputs": [
    {
     "name": "stdout",
     "output_type": "stream",
     "text": [
      "[4, 6, 4, 56, 9, 32]\n",
      "[3.57]\n",
      "[3.6, 5.58, 4.009, 56.2424, 9.01344, 32.00013]\n"
     ]
    }
   ],
   "source": [
    "# round takes 2 args so here we pass 2 iterables\n",
    "\n",
    "circle_areas = [3.56773, 5.57668, 4.00914, 56.24241, 9.01344, 32.00013]\n",
    "\n",
    "result = list(map(round, circle_areas))\n",
    "print(result)\n",
    "\n",
    "result = list(map(round, circle_areas, [2]))\n",
    "print(result)\n",
    "              \n",
    "result = list(map(round, circle_areas, range(1, 7)))\n",
    "print(result)"
   ]
  },
  {
   "cell_type": "code",
   "execution_count": 157,
   "id": "64287f5e",
   "metadata": {},
   "outputs": [
    {
     "name": "stdout",
     "output_type": "stream",
     "text": [
      "<filter object at 0x000001F7C24BC670> [-2, -1, 1, 2, 3, 4]\n"
     ]
    }
   ],
   "source": [
    "# incorrect return\n",
    "\n",
    "def func(x):\n",
    "    if x >= -2:\n",
    "        return x # returning value for filter function : incorrect (as filter considers true or false)\n",
    "    \n",
    "num = (-4,-3,-2,-1,0,1,2,3,4)\n",
    "\n",
    "x = filter(func, num)  \n",
    "print(x, list(x)) # 0 is not returned as 0 is considered False"
   ]
  },
  {
   "cell_type": "code",
   "execution_count": 158,
   "id": "477c2fde",
   "metadata": {},
   "outputs": [
    {
     "name": "stdout",
     "output_type": "stream",
     "text": [
      "[-2, -1, 0, 1, 2, 3, 4]\n",
      "[-2, -1, 0, 1, 2, 3, 4]\n"
     ]
    }
   ],
   "source": [
    "# return elements > -2\n",
    "\n",
    "def compare(x):\n",
    "    return x >= -2 # return boolean for filter functionL: correct\n",
    "\n",
    "num = (-4,-3,-2,-1,0,1,2,3,4)\n",
    "\n",
    "y = list(filter(compare, num)) # F, F, T, T, T, T, T, T, T\n",
    "print(y) # 0 is also returned : correct\n",
    "\n",
    "y = list(filter(lambda x: (x>=-2), num))\n",
    "print(y)"
   ]
  },
  {
   "cell_type": "code",
   "execution_count": 159,
   "id": "93bd0ce2",
   "metadata": {},
   "outputs": [
    {
     "name": "stdout",
     "output_type": "stream",
     "text": [
      "['madam', 'anutforajaroftuna']\n"
     ]
    }
   ],
   "source": [
    "dromes = (\"demigod\", \"rewire\", \"madam\", \"freer\", \"anutforajaroftuna\", \"kiosk\")\n",
    "\n",
    "palindromes = list(filter(lambda word: word == word[::-1], dromes))\n",
    "\n",
    "print(palindromes)"
   ]
  },
  {
   "cell_type": "code",
   "execution_count": 160,
   "id": "c5b35cdc",
   "metadata": {},
   "outputs": [
    {
     "data": {
      "text/plain": [
       "187"
      ]
     },
     "execution_count": 160,
     "metadata": {},
     "output_type": "execute_result"
    }
   ],
   "source": [
    "from functools import reduce\n",
    "\n",
    "reduce(lambda a,b: a+b,[23,21,45,98])"
   ]
  },
  {
   "cell_type": "raw",
   "id": "fdf8e82d",
   "metadata": {},
   "source": [
    "# Question :Correct the below code as per the given criteria\n",
    "\n",
    "from functools import reduce \n",
    "\n",
    "# Use map to print the square of each numbers rounded\n",
    "# to three decimal places\n",
    "my_floats = [4.35, 6.09, 3.25, 9.77, 2.16, 8.88, 4.59]\n",
    "\n",
    "# Use filter to print only the names that are less than \n",
    "# or equal to seven letters\n",
    "my_names = [\"ML\", \"sql\", \"python\",'datascience']\n",
    "\n",
    "# Use reduce to print the product of these numbers\n",
    "my_numbers = [4, 6, 9, 23, 5]\n",
    "\n",
    "# Fix all three respectively.\n",
    "map_result = list(map(lambda x: x, my_floats))\n",
    "filter_result = list(filter(lambda name: name, my_names))\n",
    "reduce_result = reduce(lambda num1, num2: num1 * num2, my_numbers, 0)\n",
    "\n",
    "print(map_result)\n",
    "print(filter_result)\n",
    "print(reduce_result)"
   ]
  },
  {
   "cell_type": "code",
   "execution_count": 161,
   "id": "5b19363d",
   "metadata": {},
   "outputs": [
    {
     "name": "stdout",
     "output_type": "stream",
     "text": [
      "[18.922, 37.088, 10.562, 95.453, 4.666, 78.854, 21.068]\n",
      "['ML', 'sql', 'python']\n",
      "24840\n"
     ]
    }
   ],
   "source": [
    "# Solution\n",
    "\n",
    "from functools import reduce \n",
    "\n",
    "my_floats = [4.35, 6.09, 3.25, 9.77, 2.16, 8.88, 4.59]\n",
    "my_names = [\"ML\", \"sql\", \"python\",'datascience']\n",
    "my_numbers = [4, 6, 9, 23, 5]\n",
    "\n",
    "map_result = list(map(lambda x: round(x ** 2, 3), my_floats))\n",
    "filter_result = list(filter(lambda name: len(name) <= 7, my_names))\n",
    "reduce_result = reduce(lambda num1, num2: num1 * num2, my_numbers)\n",
    "\n",
    "print(map_result)\n",
    "print(filter_result)\n",
    "print(reduce_result)"
   ]
  },
  {
   "cell_type": "code",
   "execution_count": 162,
   "id": "fd2809a3",
   "metadata": {},
   "outputs": [
    {
     "name": "stdout",
     "output_type": "stream",
     "text": [
      "Basketball Players: ['Bharath', 'Dev']\n"
     ]
    }
   ],
   "source": [
    "#Printing the name of students who play basketball using filter and map method simultaneously.\n",
    "  \n",
    "# Taking an array of Student object\n",
    "students = [\n",
    "    { 'id': \"001\", 'name': \"Adarsh\", 'sports': \"Cricket\" },\n",
    "    { 'id': \"002\", 'name': \"Bharath\", 'sports': \"Basketball\" },\n",
    "    { 'id': \"003\", 'name': \"Chetan\", 'sports': \"Cricket\" },\n",
    "    { 'id': \"004\", 'name': \"Dev\", 'sports': \"Basketball\" },\n",
    "    { 'id': \"005\", 'name': \"Eswar\", 'sports': \"Hockey\" }\n",
    "]\n",
    "  \n",
    "# Applying filter function on students array to retrieve those students Objects who play basketball and then \n",
    "# the new array returned by filter method is mapped in order to get the name of basketball players instead of whole object\n",
    "\n",
    "basketballPlayers = list(map(lambda x: x['name'], \n",
    "                             filter(lambda student: student['sports'] == \"Basketball\", \n",
    "                                    [student for student in students])))\n",
    "  \n",
    "print(\"Basketball Players:\", basketballPlayers)"
   ]
  },
  {
   "cell_type": "code",
   "execution_count": 163,
   "id": "a0a30a4d",
   "metadata": {},
   "outputs": [
    {
     "name": "stdout",
     "output_type": "stream",
     "text": [
      "product names: ['P1', 'P3', 'P4']\n",
      "net price: 900\n"
     ]
    }
   ],
   "source": [
    "# Purchase all the products whose price is < 500. \n",
    "# List product names and net price\n",
    "\n",
    "products = [\n",
    "    { 'id': \"001\", 'name': \"P1\", 'price': 450 },\n",
    "    { 'id': \"002\", 'name': \"P2\", 'price': 700 },\n",
    "    { 'id': \"003\", 'name': \"P3\", 'price': 350 },\n",
    "    { 'id': \"004\", 'name': \"P4\", 'price': 100 },\n",
    "    { 'id': \"005\", 'name': \"P5\", 'price': 850 }\n",
    "]\n",
    "\n",
    "product_names = list(map(lambda x: x['name'], \n",
    "                    filter(lambda product: product['price'] < 500, \n",
    "                           [product for product in products])))\n",
    "print(\"product names:\",product_names)\n",
    "\n",
    "net_price = reduce(lambda a,b: a+b, map(lambda x: x['price'], \n",
    "                    filter(lambda product: product['price'] < 500, \n",
    "                           [product for product in products])))\n",
    "print(\"net price:\",net_price)\n"
   ]
  },
  {
   "cell_type": "markdown",
   "id": "863f52ff",
   "metadata": {},
   "source": [
    "## File handling"
   ]
  },
  {
   "cell_type": "markdown",
   "id": "ec53b2fb",
   "metadata": {
    "id": "dmSS30_Zi7_v"
   },
   "source": [
    "Python has several functions for creating, reading, updating, and deleting files.\n",
    "\n"
   ]
  },
  {
   "cell_type": "markdown",
   "id": "0ac3273f",
   "metadata": {
    "id": "4SC6l3aii_iS"
   },
   "source": [
    "The key function for working with files in Python is the open() function.\n",
    "\n",
    "The open() function takes two parameters; filename, and mode.\n",
    "\n",
    "There are four different methods (modes) for opening a file:\n",
    "\n",
    "\"r\" - Read - Default value. Opens a file for reading, error if the file does not exist\n",
    "\n",
    "\"a\" - Append - Opens a file for appending, creates the file if it does not exist\n",
    "\n",
    "\"w\" - Write - Opens a file for writing, creates the file if it does not exist\n",
    "\n",
    "\"x\" - Create - Creates the specified file, returns an error if the file exists\n",
    "\n",
    "In addition you can specify if the file should be handled as binary or text mode\n",
    "\n",
    "\"t\" - Text - Default value. Text mode\n",
    "\n",
    "\"b\" - Binary - Binary mode (e.g. images)"
   ]
  },
  {
   "cell_type": "markdown",
   "id": "5fc4b220",
   "metadata": {
    "id": "GGoI1DgClyAx"
   },
   "source": [
    "#### create a new file\n",
    "To create a new file in Python, use the open() method, with one of the following parameters:\n",
    "\n",
    "\"x\" - Create - will create a file, returns an error if the file exist\n",
    "\n",
    "\"a\" - Append - will create a file if the specified file does not exist\n",
    "\n",
    "\"w\" - Write - will create a file if the specified file does not exist"
   ]
  },
  {
   "cell_type": "code",
   "execution_count": 164,
   "id": "e1eefea0",
   "metadata": {},
   "outputs": [],
   "source": [
    "# f1 = open(\"demo.txt\", 'r') # FileNotFoundError: [Errno 2] No such file or directory: 'demo.txt'"
   ]
  },
  {
   "cell_type": "code",
   "execution_count": 165,
   "id": "f8d0611b",
   "metadata": {},
   "outputs": [],
   "source": [
    "f1 = open(\"demo.txt\", 'w')\n",
    "# f2 = open(\"demo.txt\", 'x') # FileExistsError: [Errno 17] File exists: 'demo.txt'\n",
    "f1.write('Hi\\n welcome to the demo file')\n",
    "f1.write('Hi\\n welcome again to the demo file')\n",
    "# f1.read() # UnsupportedOperation: not readable\n",
    "f1.close()"
   ]
  },
  {
   "cell_type": "code",
   "execution_count": 166,
   "id": "8017cfbd",
   "metadata": {},
   "outputs": [],
   "source": [
    "f1 = open(\"demo.txt\", 'w') # overwrite same file\n",
    "f1.write('Hello\\n welcome to the demo file')\n",
    "f1.write('Hello2\\n welcome again to the demo file')\n",
    "f1.close()"
   ]
  },
  {
   "cell_type": "code",
   "execution_count": 167,
   "id": "0b31c884",
   "metadata": {},
   "outputs": [],
   "source": [
    "f1 = open(\"demo.txt\", 'a') # append to the same file\n",
    "f1.write('Appended line at the end of the file')\n",
    "f1.close()"
   ]
  },
  {
   "cell_type": "code",
   "execution_count": 168,
   "id": "1c45616e",
   "metadata": {},
   "outputs": [
    {
     "name": "stdout",
     "output_type": "stream",
     "text": [
      "1. Hello\n",
      " wel\n",
      "2. come to the demo fileHello2\n",
      " welcome again to the demo fileAppended line at the end of the file\n"
     ]
    }
   ],
   "source": [
    "f1 = open(\"demo.txt\", 'r')\n",
    "# f1.write('Hello') # UnsupportedOperation: not writable\n",
    "txt = f1.read(10)\n",
    "print(\"1.\",txt)\n",
    "txt = f1.read()\n",
    "print(\"2.\",txt)\n",
    "f1.close()"
   ]
  },
  {
   "cell_type": "code",
   "execution_count": 169,
   "id": "b6a95ddb",
   "metadata": {},
   "outputs": [
    {
     "name": "stdout",
     "output_type": "stream",
     "text": [
      "Hello\n",
      "  welcome to the demo fileHello2\n",
      "\n"
     ]
    }
   ],
   "source": [
    "f1 = open(\"demo.txt\", 'r')\n",
    "line1 = f1.readline()\n",
    "line2 = f1.readline()\n",
    "print(line1, line2)\n",
    "f1.close()"
   ]
  },
  {
   "cell_type": "code",
   "execution_count": 170,
   "id": "ed6e0e00",
   "metadata": {},
   "outputs": [
    {
     "name": "stdout",
     "output_type": "stream",
     "text": [
      "Hello\n",
      "\n",
      " welcome to the demo fileHello2\n",
      "\n",
      " welcome again to the demo fileAppended line at the end of the file\n"
     ]
    }
   ],
   "source": [
    "f1 = open(\"demo.txt\", 'r')\n",
    "for line in f1:\n",
    "    print(line) # f1.readline()\n",
    "f1.close()"
   ]
  },
  {
   "cell_type": "code",
   "execution_count": 171,
   "id": "5cac7c3d",
   "metadata": {},
   "outputs": [
    {
     "name": "stdout",
     "output_type": "stream",
     "text": [
      "['Hello\\n', ' welcome to the demo fileHello2\\n', ' welcome again to the demo fileAppended line at the end of the file']\n"
     ]
    }
   ],
   "source": [
    "f1 = open(\"demo.txt\", 'r')\n",
    "lines = f1.readlines()\n",
    "print(lines)"
   ]
  },
  {
   "cell_type": "code",
   "execution_count": 172,
   "id": "07cf4c8d",
   "metadata": {},
   "outputs": [],
   "source": [
    "# f = open(\"D:\\\\myfiles\\welcome.txt\", \"r\")"
   ]
  },
  {
   "cell_type": "code",
   "execution_count": 173,
   "id": "2a4157c5",
   "metadata": {},
   "outputs": [],
   "source": [
    "import os\n",
    "# os.remove(\"demo.txt\") # PermissionError: [WinError 32] The process cannot access the file because it is being used by another process: 'demo.txt'"
   ]
  },
  {
   "cell_type": "code",
   "execution_count": 174,
   "id": "f8c14699",
   "metadata": {},
   "outputs": [],
   "source": [
    "f1.close()\n",
    "os.remove(\"demo.txt\")"
   ]
  },
  {
   "cell_type": "code",
   "execution_count": 175,
   "id": "a30b0c3a",
   "metadata": {},
   "outputs": [],
   "source": [
    "# os.remove(\"demo.txt\") # FileNotFoundError: [WinError 2] The system cannot find the file specified: 'demo.txt'"
   ]
  },
  {
   "cell_type": "code",
   "execution_count": 176,
   "id": "12e9ba57",
   "metadata": {},
   "outputs": [],
   "source": [
    "# f1 = open(\"demo.txt\", 'r') # FileNotFoundError: [Errno 2] No such file or directory: 'demo.txt'"
   ]
  },
  {
   "cell_type": "code",
   "execution_count": 177,
   "id": "0a9e5c5a",
   "metadata": {},
   "outputs": [
    {
     "name": "stdout",
     "output_type": "stream",
     "text": [
      "The file does not exist\n"
     ]
    }
   ],
   "source": [
    "if os.path.exists(\"demofile.txt\"):\n",
    "    os.remove(\"demofile.txt\")\n",
    "else:\n",
    "    print(\"The file does not exist\")"
   ]
  },
  {
   "cell_type": "code",
   "execution_count": 178,
   "id": "0ead5710",
   "metadata": {},
   "outputs": [],
   "source": [
    "# os.rmdir(\"myfolder\") # removes if this is existing empty directory"
   ]
  },
  {
   "cell_type": "markdown",
   "id": "b878c789",
   "metadata": {},
   "source": [
    "## Generators"
   ]
  },
  {
   "cell_type": "code",
   "execution_count": 179,
   "id": "9cb50e5f",
   "metadata": {},
   "outputs": [
    {
     "name": "stdout",
     "output_type": "stream",
     "text": [
      "1\n",
      "2\n",
      "3\n"
     ]
    }
   ],
   "source": [
    "def simpleGeneratorFun():\n",
    "    yield 1           \n",
    "    yield 2           \n",
    "    yield 3           \n",
    "\n",
    "for value in simpleGeneratorFun():\n",
    "    print(value)"
   ]
  },
  {
   "cell_type": "code",
   "execution_count": 180,
   "id": "d57354d9",
   "metadata": {},
   "outputs": [
    {
     "name": "stdout",
     "output_type": "stream",
     "text": [
      "<generator object simpleGeneratorFun at 0x000001F7C24D8270>\n",
      "1\n",
      "2\n",
      "3\n"
     ]
    }
   ],
   "source": [
    "def simpleGeneratorFun():\n",
    "    yield 1\n",
    "    yield 2\n",
    "    yield 3\n",
    "    \n",
    "x = simpleGeneratorFun() # x is generator object\n",
    "print(x) # <generator object simpleGeneratorFun at 0x000001F74BB36C80>\n",
    "\n",
    "# Iterating over the generator object using next\n",
    "print(next(x))\n",
    "print(next(x))\n",
    "print(next(x))\n",
    "# print(next(x)) # StopIteration: "
   ]
  },
  {
   "cell_type": "code",
   "execution_count": 181,
   "id": "2c54c44b",
   "metadata": {},
   "outputs": [
    {
     "name": "stdout",
     "output_type": "stream",
     "text": [
      "First result is  1\n",
      "Second result is  2\n",
      "Third result is  3\n",
      "1 2 3\n"
     ]
    }
   ],
   "source": [
    "def generator():\n",
    "    t = 1\n",
    "    print ('First result is ',t)\n",
    "    yield t\n",
    "  \n",
    "    t += 1\n",
    "    print ('Second result is ',t)\n",
    "    yield t\n",
    " \n",
    "    t += 1\n",
    "    print('Third result is ',t)\n",
    "    yield t\n",
    "\n",
    "x = generator() # x is generator object\n",
    "print(next(x), next(x), next(x))"
   ]
  },
  {
   "cell_type": "markdown",
   "id": "1cb74b15",
   "metadata": {},
   "source": [
    "### generator comprehension"
   ]
  },
  {
   "cell_type": "code",
   "execution_count": 182,
   "id": "08893a2b",
   "metadata": {},
   "outputs": [
    {
     "name": "stdout",
     "output_type": "stream",
     "text": [
      "0 1 [2, 3, 4] ()\n"
     ]
    }
   ],
   "source": [
    "g1 = (i for i in range(5))\n",
    "g2 = (i for i in range(10) if i%2==0) \n",
    "g3 = (i for i in range(10) if i%2==0 if i<5) \n",
    "g4 = ('even' if i%2==0 else \"odd\" for i in range(5)) \n",
    "\n",
    "print(next(g1), next(g1), list(g1), tuple(g1))"
   ]
  },
  {
   "cell_type": "code",
   "execution_count": 183,
   "id": "85036624",
   "metadata": {},
   "outputs": [
    {
     "name": "stdout",
     "output_type": "stream",
     "text": [
      "15 ()\n"
     ]
    }
   ],
   "source": [
    "# consuming generator\n",
    "gen = (i for i in range(1,6))\n",
    "\n",
    "print(sum(gen), # 1+2+3+4+5\n",
    "      tuple(gen))"
   ]
  },
  {
   "cell_type": "code",
   "execution_count": 184,
   "id": "d3fdbf40",
   "metadata": {},
   "outputs": [
    {
     "name": "stdout",
     "output_type": "stream",
     "text": [
      "True\n",
      "False\n",
      "False\n",
      "<generator object <genexpr> at 0x000001F7C24D86D0> ()\n"
     ]
    }
   ],
   "source": [
    "# membership in generator\n",
    "gen = (i for i in range(1, 11)) # 1,2,3,4,5,6,7,8,9,10     \n",
    "print(5 in gen) # first 5 elements are consumed\n",
    "print(5 in gen) # rest gen is consumed\n",
    "print(9 in gen) # empty gen\n",
    "print(gen, tuple(gen))"
   ]
  },
  {
   "cell_type": "code",
   "execution_count": 185,
   "id": "ab9b0568",
   "metadata": {},
   "outputs": [
    {
     "name": "stdout",
     "output_type": "stream",
     "text": [
      "[25, 16, 9, 4, 1, 0, 1, 4, 9, 16, 25]\n"
     ]
    }
   ],
   "source": [
    "# chaining comprehension\n",
    "\n",
    "print([i**2 for i in [-5,-4,-3,-2, -1, 0, 1, 2,3,4,5]])"
   ]
  },
  {
   "cell_type": "code",
   "execution_count": 186,
   "id": "4889a87a",
   "metadata": {},
   "outputs": [
    {
     "name": "stdout",
     "output_type": "stream",
     "text": [
      "10 ()\n"
     ]
    }
   ],
   "source": [
    "gen_1 = (i**2 for i in [-5,-4,-3,-2, -1, 0, 1, 2,3,4,5])\n",
    "\n",
    "# iterates through gen_1, excluding any numbers > 5\n",
    "gen_2 = (j for j in gen_1 if 0 < j <= 5) # 4,1,0,1,4\n",
    "\n",
    "# computing 4+1+0+1+4\n",
    "print(sum(gen_2), tuple(gen))"
   ]
  },
  {
   "cell_type": "markdown",
   "id": "1e18bd49",
   "metadata": {},
   "source": [
    "## Iterator vs Iterable"
   ]
  },
  {
   "cell_type": "raw",
   "id": "5cfeb2ea",
   "metadata": {},
   "source": [
    "iterator : object reference: map, filter, range\n",
    "    next() : one by one and only 1 iteration\n",
    "    next()\n",
    "    \n",
    "iterable: collection: list, tuple, set\n",
    "    print whole collection: possible\n",
    "    iter(iterable) \n",
    "      next()\n",
    "      next()\n",
    "    \n",
    "for x in iterator/iterable:\n",
    "    pass\n",
    "    \n",
    "x => next(iterator)"
   ]
  },
  {
   "cell_type": "code",
   "execution_count": 187,
   "id": "44534981",
   "metadata": {},
   "outputs": [
    {
     "name": "stdout",
     "output_type": "stream",
     "text": [
      "apple\n",
      "banana\n",
      "cherry\n"
     ]
    }
   ],
   "source": [
    "mytuple = (\"apple\", \"banana\", \"cherry\")\n",
    "for x in mytuple:\n",
    "    print(x)\n",
    "    \n",
    "    \n",
    "# working of for loop\n",
    "\n",
    "# a = iter(mytuple)\n",
    "# print(next(a))\n",
    "# print(next(a))\n",
    "# until stopiteration"
   ]
  },
  {
   "cell_type": "code",
   "execution_count": 188,
   "id": "dff6cb40",
   "metadata": {},
   "outputs": [
    {
     "name": "stdout",
     "output_type": "stream",
     "text": [
      "1 2 3 4 5 6 "
     ]
    }
   ],
   "source": [
    "# create an iterator\n",
    "class MyNumbers:\n",
    "    def __iter__(self):\n",
    "        self.a = 1\n",
    "        return self\n",
    "\n",
    "    def __next__(self):\n",
    "        x = self.a\n",
    "        self.a += 1\n",
    "        return x\n",
    "\n",
    "myclass = MyNumbers() # myclass is iterator as it implements __iter__() and __next__() methods\n",
    "myiter = iter(myclass) \n",
    "\n",
    "for a in range(6):\n",
    "    print(next(myiter),end=' ')"
   ]
  },
  {
   "cell_type": "code",
   "execution_count": 189,
   "id": "bb641ab1",
   "metadata": {},
   "outputs": [
    {
     "name": "stdout",
     "output_type": "stream",
     "text": [
      "0\n",
      "3\n",
      "6\n",
      "9\n"
     ]
    }
   ],
   "source": [
    "class MyRange:\n",
    "    def __init__(self,start,stop,step):\n",
    "        self.start = start\n",
    "        self.stop = stop\n",
    "        self.step = step\n",
    "        \n",
    "    def __iter__(self):\n",
    "        self.a = self.start\n",
    "        return self\n",
    "\n",
    "    def __next__(self):\n",
    "        if self.a <= self.stop:\n",
    "            x = self.a\n",
    "            self.a += self.step\n",
    "            return x\n",
    "        else:\n",
    "            raise StopIteration # add a terminating condition to raise an error if the iteration is done a specified number of times : imp while using loop on iterator\n",
    "\n",
    "myclass = MyRange(0,10,3)\n",
    "myrange = iter(myclass)\n",
    "\n",
    "for x in myrange:\n",
    "    print(x)"
   ]
  },
  {
   "cell_type": "markdown",
   "id": "600f2d04",
   "metadata": {},
   "source": [
    "## Decorators"
   ]
  },
  {
   "cell_type": "markdown",
   "id": "2f9cb2a7",
   "metadata": {},
   "source": [
    "- takes function as parameter\n",
    "- returns function\n",
    "- Decorators allow us to wrap another function in order to extend the behaviour of the wrapped function, without permanently modifying it."
   ]
  },
  {
   "cell_type": "code",
   "execution_count": 190,
   "id": "0d6d3ba5",
   "metadata": {},
   "outputs": [
    {
     "name": "stdout",
     "output_type": "stream",
     "text": [
      "Welcome to DATA SCIENCE STACK\n",
      "Welcome to data science stack\n"
     ]
    }
   ],
   "source": [
    "# without decorator\n",
    "def decorate_message(arg):\n",
    "\n",
    "    def addWelcome():\n",
    "        return \"Welcome to \" + arg\n",
    " \n",
    "    return addWelcome()\n",
    " \n",
    "def message1(txt):\n",
    "    return txt.upper();\n",
    "\n",
    "def message2(txt):\n",
    "    return txt.lower();\n",
    " \n",
    "x = decorate_message(message1(\"Data Science Stack\"))\n",
    "print(x)\n",
    "y = decorate_message(message2(\"Data Science Stack\"))\n",
    "print(y)"
   ]
  },
  {
   "cell_type": "markdown",
   "id": "b227e949",
   "metadata": {},
   "source": [
    "### with decorator"
   ]
  },
  {
   "cell_type": "code",
   "execution_count": 191,
   "id": "ce0fb3ea",
   "metadata": {},
   "outputs": [],
   "source": [
    "def decorate_message(fun): # takes function as parameter:\n",
    "    \n",
    "    print('fun:',fun)\n",
    "    \n",
    "    def addWelcome(name):\n",
    "        print('name:', name)\n",
    "        return \"Welcome to \" + fun(name)\n",
    " \n",
    "    return addWelcome # returns a function: addWelcome()"
   ]
  },
  {
   "cell_type": "code",
   "execution_count": 192,
   "id": "3892af31",
   "metadata": {},
   "outputs": [
    {
     "name": "stdout",
     "output_type": "stream",
     "text": [
      "fun: <function message1 at 0x000001F7C24F21F0>\n"
     ]
    }
   ],
   "source": [
    "@decorate_message \n",
    "def message1(txt):\n",
    "    print('message1 txt:',txt)\n",
    "    return txt.upper();"
   ]
  },
  {
   "cell_type": "code",
   "execution_count": 193,
   "id": "cd154c58",
   "metadata": {},
   "outputs": [
    {
     "name": "stdout",
     "output_type": "stream",
     "text": [
      "fun: <function message2 at 0x000001F7C24F25E0>\n"
     ]
    }
   ],
   "source": [
    "@decorate_message \n",
    "def message2(txt):\n",
    "    print('message2 txt:',txt)\n",
    "    return txt.lower();"
   ]
  },
  {
   "cell_type": "code",
   "execution_count": 194,
   "id": "d901205e",
   "metadata": {},
   "outputs": [
    {
     "name": "stdout",
     "output_type": "stream",
     "text": [
      "name: Data Science Stack\n",
      "message1 txt: Data Science Stack\n",
      "Welcome to DATA SCIENCE STACK\n"
     ]
    }
   ],
   "source": [
    "x = message1(\"Data Science Stack\") \n",
    "print(x)"
   ]
  },
  {
   "cell_type": "code",
   "execution_count": 195,
   "id": "e058c27d",
   "metadata": {},
   "outputs": [
    {
     "name": "stdout",
     "output_type": "stream",
     "text": [
      "name: Data Science Stack\n",
      "message2 txt: Data Science Stack\n",
      "Welcome to data science stack\n"
     ]
    }
   ],
   "source": [
    "y = message2(\"Data Science Stack\") \n",
    "print(y)"
   ]
  },
  {
   "cell_type": "markdown",
   "id": "2b1c5554",
   "metadata": {},
   "source": [
    "### decorator example"
   ]
  },
  {
   "cell_type": "code",
   "execution_count": 196,
   "id": "ccbe58b4",
   "metadata": {},
   "outputs": [
    {
     "name": "stdout",
     "output_type": "stream",
     "text": [
      "<function factorial_of_number at 0x000001F7C24F6310>\n",
      "<function square at 0x000001F7C24F65E0>\n",
      "120\n",
      "Total time taken in :  factorial_of_number function is: 0.004441261291503906\n",
      "Square 25\n",
      "Total time taken in :  square function is: 0.015120267868041992\n"
     ]
    }
   ],
   "source": [
    "# importing libraries\n",
    "import time\n",
    "import math\n",
    " \n",
    "# decorator to calculate duration taken by any function.\n",
    "def calculate_time(func):\n",
    "     \n",
    "    print(func)\n",
    "    \n",
    "    # added arguments inside the inner1,\n",
    "    # if function takes any arguments,\n",
    "    # can be added like this.\n",
    "    def inner1(*args, **kwargs):\n",
    " \n",
    "        # storing time before function execution\n",
    "        begin = time.time()\n",
    "         \n",
    "        func(*args, **kwargs)\n",
    " \n",
    "        # storing time after function execution\n",
    "        end = time.time()\n",
    "        print(\"Total time taken in : \", func.__name__,'function is:', end - begin - 2)\n",
    " \n",
    "    return inner1\n",
    " \n",
    " \n",
    " \n",
    "# this can be added to any function present, in this case to calculate a factorial\n",
    "@calculate_time\n",
    "def factorial_of_number(num):\n",
    " \n",
    "    # sleep 2 seconds because it takes very less time\n",
    "    # so that you can see the actual difference\n",
    "    time.sleep(2)\n",
    "    print(math.factorial(num))\n",
    "    \n",
    "@calculate_time\n",
    "def square(num):\n",
    "    time.sleep(2)\n",
    "    print(\"Square\", num*num)\n",
    "    \n",
    "# calling the function.\n",
    "factorial_of_number(5) # 1*2*3*4*5 : 0.0003 sec\n",
    "square(5) # 5*5 : 0.0078 sec"
   ]
  },
  {
   "cell_type": "markdown",
   "id": "cbf44525",
   "metadata": {},
   "source": [
    "#### chaining decorators"
   ]
  },
  {
   "cell_type": "code",
   "execution_count": 197,
   "id": "2b1a65ca",
   "metadata": {},
   "outputs": [
    {
     "name": "stdout",
     "output_type": "stream",
     "text": [
      "decor func <function num at 0x000001F7C24F68B0>\n",
      "decor1 func <function decor.<locals>.inner at 0x000001F7C24F69D0>\n",
      "decor1 func <function num2 at 0x000001F7C24F6AF0>\n",
      "decor func <function decor1.<locals>.inner at 0x000001F7C24F6B80>\n",
      "decor x : 5\n",
      "decor1 x : 10\n",
      "40\n",
      "decor1 x : 3\n",
      "decor x : 12\n",
      "24\n"
     ]
    }
   ],
   "source": [
    "def decor1(func):\n",
    "    print('decor1 func',func)\n",
    "    def inner():\n",
    "        x = func()\n",
    "        print('decor1 x :',x)\n",
    "        return 4 * x\n",
    "    return inner\n",
    " \n",
    "def decor(func):\n",
    "    print('decor func',func)\n",
    "    def inner():\n",
    "        x = func()\n",
    "        print('decor x :',x)\n",
    "        return 2 * x\n",
    "    return inner\n",
    " \n",
    "@decor1 # 2\n",
    "@decor # 1\n",
    "def num():\n",
    "    return 5\n",
    " \n",
    "@decor # 2\n",
    "@decor1 # 1\n",
    "def num2():\n",
    "    return 3\n",
    "   \n",
    "print(num())\n",
    "print(num2())"
   ]
  },
  {
   "cell_type": "markdown",
   "id": "68627fd0",
   "metadata": {},
   "source": [
    "## Object Oriented Programming Concepts"
   ]
  },
  {
   "cell_type": "markdown",
   "id": "f7cac79a",
   "metadata": {},
   "source": [
    "### Class and Object"
   ]
  },
  {
   "cell_type": "code",
   "execution_count": 198,
   "id": "9e7f2a49",
   "metadata": {},
   "outputs": [
    {
     "name": "stdout",
     "output_type": "stream",
     "text": [
      "<class '__main__.Car'>\n",
      "<__main__.Car object at 0x000001F7C24EE100> <__main__.Car object at 0x000001F7C24EE7C0>\n",
      "White Black\n"
     ]
    }
   ],
   "source": [
    "class Car:\n",
    "    color = 'White'\n",
    "\n",
    "c1 = Car()\n",
    "c2 = Car()\n",
    "print(Car)\n",
    "print(c1, c2)\n",
    "c2.color = \"Black\"\n",
    "print(c1.color, c2.color)"
   ]
  },
  {
   "cell_type": "markdown",
   "id": "7284c389",
   "metadata": {},
   "source": [
    "### Constructor"
   ]
  },
  {
   "cell_type": "code",
   "execution_count": 199,
   "id": "625954cd",
   "metadata": {},
   "outputs": [],
   "source": [
    "class Person:\n",
    "    name = 'tony'\n",
    "    age = 23"
   ]
  },
  {
   "cell_type": "code",
   "execution_count": 200,
   "id": "77f60407",
   "metadata": {},
   "outputs": [
    {
     "name": "stdout",
     "output_type": "stream",
     "text": [
      "tony 23\n",
      "john 25\n"
     ]
    }
   ],
   "source": [
    "p1 = Person() # object creation using default constructor\n",
    "print(p1.name, p1.age) # default values\n",
    "\n",
    "p2 = Person()\n",
    "p2.name = 'john' # changing the default values\n",
    "p2.age = 25\n",
    "print(p2.name, p2.age)"
   ]
  },
  {
   "cell_type": "code",
   "execution_count": 201,
   "id": "2219db96",
   "metadata": {},
   "outputs": [],
   "source": [
    "class Person:\n",
    "    name = 'tony'\n",
    "    \n",
    "    def __init__(self): # default constructor\n",
    "        print(\"default constructor\")"
   ]
  },
  {
   "cell_type": "code",
   "execution_count": 202,
   "id": "708503f6",
   "metadata": {},
   "outputs": [
    {
     "name": "stdout",
     "output_type": "stream",
     "text": [
      "default constructor\n",
      "tony\n"
     ]
    }
   ],
   "source": [
    "p1 = Person() # object creation using default constructor\n",
    "print(p1.name)"
   ]
  },
  {
   "cell_type": "code",
   "execution_count": 203,
   "id": "6161b342",
   "metadata": {},
   "outputs": [],
   "source": [
    "class Person:\n",
    "    name = 'tony'\n",
    "    \n",
    "    def __init__(self,name): # parameterized constructor\n",
    "        self.name = name"
   ]
  },
  {
   "cell_type": "code",
   "execution_count": 204,
   "id": "e770262d",
   "metadata": {},
   "outputs": [
    {
     "name": "stdout",
     "output_type": "stream",
     "text": [
      "john\n"
     ]
    }
   ],
   "source": [
    "p1 = Person('john') # object creation using parameterized constructor\n",
    "print(p1.name)"
   ]
  },
  {
   "cell_type": "code",
   "execution_count": 205,
   "id": "49457527",
   "metadata": {},
   "outputs": [],
   "source": [
    "class Person:\n",
    "    name = 'tony'\n",
    "    \n",
    "    def __init__(self): # constructor1\n",
    "        print(\"default constructor\")\n",
    "        \n",
    "    def __init__(abc,name,a): # constructor overridding\n",
    "        abc.name = name\n",
    "        abc.age = a"
   ]
  },
  {
   "cell_type": "code",
   "execution_count": 206,
   "id": "49ac476a",
   "metadata": {},
   "outputs": [
    {
     "name": "stdout",
     "output_type": "stream",
     "text": [
      "John 24\n"
     ]
    }
   ],
   "source": [
    "# p1 = Person() # TypeError: __init__() missing 1 required positional argument: 'name'\n",
    "p2 = Person('John', 24)\n",
    "print(p2.name, p2.age)"
   ]
  },
  {
   "cell_type": "code",
   "execution_count": 207,
   "id": "d3619dc3",
   "metadata": {},
   "outputs": [],
   "source": [
    "class Person:\n",
    "    def __init__(self): # default constructor\n",
    "        print('default constructor')\n",
    "    \n",
    "    def __init__(self, n, age): # overidden - parameterized constructor overrides existing default constructor\n",
    "        print('parameterized constructor')\n",
    "        self.name = n\n",
    "        self.age = age\n",
    "        \n",
    "    def getAge(self): # method\n",
    "        print(\"get age method\")\n",
    "        print(self.age)\n",
    "    \n",
    "    def Person(self): # avoid, not recommended\n",
    "        print('Person method')\n",
    "        print(self.name)"
   ]
  },
  {
   "cell_type": "code",
   "execution_count": 208,
   "id": "99236600",
   "metadata": {},
   "outputs": [
    {
     "name": "stdout",
     "output_type": "stream",
     "text": [
      "parameterized constructor\n",
      "parameterized constructor\n",
      "get age method\n",
      "36\n",
      "get age method\n",
      "25\n",
      "Person method\n",
      "John\n",
      "Person method\n",
      "Tony\n"
     ]
    }
   ],
   "source": [
    "p1 = Person(\"John\", 36) #  object creation using parameterized constructor\n",
    "p2 = Person(\"Tony\",25)\n",
    "\n",
    "p1.getAge()\n",
    "p2.getAge()\n",
    "\n",
    "p1.Person()\n",
    "p2.Person()\n",
    "\n",
    "# p3 = Person() # TypeError: __init__() missing 2 required positional arguments: 'n' and 'age'"
   ]
  },
  {
   "cell_type": "code",
   "execution_count": 209,
   "id": "df96a18a",
   "metadata": {},
   "outputs": [],
   "source": [
    "class Person:\n",
    "    \n",
    "    def __init__(self, n, age): # parameterized constructor overrides existing default constructor\n",
    "        print('parameterized constructor')\n",
    "        self.name = n\n",
    "        self.age = age\n",
    "        \n",
    "    def __init__(self): # overidden - default constructor\n",
    "        print('default constructor')\n",
    "        \n",
    "    def get(self): # method\n",
    "        print(\"get method\")\n",
    "    \n",
    "    def Person(self): # avoid, not recommended\n",
    "        print('Person method')"
   ]
  },
  {
   "cell_type": "code",
   "execution_count": 210,
   "id": "7a0bdc74",
   "metadata": {},
   "outputs": [
    {
     "name": "stdout",
     "output_type": "stream",
     "text": [
      "default constructor\n"
     ]
    }
   ],
   "source": [
    "p3 = Person()\n",
    "# p1 = Person(\"John\", 36) # TypeError: __init__() takes 1 positional argument but 3 were given"
   ]
  },
  {
   "cell_type": "markdown",
   "id": "32c8da9d",
   "metadata": {},
   "source": [
    "**Advantages of using constructors:**\n",
    "- Initialiazation of objects with default or custom values is easy\n",
    "- Easy to implement using \\__init__() method\n",
    "- Better readability of where and how the attributes are initialised\n",
    "- Encapsulation is ensured by controlled initialisation of object attributes"
   ]
  },
  {
   "cell_type": "markdown",
   "id": "f8fb61b5",
   "metadata": {},
   "source": [
    "**Disdvantages of using constructors:**\n",
    "- Method or Constructor Overloading is not supported in python\n",
    "- Limited functionality (no public, private, protected access modifiers)\n",
    "- Constructors may be unnecessary (When attributes are needed to be initialised with default values)"
   ]
  },
  {
   "cell_type": "code",
   "execution_count": 211,
   "id": "d50a6c0a",
   "metadata": {},
   "outputs": [
    {
     "name": "stdout",
     "output_type": "stream",
     "text": [
      "Name is John and age is 36\n",
      "Name is Tony and age is 25\n",
      "False\n",
      "True False\n"
     ]
    }
   ],
   "source": [
    "class Person:\n",
    "    def __init__(self, name, age):\n",
    "        self.name = name\n",
    "        self.age = age\n",
    "\n",
    "    def __str__(self): # should return string type\n",
    "         return f\"Name is {self.name} and age is {self.age}\"\n",
    "\n",
    "p1 = Person(\"John\", 36)\n",
    "p2 = Person(\"Tony\", 25)\n",
    "\n",
    "print(p1) # p1.__str__()\n",
    "print(p2)\n",
    "del p1.age\n",
    "print(hasattr(p1,'age'))\n",
    "del p2\n",
    "print('p1' in globals(), 'p2' in globals())"
   ]
  },
  {
   "cell_type": "code",
   "execution_count": 212,
   "id": "9e052651",
   "metadata": {},
   "outputs": [],
   "source": [
    "class Person:\n",
    "    pass"
   ]
  },
  {
   "cell_type": "markdown",
   "id": "0aebe2e9",
   "metadata": {},
   "source": [
    "### static variable"
   ]
  },
  {
   "cell_type": "markdown",
   "id": "0a31d7ad",
   "metadata": {},
   "source": [
    "- Static variables are allocated memory once when the object for the class is created for the first time.\n",
    "- Static variables are created outside of methods but inside a class\n",
    "- Static variables can be accessed through a class \n",
    "- Static variables behavior doesn’t change for every object."
   ]
  },
  {
   "cell_type": "code",
   "execution_count": 213,
   "id": "6784f966",
   "metadata": {},
   "outputs": [
    {
     "name": "stdout",
     "output_type": "stream",
     "text": [
      "1\n",
      "2\n"
     ]
    }
   ],
   "source": [
    "class MyClass:\n",
    "    static_counter = 0 # static\n",
    "    \n",
    "    def __init__(self):\n",
    "        MyClass.static_counter += 1\n",
    "        self.instance_var = MyClass.static_counter # instance_var non-static\n",
    "        \n",
    "obj1 = MyClass()\n",
    "print(obj1.instance_var)  # Output: 1\n",
    " \n",
    "obj2 = MyClass()\n",
    "print(obj2.instance_var)  # 2"
   ]
  },
  {
   "cell_type": "code",
   "execution_count": 214,
   "id": "ea06f4d6",
   "metadata": {},
   "outputs": [
    {
     "name": "stdout",
     "output_type": "stream",
     "text": [
      "1 2 3\n",
      "1 1 1\n",
      "99 99 99\n",
      "99 100 99\n",
      "3 5 3\n",
      "200 100 200\n"
     ]
    }
   ],
   "source": [
    "class MyClass:\n",
    "    static_counter = 0 # static\n",
    "    static_var = 99 # static\n",
    "    \n",
    "    def __init__(self):\n",
    "        MyClass.static_counter += 1\n",
    "        self.instance_var = MyClass.static_counter # instance_var non-static\n",
    "        self.a = 1\n",
    "        \n",
    "obj1 = MyClass()\n",
    "obj2 = MyClass()\n",
    "obj3 = MyClass()\n",
    "\n",
    "print(obj1.instance_var, obj2.instance_var, obj3.instance_var) \n",
    "print(obj1.a, obj3.a, obj3.a) \n",
    "\n",
    "print(MyClass.static_var, obj1.static_var, obj2.static_var)\n",
    "\n",
    "obj1.static_var = 100 # shawdow instance var is created\n",
    "print(MyClass.static_var, obj1.static_var, obj2.static_var) \n",
    "\n",
    "obj1.static_counter = 5\n",
    "print(MyClass.static_counter, obj1.static_counter, obj2.static_counter) # 2\n",
    "\n",
    "MyClass.static_var = 200\n",
    "\n",
    "print(MyClass.static_var, obj1.static_var, obj2.static_var) # shawdow variable is accessed"
   ]
  },
  {
   "cell_type": "markdown",
   "id": "a291f53d",
   "metadata": {},
   "source": [
    "**Advantages:**\n",
    "- Memory efficiency\n",
    "- Shared state\n",
    "- Easy to access (reading is easy)\n",
    "- Initialization (assures valid starting value)\n",
    "- Readability\n",
    "\n",
    "**Disadvantages:**\n",
    "- Inflexibility (difficult to have different values for different instances)\n",
    "- Hidden dependencies (difficult to understand and modify the code)\n",
    "- Thread safety (not properly synchronized)\n",
    "- Namespace pollution\n",
    "- Difficult to do unit testing (as change in static var affects the behavior of the class and its methods)"
   ]
  },
  {
   "cell_type": "markdown",
   "id": "f4752300",
   "metadata": {},
   "source": [
    "### destructor"
   ]
  },
  {
   "cell_type": "code",
   "execution_count": 215,
   "id": "4e53314e",
   "metadata": {},
   "outputs": [
    {
     "name": "stdout",
     "output_type": "stream",
     "text": [
      "Constructor called, Employee created.\n",
      "Destructor called, Employee deleted.\n"
     ]
    }
   ],
   "source": [
    "class Employee:\n",
    " \n",
    "    # Initializing\n",
    "    def __init__(self):\n",
    "        print('Constructor called, Employee created.')\n",
    " \n",
    "    # Deleting (Calling destructor)\n",
    "    def __del__(self):\n",
    "        print('Destructor called, Employee deleted.')\n",
    "        \n",
    "obj = Employee()\n",
    "del obj     "
   ]
  },
  {
   "cell_type": "markdown",
   "id": "3d2af86d",
   "metadata": {},
   "source": [
    "**Advantages of destructors**\n",
    "- Automatic clean up\n",
    "- Consistent behavior\n",
    "- Easy to use\n",
    "- Supports oops\n",
    "- Helps with debugging (trace life cycle of object)"
   ]
  },
  {
   "cell_type": "markdown",
   "id": "a81852ff",
   "metadata": {},
   "source": [
    "### Inheritance"
   ]
  },
  {
   "cell_type": "code",
   "execution_count": 216,
   "id": "86d91d58",
   "metadata": {},
   "outputs": [],
   "source": [
    "class Person(object):  # parent class / base class / super class\n",
    "    def __init__(self, fname, lname): \n",
    "        self.firstname = fname \n",
    "        self.lastname = lname\n",
    "        print(\"Person class constructor\")\n",
    "        \n",
    "    def printname(self): # method\n",
    "        return (self.firstname, self.lastname)"
   ]
  },
  {
   "cell_type": "code",
   "execution_count": 217,
   "id": "1521c1e9",
   "metadata": {},
   "outputs": [],
   "source": [
    "# Student IS-A Person\n",
    "class Student(Person): # child class / derived class / sub class\n",
    "    pass"
   ]
  },
  {
   "cell_type": "code",
   "execution_count": 218,
   "id": "a0f2506f",
   "metadata": {},
   "outputs": [
    {
     "name": "stdout",
     "output_type": "stream",
     "text": [
      "Person class constructor\n",
      "Person class constructor\n",
      "barry ('barry', 'allen')\n"
     ]
    }
   ],
   "source": [
    "p = Person('tony', 'robbins')\n",
    "s = Student('barry', 'allen')\n",
    "# s = Student() # TypeError: __init__() missing 2 required positional arguments: 'fname' and 'lname'\n",
    "print(s.firstname, s.printname())"
   ]
  },
  {
   "cell_type": "code",
   "execution_count": 219,
   "id": "e0d27cf0",
   "metadata": {},
   "outputs": [],
   "source": [
    "class Student2(Person):\n",
    "    def __init__(self):\n",
    "        pass # no parent class construtor call"
   ]
  },
  {
   "cell_type": "code",
   "execution_count": 220,
   "id": "cac1ea45",
   "metadata": {},
   "outputs": [],
   "source": [
    "# s2 = Student2('barry', 'allen') # TypeError: __init__() takes 1 positional argument but 3 were given\n",
    "s2 = Student2() \n",
    "# s2.firstname # AttributeError: 'Student2' object has no attribute 'firstname'\n",
    "# s2.printname() # AttributeError: 'Student2' object has no attribute 'firstname'"
   ]
  },
  {
   "cell_type": "code",
   "execution_count": 221,
   "id": "8be78b98",
   "metadata": {},
   "outputs": [],
   "source": [
    "class Student3(Person):\n",
    "    def __init__(self,a,b):\n",
    "        Person.__init__(self,a,b) # self is required"
   ]
  },
  {
   "cell_type": "code",
   "execution_count": 222,
   "id": "d85efd09",
   "metadata": {},
   "outputs": [
    {
     "name": "stdout",
     "output_type": "stream",
     "text": [
      "Person class constructor\n",
      "john ('john', 'harry')\n"
     ]
    }
   ],
   "source": [
    "s3 = Student3('john', 'harry')\n",
    "print(s3.firstname, s3.printname())"
   ]
  },
  {
   "cell_type": "code",
   "execution_count": 223,
   "id": "f56a5548",
   "metadata": {},
   "outputs": [],
   "source": [
    "class Student4(Person):\n",
    "    def __init__(self,a,b):\n",
    "        super().__init__(a,b) # access immediate parent class (self is not required)\n",
    "        self.graduationyear = 2023"
   ]
  },
  {
   "cell_type": "code",
   "execution_count": 224,
   "id": "13899732",
   "metadata": {},
   "outputs": [
    {
     "name": "stdout",
     "output_type": "stream",
     "text": [
      "Person class constructor\n",
      "john 2023 ('john', 'harry')\n"
     ]
    }
   ],
   "source": [
    "s4 = Student4('john','harry')\n",
    "print(s4.firstname, s4.graduationyear, s4.printname())"
   ]
  },
  {
   "cell_type": "code",
   "execution_count": 225,
   "id": "662bc6d5",
   "metadata": {},
   "outputs": [
    {
     "name": "stdout",
     "output_type": "stream",
     "text": [
      "True\n",
      "True\n",
      "True\n",
      "False\n"
     ]
    }
   ],
   "source": [
    "print(issubclass(Student, Person))\n",
    "print(issubclass(Student, object))\n",
    "print(issubclass(Person, object))\n",
    "print(issubclass(Person, Student))"
   ]
  },
  {
   "cell_type": "code",
   "execution_count": 226,
   "id": "73e81e1d",
   "metadata": {},
   "outputs": [
    {
     "name": "stdout",
     "output_type": "stream",
     "text": [
      "True\n",
      "True\n",
      "True\n",
      "False\n"
     ]
    }
   ],
   "source": [
    "print(isinstance(s4, Person)) # True\n",
    "print(isinstance(s4, Student4)) # True\n",
    "print(isinstance(p, Person)) # True\n",
    "print(isinstance(p, Student4)) # False "
   ]
  },
  {
   "cell_type": "markdown",
   "id": "47ede1c7",
   "metadata": {},
   "source": [
    "### Types of inheritance"
   ]
  },
  {
   "cell_type": "markdown",
   "id": "89f822c8",
   "metadata": {
    "id": "FyLgzyAAhzO_"
   },
   "source": [
    "#### single inheritance"
   ]
  },
  {
   "cell_type": "code",
   "execution_count": 227,
   "id": "2bcae954",
   "metadata": {
    "colab": {
     "base_uri": "https://localhost:8080/"
    },
    "executionInfo": {
     "elapsed": 6,
     "status": "ok",
     "timestamp": 1681723536669,
     "user": {
      "displayName": "vishnupriya karanam",
      "userId": "13289819926024070101"
     },
     "user_tz": -330
    },
    "id": "wE9WwvFohijr",
    "outputId": "a31bfb05-4040-4241-96a1-690ed826b0c4"
   },
   "outputs": [
    {
     "name": "stdout",
     "output_type": "stream",
     "text": [
      "This function is in parent class.\n",
      "This function is in child class.\n"
     ]
    }
   ],
   "source": [
    "# Base class\n",
    "class Parent:\n",
    "    def pm(self):\n",
    "        print(\"This function is in parent class.\")\n",
    "\n",
    "# Derived class\n",
    "class Child(Parent):\n",
    "    def cm(self):\n",
    "        print(\"This function is in child class.\")\n",
    "\n",
    "# Driver's code\n",
    "childobject = Child()\n",
    "childobject.pm()\n",
    "childobject.cm()"
   ]
  },
  {
   "cell_type": "markdown",
   "id": "bf5a8aab",
   "metadata": {
    "id": "VGcyKLfcifLw"
   },
   "source": [
    "#### method overidding in single inheritance"
   ]
  },
  {
   "cell_type": "code",
   "execution_count": 228,
   "id": "bee216dd",
   "metadata": {
    "colab": {
     "base_uri": "https://localhost:8080/"
    },
    "executionInfo": {
     "elapsed": 10,
     "status": "ok",
     "timestamp": 1681723604449,
     "user": {
      "displayName": "vishnupriya karanam",
      "userId": "13289819926024070101"
     },
     "user_tz": -330
    },
    "id": "SOvZE1QCiCs6",
    "outputId": "34b76030-d24b-486a-8777-0faad8715a7c"
   },
   "outputs": [
    {
     "name": "stdout",
     "output_type": "stream",
     "text": [
      "This function is in child class.\n"
     ]
    }
   ],
   "source": [
    "# Base class\n",
    "class Parent:\n",
    "    def pm(self):\n",
    "        print(\"This function is in parent class.\")\n",
    "\n",
    "# Derived class\n",
    "class Child(Parent):\n",
    "    def pm(self): # method overriding\n",
    "        print(\"This function is in child class.\")\n",
    "\n",
    "# Driver's code\n",
    "childobject = Child()\n",
    "childobject.pm()"
   ]
  },
  {
   "cell_type": "code",
   "execution_count": 229,
   "id": "128d26d5",
   "metadata": {},
   "outputs": [
    {
     "name": "stdout",
     "output_type": "stream",
     "text": [
      "This function is in parent class.\n"
     ]
    }
   ],
   "source": [
    "parentobject = Parent()\n",
    "parentobject.pm()"
   ]
  },
  {
   "cell_type": "markdown",
   "id": "4a1dbe47",
   "metadata": {
    "id": "ikZNajTzioDj"
   },
   "source": [
    "#### multilevel inheritance"
   ]
  },
  {
   "cell_type": "code",
   "execution_count": 230,
   "id": "f09aff77",
   "metadata": {
    "colab": {
     "base_uri": "https://localhost:8080/"
    },
    "executionInfo": {
     "elapsed": 8,
     "status": "ok",
     "timestamp": 1681723986277,
     "user": {
      "displayName": "vishnupriya karanam",
      "userId": "13289819926024070101"
     },
     "user_tz": -330
    },
    "id": "yVs0o_OCiB_t",
    "outputId": "ef51cc4c-ea02-40a0-eaa5-2a3442bc671b"
   },
   "outputs": [
    {
     "name": "stdout",
     "output_type": "stream",
     "text": [
      "GF\n",
      "Grandfather name : GF\n",
      "Father name : F\n",
      "Son name : S\n",
      "FN\n",
      "GFN\n"
     ]
    }
   ],
   "source": [
    "# Base class\n",
    "class Grandfather:\n",
    "    def __init__(self, grandfathername):\n",
    "        self.grandfathername = grandfathername\n",
    "\n",
    "# Intermediate class\n",
    "class Father(Grandfather):\n",
    "    def __init__(self, fathername, grandfathername):\n",
    "        self.fathername = fathername\n",
    "        # invoking constructor of Grandfather class\n",
    "        Grandfather.__init__(self, grandfathername)\n",
    "\n",
    "# Derived class\n",
    "class Son(Father):\n",
    "    def __init__(self, sonname, fathername, grandfathername):\n",
    "        self.sonname = sonname\n",
    "        # invoking constructor of Father class\n",
    "        Father.__init__(self, fathername, grandfathername)\n",
    "\n",
    "    def print_name(self):\n",
    "        print('Grandfather name :', self.grandfathername)\n",
    "        print(\"Father name :\", self.fathername)\n",
    "        print(\"Son name :\", self.sonname)\n",
    "\n",
    "\n",
    "# Driver code\n",
    "s1 = Son('S', 'F', 'GF')\n",
    "print(s1.grandfathername)\n",
    "s1.print_name()\n",
    "\n",
    "f1 = Father(\"FN\", 'GFN')\n",
    "print(f1.fathername)\n",
    "print(f1.grandfathername)\n",
    "# print(f1.sonname) # AttributeError: 'Father' object has no attribute 'sonname'"
   ]
  },
  {
   "cell_type": "markdown",
   "id": "4154f7b4",
   "metadata": {
    "id": "7-VhSjQWj6V1"
   },
   "source": [
    "#### hierarchical inheritance"
   ]
  },
  {
   "cell_type": "code",
   "execution_count": 231,
   "id": "70ef697e",
   "metadata": {
    "colab": {
     "base_uri": "https://localhost:8080/"
    },
    "executionInfo": {
     "elapsed": 6,
     "status": "ok",
     "timestamp": 1681724031659,
     "user": {
      "displayName": "vishnupriya karanam",
      "userId": "13289819926024070101"
     },
     "user_tz": -330
    },
    "id": "uTSAgfo5h_4O",
    "outputId": "f685f87f-474e-4a64-d9f2-0ad4faaacddf"
   },
   "outputs": [
    {
     "name": "stdout",
     "output_type": "stream",
     "text": [
      "This function is in parent class.\n",
      "This function is in child 1.\n",
      "This function is in parent class.\n",
      "This function is in child 2.\n",
      "This function is in parent class.\n"
     ]
    }
   ],
   "source": [
    "# Base class\n",
    "class Parent:\n",
    "    def pm(self):\n",
    "        print(\"This function is in parent class.\")\n",
    "\n",
    "# Derived class1\n",
    "class Child1(Parent): # f2, f1\n",
    "    def c1m(self):\n",
    "        print(\"This function is in child 1.\")\n",
    "\n",
    "# Derivied class2\n",
    "class Child2(Parent): # f3, f1\n",
    "    def c2m(self):\n",
    "        print(\"This function is in child 2.\")\n",
    "\n",
    "\n",
    "# Driver's code\n",
    "object1 = Child1()\n",
    "object1.pm()\n",
    "object1.c1m()\n",
    "# object1.c2m() # AttributeError: 'Child1' object has no attribute 'c2m'\n",
    "\n",
    "object2 = Child2()\n",
    "object2.pm()\n",
    "object2.c2m()\n",
    "# object2.c1m() # AttributeError: 'Child2' object has no attribute 'c1m'\n",
    "\n",
    "parent = Parent()\n",
    "parent.pm()\n",
    "# parent.c1m() # AttributeError: 'Parent' object has no attribute 'c1m'\n",
    "# parent.c2m() # AttributeError: 'Parent' object has no attribute 'c2m'"
   ]
  },
  {
   "cell_type": "markdown",
   "id": "52ef16e5",
   "metadata": {
    "id": "HHDbSo2vkzg2"
   },
   "source": [
    "#### multiple inheritance"
   ]
  },
  {
   "cell_type": "code",
   "execution_count": 232,
   "id": "ae724ce5",
   "metadata": {
    "colab": {
     "base_uri": "https://localhost:8080/"
    },
    "executionInfo": {
     "elapsed": 480,
     "status": "ok",
     "timestamp": 1681724306912,
     "user": {
      "displayName": "vishnupriya karanam",
      "userId": "13289819926024070101"
     },
     "user_tz": -330
    },
    "id": "UCZK22uKk0HY",
    "outputId": "f3589308-8b58-453b-c63d-78c7b91a0eb6"
   },
   "outputs": [
    {
     "name": "stdout",
     "output_type": "stream",
     "text": [
      "father method \n",
      "mother method \n",
      "Father : RAM\n",
      "Mother : SITA\n"
     ]
    }
   ],
   "source": [
    "# Base class1\n",
    "class Mother:\n",
    "    mothername = \"\"\n",
    "\n",
    "    def mother(self):\n",
    "        print('mother method',self.mothername)\n",
    "\n",
    "# Base class2\n",
    "class Father:\n",
    "    fathername = \"\"\n",
    "\n",
    "    def father(self):\n",
    "        print('father method',self.fathername)\n",
    "\n",
    "# Derived class\n",
    "class Son(Mother, Father):\n",
    "    def parents(self):\n",
    "        print(\"Father :\", self.fathername)\n",
    "        print(\"Mother :\", self.mothername)\n",
    "\n",
    "# Driver's code\n",
    "s1 = Son()\n",
    "s1.father()\n",
    "s1.mother()\n",
    "s1.fathername = \"RAM\"\n",
    "s1.mothername = \"SITA\"\n",
    "s1.parents()"
   ]
  },
  {
   "cell_type": "code",
   "execution_count": 233,
   "id": "d2380132",
   "metadata": {},
   "outputs": [
    {
     "name": "stdout",
     "output_type": "stream",
     "text": [
      "Child1 method\n",
      "Parent1 method\n",
      "Parent2 method\n"
     ]
    }
   ],
   "source": [
    "# multiple inheritance with same method in both parent classes\n",
    "\n",
    "class Parent1:\n",
    "    def m(self):\n",
    "        print(\"Parent1 method\")\n",
    "        \n",
    "class Parent2:\n",
    "    def m(self): \n",
    "        print(\"Parent2 method\")\n",
    "\n",
    "class Child1(Parent1, Parent2):\n",
    "    def m(self): \n",
    "        print(\"Child1 method\")\n",
    "        \n",
    "class Child2(Parent1, Parent2):\n",
    "    pass\n",
    "\n",
    "class Child3(Parent2, Parent1):\n",
    "    pass\n",
    "\n",
    "c1 = Child1()\n",
    "c2 = Child2()\n",
    "c3 = Child3()\n",
    "\n",
    "c1.m()\n",
    "c2.m()\n",
    "c3.m()"
   ]
  },
  {
   "cell_type": "code",
   "execution_count": 234,
   "id": "f7899b10",
   "metadata": {},
   "outputs": [
    {
     "name": "stdout",
     "output_type": "stream",
     "text": [
      "Child1 method\n",
      "Parent1 method\n",
      "Parent2 method\n",
      "Child1 method\n",
      "Parent1 method\n",
      "Child1 method\n"
     ]
    }
   ],
   "source": [
    "# multiple inheritance with same method in both parent classes\n",
    "\n",
    "class Parent1:\n",
    "    def m(self):\n",
    "        print(\"Parent1 method\")\n",
    "        \n",
    "class Parent2:\n",
    "    def m(self): \n",
    "        print(\"Parent2 method\")\n",
    "\n",
    "class Child1(Parent1, Parent2):\n",
    "    def m(self): \n",
    "        print(\"Child1 method\")\n",
    "        \n",
    "class Child2(Parent1, Parent2):\n",
    "    pass\n",
    "\n",
    "class Child3(Parent2, Parent1):\n",
    "    pass\n",
    "\n",
    "class Parent3:\n",
    "    pass\n",
    "\n",
    "class Child4(Parent3, Child1):\n",
    "    pass\n",
    "\n",
    "class Child5(Parent3, Parent1, Parent2):\n",
    "    pass\n",
    "\n",
    "class Child6(Child2, Child1):\n",
    "    pass\n",
    "\n",
    "c1 = Child1()\n",
    "c2 = Child2()\n",
    "c3 = Child3()\n",
    "c4 = Child4()\n",
    "c5 = Child5()\n",
    "c6 = Child6()\n",
    "\n",
    "c1.m() \n",
    "c2.m()\n",
    "c3.m()\n",
    "c4.m()\n",
    "c5.m()\n",
    "c6.m()"
   ]
  },
  {
   "cell_type": "code",
   "execution_count": 235,
   "id": "e5931cb4",
   "metadata": {},
   "outputs": [
    {
     "name": "stdout",
     "output_type": "stream",
     "text": [
      "[<class '__main__.Child1'>, <class '__main__.Parent1'>, <class '__main__.Parent2'>, <class 'object'>]\n",
      "\n",
      "[<class '__main__.Child2'>, <class '__main__.Parent1'>, <class '__main__.Parent2'>, <class 'object'>]\n",
      "\n",
      "[<class '__main__.Child3'>, <class '__main__.Parent2'>, <class '__main__.Parent1'>, <class 'object'>]\n",
      "\n",
      "[<class '__main__.Child4'>, <class '__main__.Parent3'>, <class '__main__.Child1'>, <class '__main__.Parent1'>, <class '__main__.Parent2'>, <class 'object'>]\n",
      "\n",
      "[<class '__main__.Child5'>, <class '__main__.Parent3'>, <class '__main__.Parent1'>, <class '__main__.Parent2'>, <class 'object'>]\n",
      "\n",
      "[<class '__main__.Child6'>, <class '__main__.Child2'>, <class '__main__.Child1'>, <class '__main__.Parent1'>, <class '__main__.Parent2'>, <class 'object'>]\n"
     ]
    }
   ],
   "source": [
    "print(Child1.mro(),\n",
    "      Child2.mro(),\n",
    "      Child3.mro(),\n",
    "      Child4.mro(),\n",
    "      Child5.mro(),\n",
    "      Child6.mro(),\n",
    "      sep='\\n\\n')"
   ]
  },
  {
   "cell_type": "code",
   "execution_count": 236,
   "id": "d47cb63b",
   "metadata": {},
   "outputs": [],
   "source": [
    "# TypeError: Cannot create a consistent method resolution order (MRO) for bases Parent2, Child1, Child2\n",
    "# class Child7(Parent2, Child1): \n",
    "#     pass"
   ]
  },
  {
   "cell_type": "markdown",
   "id": "9dbee56d",
   "metadata": {},
   "source": [
    "- MRO is based on C3 linearization algorithm \n",
    "    - calculates the order in which the classes should be searched for methods\n",
    "- The goal is to maintain the **depth-first, left-to-right** ordering, which helps resolve conflicts when the same method is present in multiple parent classes.\n",
    "1. Children get checked before their parents.\n",
    "2. Parents are listed in the order they appear in the inheritance tuple.\n",
    "3. When merging the parents, the parents of the parents are inserted before the parents themselves.\n",
    "    "
   ]
  },
  {
   "cell_type": "markdown",
   "id": "9314179a",
   "metadata": {
    "id": "7_4s7TCSosoe"
   },
   "source": [
    "#### super() - for parent class method"
   ]
  },
  {
   "cell_type": "code",
   "execution_count": 237,
   "id": "ad1b2f0f",
   "metadata": {
    "colab": {
     "base_uri": "https://localhost:8080/"
    },
    "executionInfo": {
     "elapsed": 8,
     "status": "ok",
     "timestamp": 1681725347426,
     "user": {
      "displayName": "vishnupriya karanam",
      "userId": "13289819926024070101"
     },
     "user_tz": -330
    },
    "id": "6uNhGKwym1Sy",
    "outputId": "270cccf4-fd37-4dfc-d95c-4afb363165a2"
   },
   "outputs": [
    {
     "name": "stdout",
     "output_type": "stream",
     "text": [
      "In Class4\n",
      "In Class2\n",
      "In Class3\n",
      "In Class1\n",
      "[<class '__main__.Class3'>, <class '__main__.Class1'>, <class 'object'>]\n",
      "[<class '__main__.Class4'>, <class '__main__.Class2'>, <class '__main__.Class3'>, <class '__main__.Class1'>, <class 'object'>]\n"
     ]
    }
   ],
   "source": [
    "class Class1:\n",
    "    def m(self):\n",
    "        print(\"In Class1\")\n",
    "\n",
    "class Class2(Class1):\n",
    "    def m(self):\n",
    "        print(\"In Class2\")\n",
    "        super().m()  # comment and check\n",
    "\n",
    "class Class3(Class1):\n",
    "    def m(self):\n",
    "        print(\"In Class3\")\n",
    "        super().m()\n",
    "\n",
    "class Class4(Class2, Class3):\n",
    "    def m(self):\n",
    "        print(\"In Class4\")\n",
    "        super().m() # c2.m , c3.m\n",
    "\n",
    "o4 = Class4()\n",
    "o4.m() \n",
    "\n",
    "print(Class3.mro())\n",
    "print(Class4.mro()) # Method resolution order"
   ]
  },
  {
   "cell_type": "code",
   "execution_count": 238,
   "id": "9827c9dd",
   "metadata": {},
   "outputs": [
    {
     "name": "stdout",
     "output_type": "stream",
     "text": [
      "In Class4\n",
      "In Class2\n",
      "In Class1\n",
      "In Class3\n",
      "In Class1\n",
      "In Class5\n"
     ]
    }
   ],
   "source": [
    "# when we try to call m of Class1 from both \n",
    "# m of Class2 and m of Class3\n",
    "\n",
    "class Class1:\n",
    "    def m(self):\n",
    "        print(\"In Class1\")\n",
    "\n",
    "class Class2(Class1):\n",
    "    def m(self):\n",
    "        print(\"In Class2\")\n",
    "        Class1.m(self)\n",
    "\n",
    "class Class3(Class1):\n",
    "    def m(self):\n",
    "        print(\"In Class3\")\n",
    "        Class1.m(self)\n",
    "\n",
    "class Class4(Class2, Class3):\n",
    "    def m(self):\n",
    "        print(\"In Class4\")\n",
    "        Class2.m(self)\n",
    "        Class3.m(self)\n",
    "        Class5.m(self)\n",
    "        \n",
    "class Class5: # same folder\n",
    "    def m(self):\n",
    "        print(\"In Class5\")\n",
    "\n",
    "o4 = Class4()\n",
    "o4.m()"
   ]
  },
  {
   "cell_type": "markdown",
   "id": "6d451fe5",
   "metadata": {
    "id": "VYEHtEJMkPLH"
   },
   "source": [
    "#### hybrid inheritance"
   ]
  },
  {
   "cell_type": "code",
   "execution_count": 239,
   "id": "9ec103e8",
   "metadata": {
    "colab": {
     "base_uri": "https://localhost:8080/"
    },
    "executionInfo": {
     "elapsed": 562,
     "status": "ok",
     "timestamp": 1681724312031,
     "user": {
      "displayName": "vishnupriya karanam",
      "userId": "13289819926024070101"
     },
     "user_tz": -330
    },
    "id": "MrATv45fkD1y",
    "outputId": "f81f3a36-22b6-403c-b790-7fe170172633"
   },
   "outputs": [
    {
     "name": "stdout",
     "output_type": "stream",
     "text": [
      "This function is in school.\n",
      "This function is in student 1. \n"
     ]
    }
   ],
   "source": [
    "class School:\n",
    "    def func1(self):\n",
    "        print(\"This function is in school.\")\n",
    "\n",
    "# single\n",
    "class Student1(School): \n",
    "    def func2(self):\n",
    "        print(\"This function is in student 1. \")\n",
    "\n",
    "# hierarchical\n",
    "class Student2(School):\n",
    "    def func3(self):\n",
    "        print(\"This function is in student 2.\")\n",
    "\n",
    "# multiple\n",
    "class Student3(Student1, School):\n",
    "    def func4(self):\n",
    "        print(\"This function is in student 3.\")\n",
    "\n",
    "# Driver's code\n",
    "object = Student3()\n",
    "object.func1()\n",
    "object.func2()"
   ]
  },
  {
   "cell_type": "markdown",
   "id": "f2c845b0",
   "metadata": {},
   "source": [
    "### Encapsulation"
   ]
  },
  {
   "cell_type": "markdown",
   "id": "6a1c8335",
   "metadata": {},
   "source": [
    "- idea of wrapping data and the methods that work on data within one unit\n",
    "- It restricts accessing variables directly, instead use methods\n",
    "    - such variables are declared as private variables\n",
    "- class is example of encapsulation\n",
    "- also hides data"
   ]
  },
  {
   "cell_type": "code",
   "execution_count": 240,
   "id": "e4bdceb0",
   "metadata": {},
   "outputs": [],
   "source": [
    "class Base:\n",
    "    def __init__(self):\n",
    "        print('base init',self)\n",
    "        self.__private_var = \"private\"\n",
    "        self._protected_var = \"protected\""
   ]
  },
  {
   "cell_type": "code",
   "execution_count": 241,
   "id": "b11e65f5",
   "metadata": {},
   "outputs": [],
   "source": [
    "class Derived(Base):\n",
    "    def __init__(self):\n",
    "        print('derived init',self)\n",
    "        super().__init__()"
   ]
  },
  {
   "cell_type": "code",
   "execution_count": 242,
   "id": "6718cb70",
   "metadata": {},
   "outputs": [],
   "source": [
    "class Derived2(Base):\n",
    "    def __init__(self):\n",
    "        print('derived2 init',self)\n",
    "        super().__init__()\n",
    "        self.__private_var = \"private2\"\n",
    "        self._protected_var = \"protected2\""
   ]
  },
  {
   "cell_type": "code",
   "execution_count": 243,
   "id": "ad944fce",
   "metadata": {},
   "outputs": [
    {
     "name": "stdout",
     "output_type": "stream",
     "text": [
      "base init <__main__.Base object at 0x000001F7A3FC6EE0>\n",
      "derived init <__main__.Derived object at 0x000001F7A3FC6550>\n",
      "base init <__main__.Derived object at 0x000001F7A3FC6550>\n",
      "derived2 init <__main__.Derived2 object at 0x000001F7A3FC6400>\n",
      "base init <__main__.Derived2 object at 0x000001F7A3FC6400>\n"
     ]
    }
   ],
   "source": [
    "b = Base()\n",
    "d = Derived()\n",
    "d2 = Derived2()"
   ]
  },
  {
   "cell_type": "code",
   "execution_count": 244,
   "id": "fdcde388",
   "metadata": {},
   "outputs": [],
   "source": [
    "# b.__private_var # AttributeError: 'Base' object has no attribute '__private_var'\n",
    "# d.__private_var # AttributeError: 'Derived' object has no attribute '__private_var'\n",
    "# d2.__private_var # AttributeError: 'Derived2' object has no attribute '__private_var'"
   ]
  },
  {
   "cell_type": "code",
   "execution_count": 245,
   "id": "60de74f0",
   "metadata": {},
   "outputs": [
    {
     "data": {
      "text/plain": [
       "('protected', 'protected', 'protected2')"
      ]
     },
     "execution_count": 245,
     "metadata": {},
     "output_type": "execute_result"
    }
   ],
   "source": [
    "b._protected_var, d._protected_var, d2._protected_var"
   ]
  },
  {
   "cell_type": "markdown",
   "id": "8dc56a69",
   "metadata": {},
   "source": [
    "### data hiding"
   ]
  },
  {
   "cell_type": "code",
   "execution_count": 246,
   "id": "9e21acd7",
   "metadata": {},
   "outputs": [],
   "source": [
    "class Emp:\n",
    "    __salary = 50000 # private\n",
    "    __password = 'abc@123' # private\n",
    "    \n",
    "    # write access (setter method)\n",
    "    def setSalary(self, salary):\n",
    "        self.__salary = salary\n",
    "\n",
    "    # read access (getter method)\n",
    "    def getSalary(self):\n",
    "        return self.__salary\n",
    "\n",
    "    # write access, no read access\n",
    "    def setPassword(self, pwd):\n",
    "        self.__password = pwd        "
   ]
  },
  {
   "cell_type": "code",
   "execution_count": 247,
   "id": "0c26fe70",
   "metadata": {},
   "outputs": [
    {
     "name": "stdout",
     "output_type": "stream",
     "text": [
      "60000\n"
     ]
    }
   ],
   "source": [
    "e1 = Emp()\n",
    "e1.setSalary(60000)\n",
    "print(e1.getSalary())\n",
    "e1.setPassword('emp@123')\n",
    "# e1.getPassword() # AttributeError: 'Emp' object has no attribute 'getPassword'"
   ]
  },
  {
   "cell_type": "markdown",
   "id": "12780432",
   "metadata": {},
   "source": [
    "### polymorphism"
   ]
  },
  {
   "cell_type": "code",
   "execution_count": 248,
   "id": "169b493b",
   "metadata": {},
   "outputs": [
    {
     "data": {
      "text/plain": [
       "(4, '22')"
      ]
     },
     "execution_count": 248,
     "metadata": {},
     "output_type": "execute_result"
    }
   ],
   "source": [
    "2+2, '2'+'2'"
   ]
  },
  {
   "cell_type": "code",
   "execution_count": 249,
   "id": "c4306637",
   "metadata": {},
   "outputs": [
    {
     "data": {
      "text/plain": [
       "(4, 3)"
      ]
     },
     "execution_count": 249,
     "metadata": {},
     "output_type": "execute_result"
    }
   ],
   "source": [
    "len(\"abcd\"), len([1,2,3])"
   ]
  },
  {
   "cell_type": "code",
   "execution_count": 250,
   "id": "54baa329",
   "metadata": {},
   "outputs": [
    {
     "data": {
      "text/plain": [
       "9"
      ]
     },
     "execution_count": 250,
     "metadata": {},
     "output_type": "execute_result"
    }
   ],
   "source": [
    "# no polymorphism\n",
    "\n",
    "def add(a,b): # not available anymore\n",
    "    return a+b\n",
    "\n",
    "def add(a,b,c): # not function overloading. but function overriding\n",
    "    return a+b+c\n",
    "\n",
    "# add(2,3) # TypeError: add() missing 1 required positional argument: 'c'\n",
    "add(2,3,4)"
   ]
  },
  {
   "cell_type": "code",
   "execution_count": 251,
   "id": "b1cdd389",
   "metadata": {},
   "outputs": [
    {
     "name": "stdout",
     "output_type": "stream",
     "text": [
      "m in A\n",
      "m in B\n"
     ]
    }
   ],
   "source": [
    "# polymorphism without inheritance\n",
    "\n",
    "class A:\n",
    "    def m(self):\n",
    "        print('m in A')\n",
    "        \n",
    "class B:\n",
    "    def m(self): # method overriding; m has diff implementation => polymorphism\n",
    "        print('m in B')\n",
    "\n",
    "a = A()\n",
    "b = B()\n",
    "for obj in (a,b):\n",
    "    obj.m()"
   ]
  },
  {
   "cell_type": "code",
   "execution_count": 252,
   "id": "b75bd7a9",
   "metadata": {},
   "outputs": [
    {
     "name": "stdout",
     "output_type": "stream",
     "text": [
      "m in A\n",
      "m in B\n"
     ]
    }
   ],
   "source": [
    "# polymorphism with inheritance\n",
    "\n",
    "class A:\n",
    "    def m(self):\n",
    "        print('m in A')\n",
    "        \n",
    "class B(A):\n",
    "    def m(self): # method overriding; m has diff implementation => polymorphism\n",
    "        print('m in B')\n",
    "\n",
    "a = A()\n",
    "b = B()\n",
    "for obj in (a,b):\n",
    "    obj.m()"
   ]
  },
  {
   "cell_type": "markdown",
   "id": "8d9c734e",
   "metadata": {},
   "source": [
    "### Runtime polymorphism\n",
    "- Method overriding is a way to achieve runtime polymorphism "
   ]
  },
  {
   "cell_type": "code",
   "execution_count": 253,
   "id": "541d29a0",
   "metadata": {},
   "outputs": [
    {
     "name": "stdout",
     "output_type": "stream",
     "text": [
      "Animal speaks\n",
      "Dog barks\n"
     ]
    }
   ],
   "source": [
    "class Animal:\n",
    "    def speak(self):\n",
    "        print(\"Animal speaks\")\n",
    "\n",
    "class Dog(Animal):\n",
    "    def speak(self): # method overriding\n",
    "        print(\"Dog barks\")\n",
    "\n",
    "animal = Animal()\n",
    "dog = Dog()\n",
    "\n",
    "# speak() works different in runtime w.r.t object used to call it => run time polymorphism\n",
    "animal.speak()  \n",
    "dog.speak()      "
   ]
  },
  {
   "cell_type": "markdown",
   "id": "9b9c9a9f",
   "metadata": {},
   "source": [
    "### abstraction"
   ]
  },
  {
   "cell_type": "markdown",
   "id": "0e6e8d7b",
   "metadata": {},
   "source": [
    "- knowing start_engine() is enough to start car. \n",
    "- internal implementation is not needed => Abstraction"
   ]
  },
  {
   "cell_type": "code",
   "execution_count": 254,
   "id": "59cdaca9",
   "metadata": {},
   "outputs": [],
   "source": [
    "class Car:\n",
    "    def __init__(self, make, model):\n",
    "        self.make = make\n",
    "        self.model = model\n",
    "\n",
    "    def start_engine(self):\n",
    "        print(f\"{self.make} {self.model} engine started.\")\n",
    "\n",
    "    def drive(self):\n",
    "        print(f\"{self.make} {self.model} is driving.\")\n"
   ]
  },
  {
   "cell_type": "markdown",
   "id": "8e3ae247",
   "metadata": {},
   "source": [
    "- abstract classes and interfaces to create a blueprint for classes without providing complete implementations. \n",
    "- Abstract classes cannot be instantiated directly but serve as a foundation for other classes that inherit from them. \n",
    "- Abstract methods defined in abstract classes act as placeholders and must be implemented in the subclasses.\n",
    "- Python provides a module named abc (Abstract Base Classes) to work with abstract classes and interfaces. "
   ]
  },
  {
   "cell_type": "code",
   "execution_count": 255,
   "id": "26b392dc",
   "metadata": {},
   "outputs": [],
   "source": [
    "from abc import ABC, abstractmethod\n",
    "\n",
    "# abstractclass\n",
    "class Shape(ABC):\n",
    "    @abstractmethod\n",
    "    def area(self):\n",
    "        pass\n",
    "\n",
    "class Circle(Shape):\n",
    "    def __init__(self, radius):\n",
    "        self.radius = radius\n",
    "\n",
    "    def area(self):\n",
    "        return 3.14 * self.radius ** 2\n",
    "\n",
    "class Rectangle(Shape):\n",
    "    def __init__(self, length, width):\n",
    "        self.length = length\n",
    "        self.width = width\n",
    "\n",
    "    def area(self):\n",
    "        return self.length * self.width"
   ]
  },
  {
   "cell_type": "code",
   "execution_count": 256,
   "id": "29b7e4fa",
   "metadata": {},
   "outputs": [
    {
     "name": "stdout",
     "output_type": "stream",
     "text": [
      "50.24 12\n"
     ]
    }
   ],
   "source": [
    "# s = Shape() # TypeError: Can't instantiate abstract class Shape with abstract method area\n",
    "c = Circle(4)\n",
    "r = Rectangle(4,3)\n",
    "print(c.area(), r.area())"
   ]
  },
  {
   "cell_type": "code",
   "execution_count": 257,
   "id": "a254ec0e",
   "metadata": {},
   "outputs": [
    {
     "name": "stdout",
     "output_type": "stream",
     "text": [
      "Circle area: 78.5\n",
      "Filled blue circle area: 28.26\n"
     ]
    }
   ],
   "source": [
    "# abstraction using design patterns like Factory and Strategy patterns with multiple inheritance\n",
    "\n",
    "from abc import ABC, abstractmethod\n",
    "\n",
    "# Factory Pattern\n",
    "class ShapeFactory:\n",
    "    @staticmethod\n",
    "    def create_shape(shape_type):\n",
    "        if shape_type == \"circle\":\n",
    "            return Circle()\n",
    "        elif shape_type == \"rectangle\":\n",
    "            return Rectangle()\n",
    "\n",
    "# Strategy Pattern\n",
    "class AreaCalculation(ABC):\n",
    "    @abstractmethod\n",
    "    def calculate_area(self):\n",
    "        pass\n",
    "\n",
    "class Circle(AreaCalculation):\n",
    "    def calculate_area(self):\n",
    "        return 3.14 * self.radius ** 2\n",
    "\n",
    "class Rectangle(AreaCalculation):\n",
    "    def calculate_area(self):\n",
    "        return self.length * self.width\n",
    "\n",
    "# Multiple Inheritance\n",
    "# It is not an ABC, so it can be mixed with any other class, \n",
    "# including concrete classes and ABCs.\n",
    "class ColorMixin:\n",
    "    def __init__(self, color):\n",
    "        self.color = color\n",
    "\n",
    "class FilledShape(Circle, ColorMixin):\n",
    "    def __init__(self, radius, color):\n",
    "        Circle.__init__(self)\n",
    "        ColorMixin.__init__(self, color)\n",
    "        self.radius = radius\n",
    "\n",
    "    def display(self):\n",
    "        print(f\"Filled {self.color} circle area: {self.calculate_area()}\")\n",
    "\n",
    "shape = ShapeFactory.create_shape(\"circle\")\n",
    "shape.radius = 5\n",
    "print(\"Circle area:\", shape.calculate_area())\n",
    "\n",
    "filled_circle = FilledShape(radius=3, color=\"blue\")\n",
    "filled_circle.display()\n"
   ]
  },
  {
   "cell_type": "markdown",
   "id": "52ca9cf9",
   "metadata": {},
   "source": [
    "- The Factory pattern abstracts the process of object creation\n",
    "- The Strategy pattern abstracts the algorithm for area calculation\n",
    "- Multiple inheritance with mixins abstracts the addition of color functionality to shapes"
   ]
  },
  {
   "cell_type": "markdown",
   "id": "fa49b939",
   "metadata": {},
   "source": [
    "### exception handling"
   ]
  },
  {
   "cell_type": "markdown",
   "id": "b25fea4c",
   "metadata": {
    "id": "u-EWS3kqj2dN"
   },
   "source": [
    "- The try block lets you test a block of code for errors.\n",
    "- The except block lets you handle the error.\n",
    "- The else block lets you execute code when there is no error.\n",
    "- The finally block lets you execute code, regardless of the result of the try- and except blocks."
   ]
  },
  {
   "cell_type": "code",
   "execution_count": 258,
   "id": "51c1901c",
   "metadata": {},
   "outputs": [],
   "source": [
    "# print(bb) # NameError: name 'bb' is not defined\n",
    "# print(\"end\") # not executed because of above line error"
   ]
  },
  {
   "cell_type": "code",
   "execution_count": 259,
   "id": "4947c600",
   "metadata": {},
   "outputs": [
    {
     "name": "stdout",
     "output_type": "stream",
     "text": [
      "Enter a dividend: 5\n",
      "Enter a divisor: 1\n",
      "Result of division: 5.0\n",
      "Nested try block's finally executed.\n",
      "Finally block executed.\n"
     ]
    }
   ],
   "source": [
    "def division_example():\n",
    "    try:\n",
    "        x = int(input(\"Enter a dividend: \")) # 5\n",
    "        y = int(input(\"Enter a divisor: \")) # 1\n",
    "        result = x / y\n",
    "    except ValueError:\n",
    "        print(\"Invalid input. Please enter valid integer values.\")\n",
    "    except ZeroDivisionError:\n",
    "        print(\"Cannot divide by zero. Please enter a non-zero divisor.\")\n",
    "    else:\n",
    "        try:\n",
    "            if result > 10:\n",
    "                raise ValueError(\"Result is greater than 10.\")\n",
    "        except ValueError as ve:\n",
    "            print(f\"ValueError: {ve}\")\n",
    "        else:\n",
    "            print(f\"Result of division: {result}\")\n",
    "        finally:\n",
    "            print(\"Nested try block's finally executed.\")\n",
    "    finally:\n",
    "        print(\"Finally block executed.\")\n",
    "\n",
    "\n",
    "division_example()"
   ]
  },
  {
   "cell_type": "code",
   "execution_count": 260,
   "id": "cdd757db",
   "metadata": {},
   "outputs": [
    {
     "name": "stdout",
     "output_type": "stream",
     "text": [
      "Enter a dividend: 5\n",
      "Enter a divisor: 0\n",
      "Cannot divide by zero. Please enter a non-zero divisor.\n",
      "Finally block executed.\n"
     ]
    }
   ],
   "source": [
    "def division_example():\n",
    "    try:\n",
    "        x = int(input(\"Enter a dividend: \")) # 5\n",
    "        y = int(input(\"Enter a divisor: \")) # 0\n",
    "        result = x / y\n",
    "    except ValueError:\n",
    "        print(\"Invalid input. Please enter valid integer values.\")\n",
    "    except ZeroDivisionError:\n",
    "        print(\"Cannot divide by zero. Please enter a non-zero divisor.\")\n",
    "    else:\n",
    "        try:\n",
    "            if result > 10:\n",
    "                raise ValueError(\"Result is greater than 10.\")\n",
    "        except ValueError as ve:\n",
    "            print(f\"ValueError: {ve}\")\n",
    "        else:\n",
    "            print(f\"Result of division: {result}\")\n",
    "        finally:\n",
    "            print(\"Nested try block's finally executed.\")\n",
    "    finally:\n",
    "        print(\"Finally block executed.\")\n",
    "\n",
    "\n",
    "division_example()"
   ]
  },
  {
   "cell_type": "code",
   "execution_count": 261,
   "id": "58605b80",
   "metadata": {},
   "outputs": [
    {
     "name": "stdout",
     "output_type": "stream",
     "text": [
      "Enter a dividend: 20\n",
      "Enter a divisor: 1\n",
      "ValueError: Result is greater than 10.\n",
      "Nested try block's finally executed.\n",
      "Finally block executed.\n"
     ]
    }
   ],
   "source": [
    "def division_example():\n",
    "    try:\n",
    "        x = int(input(\"Enter a dividend: \")) # 20\n",
    "        y = int(input(\"Enter a divisor: \")) # 1\n",
    "        result = x / y\n",
    "    except ValueError:\n",
    "        print(\"Invalid input. Please enter valid integer values.\")\n",
    "    except ZeroDivisionError:\n",
    "        print(\"Cannot divide by zero. Please enter a non-zero divisor.\")\n",
    "    else:\n",
    "        try:\n",
    "            if result > 10:\n",
    "                raise ValueError(\"Result is greater than 10.\")\n",
    "        except ValueError as ve:\n",
    "            print(f\"ValueError: {ve}\")\n",
    "        else:\n",
    "            print(f\"Result of division: {result}\")\n",
    "        finally:\n",
    "            print(\"Nested try block's finally executed.\")\n",
    "    finally:\n",
    "        print(\"Finally block executed.\")\n",
    "\n",
    "\n",
    "division_example()"
   ]
  },
  {
   "cell_type": "markdown",
   "id": "8386722a",
   "metadata": {},
   "source": [
    "### application of exception handling"
   ]
  },
  {
   "cell_type": "markdown",
   "id": "b1238303",
   "metadata": {},
   "source": [
    "**1. data inpiut validation**"
   ]
  },
  {
   "cell_type": "code",
   "execution_count": 262,
   "id": "19dc40d0",
   "metadata": {},
   "outputs": [
    {
     "name": "stdout",
     "output_type": "stream",
     "text": [
      "Enter your age: -2\n",
      "Invalid input: Age cannot be negative.\n"
     ]
    }
   ],
   "source": [
    "try:\n",
    "    age = int(input(\"Enter your age: \")) # -2\n",
    "    if age < 0:\n",
    "        raise ValueError(\"Age cannot be negative.\")\n",
    "except ValueError as ve:\n",
    "    print(f\"Invalid input: {ve}\")\n",
    "else:\n",
    "    print(\"Age entered:\", age)\n"
   ]
  },
  {
   "cell_type": "code",
   "execution_count": 263,
   "id": "f24f0434",
   "metadata": {},
   "outputs": [
    {
     "name": "stdout",
     "output_type": "stream",
     "text": [
      "Enter your age: 25\n",
      "Age entered: 25\n"
     ]
    }
   ],
   "source": [
    "try:\n",
    "    age = int(input(\"Enter your age: \")) # 25\n",
    "    if age < 0:\n",
    "        raise ValueError(\"Age cannot be negative.\")\n",
    "except ValueError as ve:\n",
    "    print(f\"Invalid input: {ve}\")\n",
    "else:\n",
    "    print(\"Age entered:\", age)\n"
   ]
  },
  {
   "cell_type": "markdown",
   "id": "22c7ba64",
   "metadata": {},
   "source": [
    "**2. DB connection with cleanup**"
   ]
  },
  {
   "cell_type": "code",
   "execution_count": 264,
   "id": "02c2406e",
   "metadata": {},
   "outputs": [
    {
     "name": "stdout",
     "output_type": "stream",
     "text": [
      "Employee Data:\n",
      "(1, 'John Doe', 'HR', Decimal('50000.00'))\n",
      "(2, 'Jane Smith', 'Finance', Decimal('60000.50'))\n",
      "(3, 'Michael Johnson', 'IT', Decimal('75000.75'))\n",
      "All database operations were successful.\n"
     ]
    }
   ],
   "source": [
    "import mysql.connector\n",
    "\n",
    "# Replace these with your actual database credentials\n",
    "HOST = '127.0.0.1'\n",
    "USERNAME = 'root'\n",
    "PASSWORD = 'root'\n",
    "DATABASE = 'pythontestdb'\n",
    "\n",
    "try:\n",
    "    # Establishing the connection\n",
    "    conn = mysql.connector.connect(\n",
    "        host=HOST,\n",
    "        user=USERNAME,\n",
    "        password=PASSWORD,\n",
    "        database=DATABASE\n",
    "    )\n",
    "\n",
    "    # Creating a cursor to execute SQL queries\n",
    "    cursor = conn.cursor()\n",
    "\n",
    "    # SQL query to drop the \"employee\" table if it exists\n",
    "    drop_table_query = \"\"\"\n",
    "    DROP TABLE IF EXISTS employee;\n",
    "    \"\"\"\n",
    "\n",
    "    # Executing the query to drop the table if it exists\n",
    "    cursor.execute(drop_table_query)\n",
    "\n",
    "    # SQL query to create the \"employee\" table\n",
    "    create_table_query = \"\"\"\n",
    "    CREATE TABLE employee (\n",
    "        emp_id INT PRIMARY KEY,\n",
    "        emp_name VARCHAR(100),\n",
    "        emp_department VARCHAR(100),\n",
    "        emp_salary DECIMAL(10, 2)\n",
    "    );\n",
    "    \"\"\"\n",
    "\n",
    "    # Executing the query to create the table\n",
    "    cursor.execute(create_table_query)\n",
    "\n",
    "    # SQL query to insert data into the \"employee\" table\n",
    "    insert_data_query = \"\"\"\n",
    "    INSERT INTO employee (emp_id, emp_name, emp_department, emp_salary)\n",
    "    VALUES (%s, %s, %s, %s)\n",
    "    \"\"\"\n",
    "\n",
    "    # Sample data to insert into the table\n",
    "    employee_data = [\n",
    "        (1, 'John Doe', 'HR', 50000.00),\n",
    "        (2, 'Jane Smith', 'Finance', 60000.50),\n",
    "        (3, 'Michael Johnson', 'IT', 75000.75),\n",
    "    ]\n",
    "\n",
    "    # Executing the query to insert data into the table\n",
    "    cursor.executemany(insert_data_query, employee_data)\n",
    "\n",
    "    # Committing the changes to the database\n",
    "    conn.commit()\n",
    "\n",
    "    # SQL query to retrieve data from the \"employee\" table\n",
    "    select_data_query = \"\"\"\n",
    "    SELECT * FROM employee;\n",
    "    \"\"\"\n",
    "\n",
    "    # Executing the query to retrieve data from the table\n",
    "    cursor.execute(select_data_query)\n",
    "\n",
    "    # Fetching all the data from the table\n",
    "    result = cursor.fetchall()\n",
    "\n",
    "    # Displaying the retrieved data\n",
    "    print(\"Employee Data:\")\n",
    "    for row in result:\n",
    "        print(row)\n",
    "\n",
    "except mysql.connector.Error as e:\n",
    "    print(\"Error:\", e)\n",
    "    # Additional error handling logic can be added here\n",
    "\n",
    "else:\n",
    "    print(\"All database operations were successful.\")\n",
    "\n",
    "finally:\n",
    "    # Closing the cursor and the connection\n",
    "    if 'cursor' in locals() and cursor:\n",
    "        cursor.close()\n",
    "    if 'conn' in locals() and conn.is_connected():\n",
    "        conn.close()\n"
   ]
  },
  {
   "cell_type": "code",
   "execution_count": 265,
   "id": "208af51e",
   "metadata": {},
   "outputs": [
    {
     "name": "stdout",
     "output_type": "stream",
     "text": [
      "IntegrityError: 1062 (23000): Duplicate entry '1' for key 'employee.PRIMARY'\n",
      "Error: 1062 (23000): Duplicate entry '1' for key 'employee.PRIMARY'\n"
     ]
    }
   ],
   "source": [
    "import mysql.connector\n",
    "\n",
    "# Replace these with your actual database credentials\n",
    "HOST = '127.0.0.1'\n",
    "USERNAME = 'root'\n",
    "PASSWORD = 'root'\n",
    "DATABASE = 'pythontestdb'\n",
    "\n",
    "try:\n",
    "    # Establishing the connection\n",
    "    conn = mysql.connector.connect(\n",
    "        host=HOST,\n",
    "        user=USERNAME,\n",
    "        password=PASSWORD,\n",
    "        database=DATABASE\n",
    "    )\n",
    "\n",
    "    # Creating a cursor to execute SQL queries\n",
    "    cursor = conn.cursor()\n",
    "\n",
    "    # SQL query to drop the \"employee\" table if it exists\n",
    "    drop_table_query = \"\"\"\n",
    "    DROP TABLE IF EXISTS employee;\n",
    "    \"\"\"\n",
    "\n",
    "    # Executing the query to drop the table if it exists\n",
    "    cursor.execute(drop_table_query)\n",
    "\n",
    "    # SQL query to create the \"employee\" table\n",
    "    create_table_query = \"\"\"\n",
    "    CREATE TABLE employee (\n",
    "        emp_id INT PRIMARY KEY,\n",
    "        emp_name VARCHAR(100),\n",
    "        emp_department VARCHAR(100),\n",
    "        emp_salary DECIMAL(10, 2)\n",
    "    );\n",
    "    \"\"\"\n",
    "\n",
    "    # Executing the query to create the table\n",
    "    cursor.execute(create_table_query)\n",
    "\n",
    "    # SQL query to insert data into the \"employee\" table\n",
    "    insert_data_query = \"\"\"\n",
    "    INSERT INTO employee (emp_id, emp_name, emp_department, emp_salary)\n",
    "    VALUES (%s, %s, %s, %s)\n",
    "    \"\"\"\n",
    "\n",
    "    # Sample data to insert into the table\n",
    "    employee_data = [\n",
    "        (1, 'John Doe', 'HR', 50000.00),\n",
    "        (2, 'Jane Smith', 'Finance', 60000.50),\n",
    "        (3, 'Michael Johnson', 'IT', 75000.75),\n",
    "    ]\n",
    "\n",
    "    # Executing the query to insert data into the table\n",
    "    cursor.executemany(insert_data_query, employee_data)\n",
    "\n",
    "    # Trying to insert duplicate primary key (emp_id) to raise an IntegrityError\n",
    "    try:\n",
    "        cursor.execute(insert_data_query, (1, 'Duplicate Employee', 'Duplicate Dept', 100000.00))\n",
    "    except mysql.connector.errors.IntegrityError as e:\n",
    "        print(\"IntegrityError:\", e)\n",
    "        raise # re-raises exceptionpropagating it up the call stack to be handled by outer except\n",
    "\n",
    "    # Committing the changes to the database\n",
    "    conn.commit()\n",
    "\n",
    "    # SQL query to retrieve data from the \"employee\" table\n",
    "    select_data_query = \"\"\"\n",
    "    SELECT * FROM employee;\n",
    "    \"\"\"\n",
    "\n",
    "    # Executing the query to retrieve data from the table\n",
    "    cursor.execute(select_data_query)\n",
    "\n",
    "    # Fetching all the data from the table\n",
    "    result = cursor.fetchall()\n",
    "\n",
    "    # Displaying the retrieved data\n",
    "    print(\"Employee Data:\")\n",
    "    for row in result:\n",
    "        print(row)\n",
    "\n",
    "except mysql.connector.Error as e:\n",
    "    print(\"Error:\", e)\n",
    "    # Additional error handling logic can be added here\n",
    "\n",
    "else:\n",
    "    print(\"All database operations were successful.\")\n",
    "\n",
    "finally:\n",
    "    # Closing the cursor and the connection\n",
    "    if 'cursor' in locals() and cursor:\n",
    "        cursor.close()\n",
    "    if 'conn' in locals() and conn.is_connected():\n",
    "        conn.close()\n"
   ]
  },
  {
   "cell_type": "markdown",
   "id": "19c18c5f",
   "metadata": {},
   "source": [
    "**3. Custom Exception for Business Logic**"
   ]
  },
  {
   "cell_type": "code",
   "execution_count": 266,
   "id": "e9b0bf00",
   "metadata": {},
   "outputs": [
    {
     "name": "stdout",
     "output_type": "stream",
     "text": [
      "Withdrawal successful.\n"
     ]
    }
   ],
   "source": [
    "class InsufficientFundsError(Exception):\n",
    "    pass\n",
    "\n",
    "def withdraw(amount, balance):\n",
    "    try:\n",
    "        if amount > balance:\n",
    "            raise InsufficientFundsError(\"Insufficient funds for withdrawal.\")\n",
    "    except InsufficientFundsError as e:\n",
    "        print(f\"Error: {e}\")\n",
    "        # Some additional handling logic here\n",
    "        raise\n",
    "    else:\n",
    "        print(\"Withdrawal successful.\")\n",
    "        \n",
    "# withdraw(10000,5000) # InsufficientFundsError: Insufficient funds for withdrawal.\n",
    "withdraw(1000,5000)"
   ]
  },
  {
   "cell_type": "markdown",
   "id": "a28034d1",
   "metadata": {},
   "source": [
    "## Modules"
   ]
  },
  {
   "cell_type": "raw",
   "id": "c8860f37",
   "metadata": {},
   "source": [
    "create a file in the current directory\n",
    "mymodule.py\n",
    "\n",
    "def greeting(name):\n",
    "    print(\"Hello, \" + name)"
   ]
  },
  {
   "cell_type": "raw",
   "id": "e726bbc9",
   "metadata": {},
   "source": [
    "NOTE: if error please restart the kernal and try again"
   ]
  },
  {
   "cell_type": "code",
   "execution_count": 1,
   "id": "369698aa",
   "metadata": {},
   "outputs": [],
   "source": [
    "with open('mymodule.py', 'w+') as file1:\n",
    "    file1.write('''def greetings(name):\n",
    "    print(\"Hello, \" + name)''')"
   ]
  },
  {
   "cell_type": "code",
   "execution_count": 2,
   "id": "7aa547a0",
   "metadata": {},
   "outputs": [
    {
     "name": "stdout",
     "output_type": "stream",
     "text": [
      "Hello, tony\n"
     ]
    }
   ],
   "source": [
    "import mymodule\n",
    "mymodule.greetings(\"tony\")"
   ]
  },
  {
   "cell_type": "code",
   "execution_count": 3,
   "id": "dc7da5f9",
   "metadata": {},
   "outputs": [
    {
     "data": {
      "text/plain": [
       "25"
      ]
     },
     "execution_count": 3,
     "metadata": {},
     "output_type": "execute_result"
    }
   ],
   "source": [
    "# setting variables in module\n",
    "setattr(mymodule, 'person1', {'name': 'tony', 'age':25})\n",
    "mymodule.person1[\"age\"]"
   ]
  },
  {
   "cell_type": "code",
   "execution_count": 4,
   "id": "b62df261",
   "metadata": {},
   "outputs": [
    {
     "name": "stdout",
     "output_type": "stream",
     "text": [
      "25\n"
     ]
    }
   ],
   "source": [
    "import mymodule as mx # alias\n",
    "\n",
    "a = mx.person1[\"age\"]\n",
    "print(a)"
   ]
  },
  {
   "cell_type": "code",
   "execution_count": 5,
   "id": "204fc520",
   "metadata": {},
   "outputs": [
    {
     "name": "stdout",
     "output_type": "stream",
     "text": [
      "Hello, john\n"
     ]
    }
   ],
   "source": [
    "# directly import functions in the module\n",
    "from mymodule import greetings\n",
    "greetings('john')"
   ]
  },
  {
   "cell_type": "code",
   "execution_count": 6,
   "id": "ae0a58c4",
   "metadata": {},
   "outputs": [
    {
     "name": "stdout",
     "output_type": "stream",
     "text": [
      "Windows\n"
     ]
    }
   ],
   "source": [
    "# example of built-in module\n",
    "import platform\n",
    "\n",
    "x = platform.system()\n",
    "print(x)"
   ]
  },
  {
   "cell_type": "code",
   "execution_count": 7,
   "id": "19c1a8eb",
   "metadata": {},
   "outputs": [],
   "source": [
    "import os\n",
    "os.remove(\"mymodule.py\")"
   ]
  },
  {
   "cell_type": "code",
   "execution_count": 8,
   "id": "9cd69d97",
   "metadata": {},
   "outputs": [
    {
     "name": "stdout",
     "output_type": "stream",
     "text": [
      "Hello, Adarsh\n"
     ]
    }
   ],
   "source": [
    "mymodule.greetings('Adarsh')"
   ]
  },
  {
   "cell_type": "markdown",
   "id": "bf63b087",
   "metadata": {},
   "source": [
    "## Packages"
   ]
  },
  {
   "cell_type": "raw",
   "id": "ada74df6",
   "metadata": {},
   "source": [
    "Note: Restart kernel if error"
   ]
  },
  {
   "cell_type": "code",
   "execution_count": 9,
   "id": "c19e65cf",
   "metadata": {},
   "outputs": [
    {
     "name": "stdout",
     "output_type": "stream",
     "text": [
      "G:\\my drive\n"
     ]
    }
   ],
   "source": [
    "# creaitng package\n",
    "import os\n",
    "import sys\n",
    "\n",
    "# Define the package name and module names\n",
    "package_name = 'mypackage'\n",
    "module1_name = 'module1'\n",
    "module2_name = 'module2'\n",
    "\n",
    "# Create the package directory\n",
    "# Check if the package directory exists, if not, create it\n",
    "if not os.path.exists(package_name):\n",
    "    os.makedirs(package_name)\n",
    "\n",
    "# Add an __init__.py file to make it a Python package\n",
    "package_init_file = os.path.join(package_name, '__init__.py')\n",
    "if not os.path.exists(package_init_file):\n",
    "    open(package_init_file, 'a').close()\n",
    "\n",
    "# Add content to module1.py\n",
    "module1_content = '''def function_in_module1():\n",
    "    print(\"This is function_in_module1\")\n",
    "'''\n",
    "module1_file = os.path.join(package_name, f'{module1_name}.py')\n",
    "if not os.path.exists(module1_file):\n",
    "    with open(module1_file, 'w') as f:\n",
    "        f.write(module1_content)\n",
    "\n",
    "# Add content to module2.py\n",
    "module2_content = '''def function_in_module2():\n",
    "    print(\"This is function_in_module2\")\n",
    "'''\n",
    "module2_file = os.path.join(package_name, f'{module2_name}.py')\n",
    "if not os.path.exists(module2_file):\n",
    "    with open(module2_file, 'w') as f:\n",
    "        f.write(module2_content)\n",
    "\n",
    "# Add the package directory to the Python path\n",
    "current_directory = os.getcwd()\n",
    "print(current_directory)\n",
    "package_path = os.path.join(current_directory, package_name)\n",
    "sys.path.append(package_path)"
   ]
  },
  {
   "cell_type": "code",
   "execution_count": 1,
   "id": "272474c1",
   "metadata": {},
   "outputs": [
    {
     "name": "stdout",
     "output_type": "stream",
     "text": [
      "This is function_in_module1\n"
     ]
    }
   ],
   "source": [
    "# Now you can import and use the modules\n",
    "from mypackage import module1\n",
    "\n",
    "module1.function_in_module1()"
   ]
  },
  {
   "cell_type": "code",
   "execution_count": 2,
   "id": "72d92950",
   "metadata": {},
   "outputs": [
    {
     "name": "stdout",
     "output_type": "stream",
     "text": [
      "This is function_in_module2\n"
     ]
    }
   ],
   "source": [
    "# Now you can import and use the modules\n",
    "from mypackage.module2 import function_in_module2 as m2\n",
    "\n",
    "m2()"
   ]
  },
  {
   "cell_type": "code",
   "execution_count": 3,
   "id": "ab256584",
   "metadata": {},
   "outputs": [],
   "source": [
    "# os.rmdir('mypackage') # OSError: [WinError 145] The directory is not empty: 'mypackage'"
   ]
  },
  {
   "cell_type": "code",
   "execution_count": 4,
   "id": "3f88242a",
   "metadata": {},
   "outputs": [],
   "source": [
    "import shutil\n",
    "\n",
    "shutil.rmtree('mypackage')"
   ]
  }
 ],
 "metadata": {
  "kernelspec": {
   "display_name": "Python 3 (ipykernel)",
   "language": "python",
   "name": "python3"
  },
  "language_info": {
   "codemirror_mode": {
    "name": "ipython",
    "version": 3
   },
   "file_extension": ".py",
   "mimetype": "text/x-python",
   "name": "python",
   "nbconvert_exporter": "python",
   "pygments_lexer": "ipython3",
   "version": "3.9.16"
  }
 },
 "nbformat": 4,
 "nbformat_minor": 5
}
