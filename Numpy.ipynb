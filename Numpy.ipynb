{
 "cells": [
  {
   "cell_type": "markdown",
   "id": "7427e1c4",
   "metadata": {},
   "source": [
    "### Handling Challenges in Numerical Computations with NumPy"
   ]
  },
  {
   "cell_type": "code",
   "execution_count": 1,
   "id": "ed475078",
   "metadata": {},
   "outputs": [
    {
     "name": "stdout",
     "output_type": "stream",
     "text": [
      "66.4\n"
     ]
    }
   ],
   "source": [
    "marks = [78,0,89,67,98]\n",
    "# marks = [78,None,89,67,98]\n",
    "summation = 0\n",
    "for i in marks:\n",
    "    summation += i               # TypeError: unsupported operand type(s) for +=: 'int' and 'NoneType'\n",
    "print(summation/len(marks))    "
   ]
  },
  {
   "cell_type": "code",
   "execution_count": 2,
   "id": "1b09feb9",
   "metadata": {},
   "outputs": [
    {
     "name": "stdout",
     "output_type": "stream",
     "text": [
      "[78, 89, 67, 98, 56, 34, 98, 44]\n"
     ]
    }
   ],
   "source": [
    "math_marks = [78,89,67,98]\n",
    "science_marks = [56,34,98,44]\n",
    "total_marks_of_each_student = math_marks + science_marks\n",
    "print(total_marks_of_each_student)            # marks of each student are not added"
   ]
  },
  {
   "cell_type": "markdown",
   "id": "65971472",
   "metadata": {},
   "source": [
    "**Importing numpy**"
   ]
  },
  {
   "cell_type": "code",
   "execution_count": 3,
   "id": "b7885a74",
   "metadata": {},
   "outputs": [],
   "source": [
    "import numpy as np"
   ]
  },
  {
   "cell_type": "code",
   "execution_count": 4,
   "id": "ee211cdd",
   "metadata": {},
   "outputs": [
    {
     "name": "stdout",
     "output_type": "stream",
     "text": [
      "[134 123 165 142]\n"
     ]
    }
   ],
   "source": [
    "math_marks = np.array([78,89,67,98])\n",
    "science_marks = np.array([56,34,98,44])\n",
    "total_marks_of_each_student = math_marks + science_marks\n",
    "print(total_marks_of_each_student)"
   ]
  },
  {
   "cell_type": "code",
   "execution_count": 5,
   "id": "ff0dbbe1",
   "metadata": {},
   "outputs": [
    {
     "name": "stdout",
     "output_type": "stream",
     "text": [
      "[ nan 123. 165. 142.]\n"
     ]
    }
   ],
   "source": [
    "math_marks = np.array([np.nan,89,67,98])\n",
    "science_marks = np.array([56,34,98,44])\n",
    "total_marks_of_each_student = math_marks + science_marks\n",
    "print(total_marks_of_each_student)"
   ]
  },
  {
   "cell_type": "code",
   "execution_count": 6,
   "id": "8362d87a",
   "metadata": {},
   "outputs": [
    {
     "data": {
      "text/plain": [
       "(nan, nan, nan)"
      ]
     },
     "execution_count": 6,
     "metadata": {},
     "output_type": "execute_result"
    }
   ],
   "source": [
    "np.nan * 0, np.nan + 5, np.nan / 5"
   ]
  },
  {
   "cell_type": "markdown",
   "id": "d3d68701",
   "metadata": {},
   "source": [
    "###  Creating Arrays"
   ]
  },
  {
   "cell_type": "code",
   "execution_count": 7,
   "id": "60ba853e",
   "metadata": {},
   "outputs": [
    {
     "name": "stdout",
     "output_type": "stream",
     "text": [
      "[1 2 3]\n",
      "shape: (3,)\n",
      "dimension: 1\n"
     ]
    }
   ],
   "source": [
    "a = np.array([1, 2, 3])\n",
    "print(a)\n",
    "print(\"shape:\",a.shape)\n",
    "print(\"dimension:\",a.ndim)"
   ]
  },
  {
   "cell_type": "code",
   "execution_count": 8,
   "id": "9249c002",
   "metadata": {},
   "outputs": [
    {
     "name": "stdout",
     "output_type": "stream",
     "text": [
      "shape: (2, 2)\n",
      "dimension: 2\n",
      "[[1. 2.]\n",
      " [3. 4.]]\n"
     ]
    }
   ],
   "source": [
    "b = np.array([(1, 2), \n",
    "              (3, 4)], \n",
    "             dtype=float)\n",
    "print(\"shape:\",b.shape)\n",
    "print(\"dimension:\",b.ndim)\n",
    "print(b)"
   ]
  },
  {
   "cell_type": "code",
   "execution_count": 9,
   "id": "d13a3ea9",
   "metadata": {},
   "outputs": [
    {
     "name": "stdout",
     "output_type": "stream",
     "text": [
      "shape: (3, 2, 4)\n",
      "dimension: 3\n",
      "[[[ 1.  2.  3.  4.]\n",
      "  [ 5.  6.  7.  8.]]\n",
      "\n",
      " [[ 1.  2.  3.  4.]\n",
      "  [ 9. 10. 11. 12.]]\n",
      "\n",
      " [[13. 14. 15. 16.]\n",
      "  [17. 18. 19. 20.]]]\n"
     ]
    }
   ],
   "source": [
    "c = np.array([[[1, 2, 3, 4], [5, 6, 7, 8]], \n",
    "              [[1, 2, 3, 4], [9, 10, 11, 12]], \n",
    "              [[13, 14, 15, 16], [17, 18, 19, 20]]], \n",
    "             dtype=np.float64)\n",
    "print(\"shape:\",c.shape)\n",
    "print(\"dimension:\",c.ndim)\n",
    "print(c)"
   ]
  },
  {
   "cell_type": "code",
   "execution_count": 10,
   "id": "5ca01328",
   "metadata": {},
   "outputs": [],
   "source": [
    "np.set_printoptions(formatter={'float': '{: 5.1f}'.format})"
   ]
  },
  {
   "cell_type": "code",
   "execution_count": 11,
   "id": "46032ea2",
   "metadata": {},
   "outputs": [
    {
     "name": "stdout",
     "output_type": "stream",
     "text": [
      "[[[  1.0   2.0   3.0   4.0]\n",
      "  [  5.0   6.0   7.0   8.0]]\n",
      "\n",
      " [[  1.0   2.0   3.0   4.0]\n",
      "  [  9.0  10.0  11.0  12.0]]\n",
      "\n",
      " [[ 13.0  14.0  15.0  16.0]\n",
      "  [ 17.0  18.0  19.0  20.0]]]\n"
     ]
    }
   ],
   "source": [
    "print(c)"
   ]
  },
  {
   "cell_type": "code",
   "execution_count": 12,
   "id": "51b7ffd5",
   "metadata": {},
   "outputs": [
    {
     "name": "stdout",
     "output_type": "stream",
     "text": [
      "(3, 2, 4)\n",
      "24\n",
      "3\n",
      "<class 'numpy.ndarray'>\n",
      "float64\n"
     ]
    }
   ],
   "source": [
    "print(c.shape,    # (3, 2, 4)\n",
    "      c.size,     # total elements = 3*2*4 = 24\n",
    "      c.ndim,     # 3\n",
    "      type(c),    # <class 'numpy.ndarray'>\n",
    "      c.dtype,    # array element datatype: float64\n",
    "      sep='\\n')"
   ]
  },
  {
   "cell_type": "markdown",
   "id": "90b4d8d6",
   "metadata": {},
   "source": [
    "### Initial Placeholders "
   ]
  },
  {
   "cell_type": "code",
   "execution_count": 13,
   "id": "cc598c62",
   "metadata": {},
   "outputs": [
    {
     "name": "stdout",
     "output_type": "stream",
     "text": [
      "[[0 0 0 0]\n",
      " [0 0 0 0]\n",
      " [0 0 0 0]]\n"
     ]
    }
   ],
   "source": [
    "d = np.zeros(shape=(3, 4), dtype=np.int64)\n",
    "print(d)"
   ]
  },
  {
   "cell_type": "code",
   "execution_count": 14,
   "id": "bda636ff",
   "metadata": {},
   "outputs": [
    {
     "name": "stdout",
     "output_type": "stream",
     "text": [
      "[[[1 1 1 1]\n",
      "  [1 1 1 1]\n",
      "  [1 1 1 1]]\n",
      "\n",
      " [[1 1 1 1]\n",
      "  [1 1 1 1]\n",
      "  [1 1 1 1]]]\n"
     ]
    }
   ],
   "source": [
    "e = np.ones(shape=(2, 3, 4), dtype=np.int16)\n",
    "print(e)"
   ]
  },
  {
   "cell_type": "code",
   "execution_count": 15,
   "id": "cbcbb090",
   "metadata": {},
   "outputs": [
    {
     "name": "stdout",
     "output_type": "stream",
     "text": [
      "[10 15 20]\n"
     ]
    }
   ],
   "source": [
    "f = np.arange(start=10, stop=25, step=5)     # 1-d\n",
    "print(f)"
   ]
  },
  {
   "cell_type": "code",
   "execution_count": 16,
   "id": "7ccf5a5d",
   "metadata": {},
   "outputs": [
    {
     "name": "stdout",
     "output_type": "stream",
     "text": [
      "[  0.0   0.5   1.0   1.5   2.0]\n",
      "[  0.0   0.4   0.8   1.2   1.6]\n"
     ]
    }
   ],
   "source": [
    "g = np.linspace(start=0, stop=2, num=5, endpoint=True)    # 1-d\n",
    "print(g)\n",
    "\n",
    "g1 = np.linspace(start=0, stop=2, num=5, endpoint=False)  # 1-d\n",
    "print(g1)"
   ]
  },
  {
   "cell_type": "code",
   "execution_count": 17,
   "id": "f481c97b",
   "metadata": {},
   "outputs": [
    {
     "name": "stdout",
     "output_type": "stream",
     "text": [
      "[[  5.7   5.7   5.7]\n",
      " [  5.7   5.7   5.7]]\n"
     ]
    }
   ],
   "source": [
    "h = np.full(shape=(2, 3), fill_value=5.7, dtype=float)\n",
    "print(h)"
   ]
  },
  {
   "cell_type": "code",
   "execution_count": 18,
   "id": "6481e4b1",
   "metadata": {},
   "outputs": [
    {
     "name": "stdout",
     "output_type": "stream",
     "text": [
      "[[0 0 0 0 0]\n",
      " [0 0 0 0 0]\n",
      " [1 0 0 0 0]\n",
      " [0 1 0 0 0]\n",
      " [0 0 1 0 0]\n",
      " [0 0 0 1 0]\n",
      " [0 0 0 0 1]\n",
      " [0 0 0 0 0]\n",
      " [0 0 0 0 0]\n",
      " [0 0 0 0 0]]\n"
     ]
    }
   ],
   "source": [
    "i = np.eye(N=10,  # rows\n",
    "           M=5,   # cols\n",
    "           k=-2,  # diagonal (-ve => lower diag)\n",
    "           dtype=np.int64)\n",
    "print(i)                   # shape = NxM, dim = 2"
   ]
  },
  {
   "cell_type": "code",
   "execution_count": 19,
   "id": "1227f8ba",
   "metadata": {},
   "outputs": [
    {
     "name": "stdout",
     "output_type": "stream",
     "text": [
      "[[0 0 1 0 0]\n",
      " [0 0 0 1 0]\n",
      " [0 0 0 0 1]\n",
      " [0 0 0 0 0]\n",
      " [0 0 0 0 0]\n",
      " [0 0 0 0 0]\n",
      " [0 0 0 0 0]\n",
      " [0 0 0 0 0]\n",
      " [0 0 0 0 0]\n",
      " [0 0 0 0 0]]\n"
     ]
    }
   ],
   "source": [
    "i = np.eye(N=10,  # rows\n",
    "           M=5,   # cols\n",
    "           k=2,   # diagonal (+ve => upper diag)\n",
    "           dtype=np.int64)\n",
    "print(i)"
   ]
  },
  {
   "cell_type": "code",
   "execution_count": 20,
   "id": "979d02d0",
   "metadata": {},
   "outputs": [
    {
     "name": "stdout",
     "output_type": "stream",
     "text": [
      "[[1 0 0 0 0]\n",
      " [0 1 0 0 0]\n",
      " [0 0 1 0 0]\n",
      " [0 0 0 1 0]\n",
      " [0 0 0 0 1]\n",
      " [0 0 0 0 0]\n",
      " [0 0 0 0 0]\n",
      " [0 0 0 0 0]\n",
      " [0 0 0 0 0]\n",
      " [0 0 0 0 0]]\n"
     ]
    }
   ],
   "source": [
    "i = np.eye(N=10,  # rows\n",
    "           M=5,   # cols\n",
    "#          k=0,   # default\n",
    "           dtype=np.int64)\n",
    "print(i)"
   ]
  },
  {
   "cell_type": "code",
   "execution_count": 21,
   "id": "f55b1193",
   "metadata": {},
   "outputs": [
    {
     "name": "stdout",
     "output_type": "stream",
     "text": [
      "[[  0.4   0.5   0.7]\n",
      " [  0.7   0.6   0.4]\n",
      " [  0.1   0.5   0.6]]\n",
      "[[  0.9   0.9   0.9]\n",
      " [  0.5   0.2   0.1]\n",
      " [  0.6   0.5   0.4]]\n"
     ]
    }
   ],
   "source": [
    "# random values between 0 and 1\n",
    "# different random values for each execution\n",
    "\n",
    "j = np.random.random(size=(3, 3)) \n",
    "print(j)\n",
    "\n",
    "j = np.random.random(size=(3, 3)) # other random values\n",
    "print(j)"
   ]
  },
  {
   "cell_type": "code",
   "execution_count": 22,
   "id": "eadaa8c3",
   "metadata": {},
   "outputs": [
    {
     "name": "stdout",
     "output_type": "stream",
     "text": [
      "[[  0.5   0.7   0.6]\n",
      " [  0.5   0.4   0.6]\n",
      " [  0.4   0.9   1.0]]\n",
      "[[  0.4   0.8   0.5]\n",
      " [  0.6   0.9   0.1]\n",
      " [  0.1   0.0   0.8]]\n"
     ]
    }
   ],
   "source": [
    "# same random values for each execution\n",
    "np.random.seed(0)\n",
    "\n",
    "j = np.random.random(size=(3, 3))\n",
    "print(j)\n",
    "\n",
    "j = np.random.random(size=(3, 3)) # other random values\n",
    "print(j)"
   ]
  },
  {
   "cell_type": "code",
   "execution_count": 23,
   "id": "0c76dd23",
   "metadata": {},
   "outputs": [
    {
     "name": "stdout",
     "output_type": "stream",
     "text": [
      "[[  0.4   0.7   0.0]\n",
      " [  0.3   0.1   0.1]\n",
      " [  0.2   0.3   0.4]]\n",
      "[[  0.5   0.4   0.7]\n",
      " [  0.2   0.9   0.0]\n",
      " [  0.7   0.4   0.6]]\n"
     ]
    }
   ],
   "source": [
    "# same random values for each execution\n",
    "np.random.seed(1)\n",
    "\n",
    "j = np.random.random(size=(3, 3))\n",
    "print(j)\n",
    "\n",
    "j = np.random.random(size=(3, 3)) # other random values\n",
    "print(j)"
   ]
  },
  {
   "cell_type": "code",
   "execution_count": 24,
   "id": "cb2c116c",
   "metadata": {},
   "outputs": [
    {
     "name": "stdout",
     "output_type": "stream",
     "text": [
      "[[  1.4   2.0   8.0]\n",
      " [  9.7   3.1   6.9]\n",
      " [  8.8   8.9   0.9]]\n"
     ]
    }
   ],
   "source": [
    "j = np.random.random(size=(3, 3))*10 # random values between 0 and 10\n",
    "print(j)"
   ]
  },
  {
   "cell_type": "code",
   "execution_count": 25,
   "id": "e98f2d60",
   "metadata": {},
   "outputs": [
    {
     "name": "stdout",
     "output_type": "stream",
     "text": [
      "[[  3.9  17.0  87.8]\n",
      " [  9.8  42.1  95.8]\n",
      " [ 53.3  69.2  31.6]]\n"
     ]
    }
   ],
   "source": [
    "j = np.random.random(size=(3, 3))*100 # random values between 0 and 100\n",
    "print(j)"
   ]
  },
  {
   "cell_type": "code",
   "execution_count": 26,
   "id": "6bd63d9e",
   "metadata": {},
   "outputs": [
    {
     "name": "stdout",
     "output_type": "stream",
     "text": [
      "[[4609001284816098707 4611600517096888917 4620697409231141019]\n",
      " [4621640446144267210 4614240103859851758 4619480878112259129]\n",
      " [4621123250379398379 4621225805850257262 4605835321117975406]]\n"
     ]
    }
   ],
   "source": [
    "k = np.empty(shape=(3, 3), dtype=np.int64) # garbage\n",
    "print(k)"
   ]
  },
  {
   "cell_type": "markdown",
   "id": "f673e2fd",
   "metadata": {},
   "source": [
    "### Input/Output"
   ]
  },
  {
   "cell_type": "markdown",
   "id": "832e57c1",
   "metadata": {},
   "source": [
    "#### arrays"
   ]
  },
  {
   "cell_type": "code",
   "execution_count": 27,
   "id": "29d695c7",
   "metadata": {},
   "outputs": [
    {
     "name": "stdout",
     "output_type": "stream",
     "text": [
      "[1 2 3]\n"
     ]
    }
   ],
   "source": [
    "# array to numpy files\n",
    "a = np.array([1, 2, 3])\n",
    "\n",
    "np.save(\"my_array.npy\", a)\n",
    "loaded_array = np.load(\"my_array.npy\")\n",
    "\n",
    "print(loaded_array)"
   ]
  },
  {
   "cell_type": "code",
   "execution_count": 28,
   "id": "880f3c61",
   "metadata": {},
   "outputs": [
    {
     "name": "stdout",
     "output_type": "stream",
     "text": [
      "[1 2 3] \n",
      "\n",
      "[[  1.0   2.0]\n",
      " [  3.0   4.0]] \n",
      "\n",
      "[[[  1.0   2.0   3.0   4.0]\n",
      "  [  5.0   6.0   7.0   8.0]]\n",
      "\n",
      " [[  1.0   2.0   3.0   4.0]\n",
      "  [  9.0  10.0  11.0  12.0]]\n",
      "\n",
      " [[ 13.0  14.0  15.0  16.0]\n",
      "  [ 17.0  18.0  19.0  20.0]]]\n"
     ]
    }
   ],
   "source": [
    "a = np.array([1, 2, 3])\n",
    "b = np.array([(1, 2), (3, 4)], dtype=float)\n",
    "c = np.array([[[1, 2, 3, 4], [5, 6, 7, 8]], [[1, 2, 3, 4], [9, 10, 11, 12]], [[13, 14, 15, 16], [17, 18, 19, 20]]], dtype=np.float64)\n",
    "\n",
    "np.savez(\"my_arrays.npz\", \n",
    "         my_array1=a, \n",
    "         my_array2=b, \n",
    "         my_array3=c)\n",
    "\n",
    "loaded_data = np.load(\"my_arrays.npz\")\n",
    "loaded_array1 = loaded_data[\"my_array1\"]\n",
    "loaded_array2 = loaded_data[\"my_array2\"]\n",
    "loaded_array3 = loaded_data[\"my_array3\"]\n",
    "\n",
    "print(loaded_array1,'\\n') # a\n",
    "print(loaded_array2,'\\n') # b\n",
    "print(loaded_array3) # c"
   ]
  },
  {
   "cell_type": "markdown",
   "id": "70d8d1b8",
   "metadata": {},
   "source": [
    "#### text"
   ]
  },
  {
   "cell_type": "code",
   "execution_count": 29,
   "id": "90586c33",
   "metadata": {},
   "outputs": [],
   "source": [
    "# array to normal files\n",
    "np.savetxt('my_array.txt', a, delimiter=',')\n",
    "np.savetxt('my_array.csv', a, delimiter=',') # comma seperated values\n",
    "np.savetxt('my_array.out', a, delimiter=',') # assembler output"
   ]
  },
  {
   "cell_type": "code",
   "execution_count": 30,
   "id": "b657927e",
   "metadata": {},
   "outputs": [],
   "source": [
    "# create and add data into data.txt\n",
    "with open('data.txt', 'w+') as f:\n",
    "    f.write('''Value1  Value2  Value3\n",
    "0.2536  0.1008  0.3857\n",
    "0.4839  0.4536  0.3561\n",
    "0.1292  0.6875  0.5929\n",
    "0.1781  0.3049  0.8928\n",
    "0.6253  0.3486  0.8791''')"
   ]
  },
  {
   "cell_type": "code",
   "execution_count": 31,
   "id": "449021c3",
   "metadata": {},
   "outputs": [],
   "source": [
    "# create and add data into data2.txt (contains missing values)\n",
    "with open('data2.txt', 'w+') as f:\n",
    "    f.write('''Value1  Value2  Value3\n",
    "0.4839  0.4536  0.3561\n",
    "0.1292  0.6875  MISSING\n",
    "0.1781  0.3049  0.8928\n",
    "MISSING 0.5801  0.2038\n",
    "0.5993  0.4357  0.7410''')"
   ]
  },
  {
   "cell_type": "code",
   "execution_count": 32,
   "id": "045972e5",
   "metadata": {},
   "outputs": [],
   "source": [
    "# data from file to array\n",
    "arr1 = np.genfromtxt('data.txt')                                      # non-numeric is filled with np.nan\n",
    "arr2 = np.genfromtxt('data.txt', skip_header=1)                       # header is skipped\n",
    "arr3 = np.genfromtxt('data2.txt', skip_header=1, filling_values=-99)  # non-numeric is filled with filling_values"
   ]
  },
  {
   "cell_type": "code",
   "execution_count": 33,
   "id": "382ee3a2",
   "metadata": {},
   "outputs": [
    {
     "name": "stdout",
     "output_type": "stream",
     "text": [
      "\n",
      "arr1:\n",
      " [[  nan   nan   nan]\n",
      " [  0.3   0.1   0.4]\n",
      " [  0.5   0.5   0.4]\n",
      " [  0.1   0.7   0.6]\n",
      " [  0.2   0.3   0.9]\n",
      " [  0.6   0.3   0.9]]\n",
      "\n",
      "arr2:\n",
      " [[  0.3   0.1   0.4]\n",
      " [  0.5   0.5   0.4]\n",
      " [  0.1   0.7   0.6]\n",
      " [  0.2   0.3   0.9]\n",
      " [  0.6   0.3   0.9]]\n",
      "\n",
      "arr3:\n",
      " [[  0.5   0.5   0.4]\n",
      " [  0.1   0.7 -99.0]\n",
      " [  0.2   0.3   0.9]\n",
      " [-99.0   0.6   0.2]\n",
      " [  0.6   0.4   0.7]]\n"
     ]
    }
   ],
   "source": [
    "print('\\narr1:\\n',arr1)\n",
    "print('\\narr2:\\n',arr2)\n",
    "print('\\narr3:\\n',arr3)"
   ]
  },
  {
   "cell_type": "code",
   "execution_count": 34,
   "id": "d8e9cc0a",
   "metadata": {},
   "outputs": [],
   "source": [
    "# text format data from file to array\n",
    "arr3 = np.loadtxt('data.txt', dtype=str)                 # each element is str, each row in file is a row in array\n",
    "arr4 = np.loadtxt('data.txt', dtype=str, delimiter='\\n') # each row in file is an element in array, each element is str "
   ]
  },
  {
   "cell_type": "code",
   "execution_count": 35,
   "id": "a88db195",
   "metadata": {
    "scrolled": true
   },
   "outputs": [
    {
     "name": "stdout",
     "output_type": "stream",
     "text": [
      "\n",
      "arr3:\n",
      " [['Value1' 'Value2' 'Value3']\n",
      " ['0.2536' '0.1008' '0.3857']\n",
      " ['0.4839' '0.4536' '0.3561']\n",
      " ['0.1292' '0.6875' '0.5929']\n",
      " ['0.1781' '0.3049' '0.8928']\n",
      " ['0.6253' '0.3486' '0.8791']]\n",
      "\n",
      "arr4:\n",
      " ['Value1  Value2  Value3' '0.2536  0.1008  0.3857'\n",
      " '0.4839  0.4536  0.3561' '0.1292  0.6875  0.5929'\n",
      " '0.1781  0.3049  0.8928' '0.6253  0.3486  0.8791']\n"
     ]
    }
   ],
   "source": [
    "print('\\narr3:\\n',arr3)\n",
    "print('\\narr4:\\n',arr4)"
   ]
  },
  {
   "cell_type": "code",
   "execution_count": 36,
   "id": "57311df6",
   "metadata": {},
   "outputs": [
    {
     "name": "stdout",
     "output_type": "stream",
     "text": [
      "x:  [  0.3   0.5   0.1   0.2   0.6] \n",
      "y:  [  0.1   0.5   0.7   0.3   0.3] \n",
      "z:  [  0.4   0.4   0.6   0.9   0.9]\n"
     ]
    }
   ],
   "source": [
    "# unpack each column\n",
    "x, y, z = np.loadtxt('data.txt', skiprows=1, unpack=True)\n",
    "print('x: ',x,'\\ny: ',y,'\\nz: ',z) # each col in file is stored as array"
   ]
  },
  {
   "cell_type": "code",
   "execution_count": 37,
   "id": "68067c83",
   "metadata": {},
   "outputs": [],
   "source": [
    "# x, y, z = np.loadtxt('data2.txt', skiprows=1, unpack=True)\n",
    "# ValueError: could not convert string to float: 'MISSING'"
   ]
  },
  {
   "cell_type": "markdown",
   "id": "9c8efe86",
   "metadata": {},
   "source": [
    "### Inspecting array"
   ]
  },
  {
   "cell_type": "code",
   "execution_count": 38,
   "id": "d97c6027",
   "metadata": {},
   "outputs": [
    {
     "name": "stdout",
     "output_type": "stream",
     "text": [
      "[1 2 3]\n"
     ]
    }
   ],
   "source": [
    "print(a)"
   ]
  },
  {
   "cell_type": "code",
   "execution_count": 39,
   "id": "123fa1bd",
   "metadata": {},
   "outputs": [
    {
     "name": "stdout",
     "output_type": "stream",
     "text": [
      "1  3  (3,)  3  4  12  int32  int32  int32\n"
     ]
    }
   ],
   "source": [
    "print(a.ndim,         # 1\n",
    "      len(a),         # 3\n",
    "      a.shape,        # (3,)\n",
    "      a.size,         # 3\n",
    "      a.itemsize,     # 4\n",
    "      a.nbytes,       # 3*4 = 12\n",
    "      a.dtype,        # int32\n",
    "      a.dtype.name,   # int32\n",
    "      a[0].dtype,     # int32\n",
    "      sep='  ')"
   ]
  },
  {
   "cell_type": "code",
   "execution_count": 40,
   "id": "2239f314",
   "metadata": {},
   "outputs": [
    {
     "name": "stdout",
     "output_type": "stream",
     "text": [
      "[[  1.0   2.0]\n",
      " [  3.0   4.0]]\n"
     ]
    }
   ],
   "source": [
    "print(b)"
   ]
  },
  {
   "cell_type": "code",
   "execution_count": 41,
   "id": "000a0616",
   "metadata": {},
   "outputs": [
    {
     "name": "stdout",
     "output_type": "stream",
     "text": [
      "2    2    (2, 2)    4    8    32    float64    float64    float64\n"
     ]
    }
   ],
   "source": [
    "print(b.ndim,         # 2\n",
    "      len(b),         # 2 rows\n",
    "      b.shape,        # (2,2)\n",
    "      b.size,         # 4\n",
    "      b.itemsize,     # 8\n",
    "      b.nbytes,       # 4*8 = 32\n",
    "      b.dtype,        # float64\n",
    "      b.dtype.name,   # float64\n",
    "      b[0][0].dtype,  # float64\n",
    "      sep='    ')"
   ]
  },
  {
   "cell_type": "code",
   "execution_count": 42,
   "id": "03300f85",
   "metadata": {},
   "outputs": [
    {
     "name": "stdout",
     "output_type": "stream",
     "text": [
      "[[[  1.0   2.0   3.0   4.0]\n",
      "  [  5.0   6.0   7.0   8.0]]\n",
      "\n",
      " [[  1.0   2.0   3.0   4.0]\n",
      "  [  9.0  10.0  11.0  12.0]]\n",
      "\n",
      " [[ 13.0  14.0  15.0  16.0]\n",
      "  [ 17.0  18.0  19.0  20.0]]]\n"
     ]
    }
   ],
   "source": [
    "print(c)"
   ]
  },
  {
   "cell_type": "code",
   "execution_count": 43,
   "id": "e7282643",
   "metadata": {},
   "outputs": [
    {
     "name": "stdout",
     "output_type": "stream",
     "text": [
      "3    3    (3, 2, 4)    24    8    192    float64    <class 'numpy.ndarray'>    <class 'numpy.ndarray'>    <class 'numpy.ndarray'>\n"
     ]
    }
   ],
   "source": [
    "print(c.ndim,         # 3\n",
    "      len(c),         # 3 rows\n",
    "      c.shape,        # (3,2,4)\n",
    "      c.size,         # 24\n",
    "      c.itemsize,     # 8\n",
    "      c.nbytes,       # 24*8 = 192\n",
    "      c.dtype,        # float64\n",
    "      type(c),        # numpy.ndarray\n",
    "      type(c[0]),     # numpy.ndarray\n",
    "      type(c[0][0]),  # numpy.ndarray\n",
    "      sep='    ')"
   ]
  },
  {
   "cell_type": "code",
   "execution_count": 44,
   "id": "2788fe15",
   "metadata": {},
   "outputs": [
    {
     "name": "stdout",
     "output_type": "stream",
     "text": [
      "4\n",
      "4\n",
      "4\n",
      "8\n",
      "8\n",
      "44\n"
     ]
    }
   ],
   "source": [
    "print(np.array([1]).itemsize)             # 4 bytes\n",
    "print(np.array(['a']).itemsize)           # 4 bytes\n",
    "print(np.array([10]).itemsize)            # 4 bytes\n",
    "print(np.array(['ab']).itemsize)          # 8 bytes\n",
    "print(np.array(['10']).itemsize)          # 8 bytes\n",
    "print(np.array(['datascience']).itemsize) # 11*4 bytes"
   ]
  },
  {
   "cell_type": "code",
   "execution_count": 45,
   "id": "a86652d1",
   "metadata": {},
   "outputs": [
    {
     "name": "stdout",
     "output_type": "stream",
     "text": [
      "2    2    (2, 3)    6    44    264    <U11    <class 'numpy.ndarray'>    <class 'numpy.ndarray'>    <class 'numpy.str_'>\n"
     ]
    }
   ],
   "source": [
    "# string array\n",
    "s = np.array([['a','an','the'],['datascience','is','easy']])\n",
    "print(s.ndim,         # 2\n",
    "      len(s),         # 2 rows\n",
    "      s.shape,        # (2,3)\n",
    "      s.size,         # 2*3 = 6 \n",
    "      s.itemsize,     # largest string size 11*4 = 44\n",
    "      s.nbytes,       # 44*6 = 264\n",
    "      s.dtype,        # <U11\n",
    "      type(s),        # numpy.ndarray\n",
    "      type(s[0]),     # numpy.ndarray\n",
    "      type(s[0][0]),  # numpy.str_\n",
    "      sep='    ')"
   ]
  },
  {
   "cell_type": "markdown",
   "id": "7864491b",
   "metadata": {},
   "source": [
    "### Data Types"
   ]
  },
  {
   "cell_type": "markdown",
   "id": "c105a40c",
   "metadata": {
    "id": "LSIA5uojo2Ig"
   },
   "source": [
    "***numpy data types***\n",
    "\n",
    "- np.int64 # Signed 64-bit integer types\n",
    "- np.float32 # 8 bits exponent, 23 bits mantissa\n",
    "- np.double # 11 bits exponent, 52 bits mantissa\n",
    "- complex # Complex numbers represented by 128 floats\n",
    "- bool # Boolean type storing TRUE and FALSE values\n",
    "- object # Python object type\n",
    "- np.string_ # Fixed-length string type\n",
    "- np.unicode_ # Fixed-length unicode \n",
    "\n",
    "***referring datatypes with 1 character:***\n",
    "\n",
    "- i # integer\n",
    "- b # boolean\n",
    "- u # unsigned integer\n",
    "- f # float\n",
    "- c # complex float\n",
    "- m # timedelta\n",
    "- M # datetime\n",
    "- O # object\n",
    "- S # string\n",
    "- U # unicode string\n",
    "- V # fixed chunk of memory for other type ( void )"
   ]
  },
  {
   "cell_type": "code",
   "execution_count": 46,
   "id": "3240fa75",
   "metadata": {},
   "outputs": [],
   "source": [
    "a = np.power(100, 8, dtype=np.int64)     # 10^16\n",
    "a2 = np.power(100, 8, dtype=np.int32)    # garbage as size exceeds\n",
    "b = np.array([1, 2, 3], dtype='f')\n",
    "c = np.array([1, 2, 3], dtype=np.float32)\n",
    "d = np.array([1, 2, 3], dtype=np.str_)"
   ]
  },
  {
   "cell_type": "code",
   "execution_count": 47,
   "id": "b1c83fd3",
   "metadata": {},
   "outputs": [
    {
     "name": "stdout",
     "output_type": "stream",
     "text": [
      "10000000000000000 1874919424 [  1.0   2.0   3.0] [  1.0   2.0   3.0] ['1' '2' '3']\n",
      "int64 float32 float32 <U1\n"
     ]
    }
   ],
   "source": [
    "print(a,a2,b,c,d)\n",
    "print(a.dtype,b.dtype,c.dtype,d.dtype)"
   ]
  },
  {
   "cell_type": "markdown",
   "id": "988faea9",
   "metadata": {},
   "source": [
    "#### Casting"
   ]
  },
  {
   "cell_type": "code",
   "execution_count": 48,
   "id": "d8da7b42",
   "metadata": {},
   "outputs": [
    {
     "name": "stdout",
     "output_type": "stream",
     "text": [
      "b: [  1.0   2.0   3.0] float32\n",
      "b_str: ['1.0' '2.0' '3.0'] <U32\n"
     ]
    }
   ],
   "source": [
    "b_str = b.astype(np.str_)\n",
    "\n",
    "print('b:', b, b.dtype)\n",
    "print('b_str:', b_str, b_str.dtype)"
   ]
  },
  {
   "cell_type": "markdown",
   "id": "750261a0",
   "metadata": {},
   "source": [
    "### Math Operations"
   ]
  },
  {
   "cell_type": "code",
   "execution_count": 49,
   "id": "a4cf9d33",
   "metadata": {},
   "outputs": [],
   "source": [
    "# shape should match or one array should be a scalar\n",
    "a = np.array([1, 2, 3])\n",
    "b = np.array([1, 2, 3])\n",
    "c = np.array([[10,20],\n",
    "              [30,40]])\n",
    "s = 5"
   ]
  },
  {
   "cell_type": "code",
   "execution_count": 50,
   "id": "4ba42a80",
   "metadata": {},
   "outputs": [
    {
     "name": "stdout",
     "output_type": "stream",
     "text": [
      "[6 7 8]\n",
      "[-4 -3 -2]\n",
      "[  0.2   0.4   0.6]\n",
      "[ 5 10 15]\n",
      "[ 5 10 15]\n",
      "148.4131591025766\n",
      "2.23606797749979\n",
      "[False False False]\n",
      "[ True  True  True]\n",
      "False\n",
      "False\n"
     ]
    }
   ],
   "source": [
    "# s is sclare and a is array\n",
    "print(np.add(a, s),           # [6 7 8]\n",
    "      np.subtract(a, s),      # [-4 -3 -2]\n",
    "      np.divide(b, s),        # [0.2 0.4 0.6]\n",
    "      np.multiply(a, s),      # [ 5 10 15]\n",
    "      np.dot(a,s),            # element wise multiplication: [ 5 10 15]\n",
    "      np.exp(s),              # e^5\n",
    "      np.sqrt(s),             # sqrt(5)=2.23606797749979\n",
    "      \n",
    "      # Comparison Operations\n",
    "      a == s,                 # elementwise comparision [False False False]\n",
    "      a < s,                  # elementwise comparision [ True  True  True]\n",
    "      np.array_equal(a, s),   # array-wise content comparision False\n",
    "      a is s,                 # array-wise reference comparision False\n",
    "      sep='\\n')"
   ]
  },
  {
   "cell_type": "code",
   "execution_count": 51,
   "id": "63b62547",
   "metadata": {},
   "outputs": [
    {
     "name": "stdout",
     "output_type": "stream",
     "text": [
      "[2 4 6]\n",
      "[0 0 0]\n",
      "[  1.0   1.0   1.0]\n",
      "[1 4 9]\n",
      "14\n",
      "50\n",
      "[  2.7   7.4  20.1]\n",
      "[  1.0   1.4   1.7]\n",
      "[ True  True  True]\n",
      "[ True False False]\n",
      "True\n",
      "False\n"
     ]
    }
   ],
   "source": [
    "# a and b shape matches\n",
    "print(np.add(a, b),           # [2 4 6]\n",
    "      np.subtract(a, b),      # [0 0 0]\n",
    "      np.divide(b, a),        # [1. 1. 1.]\n",
    "      np.multiply(a, b),      # [1 4 9]\n",
    "      np.dot(a,b),            # matrix dot product: (1*1 + 2*2 + 3*3) = 14\n",
    "      np.trace(c),            # 10+40 = 50\n",
    "      np.exp(a),              # e^a_elements [ 2.71828183  7.3890561  20.08553692]\n",
    "      np.sqrt(b),             # [1.         1.41421356 1.73205081]\n",
    "      \n",
    "      # Comparison Operations\n",
    "      a == b,                 # element wise comparision [ True  True  True]\n",
    "      a < 2,                  # element wise comparision [ True False False]\n",
    "      np.array_equal(a, b),   # arrray content comparision True\n",
    "      a is b,                 # array object comparision False\n",
    "     sep='\\n')"
   ]
  },
  {
   "cell_type": "code",
   "execution_count": 52,
   "id": "4492d431",
   "metadata": {},
   "outputs": [
    {
     "name": "stdout",
     "output_type": "stream",
     "text": [
      "(2, 3, 2)\n",
      "x:\n",
      "[[  1.0   1.0]\n",
      " [  1.0   1.0]\n",
      " [  1.0   1.0]]\n",
      "---------\n",
      "y:\n",
      "[[[4 4]]\n",
      "\n",
      " [[4 4]]]\n",
      "---------\n",
      "z:\n",
      "[[[  5.0   5.0]\n",
      "  [  5.0   5.0]\n",
      "  [  5.0   5.0]]\n",
      "\n",
      " [[  5.0   5.0]\n",
      "  [  5.0   5.0]\n",
      "  [  5.0   5.0]]]\n"
     ]
    }
   ],
   "source": [
    "# columns should be equal. operations are compatible in all dimensions\n",
    "\n",
    "x = np.ones((3,2))       #   3,2\n",
    "y = np.full((2,1,2),4)   # 2,1,2\n",
    "\n",
    "z = x + y\n",
    "print(z.shape)           # 2,3,2\n",
    "print(f\"x:\\n{x}\", f\"y:\\n{y}\", f\"z:\\n{z}\", sep=\"\\n---------\\n\")"
   ]
  },
  {
   "cell_type": "code",
   "execution_count": 53,
   "id": "3ee48bd5",
   "metadata": {},
   "outputs": [
    {
     "name": "stdout",
     "output_type": "stream",
     "text": [
      "False\n"
     ]
    }
   ],
   "source": [
    "# Error if cols doesnot match\n",
    "\n",
    "b1 = np.ones((3,3))                            # 3,3\n",
    "b2 = np.array([(1, 2), (3, 4)], dtype=float)   # 2,2\n",
    "print(b1.shape[-1] == b2.shape[-1])            # cols are not equal\n",
    "\n",
    "# b1 + b2 # ValueError: operands could not be broadcast together with shapes (3,3) (2,2) "
   ]
  },
  {
   "cell_type": "code",
   "execution_count": 54,
   "id": "7f2d7909",
   "metadata": {
    "scrolled": true
   },
   "outputs": [
    {
     "name": "stdout",
     "output_type": "stream",
     "text": [
      "inf\n",
      "-inf\n",
      "inf -inf\n"
     ]
    },
    {
     "name": "stderr",
     "output_type": "stream",
     "text": [
      "C:\\Users\\Vishnupriya\\AppData\\Local\\Temp\\ipykernel_22760\\994098072.py:3: RuntimeWarning: divide by zero encountered in true_divide\n",
      "  print(np.divide(5, 0))    # [inf, inf, inf]\n",
      "C:\\Users\\Vishnupriya\\AppData\\Local\\Temp\\ipykernel_22760\\994098072.py:4: RuntimeWarning: divide by zero encountered in true_divide\n",
      "  print(np.divide(-5, 0))   # [-inf, -inf, -inf]\n"
     ]
    }
   ],
   "source": [
    "# division by 0\n",
    "\n",
    "print(np.divide(5, 0))    # [inf, inf, inf]\n",
    "print(np.divide(-5, 0))   # [-inf, -inf, -inf]\n",
    "print(np.inf, -np.inf)"
   ]
  },
  {
   "cell_type": "code",
   "execution_count": 55,
   "id": "4880dc92",
   "metadata": {},
   "outputs": [
    {
     "name": "stdout",
     "output_type": "stream",
     "text": [
      "[  0.8   0.9   0.1]\n",
      "[  0.5  -0.4  -1.0]\n",
      "[  1.6  -2.2  -0.1]\n",
      "[  0.0   0.7   1.1]\n"
     ]
    }
   ],
   "source": [
    "print(np.sin(a), \n",
    "      np.cos(a), \n",
    "      np.tan(a), \n",
    "      np.log(a), sep='\\n')"
   ]
  },
  {
   "cell_type": "code",
   "execution_count": 56,
   "id": "e78dd406",
   "metadata": {},
   "outputs": [
    {
     "name": "stdout",
     "output_type": "stream",
     "text": [
      "[  1.0   2.0   3.0]\n",
      "[  2.0   3.0   4.0]\n"
     ]
    }
   ],
   "source": [
    "a = np.array([1.6, 2.2, 3.09])\n",
    "print(np.floor(a),                  # less/left discrete number in number line\n",
    "      np.ceil(a),                   # right/next discrete number in number line\n",
    "      sep='\\n')"
   ]
  },
  {
   "cell_type": "markdown",
   "id": "e1b1e456",
   "metadata": {},
   "source": [
    "### Aggregate Functions"
   ]
  },
  {
   "cell_type": "code",
   "execution_count": 57,
   "id": "fa98844c",
   "metadata": {},
   "outputs": [
    {
     "name": "stdout",
     "output_type": "stream",
     "text": [
      "6\n",
      "1\n",
      "3\n",
      "[1 3 6]\n",
      "[1 1]\n"
     ]
    }
   ],
   "source": [
    "a = np.array([1, 2, 3])\n",
    "print(a.sum(), \n",
    "      a.min(), \n",
    "      a.max(), \n",
    "      a.cumsum(),      # consecutive elements summation (n elements)\n",
    "      np.diff(a),      # consecutive elements difference (n-1 elements)\n",
    "      sep='\\n')"
   ]
  },
  {
   "cell_type": "code",
   "execution_count": 58,
   "id": "c6d79f13",
   "metadata": {},
   "outputs": [
    {
     "name": "stdout",
     "output_type": "stream",
     "text": [
      "20\n",
      "1\n",
      "6\n",
      "[ 1  3  5  9 14 20]\n",
      "[[1 0]\n",
      " [1 1]]\n"
     ]
    }
   ],
   "source": [
    "a = np.array([[1, 2, 2],[4, 5, 6]])\n",
    "print(a.sum(),                       # scalar\n",
    "      a.min(),                       # scalar\n",
    "      a.max(),                       # scalar\n",
    "      a.cumsum(),                    # 1-d\n",
    "      np.diff(a),                    # array dimension is maintained\n",
    "      sep='\\n')"
   ]
  },
  {
   "cell_type": "markdown",
   "id": "efbf2361",
   "metadata": {},
   "source": [
    "### Statistical functions"
   ]
  },
  {
   "cell_type": "code",
   "execution_count": 59,
   "id": "1a072038",
   "metadata": {},
   "outputs": [
    {
     "name": "stdout",
     "output_type": "stream",
     "text": [
      "5.25  4.5  4.5  6.25  10.0\n"
     ]
    }
   ],
   "source": [
    "a = np.array([10, 5, 2, 4])\n",
    "b = np.array([[10, 5],[2, 4]])\n",
    " \n",
    "print(np.mean(a),             # 5.25\n",
    "      np.median(a),           # 4.5\n",
    "      np.percentile(a, 50),   # 4.5\n",
    "      np.percentile(a, 75),   # 6.25\n",
    "      np.percentile(a, 100),  # 10.0\n",
    "      sep='  ')"
   ]
  },
  {
   "cell_type": "code",
   "execution_count": 60,
   "id": "865116f1",
   "metadata": {},
   "outputs": [
    {
     "name": "stdout",
     "output_type": "stream",
     "text": [
      "1st standard deviation range: (22.984378812835757, 87.01562118716424)\n",
      "2nd standard deviation range: (-9.031242374328485, 119.03124237432849)\n",
      "3rd standard deviation range: (-41.04686356149273, 151.04686356149273)\n"
     ]
    }
   ],
   "source": [
    "# standard deviation or spread of data\n",
    "a = np.array([10, 50, 70, 20, 80, 100])\n",
    "\n",
    "# std doesnot depend on shape of data\n",
    "mean_a = np.mean(a)\n",
    "std_dev_a = np.std(a)\n",
    "\n",
    "# Standard deviation ranges\n",
    "first_std_dev_range = (mean_a - std_dev_a, mean_a + std_dev_a)\n",
    "second_std_dev_range = (mean_a - 2 * std_dev_a, mean_a + 2 * std_dev_a)\n",
    "third_std_dev_range = (mean_a - 3 * std_dev_a, mean_a + 3 * std_dev_a)\n",
    "\n",
    "# Printing the standard deviation ranges\n",
    "print(\"1st standard deviation range:\", first_std_dev_range)\n",
    "print(\"2nd standard deviation range:\", second_std_dev_range)\n",
    "print(\"3rd standard deviation range:\", third_std_dev_range)"
   ]
  },
  {
   "cell_type": "markdown",
   "id": "2f701675",
   "metadata": {},
   "source": [
    "**Empirical rule:**\n",
    "- Approximately 68%, 95%, and 99.7% of the data points fall within 1, 2, and 3 standard deviations from the mean of a normal distribution, respectively"
   ]
  },
  {
   "cell_type": "code",
   "execution_count": 61,
   "id": "0dd14689",
   "metadata": {},
   "outputs": [
    {
     "name": "stdout",
     "output_type": "stream",
     "text": [
      "1025.0\n"
     ]
    }
   ],
   "source": [
    "# variance = sqrt(standard deviation)\n",
    "print(np.var(a))"
   ]
  },
  {
   "cell_type": "raw",
   "id": "d8e7b455",
   "metadata": {},
   "source": [
    "a = np.array([[1, 2, 2],[4, 5, 6]])\n",
    "corr = np.corrcoef(a)\n",
    "print(corr) "
   ]
  },
  {
   "cell_type": "code",
   "execution_count": 62,
   "id": "74706da9",
   "metadata": {},
   "outputs": [
    {
     "name": "stdout",
     "output_type": "stream",
     "text": [
      "1.0\n",
      "[[  1.0   1.0]\n",
      " [  1.0   1.0]]\n",
      "[[  1.0  -1.0]\n",
      " [ -1.0   1.0]]\n",
      "[[  1.0   0.0]\n",
      " [  0.0   1.0]]\n",
      "[[  1.0  -0.4]\n",
      " [ -0.4   1.0]]\n"
     ]
    }
   ],
   "source": [
    "# correlation coefficient\n",
    "\n",
    "# 1-d\n",
    "a = np.array([1, 2, 3, 4, 5])\n",
    "positive_linear_relationship_with_a = np.array([2, 3, 4, 5, 6])\n",
    "negative_linear_relationship_with_a = np.array([5, 4, 3, 2, 1])\n",
    "no_linear_relationship_with_a = np.array([5, 4, 6, 4, 5])\n",
    "small_linear_relationship_with_a = np.array([5, 4, 6, 4, 4])\n",
    "\n",
    "correlation_matrix_1 = np.corrcoef(a)\n",
    "correlation_matrix_2 = np.corrcoef(a, positive_linear_relationship_with_a)\n",
    "correlation_matrix_3 = np.corrcoef(a, negative_linear_relationship_with_a)\n",
    "correlation_matrix_4 = np.corrcoef(a, no_linear_relationship_with_a)\n",
    "correlation_matrix_5 = np.corrcoef(a, small_linear_relationship_with_a)\n",
    "\n",
    "print(correlation_matrix_1)\n",
    "print(correlation_matrix_2)\n",
    "print(correlation_matrix_3)\n",
    "print(correlation_matrix_4)\n",
    "print(correlation_matrix_5)"
   ]
  },
  {
   "cell_type": "code",
   "execution_count": 63,
   "id": "9140f073",
   "metadata": {
    "scrolled": false
   },
   "outputs": [
    {
     "name": "stdout",
     "output_type": "stream",
     "text": [
      "[[  1.0  -1.0   0.9   0.0   0.7]\n",
      " [ -1.0   1.0  -0.9   0.0  -0.7]\n",
      " [  0.9  -0.9   1.0  -0.4   0.7]\n",
      " [  0.0   0.0  -0.4   1.0   0.2]\n",
      " [  0.7  -0.7   0.7   0.2   1.0]]\n",
      "[[  1.0   0.8   0.6  -0.2  -0.5]\n",
      " [  0.8   1.0   0.5   0.3   0.0]\n",
      " [  0.6   0.5   1.0   0.3   0.1]\n",
      " [ -0.2   0.3   0.3   1.0   1.0]\n",
      " [ -0.5   0.0   0.1   1.0   1.0]]\n"
     ]
    }
   ],
   "source": [
    "# 2-d array corrcoef\n",
    "matrix = np.array([[1, 2, 3, 4, 5],       # Positive linear relationship (corr coef ≈ 1)\n",
    "                   [5, 4, 3, 2, 1],       # Negative linear relationship (corr coef ≈ -1)\n",
    "                   [1, 3, 2, 4, 5],       # Moderate positive linear relationship (corr coef ≈ 0.5)\n",
    "                   [1, 1, 2, 1, 1],       # No linear relationship (corr coef ≈ 0)\n",
    "                   [1, 2, 2, 2, 2]])      # Weak positive linear relationship (corr coef ≈ 0.5)\n",
    "\n",
    "\n",
    "row_wise_correlation_matrix = np.corrcoef(matrix, rowvar = True)\n",
    "col_wise_correlation_matrix = np.corrcoef(matrix, rowvar = False)\n",
    "print(row_wise_correlation_matrix)\n",
    "print(col_wise_correlation_matrix)"
   ]
  },
  {
   "cell_type": "markdown",
   "id": "4a9691c5",
   "metadata": {},
   "source": [
    "### copying"
   ]
  },
  {
   "cell_type": "raw",
   "id": "62b6c1fe",
   "metadata": {},
   "source": [
    "a = np.array([[1, 2, 2],[4, 5, 6]])\n",
    "corr = np.corrcoef(a)\n",
    "print(corr) "
   ]
  },
  {
   "cell_type": "code",
   "execution_count": 64,
   "id": "0a18b9ca",
   "metadata": {},
   "outputs": [
    {
     "name": "stdout",
     "output_type": "stream",
     "text": [
      "False True False\n"
     ]
    }
   ],
   "source": [
    "# no copy\n",
    "a = np.array([1, 2, 3])\n",
    "b = np.array([1, 2, 3])\n",
    "c = a\n",
    "print(a is b, a is c, b is c)"
   ]
  },
  {
   "cell_type": "markdown",
   "id": "9672f382",
   "metadata": {},
   "source": [
    "**Shallow copy in list**"
   ]
  },
  {
   "cell_type": "code",
   "execution_count": 65,
   "id": "a74dda76",
   "metadata": {},
   "outputs": [
    {
     "name": "stdout",
     "output_type": "stream",
     "text": [
      "[[1, 2], [3, 4], 5, (7, 8), 'abc']\n",
      "[[1, 2], [30, 4], 5, (7, 8), 'abc']\n",
      "[10, [30, 4], 50, 12, 'abc']\n"
     ]
    }
   ],
   "source": [
    "a = [[1,2],            # mutable: object reference is stored\n",
    "     [3,4],\n",
    "     5,                # immutable: value is stored directly \n",
    "     (7,8),            # immutable\n",
    "     'abc']            # immutable\n",
    "\n",
    "print(a)\n",
    "\n",
    "d = a[:]             \n",
    "d[0] = 10              # changing mutable object reference\n",
    "d[1][0]=30             # changing value inside the mutable object\n",
    "d[2]=50                # changing immutable value\n",
    "\n",
    "# d[3][0] = 70         # TypeError: 'tuple' object does not support item assignment\n",
    "# d[4][0] = 'p'        # TypeError: 'str' object does not support item assignment\n",
    "\n",
    "d[3] = 12\n",
    "\n",
    "print(a)\n",
    "print(d)"
   ]
  },
  {
   "cell_type": "markdown",
   "id": "d4f20f45",
   "metadata": {},
   "source": [
    "**Shallow copy in numpy array**"
   ]
  },
  {
   "cell_type": "code",
   "execution_count": 66,
   "id": "dc2e4c3b",
   "metadata": {},
   "outputs": [
    {
     "name": "stdout",
     "output_type": "stream",
     "text": [
      "[list([1, 2]) list([3, 4]) 5 (7, 8) 'abc']\n",
      "[10 list([30, 4]) 50 12 'abc']\n",
      "[10 list([30, 4]) 50 12 'abc']\n"
     ]
    }
   ],
   "source": [
    "a = np.array([[1,2],            # mutable: object reference is stored\n",
    "              [3,4],\n",
    "              5,                # immutable: value is stored directly \n",
    "              (7,8),            # immutable\n",
    "              'abc'], dtype='object')           # immutable\n",
    "\n",
    "print(a)\n",
    "\n",
    "d = a[:]\n",
    "d[0] = 10              # changing mutable object reference\n",
    "d[1][0] = 30           # changing value inside the mutable object\n",
    "d[2] = 50              # changing immutable value\n",
    "\n",
    "# d[3][0] = 70         # TypeError: 'tuple' object does not support item assignment\n",
    "# d[4][0] = 'p'        # TypeError: 'str' object does not support item assignment\n",
    "\n",
    "d[3] = 12\n",
    "\n",
    "print(a) \n",
    "print(d)"
   ]
  },
  {
   "cell_type": "code",
   "execution_count": 67,
   "id": "d3260bce",
   "metadata": {},
   "outputs": [],
   "source": [
    "a = np.array([1, 2, 3])\n",
    "d = a[:]          # shallow copy to have new view on data\n",
    "e = np.copy(a)    # deep copy to get complete copy for new work\n",
    "f = a.copy()      # deep copy\n",
    "d[0] = 10\n",
    "e[1] = 20\n",
    "f[2] = 30"
   ]
  },
  {
   "cell_type": "code",
   "execution_count": 68,
   "id": "ecddc17c",
   "metadata": {},
   "outputs": [
    {
     "name": "stdout",
     "output_type": "stream",
     "text": [
      "[10  2  3]\n",
      "[10  2  3]\n",
      "[ 1 20  3]\n",
      "[ 1  2 30]\n"
     ]
    }
   ],
   "source": [
    "print(a)          # affected due to changes in d, but not from e and f\n",
    "print(d)\n",
    "print(e)\n",
    "print(f)"
   ]
  },
  {
   "cell_type": "markdown",
   "id": "1c5f7fd1",
   "metadata": {},
   "source": [
    "- shallow copy changes affects the original array\n",
    "- deep copy changes will not affect the original array"
   ]
  },
  {
   "cell_type": "markdown",
   "id": "be4967ee",
   "metadata": {},
   "source": [
    "### views"
   ]
  },
  {
   "cell_type": "markdown",
   "id": "fd1a0225",
   "metadata": {},
   "source": [
    "Ex: Image processing\n",
    "1. Capture the image using the camera and convert it into a NumPy array.\n",
    "2. Create a view of the NumPy array to work with a specific region of the image (e.g., a rectangular portion).\n",
    "3. Apply the sepia filter to the view of the image, which modifies the pixel values directly in the view without copying the entire image data.\n",
    "4. Display the modified portion of the image in real-time."
   ]
  },
  {
   "cell_type": "code",
   "execution_count": 69,
   "id": "e64c1b9f",
   "metadata": {},
   "outputs": [
    {
     "name": "stdout",
     "output_type": "stream",
     "text": [
      "original arr: [1 2 3 4 5]\n",
      "v2: [2 3 4]\n",
      "v2: [1 2 3 4 5]\n"
     ]
    }
   ],
   "source": [
    "# use of view\n",
    "\n",
    "arr = np.array([1, 2, 3, 4, 5])\n",
    "v1 = arr[1:4]                       # a view 234: part of image\n",
    "v2 = arr.view()                     # a view  \n",
    "\n",
    "print(\"original arr:\", arr)\n",
    "print(\"v2:\", v1)\n",
    "print(\"v2:\", v2)"
   ]
  },
  {
   "cell_type": "code",
   "execution_count": 70,
   "id": "a5772758",
   "metadata": {},
   "outputs": [
    {
     "name": "stdout",
     "output_type": "stream",
     "text": [
      "Modified v1: [100 100 100]\n",
      "Modified v2: [  1 200 100 100   5]\n"
     ]
    }
   ],
   "source": [
    "# Modify the view array\n",
    "v1[:] = 100\n",
    "print(\"Modified v1:\", v1)\n",
    "\n",
    "v2[1:2] = 200 \n",
    "print(\"Modified v2:\", v2) # changes from above view are also there"
   ]
  },
  {
   "cell_type": "code",
   "execution_count": 71,
   "id": "0b9a22fa",
   "metadata": {},
   "outputs": [
    {
     "name": "stdout",
     "output_type": "stream",
     "text": [
      "Modified Original Array: [  1 200 100 100   5]\n"
     ]
    }
   ],
   "source": [
    "print(\"Modified Original Array:\", arr) # changes from all views affects the original array"
   ]
  },
  {
   "cell_type": "markdown",
   "id": "ed1c7d1f",
   "metadata": {},
   "source": [
    "### Transpose"
   ]
  },
  {
   "cell_type": "code",
   "execution_count": 72,
   "id": "58ab81ad",
   "metadata": {},
   "outputs": [
    {
     "name": "stdout",
     "output_type": "stream",
     "text": [
      "(2, 3) (3, 2) (3, 2)\n"
     ]
    }
   ],
   "source": [
    "a = np.array([[1,2,3],[4,5,6]]) # 2-d\n",
    "b = np.transpose(a)\n",
    "c = a.T\n",
    "print(a.shape, b.shape, c.shape)\n",
    "# a,b,c"
   ]
  },
  {
   "cell_type": "code",
   "execution_count": 73,
   "id": "a3000a55",
   "metadata": {},
   "outputs": [
    {
     "name": "stdout",
     "output_type": "stream",
     "text": [
      "(1, 6) (6, 1) (6, 1)\n"
     ]
    }
   ],
   "source": [
    "a = np.array([[1,2,3,4,5,6]]) # 2-d\n",
    "b = np.transpose(a)\n",
    "c = a.T\n",
    "print(a.shape, b.shape, c.shape)\n",
    "# a,b,c"
   ]
  },
  {
   "cell_type": "code",
   "execution_count": 74,
   "id": "e798795e",
   "metadata": {},
   "outputs": [
    {
     "name": "stdout",
     "output_type": "stream",
     "text": [
      "(6,) (6,) (6,)\n"
     ]
    }
   ],
   "source": [
    "a = np.array([1,2,3,4,5,6]) # 1-d\n",
    "b = np.transpose(a)\n",
    "c = a.T\n",
    "print(a.shape, b.shape, c.shape)\n",
    "# a,b,c"
   ]
  },
  {
   "cell_type": "markdown",
   "id": "b159bbb8",
   "metadata": {},
   "source": [
    "### Indexing, Subsetting, Slicing"
   ]
  },
  {
   "cell_type": "code",
   "execution_count": 75,
   "id": "848c10ec",
   "metadata": {},
   "outputs": [
    {
     "name": "stdout",
     "output_type": "stream",
     "text": [
      "[1 2 3]\n",
      "[4 5 6]\n",
      "[5 6]\n",
      "6\n",
      "6\n"
     ]
    }
   ],
   "source": [
    "a = np.array([[1,2,3],[4,5,6]])\n",
    "print(a[0],       # positive indexing\n",
    "      a[-1],      # negative indexing\n",
    "      a[a > 4],   # boolean indexing\n",
    "      a[-1][-1],  \n",
    "      a[-1, -1],  # subsetting\n",
    "      sep='\\n')"
   ]
  },
  {
   "cell_type": "code",
   "execution_count": 76,
   "id": "4d1fb674",
   "metadata": {},
   "outputs": [
    {
     "name": "stdout",
     "output_type": "stream",
     "text": [
      "[1 2 3] [[1 2 3]]\n",
      "[[1 2 3]\n",
      " [4 5 6]]\n",
      "1\n",
      "[1 2 3]\n",
      "1\n",
      "[1]\n"
     ]
    }
   ],
   "source": [
    "print(a[0],a[:1])\n",
    "print(a[:2])\n",
    "print(a[0][0])\n",
    "print(a[:1][0])\n",
    "print(a[:1][0][0])\n",
    "print(a[:1,0])"
   ]
  },
  {
   "cell_type": "code",
   "execution_count": 77,
   "id": "31015b1d",
   "metadata": {},
   "outputs": [
    {
     "name": "stdout",
     "output_type": "stream",
     "text": [
      "[[4 5 6]]\n",
      "[4 5 6]\n",
      "[3 6]\n",
      "[2 5]\n",
      "[[2 3]]\n",
      "[4 5 6]\n",
      "[1 2 6 6]\n",
      "[5 4]\n"
     ]
    }
   ],
   "source": [
    "print(a[1:],         # slicing\n",
    "      a[-1, :], \n",
    "      a[:, 2], \n",
    "      a[:2, 1], \n",
    "      a[:1,1:], \n",
    "      a[1, ...],     # a[1,:]\n",
    "      \n",
    "      a[[0, 0, -1, 1], [0, 1, -1, 2]], # a[0,0] a[0,1] a[-1][-1] a[1][2]\n",
    "      \n",
    "      a[1,-2:-4:-1],\n",
    "     sep='\\n')"
   ]
  },
  {
   "cell_type": "code",
   "execution_count": 78,
   "id": "ee8be503",
   "metadata": {},
   "outputs": [
    {
     "name": "stdout",
     "output_type": "stream",
     "text": [
      "[[4 5 6]\n",
      " [1 2 3]\n",
      " [4 5 6]\n",
      " [1 2 3]]\n",
      "[[4 5 6]\n",
      " [1 2 3]\n",
      " [4 5 6]\n",
      " [1 2 3]]\n",
      "[[4 5 6 5]\n",
      " [1 2 3 2]\n",
      " [4 5 6 5]\n",
      " [1 2 3 2]]\n"
     ]
    }
   ],
   "source": [
    "# fancy indexing\n",
    "print(a[[1,0,1,0]],              # select rows\n",
    "      a[[1,0,1,0]][:],           # select rows and all columns \n",
    "      a[[1,0,1,0]][:,[0,1,2,1]], # select rows and specified columns\n",
    "      sep=\"\\n\")"
   ]
  },
  {
   "cell_type": "markdown",
   "id": "f6cc2bf8",
   "metadata": {},
   "source": [
    "### array manipulation"
   ]
  },
  {
   "cell_type": "code",
   "execution_count": 79,
   "id": "5859c790",
   "metadata": {},
   "outputs": [
    {
     "name": "stdout",
     "output_type": "stream",
     "text": [
      "(4, 3)\n",
      "[[ 1  2  3]\n",
      " [ 4  5  6]\n",
      " [ 7  8  9]\n",
      " [10 11 12]]\n"
     ]
    }
   ],
   "source": [
    "a = np.array([[1, 2, 3], [4, 5, 6], [7,8,9],[10,11,12]])\n",
    "print(a.shape)\n",
    "print(a)"
   ]
  },
  {
   "cell_type": "code",
   "execution_count": 80,
   "id": "d22feb2d",
   "metadata": {},
   "outputs": [],
   "source": [
    "# Reshape array 'a' into a 3x3 matrix: elements: 9 \n",
    "# given elements: 12: Not possible\n",
    "# b = a.reshape((3,3)) # ValueError: cannot reshape array of size 6 into shape (3,3)"
   ]
  },
  {
   "cell_type": "code",
   "execution_count": 81,
   "id": "89d5404d",
   "metadata": {},
   "outputs": [
    {
     "name": "stdout",
     "output_type": "stream",
     "text": [
      "reshaped_a (3, 4)\n",
      "[[ 1  2  3  4]\n",
      " [ 5  6  7  8]\n",
      " [ 9 10 11 12]]\n"
     ]
    }
   ],
   "source": [
    "reshaped_a = a.reshape((3, 4))\n",
    "print('reshaped_a',reshaped_a.shape)\n",
    "print(reshaped_a)"
   ]
  },
  {
   "cell_type": "code",
   "execution_count": 82,
   "id": "a7bcfd77",
   "metadata": {},
   "outputs": [
    {
     "name": "stdout",
     "output_type": "stream",
     "text": [
      "reshaped_a (1, 12)\n",
      "[[ 1  2  3  4  5  6  7  8  9 10 11 12]]\n"
     ]
    }
   ],
   "source": [
    "# -1 evaluates the last value in reshape according to the total number of elements in the array\n",
    "\n",
    "reshaped_a = a.reshape((1,-1))        # -1 is evaluated to 12\n",
    "print('reshaped_a',reshaped_a.shape)\n",
    "print(reshaped_a)"
   ]
  },
  {
   "cell_type": "code",
   "execution_count": 83,
   "id": "20a0f459",
   "metadata": {},
   "outputs": [
    {
     "name": "stdout",
     "output_type": "stream",
     "text": [
      "reshaped_a (2, 6)\n",
      "[[ 1  2  3  4  5  6]\n",
      " [ 7  8  9 10 11 12]]\n"
     ]
    }
   ],
   "source": [
    "reshaped_a = a.reshape((2,-1))        # -1 is evaluated to 6\n",
    "print('reshaped_a',reshaped_a.shape)\n",
    "print(reshaped_a)"
   ]
  },
  {
   "cell_type": "code",
   "execution_count": 84,
   "id": "868375bb",
   "metadata": {},
   "outputs": [
    {
     "name": "stdout",
     "output_type": "stream",
     "text": [
      "reshaped_a (1, 3, 4)\n",
      "[[[ 1  2  3  4]\n",
      "  [ 5  6  7  8]\n",
      "  [ 9 10 11 12]]]\n"
     ]
    }
   ],
   "source": [
    "reshaped_a = a.reshape((1,3,-1))      # -1 is evaluated to 4 \n",
    "print('reshaped_a',reshaped_a.shape)\n",
    "print(reshaped_a)"
   ]
  },
  {
   "cell_type": "code",
   "execution_count": 85,
   "id": "202ff4b1",
   "metadata": {},
   "outputs": [
    {
     "name": "stdout",
     "output_type": "stream",
     "text": [
      "reshaped_a (2, 3, 2)\n",
      "[[[ 1  2]\n",
      "  [ 3  4]\n",
      "  [ 5  6]]\n",
      "\n",
      " [[ 7  8]\n",
      "  [ 9 10]\n",
      "  [11 12]]]\n"
     ]
    }
   ],
   "source": [
    "reshaped_a = a.reshape((2,3,-1))      # -1 is evaluated to 2\n",
    "print('reshaped_a',reshaped_a.shape)\n",
    "print(reshaped_a)"
   ]
  },
  {
   "cell_type": "code",
   "execution_count": 86,
   "id": "862cab98",
   "metadata": {},
   "outputs": [
    {
     "name": "stdout",
     "output_type": "stream",
     "text": [
      "resized_a (2, 4)\n",
      "[[1 2 3 4]\n",
      " [5 6 7 8]]\n"
     ]
    }
   ],
   "source": [
    "# Resize array 'a' to a new shape (2x4), potentially repeating elements\n",
    "\n",
    "resized_a = np.resize(a, (2, 4)) # data loss possible\n",
    "print('resized_a',resized_a.shape)\n",
    "print(resized_a)"
   ]
  },
  {
   "cell_type": "code",
   "execution_count": 87,
   "id": "366eed21",
   "metadata": {},
   "outputs": [
    {
     "name": "stdout",
     "output_type": "stream",
     "text": [
      "raveled_a [ 1  2  3  4  5  6  7  8  9 10 11 12]\n",
      "flattened_a [ 1  2  3  4  5  6  7  8  9 10 11 12]\n"
     ]
    }
   ],
   "source": [
    "# Flatten array 'a' (convert multi-dimensional array to a 1D array)\n",
    "raveled_a = np.ravel(a)\n",
    "print('raveled_a',raveled_a)\n",
    "\n",
    "# Flatten array 'a' using the default row-major order (equivalent to np.ravel(a))\n",
    "flattened_a = a.flatten()\n",
    "print('flattened_a',flattened_a)"
   ]
  },
  {
   "cell_type": "code",
   "execution_count": 88,
   "id": "64725746",
   "metadata": {
    "scrolled": false
   },
   "outputs": [
    {
     "name": "stdout",
     "output_type": "stream",
     "text": [
      "appended_a [ 1  2  3  4  5  6  7  8  9 10 11 12  7]\n",
      "inserted_a [  1   2 300   3   4   5   6   7   8   9  10  11  12]\n",
      "deleted_a [ 1  2  3  4  5  6  7  8  9 10 11]\n",
      "[[ 1  2  3]\n",
      " [ 4  5  6]\n",
      " [ 7  8  9]\n",
      " [10 11 12]]\n"
     ]
    }
   ],
   "source": [
    "# append, insert, delete: returns new array without modifying existing array\n",
    "\n",
    "# Append value 7 to the end of array 'a'\n",
    "appended_a = np.append(a, 7)\n",
    "print('appended_a',appended_a)\n",
    "\n",
    "# Insert value 3 into array 'a' at index 2\n",
    "inserted_a = np.insert(a, 2, 300)\n",
    "print('inserted_a',inserted_a)\n",
    "\n",
    "# Delete element at index 2from array 'a'\n",
    "deleted_a = np.delete(a, 11)\n",
    "print('deleted_a',deleted_a)\n",
    "\n",
    "print(a) # original array is not affected"
   ]
  },
  {
   "cell_type": "markdown",
   "id": "17d4267a",
   "metadata": {},
   "source": [
    "### Demonstrating axis"
   ]
  },
  {
   "cell_type": "markdown",
   "id": "494e5775",
   "metadata": {},
   "source": [
    "- **axis = 0 => 1st dim**\n",
    "- **axis = 1 => 2nd dim**\n",
    "- **axis = -1 => last dim**\n",
    "- **axis = None => regardless of dimension**"
   ]
  },
  {
   "cell_type": "code",
   "execution_count": 89,
   "id": "e0725af7",
   "metadata": {},
   "outputs": [
    {
     "name": "stdout",
     "output_type": "stream",
     "text": [
      "2 (3, 3)\n",
      "1st dimension: 3\n",
      "2nd dimension: 3\n",
      "last dimension: 3\n",
      "3 (2, 2, 3)\n",
      "1st dimension: 2\n",
      "2nd dimension: 2\n",
      "2nd dimension: 3\n",
      "last dimension: 3\n"
     ]
    }
   ],
   "source": [
    "# demonstrating axis\n",
    "arr = np.array([[1, 2, 3], \n",
    "                [4, 5, 6], \n",
    "                [7, 8, 9]])\n",
    "print(arr.ndim, arr.shape)\n",
    "print(\"1st dimension:\",arr.shape[0])\n",
    "print(\"2nd dimension:\",arr.shape[1])\n",
    "print(\"last dimension:\",arr.shape[-1])\n",
    "\n",
    "# demonstrating axis\n",
    "arr = np.array([[[1, 2, 3], [4, 5, 6]], \n",
    "                [[7, 8, 9], [10, 11, 12]]])\n",
    "print(arr.ndim, arr.shape)\n",
    "print(\"1st dimension:\",arr.shape[0])\n",
    "print(\"2nd dimension:\",arr.shape[1])\n",
    "print(\"2nd dimension:\",arr.shape[2])\n",
    "print(\"last dimension:\",arr.shape[-1])"
   ]
  },
  {
   "cell_type": "code",
   "execution_count": 90,
   "id": "3054463c",
   "metadata": {},
   "outputs": [
    {
     "name": "stdout",
     "output_type": "stream",
     "text": [
      "3 2\n",
      "[12 15] [ 3  9 15] [ 3  9 15] 27\n"
     ]
    }
   ],
   "source": [
    "arr = np.array([[1, 2], \n",
    "                [4, 5], \n",
    "                [7, 8]])\n",
    "print(arr.shape[0], arr.shape[1])\n",
    "print(arr.sum(axis=0),     # 1st dim\n",
    "      arr.sum(axis=1),     # 2nd dim\n",
    "      arr.sum(axis=-1),    # last dim\n",
    "      arr.sum(axis=None) # regardless of dimension and default axis for sum() in specific\n",
    "     ) "
   ]
  },
  {
   "cell_type": "code",
   "execution_count": 91,
   "id": "e1268a95",
   "metadata": {},
   "outputs": [
    {
     "name": "stdout",
     "output_type": "stream",
     "text": [
      "2 2 3\n",
      "[[ 8 10 12]\n",
      " [14 16 18]]\n",
      ".............\n",
      "[[ 5  7  9]\n",
      " [17 19 21]]\n",
      ".............\n",
      "[[ 6 15]\n",
      " [24 33]]\n",
      ".............\n",
      "[[ 6 15]\n",
      " [24 33]]\n",
      ".............\n",
      "78\n"
     ]
    }
   ],
   "source": [
    "# demonstrating axis\n",
    "arr = np.array([[[1, 2, 3], [4, 5, 6]], \n",
    "                [[7, 8, 9], [10, 11, 12]]])\n",
    "print(arr.shape[0],arr.shape[1],arr.shape[2])\n",
    "print(arr.sum(axis=0),    # 1st dim\n",
    "      arr.sum(axis=1),    # 2nd dim\n",
    "      arr.sum(axis=2),    # 3rd dim\n",
    "      arr.sum(axis=-1),   # here, in 3-d array, last axis is 3rd dim\n",
    "      arr.sum(axis=None), # regardless of dimension\n",
    "      sep='\\n.............\\n') "
   ]
  },
  {
   "cell_type": "markdown",
   "id": "8f314c20",
   "metadata": {},
   "source": [
    "- default axis may differ from function to function"
   ]
  },
  {
   "cell_type": "markdown",
   "id": "78f47cfa",
   "metadata": {},
   "source": [
    "### Combining arrays"
   ]
  },
  {
   "cell_type": "code",
   "execution_count": 92,
   "id": "a9c2f560",
   "metadata": {},
   "outputs": [
    {
     "name": "stdout",
     "output_type": "stream",
     "text": [
      "(2, 2) (4, 2) (2, 4) (4, 2) (2, 4) (2, 4)\n"
     ]
    }
   ],
   "source": [
    "arr = np.array([(1, 2), (3, 4)], dtype=float)\n",
    "\n",
    "c = np.vstack((arr, arr))               # 1st dim\n",
    "d = np.hstack((arr, arr))               # 2nd dim\n",
    "e = np.concatenate((arr, arr), axis=0)  # 1st dim\n",
    "f = np.concatenate((arr, arr), axis=1)  # 2nd dim\n",
    "g = np.concatenate((arr, arr), axis=-1) # last dim\n",
    "print(arr.shape, c.shape, d.shape, e.shape, f.shape, g.shape)"
   ]
  },
  {
   "cell_type": "code",
   "execution_count": 93,
   "id": "a4f0d2a6",
   "metadata": {},
   "outputs": [
    {
     "name": "stdout",
     "output_type": "stream",
     "text": [
      "\n",
      "arr:\n",
      " [[  1.0   2.0]\n",
      " [  3.0   4.0]]\n",
      "\n",
      "c [vstack]:\n",
      " [[  1.0   2.0]\n",
      " [  3.0   4.0]\n",
      " [  1.0   2.0]\n",
      " [  3.0   4.0]]\n",
      "\n",
      "d [hstack]:\n",
      " [[  1.0   2.0   1.0   2.0]\n",
      " [  3.0   4.0   3.0   4.0]]\n",
      "\n",
      "e [concatenate axis=0]:\n",
      " [[  1.0   2.0]\n",
      " [  3.0   4.0]\n",
      " [  1.0   2.0]\n",
      " [  3.0   4.0]]\n",
      "\n",
      "f [concatenate axis=1]:\n",
      " [[  1.0   2.0   1.0   2.0]\n",
      " [  3.0   4.0   3.0   4.0]]\n",
      "\n",
      "g [concatenate axis=-1]:\n",
      " [[  1.0   2.0   1.0   2.0]\n",
      " [  3.0   4.0   3.0   4.0]]\n"
     ]
    }
   ],
   "source": [
    "print(\"\\narr:\\n\", arr)\n",
    "print(\"\\nc [vstack]:\\n\", c)\n",
    "print(\"\\nd [hstack]:\\n\", d)\n",
    "print(\"\\ne [concatenate axis=0]:\\n\", e)\n",
    "print(\"\\nf [concatenate axis=1]:\\n\", f)\n",
    "print(\"\\ng [concatenate axis=-1]:\\n\", g)"
   ]
  },
  {
   "cell_type": "code",
   "execution_count": 94,
   "id": "c17a7655",
   "metadata": {},
   "outputs": [
    {
     "name": "stdout",
     "output_type": "stream",
     "text": [
      "(2, 2, 3) (4, 2, 3) (2, 4, 3) (4, 2, 3) (2, 4, 3) (2, 2, 6)\n"
     ]
    }
   ],
   "source": [
    "arr = np.array([[[1, 22, 13], [4, 15, 6]], \n",
    "                [[7, 8, 9], [10, 11, 12]]])\n",
    "\n",
    "c = np.vstack((arr, arr))               # 1st dim\n",
    "d = np.hstack((arr, arr))               # 2nd dim\n",
    "e = np.concatenate((arr, arr), axis=0)  # 1st dim\n",
    "f = np.concatenate((arr, arr), axis=1)  # 2nd dim\n",
    "g = np.concatenate((arr, arr), axis=-1) # last dim\n",
    "print(arr.shape, c.shape, d.shape, e.shape, f.shape, g.shape)"
   ]
  },
  {
   "cell_type": "code",
   "execution_count": 95,
   "id": "9eb8a72c",
   "metadata": {},
   "outputs": [
    {
     "name": "stdout",
     "output_type": "stream",
     "text": [
      "\n",
      "arr:\n",
      " [[[ 1 22 13]\n",
      "  [ 4 15  6]]\n",
      "\n",
      " [[ 7  8  9]\n",
      "  [10 11 12]]]\n",
      "\n",
      "c [vstack]:\n",
      " [[[ 1 22 13]\n",
      "  [ 4 15  6]]\n",
      "\n",
      " [[ 7  8  9]\n",
      "  [10 11 12]]\n",
      "\n",
      " [[ 1 22 13]\n",
      "  [ 4 15  6]]\n",
      "\n",
      " [[ 7  8  9]\n",
      "  [10 11 12]]]\n",
      "\n",
      "d [hstack]:\n",
      " [[[ 1 22 13]\n",
      "  [ 4 15  6]\n",
      "  [ 1 22 13]\n",
      "  [ 4 15  6]]\n",
      "\n",
      " [[ 7  8  9]\n",
      "  [10 11 12]\n",
      "  [ 7  8  9]\n",
      "  [10 11 12]]]\n",
      "\n",
      "e [concatenate axis=0]:\n",
      " [[[ 1 22 13]\n",
      "  [ 4 15  6]]\n",
      "\n",
      " [[ 7  8  9]\n",
      "  [10 11 12]]\n",
      "\n",
      " [[ 1 22 13]\n",
      "  [ 4 15  6]]\n",
      "\n",
      " [[ 7  8  9]\n",
      "  [10 11 12]]]\n",
      "\n",
      "f [concatenate axis=1]:\n",
      " [[[ 1 22 13]\n",
      "  [ 4 15  6]\n",
      "  [ 1 22 13]\n",
      "  [ 4 15  6]]\n",
      "\n",
      " [[ 7  8  9]\n",
      "  [10 11 12]\n",
      "  [ 7  8  9]\n",
      "  [10 11 12]]]\n",
      "\n",
      "g [concatenate axis=-1]:\n",
      " [[[ 1 22 13  1 22 13]\n",
      "  [ 4 15  6  4 15  6]]\n",
      "\n",
      " [[ 7  8  9  7  8  9]\n",
      "  [10 11 12 10 11 12]]]\n"
     ]
    }
   ],
   "source": [
    "print(\"\\narr:\\n\", arr)\n",
    "print(\"\\nc [vstack]:\\n\", c)\n",
    "print(\"\\nd [hstack]:\\n\", d)\n",
    "print(\"\\ne [concatenate axis=0]:\\n\", e)\n",
    "print(\"\\nf [concatenate axis=1]:\\n\", f)\n",
    "print(\"\\ng [concatenate axis=-1]:\\n\", g)"
   ]
  },
  {
   "cell_type": "markdown",
   "id": "b6d9610e",
   "metadata": {},
   "source": [
    "### Splitting arrays"
   ]
  },
  {
   "cell_type": "code",
   "execution_count": 96,
   "id": "585fcaa0",
   "metadata": {},
   "outputs": [
    {
     "name": "stdout",
     "output_type": "stream",
     "text": [
      "(3, 2)\n"
     ]
    }
   ],
   "source": [
    "a = np.array([(1, 2), (3, 4), (5,6)], dtype=float)\n",
    "print(a.shape)"
   ]
  },
  {
   "cell_type": "code",
   "execution_count": 97,
   "id": "ff0bd3a0",
   "metadata": {
    "scrolled": true
   },
   "outputs": [
    {
     "name": "stdout",
     "output_type": "stream",
     "text": [
      "(1, 2) (1, 2) (1, 2)\n",
      "[[  1.0   2.0]]\n",
      "[[  3.0   4.0]]\n",
      "[[  5.0   6.0]]\n"
     ]
    }
   ],
   "source": [
    "a1, a2, a3 = np.vsplit(a, 3) # 1st dim, 3splits\n",
    "print(a1.shape, a2.shape, a3.shape)\n",
    "print(a1)\n",
    "print(a2)\n",
    "print(a3)"
   ]
  },
  {
   "cell_type": "code",
   "execution_count": 98,
   "id": "e130b5aa",
   "metadata": {},
   "outputs": [
    {
     "name": "stdout",
     "output_type": "stream",
     "text": [
      "(3, 1) (3, 1)\n",
      "[[  1.0]\n",
      " [  3.0]\n",
      " [  5.0]]\n",
      "[[  2.0]\n",
      " [  4.0]\n",
      " [  6.0]]\n"
     ]
    }
   ],
   "source": [
    "a1, a2 = np.hsplit(a, 2)    # 2nd dim, 2splits\n",
    "print(a1.shape, a2.shape)\n",
    "print(a1)\n",
    "print(a2)"
   ]
  },
  {
   "cell_type": "code",
   "execution_count": 99,
   "id": "89ceab52",
   "metadata": {},
   "outputs": [
    {
     "name": "stdout",
     "output_type": "stream",
     "text": [
      "(8, 4)\n",
      "(1, 4) (1, 4) (1, 4) (1, 4) (1, 4) (1, 4) (1, 4) (1, 4)\n",
      "(2, 4) (2, 4) (2, 4) (2, 4)\n",
      "(4, 4) (4, 4)\n",
      "(8, 1) (8, 1) (8, 1) (8, 1)\n",
      "(8, 2) (8, 2)\n"
     ]
    }
   ],
   "source": [
    "a = np.array([(1,2,3,4), \n",
    "              (5,6,7,8), \n",
    "              (9,10,11,12), \n",
    "              (13,14,15,16), \n",
    "              (17,18,19,20), \n",
    "              (21,22,23,24), \n",
    "              (25,26,27,28), \n",
    "              (29,30,31,32)])\n",
    "print(a.shape)                  # (8, 4)\n",
    "\n",
    "a1, a2, a3, a4, a5, a6, a7, a8  = np.vsplit(a, 8) # 1st dim, 8 % splits = 0\n",
    "print(a1.shape, a2.shape, a3.shape, a4.shape, a5.shape, a6.shape, a7.shape, a8.shape)\n",
    "\n",
    "a1, a2, a3, a4  = np.vsplit(a, 4) # 8%4 = 0\n",
    "print(a1.shape, a2.shape, a3.shape, a4.shape)\n",
    "\n",
    "a1, a2  = np.vsplit(a, 2) # 8%2 = 0\n",
    "print(a1.shape, a2.shape)\n",
    "\n",
    "a1, a2, a3, a4 = np.hsplit(a, 4) # 2nd dim, 4 % splits = 0\n",
    "print(a1.shape, a2.shape, a3.shape, a4.shape)\n",
    "\n",
    "a1, a2  = np.hsplit(a, 2)\n",
    "print(a1.shape, a2.shape)"
   ]
  },
  {
   "cell_type": "markdown",
   "id": "c400588f",
   "metadata": {},
   "source": [
    "### Sorting Arrays"
   ]
  },
  {
   "cell_type": "code",
   "execution_count": 100,
   "id": "e0556c80",
   "metadata": {},
   "outputs": [
    {
     "name": "stdout",
     "output_type": "stream",
     "text": [
      "Shape of arr: (2, 3)\n",
      "\n",
      "Sorted along axis 0:\n",
      " [[ 6 10  1]\n",
      " [30 50  3]]\n",
      "\n",
      "Sorted along axis 1:\n",
      " [[ 1 10 30]\n",
      " [ 3  6 50]]\n",
      "\n",
      "Sorted along last axis (-1):\n",
      " [[ 1 10 30]\n",
      " [ 3  6 50]]\n",
      "\n",
      "Sorted with axis=None (all elements):\n",
      " [ 1  3  6 10 30 50]\n"
     ]
    }
   ],
   "source": [
    "arr = np.array([[30, 10, 1], \n",
    "                [6, 50, 3]])\n",
    "\n",
    "print(\"Shape of arr:\", arr.shape)\n",
    "print(\"\\nSorted along axis 0:\\n\", np.sort(arr, axis=0))                      # 1st dim\n",
    "print(\"\\nSorted along axis 1:\\n\", np.sort(arr, axis=1))                      # 2nd dim\n",
    "print(\"\\nSorted along last axis (-1):\\n\", np.sort(arr, axis=-1))             # here, in 2-d array, last axis is 2nd dim\n",
    "print(\"\\nSorted with axis=None (all elements):\\n\", np.sort(arr, axis=None))  # sort regardless of dimension\n"
   ]
  },
  {
   "cell_type": "code",
   "execution_count": 101,
   "id": "42957e3a",
   "metadata": {},
   "outputs": [
    {
     "name": "stdout",
     "output_type": "stream",
     "text": [
      "Shape of arr: (2, 2, 3)\n",
      "\n",
      "Sorted along axis 0:\n",
      " [[[ 1  8  9]\n",
      "  [ 4 11  6]]\n",
      "\n",
      " [[ 7 22 13]\n",
      "  [10 15 12]]]\n",
      "\n",
      "Sorted along axis 1:\n",
      " [[[ 1 15  6]\n",
      "  [ 4 22 13]]\n",
      "\n",
      " [[ 7  8  9]\n",
      "  [10 11 12]]]\n",
      "\n",
      "Sorted along last axis (-1):\n",
      " [[[ 1 13 22]\n",
      "  [ 4  6 15]]\n",
      "\n",
      " [[ 7  8  9]\n",
      "  [10 11 12]]]\n",
      "\n",
      "Sorted along default axis (-1):\n",
      " [[[ 1 13 22]\n",
      "  [ 4  6 15]]\n",
      "\n",
      " [[ 7  8  9]\n",
      "  [10 11 12]]]\n",
      "\n",
      "Sorted with axis=None (all elements):\n",
      " [ 1  4  6  7  8  9 10 11 12 13 15 22]\n"
     ]
    }
   ],
   "source": [
    "# demonstrating axis\n",
    "arr = np.array([[[1, 22, 13], [4, 15, 6]], \n",
    "                [[7, 8, 9], [10, 11, 12]]])\n",
    "print(\"Shape of arr:\", arr.shape)\n",
    "print(\"\\nSorted along axis 0:\\n\", np.sort(arr, axis=0))                      # 1st dim\n",
    "print(\"\\nSorted along axis 1:\\n\", np.sort(arr, axis=1))                      # 2nd dim\n",
    "print(\"\\nSorted along last axis (-1):\\n\", np.sort(arr, axis=-1))             # here, in 3-d array, last axis is 3rd dim\n",
    "print(\"\\nSorted along default axis (-1):\\n\", np.sort(arr))                      # default axis = -1 for sort\n",
    "print(\"\\nSorted with axis=None (all elements):\\n\", np.sort(arr, axis=None))  # sort regardless of dimension"
   ]
  },
  {
   "cell_type": "code",
   "execution_count": 102,
   "id": "5bf80411",
   "metadata": {},
   "outputs": [
    {
     "name": "stdout",
     "output_type": "stream",
     "text": [
      "[[ 1 10 30]\n",
      " [ 3  6 50]]\n"
     ]
    }
   ],
   "source": [
    "a = np.array([[30,10,1], \n",
    "              [6,50,3]])\n",
    "\n",
    "a.sort() # original is affected, default axis = -1\n",
    "print(a)"
   ]
  },
  {
   "cell_type": "markdown",
   "id": "83d64df0",
   "metadata": {},
   "source": [
    "### Data analysis functions"
   ]
  },
  {
   "cell_type": "code",
   "execution_count": 103,
   "id": "f04e6d5a",
   "metadata": {},
   "outputs": [
    {
     "name": "stdout",
     "output_type": "stream",
     "text": [
      "Array 'a':\n",
      "[[1 2]\n",
      " [8 4]\n",
      " [8 1]]\n",
      "\n",
      "Array 'f' (ravel of 'a' or flattened array):\n",
      "[1 2 8 4 8 1]\n",
      "\n",
      "Array 't':\n",
      "[  inf   5.0   nan]\n"
     ]
    }
   ],
   "source": [
    "a = np.array([(1, 2), \n",
    "              (8, 4), \n",
    "              (8, 1)], dtype=int)\n",
    "f = a.ravel()                                      # converting 2D images into 1D arrays for processing\n",
    "t = np.array([np.inf, 5, np.nan])                   \n",
    "\n",
    "\n",
    "print(\"Array 'a':\")\n",
    "print(a)\n",
    "\n",
    "print(\"\\nArray 'f' (ravel of 'a' or flattened array):\")\n",
    "print(f)\n",
    "\n",
    "print(\"\\nArray 't':\")\n",
    "print(t)"
   ]
  },
  {
   "cell_type": "code",
   "execution_count": 104,
   "id": "9cf9e17d",
   "metadata": {},
   "outputs": [
    {
     "name": "stdout",
     "output_type": "stream",
     "text": [
      "[0 5 1 3 2 4]\n",
      "2\n",
      "0\n",
      "2\n",
      "(array([2, 4], dtype=int64),)\n",
      "(array([1, 2], dtype=int64), array([0, 0], dtype=int64))\n"
     ]
    }
   ],
   "source": [
    "# indices\n",
    "print(np.argsort(f),      # returns indices of elements when array is sorted \n",
    "      np.argmax(a),       # returns index of first occurence of maximum element\n",
    "      np.argmin(a),       # returns index of minimum element\n",
    "      np.argmin(t),\n",
    "      np.where(f > 5),    # returns indices of elements satisfying the condition: (1,0) (2,0) (2,1)\n",
    "      np.where(a > 5),\n",
    "      sep='\\n'\n",
    "     )"
   ]
  },
  {
   "cell_type": "code",
   "execution_count": 105,
   "id": "f65cc4fb",
   "metadata": {},
   "outputs": [
    {
     "name": "stdout",
     "output_type": "stream",
     "text": [
      "Product ID: 0, Purchases: 0\n",
      "Product ID: 1, Purchases: 4\n",
      "Product ID: 2, Purchases: 4\n",
      "Product ID: 3, Purchases: 2\n",
      "Product ID: 4, Purchases: 2\n",
      "Product ID: 5, Purchases: 2\n",
      "Product ID: 6, Purchases: 0\n",
      "Product ID: 7, Purchases: 0\n",
      "Product ID: 8, Purchases: 1\n",
      "\n",
      "Product ID: 1, Purchases: 4\n",
      "Product ID: 2, Purchases: 4\n",
      "Product ID: 3, Purchases: 2\n",
      "Product ID: 4, Purchases: 2\n",
      "Product ID: 5, Purchases: 2\n",
      "Product ID: 8, Purchases: 1\n"
     ]
    }
   ],
   "source": [
    "product_purchase_history = [1, 2, 3, 2, 4, 1, 5, 3, 1, 2, 4, 5, 1, 2,8]\n",
    "purchase_count = np.bincount(product_purchase_history)\n",
    "\n",
    "for product_id, count in enumerate(purchase_count):\n",
    "    print(f\"Product ID: {product_id}, Purchases: {count}\")\n",
    "\n",
    "print()        \n",
    "\n",
    "for product_id, count in enumerate(purchase_count):\n",
    "    if count > 0:\n",
    "        print(f\"Product ID: {product_id}, Purchases: {count}\")        "
   ]
  },
  {
   "cell_type": "code",
   "execution_count": 106,
   "id": "15dda092",
   "metadata": {},
   "outputs": [
    {
     "name": "stdout",
     "output_type": "stream",
     "text": [
      "[ 65.0  71.0  77.0  83.0  89.0  95.0]\n",
      "[2 4 4 6 4]\n",
      "\n",
      "Bin 1: 65.0 - 71.0: Count = 2\n",
      "Bin 2: 71.0 - 77.0: Count = 4\n",
      "Bin 3: 77.0 - 83.0: Count = 4\n",
      "Bin 4: 83.0 - 89.0: Count = 6\n",
      "Bin 5: 89.0 - 95.0: Count = 4\n"
     ]
    }
   ],
   "source": [
    "scores = np.array([72, 83, 78, 91, 65, 72, 88, 95, 79, 82, 74, 70, 88, 92, 80, 85, 92, 88, 76, 84])\n",
    "count, bins = np.histogram(scores, bins=5)  # Here, we specify the number of bins\n",
    "\n",
    "print(bins)\n",
    "print(count)\n",
    "print()\n",
    "for i, bin_count in enumerate(count):\n",
    "    print(f\"Bin {i+1}: {bins[i]} - {bins[i + 1]}: Count = {bin_count}\")"
   ]
  },
  {
   "cell_type": "code",
   "execution_count": 107,
   "id": "2bbac5aa",
   "metadata": {},
   "outputs": [
    {
     "name": "stdout",
     "output_type": "stream",
     "text": [
      "[ True False False]\n",
      "[False False  True]\n"
     ]
    }
   ],
   "source": [
    "t = np.array([np.inf, 5, np.nan])                  #  \n",
    "print(np.isinf(t))             # element wise opeation to check for np.inf\n",
    "print(np.isnan(t))             # element wise opeation to check for np.nan"
   ]
  },
  {
   "cell_type": "code",
   "execution_count": 108,
   "id": "8dcbbf30",
   "metadata": {},
   "outputs": [
    {
     "name": "stdout",
     "output_type": "stream",
     "text": [
      "['orange' 'cherry' 'orange' 'apple' 'grape' 'banana' 'cherry' 'apple']\n"
     ]
    }
   ],
   "source": [
    "items = [\"apple\", \"banana\", \"cherry\", \"grape\", \"orange\"]\n",
    "requirement = 8                                                # Number of fruits needed\n",
    "print(np.random.choice(items, size=requirement))                "
   ]
  },
  {
   "cell_type": "code",
   "execution_count": 109,
   "id": "e90ea5d3",
   "metadata": {},
   "outputs": [
    {
     "name": "stdout",
     "output_type": "stream",
     "text": [
      "['apple' 'grape' 'cherry' 'grape']\n"
     ]
    }
   ],
   "source": [
    "items = [\"apple\", \"banana\", \"cherry\", \"grape\", \"orange\", \"grape\"]\n",
    "requirement = 4  \n",
    "if requirement<=len(items):\n",
    "    print(np.random.choice(items, size=requirement, replace=False))"
   ]
  },
  {
   "cell_type": "code",
   "execution_count": 110,
   "id": "5e6af4fe",
   "metadata": {},
   "outputs": [
    {
     "name": "stdout",
     "output_type": "stream",
     "text": [
      "Customer ID: 1001, Number of Purchases: 2\n",
      "Customer ID: 1002, Number of Purchases: 3\n",
      "Customer ID: 1003, Number of Purchases: 2\n",
      "Customer ID: 1004, Number of Purchases: 2\n",
      "Customer ID: 1005, Number of Purchases: 1\n",
      "Customer ID: 1006, Number of Purchases: 1\n"
     ]
    }
   ],
   "source": [
    "# saved custid for each purchase\n",
    "customer_ids = np.array([1001, 1002, 1003, 1002, 1001, 1004, 1003, 1005, 1002, 1004, 1006])\n",
    "unique_elements, counts = np.unique(customer_ids, return_counts=True)\n",
    "for customer_id, count in zip(unique_elements, counts):\n",
    "    print(f\"Customer ID: {customer_id}, Number of Purchases: {count}\")"
   ]
  },
  {
   "cell_type": "markdown",
   "id": "9d807762",
   "metadata": {},
   "source": [
    "### masked arrays"
   ]
  },
  {
   "cell_type": "code",
   "execution_count": 111,
   "id": "70f9ff18",
   "metadata": {},
   "outputs": [
    {
     "name": "stdout",
     "output_type": "stream",
     "text": [
      "Original Data: [  10   20 -999   30 -999   40   50 -999]\n",
      "Masked Array: [10 20 -- 30 -- 40 50 --]\n"
     ]
    }
   ],
   "source": [
    "# NumPy array with some missing values (e.g., represented by -999)\n",
    "data = np.array([10, 20, -999, 30, -999, 40, 50, -999])\n",
    "\n",
    "# Create a masked array by specifying the condition for missing values\n",
    "masked_data = np.ma.masked_where(data == -999, data)\n",
    "\n",
    "print(\"Original Data:\", data)\n",
    "print(\"Masked Array:\", masked_data)"
   ]
  },
  {
   "cell_type": "code",
   "execution_count": 112,
   "id": "0d872f9d",
   "metadata": {},
   "outputs": [
    {
     "name": "stdout",
     "output_type": "stream",
     "text": [
      "Mean: 30.0\n",
      "Result: 150\n"
     ]
    }
   ],
   "source": [
    "# Perform calculations on the masked array (missing values will be ignored)\n",
    "mean = np.mean(masked_data)\n",
    "result = np.sum(masked_data)\n",
    "\n",
    "print(\"Mean:\", mean)\n",
    "print(\"Result:\", result)"
   ]
  }
 ],
 "metadata": {
  "kernelspec": {
   "display_name": "Python 3 (ipykernel)",
   "language": "python",
   "name": "python3"
  },
  "language_info": {
   "codemirror_mode": {
    "name": "ipython",
    "version": 3
   },
   "file_extension": ".py",
   "mimetype": "text/x-python",
   "name": "python",
   "nbconvert_exporter": "python",
   "pygments_lexer": "ipython3",
   "version": "3.9.16"
  }
 },
 "nbformat": 4,
 "nbformat_minor": 5
}
