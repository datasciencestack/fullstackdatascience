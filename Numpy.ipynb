{
 "cells": [
  {
   "cell_type": "code",
   "execution_count": 1,
   "id": "b7885a74",
   "metadata": {},
   "outputs": [],
   "source": [
    "import numpy as np"
   ]
  },
  {
   "cell_type": "markdown",
   "id": "d3d68701",
   "metadata": {},
   "source": [
    "###  Creating Arrays"
   ]
  },
  {
   "cell_type": "code",
   "execution_count": 2,
   "id": "60ba853e",
   "metadata": {},
   "outputs": [
    {
     "name": "stdout",
     "output_type": "stream",
     "text": [
      "[1 2 3]\n"
     ]
    }
   ],
   "source": [
    "a = np.array([1, 2, 3])\n",
    "print(a)"
   ]
  },
  {
   "cell_type": "code",
   "execution_count": 3,
   "id": "9249c002",
   "metadata": {},
   "outputs": [
    {
     "name": "stdout",
     "output_type": "stream",
     "text": [
      "[[1. 2.]\n",
      " [3. 4.]]\n"
     ]
    }
   ],
   "source": [
    "b = np.array([(1, 2), (3, 4)], dtype=float)\n",
    "print(b)"
   ]
  },
  {
   "cell_type": "code",
   "execution_count": 4,
   "id": "d13a3ea9",
   "metadata": {},
   "outputs": [
    {
     "name": "stdout",
     "output_type": "stream",
     "text": [
      "[[[ 1.  2.  3.  4.]\n",
      "  [ 5.  6.  7.  8.]]\n",
      "\n",
      " [[ 1.  2.  3.  4.]\n",
      "  [ 9. 10. 11. 12.]]\n",
      "\n",
      " [[13. 14. 15. 16.]\n",
      "  [17. 18. 19. 20.]]]\n"
     ]
    }
   ],
   "source": [
    "c = np.array([[[1, 2, 3, 4], [5, 6, 7, 8]], [[1, 2, 3, 4], [9, 10, 11, 12]], [[13, 14, 15, 16], [17, 18, 19, 20]]], dtype=np.float64)\n",
    "print(c)"
   ]
  },
  {
   "cell_type": "code",
   "execution_count": 5,
   "id": "51b7ffd5",
   "metadata": {},
   "outputs": [
    {
     "data": {
      "text/plain": [
       "(numpy.ndarray, dtype('float64'), 3, (3, 2, 4), 24)"
      ]
     },
     "execution_count": 5,
     "metadata": {},
     "output_type": "execute_result"
    }
   ],
   "source": [
    "type(c), c.dtype, c.ndim, c.shape, c.size # rows*cols"
   ]
  },
  {
   "cell_type": "markdown",
   "id": "90b4d8d6",
   "metadata": {},
   "source": [
    "### Initial Placeholders "
   ]
  },
  {
   "cell_type": "code",
   "execution_count": 6,
   "id": "cc598c62",
   "metadata": {},
   "outputs": [
    {
     "name": "stdout",
     "output_type": "stream",
     "text": [
      "[[0 0 0 0]\n",
      " [0 0 0 0]\n",
      " [0 0 0 0]]\n"
     ]
    }
   ],
   "source": [
    "d = np.zeros(shape=(3, 4), dtype=np.int64)\n",
    "print(d)"
   ]
  },
  {
   "cell_type": "code",
   "execution_count": 7,
   "id": "bda636ff",
   "metadata": {},
   "outputs": [
    {
     "name": "stdout",
     "output_type": "stream",
     "text": [
      "[[[1 1 1 1]\n",
      "  [1 1 1 1]\n",
      "  [1 1 1 1]]\n",
      "\n",
      " [[1 1 1 1]\n",
      "  [1 1 1 1]\n",
      "  [1 1 1 1]]]\n"
     ]
    }
   ],
   "source": [
    "e = np.ones(shape=(2, 3, 4), dtype=np.int16)\n",
    "print(e)"
   ]
  },
  {
   "cell_type": "code",
   "execution_count": 8,
   "id": "cbcbb090",
   "metadata": {},
   "outputs": [
    {
     "name": "stdout",
     "output_type": "stream",
     "text": [
      "[10 15 20]\n"
     ]
    }
   ],
   "source": [
    "f = np.arange(start=10, stop=25, step=5)\n",
    "print(f)"
   ]
  },
  {
   "cell_type": "code",
   "execution_count": 9,
   "id": "7ccf5a5d",
   "metadata": {},
   "outputs": [
    {
     "name": "stdout",
     "output_type": "stream",
     "text": [
      "[0.  0.5 1.  1.5 2. ]\n",
      "[0.  0.4 0.8 1.2 1.6]\n"
     ]
    }
   ],
   "source": [
    "g = np.linspace(start=0, stop=2, num=5, endpoint=True)\n",
    "print(g)\n",
    "\n",
    "g1 = np.linspace(start=0, stop=2, num=5, endpoint=False)\n",
    "print(g1)"
   ]
  },
  {
   "cell_type": "code",
   "execution_count": 10,
   "id": "f481c97b",
   "metadata": {},
   "outputs": [
    {
     "name": "stdout",
     "output_type": "stream",
     "text": [
      "[[5.7 5.7 5.7]\n",
      " [5.7 5.7 5.7]]\n"
     ]
    }
   ],
   "source": [
    "h = np.full(shape=(2, 3), fill_value=5.7, dtype=float)\n",
    "print(h)"
   ]
  },
  {
   "cell_type": "code",
   "execution_count": 11,
   "id": "6481e4b1",
   "metadata": {},
   "outputs": [
    {
     "name": "stdout",
     "output_type": "stream",
     "text": [
      "[[0 0 0 0 0]\n",
      " [0 0 0 0 0]\n",
      " [1 0 0 0 0]\n",
      " [0 1 0 0 0]\n",
      " [0 0 1 0 0]\n",
      " [0 0 0 1 0]\n",
      " [0 0 0 0 1]\n",
      " [0 0 0 0 0]\n",
      " [0 0 0 0 0]\n",
      " [0 0 0 0 0]]\n"
     ]
    }
   ],
   "source": [
    "i = np.eye(N=10, # rows\n",
    "           M=5,  # cols\n",
    "           k=-2, # diagonal (+ve upper diag, -ve lower diag)\n",
    "           dtype=np.int64)\n",
    "print(i)"
   ]
  },
  {
   "cell_type": "code",
   "execution_count": 12,
   "id": "f55b1193",
   "metadata": {},
   "outputs": [
    {
     "name": "stdout",
     "output_type": "stream",
     "text": [
      "[[0.48687535 0.66537065 0.75547587]\n",
      " [0.71575627 0.46654014 0.07481688]\n",
      " [0.05375964 0.44009046 0.27175705]]\n"
     ]
    }
   ],
   "source": [
    "j = np.random.random(size=(3, 3)) # values between 0 and 1\n",
    "print(j)"
   ]
  },
  {
   "cell_type": "code",
   "execution_count": 13,
   "id": "6bd63d9e",
   "metadata": {},
   "outputs": [
    {
     "name": "stdout",
     "output_type": "stream",
     "text": [
      "[[4602442386419939582 4604168345600315239 4604979941202324763]\n",
      " [4604622178894040290 4602076059897848718 4590055544933654224]\n",
      " [4587908401751215120 4601599584764273034 4598567159721511354]]\n"
     ]
    }
   ],
   "source": [
    "k = np.empty(shape=(3, 3), dtype=np.int64) # garbage\n",
    "print(k)"
   ]
  },
  {
   "cell_type": "markdown",
   "id": "f673e2fd",
   "metadata": {},
   "source": [
    "### Input/Output"
   ]
  },
  {
   "cell_type": "markdown",
   "id": "832e57c1",
   "metadata": {},
   "source": [
    "#### arrays"
   ]
  },
  {
   "cell_type": "code",
   "execution_count": 14,
   "id": "29d695c7",
   "metadata": {},
   "outputs": [
    {
     "name": "stdout",
     "output_type": "stream",
     "text": [
      "[1 2 3]\n"
     ]
    }
   ],
   "source": [
    "np.save(\"my_array.npy\", a)\n",
    "loaded_array = np.load(\"my_array.npy\")\n",
    "print(loaded_array)"
   ]
  },
  {
   "cell_type": "code",
   "execution_count": 15,
   "id": "880f3c61",
   "metadata": {},
   "outputs": [],
   "source": [
    "np.savez(\"my_arrays.npz\", my_array1=a, my_array2=b, my_array3=c)\n",
    "loaded_data = np.load(\"my_arrays.npz\")\n",
    "loaded_array1 = loaded_data[\"my_array1\"]\n",
    "loaded_array2 = loaded_data[\"my_array2\"]\n",
    "loaded_array3 = loaded_data[\"my_array3\"]\n",
    "# print(loaded_array1) # a\n",
    "# print(loaded_array2) # b\n",
    "# print(loaded_array3) # c"
   ]
  },
  {
   "cell_type": "markdown",
   "id": "70d8d1b8",
   "metadata": {},
   "source": [
    "#### text"
   ]
  },
  {
   "cell_type": "code",
   "execution_count": 16,
   "id": "90586c33",
   "metadata": {},
   "outputs": [],
   "source": [
    "np.savetxt('my_array.txt', a, delimiter=',')\n",
    "np.savetxt('my_array.csv', a, delimiter=',') # comma seperated values\n",
    "np.savetxt('my_array.out', a, delimiter=',') # assembler output"
   ]
  },
  {
   "cell_type": "code",
   "execution_count": 17,
   "id": "b657927e",
   "metadata": {},
   "outputs": [],
   "source": [
    "# create and add data into data.txt\n",
    "with open('data.txt', 'w+') as f:\n",
    "    f.write('''Value1  Value2  Value3\n",
    "0.2536  0.1008  0.3857\n",
    "0.4839  0.4536  0.3561\n",
    "0.1292  0.6875  0.5929\n",
    "0.1781  0.3049  0.8928\n",
    "0.6253  0.3486  0.8791''')"
   ]
  },
  {
   "cell_type": "code",
   "execution_count": 18,
   "id": "449021c3",
   "metadata": {},
   "outputs": [],
   "source": [
    "# create and add data into data2.txt (contains missing values)\n",
    "with open('data2.txt', 'w+') as f:\n",
    "    f.write('''Value1  Value2  Value3\n",
    "0.4839  0.4536  0.3561\n",
    "0.1292  0.6875  MISSING\n",
    "0.1781  0.3049  0.8928\n",
    "MISSING 0.5801  0.2038\n",
    "0.5993  0.4357  0.7410''')"
   ]
  },
  {
   "cell_type": "code",
   "execution_count": 19,
   "id": "045972e5",
   "metadata": {},
   "outputs": [],
   "source": [
    "arr1 = np.genfromtxt('data.txt')\n",
    "arr2 = np.genfromtxt('data2.txt', skip_header=1, filling_values=-99)"
   ]
  },
  {
   "cell_type": "code",
   "execution_count": 20,
   "id": "fd3c3b64",
   "metadata": {},
   "outputs": [
    {
     "name": "stdout",
     "output_type": "stream",
     "text": [
      "[[   nan    nan    nan]\n",
      " [0.2536 0.1008 0.3857]\n",
      " [0.4839 0.4536 0.3561]\n",
      " [0.1292 0.6875 0.5929]\n",
      " [0.1781 0.3049 0.8928]\n",
      " [0.6253 0.3486 0.8791]]\n",
      "[[  0.4839   0.4536   0.3561]\n",
      " [  0.1292   0.6875 -99.    ]\n",
      " [  0.1781   0.3049   0.8928]\n",
      " [-99.       0.5801   0.2038]\n",
      " [  0.5993   0.4357   0.741 ]]\n"
     ]
    }
   ],
   "source": [
    "print(arr1)\n",
    "print(arr2)"
   ]
  },
  {
   "cell_type": "code",
   "execution_count": 21,
   "id": "d8e9cc0a",
   "metadata": {},
   "outputs": [],
   "source": [
    "arr3 = np.loadtxt('data.txt', dtype=str) \n",
    "arr4 = np.loadtxt('data.txt', dtype=str, delimiter='\\n') # \\n delimiter => each row a str"
   ]
  },
  {
   "cell_type": "code",
   "execution_count": 22,
   "id": "a88db195",
   "metadata": {},
   "outputs": [
    {
     "name": "stdout",
     "output_type": "stream",
     "text": [
      "[['Value1' 'Value2' 'Value3']\n",
      " ['0.2536' '0.1008' '0.3857']\n",
      " ['0.4839' '0.4536' '0.3561']\n",
      " ['0.1292' '0.6875' '0.5929']\n",
      " ['0.1781' '0.3049' '0.8928']\n",
      " ['0.6253' '0.3486' '0.8791']]\n",
      "['Value1  Value2  Value3' '0.2536  0.1008  0.3857'\n",
      " '0.4839  0.4536  0.3561' '0.1292  0.6875  0.5929'\n",
      " '0.1781  0.3049  0.8928' '0.6253  0.3486  0.8791']\n"
     ]
    }
   ],
   "source": [
    "print(arr3)\n",
    "print(arr4)"
   ]
  },
  {
   "cell_type": "code",
   "execution_count": 23,
   "id": "57311df6",
   "metadata": {},
   "outputs": [
    {
     "name": "stdout",
     "output_type": "stream",
     "text": [
      "[0.2536 0.4839 0.1292 0.1781 0.6253]\n",
      "[0.1008 0.4536 0.6875 0.3049 0.3486]\n",
      "[0.3857 0.3561 0.5929 0.8928 0.8791]\n"
     ]
    }
   ],
   "source": [
    "x, y, z = np.loadtxt('data.txt', skiprows=1, unpack=True)\n",
    "print(x,y,z, sep='\\n') # each col in file is stored as array"
   ]
  },
  {
   "cell_type": "code",
   "execution_count": 24,
   "id": "c54622d9",
   "metadata": {},
   "outputs": [],
   "source": [
    "# x, y, z = np.loadtxt('data2.txt', skiprows=1, unpack=True)\n",
    "# ValueError: could not convert string to float: 'MISSING'"
   ]
  },
  {
   "cell_type": "markdown",
   "id": "9c8efe86",
   "metadata": {},
   "source": [
    "### Inspecting array"
   ]
  },
  {
   "cell_type": "code",
   "execution_count": 25,
   "id": "d97c6027",
   "metadata": {},
   "outputs": [
    {
     "name": "stdout",
     "output_type": "stream",
     "text": [
      "[1 2 3]\n"
     ]
    }
   ],
   "source": [
    "print(a)"
   ]
  },
  {
   "cell_type": "code",
   "execution_count": 26,
   "id": "123fa1bd",
   "metadata": {},
   "outputs": [
    {
     "name": "stdout",
     "output_type": "stream",
     "text": [
      "1  3  (3,)  3  4  12  int32  int32  int32\n"
     ]
    }
   ],
   "source": [
    "print(a.ndim, # 1\n",
    "      len(a), # 3\n",
    "      a.shape, # (3,)\n",
    "      a.size, # 3\n",
    "      a.itemsize, # 4\n",
    "      a.nbytes, # 3*4 = 12\n",
    "      a.dtype, # int32\n",
    "      a.dtype.name, # int32\n",
    "      a[0].dtype, # int32\n",
    "      sep='  ')"
   ]
  },
  {
   "cell_type": "code",
   "execution_count": 27,
   "id": "2239f314",
   "metadata": {},
   "outputs": [
    {
     "name": "stdout",
     "output_type": "stream",
     "text": [
      "[[1. 2.]\n",
      " [3. 4.]]\n"
     ]
    }
   ],
   "source": [
    "print(b)"
   ]
  },
  {
   "cell_type": "code",
   "execution_count": 28,
   "id": "000a0616",
   "metadata": {},
   "outputs": [
    {
     "name": "stdout",
     "output_type": "stream",
     "text": [
      "2\t2\t(2, 2)\t4\t8\t32\tfloat64\tfloat64\tfloat64\n"
     ]
    }
   ],
   "source": [
    "print(b.ndim, # 2\n",
    "      len(b), # 2 rows\n",
    "      b.shape, # (2,2)\n",
    "      b.size, # 4\n",
    "      b.itemsize, # 8\n",
    "      b.nbytes, # 4*8 = 32\n",
    "      b.dtype, # float64\n",
    "      b.dtype.name, # float64\n",
    "      b[0][0].dtype, # float64\n",
    "      sep='\\t')"
   ]
  },
  {
   "cell_type": "code",
   "execution_count": 29,
   "id": "03300f85",
   "metadata": {},
   "outputs": [
    {
     "name": "stdout",
     "output_type": "stream",
     "text": [
      "[[[ 1.  2.  3.  4.]\n",
      "  [ 5.  6.  7.  8.]]\n",
      "\n",
      " [[ 1.  2.  3.  4.]\n",
      "  [ 9. 10. 11. 12.]]\n",
      "\n",
      " [[13. 14. 15. 16.]\n",
      "  [17. 18. 19. 20.]]]\n"
     ]
    }
   ],
   "source": [
    "print(c)"
   ]
  },
  {
   "cell_type": "code",
   "execution_count": 30,
   "id": "e7282643",
   "metadata": {},
   "outputs": [
    {
     "name": "stdout",
     "output_type": "stream",
     "text": [
      "3  3  (3, 2, 4)  24  8  192  float64  <class 'numpy.ndarray'>  <class 'numpy.ndarray'>  <class 'numpy.ndarray'>\n"
     ]
    }
   ],
   "source": [
    "print(c.ndim, # 3\n",
    "      len(c), # 3 rows\n",
    "      c.shape, # (3,2,4)\n",
    "      c.size, # 24\n",
    "      c.itemsize, # 8\n",
    "      c.nbytes, # 24*8 = 192\n",
    "      c.dtype, # float64\n",
    "      type(c), # numpy.ndarray\n",
    "      type(c[0]), # numpy.ndarray\n",
    "      type(c[0][0]), # numpy.ndarray\n",
    "      sep='  ')"
   ]
  },
  {
   "cell_type": "code",
   "execution_count": 31,
   "id": "a86652d1",
   "metadata": {},
   "outputs": [
    {
     "name": "stdout",
     "output_type": "stream",
     "text": [
      "2  2  (2, 3)  6  24  144  <U6  <class 'numpy.ndarray'>  <class 'numpy.ndarray'>  <class 'numpy.str_'>\n"
     ]
    }
   ],
   "source": [
    "s = np.array([['a','an','the'],['python','is','easy']])\n",
    "print(s.ndim, # 2\n",
    "      len(s), # 2 rows\n",
    "      s.shape, # (2,3)\n",
    "      s.size, # 6 (largest string length)\n",
    "      s.itemsize, # 24\n",
    "      s.nbytes, # 24*6 = 144\n",
    "      s.dtype, # <U6\n",
    "      type(s), # numpy.ndarray\n",
    "      type(s[0]), # numpy.ndarray\n",
    "      type(s[0][0]), # numpy.str_\n",
    "      sep='  ')"
   ]
  },
  {
   "cell_type": "markdown",
   "id": "7864491b",
   "metadata": {},
   "source": [
    "### Data Types"
   ]
  },
  {
   "cell_type": "markdown",
   "id": "c105a40c",
   "metadata": {
    "id": "LSIA5uojo2Ig"
   },
   "source": [
    "***numpy data types***\n",
    "\n",
    "- np.int64 # Signed 64-bit integer types\n",
    "- np.float32 # 8 bits exponent, 23 bits mantissa\n",
    "- np.double # 11 bits exponent, 52 bits mantissa\n",
    "- complex # Complex numbers represented by 128 floats\n",
    "- bool # Boolean type storing TRUE and FALSE values\n",
    "- object # Python object type\n",
    "- np.string_ # Fixed-length string type\n",
    "- np.unicode_ # Fixed-length unicode \n",
    "\n",
    "***referring datatypes with 1 character:***\n",
    "\n",
    "- i # integer\n",
    "- b # boolean\n",
    "- u # unsigned integer\n",
    "- f # float\n",
    "- c # complex float\n",
    "- m # timedelta\n",
    "- M # datetime\n",
    "- O # object\n",
    "- S # string\n",
    "- U # unicode string\n",
    "- V # fixed chunk of memory for other type ( void )"
   ]
  },
  {
   "cell_type": "code",
   "execution_count": 32,
   "id": "3240fa75",
   "metadata": {},
   "outputs": [],
   "source": [
    "a = np.power(100, 8, dtype=np.int64)\n",
    "a2 = np.power(100, 8, dtype=np.int32) # garbage as size exceeds\n",
    "b = np.array([1, 2, 3], dtype='f')\n",
    "c = np.array([1, 2, 3], dtype=np.float32)\n",
    "d = np.array([1, 2, 3], dtype=np.str_)"
   ]
  },
  {
   "cell_type": "code",
   "execution_count": 33,
   "id": "b1c83fd3",
   "metadata": {},
   "outputs": [
    {
     "name": "stdout",
     "output_type": "stream",
     "text": [
      "10000000000000000 1874919424 [1. 2. 3.] [1. 2. 3.] ['1' '2' '3']\n",
      "int64 float32 float32 <U1\n"
     ]
    }
   ],
   "source": [
    "print(a,a2,b,c,d)\n",
    "print(a.dtype,b.dtype,c.dtype,d.dtype)"
   ]
  },
  {
   "cell_type": "markdown",
   "id": "988faea9",
   "metadata": {},
   "source": [
    "#### Casting"
   ]
  },
  {
   "cell_type": "code",
   "execution_count": 34,
   "id": "d8da7b42",
   "metadata": {},
   "outputs": [
    {
     "name": "stdout",
     "output_type": "stream",
     "text": [
      "[1. 2. 3.] ['1.0' '2.0' '3.0'] float32 <U32\n"
     ]
    }
   ],
   "source": [
    "b_str = b.astype(np.str_)\n",
    "print(b, b_str, b.dtype, b_str.dtype)"
   ]
  },
  {
   "cell_type": "markdown",
   "id": "750261a0",
   "metadata": {},
   "source": [
    "### Math Operations"
   ]
  },
  {
   "cell_type": "code",
   "execution_count": 35,
   "id": "a4cf9d33",
   "metadata": {},
   "outputs": [],
   "source": [
    "# shape should match or one array should be a scalar\n",
    "a = np.array([1, 2, 3])\n",
    "b = np.array([1, 2, 3])\n",
    "s = 5"
   ]
  },
  {
   "cell_type": "code",
   "execution_count": 36,
   "id": "63b62547",
   "metadata": {},
   "outputs": [
    {
     "name": "stdout",
     "output_type": "stream",
     "text": [
      "[2 4 6] [0 0 0] [1 1] [1 4 9] [1. 1. 1.] [ 2.71828183  7.3890561  20.08553692] [1.         1.41421356 1.73205081] 14 [ True  True  True] [ True False False] True False\n"
     ]
    }
   ],
   "source": [
    "# a and b shape matches\n",
    "print(np.add(a, b), # [2 4 6]\n",
    "      np.subtract(a, b), # [0 0 0]\n",
    "      np.diff(a), # [1 1] consecutive elementdifference\n",
    "      np.multiply(a, b), # [1 4 9]\n",
    "      np.divide(b, a), # [1. 1. 1.]\n",
    "      np.exp(a), # e^a_elements [ 2.71828183  7.3890561  20.08553692]\n",
    "      np.sqrt(b), # [1.         1.41421356 1.73205081]\n",
    "      np.dot(a,b), # matrix dot product: 14\n",
    "      \n",
    "      # Comparison Operations\n",
    "      a == b, # array operation (elementwise) [ True  True  True]\n",
    "      a < 2, # [ True False False]\n",
    "      np.array_equal(a, b), # arrray content comparision True\n",
    "      a is b, # array object with content comparision False\n",
    "     sep=' ')"
   ]
  },
  {
   "cell_type": "code",
   "execution_count": 37,
   "id": "4ba42a80",
   "metadata": {},
   "outputs": [
    {
     "name": "stdout",
     "output_type": "stream",
     "text": [
      "[6 7 8] [-4 -3 -2] [ 5 10 15] [0.2 0.4 0.6] 148.4131591025766 2.23606797749979 [ 5 10 15] [False False False] [ True  True  True] False False\n"
     ]
    }
   ],
   "source": [
    "# s is sclare and a is array\n",
    "print(np.add(a, s), # [6 7 8]\n",
    "      np.subtract(a, s), # [-4 -3 -2]\n",
    "      np.multiply(a, s), # [ 5 10 15]\n",
    "      np.divide(b, s), # [0.2 0.4 0.6]\n",
    "      np.exp(s), # e^5\n",
    "      np.sqrt(s), # sqrt(5)=2.23606797749979\n",
    "      np.dot(a,s), # element wise multiplycation: [ 5 10 15]\n",
    "    \n",
    "      # Comparison Operations\n",
    "      a == s, # elementwise comparision [False False False]\n",
    "      a < s, # [ True  True  True]\n",
    "      np.array_equal(a, s), # False\n",
    "      a is s, # False\n",
    "      sep=' ')"
   ]
  },
  {
   "cell_type": "code",
   "execution_count": 38,
   "id": "4492d431",
   "metadata": {},
   "outputs": [
    {
     "name": "stdout",
     "output_type": "stream",
     "text": [
      "(5, 2, 3)\n"
     ]
    }
   ],
   "source": [
    "# columns should be equal. compatible in all dimensions\n",
    "x = np.ones((2,3))\n",
    "y = np.full((5,1,3),4)\n",
    "z = x + y\n",
    "print(z.shape)\n",
    "# print(x,y,z)"
   ]
  },
  {
   "cell_type": "code",
   "execution_count": 39,
   "id": "3ee48bd5",
   "metadata": {},
   "outputs": [],
   "source": [
    "b = np.array([(1, 2), (3, 4)], dtype=float)\n",
    "# x + b # ValueError: operands could not be broadcast together with shapes (2,3) (2,2) "
   ]
  },
  {
   "cell_type": "code",
   "execution_count": 40,
   "id": "7f2d7909",
   "metadata": {
    "scrolled": true
   },
   "outputs": [
    {
     "name": "stdout",
     "output_type": "stream",
     "text": [
      "[inf inf inf]\n",
      "[-inf -inf -inf]\n"
     ]
    },
    {
     "name": "stderr",
     "output_type": "stream",
     "text": [
      "C:\\Users\\Vishnupriya\\AppData\\Local\\Temp\\ipykernel_33572\\2220532672.py:2: RuntimeWarning: divide by zero encountered in true_divide\n",
      "  print(np.divide(a, 0)) # [inf, inf, inf]\n",
      "C:\\Users\\Vishnupriya\\AppData\\Local\\Temp\\ipykernel_33572\\2220532672.py:3: RuntimeWarning: divide by zero encountered in true_divide\n",
      "  print(np.divide(-a, 0)) # [-inf, -inf, -inf]\n"
     ]
    }
   ],
   "source": [
    "# division by 0\n",
    "print(np.divide(a, 0)) # [inf, inf, inf]\n",
    "print(np.divide(-a, 0)) # [-inf, -inf, -inf]"
   ]
  },
  {
   "cell_type": "code",
   "execution_count": 41,
   "id": "4880dc92",
   "metadata": {},
   "outputs": [
    {
     "name": "stdout",
     "output_type": "stream",
     "text": [
      "[0.84147098 0.90929743 0.14112001]\n",
      "[ 0.54030231 -0.41614684 -0.9899925 ]\n",
      "[ 1.55740772 -2.18503986 -0.14254654]\n",
      "[0.         0.69314718 1.09861229]\n"
     ]
    }
   ],
   "source": [
    "print(np.sin(a), \n",
    "      np.cos(a), \n",
    "      np.tan(a), \n",
    "      np.log(a), sep='\\n')"
   ]
  },
  {
   "cell_type": "code",
   "execution_count": 42,
   "id": "e78dd406",
   "metadata": {},
   "outputs": [
    {
     "name": "stdout",
     "output_type": "stream",
     "text": [
      "[1. 2. 3.]\n",
      "[2. 3. 4.]\n"
     ]
    }
   ],
   "source": [
    "a = np.array([1.6, 2.2, 3.09])\n",
    "print(np.floor(a), \n",
    "      np.ceil(a), sep='\\n')"
   ]
  },
  {
   "cell_type": "markdown",
   "id": "e1b1e456",
   "metadata": {},
   "source": [
    "### Aggregate Functions"
   ]
  },
  {
   "cell_type": "code",
   "execution_count": 43,
   "id": "fa98844c",
   "metadata": {},
   "outputs": [
    {
     "name": "stdout",
     "output_type": "stream",
     "text": [
      "6 1 3 [1 3 6] 2.0 2.0 1.0\n"
     ]
    }
   ],
   "source": [
    "a = np.array([1, 2, 3])\n",
    "print(a.sum(), \n",
    "      a.min(), \n",
    "      a.max(), \n",
    "      a.cumsum(), \n",
    "      a.mean(), \n",
    "      np.median(a), \n",
    "      np.corrcoef(a), \n",
    "      sep=' ')"
   ]
  },
  {
   "cell_type": "code",
   "execution_count": 44,
   "id": "c6d79f13",
   "metadata": {},
   "outputs": [
    {
     "name": "stdout",
     "output_type": "stream",
     "text": [
      "20 1 6 [ 1  3  5  9 14 20] 3.3333333333333335 3.0\n",
      "[[1.        0.8660254]\n",
      " [0.8660254 1.       ]]\n"
     ]
    }
   ],
   "source": [
    "a = np.array([[1, 2, 2],[4, 5, 6]])\n",
    "print(a.sum(), \n",
    "      a.min(), \n",
    "      a.max(), \n",
    "      a.cumsum(), \n",
    "      a.mean(), \n",
    "      np.median(a), \n",
    "      sep=' ')\n",
    "print(np.corrcoef(a))"
   ]
  },
  {
   "cell_type": "code",
   "execution_count": 45,
   "id": "d0b0e2c8",
   "metadata": {},
   "outputs": [
    {
     "name": "stdout",
     "output_type": "stream",
     "text": [
      "[[ 1.         -0.98974332]\n",
      " [-0.98974332  1.        ]]\n"
     ]
    }
   ],
   "source": [
    "a = np.array([[10, 5, 2],[4, 5, 6]])\n",
    "print(np.corrcoef(a))"
   ]
  },
  {
   "cell_type": "markdown",
   "id": "efbf2361",
   "metadata": {},
   "source": [
    "### Statistical functions"
   ]
  },
  {
   "cell_type": "code",
   "execution_count": 46,
   "id": "1a072038",
   "metadata": {},
   "outputs": [
    {
     "name": "stdout",
     "output_type": "stream",
     "text": [
      "5.25 2.947456530637899 8.6875 4.5 4.5 6.25 10.0 14\n"
     ]
    }
   ],
   "source": [
    "a = np.array([10, 5, 2, 4])\n",
    "b = a.reshape(2,-1)\n",
    "\n",
    "print(np.mean(a),\n",
    "      np.std(a),\n",
    "      np.var(a),\n",
    "      np.median(a),\n",
    "      np.percentile(a, 50),\n",
    "      np.percentile(a, 75),\n",
    "      np.percentile(a, 100),\n",
    "      np.trace(b)) # 10+4"
   ]
  },
  {
   "cell_type": "markdown",
   "id": "4a9691c5",
   "metadata": {},
   "source": [
    "### copying"
   ]
  },
  {
   "cell_type": "code",
   "execution_count": 47,
   "id": "0a18b9ca",
   "metadata": {},
   "outputs": [
    {
     "name": "stdout",
     "output_type": "stream",
     "text": [
      "False True False\n"
     ]
    }
   ],
   "source": [
    "# Copying\n",
    "a = np.array([1, 2, 3])\n",
    "b = np.array([1, 2, 3])\n",
    "c = a\n",
    "print(a is b, a is c, b is c)"
   ]
  },
  {
   "cell_type": "code",
   "execution_count": 48,
   "id": "d3260bce",
   "metadata": {},
   "outputs": [
    {
     "name": "stdout",
     "output_type": "stream",
     "text": [
      "[10  2  3]\n",
      "[10  2  3]\n",
      "[ 1 20  3]\n",
      "[ 1  2 30]\n"
     ]
    }
   ],
   "source": [
    "d = a[:] # shallow copy\n",
    "e = np.copy(a) # deep copy\n",
    "f = a.copy() # deep copy\n",
    "d[0] = 10\n",
    "e[1] = 20\n",
    "f[2] = 30\n",
    "print(a)\n",
    "print(d)\n",
    "print(e)\n",
    "print(f)"
   ]
  },
  {
   "cell_type": "markdown",
   "id": "be4967ee",
   "metadata": {},
   "source": [
    "### views"
   ]
  },
  {
   "cell_type": "markdown",
   "id": "fd1a0225",
   "metadata": {},
   "source": [
    "Ex: Image processing\n",
    "1. Capture the image using the camera and convert it into a NumPy array.\n",
    "2. Create a view of the NumPy array to work with a specific region of the image (e.g., a rectangular portion).\n",
    "3. Apply the sepia filter to the view of the image, which modifies the pixel values directly in the view without copying the entire image data.\n",
    "4. Display the modified portion of the image in real-time."
   ]
  },
  {
   "cell_type": "code",
   "execution_count": 49,
   "id": "e64c1b9f",
   "metadata": {},
   "outputs": [
    {
     "name": "stdout",
     "output_type": "stream",
     "text": [
      "Original Array: [1 2 3 4 5]\n",
      "View Array: [2 3 4]\n",
      "View2: [1 2 3 4 5]\n",
      "Modified View Array: [100 100 100]\n",
      "Modified V2: [  1 200 100 100   5]\n",
      "Modified Original Array: [  1 200 100 100   5]\n"
     ]
    }
   ],
   "source": [
    "# use of view\n",
    "\n",
    "original_array = np.array([1, 2, 3, 4, 5])\n",
    "view_array = original_array[1:4]\n",
    "v2 = original_array.view()\n",
    "\n",
    "print(\"Original Array:\", original_array)\n",
    "print(\"View Array:\", view_array)\n",
    "print(\"View2:\", v2)\n",
    "\n",
    "# Modify the view array\n",
    "view_array[:] = 100\n",
    "print(\"Modified View Array:\", view_array)\n",
    "\n",
    "v2[1:2] = 200 \n",
    "print(\"Modified V2:\", v2) # changes from above view are also there\n",
    "\n",
    "print(\"Modified Original Array:\", original_array) # changes from all views existEx: Image processing"
   ]
  },
  {
   "cell_type": "markdown",
   "id": "ed1c7d1f",
   "metadata": {},
   "source": [
    "### Transpose"
   ]
  },
  {
   "cell_type": "code",
   "execution_count": 50,
   "id": "58ab81ad",
   "metadata": {},
   "outputs": [
    {
     "name": "stdout",
     "output_type": "stream",
     "text": [
      "(2, 3) (3, 2) (3, 2)\n"
     ]
    }
   ],
   "source": [
    "a = np.array([[1,2,3],[4,5,6]])\n",
    "# a = np.array([[1,2,3,4,5,6]])\n",
    "# a = np.array([1,2,3,4,5,6])\n",
    "\n",
    "b = np.transpose(a)\n",
    "c = a.T\n",
    "print(a.shape, b.shape, c.shape)"
   ]
  },
  {
   "cell_type": "markdown",
   "id": "b159bbb8",
   "metadata": {},
   "source": [
    "### Indexing, Subsetting, Slicing"
   ]
  },
  {
   "cell_type": "code",
   "execution_count": 51,
   "id": "848c10ec",
   "metadata": {},
   "outputs": [
    {
     "name": "stdout",
     "output_type": "stream",
     "text": [
      "[1 2 3]\n",
      "[4 5 6]\n",
      "[5 6]\n",
      "6\n",
      "6\n"
     ]
    }
   ],
   "source": [
    "a = np.array([[1,2,3],[4,5,6]])\n",
    "print(a[0], \n",
    "      a[-1],\n",
    "      a[a > 4], # boolean indexing\n",
    "      a[-1][-1], # subsetting\n",
    "      a[-1, -1],\n",
    "      sep='\\n')"
   ]
  },
  {
   "cell_type": "code",
   "execution_count": 52,
   "id": "31015b1d",
   "metadata": {},
   "outputs": [
    {
     "name": "stdout",
     "output_type": "stream",
     "text": [
      "[[4 5 6]]\n",
      "[4 5 6]\n",
      "[3 6]\n",
      "[2 5]\n",
      "[[2 3]]\n",
      "[4 5 6]\n",
      "[1 2 6 6]\n",
      "[5 4]\n"
     ]
    }
   ],
   "source": [
    "print(a[1:], # slicing\n",
    "      a[-1, :], \n",
    "      a[:, 2], \n",
    "      a[:2, 1], \n",
    "      a[:1,1:],\n",
    "      a[1, ...], # a[1,:]\n",
    "      a[[0, 0, -1, 1], [0, 1, -1, 2]], \n",
    "      a[1,-2:-4:-1],\n",
    "     sep='\\n')"
   ]
  },
  {
   "cell_type": "code",
   "execution_count": 53,
   "id": "ee8be503",
   "metadata": {},
   "outputs": [
    {
     "name": "stdout",
     "output_type": "stream",
     "text": [
      "[[4 5 6]\n",
      " [1 2 3]\n",
      " [4 5 6]\n",
      " [1 2 3]]\n",
      "[[4 5 6]\n",
      " [1 2 3]\n",
      " [4 5 6]\n",
      " [1 2 3]]\n",
      "[[4 5 6 5]\n",
      " [1 2 3 2]\n",
      " [4 5 6 5]\n",
      " [1 2 3 2]]\n"
     ]
    }
   ],
   "source": [
    "# fancy indexing\n",
    "print(a[[1,0,1,0]], # select rows\n",
    "      a[[1,0,1,0]][:], # select rows and all columns \n",
    "      a[[1,0,1,0]][:,[0,1,2,1]], # select rows and specified columns\n",
    "      sep=\"\\n\")"
   ]
  },
  {
   "cell_type": "markdown",
   "id": "f6cc2bf8",
   "metadata": {},
   "source": [
    "### array manipulation"
   ]
  },
  {
   "cell_type": "code",
   "execution_count": 54,
   "id": "5859c790",
   "metadata": {},
   "outputs": [
    {
     "name": "stdout",
     "output_type": "stream",
     "text": [
      "(4, 3)\n",
      "[[ 1  2  3]\n",
      " [ 4  5  6]\n",
      " [ 7  8  9]\n",
      " [10 11 12]]\n"
     ]
    }
   ],
   "source": [
    "a = np.array([[1, 2, 3], [4, 5, 6], [7,8,9],[10,11,12]])\n",
    "print(a.shape)\n",
    "print(a)"
   ]
  },
  {
   "cell_type": "code",
   "execution_count": 55,
   "id": "89d5404d",
   "metadata": {},
   "outputs": [
    {
     "name": "stdout",
     "output_type": "stream",
     "text": [
      "reshaped_a (3, 4)\n",
      "[[ 1  2  3  4]\n",
      " [ 5  6  7  8]\n",
      " [ 9 10 11 12]]\n"
     ]
    }
   ],
   "source": [
    "# Reshape array 'a' into a 3x3 matrix\n",
    "reshaped_a = a.reshape((3, 4))\n",
    "print('reshaped_a',reshaped_a.shape)\n",
    "print(reshaped_a)"
   ]
  },
  {
   "cell_type": "code",
   "execution_count": 56,
   "id": "a7bcfd77",
   "metadata": {},
   "outputs": [
    {
     "name": "stdout",
     "output_type": "stream",
     "text": [
      "reshaped_a (1, 12)\n",
      "[[ 1  2  3  4  5  6  7  8  9 10 11 12]]\n"
     ]
    }
   ],
   "source": [
    "# -1 evaluates the last value in reshape according to the total number of elements in the array\n",
    "reshaped_a = a.reshape((1,-1)) \n",
    "print('reshaped_a',reshaped_a.shape)\n",
    "print(reshaped_a)"
   ]
  },
  {
   "cell_type": "code",
   "execution_count": 57,
   "id": "20a0f459",
   "metadata": {},
   "outputs": [
    {
     "name": "stdout",
     "output_type": "stream",
     "text": [
      "reshaped_a (2, 6)\n",
      "[[ 1  2  3  4  5  6]\n",
      " [ 7  8  9 10 11 12]]\n"
     ]
    }
   ],
   "source": [
    "reshaped_a = a.reshape((2,-1)) # \n",
    "print('reshaped_a',reshaped_a.shape)\n",
    "print(reshaped_a)"
   ]
  },
  {
   "cell_type": "code",
   "execution_count": 58,
   "id": "868375bb",
   "metadata": {},
   "outputs": [
    {
     "name": "stdout",
     "output_type": "stream",
     "text": [
      "reshaped_a (1, 3, 4)\n",
      "[[[ 1  2  3  4]\n",
      "  [ 5  6  7  8]\n",
      "  [ 9 10 11 12]]]\n"
     ]
    }
   ],
   "source": [
    "reshaped_a = a.reshape((1,3,-1)) # \n",
    "print('reshaped_a',reshaped_a.shape)\n",
    "print(reshaped_a)"
   ]
  },
  {
   "cell_type": "code",
   "execution_count": 59,
   "id": "862cab98",
   "metadata": {},
   "outputs": [
    {
     "name": "stdout",
     "output_type": "stream",
     "text": [
      "resized_a (2, 4)\n",
      "[[1 2 3 4]\n",
      " [5 6 7 8]]\n"
     ]
    }
   ],
   "source": [
    "# Resize array 'a' to a new shape (2x4), potentially repeating elements\n",
    "resized_a = np.resize(a, (2, 4)) # data loss possible\n",
    "print('resized_a',resized_a.shape)\n",
    "print(resized_a)"
   ]
  },
  {
   "cell_type": "code",
   "execution_count": 60,
   "id": "a45a0174",
   "metadata": {},
   "outputs": [
    {
     "name": "stdout",
     "output_type": "stream",
     "text": [
      "raveled_a [ 1  2  3  4  5  6  7  8  9 10 11 12]\n",
      "flattened_a [ 1  2  3  4  5  6  7  8  9 10 11 12]\n",
      "appended_a [ 1  2  3  4  5  6  7  8  9 10 11 12  7]\n",
      "inserted_a [  1   2 300   3   4   5   6   7   8   9  10  11  12]\n",
      "deleted_a [ 1  2  3  4  5  6  7  8  9 10 11]\n"
     ]
    }
   ],
   "source": [
    "# Flatten array 'a' (convert multi-dimensional array to a 1D array)\n",
    "raveled_a = np.ravel(a)\n",
    "print('raveled_a',raveled_a)\n",
    "\n",
    "# Flatten array 'a' using the default row-major order (equivalent to np.ravel(a))\n",
    "flattened_a = a.flatten()\n",
    "print('flattened_a',flattened_a)\n",
    "\n",
    "# Append value 7 to the end of array 'a'\n",
    "appended_a = np.append(a, 7)\n",
    "print('appended_a',appended_a)\n",
    "\n",
    "# Insert value 3 into array 'a' at index 2\n",
    "inserted_a = np.insert(a, 2, 300)\n",
    "print('inserted_a',inserted_a)\n",
    "\n",
    "# Delete element at index 2from array 'a'\n",
    "deleted_a = np.delete(a, 11)\n",
    "print('deleted_a',deleted_a)\n",
    "# print(a)"
   ]
  },
  {
   "cell_type": "markdown",
   "id": "c400588f",
   "metadata": {},
   "source": [
    "### Sorting Arrays"
   ]
  },
  {
   "cell_type": "markdown",
   "id": "c2f25a8f",
   "metadata": {},
   "source": [
    "- **axis = 0 => vertical axis**\n",
    "- **axis = 1 => horizontal axis**"
   ]
  },
  {
   "cell_type": "code",
   "execution_count": 61,
   "id": "4e047bcb",
   "metadata": {},
   "outputs": [
    {
     "name": "stdout",
     "output_type": "stream",
     "text": [
      "[[1 2 3]\n",
      " [4 5 6]\n",
      " [7 8 9]]\n"
     ]
    },
    {
     "data": {
      "text/plain": [
       "(array([12, 15, 18]), array([ 6, 15, 24]), 45)"
      ]
     },
     "execution_count": 61,
     "metadata": {},
     "output_type": "execute_result"
    }
   ],
   "source": [
    "# demonstrating axis\n",
    "arr = np.array([[1, 2, 3], [4, 5, 6], [7, 8, 9]])\n",
    "print(arr)\n",
    "arr.sum(axis=0), arr.sum(axis=1), arr.sum(axis=None) # default"
   ]
  },
  {
   "cell_type": "code",
   "execution_count": 62,
   "id": "b2b100bd",
   "metadata": {},
   "outputs": [
    {
     "name": "stdout",
     "output_type": "stream",
     "text": [
      "[[30 10  1]\n",
      " [ 6 50  3]]\n"
     ]
    }
   ],
   "source": [
    "a = np.array([[30,10,1], [6,50,3]])\n",
    "print(a)"
   ]
  },
  {
   "cell_type": "code",
   "execution_count": 63,
   "id": "9d92aa15",
   "metadata": {},
   "outputs": [
    {
     "name": "stdout",
     "output_type": "stream",
     "text": [
      "[[ 1 10 30]\n",
      " [ 3  6 50]]\n"
     ]
    }
   ],
   "source": [
    "a.sort(axis=1) # horizontal axis\n",
    "print(a)"
   ]
  },
  {
   "cell_type": "code",
   "execution_count": 64,
   "id": "6e0c8704",
   "metadata": {},
   "outputs": [
    {
     "name": "stdout",
     "output_type": "stream",
     "text": [
      "[[ 1  6 30]\n",
      " [ 3 10 50]]\n"
     ]
    }
   ],
   "source": [
    "a.sort(axis=0) # vertical axis\n",
    "print(a) # original is affected"
   ]
  },
  {
   "cell_type": "code",
   "execution_count": 65,
   "id": "47920d24",
   "metadata": {},
   "outputs": [
    {
     "name": "stdout",
     "output_type": "stream",
     "text": [
      "[[ 1 10 30]\n",
      " [ 3  6 50]]\n"
     ]
    }
   ],
   "source": [
    "a = np.array([[30,10,1], [6,50,3]])\n",
    "a.sort(axis=-1) # last axis\n",
    "print(a)"
   ]
  },
  {
   "cell_type": "code",
   "execution_count": 66,
   "id": "5bf80411",
   "metadata": {},
   "outputs": [
    {
     "name": "stdout",
     "output_type": "stream",
     "text": [
      "[[ 1 10 30]\n",
      " [ 3  6 50]]\n",
      "[[30 10  1]\n",
      " [ 6 50  3]]\n"
     ]
    }
   ],
   "source": [
    "a = np.array([[30,10,1], [6,50,3]])\n",
    "b = np.sort(a) # original is not affected\n",
    "print(b)\n",
    "print(a)"
   ]
  },
  {
   "cell_type": "markdown",
   "id": "76cf5a90",
   "metadata": {},
   "source": [
    "### Combining arrays"
   ]
  },
  {
   "cell_type": "code",
   "execution_count": 67,
   "id": "ee6ddd3d",
   "metadata": {},
   "outputs": [
    {
     "name": "stdout",
     "output_type": "stream",
     "text": [
      "[[1. 2.]\n",
      " [3. 4.]]\n",
      "[[5. 6.]\n",
      " [7. 8.]]\n"
     ]
    }
   ],
   "source": [
    "a = np.array([(1, 2), (3, 4)], dtype=float)\n",
    "b = np.array([(5, 6), (7, 8)], dtype=float)\n",
    "print(a)\n",
    "print(b)"
   ]
  },
  {
   "cell_type": "code",
   "execution_count": 68,
   "id": "022b361b",
   "metadata": {},
   "outputs": [
    {
     "data": {
      "text/plain": [
       "array([[1., 2.],\n",
       "       [3., 4.],\n",
       "       [5., 6.],\n",
       "       [7., 8.]])"
      ]
     },
     "execution_count": 68,
     "metadata": {},
     "output_type": "execute_result"
    }
   ],
   "source": [
    "np.vstack((a, b))"
   ]
  },
  {
   "cell_type": "code",
   "execution_count": 69,
   "id": "d2563602",
   "metadata": {},
   "outputs": [
    {
     "data": {
      "text/plain": [
       "array([[1., 2., 5., 6.],\n",
       "       [3., 4., 7., 8.]])"
      ]
     },
     "execution_count": 69,
     "metadata": {},
     "output_type": "execute_result"
    }
   ],
   "source": [
    "np.hstack((a, b))"
   ]
  },
  {
   "cell_type": "code",
   "execution_count": 70,
   "id": "6a7675e2",
   "metadata": {},
   "outputs": [
    {
     "data": {
      "text/plain": [
       "array([[1., 2.],\n",
       "       [3., 4.],\n",
       "       [5., 6.],\n",
       "       [7., 8.]])"
      ]
     },
     "execution_count": 70,
     "metadata": {},
     "output_type": "execute_result"
    }
   ],
   "source": [
    "np.concatenate((a, b), axis=0) # vstack"
   ]
  },
  {
   "cell_type": "code",
   "execution_count": 71,
   "id": "f4e80990",
   "metadata": {},
   "outputs": [
    {
     "data": {
      "text/plain": [
       "array([[1., 2., 5., 6.],\n",
       "       [3., 4., 7., 8.]])"
      ]
     },
     "execution_count": 71,
     "metadata": {},
     "output_type": "execute_result"
    }
   ],
   "source": [
    "np.concatenate((a, b), axis=1) # hstack"
   ]
  },
  {
   "cell_type": "markdown",
   "id": "dbb9ec02",
   "metadata": {},
   "source": [
    "### Splitting arrays"
   ]
  },
  {
   "cell_type": "code",
   "execution_count": 72,
   "id": "ea04d0db",
   "metadata": {},
   "outputs": [
    {
     "name": "stdout",
     "output_type": "stream",
     "text": [
      "[[1. 2.]\n",
      " [3. 4.]\n",
      " [5. 6.]]\n"
     ]
    }
   ],
   "source": [
    "a = np.array([(1, 2), (3, 4), (5,6)], dtype=float)\n",
    "print(a)"
   ]
  },
  {
   "cell_type": "code",
   "execution_count": 73,
   "id": "4ef75ef0",
   "metadata": {
    "scrolled": true
   },
   "outputs": [
    {
     "name": "stdout",
     "output_type": "stream",
     "text": [
      "[[1. 2.]]\n",
      "[[3. 4.]]\n",
      "[[5. 6.]]\n"
     ]
    }
   ],
   "source": [
    "a1, a2, a3 = np.vsplit(a, 3) # each row is splitted\n",
    "print(a1)\n",
    "print(a2)\n",
    "print(a3)"
   ]
  },
  {
   "cell_type": "code",
   "execution_count": 74,
   "id": "6b39b3e0",
   "metadata": {},
   "outputs": [
    {
     "name": "stdout",
     "output_type": "stream",
     "text": [
      "[[1.]\n",
      " [3.]\n",
      " [5.]]\n",
      "[[2.]\n",
      " [4.]\n",
      " [6.]]\n"
     ]
    }
   ],
   "source": [
    "a1, a2 = np.hsplit(a, 2) # each column is splitted\n",
    "print(a1)\n",
    "print(a2)"
   ]
  },
  {
   "cell_type": "markdown",
   "id": "83d64df0",
   "metadata": {},
   "source": [
    "### Data analysis functions"
   ]
  },
  {
   "cell_type": "code",
   "execution_count": 75,
   "id": "f04e6d5a",
   "metadata": {},
   "outputs": [
    {
     "name": "stdout",
     "output_type": "stream",
     "text": [
      "[[1 2]\n",
      " [8 4]\n",
      " [8 6]]\n",
      "[1 2 8 4 8 6]\n",
      "[inf  5. nan]\n"
     ]
    }
   ],
   "source": [
    "a = np.array([(1, 2), (8, 4), (8,6)], dtype=int)\n",
    "f = a.ravel()\n",
    "t = np.array([np.inf, 5, np.nan])\n",
    "print(a)\n",
    "print(f)\n",
    "print(t)"
   ]
  },
  {
   "cell_type": "code",
   "execution_count": 76,
   "id": "9cf9e17d",
   "metadata": {},
   "outputs": [
    {
     "name": "stdout",
     "output_type": "stream",
     "text": [
      "[0 1 3 5 2 4] 2 0 (array([1, 2, 2], dtype=int64), array([0, 0, 1], dtype=int64))\n"
     ]
    }
   ],
   "source": [
    "# indicies\n",
    "print(np.argsort(f), \n",
    "      np.argmax(a),\n",
    "      np.argmin(a),\n",
    "      np.where(a > 5),\n",
    "     )"
   ]
  },
  {
   "cell_type": "code",
   "execution_count": 77,
   "id": "2bbac5aa",
   "metadata": {},
   "outputs": [
    {
     "name": "stdout",
     "output_type": "stream",
     "text": [
      "[0 1 1 0 1 0 1 0 2]\n",
      "(array([2, 1, 1, 2], dtype=int64), array([1.  , 2.75, 4.5 , 6.25, 8.  ]))\n",
      "[ True False False]\n",
      "[False False  True]\n",
      "[8 6 1]\n"
     ]
    }
   ],
   "source": [
    "# \n",
    "print(\n",
    "      np.bincount(f), # count of 0 to 8 values\n",
    "      np.histogram(a, bins=4), # count of values across 4 bins\n",
    "      np.isinf(t),\n",
    "      np.isnan(t),\n",
    "      np.random.choice(f, size=3),\n",
    "      sep='\\n')"
   ]
  },
  {
   "cell_type": "code",
   "execution_count": 78,
   "id": "5e6af4fe",
   "metadata": {},
   "outputs": [
    {
     "name": "stdout",
     "output_type": "stream",
     "text": [
      "[1 2 4 6 8] [1 1 1 1 2]\n"
     ]
    }
   ],
   "source": [
    "unq_ele, counts = np.unique(a, return_counts=True)\n",
    "print(unq_ele, counts)"
   ]
  },
  {
   "cell_type": "markdown",
   "id": "9d807762",
   "metadata": {},
   "source": [
    "### masked arrays"
   ]
  },
  {
   "cell_type": "code",
   "execution_count": 79,
   "id": "70f9ff18",
   "metadata": {},
   "outputs": [
    {
     "name": "stdout",
     "output_type": "stream",
     "text": [
      "Original Data: [  10   20 -999   30 -999   40   50 -999]\n",
      "Masked Array: [10 20 -- 30 -- 40 50 --]\n"
     ]
    }
   ],
   "source": [
    "# Create a regular NumPy array with some missing values (e.g., represented by -999)\n",
    "data = np.array([10, 20, -999, 30, -999, 40, 50, -999])\n",
    "\n",
    "# Create a masked array by specifying the condition for missing values\n",
    "masked_data = np.ma.masked_where(data == -999, data)\n",
    "\n",
    "print(\"Original Data:\", data)\n",
    "print(\"Masked Array:\", masked_data)"
   ]
  },
  {
   "cell_type": "code",
   "execution_count": 80,
   "id": "0d872f9d",
   "metadata": {},
   "outputs": [
    {
     "name": "stdout",
     "output_type": "stream",
     "text": [
      "Mean: 30.0\n",
      "Sum: 150\n"
     ]
    }
   ],
   "source": [
    "# Perform calculations on the masked array (missing values will be ignored)\n",
    "mean = np.mean(masked_data)\n",
    "sum = np.sum(masked_data)\n",
    "\n",
    "print(\"Mean:\", mean)\n",
    "print(\"Sum:\", sum)"
   ]
  }
 ],
 "metadata": {
  "kernelspec": {
   "display_name": "Python 3 (ipykernel)",
   "language": "python",
   "name": "python3"
  },
  "language_info": {
   "codemirror_mode": {
    "name": "ipython",
    "version": 3
   },
   "file_extension": ".py",
   "mimetype": "text/x-python",
   "name": "python",
   "nbconvert_exporter": "python",
   "pygments_lexer": "ipython3",
   "version": "3.9.16"
  }
 },
 "nbformat": 4,
 "nbformat_minor": 5
}
